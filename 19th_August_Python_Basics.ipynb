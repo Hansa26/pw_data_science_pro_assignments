{
 "cells": [
  {
   "cell_type": "markdown",
   "id": "8a56734b-7c8c-4a89-b292-99dbaae76367",
   "metadata": {},
   "source": [
    "TOPIC: Python Basics Variable"
   ]
  },
  {
   "cell_type": "markdown",
   "id": "e8f44829-5610-40d1-a620-9e637493251c",
   "metadata": {},
   "source": [
    "1. Declare two variables, `x` and `y`, and assign them integer values. Swap the\n",
    "values of these variables without using any temporary variable.\n"
   ]
  },
  {
   "cell_type": "code",
   "execution_count": 36,
   "id": "26e336f7-b520-42c5-a71c-33e19d86897e",
   "metadata": {},
   "outputs": [
    {
     "name": "stdout",
     "output_type": "stream",
     "text": [
      "The value of x before swapping = 20\n",
      "The vlue of y before swapping = 30\n",
      "The value of x after swapping = 30\n",
      "The vlue of y after swapping = 20\n"
     ]
    }
   ],
   "source": [
    "\"\"\"\n",
    "This program is to swap the values of the variables without using any temporary variable\n",
    "variables: x and y\n",
    "\"\"\"\n",
    "# declaring variables x and y and assigning them 20 and 30 respectively\n",
    "x = 20\n",
    "y = 30\n",
    "\n",
    "# print the variables before swapping\n",
    "print(f\"The value of x before swapping = {x}\\nThe vlue of y before swapping = {y}\")\n",
    "\n",
    "# Logic to the two variables without using temporary variable\n",
    "\n",
    "x = x+y # adding the two numbers and storing it in x\n",
    "y = x-y # subtracting y (30) from x would give the value of x and will be stored in y\n",
    "x = x-y # subracting y (20) (obtained in above statement) from x would give value 30 (y's initial value) and this would be stored in x\n",
    "\n",
    "# print the resultants after swapping\n",
    "print(f\"The value of x after swapping = {x}\\nThe vlue of y after swapping = {y}\")"
   ]
  },
  {
   "cell_type": "markdown",
   "id": "5cf9bcde-dd28-479b-a414-569248a196bc",
   "metadata": {},
   "source": [
    "2. Create a program that calculates the area of a rectangle. Take the length and\n",
    "width as inputs from the user and store them in variables. Calculate and\n",
    "display the area."
   ]
  },
  {
   "cell_type": "code",
   "execution_count": 38,
   "id": "13335f27-d3d8-468c-9ce1-5331ea22414b",
   "metadata": {},
   "outputs": [
    {
     "name": "stdin",
     "output_type": "stream",
     "text": [
      "Enter the length of the rectangle:  11.6\n",
      "Enter the breadth of the rectangle:  12.5\n"
     ]
    },
    {
     "name": "stdout",
     "output_type": "stream",
     "text": [
      "The area of the rectangle is: 145.0\n"
     ]
    }
   ],
   "source": [
    "\"\"\"\n",
    "This program is to calculate the area of the rectangle\n",
    "input: length and breadth - datatypes: float\n",
    "output: area of a rectangle\n",
    "\"\"\"\n",
    "\n",
    "# taking the input from the user\n",
    "length = float(input(f\"Enter the length of the rectangle: \"))\n",
    "breadth = float(input(f\"Enter the breadth of the rectangle: \"))\n",
    "\n",
    "# area of the rectangle is given by area = lenght X breadth\n",
    "area = length * breadth\n",
    "\n",
    "# printing the resultant area\n",
    "print(f\"The area of the rectangle is: {area}\")"
   ]
  },
  {
   "cell_type": "markdown",
   "id": "feff0056-f502-4cc1-81e2-aaf39098f2d9",
   "metadata": {},
   "source": [
    "3. Write a Python program that converts temperatures from Celsius to\n",
    "Fahrenheit. Take the temperature in Celsius as input, store it in a variable,\n",
    "convert it to Fahrenheit, and display the result."
   ]
  },
  {
   "cell_type": "code",
   "execution_count": 39,
   "id": "fb8b1200-7810-4284-823d-6d6f1fd5f7ed",
   "metadata": {},
   "outputs": [
    {
     "name": "stdin",
     "output_type": "stream",
     "text": [
      "Enter the value of deg. Celsius:  103.2\n"
     ]
    },
    {
     "name": "stdout",
     "output_type": "stream",
     "text": [
      "The converted deg. fahrenheit is: 217.76000000000002\n"
     ]
    }
   ],
   "source": [
    "\"\"\"\n",
    "This program is to convert the temperatures from deg. Celsius to deg. Fahrenheit\n",
    "input: celsius - datatype: float\n",
    "output: converted deg. Fahrenheit\n",
    "\"\"\"\n",
    "# taking the input from the enduser of deg. Celsius\n",
    "celsius = float(input(\"Enter the value of deg. Celsius: \"))\n",
    "\n",
    "# formula to convert deg. celsius to deg. fahrenheit is (0°C × 9/5) + 32 = 32°F\n",
    "fahrenheit = ((celsius * (9/5)) + 32)\n",
    "\n",
    "# printing the resultant of the converted fahrenheit\n",
    "print(f\"The converted deg. fahrenheit is: {fahrenheit}\")"
   ]
  },
  {
   "cell_type": "code",
   "execution_count": null,
   "id": "45019c9a-1bf8-4f66-8c26-fb616f0104bf",
   "metadata": {},
   "outputs": [],
   "source": []
  },
  {
   "cell_type": "code",
   "execution_count": null,
   "id": "255ee1c8-e6b3-4ac3-b458-a3ac3d12eda6",
   "metadata": {},
   "outputs": [],
   "source": []
  },
  {
   "cell_type": "markdown",
   "id": "4b4478ef-ac58-4d4c-8eaa-51faa7e05736",
   "metadata": {},
   "source": [
    "TOPIC: String Based Questions"
   ]
  },
  {
   "cell_type": "markdown",
   "id": "b1fe88d8-9483-4820-a79b-03a95b998b5c",
   "metadata": {},
   "source": [
    "1. Write a Python program that takes a string as input and prints the length of\n",
    "the string."
   ]
  },
  {
   "cell_type": "code",
   "execution_count": 25,
   "id": "85ebfbc3-ff50-4bbc-a2f7-ad127bd2f6b8",
   "metadata": {},
   "outputs": [
    {
     "name": "stdin",
     "output_type": "stream",
     "text": [
      "Enter the some string:  Our great secret with Python was we got rid of punchlines.\n"
     ]
    },
    {
     "name": "stdout",
     "output_type": "stream",
     "text": [
      "The length of 'Our great secret with Python was we got rid of punchlines.' is '58'\n"
     ]
    }
   ],
   "source": [
    "\"\"\"\n",
    "This program would give the length of the input string\n",
    "input: a string\n",
    "output: lenght of the input string\n",
    "\"\"\"\n",
    "\n",
    "# take input from the enduser \n",
    "string = input(\"Enter the some string: \")\n",
    "\n",
    "# calculate the length of the string\n",
    "length_of_the_string = len(string)\n",
    "\n",
    "# print the resultant\n",
    "print(f\"The length of '{string}' is '{length_of_the_string}'\")"
   ]
  },
  {
   "cell_type": "markdown",
   "id": "60bbc181-91ac-406d-a074-b6f2d24bf12d",
   "metadata": {},
   "source": [
    "2. Create a program that takes a sentence from the user and counts the number\n",
    "of vowels (a, e, i, o, u) in the string."
   ]
  },
  {
   "cell_type": "code",
   "execution_count": 26,
   "id": "b1f0e7f4-7aed-42d9-b639-4554390a50fe",
   "metadata": {},
   "outputs": [
    {
     "name": "stdin",
     "output_type": "stream",
     "text": [
      "Enter some string:  Our great secret with Python was we got rid of punchlines.\n"
     ]
    },
    {
     "name": "stdout",
     "output_type": "stream",
     "text": [
      "The number of vowels (including repetition) in 'Our great secret with Python was we got rid of punchlines.' is '15'\n"
     ]
    }
   ],
   "source": [
    "\"\"\"\n",
    "This program is to count the number of vowels in the input string\n",
    "input: a string\n",
    "output: the number of vowels (a, e, i, o, u)\n",
    "\"\"\"\n",
    "\n",
    "# take the input from enduser\n",
    "string_ = input(\"Enter some string: \")\n",
    "\n",
    "# storing the vowels in a list\n",
    "vowels = ['a', 'e', 'i', 'o', 'u']\n",
    "\n",
    "# initiating the counter\n",
    "counter = 0\n",
    "\n",
    "# iterating over the lenght of the string in order to get the count of vowels present inside the given input string\n",
    "for i in range(len(string_)):\n",
    "    if string_[i] in vowels: # if the iterated character is a vowel, it would increment the counter by 1\n",
    "        counter += 1\n",
    "\n",
    "# print the resultant         \n",
    "print(f\"The number of vowels (including repetition) in '{string_}' is '{counter}'\")"
   ]
  },
  {
   "cell_type": "markdown",
   "id": "23746066-8e48-4788-8cff-610dedc43d9e",
   "metadata": {},
   "source": [
    "3. Given a string, reverse the order of characters using string slicing and print\n",
    "the reversed string."
   ]
  },
  {
   "cell_type": "code",
   "execution_count": 27,
   "id": "ba67a74b-1cc5-440c-b36b-a4d0873db9f9",
   "metadata": {},
   "outputs": [
    {
     "name": "stdout",
     "output_type": "stream",
     "text": [
      "The reversed string of 'Magnificent' is 'tnecifingaM'\n"
     ]
    }
   ],
   "source": [
    "\"\"\"\n",
    "This program is to reverse the order of characters using slicing\n",
    "input: a string\n",
    "output: reversed string\n",
    "\"\"\"\n",
    "\n",
    "given_string = \"Magnificent\"\n",
    "\n",
    "# reverse the string using slicing\n",
    "reversed_string = given_string[::-1]\n",
    "\n",
    "# printing the reversed string\n",
    "print(f\"The reversed string of '{given_string}' is '{reversed_string}'\")\n"
   ]
  },
  {
   "cell_type": "markdown",
   "id": "06a4bb10-28c2-4d7c-ac90-af0a3f0e0c2a",
   "metadata": {},
   "source": [
    "4. Write a program that takes a string as input and checks if it is a palindrome\n",
    "(reads the same forwards and backwards)."
   ]
  },
  {
   "cell_type": "code",
   "execution_count": 30,
   "id": "2a174a76-7489-4cf0-aff5-580f932ac682",
   "metadata": {},
   "outputs": [
    {
     "name": "stdin",
     "output_type": "stream",
     "text": [
      "Enter some string to check for palindrome:  Rotator\n"
     ]
    },
    {
     "name": "stdout",
     "output_type": "stream",
     "text": [
      "The given string 'Rotator' is a PALINDROME\n"
     ]
    }
   ],
   "source": [
    "\"\"\"\n",
    "This program is to check for palindrome\n",
    "input: a string\n",
    "output: is palindrome or not\n",
    "\"\"\"\n",
    "\n",
    "# take input from the enduser\n",
    "some_string = input(\"Enter some string to check for palindrome: \")\n",
    "\n",
    "# reveres string should be same as input string, then it is a palindrome\n",
    "reversed_some_string = some_string[::-1]\n",
    "\n",
    "if reversed_some_string.lower() == some_string.lower():\n",
    "    print(f\"The given string '{some_string}' is a PALINDROME\")\n",
    "else:\n",
    "    print(f\"The given string '{some_string}' is NOT A PALINDROME\")"
   ]
  },
  {
   "cell_type": "markdown",
   "id": "3641a3be-090d-4ea3-b0a3-bb25134f5e28",
   "metadata": {},
   "source": [
    "5. Create a program that takes a string as input and removes all the spaces from\n",
    "it. Print the modified string without spaces."
   ]
  },
  {
   "cell_type": "code",
   "execution_count": 35,
   "id": "94d9069d-5fa7-474c-8e2a-ada145e9db3f",
   "metadata": {},
   "outputs": [
    {
     "name": "stdin",
     "output_type": "stream",
     "text": [
      "Enter some random string or sentence with spaces:     Some species   of python have been measured at over 28   feet    long.     \n"
     ]
    },
    {
     "name": "stdout",
     "output_type": "stream",
     "text": [
      "The modified string of the given string '   Some species   of python have been measured at over 28   feet    long.     ' is 'Somespeciesofpythonhavebeenmeasuredatover28feetlong.'\n"
     ]
    }
   ],
   "source": [
    "\"\"\"\n",
    "This program is to strip all the spaces from a input string\n",
    "input: a string\n",
    "output: modified string without any spaces\n",
    "\"\"\"\n",
    "\n",
    "# take the input from enduser\n",
    "spaced_string = input(\"Enter some random string or sentence with spaces: \")\n",
    "\n",
    "# logic to remove the spaces from string is replacing a space with nothing\n",
    "no_spaced_string = spaced_string.replace(\" \", '')\n",
    "\n",
    "\n",
    "# print the resultant\n",
    "print(f\"The modified string of the given string '{spaced_string}' is '{no_spaced_string}'\")\n"
   ]
  }
 ],
 "metadata": {
  "kernelspec": {
   "display_name": "Python 3 (ipykernel)",
   "language": "python",
   "name": "python3"
  },
  "language_info": {
   "codemirror_mode": {
    "name": "ipython",
    "version": 3
   },
   "file_extension": ".py",
   "mimetype": "text/x-python",
   "name": "python",
   "nbconvert_exporter": "python",
   "pygments_lexer": "ipython3",
   "version": "3.10.8"
  }
 },
 "nbformat": 4,
 "nbformat_minor": 5
}
