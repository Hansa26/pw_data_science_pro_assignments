{
 "cells": [
  {
   "cell_type": "markdown",
   "id": "7c586c28-83f1-454b-a3fa-2fd79673deb6",
   "metadata": {},
   "source": [
    "# Python OOPS"
   ]
  },
  {
   "cell_type": "raw",
   "id": "3e3cd9e5-f469-4c12-add4-eb0396e1881f",
   "metadata": {},
   "source": [
    "# Check Lists to implement\n",
    "\n",
    "1. try - except block\n",
    "2. Logging\n",
    "3. Docstring\n",
    "4. Comments\n",
    "5. PEP 8 rules"
   ]
  },
  {
   "cell_type": "markdown",
   "id": "810630bf-ee6c-4e61-aa16-dbe36f7bf3d4",
   "metadata": {
    "tags": []
   },
   "source": [
    "Problem 1: Bank Account\n",
    "-----------------------\n",
    "Create a class representing a bank account with attributes like account number, account holder name, and balance. Implement methods to deposit and withdraw money from the account."
   ]
  },
  {
   "cell_type": "code",
   "execution_count": 1,
   "id": "78e79ef1-9ccd-40d8-90ef-d305ceadc844",
   "metadata": {},
   "outputs": [],
   "source": [
    "import logging as logger\n",
    "\n",
    "logger.basicConfig(filename=\"python_oops_logging.log\", filemode=\"a\", level=logger.DEBUG, format='%(levelname)s-%(asctime)s-%(message)s')"
   ]
  },
  {
   "cell_type": "code",
   "execution_count": 2,
   "id": "2a952438-e354-4940-ac71-510680983ba5",
   "metadata": {},
   "outputs": [
    {
     "name": "stdout",
     "output_type": "stream",
     "text": [
      "Welcome to PW Bank!\n"
     ]
    },
    {
     "name": "stdin",
     "output_type": "stream",
     "text": [
      "Our Menu:\n",
      "1. Open Account\n",
      "2. Close Account\n",
      "3. Deposit\n",
      "4. Withdraw\n",
      "5. Balance\n",
      "6. Exit\n",
      " 1\n",
      "Please enter your name:  Hansa\n",
      "Please enter your mobile number:  8971077273\n"
     ]
    },
    {
     "name": "stdout",
     "output_type": "stream",
     "text": [
      "Hansa, Welcome to PW Bank. You are our valued customer!\n"
     ]
    },
    {
     "name": "stdin",
     "output_type": "stream",
     "text": [
      "Our Menu:\n",
      "1. Open Account\n",
      "2. Close Account\n",
      "3. Deposit\n",
      "4. Withdraw\n",
      "5. Balance\n",
      "6. Exit\n",
      " 3\n"
     ]
    },
    {
     "name": "stdout",
     "output_type": "stream",
     "text": [
      "Welcome to Deposit Section of PW Bank!\n",
      "We have increased our security, would you please enter your mobile number ?\n"
     ]
    },
    {
     "name": "stdin",
     "output_type": "stream",
     "text": [
      " 8971077273\n",
      "Please enter the amount that you want to deposit.\n",
      " 2000\n"
     ]
    },
    {
     "name": "stdout",
     "output_type": "stream",
     "text": [
      "Your total balance is:  2000.0\n"
     ]
    },
    {
     "name": "stdin",
     "output_type": "stream",
     "text": [
      "Our Menu:\n",
      "1. Open Account\n",
      "2. Close Account\n",
      "3. Deposit\n",
      "4. Withdraw\n",
      "5. Balance\n",
      "6. Exit\n",
      " 4\n"
     ]
    },
    {
     "name": "stdout",
     "output_type": "stream",
     "text": [
      "Welcome to Withdraw Section of PW Bank!\n",
      "We have increased our security, would you please enter your mobile number ?\n"
     ]
    },
    {
     "name": "stdin",
     "output_type": "stream",
     "text": [
      " 8971077273\n"
     ]
    },
    {
     "name": "stdout",
     "output_type": "stream",
     "text": [
      "You have 2000.0 left.\n"
     ]
    },
    {
     "name": "stdin",
     "output_type": "stream",
     "text": [
      "Please enter the amount that you want to withdraw.\n",
      " 1800\n"
     ]
    },
    {
     "name": "stdout",
     "output_type": "stream",
     "text": [
      "Thank you for withdrawing 1800.0, your balance amount is Rs. 200.0\n"
     ]
    },
    {
     "name": "stdin",
     "output_type": "stream",
     "text": [
      "Our Menu:\n",
      "1. Open Account\n",
      "2. Close Account\n",
      "3. Deposit\n",
      "4. Withdraw\n",
      "5. Balance\n",
      "6. Exit\n",
      " 5\n"
     ]
    },
    {
     "name": "stdout",
     "output_type": "stream",
     "text": [
      "Welcome to Balance Display Section of PW Bank!\n",
      "We have increased our security, would you please enter your mobile number ?\n"
     ]
    },
    {
     "name": "stdin",
     "output_type": "stream",
     "text": [
      " 8971077273\n"
     ]
    },
    {
     "name": "stdout",
     "output_type": "stream",
     "text": [
      "You have Balance of Rs.  200.0\n"
     ]
    },
    {
     "name": "stdin",
     "output_type": "stream",
     "text": [
      "Our Menu:\n",
      "1. Open Account\n",
      "2. Close Account\n",
      "3. Deposit\n",
      "4. Withdraw\n",
      "5. Balance\n",
      "6. Exit\n",
      " 2\n",
      "Please enter your mobile number:  8971077273\n"
     ]
    },
    {
     "name": "stdout",
     "output_type": "stream",
     "text": [
      "Thank you for using our services\n",
      "You are no longer eligible for our services. In case you change your mind, please do visit the branch!\n"
     ]
    },
    {
     "name": "stdin",
     "output_type": "stream",
     "text": [
      "Our Menu:\n",
      "1. Open Account\n",
      "2. Close Account\n",
      "3. Deposit\n",
      "4. Withdraw\n",
      "5. Balance\n",
      "6. Exit\n",
      " 6\n"
     ]
    },
    {
     "name": "stdout",
     "output_type": "stream",
     "text": [
      "Thank You for using PW e-Banking\n"
     ]
    }
   ],
   "source": [
    "class BankAccount:\n",
    "    \"\"\"\n",
    "    Bank Account class represents basic banking operations like deposit and withdraw from the bank account\n",
    "    \"\"\"\n",
    "    \n",
    "    def __init__(self):\n",
    "        \"\"\"\n",
    "        This is a class intitialiser. It's a special method known as constructor. It is automatically called when an object or instance of BankAccount class is created.\n",
    "        It contains details of Person, Balance and Minimum Balance to maintain.\n",
    "        \"\"\"\n",
    "        self.person_details = {}\n",
    "        self.balance_amount = 0\n",
    "        self.minimum_balance = 200\n",
    "        \n",
    "    def open_account(self):\n",
    "        \"\"\"\n",
    "        Open a bank account for a new customer or verify an existing customer.\n",
    "\n",
    "        This method prompts the user to enter their name and mobile number. It then checks if the\n",
    "        mobile number is already present in the `person_details` database. If the mobile number is not\n",
    "        found, it adds the new account holder's information to the database. If the mobile number is\n",
    "        already present, it verifies that the user is an existing customer.\n",
    "\n",
    "        Returns:\n",
    "        - None\n",
    "\n",
    "        Raises:\n",
    "        - ValueError: If the user enters a non-numeric value for the mobile number.\n",
    "\n",
    "        Usage:\n",
    "        - To open an account for a new customer, provide the name and mobile number.\n",
    "        - To check if an account already exists, enter the name and mobile number.\n",
    "\n",
    "        \"\"\"\n",
    "        account_holder_name = input(\"Please enter your name: \")\n",
    "        logger.info(f\"Account Holder Name = {account_holder_name}\")\n",
    "        try:\n",
    "            mobile_number = int(input(\"Please enter your mobile number: \"))\n",
    "            logger.info(f\"Mobile number of {account_holder_name} is {mobile_number}\")\n",
    "            if mobile_number not in self.person_details.keys():\n",
    "                logger.debug(f\"This is a new account holder.\")\n",
    "                print(f\"{account_holder_name}, Welcome to PW Bank. You are our valued customer!\")\n",
    "                self.person_details.update({mobile_number: account_holder_name})\n",
    "            else:\n",
    "                if self.check_user(mobile_number) == 'You are an existing user!':\n",
    "                    print(\"You are already an existing user!\")\n",
    "                    logger.debug(\"User is already an existing customer.\")\n",
    "        except ValueError as ve:\n",
    "            logger.error(\"An error occurred while entering the mobile number: Please enter only numerical values!\", ve)\n",
    "            \n",
    "    \n",
    "    def close_account(self, mobile_number):\n",
    "        \"\"\"\n",
    "        Close a bank account for an existing customer.\n",
    "\n",
    "        This method takes a mobile number as an argument and checks if it exists in the `person_details` database.\n",
    "        If the mobile number is found, it removes the account holder's information from the database,\n",
    "        effectively closing the account. The account holder is notified of the account closure.\n",
    "\n",
    "        Parameters:\n",
    "        - mobile_number (int): The mobile number associated with the account to be closed.\n",
    "\n",
    "        Returns:\n",
    "        - None\n",
    "\n",
    "        Usage:\n",
    "        - To close an existing account, provide the mobile number associated with the account.\n",
    "\n",
    "        \"\"\"\n",
    "        if self.check_user(mobile_number) == 'You are an existing user!':\n",
    "            logger.info(f\"{self.person_details[mobile_number]} wants to close the account!\")\n",
    "            self.person_details.pop(mobile_number)\n",
    "            print(\"Thank you for using our services\")\n",
    "            print(\"You are no longer eligible for our services. In case you change your mind, please do visit the branch!\")\n",
    "        else:\n",
    "            print(\"You are not existing user.\")\n",
    "            logger.info(\"User is not an existing customer.\")\n",
    "        \n",
    "    def check_user(self, mobile_number):\n",
    "        \"\"\"\n",
    "        Check if a user with the given mobile number exists in the PW Bank database.\n",
    "\n",
    "        This method checks if the provided mobile number is already present in the `person_details` database.\n",
    "        If the mobile number is found, it indicates that the user is an existing member of PW Bank.\n",
    "        If the mobile number is not found, it prompts the user to decide whether to open a new account.\n",
    "\n",
    "        Parameters:\n",
    "        - mobile_number (int): The mobile number to be checked for existence.\n",
    "\n",
    "        Returns:\n",
    "        - str: A message indicating the user's status. Returns 'You are an existing user!'\n",
    "          if the mobile number is found; otherwise, it triggers a prompt for opening a new account.\n",
    "\n",
    "        Usage:\n",
    "        - To check if a user exists or to prompt a new account creation, provide the mobile number.\n",
    "        \"\"\"\n",
    "        logger.info(\"Checking the user's existence.\")\n",
    "        if mobile_number in self.person_details.keys():\n",
    "            logger.info(\"User is already an existing member of PW Bank.\")\n",
    "            return \"You are an existing user!\"\n",
    "        else:\n",
    "            logger.info(\"User is not an existing member of PW Bank.\")\n",
    "            print(\"Do you want to open an account in PW Bank ?\")\n",
    "            logger.info(\"Checking for user confirmation to open an account or not.\")\n",
    "            choice = input(\"Please enter either yes or no \")\n",
    "            if choice.lower() == 'yes':\n",
    "                self.open_account()\n",
    "            elif choice.lower() == 'no':\n",
    "                print(\"Thank You! Visit us if you change your mind!\")\n",
    "            else:\n",
    "                print(\"Invalid Choice!\")\n",
    "                \n",
    "    def deposit(self):\n",
    "        \"\"\"\n",
    "        Deposit money into a PW Bank account.\n",
    "\n",
    "        This method guides the user through the process of depositing money into their PW Bank account.\n",
    "        It first prompts the user for their mobile number to verify their identity.\n",
    "        If the mobile number is associated with an existing account, the user can deposit funds into that account.\n",
    "\n",
    "        Returns:\n",
    "        - None\n",
    "\n",
    "        Usage:\n",
    "        - To deposit money into an existing account, follow the prompts for mobile number and deposit amount.\n",
    "        \"\"\"\n",
    "        try:\n",
    "            print(\"Welcome to Deposit Section of PW Bank!\")\n",
    "            print(\"We have increased our security, would you please enter your mobile number ?\")\n",
    "            mobile_number = int(input())\n",
    "            logger.info(f\"User entered {mobile_number}\")\n",
    "            if mobile_number in self.person_details.keys():\n",
    "                logger.info(f\"{self.person_details[mobile_number]} is an existing user.\")\n",
    "                try:\n",
    "                    amount = float(input(\"Please enter the amount that you want to deposit.\\n\"))\n",
    "                    logger.info(f\"User entered Rs. {amount} to deposit.\")\n",
    "                    self.balance_amount += amount\n",
    "                    print(\"Your total balance is: \", self.balance_amount)\n",
    "                    logger.info(f\"Balance amount is: {self.balance_amount}\")\n",
    "                except ValueError as ve:\n",
    "                    print(\"Please enter numerical values only.\")\n",
    "                    logger.error(\"User entered incorrect type amount\")\n",
    "            else:\n",
    "                print(\"You are not the account holder in PW Bank.\")\n",
    "                logger.info(f\"User is not the account holder in PW Bank.\")\n",
    "        except ValueError as ve:\n",
    "            print(\"Please enter numerical values only.\")\n",
    "            logger.error(\"User entered incorrect type mobile value\")\n",
    "    \n",
    "    def withdraw(self):\n",
    "        \"\"\"\n",
    "        Withdraw money from a PW Bank Account.\n",
    "        \n",
    "        This method guides the user through the process of withdrawing money from their PW Bank account.\n",
    "        It first prompts the user for their mobile number to verify their identity.\n",
    "        If the mobile number is associated with an existing account, the user can deposit funds into that account.\n",
    "        \n",
    "        Returns:\n",
    "        - None\n",
    "        \n",
    "        Usage:\n",
    "        - To withdraw money from an existing account, follow the prompts for mobile number and withdraw amount.\n",
    "        \"\"\"\n",
    "        try:\n",
    "            print(\"Welcome to Withdraw Section of PW Bank!\")\n",
    "            print(\"We have increased our security, would you please enter your mobile number ?\")\n",
    "            mobile_number = int(input())\n",
    "            logger.info(f\"User entered {mobile_number}\")\n",
    "            if mobile_number in self.person_details.keys():\n",
    "                logger.info(f\"{self.person_details[mobile_number]} is an existing user.\")\n",
    "                print(f\"You have {self.balance_amount} left.\")\n",
    "                logger.info(f\"User's balance is: {self.balance_amount}\")\n",
    "                try:\n",
    "                    amount = float(input(\"Please enter the amount that you want to withdraw.\\n\"))\n",
    "                    logger.info(f\"User entered Rs. {amount} to withdraw.\")\n",
    "                    if amount > self.balance_amount:\n",
    "                        print(f\"Cannot withdraw the amount as the balance is Rs. {self.balance_amount}\")\n",
    "                        logger.info(f\"User cannot withdraw the amount as the balance is Rs. {self.balance_amount}\")\n",
    "                    elif abs(amount-self.balance_amount) < self.minimum_balance:\n",
    "                        print(f\"Cannot withdraw the entire amount as minimum balance should be Rs. 200\")\n",
    "                        logger.info(f\"User withdraw the entire amount as minimum balance should be Rs. 200\")\n",
    "                    else:\n",
    "                        self.balance_amount = self.balance_amount - amount\n",
    "                        print( f\"Thank you for withdrawing {amount}, your balance amount is Rs. {self.balance_amount}\")\n",
    "                        logger.info(f\"User withdraw Rs. {amount} and balance now is Rs. {self.balance_amount}\")\n",
    "                except ValueError as ve:\n",
    "                    print(\"Please enter numerical values only.\")\n",
    "                    logger.error(\"User entered incorrect type amount\")\n",
    "            else:\n",
    "                print(\"You are not the account holder in PW Bank.\")\n",
    "                logger.info(f\"User is not the account holder in PW Bank.\")\n",
    "        except ValueError as ve:\n",
    "            print(\"Please enter numerical values only.\")\n",
    "            logger.error(\"User entered incorrect type mobile value\")\n",
    "        \n",
    "    def check_balance(self):\n",
    "        \"\"\"\n",
    "        Checks the balance of a user from PW Bank Account.\n",
    "        \n",
    "        This method guides the user through the process of checking balance money from their PW Bank account.\n",
    "        It first prompts the user for their mobile number to verify their identity.\n",
    "        If the mobile number is associated with an existing account, the user will be displayed with their balance amount.\n",
    "        \n",
    "        Returns:\n",
    "        - None\n",
    "        \n",
    "        Usage:\n",
    "        - To check the balance from an existing account, follow the prompts for mobile number.\n",
    "        \"\"\"\n",
    "        try:\n",
    "            print(\"Welcome to Balance Display Section of PW Bank!\")\n",
    "            print(\"We have increased our security, would you please enter your mobile number ?\")\n",
    "            mobile_number = int(input())\n",
    "            logger.info(f\"User entered {mobile_number}\")\n",
    "            if mobile_number in self.person_details.keys():\n",
    "                print(\"You have Balance of Rs. \", self.balance_amount)\n",
    "                logger.info(f\"User's Balance is {self.balance_amount}\")\n",
    "            else:\n",
    "                print(\"You are not the account holder in PW Bank.\")\n",
    "                logger.info(f\"User is not the account holder in PW Bank.\")\n",
    "        except ValueError as ve:\n",
    "            print(\"Please enter numerical values only.\")\n",
    "            logger.error(\"User entered incorrect type mobile value\")\n",
    "\n",
    "\n",
    "def start_again():\n",
    "    \"\"\"\n",
    "    Restarting the Banking Application.\n",
    "    \"\"\"\n",
    "    start_bank(ba)\n",
    "    \n",
    "def start_bank(ba):\n",
    "    \"\"\"\n",
    "    Start the PW Banking application menu.\n",
    "\n",
    "    This function displays a menu for the PW Banking application, allowing the user to perform various\n",
    "    banking operations such as opening an account, closing an account, depositing, withdrawing, checking\n",
    "    balance, and exiting the application.\n",
    "    \n",
    "    Parameters:\n",
    "    - ba: An instance of a BankAccount object.\n",
    "\n",
    "    Returns:\n",
    "    - None\n",
    "\n",
    "    Usage:\n",
    "    - Call this function to start the banking application menu. Pass a BankAccount instance as the 'ba' argument.\n",
    "\n",
    "    \"\"\"\n",
    "    choice = input(\"Our Menu:\\n1. Open Account\\n2. Close Account\\n3. Deposit\\n4. Withdraw\\n5. Balance\\n6. Exit\\n\")\n",
    "    logger.info(\"PW Banking Menu:\\n1. Open Account\\n2. Close Account\\n3. Deposit\\n4. Withdraw\\n5. Balance\\n6. Exit\\n\")\n",
    "    logger.info(f\"User entered : {choice}\")\n",
    "    if choice.lower() in ['1', '2', '3', '4', '5']:\n",
    "        while choice.lower() not in ['6', 'exit']:\n",
    "            \n",
    "            if choice.lower() in ['1', 'open', 'open account']:\n",
    "                ba.open_account()\n",
    "                start_again()\n",
    "                break\n",
    "    \n",
    "            if choice.lower() in ['2', 'close', 'close account']:\n",
    "                mobile_num = int(input(\"Please enter your mobile number: \"))\n",
    "                ba.close_account(mobile_num)\n",
    "                start_again()\n",
    "                break\n",
    "    \n",
    "            if choice.lower() in ['3', 'deposit']:\n",
    "                ba.deposit()\n",
    "                start_again()\n",
    "                break\n",
    "    \n",
    "            if choice.lower() in ['4', 'withdraw']:\n",
    "                ba.withdraw()\n",
    "                start_again()\n",
    "                break\n",
    "    \n",
    "            if choice.lower() in ['5', 'balance']:\n",
    "                ba.check_balance()\n",
    "                start_again()\n",
    "                break\n",
    "        \n",
    "    else:\n",
    "        if choice.lower() in ['6', 'exit']:\n",
    "            print(\"Thank You for using PW e-Banking\")\n",
    "            logger.info(\"Exiting from Banking Services!\")\n",
    "        else:\n",
    "            print(\"Invalid choice\")\n",
    "            logger.info(\"User entered invalid choice!\")\n",
    "        \n",
    "if __name__ == '__main__':\n",
    "    \n",
    "    print(\"Welcome to PW Bank!\")\n",
    "    logger.info(\"Starting PW Banking Services!\")\n",
    "    ba = BankAccount()\n",
    "    start_bank(ba)"
   ]
  },
  {
   "cell_type": "markdown",
   "id": "be3d85f6-24da-425d-bf91-22606ab19223",
   "metadata": {
    "tags": []
   },
   "source": [
    "Problem 2: Employee Management \n",
    "------------------------------\n",
    "Create a class representing an employee with attributes like employee ID, name, and salary. Implement methods to calculate the yearly bonus and display employee details."
   ]
  },
  {
   "cell_type": "code",
   "execution_count": 1,
   "id": "a4575f97-8601-418c-8c8e-e282b7de0875",
   "metadata": {},
   "outputs": [],
   "source": [
    "import logging as logger\n",
    "\n",
    "logger.basicConfig(filename=\"python_oops_logging.log\", filemode=\"a\", level=logger.DEBUG, format='%(levelname)s-%(asctime)s-%(message)s')"
   ]
  },
  {
   "cell_type": "code",
   "execution_count": 3,
   "id": "0e5e0379-6130-4a13-a35f-776b2d0172dc",
   "metadata": {},
   "outputs": [
    {
     "name": "stdout",
     "output_type": "stream",
     "text": [
      "Welcome to Employee Management Services!\n"
     ]
    },
    {
     "name": "stdin",
     "output_type": "stream",
     "text": [
      "Please enter your employee id:  API2180\n",
      "Please enter your name:  Hansa\n",
      "Please enter your salary:  114000\n"
     ]
    },
    {
     "name": "stdout",
     "output_type": "stream",
     "text": [
      "The standard yearly bonus of our esteemed organisation is 10% per annum.\n",
      "Calculating Yearly Bonus..\n",
      "Your yearly bonus is Rs. 11400.0\n",
      "Employee Information: \n",
      "Employee ID = API2180\n",
      "Employee Name = Hansa\n",
      "Employee Salary = 114000.0\n"
     ]
    },
    {
     "name": "stdin",
     "output_type": "stream",
     "text": [
      "Do you want to continue ? Please enter yes or no. \n",
      " yes\n"
     ]
    },
    {
     "name": "stdout",
     "output_type": "stream",
     "text": [
      "Welcome to Employee Management Services!\n"
     ]
    },
    {
     "name": "stdin",
     "output_type": "stream",
     "text": [
      "Please enter your employee id:  API2181\n",
      "Please enter your name:  Guru\n",
      "Please enter your salary:  111000\n"
     ]
    },
    {
     "name": "stdout",
     "output_type": "stream",
     "text": [
      "The standard yearly bonus of our esteemed organisation is 10% per annum.\n",
      "Calculating Yearly Bonus..\n",
      "Your yearly bonus is Rs. 11100.0\n",
      "Employee Information: \n",
      "Employee ID = API2181\n",
      "Employee Name = Guru\n",
      "Employee Salary = 111000.0\n"
     ]
    },
    {
     "name": "stdin",
     "output_type": "stream",
     "text": [
      "Do you want to continue ? Please enter yes or no. \n",
      " no\n"
     ]
    },
    {
     "name": "stdout",
     "output_type": "stream",
     "text": [
      "Thank You!\n"
     ]
    }
   ],
   "source": [
    "class EmployeeManagement:\n",
    "    \"\"\"\n",
    "    Employee Management class represents basic employement details such as calculating years bonus and displaying employee details.\n",
    "    \"\"\"\n",
    "    \n",
    "    def __init__(self, employee_id, name, salary):\n",
    "        \"\"\"\n",
    "        Initialize an Employee Object.\n",
    "        \n",
    "        This is a class intitialiser. \n",
    "        It's a special method known as constructor. \n",
    "        This constructor is automatically called when an instance of the Employee class is created.\n",
    "        It initializes the attributes for the Employee, including Employee ID, Employee Name, and Employee Salary.\n",
    "        \n",
    "        Parameters:\n",
    "        - employee_id (str): The unique identifier for the employee.\n",
    "        - name (str): The name of the employee.\n",
    "        - salary (float): The salary of the employee.\n",
    "        \n",
    "        Usage:\n",
    "        - To create a new Employee object, provide the employee's ID, name, and salary.\n",
    "        \"\"\"\n",
    "        logger.info(f\"Initializing the Employee Details: \")\n",
    "        self.employee_id = employee_id\n",
    "        self.employee_name = name\n",
    "        self.employee_salary = salary\n",
    "        logger.info(f\"Employee ID = {self.employee_id}\\nEmployee Name = {self.employee_name}\\nEmployee Salary = {self.employee_salary}\")\n",
    "    \n",
    "    \n",
    "    def calculate_yearly_bonus(self, bonus_percentage):\n",
    "        \"\"\"\n",
    "        Calculate an d return the yearly bonus for the employee.\n",
    "        \n",
    "        This method calculates the yearly bonus for the employee based on the provided bonus_percentage.\n",
    "        The bonus is calculated as a percentage of the employee's current salary.\n",
    "        \n",
    "        Parameters:\n",
    "        - bonus_percentage: (float) - The bonus percentage to be applied to the employee's salary\n",
    "        \n",
    "        Returns:\n",
    "        - yearly_bonus: (float) - The calculated yearly bonus from bonus_percentage\n",
    "        \n",
    "        Usage:\n",
    "        - To calculate the yeary bonus for an employee, provide the bonus_percentage as a float value\n",
    "        \"\"\"\n",
    "        logger.info(f\"Bonus Percentage is: {bonus_percentage}\")\n",
    "        print(\"Calculating Yearly Bonus..\")\n",
    "        yearly_bonus = self.employee_salary * bonus_percentage\n",
    "        logger.info(f\"Yearly Bonus is: Rs. {yearly_bonus}\")\n",
    "        print(f\"Your yearly bonus is Rs. {yearly_bonus}\")\n",
    "        return yearly_bonus\n",
    "        \n",
    "        \n",
    "    \n",
    "    def display_employee_details(self):\n",
    "        \"\"\"\n",
    "        Display details of the employee.\n",
    "        \n",
    "        This method logs and prints the employee's details, including Employee's ID, Employee's name and Employee's salary.\n",
    "        \n",
    "        Parameters:\n",
    "        - None\n",
    "        \n",
    "        Returns:\n",
    "        - None\n",
    "        \n",
    "        Usage:\n",
    "        - Call this method to display the Employee information.\n",
    "        \"\"\"\n",
    "        logger.info(\"Displaying Employee Details:\")\n",
    "        logger.info(f\"Employee ID = {self.employee_id}\\nEmployee Name = {self.employee_name}\\nEmployee Salary = {self.employee_salary}\")\n",
    "        print(f\"Employee Information: \\nEmployee ID = {self.employee_id}\\nEmployee Name = {self.employee_name}\\nEmployee Salary = {self.employee_salary}\")\n",
    "\n",
    "        \n",
    "def start_employee_management():\n",
    "    \"\"\"\n",
    "    Start the Employee Management Services.\n",
    "    \n",
    "    This function initiates the Employee Management Services, allowing users to input employee details,\n",
    "    calculate yearly bonuses, and display employee information.\n",
    "    \n",
    "    Parameters:\n",
    "    - None\n",
    "\n",
    "    Returns:\n",
    "    - None\n",
    "\n",
    "    Usage:\n",
    "    - Call this function to start the Employee Management Services.\n",
    "    \"\"\"\n",
    "    logger.info(\"Starting Employee Management services.\")\n",
    "    print(\"Welcome to Employee Management Services!\")\n",
    "    \n",
    "    logger.info(\"Input the Employee details\")\n",
    "    try:\n",
    "        emp_id = input(\"Please enter your employee id: \")\n",
    "        name = input(\"Please enter your name: \")\n",
    "\n",
    "        salary = float(input(\"Please enter your salary: \"))\n",
    "\n",
    "        emp = EmployeeManagement(emp_id, name, salary)\n",
    "\n",
    "        logger.info(f\"The standard yearly bonus of our esteemed organisation is 10% per annum.\")\n",
    "        print(\"The standard yearly bonus of our esteemed organisation is 10% per annum.\")\n",
    "\n",
    "        bonus_percent = 10/100 # 10% PA\n",
    "\n",
    "        logger.info(f\"Call to calculate the yearly bonus for the salary Rs. {salary}\")\n",
    "        bonus_amount = emp.calculate_yearly_bonus(bonus_percent)\n",
    "\n",
    "        logger.info(f\"Total earned bonus for Fiscal Year 2023-2024 is Rs. {bonus_amount}. This is a tax free amount.\")\n",
    "\n",
    "        logger.info(\"Call to display the Employee Details.\")\n",
    "\n",
    "        emp.display_employee_details()\n",
    "    \n",
    "    except ValueError as ve:\n",
    "        logger.error(f\"User entered incorrect salary value. Reason: {ve}\")\n",
    "        print(\"Please enter only numerical values\")\n",
    "    except Exception as ex:\n",
    "        logger.error(f\"An error occurred due to: {ex}\")\n",
    "        print(\"An error occurred due to: \", ex)\n",
    "    \n",
    "    start_again()\n",
    "    \n",
    "def start_again():\n",
    "    \"\"\"\n",
    "    Restarting the Employee Management Services.\n",
    "    \n",
    "    This function prompts the employee to decide whether to restart or continue with the Employee Management Services.\n",
    "    If the employee chooses to continue, the Employee Management Services are initiated.\n",
    "    If the employee chooses to exit, the function ends gracefully.\n",
    "\n",
    "    Parameters:\n",
    "    - None\n",
    "\n",
    "    Returns:\n",
    "    - None\n",
    "\n",
    "    Usage:\n",
    "    - Call this function to prompt the employee's decision and restart/continue the application.\n",
    "    \"\"\"\n",
    "    logger.info(\"To check if the employee needs to continue again ?\")\n",
    "    choice = input(\"Do you want to continue ? Please enter yes or no. \\n\")\n",
    "    logger.info(f\"Employee entered: {choice}\")\n",
    "    \n",
    "    while choice.lower() not in ['no']:\n",
    "        start_employee_management()\n",
    "        break\n",
    "    else:\n",
    "        if choice.lower() in ['no']:\n",
    "            logger.info(\"Employee doesn't wish to continue.\")\n",
    "            print(\"Thank You!\")\n",
    "            \n",
    "        else:\n",
    "            logger.info(\"Employee entered invalid choice!\")\n",
    "            print(\"Invalid choice!\")\n",
    "        \n",
    "if __name__ == '__main__':\n",
    "    \n",
    "    start_employee_management() "
   ]
  },
  {
   "cell_type": "markdown",
   "id": "77d188a2-a766-45c6-833b-ce30a1cdfecf",
   "metadata": {
    "tags": []
   },
   "source": [
    "Problem 3: Vehicle Rental \n",
    "-------------------------\n",
    "Create a class representing a vehicle rental system. Implement methods to rent a vehicle, return a vehicle, and display available vehicles."
   ]
  },
  {
   "cell_type": "code",
   "execution_count": 2,
   "id": "335ae9ad-38c7-4a67-97e3-30921cb03a97",
   "metadata": {},
   "outputs": [],
   "source": [
    "import logging as logger\n",
    "\n",
    "logger.basicConfig(filename=\"python_oops_logging.log\", filemode=\"a\", level=logger.DEBUG, format='%(levelname)s-%(asctime)s-%(message)s')"
   ]
  },
  {
   "cell_type": "code",
   "execution_count": 4,
   "id": "5cef4cc1-0449-4a8f-aae3-09114beb2ab4",
   "metadata": {},
   "outputs": [
    {
     "name": "stdout",
     "output_type": "stream",
     "text": [
      "Welcome to PW Vehicle Rental Services.\n"
     ]
    },
    {
     "name": "stdin",
     "output_type": "stream",
     "text": [
      "Please enter your good name:  Hansa\n",
      "Please enter your mobile number:  8971077273\n",
      "Please enter your age:  26\n"
     ]
    },
    {
     "name": "stdout",
     "output_type": "stream",
     "text": [
      "\n",
      "Hansa, You are eligible to rent a vehicle.\n"
     ]
    },
    {
     "name": "stdin",
     "output_type": "stream",
     "text": [
      "\n",
      "Do you have a driving License ? Please type 'yes' if you have. Please type 'no', if you do not have.\n",
      " yes\n"
     ]
    },
    {
     "name": "stdout",
     "output_type": "stream",
     "text": [
      "\n",
      "In our PW Rental Vehicle Store, we have the below vehicles available:\n",
      "\n",
      "Categories:\n",
      "1. Two Wheeler\n",
      "\t(i) Gearless Vehicles\n",
      "\t\t(a) Yamaha Fascino\n",
      "\t\t(b) Honda Activa\n",
      "\t\t(c) TVS Jupyter\n",
      "\t(ii) Gear Vehicles\n",
      "\t\t(a) Royal Enfield\n",
      "\t\t(b) Hero Splendor\n",
      "\n",
      "2. Four Wheeler\n",
      "\t(i) Maruti Suzuki\n",
      "\t(ii) Tata Indica\n",
      "\t(iii) Honda Elevate\n",
      "\t(iv) Hyundai Creta\n"
     ]
    },
    {
     "name": "stdin",
     "output_type": "stream",
     "text": [
      "\n",
      "Do you want to continue to see our rental services? (yes/no) yes\n"
     ]
    },
    {
     "name": "stdout",
     "output_type": "stream",
     "text": [
      "\n",
      "Our Menu:\n",
      "1. Rent a Vehicle\n",
      "2. Return a Vehicle\n",
      "3. Display Vehicles\n",
      "4. Exit\n"
     ]
    },
    {
     "name": "stdin",
     "output_type": "stream",
     "text": [
      "Please select any of the above option:  1\n",
      "Please select the type of vehicle from the above category. \n",
      "For Example: if your type vehicle is 'Hero Splendor' then enter '1(ii)(b)'. Please enter your category.\n",
      " 2(i)\n"
     ]
    },
    {
     "name": "stdout",
     "output_type": "stream",
     "text": [
      "The type of vehicle chosen is: Maruti Suzuki.\n",
      "\n",
      "Kindly wait, while we check for the availability of the vehicle .. \n",
      "...\n",
      "...\n",
      "...\n",
      "...\n",
      "...\n",
      "Hurray! The vehicle is available for rent. Please be careful while driving!\n",
      "\n",
      "Our Menu:\n",
      "1. Rent a Vehicle\n",
      "2. Return a Vehicle\n",
      "3. Display Vehicles\n",
      "4. Exit\n"
     ]
    },
    {
     "name": "stdin",
     "output_type": "stream",
     "text": [
      "Please select any of the above option:  1\n",
      "Please select the type of vehicle from the above category. \n",
      "For Example: if your type vehicle is 'Hero Splendor' then enter '1(ii)(b)'. Please enter your category.\n",
      " 2(ii)\n"
     ]
    },
    {
     "name": "stdout",
     "output_type": "stream",
     "text": [
      "The type of vehicle chosen is: Tata Indica.\n",
      "\n",
      "Please return the Maruti Suzuki. Then only you can rent the vehicle.\n",
      "\n",
      "Our Menu:\n",
      "1. Rent a Vehicle\n",
      "2. Return a Vehicle\n",
      "3. Display Vehicles\n",
      "4. Exit\n"
     ]
    },
    {
     "name": "stdin",
     "output_type": "stream",
     "text": [
      "Please select any of the above option:  2\n",
      "Please enter your mobile number:  8971077273\n"
     ]
    },
    {
     "name": "stdout",
     "output_type": "stream",
     "text": [
      "You have rented 'Maruti Suzuki'.\n",
      "Kindly wait, while we check for the condition of the vehicle .. \n",
      "...\n",
      "...\n",
      "...\n",
      "...\n",
      "...\n",
      "The vehicle is in good condition!\n",
      "Thank you for returning the vehicle.\n",
      "\n",
      "Our Menu:\n",
      "1. Rent a Vehicle\n",
      "2. Return a Vehicle\n",
      "3. Display Vehicles\n",
      "4. Exit\n"
     ]
    },
    {
     "name": "stdin",
     "output_type": "stream",
     "text": [
      "Please select any of the above option:  3\n"
     ]
    },
    {
     "name": "stdout",
     "output_type": "stream",
     "text": [
      "\n",
      "In our PW Rental Vehicle Store, we have the below vehicles available:\n",
      "\n",
      "Categories:\n",
      "1. Two Wheeler\n",
      "\t(i) Gearless Vehicles\n",
      "\t\t(a) Yamaha Fascino\n",
      "\t\t(b) Honda Activa\n",
      "\t\t(c) TVS Jupyter\n",
      "\t(ii) Gear Vehicles\n",
      "\t\t(a) Royal Enfield\n",
      "\t\t(b) Hero Splendor\n",
      "\n",
      "2. Four Wheeler\n",
      "\t(i) Maruti Suzuki\n",
      "\t(ii) Tata Indica\n",
      "\t(iii) Honda Elevate\n",
      "\t(iv) Hyundai Creta\n",
      "\n",
      "Our Menu:\n",
      "1. Rent a Vehicle\n",
      "2. Return a Vehicle\n",
      "3. Display Vehicles\n",
      "4. Exit\n"
     ]
    },
    {
     "name": "stdin",
     "output_type": "stream",
     "text": [
      "Please select any of the above option:  4\n"
     ]
    },
    {
     "name": "stdout",
     "output_type": "stream",
     "text": [
      "Thank you for using PW Vehicle Rental Services! Please do think of us, if you have thought of renting a vehicle!\n"
     ]
    },
    {
     "name": "stdin",
     "output_type": "stream",
     "text": [
      "\n",
      "Do you want to continue to see our rental services? (yes/no) no\n"
     ]
    },
    {
     "name": "stdout",
     "output_type": "stream",
     "text": [
      "Thank You!\n"
     ]
    }
   ],
   "source": [
    "import time\n",
    "import sys\n",
    "\n",
    "import logging as logger\n",
    "\n",
    "logger.basicConfig(filename=\"python_oops_logging.log\", filemode=\"a\", level=logger.DEBUG, format='%(levelname)s-%(asctime)s-%(message)s')\n",
    "\n",
    "\n",
    "class RentalVehicle:\n",
    "    \"\"\"\n",
    "    Rental Vehicle class represents basic functionalities of vehicle rental system. It implements methods like Renting a Vehicle, Returning a rented vehicle, Displaying Available Vehicles.\n",
    "    \"\"\"\n",
    "\n",
    "    def __init__(self, name, mobile_number):\n",
    "        \"\"\"\n",
    "        Initialize the RentalVehicle class with customer details.\n",
    "\n",
    "        Parameters:\n",
    "        - name (str): The name of the customer.\n",
    "        - mobile_number (int): The mobile number of the customer.\n",
    "\n",
    "        This constructor creates a new RentalVehicle instance with customer information.\n",
    "        \"\"\"\n",
    "        logger.info(\"Initializing RentalVehicle Class\")\n",
    "        self.person_name = name\n",
    "        self.person_mobile_numer = mobile_number\n",
    "        self.vehicle_details = {}  # to store available vehicles and their details\n",
    "        logger.info(\n",
    "            f\"Customer Details are:\\nCustomer Name = {self.person_name}\\nCustomer Mobile Number = {self.person_mobile_numer}\")\n",
    "\n",
    "    def rent_a_vehicle(self, mobile_number, type_of_vehicle):\n",
    "        \"\"\"\n",
    "        Rent a vehicle for the customer.\n",
    "\n",
    "        This method allows the customer to rent a vehicle based on the provided type_of_vehicle.\n",
    "        It checks if the specified vehicle type is available and updates the vehicle_details accordingly.\n",
    "        If the vehicle type is not available, it provides a message indicating that the choice is invalid.\n",
    "\n",
    "        Parameters:\n",
    "        - mobile_number (int): The mobile number of the customer.\n",
    "        - type_of_vehicle (str): The type of vehicle to rent, specified using the format 'X(Y)(Z)'.\n",
    "\n",
    "        Note:\n",
    "        - The 'type_of_vehicle' parameter follows the format 'X(Y)(Z)', where X represents the category, Y represents the subcategory,\n",
    "          and Z represents the specific vehicle within that subcategory.\n",
    "        - The method simulates availability checks and provides status messages.\n",
    "        \"\"\"\n",
    "        logger.info(\"Starting Renting a Vehicle Services .. \")\n",
    "        type_of_vehicle_dict = {'1(i)(a)': 'Yamaha Fascino',\n",
    "                                '1(i)(b)': 'Honda Activa',\n",
    "                                '1(i)(c)': 'TVS Jupyter',\n",
    "                                '1(ii)(a)': 'Royal Enfield',\n",
    "                                '1(ii)(b)': 'Hero Splendor',\n",
    "                                '2(i)': 'Maruti Suzuki',\n",
    "                                '2(ii)': 'Tata Indica',\n",
    "                                '2(iii)': 'Honda Elevate',\n",
    "                                '2(iv)': 'Hyundai Creta'\n",
    "                                }\n",
    "        if type_of_vehicle in ['1(i)(a)', '1(i)(b)', '1(i)(c)', '1(ii)(a)', '1(ii)(b)', '2(i)', '2(ii)', '2(iii)',\n",
    "                               '2(iv)']:\n",
    "            logger.info(\n",
    "                f\"Customer entered {type_of_vehicle}. The corresponding Vehicle Chosen is: {type_of_vehicle_dict.get(type_of_vehicle)}\")\n",
    "\n",
    "            print(f\"The type of vehicle chosen is: {type_of_vehicle_dict.get(type_of_vehicle)}.\\n\")\n",
    "\n",
    "            logger.info(\"Updating the vehicle details .. \")\n",
    "            if self.vehicle_details.get(mobile_number):\n",
    "                logger.critical(\"Customer needs to return the rented vehicle first. And then can rent another vehicle!\")\n",
    "                print(f\"Please return the {self.vehicle_details.get(mobile_number)}. Then only you can rent the vehicle.\")\n",
    "            else:\n",
    "                self.vehicle_details.update({mobile_number: type_of_vehicle_dict.get(type_of_vehicle)})\n",
    "                logger.debug(f\"The vehicle details are: {self.vehicle_details}\")\n",
    "\n",
    "                print(\"Kindly wait, while we check for the availability of the vehicle .. \")\n",
    "                logger.info(\"Checking the availability of the vehicle..\")\n",
    "\n",
    "                sec = 0\n",
    "                while sec < 5:\n",
    "                    time.sleep(1)\n",
    "                    print(\"...\")\n",
    "                    sec += 1\n",
    "\n",
    "                logger.info(\"The Vehicle is available to rent.\")\n",
    "                print(\"Hurray! The vehicle is available for rent. Please be careful while driving!\")\n",
    "        else:\n",
    "            logger.warning(f\"Customer entered incorrect value. {type_of_vehicle} is not available.\")\n",
    "            print(\n",
    "                f\"Sorry! The type of vehicle {type_of_vehicle} is not in the available list of categories that we have in PW.\")\n",
    "            print(\"Please select any of the options that we have in our menu.\")\n",
    "\n",
    "        logger.info(\"Ending Renting a Vehicle Services .. \")\n",
    "\n",
    "    def return_a_vehicle(self, mobile_number):\n",
    "        \"\"\"\n",
    "        Return a rented vehicle.\n",
    "\n",
    "        Parameters:\n",
    "        - mobile_number (int): The mobile number of the customer returning the vehicle.\n",
    "\n",
    "        This method allows the customer to return a rented vehicle.\n",
    "        It checks if the customer has rented a vehicle with the specified mobile number,\n",
    "        verifies the condition of the vehicle, and updates the vehicle_details accordingly.\n",
    "        If no vehicle is associated with the provided mobile number, it indicates that no vehicle has been rented.\n",
    "\n",
    "        Note:\n",
    "        - The method simulates vehicle condition checks and provides status messages.\n",
    "        \"\"\"\n",
    "        logger.info(\"Starting Returning a Vehicle Services .. \")\n",
    "        if mobile_number in self.vehicle_details.keys():\n",
    "\n",
    "            logger.info(f\"Customer has rented '{self.vehicle_details[mobile_number]}'\")\n",
    "            print(f\"You have rented '{self.vehicle_details[mobile_number]}'.\")\n",
    "\n",
    "            logger.info(\"Checking for the vehicle condition..\")\n",
    "            print(\"Kindly wait, while we check for the condition of the vehicle .. \")\n",
    "\n",
    "            sec = 0\n",
    "            while sec < 5:\n",
    "                time.sleep(1)\n",
    "                print(\"...\")\n",
    "                sec += 1\n",
    "\n",
    "            logger.info(\"Customer returns the Vehicle in Good condition.\")\n",
    "            print(\"The vehicle is in good condition!\")\n",
    "            print(f\"Thank you for returning the vehicle.\")\n",
    "\n",
    "            del self.vehicle_details[\n",
    "                mobile_number]  # deleting the vehicle details information based on the mobile number.\n",
    "            logger.debug(\"Deleting the Rented Vehicle details from the dictionary.\")\n",
    "\n",
    "        else:\n",
    "            print(\"You have not rented any of the vehicle\")\n",
    "            logger.info(\"Customer doesn't have any vehicle rented!\")\n",
    "\n",
    "        logger.info(\"Ending Returning a Vehicle Services .. \")\n",
    "\n",
    "    def display_available_vehicles(self):\n",
    "        \"\"\"\n",
    "        Display the available vehicles in the rental vehicle store.\n",
    "\n",
    "        This method provides information about the categories and types of vehicles available for rent in the PW Rental Vehicle Store.\n",
    "        It displays a structured list of available vehicles, including categories, subcategories, and specific vehicle models.\n",
    "\n",
    "        Note:\n",
    "        - The method provides a detailed list of available vehicles in a user-friendly format.\n",
    "        - It logs the available vehicle information for reference.\n",
    "        \"\"\"\n",
    "        logger.info(\"Displaying the Available Vehicles..\")\n",
    "        print(\"\\nIn our PW Rental Vehicle Store, we have the below vehicles available:\\n\")\n",
    "        print(\n",
    "            \"Categories:\\n1. Two Wheeler\\n\\t(i) Gearless Vehicles\\n\\t\\t(a) Yamaha Fascino\\n\\t\\t(b) Honda Activa\\n\\t\\t(c) TVS Jupyter\\n\\t(ii) Gear Vehicles\\n\\t\\t(a) Royal Enfield\\n\\t\\t(b) Hero Splendor\\n\")\n",
    "        print(\"2. Four Wheeler\\n\\t(i) Maruti Suzuki\\n\\t(ii) Tata Indica\\n\\t(iii) Honda Elevate\\n\\t(iv) Hyundai Creta\")\n",
    "        logger.info(\n",
    "            \"Categories:\\n1. Two Wheeler\\n\\t(i) Gearless Vehicles\\n\\t\\t(a) Yamaha Fascino\\n\\t\\t(b) Honda Activa\\n\\t\\t(c) TVS Jupyter\\n\\t(ii) Gear Vehicles\\n\\t\\t(a) Royal Enfield\\n\\t\\t(b) Hero Splendor\\n\")\n",
    "        logger.info(\n",
    "            \"2. Four Wheeler\\n\\t(i) Maruti Suzuki\\n\\t(ii) Tata Indica\\n\\t(iii) Honda Elevate\\n\\t(iv) Hyundai Creta\")\n",
    "\n",
    "\n",
    "def start_menu_again(rv, name, mobile_number):\n",
    "    \"\"\"\n",
    "    Manage the vehicle rental service menu for returning or continuing.\n",
    "\n",
    "    Parameters:\n",
    "    - rv (RentalVehicle): An instance of the RentalVehicle class.\n",
    "    - name (str): The name of the customer.\n",
    "    - mobile_number (int): The mobile number of the customer.\n",
    "\n",
    "    This function manages a menu-driven interface for the vehicle rental service, allowing customers to rent vehicles,\n",
    "    return vehicles, display available vehicles, or exit the service.\n",
    "\n",
    "    Note:\n",
    "    - The function provides a structured menu with options and handles customer choices.\n",
    "    - It allows customers to interact with the rental vehicle service based on their preferences.\n",
    "    - It includes an option to exit the service gracefully using `sys.exit()` when the user selects 'Exit.'\n",
    "    \"\"\"\n",
    "\n",
    "    logger.info(\"Starting PW Vehicle Rental Services Menu..\")\n",
    "    print(\"\\nOur Menu:\\n1. Rent a Vehicle\\n2. Return a Vehicle\\n3. Display Vehicles\\n4. Exit\")\n",
    "\n",
    "    choice = input(\"Please select any of the above option: \")\n",
    "    logger.info(f\"Customer's choice: {choice}\")\n",
    "\n",
    "    while choice.lower() not in ['4', 'exit']:\n",
    "\n",
    "        if choice.lower() in ['1', 'rent', 'rent a vehicle']:\n",
    "            type_of_vehicle = input(\n",
    "                \"Please select the type of vehicle from the above category. \\nFor Example: if your type vehicle is 'Hero Splendor' then enter '1(ii)(b)'. Please enter your category.\\n\")\n",
    "\n",
    "            logger.info(f\"{name}'s choice of vehicle is: {type_of_vehicle}\")\n",
    "            rv.rent_a_vehicle(mobile_number, type_of_vehicle)\n",
    "            start_menu_again(rv, name, mobile_number)\n",
    "            break\n",
    "\n",
    "        if choice.lower() in ['2', 'return', 'return a vehicle']:\n",
    "            try:\n",
    "                mobile_number = int(input(\"Please enter your mobile number: \"))\n",
    "                logger.debug(f\"Customer's mobile number: {mobile_number}\")\n",
    "                rv.return_a_vehicle(mobile_number)\n",
    "                start_menu_again(rv, name, mobile_number)\n",
    "                break\n",
    "            except ValueError as ve:\n",
    "                logger.error(\"Customer entered incorrect mobile number type. It should be only numerical values!\")\n",
    "                print(\"Please enter only numerical values!\")\n",
    "\n",
    "        if choice.lower() in ['3', 'display', 'display vehicles']:\n",
    "            logger.info(\"Displaying vehicle details.\")\n",
    "            rv.display_available_vehicles()\n",
    "            start_menu_again(rv, name, mobile_number)\n",
    "            break\n",
    "\n",
    "    else:\n",
    "        if choice.lower() in ['4', 'exit']:\n",
    "            if rv.vehicle_details.get(mobile_number):\n",
    "                logger.critical(\"Customer need to return the vehicle and then can exit from the services\")\n",
    "                print(\"You need to return the vehicle and then can exit from the PW Rental Service!\")\n",
    "                start_menu_again(rv, name, mobile_number)\n",
    "            logger.info(\"Customer does want to exit!\")\n",
    "            print(\"Thank you for using PW Vehicle Rental Services! Please do think of us, if you have thought of \"\n",
    "                  \"renting a vehicle!\")\n",
    "        else:\n",
    "            logger.critical(\"Customer entered invalid choice!\")\n",
    "            print(\"Invalid Choice!\")\n",
    "\n",
    "\n",
    "def start_rental_vehicle_services():\n",
    "    \"\"\"\n",
    "    Start and manage the PW Vehicle Rental Services.\n",
    "\n",
    "    This function initiates the PW Vehicle Rental Services, allowing customers to explore and potentially rent vehicles.\n",
    "    It prompts customers to enter their name, mobile number, and age to determine eligibility for renting.\n",
    "    Customers with a valid driving license are allowed to explore and rent vehicles.\n",
    "\n",
    "    Note:\n",
    "    - The function prompts customers to enter information and validates eligibility.\n",
    "    - It uses the `RentalVehicle` class to interact with the rental service.\n",
    "    - Customers are given the option to continue exploring rental services or exit gracefully using `sys.exit()`.\n",
    "    \"\"\"\n",
    "    logger.info(\"Starting the PW Vehicle Rental Services.\")\n",
    "    print(\"Welcome to PW Vehicle Rental Services.\")\n",
    "\n",
    "    try:\n",
    "        try:\n",
    "\n",
    "            name = input(\"Please enter your good name: \")\n",
    "            mobile_number = int(input(\"Please enter your mobile number: \"))\n",
    "            age = int(input(\"Please enter your age: \"))\n",
    "\n",
    "            logger.debug(\n",
    "                f\"Customer's Name = {name}\\nCustomer's Mobile Number = {mobile_number}\\nCustomer's Age = {age}\")\n",
    "\n",
    "            if age >= 18:\n",
    "\n",
    "                logger.info(\"Customer is eligible to rent a vehicle\")\n",
    "                print(f\"\\n{name}, You are eligible to rent a vehicle.\")\n",
    "                driving_license = input(\n",
    "                    \"\\nDo you have a driving License ? Please type 'yes' if you have. Please type 'no', if you do not have.\\n\")\n",
    "\n",
    "                logger.debug(f\"Customer's choice = {driving_license}\")\n",
    "                if driving_license.lower() == 'yes':\n",
    "\n",
    "                    # object creation of Rental Vehicle\n",
    "                    rv = RentalVehicle(name, mobile_number)\n",
    "                    rv.display_available_vehicles()  # display the available vehicles\n",
    "\n",
    "                    choice = input(\"\\nDo you want to continue to see our rental services? (yes/no)\")\n",
    "                    while choice.lower() == 'yes':\n",
    "                        start_menu_again(rv, name, mobile_number)\n",
    "                        break\n",
    "\n",
    "                    else:\n",
    "                        if choice.lower() != 'yes':\n",
    "                            logger.info(\"Customer doesn't wish to continue!\")\n",
    "                            print(\"Thank You!\")\n",
    "\n",
    "                else:\n",
    "                    logger.info(f\"{name}, is not allowed to rent a vehicle, as DL is mandatory.\")\n",
    "                    print(f\"{name}, Sorry! You are not allowed to rent a vehicle, as DL is mandatory!\")\n",
    "\n",
    "            else:\n",
    "                logger.info(f\"{name} is not eligible to rent a vehicle. As minimum age is 18.\")\n",
    "                print(f\"{name}, Sorry! You are not eligible to rent a vehicle.\")\n",
    "            start_again()\n",
    "        except ValueError as ve:\n",
    "            print(\"Please enter only numerical values\")\n",
    "            logger.error(f\"Customer entered incorrect value. {ve}\")\n",
    "\n",
    "    except ValueError as ve:\n",
    "        print(\"Please enter only numerical values\")\n",
    "        logger.error(f\"Customer entered incorrect value. {ve}\")\n",
    "\n",
    "\n",
    "def start_again():\n",
    "    \"\"\"\n",
    "    Allow customers to continue exploring rental services or exit gracefully.\n",
    "\n",
    "    This function prompts customers to decide whether they want to continue exploring rental services ('yes') or exit ('no').\n",
    "    If the customer chooses 'yes,' the `start_rental_vehicle_services` function is called to restart the rental service.\n",
    "    If the customer chooses 'no' or any other option, a thank you message is displayed.\n",
    "\n",
    "    Note:\n",
    "    - The function allows customers to restart the rental service or exit gracefully.\n",
    "    - It provides a simple user interaction for continuation or exit.\n",
    "    \"\"\"\n",
    "    choice = input(\"\\nDo you want to continue to see our rental services? (yes/no)\")\n",
    "    logger.info(f\"Customer's choice = {choice}\")\n",
    "    while choice.lower() == 'yes':\n",
    "        start_rental_vehicle_services()\n",
    "        break\n",
    "\n",
    "    else:\n",
    "        if choice.lower() != 'yes':\n",
    "            print(\"Thank You!\")\n",
    "\n",
    "\n",
    "if __name__ == '__main__':\n",
    "    start_rental_vehicle_services()"
   ]
  },
  {
   "cell_type": "markdown",
   "id": "c5c22dfb-5b0e-4b31-b5e9-9b28c41892d7",
   "metadata": {
    "tags": []
   },
   "source": [
    "Problem 4: Library Catalog \n",
    "--------------------------\n",
    "Create classes representing a library and a book. Implement methods to add books to the library, borrow books, and display available books."
   ]
  },
  {
   "cell_type": "code",
   "execution_count": 2,
   "id": "dee0c3ee-2788-4979-93d0-fbd30dd5c711",
   "metadata": {},
   "outputs": [],
   "source": [
    "import logging as logger\n",
    "\n",
    "logger.basicConfig(filename=\"python_oops_logging.log\", filemode=\"a\", level=logger.DEBUG, format='%(levelname)s-%(asctime)s-%(message)s')"
   ]
  },
  {
   "cell_type": "code",
   "execution_count": 5,
   "id": "2d6325f2-eae5-44d5-8d0e-5082814920c4",
   "metadata": {},
   "outputs": [
    {
     "name": "stdout",
     "output_type": "stream",
     "text": [
      "Welcome to PW Library Catalog!\n",
      "\n",
      "Rules and Regulations:\n",
      "\n",
      "1. A person can become a member by providing Aadhaar Card\n",
      "2. A member can borrow only 2 books at a time. If needed more books, need to return book and then borrow. So a member will be able to borrow only 2 books\n",
      "3. A member can add as many books as he wants in the library.\n",
      "4. A non-member will not be having any of our PW privileges.\n"
     ]
    },
    {
     "name": "stdin",
     "output_type": "stream",
     "text": [
      "Please enter your Aadhaar Card details to become a member of PW Library:  1234567\n",
      "Please enter your name:  Hansa\n"
     ]
    },
    {
     "name": "stdout",
     "output_type": "stream",
     "text": [
      "\n",
      "Hansa, Welcome to the PW Library..\n",
      "Select any of the below choices: \n",
      "\n",
      "1. Donate books to library\n",
      "2. Borrow books from library\n",
      "3. Return books to library\n",
      "4. Display your contribution\n",
      "5. Exit\n",
      "\n"
     ]
    },
    {
     "name": "stdin",
     "output_type": "stream",
     "text": [
      "Which option do you want to choose:  1\n",
      "Enter the number of books you want to donate to our library:  2\n",
      "Please enter the 1th Name of the book:  DSA\n",
      "Please enter the 2th Name of the book:  DA\n"
     ]
    },
    {
     "name": "stdout",
     "output_type": "stream",
     "text": [
      "Select any of the below choices: \n",
      "\n",
      "1. Donate books to library\n",
      "2. Borrow books from library\n",
      "3. Return books to library\n",
      "4. Display your contribution\n",
      "5. Exit\n",
      "\n"
     ]
    },
    {
     "name": "stdin",
     "output_type": "stream",
     "text": [
      "Which option do you want to choose:  4\n"
     ]
    },
    {
     "name": "stdout",
     "output_type": "stream",
     "text": [
      "Name of the Book: DSA\tTotal Count: 1\n",
      "Name of the Book: DA\tTotal Count: 1\n",
      "Select any of the below choices: \n",
      "\n",
      "1. Donate books to library\n",
      "2. Borrow books from library\n",
      "3. Return books to library\n",
      "4. Display your contribution\n",
      "5. Exit\n",
      "\n"
     ]
    },
    {
     "name": "stdin",
     "output_type": "stream",
     "text": [
      "Which option do you want to choose:  1\n",
      "Enter the number of books you want to donate to our library:  2\n",
      "Please enter the 1th Name of the book:  Python\n",
      "Please enter the 2th Name of the book:  Math\n"
     ]
    },
    {
     "name": "stdout",
     "output_type": "stream",
     "text": [
      "Select any of the below choices: \n",
      "\n",
      "1. Donate books to library\n",
      "2. Borrow books from library\n",
      "3. Return books to library\n",
      "4. Display your contribution\n",
      "5. Exit\n",
      "\n"
     ]
    },
    {
     "name": "stdin",
     "output_type": "stream",
     "text": [
      "Which option do you want to choose:  4\n"
     ]
    },
    {
     "name": "stdout",
     "output_type": "stream",
     "text": [
      "Name of the Book: DSA\tTotal Count: 1\n",
      "Name of the Book: DA\tTotal Count: 1\n",
      "Name of the Book: Python\tTotal Count: 1\n",
      "Name of the Book: Math\tTotal Count: 1\n",
      "Select any of the below choices: \n",
      "\n",
      "1. Donate books to library\n",
      "2. Borrow books from library\n",
      "3. Return books to library\n",
      "4. Display your contribution\n",
      "5. Exit\n",
      "\n"
     ]
    },
    {
     "name": "stdin",
     "output_type": "stream",
     "text": [
      "Which option do you want to choose:  2\n",
      "Please enter the book name that you want to borrow:  DSA\n"
     ]
    },
    {
     "name": "stdout",
     "output_type": "stream",
     "text": [
      "The book is available. You can borrow the book.\n",
      "Select any of the below choices: \n",
      "\n",
      "1. Donate books to library\n",
      "2. Borrow books from library\n",
      "3. Return books to library\n",
      "4. Display your contribution\n",
      "5. Exit\n",
      "\n"
     ]
    },
    {
     "name": "stdin",
     "output_type": "stream",
     "text": [
      "Which option do you want to choose:  2\n",
      "Please enter the book name that you want to borrow:  DA\n"
     ]
    },
    {
     "name": "stdout",
     "output_type": "stream",
     "text": [
      "The book is available. You can borrow the book.\n",
      "Select any of the below choices: \n",
      "\n",
      "1. Donate books to library\n",
      "2. Borrow books from library\n",
      "3. Return books to library\n",
      "4. Display your contribution\n",
      "5. Exit\n",
      "\n"
     ]
    },
    {
     "name": "stdin",
     "output_type": "stream",
     "text": [
      "Which option do you want to choose:  4\n"
     ]
    },
    {
     "name": "stdout",
     "output_type": "stream",
     "text": [
      "Name of the Book: DSA\tTotal Count: 0\n",
      "Name of the Book: DA\tTotal Count: 0\n",
      "Name of the Book: Python\tTotal Count: 1\n",
      "Name of the Book: Math\tTotal Count: 1\n",
      "Select any of the below choices: \n",
      "\n",
      "1. Donate books to library\n",
      "2. Borrow books from library\n",
      "3. Return books to library\n",
      "4. Display your contribution\n",
      "5. Exit\n",
      "\n"
     ]
    },
    {
     "name": "stdin",
     "output_type": "stream",
     "text": [
      "Which option do you want to choose:  2\n",
      "Please enter the book name that you want to borrow:  Python\n"
     ]
    },
    {
     "name": "stdout",
     "output_type": "stream",
     "text": [
      "Please return the borrowed book. As you are allowed to take at max only 2 books.\n",
      "Select any of the below choices: \n",
      "\n",
      "1. Donate books to library\n",
      "2. Borrow books from library\n",
      "3. Return books to library\n",
      "4. Display your contribution\n",
      "5. Exit\n",
      "\n"
     ]
    },
    {
     "name": "stdin",
     "output_type": "stream",
     "text": [
      "Which option do you want to choose:  3\n",
      "Please enter your aadhaar number:  1234567\n",
      "Please enter the book name:  DSA\n"
     ]
    },
    {
     "name": "stdout",
     "output_type": "stream",
     "text": [
      "Thanks for returning DSA.\n",
      "Select any of the below choices: \n",
      "\n",
      "1. Donate books to library\n",
      "2. Borrow books from library\n",
      "3. Return books to library\n",
      "4. Display your contribution\n",
      "5. Exit\n",
      "\n"
     ]
    },
    {
     "name": "stdin",
     "output_type": "stream",
     "text": [
      "Which option do you want to choose:  4\n"
     ]
    },
    {
     "name": "stdout",
     "output_type": "stream",
     "text": [
      "Name of the Book: DSA\tTotal Count: 1\n",
      "Name of the Book: DA\tTotal Count: 0\n",
      "Name of the Book: Python\tTotal Count: 1\n",
      "Name of the Book: Math\tTotal Count: 1\n",
      "Select any of the below choices: \n",
      "\n",
      "1. Donate books to library\n",
      "2. Borrow books from library\n",
      "3. Return books to library\n",
      "4. Display your contribution\n",
      "5. Exit\n",
      "\n"
     ]
    },
    {
     "name": "stdin",
     "output_type": "stream",
     "text": [
      "Which option do you want to choose:  3\n",
      "Please enter your aadhaar number:  DA\n",
      "Please enter the book name:  DA\n"
     ]
    },
    {
     "name": "stdout",
     "output_type": "stream",
     "text": [
      "You do not have any books borrowed.\n",
      "Select any of the below choices: \n",
      "\n",
      "1. Donate books to library\n",
      "2. Borrow books from library\n",
      "3. Return books to library\n",
      "4. Display your contribution\n",
      "5. Exit\n",
      "\n"
     ]
    },
    {
     "name": "stdin",
     "output_type": "stream",
     "text": [
      "Which option do you want to choose:  4\n"
     ]
    },
    {
     "name": "stdout",
     "output_type": "stream",
     "text": [
      "Name of the Book: DSA\tTotal Count: 1\n",
      "Name of the Book: DA\tTotal Count: 0\n",
      "Name of the Book: Python\tTotal Count: 1\n",
      "Name of the Book: Math\tTotal Count: 1\n",
      "Select any of the below choices: \n",
      "\n",
      "1. Donate books to library\n",
      "2. Borrow books from library\n",
      "3. Return books to library\n",
      "4. Display your contribution\n",
      "5. Exit\n",
      "\n"
     ]
    },
    {
     "name": "stdin",
     "output_type": "stream",
     "text": [
      "Which option do you want to choose:  3\n",
      "Please enter your aadhaar number:  1234567\n",
      "Please enter the book name:  DA\n"
     ]
    },
    {
     "name": "stdout",
     "output_type": "stream",
     "text": [
      "Thanks for returning DA.\n",
      "Select any of the below choices: \n",
      "\n",
      "1. Donate books to library\n",
      "2. Borrow books from library\n",
      "3. Return books to library\n",
      "4. Display your contribution\n",
      "5. Exit\n",
      "\n"
     ]
    },
    {
     "name": "stdin",
     "output_type": "stream",
     "text": [
      "Which option do you want to choose:  4\n"
     ]
    },
    {
     "name": "stdout",
     "output_type": "stream",
     "text": [
      "Name of the Book: DSA\tTotal Count: 1\n",
      "Name of the Book: DA\tTotal Count: 1\n",
      "Name of the Book: Python\tTotal Count: 1\n",
      "Name of the Book: Math\tTotal Count: 1\n",
      "Select any of the below choices: \n",
      "\n",
      "1. Donate books to library\n",
      "2. Borrow books from library\n",
      "3. Return books to library\n",
      "4. Display your contribution\n",
      "5. Exit\n",
      "\n"
     ]
    },
    {
     "name": "stdin",
     "output_type": "stream",
     "text": [
      "Which option do you want to choose:  5\n"
     ]
    },
    {
     "name": "stdout",
     "output_type": "stream",
     "text": [
      "Thank You!\n"
     ]
    }
   ],
   "source": [
    "class LibraryCatalog:\n",
    "    \"\"\"\n",
    "    LibraryCatalog is a basic class functionality that gives the library services.\n",
    "    It implements basic fucntionalities like adding book to library, borrowing book from library,\n",
    "    returning book to library and displaying the contribution.\n",
    "    \"\"\"\n",
    "\n",
    "    def __init__(self, aadhaar_number, name):\n",
    "        self.book_details = {} # to store the details of the book and count of it\n",
    "        self.member_aadhaar = aadhaar_number\n",
    "        self.member_name = name\n",
    "        self.member_details = {} # to store aadhaar number and the books borrowed\n",
    "        self.book_names = [] # to store the book names that is borrowed from the member\n",
    "\n",
    "    def add_books_to_library(self, total):\n",
    "        \"\"\"\n",
    "        Add books to the library.\n",
    "\n",
    "        This method allows the librarian to add books to the library's collection. The librarian provides the\n",
    "        names of the books, and the method increments the quantity of each book in the library. If a book is\n",
    "        not already in the library, it is added with a quantity of 1.\n",
    "\n",
    "        :param total: The total number of books to add.\n",
    "        :return: None\n",
    "        \"\"\"\n",
    "\n",
    "        for i in range(total):\n",
    "            name = input(f\"Please enter the {i + 1}th Name of the book: \")\n",
    "\n",
    "            if name in self.book_details:\n",
    "                self.book_details[name] += 1\n",
    "            else:\n",
    "                self.book_details[name] = 1\n",
    "\n",
    "    def borrow_book_from_library(self, book_name):\n",
    "        \"\"\"\n",
    "        Borrow a book from the library.\n",
    "\n",
    "        This method allows a library member to borrow a book from the library. It checks if the requested book is\n",
    "        available in the library's collection and updates the book quantity if the book is available. It also\n",
    "        tracks the member's borrowing activity and enforces a maximum limit of 2 books per member.\n",
    "\n",
    "        :param book_name: The name of the book to borrow.\n",
    "        :return: None\n",
    "        \"\"\"\n",
    "\n",
    "        if book_name in self.book_details.keys():\n",
    "            self.book_names.append(book_name)\n",
    "            if len(self.book_names) <= 2:\n",
    "                count = self.book_details[book_name]\n",
    "                print(\"The book is available. You can borrow the book.\")\n",
    "                count -= 1\n",
    "                self.book_details.update({book_name: count})\n",
    "                self.member_details.update({self.member_aadhaar: self.book_names})\n",
    "            else:\n",
    "                print(\"Please return the borrowed book. As you are allowed to take at max only 2 books.\")\n",
    "        else:\n",
    "            print(f\"{book_name} is not available in our library\")\n",
    "\n",
    "    def return_books_to_library(self, aadhaar_number, book_name):\n",
    "        \"\"\"\n",
    "        Return a book to the library.\n",
    "\n",
    "        This method allows a library member to return a book to the library. It checks if the book is associated with\n",
    "        the member (tracked by Aadhaar number) and updates the book quantity accordingly.\n",
    "\n",
    "        :param aadhaar_number: The Aadhaar number of the member returning the book.\n",
    "        :param book_name: The name of the book being returned.\n",
    "        :return: None\n",
    "        \"\"\"\n",
    "        \n",
    "        # Check if the member's Aadhaar number is in the member_details dictionary\n",
    "        if aadhaar_number in self.member_details.keys():\n",
    "            # Check if the book is associated with the member\n",
    "            if 1 <= len(self.member_details.values()) <= 2:\n",
    "                for bname in self.member_details.values():\n",
    "                    if bname[0] == book_name:\n",
    "                        print(f\"Thanks for returning {book_name}.\")\n",
    "                        count = self.book_details[book_name]\n",
    "                        count += 1\n",
    "                        self.book_details.update({book_name: count})\n",
    "                        del self.book_names[self.book_names.index(book_name)]\n",
    "                        logger.info(f\"Returned a book to the library for Aadhaar number: {aadhaar_number}.\")\n",
    "                        break\n",
    "            else:\n",
    "                print(\"You have not taken any book to return it.\")\n",
    "\n",
    "        else:\n",
    "            print(\"You do not have any books borrowed.\")\n",
    "\n",
    "    def display_available_books(self):\n",
    "        \"\"\"\n",
    "        Display available books in the library.\n",
    "\n",
    "        This method lists and displays the names of available books in the library, along with their respective\n",
    "        quantities.\n",
    "\n",
    "        :return: None\n",
    "        \"\"\"\n",
    "        for key, value in self.book_details.items():\n",
    "            print(f\"Name of the Book: {key}\\tTotal Count: {value}\")\n",
    "\n",
    "\n",
    "def start_library_menu(lc):\n",
    "    \"\"\"\n",
    "    Start the Library Menu.\n",
    "\n",
    "    This function provides an interactive menu for library members to donate books to the library, borrow books,\n",
    "    return books, and display their contributions to the library. It interacts with the LibraryCatalog (lc) object\n",
    "    to facilitate these actions.\n",
    "\n",
    "    :param lc: A LibraryCatalog object for managing library services.\n",
    "    :return: None\n",
    "    \"\"\"\n",
    "    logger.info(\"Starting Library Menu\")\n",
    "    print(\"Select any of the below choices: \")\n",
    "\n",
    "    print(\"\\n1. Donate books to library\\n2. Borrow books from library\\n3. Return books to library\\n\"\n",
    "          \"4. Display your contribution\\n5. Exit\\n\")\n",
    "    choice = input(\"Which option do you want to choose: \")\n",
    "\n",
    "    while choice.lower() not in ['5', 'exit']:\n",
    "\n",
    "        if choice.lower() in ['1', 'add']:\n",
    "\n",
    "            try:\n",
    "                num = int(input(\"Enter the number of books you want to donate to our library: \"))\n",
    "                lc.add_books_to_library(num)\n",
    "                logger.info(f\"Donated {num} books to the library. Your contribution Makes a Difference!\")\n",
    "                start_library_menu(lc)\n",
    "                break\n",
    "\n",
    "            except ValueError:\n",
    "                logger.error(\"Enter numerical values only\")\n",
    "                start_library_menu(lc)\n",
    "                break\n",
    "            except Exception as ex:\n",
    "                logger.error(f\"An error occurred while adding books to the library: {ex}\")\n",
    "                start_library_menu(lc)\n",
    "                break\n",
    "\n",
    "        elif choice.lower() in ['2', 'borrow']:\n",
    "            try:\n",
    "                name = input(\"Please enter the book name that you want to borrow: \")\n",
    "                lc.borrow_book_from_library(name)\n",
    "                logger.info(f\"Borrowed the book '{name}' from the library.\")\n",
    "                start_library_menu(lc)\n",
    "                break\n",
    "            except Exception as ex:\n",
    "                logger.error(f\"An error occurred while borrowing book from library: {ex}\")\n",
    "                start_library_menu(lc)\n",
    "                break\n",
    "\n",
    "        elif choice.lower() in ['3', 'return']:\n",
    "            try:\n",
    "                aadhaar = input(\"Please enter your aadhaar number: \")\n",
    "                book_name = input(\"Please enter the book name: \")\n",
    "                lc.return_books_to_library(aadhaar, book_name)\n",
    "                start_library_menu(lc)\n",
    "                break\n",
    "\n",
    "            except Exception as ex:\n",
    "                logger.error(f\"An error occurred while returning book to library: {ex}\")\n",
    "                start_library_menu(lc)\n",
    "                break\n",
    "\n",
    "        elif choice.lower() in ['4', 'display']:\n",
    "            try:\n",
    "                logger.info(\"Displaying books contributed.\")\n",
    "                lc.display_available_books()\n",
    "                start_library_menu(lc)\n",
    "                break\n",
    "            except Exception as ex:\n",
    "                logger.error(f\"An error occurred while displaying book to library: {ex}\")\n",
    "                start_library_menu(lc)\n",
    "                break\n",
    "\n",
    "    else:\n",
    "        if choice.lower() in ['5', 'exit']:\n",
    "            print(\"Thank You!\")\n",
    "            logger.info(\"Exiting Library Catalog Menu.\")\n",
    "        else:\n",
    "            print(\"Invalid Choice!\")\n",
    "            logger.warning(\"User entered an invalid choice.\")\n",
    "\n",
    "\n",
    "def display_rules_and_regulations():\n",
    "    \"\"\"\n",
    "    Display the rules and regulations of the library.\n",
    "\n",
    "    This function displays the rules and regulations that library members and visitors need to follow when using\n",
    "    the library's services.\n",
    "\n",
    "    :return: None\n",
    "    \"\"\"\n",
    "    logger.info(\"Displaying rules and regulations of PW Library.\")\n",
    "    print(\"\\nRules and Regulations:\\n\")\n",
    "    print(\"1. A person can become a member by providing Aadhaar Card\")\n",
    "    print(\"2. A member can borrow only 2 books at a time. If needed more books, need to return book and then borrow. \"\n",
    "          \"So a member will be able to borrow only 2 books\")\n",
    "    print(\"3. A member can add as many books as he wants in the library.\")\n",
    "    print(\"4. A non-member will not be having any of our PW privileges.\")\n",
    "\n",
    "\n",
    "def start_library_catalog():\n",
    "    \"\"\"\n",
    "    Start the Library Catalog Services.\n",
    "\n",
    "    This function serves as the entry point for the Library Catalog Services. It initializes the library catalog,\n",
    "    displays rules and regulations, and allows library members to add books to the library, display available books,\n",
    "    and borrow books.\n",
    "\n",
    "    :return: None\n",
    "    \"\"\"\n",
    "\n",
    "    logger.info(\"Starting Library Catalog Services.\")\n",
    "    print(\"Welcome to PW Library Catalog!\")\n",
    "\n",
    "    display_rules_and_regulations()\n",
    "\n",
    "    logger.info(\"Call to start the PW Library Catalog Services..\")\n",
    "\n",
    "    aadhaar = input(\"Please enter your Aadhaar Card details to become a member of PW Library: \")\n",
    "\n",
    "    name = input(\"Please enter your name: \")\n",
    "\n",
    "    print(f\"\\n{name}, Welcome to the PW Library..\")\n",
    "\n",
    "    lc = LibraryCatalog(aadhaar, name)\n",
    "    \n",
    "    try:\n",
    "        start_library_menu(lc)\n",
    "    except Exception as ex:\n",
    "        logger.error(f\"An error occurred while starting library menu: {ex}\")\n",
    "\n",
    "\n",
    "if __name__ == \"__main__\":\n",
    "    start_library_catalog()\n"
   ]
  },
  {
   "cell_type": "markdown",
   "id": "0019e527-2fd7-40ea-a2e8-515016515b4a",
   "metadata": {
    "tags": []
   },
   "source": [
    "Problem 5: Product Inventory \n",
    "----------------------------\n",
    "Create classes representing a product and an inventory system. Implement methods to add products to the inventory, update product quantity, and display available products."
   ]
  },
  {
   "cell_type": "code",
   "execution_count": null,
   "id": "fb64b2e7-0365-4730-acf5-b923175d100f",
   "metadata": {},
   "outputs": [],
   "source": [
    "import logging as logger\n",
    "\n",
    "logger.basicConfig(filename=\"python_oops_logging.log\", filemode=\"a\", level=logger.DEBUG, format='%(levelname)s-%(asctime)s-%(message)s')"
   ]
  },
  {
   "cell_type": "code",
   "execution_count": 6,
   "id": "cb664ca7-9650-420e-ab2c-94d818bb09d1",
   "metadata": {},
   "outputs": [
    {
     "name": "stdout",
     "output_type": "stream",
     "text": [
      "Product Inventory Application!\n",
      "Select any of the below choices: \n",
      "\n",
      "1. Add Product to Inventory\n",
      "2. Update Product in Inventory\n",
      "3. Display Available Products\n",
      "4. Exit\n",
      "\n"
     ]
    },
    {
     "name": "stdin",
     "output_type": "stream",
     "text": [
      "Which option do you want to choose:  1\n",
      "Enter the product id (only numerical values):  100\n",
      "Enter the name of the product:  Laptop\n",
      "Enter the price of the product:  43000\n",
      "Enter the quantity of the product that you want to add into inventory:  20\n"
     ]
    },
    {
     "name": "stdout",
     "output_type": "stream",
     "text": [
      "Added product to the inventory\n",
      "Select any of the below choices: \n",
      "\n",
      "1. Add Product to Inventory\n",
      "2. Update Product in Inventory\n",
      "3. Display Available Products\n",
      "4. Exit\n",
      "\n"
     ]
    },
    {
     "name": "stdin",
     "output_type": "stream",
     "text": [
      "Which option do you want to choose:  1\n",
      "Enter the product id (only numerical values):  102\n",
      "Enter the name of the product:  Phone\n",
      "Enter the price of the product:  20000\n",
      "Enter the quantity of the product that you want to add into inventory:  20\n"
     ]
    },
    {
     "name": "stdout",
     "output_type": "stream",
     "text": [
      "Added product to the inventory\n",
      "Select any of the below choices: \n",
      "\n",
      "1. Add Product to Inventory\n",
      "2. Update Product in Inventory\n",
      "3. Display Available Products\n",
      "4. Exit\n",
      "\n"
     ]
    },
    {
     "name": "stdin",
     "output_type": "stream",
     "text": [
      "Which option do you want to choose:  3\n"
     ]
    },
    {
     "name": "stdout",
     "output_type": "stream",
     "text": [
      "1 :  Laptop (ID: 100) - Price: Rs. 43000.0, Total available Quantity: 20\n",
      "2 :  Phone (ID: 102) - Price: Rs. 20000.0, Total available Quantity: 20\n",
      "Select any of the below choices: \n",
      "\n",
      "1. Add Product to Inventory\n",
      "2. Update Product in Inventory\n",
      "3. Display Available Products\n",
      "4. Exit\n",
      "\n"
     ]
    },
    {
     "name": "stdin",
     "output_type": "stream",
     "text": [
      "Which option do you want to choose:  2\n",
      "Enter the product id (only numerical values):  100\n",
      "Enter the quantity of the product that you want to add or remove into inventory:  add\n",
      "Enter the product id (only numerical values):  100\n",
      "Enter the quantity of the product that you want to add or remove into inventory:  10\n",
      "Do you want to add the product to the inventory or remove the product from the inventory ?('add' to add the product or 'remove' to remove the product):  add\n"
     ]
    },
    {
     "name": "stdout",
     "output_type": "stream",
     "text": [
      "Updated the Product Quantity\n",
      "Select any of the below choices: \n",
      "\n",
      "1. Add Product to Inventory\n",
      "2. Update Product in Inventory\n",
      "3. Display Available Products\n",
      "4. Exit\n",
      "\n"
     ]
    },
    {
     "name": "stdin",
     "output_type": "stream",
     "text": [
      "Which option do you want to choose:  3\n"
     ]
    },
    {
     "name": "stdout",
     "output_type": "stream",
     "text": [
      "1 :  Laptop (ID: 100) - Price: Rs. 43000.0, Total available Quantity: 30\n",
      "2 :  Phone (ID: 102) - Price: Rs. 20000.0, Total available Quantity: 20\n",
      "Select any of the below choices: \n",
      "\n",
      "1. Add Product to Inventory\n",
      "2. Update Product in Inventory\n",
      "3. Display Available Products\n",
      "4. Exit\n",
      "\n"
     ]
    },
    {
     "name": "stdin",
     "output_type": "stream",
     "text": [
      "Which option do you want to choose:  2\n",
      "Enter the product id (only numerical values):  102\n",
      "Enter the quantity of the product that you want to add or remove into inventory:  20\n",
      "Do you want to add the product to the inventory or remove the product from the inventory ?('add' to add the product or 'remove' to remove the product):  remove\n"
     ]
    },
    {
     "name": "stdout",
     "output_type": "stream",
     "text": [
      "Updated the Product Quantity\n",
      "Select any of the below choices: \n",
      "\n",
      "1. Add Product to Inventory\n",
      "2. Update Product in Inventory\n",
      "3. Display Available Products\n",
      "4. Exit\n",
      "\n"
     ]
    },
    {
     "name": "stdin",
     "output_type": "stream",
     "text": [
      "Which option do you want to choose:  3\n"
     ]
    },
    {
     "name": "stdout",
     "output_type": "stream",
     "text": [
      "1 :  Laptop (ID: 100) - Price: Rs. 43000.0, Total available Quantity: 30\n",
      "Select any of the below choices: \n",
      "\n",
      "1. Add Product to Inventory\n",
      "2. Update Product in Inventory\n",
      "3. Display Available Products\n",
      "4. Exit\n",
      "\n"
     ]
    },
    {
     "name": "stdin",
     "output_type": "stream",
     "text": [
      "Which option do you want to choose:  2\n",
      "Enter the product id (only numerical values):  100\n",
      "Enter the quantity of the product that you want to add or remove into inventory:  30\n",
      "Do you want to add the product to the inventory or remove the product from the inventory ?('add' to add the product or 'remove' to remove the product):  remove\n"
     ]
    },
    {
     "name": "stdout",
     "output_type": "stream",
     "text": [
      "Updated the Product Quantity\n",
      "Select any of the below choices: \n",
      "\n",
      "1. Add Product to Inventory\n",
      "2. Update Product in Inventory\n",
      "3. Display Available Products\n",
      "4. Exit\n",
      "\n"
     ]
    },
    {
     "name": "stdin",
     "output_type": "stream",
     "text": [
      "Which option do you want to choose:  3\n"
     ]
    },
    {
     "name": "stdout",
     "output_type": "stream",
     "text": [
      "No products available in the inventory.\n",
      "Select any of the below choices: \n",
      "\n",
      "1. Add Product to Inventory\n",
      "2. Update Product in Inventory\n",
      "3. Display Available Products\n",
      "4. Exit\n",
      "\n"
     ]
    },
    {
     "name": "stdin",
     "output_type": "stream",
     "text": [
      "Which option do you want to choose:  4\n"
     ]
    },
    {
     "name": "stdout",
     "output_type": "stream",
     "text": [
      "Thank You!\n"
     ]
    }
   ],
   "source": [
    "class Product:\n",
    "    \"\"\"\n",
    "    Product class instantiates the product details and displays the product details.\n",
    "    \"\"\"\n",
    "\n",
    "    def __init__(self, pid, name, price, quantity):\n",
    "        \"\"\"\n",
    "        Intializes a class instance with product id, product name, product price and product quantity\n",
    "        :param pid: (int) The identity of the product\n",
    "        :param name: (str) The name of the product\n",
    "        :param price: (float) The price of the product\n",
    "        :param quantity: (int) The quantity of the product\n",
    "        \"\"\"\n",
    "        logger.info(\"Initializing Product class\")\n",
    "        self.product_id = pid\n",
    "        self.product_name = name\n",
    "        self.product_price = price\n",
    "        self.product_quantity = quantity\n",
    "\n",
    "    def __str__(self):\n",
    "        \"\"\"\n",
    "        This function is to display the details. A String initializer.\n",
    "        :return: the details of the product\n",
    "        \"\"\"\n",
    "        logger.info(\"Initializing the string\")\n",
    "        return f\"{self.product_name} (ID: {self.product_id}) - Price: Rs. {self.product_price}, \" \\\n",
    "               f\"Total available Quantity: {self.product_quantity}\"\n",
    "\n",
    "\n",
    "class Inventory:\n",
    "    \"\"\"\n",
    "    Inventory class provides a basic functionality such as add product to inventory, update product quantity and display\n",
    "     the product details.\n",
    "    \"\"\"\n",
    "\n",
    "    def __init__(self):\n",
    "        \"\"\"\n",
    "        A class instantiate. This is a constructor to declare the products\n",
    "        \"\"\"\n",
    "        self.products = []\n",
    "\n",
    "    def add_product_to_inventory(self, product):\n",
    "        \"\"\"\n",
    "        Adding product to the inventory.\n",
    "\n",
    "        This function would add the product to products list.\n",
    "        :param product: (object) Product class.\n",
    "        \"\"\"\n",
    "        logger.info(\"Adding product to the inventory\")\n",
    "        self.products.append(product)\n",
    "        logger.debug(f\"Products: {self.products}\")\n",
    "\n",
    "    def update_quantity_of_product(self, pid, new_qty):\n",
    "        \"\"\"\n",
    "        Updating the quantity of the product in the inventory.\n",
    "\n",
    "        This function would update the quantity of the product. If the product quantity is less than new_qty, then the\n",
    "        product quantity will be updated with new qty, else it'll display message that available quantity is less than\n",
    "        the new quantity. do they want to add the quantity or sell the product.\n",
    "        :param pid: (int) the identity of the product\n",
    "        :param new_qty: (int) the new proposed quantity\n",
    "        \"\"\"\n",
    "\n",
    "        logger.info(\"Updating the quantity of the product.\")\n",
    "        if self.products:\n",
    "            choice = input(\"Do you want to add the product to the inventory or remove the product from the inventory ?\"\n",
    "                           \"('add' to add the product or 'remove' to remove the product): \")\n",
    "            logger.debug(f\"Product Owner's choice: {choice}\")\n",
    "            if choice.lower() == 'add':\n",
    "                for pd in self.products:\n",
    "                    if pd.product_id == pid:\n",
    "                        pd.product_quantity += new_qty\n",
    "                        break\n",
    "            elif choice.lower() == 'remove':\n",
    "                for pd in self.products:\n",
    "                    if pd.product_id == pid:\n",
    "                        if pd.product_quantity >= new_qty:\n",
    "                            pd.product_quantity -= new_qty\n",
    "                            break\n",
    "                        else:\n",
    "                            print(f\"Not enough quantity to remove the product from the inventory. \"\n",
    "                                  f\"We have only {pd.product_quantity} in our inventory.\")\n",
    "            else:\n",
    "                print(\"Invalid choice!\")\n",
    "        else:\n",
    "            print(\"You need to add the product to the inventory first and then can update it.\")\n",
    "\n",
    "    def display_available_product_details(self):\n",
    "        \"\"\"\n",
    "        Display the available products in the inventory.\n",
    "        \"\"\"\n",
    "        available_products = [product for product in self.products if product.product_quantity]\n",
    "        if available_products:\n",
    "            for k, v in enumerate(available_products, 1):\n",
    "                print(k, \": \", v)\n",
    "        else:\n",
    "            print(\"No products available in the inventory.\")\n",
    "\n",
    "\n",
    "def start_product_inventory_menu(inventory):\n",
    "    \"\"\"\n",
    "    Start the product inventory menu.\n",
    "\n",
    "    This function provides an interactive menu for managing a product inventory. Users can add products to the\n",
    "    inventory, update product quantities, and display available product details.\n",
    "\n",
    "    :param inventory: An `Inventory` object for managing the product inventory.\n",
    "    :return: None\n",
    "    \"\"\"\n",
    "\n",
    "    logger.info(\"Starting Product Inventory Menu.\")\n",
    "    print(\"Select any of the below choices: \")\n",
    "\n",
    "    print(\"\\n1. Add Product to Inventory\\n2. Update Product in Inventory\\n3. Display Available Products\\n4. Exit\\n\")\n",
    "    choice = input(\"Which option do you want to choose: \")\n",
    "\n",
    "    while choice.lower() not in ['4', 'exit']:\n",
    "\n",
    "        if choice.lower() in ['1', 'add']:\n",
    "            try:\n",
    "                pid = int(input(\"Enter the product id (only numerical values): \"))\n",
    "                pname = input(\"Enter the name of the product: \")\n",
    "                pprice = float(input(\"Enter the price of the product: \"))\n",
    "                qty = int(input(\"Enter the quantity of the product that you want to add into inventory: \"))\n",
    "\n",
    "                product = Product(pid, pname, pprice, qty)\n",
    "\n",
    "                inventory.add_product_to_inventory(product)\n",
    "                logger.info(f\"Added product to inventory: {product}\")\n",
    "                print(\"Added product to the inventory\")\n",
    "                start_product_inventory_menu(inventory)\n",
    "                break\n",
    "\n",
    "            except ValueError:\n",
    "                logger.error(\"Please enter only numerical Values\")\n",
    "            except Exception as ex:\n",
    "                logger.error(f\"An error occurred while adding product to inventory: {ex}\")\n",
    "\n",
    "        elif choice.lower() in ['2', 'update']:\n",
    "            try:\n",
    "                pid = int(input(\"Enter the product id (only numerical values): \"))\n",
    "                qty = int(input(\"Enter the quantity of the product that you want to add or remove into inventory: \"))\n",
    "                inventory.update_quantity_of_product(pid, qty)\n",
    "                print(\"Updated the Product Quantity\")\n",
    "                logger.info(f\"Updated product quantity for product ID {pid} by {qty}.\")\n",
    "                start_product_inventory_menu(inventory)\n",
    "                break\n",
    "            except ValueError:\n",
    "                logger.error(\"Please enter numerical value\")\n",
    "            except Exception as ex:\n",
    "                logger.error(f\"An exception occurred while updating the quantity: {ex}\")\n",
    "\n",
    "        elif choice.lower() in ['3', 'display']:\n",
    "            inventory.display_available_product_details()\n",
    "            start_product_inventory_menu(inventory)\n",
    "            break\n",
    "\n",
    "    else:\n",
    "        if choice.lower() in ['4', 'exit']:\n",
    "            print(\"Thank You!\")\n",
    "            logger.info(\"Exiting Product Inventory Menu.\")\n",
    "        else:\n",
    "            print(\"Invalid Choice!\")\n",
    "            logger.warning(\"User entered an invalid choice.\")\n",
    "\n",
    "\n",
    "def start_product_inventory_application():\n",
    "    \"\"\"\n",
    "    Start the product inventory application.\n",
    "\n",
    "    This function initializes the product inventory application, creates an `Inventory` object, and then calls the\n",
    "    `start_product_inventory_menu` function for interactive product inventory management.\n",
    "    \"\"\"\n",
    "\n",
    "    logger.info(\"Starting the product inventory application\")\n",
    "\n",
    "    print(\"Product Inventory Application!\")\n",
    "\n",
    "    try:\n",
    "        inventory = Inventory()  # inventory object\n",
    "        start_product_inventory_menu(inventory)\n",
    "    except ValueError:\n",
    "        logger.error(\"Please enter only numerical value!\")\n",
    "    except Exception as ex:\n",
    "        logger.error(f\"An exception occurred due to: {ex}\")\n",
    "\n",
    "\n",
    "if __name__ == \"__main__\":\n",
    "    start_product_inventory_application()\n"
   ]
  },
  {
   "cell_type": "markdown",
   "id": "0b276d34-5160-4fad-84de-d6ed96ed170b",
   "metadata": {
    "tags": []
   },
   "source": [
    "Problem 6: Shape Calculation \n",
    "----------------------------\n",
    "Create a class representing a shape with attributes like length, width, and height. Implement methods to calculate the area and perimeter of the shape."
   ]
  },
  {
   "cell_type": "code",
   "execution_count": null,
   "id": "b7d2d5ca-299c-41ed-b52e-7b820b4dc1bd",
   "metadata": {},
   "outputs": [],
   "source": [
    "import logging as logger\n",
    "\n",
    "logger.basicConfig(filename=\"python_oops_logging.log\", filemode=\"a\", level=logger.DEBUG, format='%(levelname)s-%(asctime)s-%(message)s')"
   ]
  },
  {
   "cell_type": "code",
   "execution_count": 7,
   "id": "75f80c05-c852-46e9-b3e1-5abdbe6ff26f",
   "metadata": {},
   "outputs": [
    {
     "name": "stdout",
     "output_type": "stream",
     "text": [
      "Shape Calculation application!\n",
      "\n"
     ]
    },
    {
     "name": "stdin",
     "output_type": "stream",
     "text": [
      "Enter the height of the shape:  1\n",
      "Enter the width of the shape:  1\n",
      "Enter the length of the shape:  1\n"
     ]
    },
    {
     "name": "stdout",
     "output_type": "stream",
     "text": [
      "Select any of the below option to see the Area and Perimeter of the shape: \n",
      "\n",
      "1. Rectangle\n",
      "2. Square\n",
      "3. Triangle\n",
      "4. Circle\n",
      "5. Exit\n"
     ]
    },
    {
     "name": "stdin",
     "output_type": "stream",
     "text": [
      "\n",
      "Which option do you want to choose:  1\n"
     ]
    },
    {
     "name": "stdout",
     "output_type": "stream",
     "text": [
      "\n",
      "Area of Rectangle = 1.0\n",
      "Perimeter of Rectangle = 4.0\n",
      "\n",
      "Select any of the below option to see the Area and Perimeter of the shape: \n",
      "\n",
      "1. Rectangle\n",
      "2. Square\n",
      "3. Triangle\n",
      "4. Circle\n",
      "5. Exit\n"
     ]
    },
    {
     "name": "stdin",
     "output_type": "stream",
     "text": [
      "\n",
      "Which option do you want to choose:  2\n"
     ]
    },
    {
     "name": "stdout",
     "output_type": "stream",
     "text": [
      "\n",
      "Area of Square = 1.0\n",
      "Perimeter of Square = 4.0\n",
      "\n",
      "Select any of the below option to see the Area and Perimeter of the shape: \n",
      "\n",
      "1. Rectangle\n",
      "2. Square\n",
      "3. Triangle\n",
      "4. Circle\n",
      "5. Exit\n"
     ]
    },
    {
     "name": "stdin",
     "output_type": "stream",
     "text": [
      "\n",
      "Which option do you want to choose:  3\n"
     ]
    },
    {
     "name": "stdout",
     "output_type": "stream",
     "text": [
      "\n",
      "Area of Triangle = 0.4330127018922193\n",
      "Perimeter of Triangle = 3.0\n",
      "\n",
      "Select any of the below option to see the Area and Perimeter of the shape: \n",
      "\n",
      "1. Rectangle\n",
      "2. Square\n",
      "3. Triangle\n",
      "4. Circle\n",
      "5. Exit\n"
     ]
    },
    {
     "name": "stdin",
     "output_type": "stream",
     "text": [
      "\n",
      "Which option do you want to choose:  4\n"
     ]
    },
    {
     "name": "stdout",
     "output_type": "stream",
     "text": [
      "\n",
      "Area of Circle = 0.7853981633974483\n",
      "Perimeter of Circle = 3.141592653589793\n",
      "\n",
      "Select any of the below option to see the Area and Perimeter of the shape: \n",
      "\n",
      "1. Rectangle\n",
      "2. Square\n",
      "3. Triangle\n",
      "4. Circle\n",
      "5. Exit\n"
     ]
    },
    {
     "name": "stdin",
     "output_type": "stream",
     "text": [
      "\n",
      "Which option do you want to choose:  5\n"
     ]
    },
    {
     "name": "stdout",
     "output_type": "stream",
     "text": [
      "Thank You!\n"
     ]
    }
   ],
   "source": [
    "class Shape:\n",
    "    \"\"\"\n",
    "    Shape class takes only length, width and height and gives the area, perimeter of the different shapes.\n",
    "    \"\"\"\n",
    "\n",
    "    def __init__(self, length, height=None, width=None):\n",
    "        \"\"\"\n",
    "        This function initialises the class.\n",
    "\n",
    "        :param length: The length of the shape (float)\n",
    "        :param height: The height of the shape (float)\n",
    "        :param width: The width of the shape (float)\n",
    "        \"\"\"\n",
    "        self.length = length\n",
    "        self.height = height\n",
    "        self.width = width\n",
    "\n",
    "\n",
    "class Rectangle(Shape):\n",
    "    def calculate_area(self):\n",
    "        \"\"\"\n",
    "        Calculate the area of a rectangle.\n",
    "\n",
    "        :return: The area of the rectangle (float).\n",
    "        \"\"\"\n",
    "        area = self.length * self.width\n",
    "        return area\n",
    "\n",
    "    def calculate_perimeter(self):\n",
    "        \"\"\"\n",
    "        Calculate the perimeter of a rectangle.\n",
    "\n",
    "        :return: The perimeter of the rectangle (float).\n",
    "        \"\"\"\n",
    "        perimeter = 2 * (self.length + self.width)\n",
    "        return perimeter\n",
    "\n",
    "\n",
    "class Square(Rectangle):\n",
    "\n",
    "    def __init__(self, side):\n",
    "        # providing side as both length and width\n",
    "        super().__init__(side, side, side)\n",
    "\n",
    "\n",
    "class Triangle(Shape):\n",
    "    def calculate_area(self):\n",
    "        \"\"\"\n",
    "        Calculate the area of a triangle using Heron's formula.\n",
    "\n",
    "        :return: The area of the triangle (float).\n",
    "        \"\"\"\n",
    "        s = (self.length + self.width + self.height) / 2\n",
    "        area = (s * (s - self.length) * (s - self.width) * (s - self.height)) ** 0.5\n",
    "        return area\n",
    "\n",
    "    def calculate_perimeter(self):\n",
    "        \"\"\"\n",
    "        Calculate the perimeter of a triangle.\n",
    "\n",
    "        :return: The perimeter of the triangle (float).\n",
    "        \"\"\"\n",
    "        perimeter = self.length + self.width + self.height\n",
    "        return perimeter\n",
    "\n",
    "\n",
    "class Circle(Shape):\n",
    "    def calculate_area(self):\n",
    "        \"\"\"\n",
    "        Calculate the area of a circle.\n",
    "\n",
    "        :return: The area of the circle (float).\n",
    "        \"\"\"\n",
    "        import math\n",
    "        area = math.pi * (self.length / 2) ** 2\n",
    "        return area\n",
    "\n",
    "    def calculate_perimeter(self):\n",
    "        \"\"\"\n",
    "        Calculate the perimeter of a circle (which is called the circumference).\n",
    "\n",
    "        :return: The circumference of the circle (float).\n",
    "        \"\"\"\n",
    "        import math\n",
    "        perimeter = 2 * math.pi * (self.length / 2)\n",
    "        return perimeter\n",
    "\n",
    "\n",
    "def start_shape_menu(shape):\n",
    "    \"\"\"\n",
    "    Display a text-based menu for calculating the area and perimeter of different shapes.\n",
    "\n",
    "    This function allows the user to select from a menu of shapes (Rectangle, Square, Triangle, Circle) and calculates\n",
    "    and displays the area and perimeter (or circumference in the case of a Circle) of the chosen shape. It continues to\n",
    "    prompt the user for input until they choose to exit.\n",
    "\n",
    "    :param shape: A Shape object with dimensions (length, width, height) relevant to the selected shape.\n",
    "    :return: None\n",
    "    \"\"\"\n",
    "    logger.info(\"Starting the shape menu.\")\n",
    "    print(\"Select any of the below option to see the Area and Perimeter of the shape: \\n\")\n",
    "\n",
    "    print(\"1. Rectangle\\n2. Square\\n3. Triangle\\n4. Circle\\n5. Exit\")\n",
    "    choice = input(\"\\nWhich option do you want to choose: \")\n",
    "    while choice.lower() not in ['5', 'exit']:\n",
    "\n",
    "        if choice.lower() in ['1', 'rectangle']:\n",
    "            logger.info(\"User selected Rectangle.\")\n",
    "            rectangle = Rectangle(length=shape.length, height=shape.height, width=shape.width)\n",
    "            print(f\"\\nArea of Rectangle = {rectangle.calculate_area()}\")\n",
    "            print(f\"Perimeter of Rectangle = {rectangle.calculate_perimeter()}\\n\")\n",
    "            start_shape_menu(shape)\n",
    "            break\n",
    "\n",
    "        elif choice.lower() in ['2', 'square']:\n",
    "            logger.info(\"User selected Square.\")\n",
    "            square = Square(side=shape.length)\n",
    "            print(f\"\\nArea of Square = {square.calculate_area()}\")\n",
    "            print(f\"Perimeter of Square = {square.calculate_perimeter()}\\n\")\n",
    "            start_shape_menu(shape)\n",
    "            break\n",
    "\n",
    "        elif choice.lower() in ['3', 'triangle']:\n",
    "            logger.info(\"User selected Triangle.\")\n",
    "            triangle = Triangle(length=shape.length, height=shape.height, width=shape.width)\n",
    "            print(f\"\\nArea of Triangle = {triangle.calculate_area()}\")\n",
    "            print(f\"Perimeter of Triangle = {triangle.calculate_perimeter()}\\n\")\n",
    "            start_shape_menu(shape)\n",
    "            break\n",
    "\n",
    "        elif choice.lower() in ['4', 'circle']:\n",
    "            logger.info(\"User selected Circle.\")\n",
    "            circle = Circle(length=shape.length, height=shape.height, width=shape.width)\n",
    "            print(f\"\\nArea of Circle = {circle.calculate_area()}\")\n",
    "            print(f\"Perimeter of Circle = {circle.calculate_perimeter()}\\n\")\n",
    "            start_shape_menu(shape)\n",
    "            break\n",
    "\n",
    "    else:\n",
    "        if choice.lower() in ['5', 'exit']:\n",
    "            print(\"Thank You!\")\n",
    "        else:\n",
    "            print(\"Invalid Choice!\")\n",
    "            logger.warning(\"User entered an invalid choice.\")\n",
    "\n",
    "\n",
    "def start_shape_application():\n",
    "    \"\"\"\n",
    "    Start the shape calculation application.\n",
    "\n",
    "    This function initializes the shape calculation application by taking user input for the dimensions of a shape\n",
    "    (length, width, and height), creating a `Shape` object, and then calling the `start_shape_menu` function for\n",
    "    interactive shape calculations.\n",
    "    \"\"\"\n",
    "    logger.info(\"Starting shape application .. \")\n",
    "    print(\"Shape Calculation application!\\n\")\n",
    "\n",
    "    try:\n",
    "        height = float(input(\"Enter the height of the shape: \"))\n",
    "        width = float(input(\"Enter the width of the shape: \"))\n",
    "        length = float(input(\"Enter the length of the shape: \"))\n",
    "\n",
    "        shape = Shape(length, height, width)\n",
    "\n",
    "        start_shape_menu(shape)\n",
    "\n",
    "    except ValueError:\n",
    "        logger.error(\"Please enter numerical values only\")\n",
    "    except Exception as ex:\n",
    "        logger.error(f\"An error occurred. Reason: {ex}\")\n",
    "\n",
    "\n",
    "if __name__ == \"__main__\":\n",
    "    start_shape_application()"
   ]
  },
  {
   "cell_type": "markdown",
   "id": "5508476a-a6e8-429f-8d4b-683e096f958a",
   "metadata": {
    "tags": []
   },
   "source": [
    "Problem 7: Student Management \n",
    "-----------------------------\n",
    "Create a class representing a student with attributes like student ID, name, and grades. Implement methods to calculate the average grade and display student details."
   ]
  },
  {
   "cell_type": "code",
   "execution_count": null,
   "id": "9920b7a2-dff1-40af-8f95-9f713e4ffd80",
   "metadata": {},
   "outputs": [],
   "source": [
    "import logging as logger\n",
    "\n",
    "logger.basicConfig(filename=\"python_oops_logging.log\", filemode=\"a\", level=logger.DEBUG, format='%(levelname)s-%(asctime)s-%(message)s')"
   ]
  },
  {
   "cell_type": "code",
   "execution_count": 8,
   "id": "6fe8ae0a-a118-42c6-a771-9d28a4c6ef04",
   "metadata": {},
   "outputs": [
    {
     "name": "stdout",
     "output_type": "stream",
     "text": [
      "Welcome to Student Management Portal.\n"
     ]
    },
    {
     "name": "stdin",
     "output_type": "stream",
     "text": [
      "\n",
      "Please enter the name of the student:  Hansa\n",
      "Please enter the student id:  1VI14IS028\n",
      "Please enter the number of marks you need to enter:  4\n"
     ]
    },
    {
     "name": "stdout",
     "output_type": "stream",
     "text": [
      "\n"
     ]
    },
    {
     "name": "stdin",
     "output_type": "stream",
     "text": [
      "Please enter the 1th subject marks:  100\n",
      "Please enter the 2th subject marks:  98\n",
      "Please enter the 3th subject marks:  99\n",
      "Please enter the 4th subject marks:  200\n"
     ]
    },
    {
     "name": "stdout",
     "output_type": "stream",
     "text": [
      "\n",
      "Student Details:\n",
      "Student ID: 1VI14IS028\n",
      "Name: Hansa\n",
      "Average Grade: 124.25\n"
     ]
    },
    {
     "name": "stdin",
     "output_type": "stream",
     "text": [
      "Do you want to continue entering for another student: (yes/no) yes\n"
     ]
    },
    {
     "name": "stdout",
     "output_type": "stream",
     "text": [
      "Welcome to Student Management Portal.\n"
     ]
    },
    {
     "name": "stdin",
     "output_type": "stream",
     "text": [
      "\n",
      "Please enter the name of the student:  Guru\n",
      "Please enter the student id:  2SD14CS031\n",
      "Please enter the number of marks you need to enter:  4\n"
     ]
    },
    {
     "name": "stdout",
     "output_type": "stream",
     "text": [
      "\n"
     ]
    },
    {
     "name": "stdin",
     "output_type": "stream",
     "text": [
      "Please enter the 1th subject marks:  100\n",
      "Please enter the 2th subject marks:  98\n",
      "Please enter the 3th subject marks:  99\n",
      "Please enter the 4th subject marks:  99\n"
     ]
    },
    {
     "name": "stdout",
     "output_type": "stream",
     "text": [
      "\n",
      "Student Details:\n",
      "Student ID: 2SD14CS031\n",
      "Name: Guru\n",
      "Average Grade: 99.0\n"
     ]
    },
    {
     "name": "stdin",
     "output_type": "stream",
     "text": [
      "Do you want to continue entering for another student: (yes/no) no\n"
     ]
    },
    {
     "name": "stdout",
     "output_type": "stream",
     "text": [
      "Thank You!\n"
     ]
    }
   ],
   "source": [
    "import logging as logger\n",
    "\n",
    "logger.basicConfig(filename=\"python_oops_logging.log\", filemode=\"a\", level=logger.DEBUG, format='%(levelname)s-%(asctime)s-%(message)s')\n",
    "\n",
    "\n",
    "class StudentManagement:\n",
    "    \"\"\"\n",
    "    StudentManagement is basic class that represents the functionality of basic student management. It implements mehtods like calculating the average of the student's grades, and displaying student details.\n",
    "    \"\"\"\n",
    "    def __init__(self, student_id, name):\n",
    "        \"\"\"\n",
    "        Initialize a Student instance with a student ID and name.\n",
    "\n",
    "        :param student_id: The student's ID (str).\n",
    "        :param name: The student's name (str).\n",
    "        \"\"\"\n",
    "        logger.info(\"Intializing student management class ..\")\n",
    "        self.student_ID = student_id\n",
    "        self.student_name = name\n",
    "        self.student_grades = []\n",
    "\n",
    "    def add_grade(self, grade):\n",
    "        \"\"\"\n",
    "        Add a grade to the student's record.\n",
    "\n",
    "        :param grade: The student's grade (float).\n",
    "        :return: None\n",
    "        \"\"\"\n",
    "        logger.info(\"Adding grade to student's record.\")\n",
    "        self.student_grades.append(grade)\n",
    "        logger.debug(f\"Student Grades = {self.student_grades}\")\n",
    "\n",
    "    def calculate_average_grade(self):\n",
    "        \"\"\"\n",
    "        Calculate the average grade of the student.\n",
    "\n",
    "        :return: The average grade (float).\n",
    "        \"\"\"\n",
    "\n",
    "        logger.info(f\"Calculating the average grade of {self.student_name}\")\n",
    "        if not self.student_grades:\n",
    "            logger.debug(\"No grades to calculate\")\n",
    "            return 0.0\n",
    "        else:\n",
    "            avg = sum(self.student_grades) / len(self.student_grades)\n",
    "\n",
    "            logger.debug(f\"The average grade of {self.student_name} is {avg}\")\n",
    "            return avg\n",
    "\n",
    "    def display_student_details(self):\n",
    "        \"\"\"\n",
    "        Display student details, including student ID, name, and average grade.\n",
    "        \"\"\"\n",
    "        logger.info(\"Displaying the student details.\")\n",
    "        print(\"\\nStudent Details:\")\n",
    "        print(f\"Student ID: {self.student_ID}\")\n",
    "        print(f\"Name: {self.student_name}\")\n",
    "        print(f\"Average Grade: {self.calculate_average_grade()}\")\n",
    "\n",
    "\n",
    "def start_again():\n",
    "    choice = input(\"Do you want to continue entering for another student: (yes/no)\")\n",
    "\n",
    "    while choice.lower() == 'yes':\n",
    "        start_student_management_services()\n",
    "        break\n",
    "    else:\n",
    "        if choice.lower() == 'no':\n",
    "            print(\"Thank You!\")\n",
    "        else:\n",
    "            print(\"Invalid choice!\")\n",
    "\n",
    "    \n",
    "\n",
    "\n",
    "def start_student_management_services():\n",
    "    \"\"\"\n",
    "    Start the Student Management services.\n",
    "\n",
    "    This function allows a teacher to enter the student details like name, ID and grade\n",
    "    \"\"\"\n",
    "\n",
    "    logger.info(\"Starting Student management services.\")\n",
    "    print(\"Welcome to Student Management Portal.\")\n",
    "\n",
    "    try:\n",
    "        name = input(\"\\nPlease enter the name of the student: \")\n",
    "        id = input(\"Please enter the student id: \")\n",
    "        num = int(input(\"Please enter the number of marks you need to enter: \"))\n",
    "\n",
    "        student = StudentManagement(name=name, student_id=id)\n",
    "        print()\n",
    "        for i in range(num):\n",
    "            student.add_grade(float(input(f\"Please enter the {i+1}th subject marks: \")))\n",
    "\n",
    "        student.display_student_details()\n",
    "\n",
    "    except ValueError as ve:\n",
    "        print(f\"Please enter only numerical values. {ve}\")\n",
    "        logger.error(\"Dear Teacher, Kindly enter number value!\")\n",
    "\n",
    "    start_again()\n",
    "\n",
    "\n",
    "if __name__ == \"__main__\":\n",
    "    start_student_management_services()"
   ]
  },
  {
   "cell_type": "markdown",
   "id": "48b4723a-5b17-486b-b25f-d20a42e7b5b6",
   "metadata": {
    "tags": []
   },
   "source": [
    "Problem 8: Email Management \n",
    "---------------------------\n",
    "Create a class representing an email with attributes like sender, recipient, and subject. Implement methods to send an email and display email details."
   ]
  },
  {
   "cell_type": "code",
   "execution_count": null,
   "id": "f6754c9b-8a24-45fa-9210-a6e1892e911b",
   "metadata": {},
   "outputs": [],
   "source": [
    "import logging as logger\n",
    "\n",
    "logger.basicConfig(filename=\"python_oops_logging.log\", filemode=\"a\", level=logger.DEBUG, format='%(levelname)s-%(asctime)s-%(message)s')"
   ]
  },
  {
   "cell_type": "code",
   "execution_count": 9,
   "id": "80f2be9c-1fcf-4e93-8c57-8da684db947e",
   "metadata": {},
   "outputs": [
    {
     "name": "stdout",
     "output_type": "stream",
     "text": [
      "Starting Email Management Services!\n"
     ]
    },
    {
     "name": "stdin",
     "output_type": "stream",
     "text": [
      "Please enter sender email address:  hansagouds26@gmail.com\n",
      "Please enter recipient email address:  guruprasadgoudar@gmail.com\n",
      "Please enter the subject of the email:  Meeting at 8 AM\n",
      "\n",
      "Please enter the content of the email: \n",
      " Hi Guru, Please schedule a meeting at 8 AM. To discuss about the annual product income.\n"
     ]
    },
    {
     "name": "stdout",
     "output_type": "stream",
     "text": [
      "\n",
      "Email sent from hansagouds26@gmail.com to guruprasadgoudar@gmail.com with subject 'Meeting at 8 AM':\n",
      "\n",
      "Hi Guru, Please schedule a meeting at 8 AM. To discuss about the annual product income.\n",
      "\n",
      "Email Details:\n",
      "Sender: hansagouds26@gmail.com\n",
      "Recipient: guruprasadgoudar@gmail.com\n",
      "Subject: Meeting at 8 AM\n"
     ]
    }
   ],
   "source": [
    "class EmailManagement:\n",
    "    \"\"\"\n",
    "    EmailManagement class represents basic functionalities of sending an email. It implements basic functionalities such as sending an email and displaying the email details.\n",
    "    \"\"\"\n",
    "\n",
    "    def __init__(self, sender, recipient, subject):\n",
    "        \"\"\"\n",
    "        Initialize an Email instance with sender, recipient, and subject.\n",
    "\n",
    "        :param sender: The email sender (str).\n",
    "        :param recipient: The email recipient (str).\n",
    "        :param subject: The email subject (str).\n",
    "        \"\"\"\n",
    "        logger.info(\"Initializing EmailManagement class\")\n",
    "        self.sender = sender\n",
    "        self.recipient = recipient\n",
    "        self.subject = subject\n",
    "        self.body = \"\"\n",
    "\n",
    "    def send_an_email(self, content):\n",
    "        \"\"\"\n",
    "        Email the dedicated recipient.\n",
    "\n",
    "        :param content: The content of the email (str).\n",
    "        \"\"\"\n",
    "        logger.info(\"Starting sending an email services .. \")\n",
    "        self.body = content\n",
    "        print(f\"\\nEmail sent from {self.sender} to {self.recipient} with subject '{self.subject}':\\n\")\n",
    "        print(self.body)\n",
    "        logger.info(\"Ending sending an email services\")\n",
    "\n",
    "    def display_email_details(self):\n",
    "        \"\"\"\n",
    "        Display email details, including sender, recipient, and subject.\n",
    "        \"\"\"\n",
    "        logger.info(\"Starting displaying email details .. \")\n",
    "        print(\"\\nEmail Details:\")\n",
    "        print(f\"Sender: {self.sender}\")\n",
    "        print(f\"Recipient: {self.recipient}\")\n",
    "        print(f\"Subject: {self.subject}\")\n",
    "        logger.info(\"Ending displaying email details .. \")\n",
    "\n",
    "\n",
    "def start_email_management_services():\n",
    "    \"\"\"\n",
    "    Start the Email Management application.\n",
    "\n",
    "    This function allows a user to enter the sender details, recipient email address, subject.\n",
    "    \"\"\"\n",
    "\n",
    "    logger.info(\"Starting email management services ..\")\n",
    "    print(\"Starting Email Management Services!\")\n",
    "\n",
    "    sender = input(\"Please enter sender email address: \")\n",
    "    recipient = input(\"Please enter recipient email address: \")\n",
    "    subject = input(\"Please enter the subject of the email: \")\n",
    "\n",
    "    email = EmailManagement(sender, recipient, subject)\n",
    "\n",
    "    email.send_an_email(input(\"\\nPlease enter the content of the email: \\n\"))\n",
    "\n",
    "    email.display_email_details()\n",
    "\n",
    "    logger.info(\"Ending email management services ..\")\n",
    "\n",
    "\n",
    "if __name__ == \"__main__\":\n",
    "    start_email_management_services()"
   ]
  },
  {
   "cell_type": "markdown",
   "id": "929fe3b1-c6d9-44be-85a3-786d37cd30a5",
   "metadata": {
    "tags": []
   },
   "source": [
    "Problem 9: Social Media Profile \n",
    "-------------------------------\n",
    "Create a class representing a social media profile with attributes like username and posts. Implement methods to add posts, display posts, and search for posts by keyword."
   ]
  },
  {
   "cell_type": "code",
   "execution_count": null,
   "id": "cd6154ce-3e52-4fe5-a282-774bc6003b92",
   "metadata": {},
   "outputs": [],
   "source": [
    "import logging as logger\n",
    "\n",
    "logger.basicConfig(filename=\"python_oops_logging.log\", filemode=\"a\", level=logger.DEBUG, format='%(levelname)s-%(asctime)s-%(message)s')"
   ]
  },
  {
   "cell_type": "code",
   "execution_count": 10,
   "id": "b3d8f642-8374-49f2-a37c-e6bf8a50785d",
   "metadata": {},
   "outputs": [
    {
     "name": "stdout",
     "output_type": "stream",
     "text": [
      "Welcome to PW SocialMedia Platform!\n"
     ]
    },
    {
     "name": "stdin",
     "output_type": "stream",
     "text": [
      "Please enter your username:  hansa_s_goud\n"
     ]
    },
    {
     "name": "stdout",
     "output_type": "stream",
     "text": [
      "\n",
      "hansa_s_goud, Welcome!\n",
      "\n"
     ]
    },
    {
     "name": "stdin",
     "output_type": "stream",
     "text": [
      "Enter the number of posts that you want to feed:  3\n",
      "Enter 1th Post Content:  Office Work!\n"
     ]
    },
    {
     "name": "stdout",
     "output_type": "stream",
     "text": [
      "Awesome Work!\n"
     ]
    },
    {
     "name": "stdin",
     "output_type": "stream",
     "text": [
      "Enter 2th Post Content:  Coffee World!\n"
     ]
    },
    {
     "name": "stdout",
     "output_type": "stream",
     "text": [
      "Awesome Work!\n"
     ]
    },
    {
     "name": "stdin",
     "output_type": "stream",
     "text": [
      "Enter 3th Post Content:  Sunkissed!\n"
     ]
    },
    {
     "name": "stdout",
     "output_type": "stream",
     "text": [
      "Awesome Work!\n",
      "Posts by hansa_s_goud:\n",
      "\n",
      "1. Office Work!\n",
      "2. Coffee World!\n",
      "3. Sunkissed!\n"
     ]
    },
    {
     "name": "stdin",
     "output_type": "stream",
     "text": [
      "\n",
      "Enter the keyword post that you need search:  office\n"
     ]
    },
    {
     "name": "stdout",
     "output_type": "stream",
     "text": [
      "\n",
      "Post by hansa_s_goud based on the keyword search office are: \n",
      "1. Office Work!\n"
     ]
    }
   ],
   "source": [
    "class SocialMediaProfile:\n",
    "    \"\"\"\n",
    "    SocialMediaProfile class represents basic functionalities of social media  profile. It implements functionalities like adding posts, displaying posts, searching posts by keyword\n",
    "    \"\"\"\n",
    "\n",
    "    def __init__(self, username):\n",
    "        \"\"\"\n",
    "        Initialize a social media profile with a given username.\n",
    "\n",
    "        :param username: The username for the social media profile (str).\n",
    "\n",
    "        This constructor creates a new SocialMediaProfile instance with username information.\n",
    "        \"\"\"\n",
    "        logger.info(\"Initializing SocialMediaProfile class\")\n",
    "        self.username = username\n",
    "        self.posts = []\n",
    "\n",
    "    def add_posts(self, post_content):\n",
    "        \"\"\"\n",
    "        Adding Posts to the social Media.\n",
    "\n",
    "        This function adds post content to the posts list.\n",
    "\n",
    "        :param post_content: (str) A content of the post\n",
    "        :return: None\n",
    "        \"\"\"\n",
    "\n",
    "        logger.info(\"Starting Adding Post contents\")\n",
    "        print(\"Awesome Work!\")\n",
    "        self.posts.append(post_content)\n",
    "        logger.debug(f\"Posts of {self.username} are\\n{self.posts}\")\n",
    "        logger.info(\"Ending Adding Post contents\")\n",
    "\n",
    "    def display_posts(self):\n",
    "        \"\"\"\n",
    "        Display all the posts in the user's profile.\n",
    "\n",
    "        This function would display all the posts in the profile\n",
    "        :return: None\n",
    "        \"\"\"\n",
    "        logger.info(\"Starting displaying all the posts\")\n",
    "        print(f\"Posts by {self.username}:\\n\")\n",
    "        for k, v in enumerate(self.posts, 1):\n",
    "            print(f\"{k}. {v}\")\n",
    "        logger.debug(f\"All Posts is: {self.posts}\")\n",
    "        logger.info(\"Ending displaying all the posts\")\n",
    "\n",
    "    def search_post_by_keyword(self, key):\n",
    "        \"\"\"\n",
    "        This function search for posts containing a specific keyword.\n",
    "\n",
    "        :param key: The keyword to search for in the posts (str).\n",
    "        :return: None\n",
    "        \"\"\"\n",
    "\n",
    "        logger.info(\"Starting displaying posts by keyword .. \")\n",
    "        sorted_posts = [post for post in self.posts if key.lower() in post.lower()]\n",
    "\n",
    "        if sorted_posts:\n",
    "            print(f\"\\nPost by {self.username} based on the keyword search {key} are: \")\n",
    "            logger.debug(f\"\\nSearched Posts: {sorted_posts}\")\n",
    "            for k, v in enumerate(sorted_posts, 1):\n",
    "                print(f\"{k}. {v}\")\n",
    "        else:\n",
    "            print(f\"No posts by {self.username} containing '{key}' found.\")\n",
    "            logger.info(f\"There are no posts associated with '{key}'!\")\n",
    "        logger.info(\"Ending displaying posts by keyword .. \")\n",
    "\n",
    "\n",
    "def start_social_media_profile():\n",
    "    \"\"\"\n",
    "    Start the PW SocialMediaProfile application.\n",
    "\n",
    "    This function allows a user to create a social media profile, add posts, display them, and search for posts by a keyword.\n",
    "    \"\"\"\n",
    "    logger.info(\"Starting PW SocialMediaProfile .. \")\n",
    "    print(\"Welcome to PW SocialMedia Platform!\")\n",
    "\n",
    "    user_name = input(\"Please enter your username: \")\n",
    "    logger.debug(f\"Username = {user_name}\")\n",
    "\n",
    "    smp = SocialMediaProfile(user_name)\n",
    "\n",
    "    try:\n",
    "        print(f\"\\n{user_name}, Welcome!\\n\")\n",
    "        num = int(input(\"Enter the number of posts that you want to feed: \"))\n",
    "\n",
    "        for i in range(num):\n",
    "            smp.add_posts(input(f\"Enter {i+1}th Post Content: \"))\n",
    "\n",
    "        smp.display_posts()\n",
    "\n",
    "        keyword = input(\"\\nEnter the keyword post that you need search: \")\n",
    "\n",
    "        smp.search_post_by_keyword(keyword)\n",
    "\n",
    "        logger.info(\"Ending PW SocialMediaProfile .. \")\n",
    "    except ValueError as ve:\n",
    "        print(f\"Please enter only numerical value {ve}\")\n",
    "        logger.error(f\"{user_name} entered incorrect numerical value.\")\n",
    "\n",
    "\n",
    "if __name__ == \"__main__\":\n",
    "\n",
    "    start_social_media_profile()"
   ]
  },
  {
   "cell_type": "markdown",
   "id": "70a8de28-5b08-4563-b176-79aa6824e336",
   "metadata": {
    "tags": []
   },
   "source": [
    "Problem 10: ToDo List \n",
    "---------------------\n",
    "Create a class representing a ToDo list with attributes like tasks and due dates. Implement methods to add tasks, mark tasks as completed, and display pending tasks."
   ]
  },
  {
   "cell_type": "code",
   "execution_count": null,
   "id": "5c3c15d0-c7a7-4402-86aa-339e17a36827",
   "metadata": {},
   "outputs": [],
   "source": [
    "import logging as logger\n",
    "\n",
    "logger.basicConfig(filename=\"python_oops_logging.log\", filemode=\"a\", level=logger.DEBUG, format='%(levelname)s-%(asctime)s-%(message)s')"
   ]
  },
  {
   "cell_type": "code",
   "execution_count": 11,
   "id": "168209c9-d811-4b38-a5f0-0fe63ba1f361",
   "metadata": {},
   "outputs": [
    {
     "name": "stdout",
     "output_type": "stream",
     "text": [
      "Welcome to PW ToDo Services.\n"
     ]
    },
    {
     "name": "stdin",
     "output_type": "stream",
     "text": [
      "Please enter your name:  Hansa\n"
     ]
    },
    {
     "name": "stdout",
     "output_type": "stream",
     "text": [
      "\n",
      "Hansa, Welcome to PW TODO Services Menu!\n",
      "\n",
      "Our Menu:\n",
      "1. Add Tasks\n",
      "2. Mark Task as Completed\n",
      "3. Display Pending Task\n",
      "4. Exit\n",
      "\n"
     ]
    },
    {
     "name": "stdin",
     "output_type": "stream",
     "text": [
      "Which option do you want to choose:  1\n",
      "Hansa, how many tasks do you want to enter ? 3\n",
      "Enter the 1th task:  Clean Puja Room\n",
      "Enter the 1th due date in DD-MM-YYYY format:  14-10-2023\n"
     ]
    },
    {
     "name": "stdout",
     "output_type": "stream",
     "text": [
      "Added Clean Puja Room to the list!\n"
     ]
    },
    {
     "name": "stdin",
     "output_type": "stream",
     "text": [
      "Enter the 2th task:  Go to temple\n",
      "Enter the 2th due date in DD-MM-YYYY format:  14-10-2023\n"
     ]
    },
    {
     "name": "stdout",
     "output_type": "stream",
     "text": [
      "Added Go to temple to the list!\n"
     ]
    },
    {
     "name": "stdin",
     "output_type": "stream",
     "text": [
      "Enter the 3th task:  Prepare Chapathi\n",
      "Enter the 3th due date in DD-MM-YYYY format:  14-10-2023\n"
     ]
    },
    {
     "name": "stdout",
     "output_type": "stream",
     "text": [
      "Added Prepare Chapathi to the list!\n",
      "\n",
      "Hansa, Welcome to PW TODO Services Menu!\n",
      "\n",
      "Our Menu:\n",
      "1. Add Tasks\n",
      "2. Mark Task as Completed\n",
      "3. Display Pending Task\n",
      "4. Exit\n",
      "\n"
     ]
    },
    {
     "name": "stdin",
     "output_type": "stream",
     "text": [
      "Which option do you want to choose:  3\n"
     ]
    },
    {
     "name": "stdout",
     "output_type": "stream",
     "text": [
      "Pending Tasks:\n",
      "Task: Clean Puja Room, Due Date: 2023-10-14\n",
      "Task: Go to temple, Due Date: 2023-10-14\n",
      "Task: Prepare Chapathi, Due Date: 2023-10-14\n",
      "\n",
      "Hansa, Welcome to PW TODO Services Menu!\n",
      "\n",
      "Our Menu:\n",
      "1. Add Tasks\n",
      "2. Mark Task as Completed\n",
      "3. Display Pending Task\n",
      "4. Exit\n",
      "\n"
     ]
    },
    {
     "name": "stdin",
     "output_type": "stream",
     "text": [
      "Which option do you want to choose:  2\n",
      "Please enter the task name that you want to mark as completed:  Clean Puja Room\n"
     ]
    },
    {
     "name": "stdout",
     "output_type": "stream",
     "text": [
      "Keep up the good work!. Completed Clean Puja Room\n",
      "\n",
      "Hansa, Welcome to PW TODO Services Menu!\n",
      "\n",
      "Our Menu:\n",
      "1. Add Tasks\n",
      "2. Mark Task as Completed\n",
      "3. Display Pending Task\n",
      "4. Exit\n",
      "\n"
     ]
    },
    {
     "name": "stdin",
     "output_type": "stream",
     "text": [
      "Which option do you want to choose:  2\n",
      "Please enter the task name that you want to mark as completed:  Go to temple\n"
     ]
    },
    {
     "name": "stdout",
     "output_type": "stream",
     "text": [
      "Keep up the good work!. Completed Go to temple\n",
      "\n",
      "Hansa, Welcome to PW TODO Services Menu!\n",
      "\n",
      "Our Menu:\n",
      "1. Add Tasks\n",
      "2. Mark Task as Completed\n",
      "3. Display Pending Task\n",
      "4. Exit\n",
      "\n"
     ]
    },
    {
     "name": "stdin",
     "output_type": "stream",
     "text": [
      "Which option do you want to choose:  3\n"
     ]
    },
    {
     "name": "stdout",
     "output_type": "stream",
     "text": [
      "Pending Tasks:\n",
      "Task: Prepare Chapathi, Due Date: 2023-10-14\n",
      "\n",
      "Hansa, Welcome to PW TODO Services Menu!\n",
      "\n",
      "Our Menu:\n",
      "1. Add Tasks\n",
      "2. Mark Task as Completed\n",
      "3. Display Pending Task\n",
      "4. Exit\n",
      "\n"
     ]
    },
    {
     "name": "stdin",
     "output_type": "stream",
     "text": [
      "Which option do you want to choose:  2\n",
      "Please enter the task name that you want to mark as completed:  Prepare Chapathi\n"
     ]
    },
    {
     "name": "stdout",
     "output_type": "stream",
     "text": [
      "Keep up the good work!. Completed Prepare Chapathi\n",
      "\n",
      "Hansa, Welcome to PW TODO Services Menu!\n",
      "\n",
      "Our Menu:\n",
      "1. Add Tasks\n",
      "2. Mark Task as Completed\n",
      "3. Display Pending Task\n",
      "4. Exit\n",
      "\n"
     ]
    },
    {
     "name": "stdin",
     "output_type": "stream",
     "text": [
      "Which option do you want to choose:  3\n"
     ]
    },
    {
     "name": "stdout",
     "output_type": "stream",
     "text": [
      "No pending tasks.\n",
      "\n",
      "Hansa, Welcome to PW TODO Services Menu!\n",
      "\n",
      "Our Menu:\n",
      "1. Add Tasks\n",
      "2. Mark Task as Completed\n",
      "3. Display Pending Task\n",
      "4. Exit\n",
      "\n"
     ]
    },
    {
     "name": "stdin",
     "output_type": "stream",
     "text": [
      "Which option do you want to choose:  4\n"
     ]
    },
    {
     "name": "stdout",
     "output_type": "stream",
     "text": [
      "Thank you for using PW Todo Services\n"
     ]
    }
   ],
   "source": [
    "import datetime\n",
    "\n",
    "\n",
    "class ToDoList:\n",
    "    \"\"\"\n",
    "    ToDoList class represents basic functionalities of adding a task and marking the task as completed in todo.\n",
    "    It implements functions like adding task to a list, marking the task as completed and displaying the pending tasks.\n",
    "    \"\"\"\n",
    "    def __init__(self):\n",
    "        \"\"\"\n",
    "        Initialize a new ToDoList instance.\n",
    "\n",
    "        This class represents a simple To-Do list, where tasks and their due dates are stored in a list.\n",
    "        \"\"\"\n",
    "        logger.info(\"Initializing TODOList Class\")\n",
    "        self.tasks = []  # A list to store tasks and their due dates.\n",
    "\n",
    "    def add_task_to_list(self, task, due_date):\n",
    "        \"\"\"\n",
    "        Add a new task to the ToDo list.\n",
    "\n",
    "        :param task: The task description (str).\n",
    "        :param due_date: The due date of the task (datetime.date).\n",
    "        \"\"\"\n",
    "        logger.info(\"Starting adding task to list services .. \")\n",
    "        self.tasks.append({\"Task\": task, \"Due Date\": due_date, \"Completed\": False})\n",
    "        logger.debug(f\"Task List: {self.tasks}\")\n",
    "        print(f\"Added {task} to the list!\")\n",
    "        logger.info(\"Ending adding task to list services ..\")\n",
    "\n",
    "    def mark_task_as_completed(self, task_description):\n",
    "        \"\"\"\n",
    "        Mark a task as completed by its description.\n",
    "        :param task_description: The description of the task (str).\n",
    "        :return: True if the task was found and marked as completed, False otherwise.\n",
    "        \"\"\"\n",
    "        if self.tasks == []:\n",
    "            print(\"First you need to add the task, then you can mark that task as completed.\")\n",
    "        else:\n",
    "            logger.info(\"Starting Marking Tasks as Completed services..\")\n",
    "            for task in self.tasks:\n",
    "                if task[\"Task\"] == task_description:\n",
    "                    logger.info(\"User entered the task_description that is matched. Marked the Completed status to True\")\n",
    "                    task[\"Completed\"] = True\n",
    "                    print(f\"Keep up the good work!. Completed {task_description}\")\n",
    "                    logger.info(\"Ending Marking Tasks as Completed services..\")\n",
    "                    return True\n",
    "\n",
    "            for task in self.tasks: # this loop is to check for if the user entered different task description\n",
    "                if task.get(\"Task\") != task_description:\n",
    "                    logger.info(\"User entered the task_description that is not matched. Added the task in tasks list.\")\n",
    "                    print(\"Seems like you have entered the task that is not in the Todo list. Don't worry, we'll get it \"\n",
    "                          \"added in your todo bucket!\")\n",
    "                    due_date = input(f\"Enter the due date in DD-MM-YYYY format: \").split('-')\n",
    "                    due_date = datetime.date(int(due_date[2]), int(due_date[1]), int(due_date[0]))\n",
    "                    self.tasks.append({\"Task\": task_description, \"Due Date\": due_date, \"Completed\": False})\n",
    "                    logger.info(\"Ending Marking Tasks as Completed services..\")\n",
    "                    return False\n",
    "\n",
    "    def display_pending_tasks(self):\n",
    "        \"\"\"\n",
    "        Display the list of pending tasks.\n",
    "        \"\"\"\n",
    "        logger.info(\"Starting Displaying of tasks services .. \")\n",
    "        pending_tasks = [task for task in self.tasks if not task[\"Completed\"]]\n",
    "        if pending_tasks:\n",
    "            print(\"Pending Tasks:\")\n",
    "            for task in pending_tasks:\n",
    "                print(f\"Task: {task['Task']}, Due Date: {task['Due Date']}\")\n",
    "        else:\n",
    "            print(\"No pending tasks.\")\n",
    "        logger.info(\"Ending Displaying of tasks services .. \")\n",
    "\n",
    "\n",
    "def start_todo_menu(todo, name):\n",
    "    \"\"\"\n",
    "    Start the PW Todo Services menu for a given user.\n",
    "\n",
    "    :param todo: The ToDoList instance.\n",
    "    :param name: The name of the user (str).\n",
    "    \"\"\"\n",
    "\n",
    "    logger.info(\"Starting PW Todo services menu .. \")\n",
    "    print(f\"\\n{name}, Welcome to PW TODO Services Menu!\")\n",
    "\n",
    "    print(\"\\nOur Menu:\\n1. Add Tasks\\n2. Mark Task as Completed\\n3. Display Pending Task\\n4. Exit\\n\")\n",
    "\n",
    "    choice = input(\"Which option do you want to choose: \")\n",
    "    logger.debug(f\"User's choice = {choice}\")\n",
    "\n",
    "    while choice.lower() not in ['4', 'exit']:\n",
    "\n",
    "        if choice.lower() in ['1', 'add', 'add tasks']:\n",
    "            try:\n",
    "                num_of_tasks = int(input(f\"{name}, how many tasks do you want to enter ?\"))\n",
    "\n",
    "                for i in range(num_of_tasks):\n",
    "                    task_name = input(f\"Enter the {i+1}th task: \")\n",
    "                    due_date = input(f\"Enter the {i+1}th due date in DD-MM-YYYY format: \").split('-')\n",
    "                    due_date = datetime.date(int(due_date[2]), int(due_date[1]), int(due_date[0]))\n",
    "                    todo.add_task_to_list(task_name, due_date)\n",
    "                start_todo_menu(todo, name)\n",
    "                break\n",
    "\n",
    "            except ValueError as ve:\n",
    "                logger.error(f\"Kindly enter only numerical values! {ve}\")\n",
    "                start_todo_menu(todo, name)\n",
    "                break\n",
    "\n",
    "        elif choice.lower() in ['2', 'mark', 'completed']:\n",
    "            try:\n",
    "                task_description = input(\"Please enter the task name that you want to mark as completed: \")\n",
    "                todo.mark_task_as_completed(task_description)\n",
    "                start_todo_menu(todo, name)\n",
    "                break\n",
    "\n",
    "            except Exception as ex:\n",
    "                logger.error(f\"An exception occurred while marking task as completed: {ex}\")\n",
    "                start_todo_menu(todo, name)\n",
    "                break\n",
    "\n",
    "        elif choice.lower() in ['3', 'display']:\n",
    "            todo.display_pending_tasks()\n",
    "            start_todo_menu(todo, name)\n",
    "            break\n",
    "\n",
    "    else:\n",
    "        if choice.lower() in ['4', 'exit']:\n",
    "            logger.info(\"Exit the Service!\")\n",
    "            print(\"Thank you for using PW Todo Services\")\n",
    "        else:\n",
    "            logger.critical(f\"{name} entered invalid choice!\")\n",
    "            print(\"Invalid Choice!\")\n",
    "\n",
    "\n",
    "def start_todo_services():\n",
    "    \"\"\"\n",
    "    Start the PW ToDo Services.\n",
    "\n",
    "    This function initializes the To-Do service, takes the user's name as input, and starts the To-Do menu.\n",
    "\n",
    "    :return: None\n",
    "    \"\"\"\n",
    "\n",
    "    logger.info(\"Starting the PW ToDo Services.\")\n",
    "    print(\"Welcome to PW ToDo Services.\")\n",
    "\n",
    "    try:\n",
    "        todo = ToDoList()\n",
    "        name = input(\"Please enter your name: \")\n",
    "        logger.debug(f\"User's name = {name}\")\n",
    "\n",
    "        start_todo_menu(todo, name)\n",
    "\n",
    "    except Exception as ex:\n",
    "        logger.error(f\"Error occurred due to {ex}\")\n",
    "\n",
    "\n",
    "if __name__ == \"__main__\":\n",
    "\n",
    "    start_todo_services()\n"
   ]
  },
  {
   "cell_type": "code",
   "execution_count": null,
   "id": "e4eb0b4b-d0b6-4aba-af5a-ff3ee2ebae1b",
   "metadata": {},
   "outputs": [],
   "source": []
  }
 ],
 "metadata": {
  "kernelspec": {
   "display_name": "Python 3 (ipykernel)",
   "language": "python",
   "name": "python3"
  },
  "language_info": {
   "codemirror_mode": {
    "name": "ipython",
    "version": 3
   },
   "file_extension": ".py",
   "mimetype": "text/x-python",
   "name": "python",
   "nbconvert_exporter": "python",
   "pygments_lexer": "ipython3",
   "version": "3.10.8"
  }
 },
 "nbformat": 4,
 "nbformat_minor": 5
}
