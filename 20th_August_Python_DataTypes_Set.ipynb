{
 "cells": [
  {
   "cell_type": "markdown",
   "id": "9ef9e26a-02c8-4b98-8950-de8ce392d262",
   "metadata": {},
   "source": [
    "# Set Based Practice Problem :"
   ]
  },
  {
   "cell_type": "markdown",
   "id": "0bc21178-b53c-4e05-86e9-77252907766c",
   "metadata": {},
   "source": [
    "1. Create a set with integers from 1 to 5."
   ]
  },
  {
   "cell_type": "code",
   "execution_count": 7,
   "id": "ab3b8a22-8d0c-4118-a09a-e9bc6ef03009",
   "metadata": {},
   "outputs": [],
   "source": [
    "s1 = {1, 2, 3, 4, 5}"
   ]
  },
  {
   "cell_type": "markdown",
   "id": "4337d25c-1afb-447a-9e77-1834dad70a17",
   "metadata": {},
   "source": [
    "2. Add an element to a set."
   ]
  },
  {
   "cell_type": "code",
   "execution_count": 8,
   "id": "f54181bf-0fd4-4048-ad1f-707b519babb6",
   "metadata": {},
   "outputs": [
    {
     "name": "stdout",
     "output_type": "stream",
     "text": [
      "{1, 2, 3, 4, 5, 6}\n"
     ]
    }
   ],
   "source": [
    "s1.add(6)\n",
    "print(s1)"
   ]
  },
  {
   "cell_type": "markdown",
   "id": "94a6cd80-828b-4299-82f5-531b2c4135d9",
   "metadata": {},
   "source": [
    "3. Remove an element from a set."
   ]
  },
  {
   "cell_type": "code",
   "execution_count": 9,
   "id": "56aa3681-ab3a-4ec5-918a-8e262e9d1446",
   "metadata": {},
   "outputs": [
    {
     "name": "stdout",
     "output_type": "stream",
     "text": [
      "Original Set: {1, 2, 3, 4, 5, 6}\n",
      "After Removing: {1, 2, 3, 4, 6}\n"
     ]
    }
   ],
   "source": [
    "print(f\"Original Set: {s1}\")\n",
    "s1.remove(5)\n",
    "print(f\"After Removing: {s1}\")"
   ]
  },
  {
   "cell_type": "markdown",
   "id": "a84d1584-9b6d-4e50-9e4e-05bc152189d8",
   "metadata": {},
   "source": [
    "4. Check if an element exists in a set."
   ]
  },
  {
   "cell_type": "code",
   "execution_count": 10,
   "id": "c300ea6e-a66c-4017-be87-01b064b75740",
   "metadata": {},
   "outputs": [
    {
     "name": "stdout",
     "output_type": "stream",
     "text": [
      "8 does not exists in {1, 2, 3, 4, 6}\n"
     ]
    }
   ],
   "source": [
    "n = 8\n",
    "if n in s1:\n",
    "    print(f\"{n} exists in {s1}\")\n",
    "else:\n",
    "    print(f\"{n} does not exists in {s1}\")"
   ]
  },
  {
   "cell_type": "markdown",
   "id": "3cd99a92-f96c-465b-93a3-89e2b13e1340",
   "metadata": {},
   "source": [
    "5. Find the length of a set without using the `len()` function."
   ]
  },
  {
   "cell_type": "code",
   "execution_count": 11,
   "id": "5b690698-6ffd-4257-ac44-079e76019458",
   "metadata": {},
   "outputs": [
    {
     "name": "stdout",
     "output_type": "stream",
     "text": [
      "The length of the set {1, 2, 3, 4, 6} is 5\n"
     ]
    }
   ],
   "source": [
    "count = 0\n",
    "for i in s1:\n",
    "    count += 1\n",
    "print(f\"The length of the set {s1} is {count}\")"
   ]
  },
  {
   "cell_type": "markdown",
   "id": "fd60d83d-60e0-45a2-9cb0-017cbb41e2f5",
   "metadata": {},
   "source": [
    "6. Clear all elements from a set."
   ]
  },
  {
   "cell_type": "code",
   "execution_count": 12,
   "id": "484a706e-027e-44f6-a2c8-7213bb610c69",
   "metadata": {},
   "outputs": [
    {
     "name": "stdout",
     "output_type": "stream",
     "text": [
      "Original Set: {1, 2, 3, 4, 6}\n",
      "Cleared Set: set()\n"
     ]
    }
   ],
   "source": [
    "print(f\"Original Set: {s1}\")\n",
    "s1.clear()\n",
    "print(f\"Cleared Set: {s1}\")"
   ]
  },
  {
   "cell_type": "markdown",
   "id": "6f9e0367-89f6-4ab7-a16b-10fdf4a90259",
   "metadata": {},
   "source": [
    "7. Create a set of even numbers from 1 to 10."
   ]
  },
  {
   "cell_type": "code",
   "execution_count": 13,
   "id": "7cd0cbf7-6a0c-4239-ae2d-16b2700f114d",
   "metadata": {},
   "outputs": [
    {
     "name": "stdout",
     "output_type": "stream",
     "text": [
      "Set of even numbers: {2, 4, 6, 8, 10}\n"
     ]
    }
   ],
   "source": [
    "even_set = set([x for x in range(1, 11) if x % 2 == 0])\n",
    "print(f\"Set of even numbers: {even_set}\")"
   ]
  },
  {
   "cell_type": "markdown",
   "id": "fdb22f3b-dcc0-4307-9aae-e4d19d6e75be",
   "metadata": {},
   "source": [
    "8. Create a set of odd numbers from 1 to 10."
   ]
  },
  {
   "cell_type": "code",
   "execution_count": 14,
   "id": "54af2bd3-7e43-409b-8750-782f0c7e85f6",
   "metadata": {},
   "outputs": [
    {
     "name": "stdout",
     "output_type": "stream",
     "text": [
      "Set of odd numbers: {1, 3, 5, 7, 9}\n"
     ]
    }
   ],
   "source": [
    "odd_set = set([x for x in range(1, 11) if x % 2 != 0])\n",
    "print(f\"Set of odd numbers: {odd_set}\")"
   ]
  },
  {
   "cell_type": "markdown",
   "id": "848b031b-a172-4d1b-8288-38bda7d3f4a0",
   "metadata": {},
   "source": [
    "9. Find the union of two sets."
   ]
  },
  {
   "cell_type": "code",
   "execution_count": 15,
   "id": "d371282b-0bb8-489b-9904-f698b2250906",
   "metadata": {},
   "outputs": [
    {
     "name": "stdout",
     "output_type": "stream",
     "text": [
      "Union of Even and Odd sets: {1, 2, 3, 4, 5, 6, 7, 8, 9, 10}\n"
     ]
    }
   ],
   "source": [
    "print(f\"Union of Even and Odd sets: {even_set.union(odd_set)}\")"
   ]
  },
  {
   "cell_type": "markdown",
   "id": "f370e8f3-9df3-4f1e-ba34-d822ffdb6bf8",
   "metadata": {},
   "source": [
    "10. Find the intersection of two sets."
   ]
  },
  {
   "cell_type": "code",
   "execution_count": 16,
   "id": "f844dbf0-9a0f-46d0-a676-c6912d33c8bf",
   "metadata": {},
   "outputs": [
    {
     "name": "stdout",
     "output_type": "stream",
     "text": [
      "Intersection of Even and Odd sets: set()\n"
     ]
    }
   ],
   "source": [
    "print(f\"Intersection of Even and Odd sets: {even_set.intersection(odd_set)}\")"
   ]
  },
  {
   "cell_type": "markdown",
   "id": "bcf5ef2c-5aec-4e7c-8420-631aa19c45f0",
   "metadata": {},
   "source": [
    "11. Find the difference between two sets."
   ]
  },
  {
   "cell_type": "code",
   "execution_count": 17,
   "id": "d9d30755-a5a5-4e46-8f5f-56c692158eaf",
   "metadata": {},
   "outputs": [
    {
     "name": "stdout",
     "output_type": "stream",
     "text": [
      "The difference of Set11a - set11b = {1, 2, 3}\n",
      "The difference of Set11b - set11a = {8, 6, 7}\n"
     ]
    }
   ],
   "source": [
    "set11a = {1, 2, 3, 4, 5}\n",
    "set11b = {4, 5, 6, 7, 8}\n",
    "print(f\"The difference of Set11a - set11b = {set11a.difference(set11b)}\")\n",
    "print(f\"The difference of Set11b - set11a = {set11b.difference(set11a)}\")"
   ]
  },
  {
   "cell_type": "markdown",
   "id": "94580663-25f6-4159-819c-79b614f618b8",
   "metadata": {},
   "source": [
    "12. Check if a set is a subset of another set."
   ]
  },
  {
   "cell_type": "code",
   "execution_count": 20,
   "id": "deb4b3c4-bd64-4ef0-ad8f-8c1fade1998d",
   "metadata": {},
   "outputs": [
    {
     "name": "stdout",
     "output_type": "stream",
     "text": [
      "{'b', 'e'} is a subset of {'d', 'b', 'c', 'a', 'e'}\n"
     ]
    }
   ],
   "source": [
    "main_set = {'a', 'b', 'c', 'd', 'e'}\n",
    "sub_set = {'b', 'e'}\n",
    "if sub_set.issubset(main_set):\n",
    "    print(f\"{sub_set} is a subset of {main_set}\")\n",
    "else:\n",
    "    print(f\"{sub_set} is not a subset of {main_set}\")"
   ]
  },
  {
   "cell_type": "markdown",
   "id": "590022ae-a49f-4d09-b74d-bf65209a1a4a",
   "metadata": {},
   "source": [
    "13. Check if a set is a superset of another set."
   ]
  },
  {
   "cell_type": "code",
   "execution_count": 23,
   "id": "49377023-fae4-4704-98b4-12cfdce31f63",
   "metadata": {},
   "outputs": [
    {
     "name": "stdout",
     "output_type": "stream",
     "text": [
      "{'d', 'b', 'c', 'a', 'e'} is a superset of {'d', 'b'}\n"
     ]
    }
   ],
   "source": [
    "main_set = {'a', 'b', 'c', 'd', 'e'}\n",
    "sub_set = {'b', 'd'}\n",
    "if main_set.issuperset(sub_set):\n",
    "    print(f\"{main_set} is a superset of {sub_set}\")\n",
    "else:\n",
    "    print(f\"{main_set} is not a subset of {sub_set}\")"
   ]
  },
  {
   "cell_type": "markdown",
   "id": "2af5e739-1e22-4580-af97-c1357e0156a1",
   "metadata": {},
   "source": [
    "14. Create a set from a list."
   ]
  },
  {
   "cell_type": "code",
   "execution_count": 25,
   "id": "53ff651e-8672-419a-bed6-f1506f6cc3d9",
   "metadata": {},
   "outputs": [
    {
     "name": "stdout",
     "output_type": "stream",
     "text": [
      "List = ['a', 'b', 'c', 'x', 'm', 'n', 1, 8, 9, 9, 'z', 'f', 'a', 8, 2]\n",
      "Set of above list = {1, 'f', 2, 'm', 8, 9, 'c', 'a', 'n', 'b', 'x', 'z'}\n"
     ]
    }
   ],
   "source": [
    "list14 = ['a', 'b', 'c', 'x', 'm', 'n', 1, 8, 9, 9, 'z', 'f', 'a', 8, 2]\n",
    "print(f\"List = {list14}\")\n",
    "print(f\"Set of above list = {set(list14)}\")"
   ]
  },
  {
   "cell_type": "markdown",
   "id": "233c1871-dbe6-49af-b4c4-a5f81f3533d0",
   "metadata": {},
   "source": [
    "15. Convert a set to a list."
   ]
  },
  {
   "cell_type": "code",
   "execution_count": 33,
   "id": "790c1e6b-cd31-429c-936c-c5793d325991",
   "metadata": {},
   "outputs": [
    {
     "name": "stdout",
     "output_type": "stream",
     "text": [
      "Set = {1, 2, 3, 4, 5, 7, 8, 'c', 'a', 'e', 'd', 'b'}\n",
      "List of above set = [1, 2, 3, 4, 5, 7, 8, 'c', 'a', 'e', 'd', 'b']\n"
     ]
    }
   ],
   "source": [
    "set15 = {'a', 'b', 'c', 'd', 'e', 1, 2, 3, 4, 5, 7, 8, 3, 2, 1}\n",
    "print(f\"Set = {set15}\")\n",
    "print(f\"List of above set = {list(set15)}\")\n"
   ]
  },
  {
   "cell_type": "markdown",
   "id": "5ccba8bd-f56f-4555-ac16-b8839b1bca4c",
   "metadata": {},
   "source": [
    "16. Remove a random element from a set."
   ]
  },
  {
   "cell_type": "code",
   "execution_count": 34,
   "id": "28cfee61-4293-4fb1-a5a3-8964055aea18",
   "metadata": {},
   "outputs": [
    {
     "name": "stdout",
     "output_type": "stream",
     "text": [
      "Original Set = {1, 2, 3, 4, 5, 7, 8, 'c', 'a', 'e', 'd', 'b'}\n",
      "After removing an element from a set: {1, 2, 3, 4, 5, 7, 8, 'a', 'e', 'd', 'b'}\n"
     ]
    }
   ],
   "source": [
    "print(f\"Original Set = {set15}\")\n",
    "set15.remove('c')\n",
    "print(f\"After removing an element from a set: {set15}\")"
   ]
  },
  {
   "cell_type": "markdown",
   "id": "23f7df87-cd10-439e-8e32-b8d938606c3e",
   "metadata": {},
   "source": [
    "17. Pop an element from a set."
   ]
  },
  {
   "cell_type": "code",
   "execution_count": 35,
   "id": "79af3dc3-814e-4e3f-91a1-a9c71260ffc8",
   "metadata": {},
   "outputs": [
    {
     "name": "stdout",
     "output_type": "stream",
     "text": [
      "Original Set = {1, 2, 3, 4, 5, 7, 8, 'a', 'e', 'd', 'b'}\n",
      "After Popping an element from a set: {2, 3, 4, 5, 7, 8, 'a', 'e', 'd', 'b'}\n"
     ]
    }
   ],
   "source": [
    "print(f\"Original Set = {set15}\")\n",
    "set15.pop()\n",
    "print(f\"After Popping an element from a set: {set15}\") # pop by default removes the first element inside a set"
   ]
  },
  {
   "cell_type": "markdown",
   "id": "8a81269f-aa1b-4c62-a047-4d0b62967f52",
   "metadata": {},
   "source": [
    "18. Check if two sets have no elements in common."
   ]
  },
  {
   "cell_type": "code",
   "execution_count": 36,
   "id": "3abaa849-3429-4e4b-ba39-2b92e6b5893b",
   "metadata": {},
   "outputs": [
    {
     "name": "stdout",
     "output_type": "stream",
     "text": [
      "There are elements in common between set18a and set18b\n"
     ]
    }
   ],
   "source": [
    "set18a = {1, 2, 3, 4, 5}\n",
    "set18b = {4, 5, 6, 7, 8}\n",
    "if not set18a.intersection(set18b):\n",
    "    print(\"There are no elements in common between set18a and set18b\")\n",
    "else:\n",
    "    print(\"There are elements in common between set18a and set18b\")"
   ]
  },
  {
   "cell_type": "markdown",
   "id": "9fe3c272-9d6a-4f95-9675-ad9e59fe6419",
   "metadata": {},
   "source": [
    "19. Find the symmetric difference between two sets."
   ]
  },
  {
   "cell_type": "markdown",
   "id": "0fd3e6ca-a320-44b3-bb9b-8e04b256071b",
   "metadata": {},
   "source": [
    "Symmetric Difference is\n",
    "A + B = (A u B) - (A n B)\n",
    "(Everything in A and B except the common elements between A and B set)"
   ]
  },
  {
   "cell_type": "code",
   "execution_count": 38,
   "id": "23a99784-f6b2-4d98-9ae8-7205785e7434",
   "metadata": {},
   "outputs": [
    {
     "name": "stdout",
     "output_type": "stream",
     "text": [
      "The symmetric difference between {1, 2, 3, 4, 5} and {4, 5, 6, 7, 8} sets are: {1, 2, 3, 6, 7, 8}\n"
     ]
    }
   ],
   "source": [
    "set19a = {1, 2, 3, 4, 5}\n",
    "set19b = {4, 5, 6, 7, 8}\n",
    "\n",
    "print(f\"The symmetric difference between {set19a} and {set19b} sets are: {set19a.symmetric_difference(set19b)}\")"
   ]
  },
  {
   "cell_type": "markdown",
   "id": "4993806a-43b7-4a00-a772-66a9bc832243",
   "metadata": {},
   "source": [
    "20. Update a set with elements from another set."
   ]
  },
  {
   "cell_type": "code",
   "execution_count": 40,
   "id": "5e97a7e3-a421-469d-8a0c-5a02661baf96",
   "metadata": {},
   "outputs": [
    {
     "name": "stdout",
     "output_type": "stream",
     "text": [
      "Updated Set: {1, 2, 3, 4, 5, 6}\n"
     ]
    }
   ],
   "source": [
    "set20 = {1, 2, 3}\n",
    "update = {4, 5, 6}\n",
    "set20.update(update)\n",
    "print(f\"Updated Set: {set20}\")"
   ]
  },
  {
   "cell_type": "markdown",
   "id": "b87c2c84-ce52-4214-874f-5e3de082af78",
   "metadata": {},
   "source": [
    "21. Create a set of the first 5 prime numbers."
   ]
  },
  {
   "cell_type": "code",
   "execution_count": 45,
   "id": "c421e4f1-8caf-40b0-9199-0e2e5f461dbf",
   "metadata": {},
   "outputs": [
    {
     "name": "stdout",
     "output_type": "stream",
     "text": [
      "The set of first 5 prime numbers are: {2, 3, 5, 7, 11}\n"
     ]
    }
   ],
   "source": [
    "def check_prime(number):\n",
    "    if number == 0 or number == 1:\n",
    "        return False\n",
    "    if number <= 3:\n",
    "        return True\n",
    "    if number % 2 == 0 or number % 3 == 0:\n",
    "        return False\n",
    "    \n",
    "    i = 5\n",
    "    while i * i < number:\n",
    "        if number % i == 0 or number % i+1 == 0:\n",
    "            return False\n",
    "        \n",
    "        i+=6\n",
    "    return True\n",
    "\n",
    "def first_n_prime_numbers(n):\n",
    "    list_prime = []\n",
    "    num = 2\n",
    "    while len(list_prime) < n:\n",
    "        if check_prime(num):\n",
    "            list_prime.append(num)\n",
    "        num += 1\n",
    "    return list_prime\n",
    "\n",
    "n = 5\n",
    "print(f\"The set of first {n} prime numbers are: {set(first_n_prime_numbers(n))}\")\n",
    "        "
   ]
  },
  {
   "cell_type": "markdown",
   "id": "f9e690a3-39b7-4d8f-bbb1-510fddceaadb",
   "metadata": {},
   "source": [
    "22. Check if two sets are identical."
   ]
  },
  {
   "cell_type": "code",
   "execution_count": 47,
   "id": "7087381d-56ba-49c8-8fd3-bdc8af5d3607",
   "metadata": {},
   "outputs": [
    {
     "name": "stdout",
     "output_type": "stream",
     "text": [
      "Sets are identical\n"
     ]
    }
   ],
   "source": [
    "set22a = {1, 2, 3}\n",
    "set22b = {3, 2, 1}\n",
    "\n",
    "if set22a == set22b:\n",
    "    print(\"Sets are identical\")\n",
    "else:\n",
    "    print(\"Sets are not identical\")"
   ]
  },
  {
   "cell_type": "markdown",
   "id": "4dad92e4-327b-4034-9c1f-3ad5c7b46d52",
   "metadata": {},
   "source": [
    "23. Create a frozen set."
   ]
  },
  {
   "cell_type": "code",
   "execution_count": 48,
   "id": "de6d0370-1fcf-4e8c-9ccb-3f252d3e3d62",
   "metadata": {},
   "outputs": [
    {
     "name": "stdout",
     "output_type": "stream",
     "text": [
      "Normal Set = {1, 2, 3, 4, 5, 6}\n",
      "Frozen Set = frozenset({1, 2, 3, 4, 5, 6})\n"
     ]
    }
   ],
   "source": [
    "normal_set = {1, 2, 3, 4, 5, 6, 6, 5, 4, 3, 2, 1}\n",
    "frozen_set = frozenset(normal_set)\n",
    "print(f\"Normal Set = {normal_set}\\nFrozen Set = {frozen_set}\")"
   ]
  },
  {
   "cell_type": "markdown",
   "id": "bddbeb25-a0b2-4934-bbbb-447824f9d0c2",
   "metadata": {},
   "source": [
    "24. Check if a set is disjoint with another set."
   ]
  },
  {
   "cell_type": "markdown",
   "id": "586f6853-d91f-4b8a-95f7-89c4d1cce6dc",
   "metadata": {},
   "source": [
    "X ∩ Y = 0"
   ]
  },
  {
   "cell_type": "code",
   "execution_count": 49,
   "id": "7f6543fc-ad6a-4f09-9cfe-c13efaec3834",
   "metadata": {},
   "outputs": [
    {
     "name": "stdout",
     "output_type": "stream",
     "text": [
      "These two sets are having atleast one element in common\n"
     ]
    }
   ],
   "source": [
    "set24a = {1, 2, 3, 4, 5}\n",
    "set24b = {4, 5, 6, 7, 8}\n",
    "if set24a.isdisjoint(set24b):\n",
    "    print(\"These two sets are Disjoint\")\n",
    "else:\n",
    "    print(\"These two sets are having atleast one element in common\")"
   ]
  },
  {
   "cell_type": "markdown",
   "id": "d56c76ea-450a-4b02-952d-9e8dd73321bd",
   "metadata": {},
   "source": [
    "25. Create a set of squares of numbers from 1 to 5."
   ]
  },
  {
   "cell_type": "code",
   "execution_count": 50,
   "id": "2816d223-a0ed-4d6a-a2ee-bc27317f5a9c",
   "metadata": {},
   "outputs": [
    {
     "name": "stdout",
     "output_type": "stream",
     "text": [
      "Set of squares of numbers from 1 to 5 is: {1, 4, 9, 16, 25}\n"
     ]
    }
   ],
   "source": [
    "square_set = set([x**2 for x in range(1, 5+1)])\n",
    "print(f\"Set of squares of numbers from 1 to 5 is: {square_set}\")"
   ]
  },
  {
   "cell_type": "markdown",
   "id": "e30ab210-baa7-4548-99bd-d761ae174051",
   "metadata": {},
   "source": [
    "26. Filter out all even numbers from a set."
   ]
  },
  {
   "cell_type": "code",
   "execution_count": 51,
   "id": "4525e667-d4b0-4637-abd6-6c163ac3027f",
   "metadata": {},
   "outputs": [
    {
     "name": "stdout",
     "output_type": "stream",
     "text": [
      "Even set = {2, 4, 6, 8, 10, 76, 56, 88}\n"
     ]
    }
   ],
   "source": [
    "set26 = {10, 2, 3, 4, 5, 6, 8, 45, 55, 56, 76, 77, 87, 88}\n",
    "even_set = set([x for x in set26 if x%2 == 0])\n",
    "print(f\"Even set = {even_set}\")"
   ]
  },
  {
   "cell_type": "markdown",
   "id": "962da70c-e362-4cb5-a475-5bb236061c04",
   "metadata": {},
   "source": [
    "27. Multiply all elements in a set by 2."
   ]
  },
  {
   "cell_type": "code",
   "execution_count": 1,
   "id": "9f683145-ee1b-4ffb-a532-c2048501d05f",
   "metadata": {},
   "outputs": [
    {
     "name": "stdout",
     "output_type": "stream",
     "text": [
      "Original Set: {2, 3, 4, 5, 6, 8, 10, 76, 45, 77, 55, 87, 56, 88} \n",
      "Multiplied by 2: {4, 6, 154, 8, 10, 12, 110, 174, 16, 112, 176, 20, 152, 90}\n"
     ]
    }
   ],
   "source": [
    "set27 = {10, 2, 3, 4, 5, 6, 8, 45, 55, 56, 76, 77, 87, 88}\n",
    "mul_set = set([x*2 for x in set27])\n",
    "print(f\"Original Set: {set27} \\nMultiplied by 2: {mul_set}\")"
   ]
  },
  {
   "cell_type": "markdown",
   "id": "1bab4b26-b9f6-4e63-867e-a79467b3df80",
   "metadata": {},
   "source": [
    "28. Create a set of random numbers."
   ]
  },
  {
   "cell_type": "code",
   "execution_count": 59,
   "id": "42df4b83-2915-47ac-b3e7-1210aecd2de5",
   "metadata": {},
   "outputs": [
    {
     "name": "stdin",
     "output_type": "stream",
     "text": [
      "Enter the number of random numbers you want:  7\n"
     ]
    },
    {
     "name": "stdout",
     "output_type": "stream",
     "text": [
      "Set of 7 random numbers are: {1, 2, 4, 5, 7, 8, 9}\n"
     ]
    }
   ],
   "source": [
    "import random\n",
    "\n",
    "n = int(input(\"Enter the number of random numbers you want: \"))\n",
    "\n",
    "\n",
    "print(f\"Set of {n} random numbers are: {set(random.sample(range(1, 10), n))}\")"
   ]
  },
  {
   "cell_type": "markdown",
   "id": "43765f03-b7f2-48d9-be0d-c041e61663c2",
   "metadata": {},
   "source": [
    "29. Check if a set is empty."
   ]
  },
  {
   "cell_type": "code",
   "execution_count": 4,
   "id": "9c800ea8-3f93-47dd-b06b-adaf29016b24",
   "metadata": {},
   "outputs": [
    {
     "name": "stdout",
     "output_type": "stream",
     "text": [
      "Set is empty\n"
     ]
    }
   ],
   "source": [
    "s = set() # {} -> is a empty dictionary not an empty set\n",
    "if len(s) > 0:\n",
    "    print(\"Set is having atleast one element\")\n",
    "else:\n",
    "    print(\"Set is empty\")"
   ]
  },
  {
   "cell_type": "markdown",
   "id": "719b07d0-5843-4067-b467-892b85839fe5",
   "metadata": {},
   "source": [
    "30. Create a nested set (hint: use frozenset)."
   ]
  },
  {
   "cell_type": "code",
   "execution_count": 7,
   "id": "75d624ed-2376-4d13-8579-40598d161928",
   "metadata": {},
   "outputs": [
    {
     "name": "stdout",
     "output_type": "stream",
     "text": [
      "Nested Set = frozenset({frozenset({1, 2, 3}), frozenset({5, 6, 7}), frozenset({3, 4, 5})})\n"
     ]
    }
   ],
   "source": [
    "set30a = frozenset({1, 2, 3})\n",
    "set30b = frozenset({3, 4, 5})\n",
    "set30c = frozenset({5, 6, 7})\n",
    "\n",
    "nested_set = frozenset({set30a, set30b, set30c})\n",
    "\n",
    "print(f\"Nested Set = {nested_set}\")"
   ]
  },
  {
   "cell_type": "markdown",
   "id": "a01dfd7c-1f39-48ae-8967-aaaa7c010af4",
   "metadata": {},
   "source": [
    "31. Remove an element from a set using the discard method."
   ]
  },
  {
   "cell_type": "code",
   "execution_count": 4,
   "id": "f5b227d3-2159-4cf7-83c0-5a0d77a3e452",
   "metadata": {},
   "outputs": [
    {
     "name": "stdout",
     "output_type": "stream",
     "text": [
      "Original Set = {1, 2, 3, 4, 5}\n",
      "Discarded Set = {1, 3, 4, 5}\n"
     ]
    }
   ],
   "source": [
    "set31 = {1, 2, 3, 4, 5}\n",
    "print(f\"Original Set = {set31}\")\n",
    "set31.discard(2)\n",
    "print(f\"Discarded Set = {set31}\")"
   ]
  },
  {
   "cell_type": "markdown",
   "id": "939f678a-3d1c-404e-8837-3133d48ffb11",
   "metadata": {},
   "source": [
    "32. Compare two sets."
   ]
  },
  {
   "cell_type": "code",
   "execution_count": 6,
   "id": "b7cdb5b1-8bea-4fe2-b201-6938d0b2a840",
   "metadata": {},
   "outputs": [
    {
     "name": "stdout",
     "output_type": "stream",
     "text": [
      "Both sets are identical\n"
     ]
    }
   ],
   "source": [
    "set32a = {1, 2, 3, 4, 5}\n",
    "set32b = {1, 2, 3, 4, 5}\n",
    "if set32a == set32b:\n",
    "    print(\"Both sets are identical\")\n",
    "else:\n",
    "    print(\"Both sets are non-identical\")"
   ]
  },
  {
   "cell_type": "markdown",
   "id": "f4c1709c-3223-4baa-a950-370d9f07cfe0",
   "metadata": {},
   "source": [
    "33. Create a set from a string."
   ]
  },
  {
   "cell_type": "code",
   "execution_count": 7,
   "id": "1b580c55-e6a5-490d-bc73-e2df58bfb837",
   "metadata": {},
   "outputs": [
    {
     "name": "stdout",
     "output_type": "stream",
     "text": [
      "String: Full stack Data Science Pro\n",
      "Set of the string: {'a', 't', 'k', 'F', 'D', 'e', 'r', 'u', 'l', 'n', 'i', 'S', 'c', 'P', ' ', 'o', 's'}\n"
     ]
    }
   ],
   "source": [
    "string = \"Full stack Data Science Pro\"\n",
    "string_list = []\n",
    "for i in string:\n",
    "    string_list.append(i)\n",
    "\n",
    "print(f\"String: {string}\\nSet of the string: {set(string_list)}\")"
   ]
  },
  {
   "cell_type": "markdown",
   "id": "9c0ce5cc-8b77-4ab6-afb2-e90bb1bbd10c",
   "metadata": {},
   "source": [
    "34. Convert a set of strings to a set of integers."
   ]
  },
  {
   "cell_type": "code",
   "execution_count": 11,
   "id": "73b5066e-16e8-4bc6-9bb9-ecb067145ea3",
   "metadata": {},
   "outputs": [
    {
     "name": "stdout",
     "output_type": "stream",
     "text": [
      "Set of Strings: {'5', '2', '4', '3', '1'}\n",
      "Set of integers: {1, 2, 3, 4, 5}\n"
     ]
    }
   ],
   "source": [
    "set_str = {'1', '2', '3', '4', '5'}\n",
    "print(f\"Set of Strings: {set_str}\")\n",
    "list_set = list(set_str)\n",
    "list_int = []\n",
    "for i in list_set:\n",
    "    list_int.append(int(i))\n",
    "\n",
    "print(f\"Set of integers: {set(list_int)}\")"
   ]
  },
  {
   "cell_type": "markdown",
   "id": "f2a686ba-2002-41e0-af57-b881248f9c3c",
   "metadata": {},
   "source": [
    "35. Convert a set of integers to a set of strings."
   ]
  },
  {
   "cell_type": "code",
   "execution_count": 12,
   "id": "e2a572ac-63fa-42d0-a9d1-d81e296af1b1",
   "metadata": {},
   "outputs": [
    {
     "name": "stdout",
     "output_type": "stream",
     "text": [
      "Set of Integers: {1, 2, 3, 4, 5}\n",
      "Set of Strings: {'2', '3', '1', '5', '4'}\n"
     ]
    }
   ],
   "source": [
    "set_int = {1, 2, 3, 4, 5}\n",
    "print(f\"Set of Integers: {set_int}\")\n",
    "list_int = list(set_int)\n",
    "list_str = []\n",
    "for i in set_int:\n",
    "    list_str.append(str(i))\n",
    "\n",
    "print(f\"Set of Strings: {set(list_str)}\")"
   ]
  },
  {
   "cell_type": "markdown",
   "id": "75974aff-9ab9-434a-adf1-982053662677",
   "metadata": {},
   "source": [
    "36. Create a set from a tuple."
   ]
  },
  {
   "cell_type": "code",
   "execution_count": 14,
   "id": "e2cef59a-2686-43c7-a18b-9d80d5f775af",
   "metadata": {},
   "outputs": [
    {
     "name": "stdout",
     "output_type": "stream",
     "text": [
      "Tuple = ('a', 'b', 23, 1, 2, 3, 4, 5, 'z')\n",
      "Set from a Tuple = {'a', 2, 1, 3, 4, 5, 'z', 'b', 23}\n"
     ]
    }
   ],
   "source": [
    "tup = ('a', 'b', 23, 1, 2, 3, 4, 5, 'z')\n",
    "print(f\"Tuple = {tup}\")\n",
    "set_from_tup = set(tup)\n",
    "print(f\"Set from a Tuple = {set_from_tup}\")"
   ]
  },
  {
   "cell_type": "markdown",
   "id": "7f44c574-1434-494a-8b53-e9c45692004f",
   "metadata": {},
   "source": [
    "37. Convert a set to a tuple."
   ]
  },
  {
   "cell_type": "code",
   "execution_count": 15,
   "id": "df3ae56d-0e12-4d69-a9d6-abd2b8d26d2f",
   "metadata": {},
   "outputs": [
    {
     "name": "stdout",
     "output_type": "stream",
     "text": [
      "Original Set = {'a', 2, 3, 4, 1, 5, 'z', 45, 'b', 23}\n",
      "Tuple from a Set: ('a', 2, 3, 4, 1, 5, 'z', 45, 'b', 23)\n"
     ]
    }
   ],
   "source": [
    "set37 = {'a', 2, 1, 3, 4, 5, 'z', 'b', 23, 23, 45}\n",
    "print(f\"Original Set = {set37}\")\n",
    "tup_from_set = tuple(set37)\n",
    "print(f\"Tuple from a Set: {tup_from_set}\")"
   ]
  },
  {
   "cell_type": "markdown",
   "id": "344e9e73-afdb-477a-bbcd-6967bb71ea1b",
   "metadata": {},
   "source": [
    "38. Find the maximum value in a set."
   ]
  },
  {
   "cell_type": "code",
   "execution_count": 17,
   "id": "2ecb7dca-f003-46c4-b1c9-75458709fc6d",
   "metadata": {},
   "outputs": [
    {
     "name": "stdout",
     "output_type": "stream",
     "text": [
      "Maximum Value in {65, 67, 37, 9, 43, 45, 23, 87, 55, 89} is 89\n"
     ]
    }
   ],
   "source": [
    "set_ = {23, 45, 67, 89, 9, 87, 65, 43, 37, 23, 55}\n",
    "print(f\"Maximum Value in {set_} is {max(set_)}\")"
   ]
  },
  {
   "cell_type": "markdown",
   "id": "0ad09d95-1123-43d7-9990-55e23ce1c521",
   "metadata": {},
   "source": [
    "39. Find the minimum value in a set."
   ]
  },
  {
   "cell_type": "code",
   "execution_count": 18,
   "id": "3ad6a776-0339-4d27-9ba0-9d76e711fc8e",
   "metadata": {},
   "outputs": [
    {
     "name": "stdout",
     "output_type": "stream",
     "text": [
      "Minimum Value in {65, 67, 37, 9, 43, 45, 23, 87, 55, 89} is 9\n"
     ]
    }
   ],
   "source": [
    "set_ = {23, 45, 67, 89, 9, 87, 65, 43, 37, 23, 55}\n",
    "print(f\"Minimum Value in {set_} is {min(set_)}\")"
   ]
  },
  {
   "cell_type": "markdown",
   "id": "9f53ac7b-570b-48fb-9465-df3f7de998b6",
   "metadata": {},
   "source": [
    "40. Create a set from user input."
   ]
  },
  {
   "cell_type": "code",
   "execution_count": 20,
   "id": "1ec24543-ced4-4b8c-8735-9bf304136b79",
   "metadata": {},
   "outputs": [
    {
     "name": "stdin",
     "output_type": "stream",
     "text": [
      "Enter the length of the set that you want to create:  4\n",
      "Enter 1th element:  Hansa\n",
      "Enter 2th element:  Guru\n",
      "Enter 3th element:  2\n",
      "Enter 4th element:  3\n"
     ]
    },
    {
     "name": "stdout",
     "output_type": "stream",
     "text": [
      "Set created from user input: {'Hansa', 'Guru', '3', '2'}\n"
     ]
    }
   ],
   "source": [
    "num = int(input(\"Enter the length of the set that you want to create: \"))\n",
    "list_ = []\n",
    "for i in range(num):\n",
    "    x = input(f\"Enter {i+1}th element: \")\n",
    "    list_.append(x)\n",
    "    \n",
    "set_ = set(list_)\n",
    "print(f\"Set created from user input: {set_}\")"
   ]
  },
  {
   "cell_type": "markdown",
   "id": "abb0c65e-6708-4eb4-a347-f155f2a24447",
   "metadata": {},
   "source": [
    "41. Check if the intersection of two sets is empty."
   ]
  },
  {
   "cell_type": "code",
   "execution_count": 23,
   "id": "c9d3dbea-affc-403d-aeef-58f84c1a070f",
   "metadata": {},
   "outputs": [
    {
     "name": "stdout",
     "output_type": "stream",
     "text": [
      "The intersection of two sets are empty\n"
     ]
    }
   ],
   "source": [
    "set41a = {1, 2, 3, 4, 5}\n",
    "set41b = {6, 7, 8, 9, 10}\n",
    "if len(set41a.intersection(set41b)) == 0:\n",
    "    print(\"The intersection of two sets are empty\")\n",
    "else:\n",
    "    print(\"There is atleast one element common between two sets\")"
   ]
  },
  {
   "cell_type": "markdown",
   "id": "0fe98559-9853-411c-96fe-d26517193666",
   "metadata": {},
   "source": [
    "42. Create a set of the first 5 Fibonacci numbers."
   ]
  },
  {
   "cell_type": "code",
   "execution_count": 28,
   "id": "4a454339-5d8e-43fc-8112-74f164b808db",
   "metadata": {},
   "outputs": [
    {
     "name": "stdout",
     "output_type": "stream",
     "text": [
      "First 5 Fibonacci numbers: {0, 1, 2, 3} --> Set would contain unique numbers\n"
     ]
    }
   ],
   "source": [
    "p = 0\n",
    "q = 1\n",
    "list_ = [p, q]\n",
    "num = 2\n",
    "n = 5\n",
    "while len(list_) < n:\n",
    "    p, q = q, p+q\n",
    "    list_.append(q)\n",
    "    i+=1\n",
    "print(f\"First {n} Fibonacci numbers: {set(list_)} --> Set would contain unique numbers\")"
   ]
  },
  {
   "cell_type": "markdown",
   "id": "b9cbb2b9-2ae2-4d97-9685-1fa3599dbf16",
   "metadata": {},
   "source": [
    "43. Remove duplicates from a list using sets."
   ]
  },
  {
   "cell_type": "code",
   "execution_count": 29,
   "id": "042ef85d-4104-4e31-9ce0-d34f63622591",
   "metadata": {},
   "outputs": [
    {
     "name": "stdout",
     "output_type": "stream",
     "text": [
      "Original List = [1, 2, 3, 4, 5, 6, 7, 4, 5, 3, 2, 1]\n",
      "List without duplicates = [1, 2, 3, 4, 5, 6, 7]\n"
     ]
    }
   ],
   "source": [
    "list43 = [1, 2, 3, 4, 5, 6, 7, 4, 5, 3, 2, 1]\n",
    "print(f\"Original List = {list43}\")\n",
    "set43 = set(list43)\n",
    "print(f\"List without duplicates = {list(set43)}\")"
   ]
  },
  {
   "cell_type": "markdown",
   "id": "cb2f69a0-25b7-4f3a-b6c1-31f71023e11f",
   "metadata": {},
   "source": [
    "44. Check if two sets have the same elements, regardless of their count."
   ]
  },
  {
   "cell_type": "code",
   "execution_count": 30,
   "id": "9c26ca1e-5882-4917-9f6a-8f119df88d81",
   "metadata": {},
   "outputs": [
    {
     "name": "stdout",
     "output_type": "stream",
     "text": [
      "Both sets are having same elements\n"
     ]
    }
   ],
   "source": [
    "set44a = {1, 2, 3, 4, 3, 2, 1}\n",
    "set44b = {4, 3, 2, 1}\n",
    "if set44a == set44b:\n",
    "    print(\"Both sets are having same elements\")\n",
    "else:\n",
    "    print(\"Both sets are not having same elements\")"
   ]
  },
  {
   "cell_type": "markdown",
   "id": "96f5e1b9-ee44-4501-ac25-dd5c554648d0",
   "metadata": {},
   "source": [
    "45. Create a set of the first `n` powers of 2."
   ]
  },
  {
   "cell_type": "code",
   "execution_count": 32,
   "id": "e18914d5-5f6e-43a7-98a1-3ca88091cc2e",
   "metadata": {},
   "outputs": [
    {
     "name": "stdin",
     "output_type": "stream",
     "text": [
      "Enter the value of n:  10\n"
     ]
    },
    {
     "name": "stdout",
     "output_type": "stream",
     "text": [
      "Set of the first 10 powers of 2 is: {64, 1, 4, 36, 9, 16, 49, 81, 25}\n"
     ]
    }
   ],
   "source": [
    "n = int(input(\"Enter the value of n: \"))\n",
    "\n",
    "set_pow = set([x**2 for x in range(1, n)])\n",
    "\n",
    "print(f\"Set of the first {n} powers of 2 is: {set_pow}\")"
   ]
  },
  {
   "cell_type": "markdown",
   "id": "e9b88ea0-ea80-46cb-909e-22c5f5fbc7aa",
   "metadata": {},
   "source": [
    "46. Find the common elements between a set and a list."
   ]
  },
  {
   "cell_type": "code",
   "execution_count": 33,
   "id": "a1c7a471-7274-4d4a-afbc-4749487499fc",
   "metadata": {},
   "outputs": [
    {
     "name": "stdout",
     "output_type": "stream",
     "text": [
      "The common elements between {1, 2, 3, 5} and [1, 2, 6, 7, 8, 8, 9, 3, 2, 1] is '{1, 2, 3}'\n"
     ]
    }
   ],
   "source": [
    "set46 = {1, 2, 3, 5}\n",
    "list46 = [1, 2, 6, 7, 8, 8, 9, 3, 2, 1]\n",
    "print(f\"The common elements between {set46} and {list46} is '{set46.intersection(set(list46))}'\")"
   ]
  },
  {
   "cell_type": "markdown",
   "id": "1599f54c-0487-42e2-8fbd-db72f5f78de7",
   "metadata": {},
   "source": [
    "47. Create a set of the first `n` triangular numbers."
   ]
  },
  {
   "cell_type": "code",
   "execution_count": 37,
   "id": "82f5e4a2-adb5-40be-a5b5-0dd62ec1609f",
   "metadata": {},
   "outputs": [
    {
     "name": "stdin",
     "output_type": "stream",
     "text": [
      "Enter the value of n:  10\n"
     ]
    },
    {
     "name": "stdout",
     "output_type": "stream",
     "text": [
      "The set of first 10 triangular numbers are: {1, 3, 36, 6, 10, 45, 15, 21, 55, 28}\n"
     ]
    }
   ],
   "source": [
    "def triangular_numbers(num):\n",
    "    triangular_num = []\n",
    "    total = 0\n",
    "    \n",
    "    for i in range(1, num+1):\n",
    "        total += i\n",
    "        triangular_num.append(total)\n",
    "        \n",
    "    return triangular_num\n",
    "\n",
    "n = int(input(\"Enter the value of n: \"))\n",
    "print(f\"The set of first {n} triangular numbers are: {set(triangular_numbers(n))}\")"
   ]
  },
  {
   "cell_type": "markdown",
   "id": "4452d8ec-1453-4bae-9ae1-01cbb22600ea",
   "metadata": {},
   "source": [
    "48. Check if a set contains another set as a subset."
   ]
  },
  {
   "cell_type": "code",
   "execution_count": 39,
   "id": "caf9dea0-4dd0-4d6a-8ebd-7744a4bb0077",
   "metadata": {},
   "outputs": [
    {
     "name": "stdout",
     "output_type": "stream",
     "text": [
      "{3, 36} is a subset of {1, 3, 36, 6, 10, 45, 15, 21, 55, 28}\n"
     ]
    }
   ],
   "source": [
    "super_set = {1, 3, 36, 6, 10, 45, 15, 21, 55, 28}\n",
    "sub_set = {3, 36}\n",
    "if sub_set.issubset(super_set):\n",
    "    print(f\"{sub_set} is a subset of {super_set}\")\n",
    "else:\n",
    "    print(f\"{sub_set} is not a subset of {super_set}\")"
   ]
  },
  {
   "cell_type": "markdown",
   "id": "67c12643-bef7-4c04-9827-44c19e05e494",
   "metadata": {},
   "source": [
    "49. Create a set of alternating 1s and 0s of length `n`."
   ]
  },
  {
   "cell_type": "code",
   "execution_count": 40,
   "id": "36963b23-86a6-4c4e-b023-c0f8761ef9fd",
   "metadata": {},
   "outputs": [
    {
     "name": "stdin",
     "output_type": "stream",
     "text": [
      "Enter the length of the set that you need 1s and 0s are :  10\n"
     ]
    },
    {
     "name": "stdout",
     "output_type": "stream",
     "text": [
      "The list of alternating 1s and 0s are: [0, 1, 0, 1, 0, 1, 0, 1, 0, 1]\n",
      "The set of the alternating 1s and 0s are: {0, 1}\n"
     ]
    }
   ],
   "source": [
    "alter_list = []\n",
    "n = int(input(\"Enter the length of the set that you need 1s and 0s are : \"))\n",
    "for i in range(1, n+1):\n",
    "    if i%2 == 0:\n",
    "        alter_list.append(1)\n",
    "    else:\n",
    "        alter_list.append(0)\n",
    "        \n",
    "print(f\"The list of alternating 1s and 0s are: {alter_list}\")\n",
    "print(f\"The set of the alternating 1s and 0s are: {set(alter_list)}\")"
   ]
  },
  {
   "cell_type": "markdown",
   "id": "3af6e28e-dfd4-4c73-9ed7-f46b84f03c7b",
   "metadata": {},
   "source": [
    "50. Merge multiple sets into one."
   ]
  },
  {
   "cell_type": "code",
   "execution_count": 43,
   "id": "7fc5f2d5-a10e-407e-8119-80b8abd4ba45",
   "metadata": {},
   "outputs": [
    {
     "name": "stdout",
     "output_type": "stream",
     "text": [
      "Merged set: {1, 2, 3, 4, 5}\n"
     ]
    }
   ],
   "source": [
    "set1 = {1, 2, 3, 4}\n",
    "set2 = {4, 3, 2, 1}\n",
    "set3 = {1, 2, 3, 5}\n",
    "merged_set = set1.union(set2, set3)\n",
    "\n",
    "print(f\"Merged set: {merged_set}\")"
   ]
  }
 ],
 "metadata": {
  "kernelspec": {
   "display_name": "Python 3 (ipykernel)",
   "language": "python",
   "name": "python3"
  },
  "language_info": {
   "codemirror_mode": {
    "name": "ipython",
    "version": 3
   },
   "file_extension": ".py",
   "mimetype": "text/x-python",
   "name": "python",
   "nbconvert_exporter": "python",
   "pygments_lexer": "ipython3",
   "version": "3.10.8"
  }
 },
 "nbformat": 4,
 "nbformat_minor": 5
}
