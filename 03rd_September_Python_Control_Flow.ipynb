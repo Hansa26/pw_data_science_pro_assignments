{
 "cells": [
  {
   "cell_type": "markdown",
   "id": "f417fc43-0e08-4c3d-beac-818af5501afc",
   "metadata": {},
   "source": [
    "# Control Flow"
   ]
  },
  {
   "cell_type": "markdown",
   "id": "cd4e7d1e-3cd4-4846-8da8-dbb2e340e9b3",
   "metadata": {
    "jp-MarkdownHeadingCollapsed": true,
    "tags": []
   },
   "source": [
    "# Basic If-Else Statements:"
   ]
  },
  {
   "cell_type": "markdown",
   "id": "6efefe13-4d1f-4590-a552-f14474ff7539",
   "metadata": {},
   "source": [
    "1. Write a Python program to check if a given number is positive or negative."
   ]
  },
  {
   "cell_type": "code",
   "execution_count": 3,
   "id": "4a32b502-3945-4511-90f3-0c4ee3e73eb3",
   "metadata": {},
   "outputs": [
    {
     "name": "stdin",
     "output_type": "stream",
     "text": [
      "Enter a number:  0\n"
     ]
    },
    {
     "name": "stdout",
     "output_type": "stream",
     "text": [
      "0 is neither negative nor positive\n"
     ]
    }
   ],
   "source": [
    "num = int(input(\"Enter a number: \"))\n",
    "\n",
    "if num < 0:\n",
    "    print(f\"{num} is NEGATIVE\")\n",
    "elif num == 0:\n",
    "    print(f\"{num} is neither negative nor positive\")\n",
    "else:\n",
    "    print(f\"{num} is POSITIVE\")"
   ]
  },
  {
   "cell_type": "markdown",
   "id": "834189a2-643a-49c6-a78b-d9cda77338c0",
   "metadata": {},
   "source": [
    "2. Create a program that determines if a person is eligible to vote based on their age."
   ]
  },
  {
   "cell_type": "code",
   "execution_count": 10,
   "id": "10c94e80-cd38-4a21-ba2e-b34ca2e7835d",
   "metadata": {},
   "outputs": [
    {
     "name": "stdin",
     "output_type": "stream",
     "text": [
      "Enter the age of a person:  1\n"
     ]
    },
    {
     "name": "stdout",
     "output_type": "stream",
     "text": [
      "This person is not eligible to vote!\n",
      "Please vote after 17 year(s)..\n"
     ]
    }
   ],
   "source": [
    "age = int(input(\"Enter the age of a person: \"))\n",
    "if age >= 18 and age < 100:\n",
    "    print(f\"Ths person is eligible to vote!\")\n",
    "elif age > 100:\n",
    "    print(f\"This person Legend, he has all the rights :P!\")\n",
    "else:\n",
    "    print(f\"This person is not eligible to vote!\\nPlease vote after {18-age} year(s)..\")"
   ]
  },
  {
   "cell_type": "markdown",
   "id": "18cbf63b-6931-43ad-8a34-e33982b01eed",
   "metadata": {},
   "source": [
    "3. Develop a program to find the maximum of two numbers using if-else statements."
   ]
  },
  {
   "cell_type": "code",
   "execution_count": 12,
   "id": "9f7b449b-9a7e-430f-b509-447ec671fd15",
   "metadata": {},
   "outputs": [
    {
     "name": "stdin",
     "output_type": "stream",
     "text": [
      "Enter a number:  10\n",
      "Enter another number:  10\n"
     ]
    },
    {
     "name": "stdout",
     "output_type": "stream",
     "text": [
      "The maximum of 10 and 10 is 10\n"
     ]
    }
   ],
   "source": [
    "n = int(input(\"Enter a number: \"))\n",
    "m = int(input(\"Enter another number: \"))\n",
    "\n",
    "if n > m:\n",
    "    max_num = n\n",
    "else:\n",
    "    max_num = m\n",
    "    \n",
    "print(f\"The maximum of {n} and {m} is {max_num}\")"
   ]
  },
  {
   "cell_type": "markdown",
   "id": "6e6ca94c-4359-4781-8bf7-6576f9069ae3",
   "metadata": {},
   "source": [
    "4. Write a Python script to classify a given year as a leap year or not."
   ]
  },
  {
   "cell_type": "code",
   "execution_count": 53,
   "id": "254e1654-58bf-4ce4-a7f8-ad7b78163b3d",
   "metadata": {},
   "outputs": [
    {
     "name": "stdin",
     "output_type": "stream",
     "text": [
      "Enter the year:  1700\n"
     ]
    },
    {
     "name": "stdout",
     "output_type": "stream",
     "text": [
      "1700 is not a leap year!\n"
     ]
    }
   ],
   "source": [
    "year = int(input(\"Enter the year: \"))\n",
    "\n",
    "if (year % 4 == 0 and year % 100 != 0) or year % 400 == 0:\n",
    "    print(f\"{year} is a Leap year!\")\n",
    "else:\n",
    "    print(f\"{year} is not a leap year!\")"
   ]
  },
  {
   "cell_type": "markdown",
   "id": "9831bf44-1211-480a-8cfc-d0383b492d34",
   "metadata": {},
   "source": [
    "5. Create a program that checks whether a character is a vowel or a consonant."
   ]
  },
  {
   "cell_type": "code",
   "execution_count": 20,
   "id": "af8c16c2-72b6-4904-b063-a7d32c6e7f92",
   "metadata": {},
   "outputs": [
    {
     "name": "stdin",
     "output_type": "stream",
     "text": [
      "Enter a character:  U\n"
     ]
    },
    {
     "name": "stdout",
     "output_type": "stream",
     "text": [
      "'U' is a vowel!\n"
     ]
    }
   ],
   "source": [
    "char = input(\"Enter a character: \")\n",
    "\n",
    "vowels = 'AEIOUaeiou'\n",
    "if char in vowels:\n",
    "    print(f\"'{char}' is a vowel!\")\n",
    "else:\n",
    "    print(f\"'{char}' is a consonant!\")"
   ]
  },
  {
   "cell_type": "markdown",
   "id": "6fdcfb1f-2a2a-4705-9237-73a29e383706",
   "metadata": {},
   "source": [
    "6. Implement a program to determine whether a given number is even or odd."
   ]
  },
  {
   "cell_type": "code",
   "execution_count": 22,
   "id": "310bcafb-fd45-448d-ae47-96c9e9fda9ac",
   "metadata": {},
   "outputs": [
    {
     "name": "stdin",
     "output_type": "stream",
     "text": [
      "Enter a number to check for even or odd:  11\n"
     ]
    },
    {
     "name": "stdout",
     "output_type": "stream",
     "text": [
      "11 is ODD number!\n"
     ]
    }
   ],
   "source": [
    "num = int(input(\"Enter a number to check for even or odd: \"))\n",
    "\n",
    "if num % 2 == 0:\n",
    "    print(f\"{num} is EVEN number!\")\n",
    "else:\n",
    "    print(f\"{num} is ODD number!\")"
   ]
  },
  {
   "cell_type": "markdown",
   "id": "3b366032-8f42-4bee-9c1e-44d7b65f1736",
   "metadata": {},
   "source": [
    "7. Write a Python function to calculate the absolute value of a number without using the `abs()` function."
   ]
  },
  {
   "cell_type": "code",
   "execution_count": 26,
   "id": "655b9bd8-44c2-4ab3-b21b-3a087e46d03a",
   "metadata": {},
   "outputs": [
    {
     "name": "stdin",
     "output_type": "stream",
     "text": [
      "Enter a number:  -100\n"
     ]
    },
    {
     "name": "stdout",
     "output_type": "stream",
     "text": [
      "The absolute value of -100 is 100\n"
     ]
    }
   ],
   "source": [
    "num = int(input(\"Enter a number: \"))\n",
    "\n",
    "print(f\"The absolute value of {num} is {abs(num)}\")"
   ]
  },
  {
   "cell_type": "markdown",
   "id": "aab855e1-38cd-4a40-94a2-eafc92f99d8c",
   "metadata": {},
   "source": [
    "8. Develop a program that determines the largest of three given numbers using if-else statements."
   ]
  },
  {
   "cell_type": "code",
   "execution_count": 30,
   "id": "0f8d757a-266d-41ec-978e-b437ea19049e",
   "metadata": {},
   "outputs": [
    {
     "name": "stdin",
     "output_type": "stream",
     "text": [
      "Enter the first number:  19\n",
      "Enter the second number:  20\n",
      "Enter the third number:  20\n"
     ]
    },
    {
     "name": "stdout",
     "output_type": "stream",
     "text": [
      "The largest of 19, 20 and 20 is 20!\n"
     ]
    }
   ],
   "source": [
    "a = int(input(\"Enter the first number: \"))\n",
    "b = int(input(\"Enter the second number: \"))\n",
    "c = int(input(\"Enter the third number: \"))\n",
    "\n",
    "if a > b and a > c:\n",
    "    greatest = a\n",
    "elif b > a and b > c:\n",
    "    greatest = b\n",
    "else:\n",
    "    greatest = c\n",
    "print(f\"The largest of {a}, {b} and {c} is {greatest}!\")"
   ]
  },
  {
   "cell_type": "markdown",
   "id": "8a55b45e-9dbd-4706-a99f-a42da33d8ac3",
   "metadata": {},
   "source": [
    "9. Create a program that checks if a given string is a palindrome."
   ]
  },
  {
   "cell_type": "code",
   "execution_count": 42,
   "id": "f3b4ef70-b463-461e-a652-d799c1e41677",
   "metadata": {},
   "outputs": [
    {
     "name": "stdin",
     "output_type": "stream",
     "text": [
      "Enter a string:  A man, a plan, a canal – Panama\n"
     ]
    },
    {
     "name": "stdout",
     "output_type": "stream",
     "text": [
      "'A man, a plan, a canal – Panama' is PALINDROME\n"
     ]
    }
   ],
   "source": [
    "string = input(\"Enter a string: \")\n",
    "\n",
    "only_alphabets = (x for x in string if x.isalpha())\n",
    "modified_string = ''.join(only_alphabets)\n",
    "if modified_string.lower() == modified_string.lower()[::-1]:\n",
    "    print(f\"'{string}' is PALINDROME\")\n",
    "else:\n",
    "    print(f\"'{string}' is NOT PALINDROME\")"
   ]
  },
  {
   "cell_type": "markdown",
   "id": "cff44f88-88ea-40cb-a2de-9a86bba371ca",
   "metadata": {},
   "source": [
    "10. Write a Python program to calculate the grade based on a student's score."
   ]
  },
  {
   "cell_type": "raw",
   "id": "55b89fd7-a390-4071-9e15-285689cffbcc",
   "metadata": {},
   "source": [
    "Common examples of grade conversion are: \n",
    "A+ (97–100), A (93–96), A- (90–92), \n",
    "B+ (87–89), B (83–86), B- (80–82), \n",
    "C+ (77–79), C (73–76), C- (70–72), \n",
    "D+ (67–69), D (65–66), D- (below 65)."
   ]
  },
  {
   "cell_type": "code",
   "execution_count": 77,
   "id": "c2d30569-1a07-4e84-9c55-bfa4628d1ea2",
   "metadata": {},
   "outputs": [
    {
     "name": "stdin",
     "output_type": "stream",
     "text": [
      "Enter the score to check the grade:  100\n"
     ]
    },
    {
     "name": "stdout",
     "output_type": "stream",
     "text": [
      "The student scored an A+\n"
     ]
    }
   ],
   "source": [
    "grade = float(input(\"Enter the score to check the grade: \"))\n",
    "\n",
    "if grade > 100:\n",
    "    print(\"Invalid subject score, as the maximum score anyone can ever get is 100!\")\n",
    "else:\n",
    "    if 97 <= grade <= 100:\n",
    "        print(\"The student scored an A+\")\n",
    "    elif 93 <= grade <= 96:\n",
    "        print(\"The student scored an A\")\n",
    "    elif 90 <= grade <= 92:\n",
    "        print(\"The student scored an A-\")\n",
    "    elif 87 <= grade <= 89:\n",
    "        print(\"The student scored an B+\")\n",
    "    elif 83 <= grade <= 86:\n",
    "        print(\"The student scored an B\")\n",
    "    elif 80 <= grade <= 82:\n",
    "        print(\"The student scored an B-\")\n",
    "    elif 77 <= grade <= 79:\n",
    "        print(\"The student scored an C+\")\n",
    "    elif 73 <= grade <= 76:\n",
    "        print(\"The student scored an C\")\n",
    "    elif 70 <= grade <= 72:\n",
    "        print(\"The student scored an C-\")\n",
    "    elif 67 <= grade <= 69:\n",
    "        print(\"The student scored an D+\")\n",
    "    elif 65 <= grade <= 66:\n",
    "        print(\"The student scored an D\")\n",
    "    elif 35 <= grade < 65:\n",
    "        print(\"The student scored an D-\")\n",
    "    else:\n",
    "        print(\"The student has failed in this subject!\")"
   ]
  },
  {
   "cell_type": "markdown",
   "id": "a9767b63-bd9d-4eba-a760-52d828e4c61f",
   "metadata": {
    "jp-MarkdownHeadingCollapsed": true,
    "tags": []
   },
   "source": [
    "# Nested If-Else Statements:"
   ]
  },
  {
   "cell_type": "markdown",
   "id": "88954b51-eb1b-490f-9c1c-d8b7919078d3",
   "metadata": {},
   "source": [
    "11. Write a program to find the largest among three numbers using nested if-else statements."
   ]
  },
  {
   "cell_type": "code",
   "execution_count": 48,
   "id": "646d018f-d384-4e48-a0b7-2fb09efaadad",
   "metadata": {},
   "outputs": [
    {
     "name": "stdin",
     "output_type": "stream",
     "text": [
      "Enter the first number:  1.01\n",
      "Enter the second number:  1.010\n",
      "Enter the third number:  1.0100\n"
     ]
    },
    {
     "name": "stdout",
     "output_type": "stream",
     "text": [
      "The largest of 1.01, 1.01, 1.01 is 1.01\n"
     ]
    }
   ],
   "source": [
    "a = float(input(\"Enter the first number: \"))\n",
    "b = float(input(\"Enter the second number: \"))\n",
    "c = float(input(\"Enter the third number: \"))\n",
    "\n",
    "if a > b and a > c:\n",
    "    largest = a\n",
    "else:\n",
    "    if b > c and b > a:\n",
    "        largest = b\n",
    "    else:\n",
    "        largest = c\n",
    "\n",
    "print(f\"The largest of {a}, {b}, {c} is {largest}\")"
   ]
  },
  {
   "cell_type": "markdown",
   "id": "96596fc4-9543-485f-965b-ba378e916ed9",
   "metadata": {},
   "source": [
    "12. Implement a program to determine if a triangle is equilateral, isosceles, or scalene."
   ]
  },
  {
   "cell_type": "raw",
   "id": "512d1644-8b0b-4a22-adde-270bee7edbe8",
   "metadata": {},
   "source": [
    "Equilateral Triangle:  All sides of a triangle are equal\n",
    "Isosceles Triangle: Any two sides of a triangle are equal\n",
    "Scalene Triangle: None of the sides of a triangle is same"
   ]
  },
  {
   "cell_type": "code",
   "execution_count": 52,
   "id": "1c3e6647-12cf-4e20-87b9-73efd1f61477",
   "metadata": {},
   "outputs": [
    {
     "name": "stdin",
     "output_type": "stream",
     "text": [
      "Enter the first side of the triangle:  10\n",
      "Enter the second side of the triangle:  12\n",
      "Enter the third side of the triangle:  12.01\n"
     ]
    },
    {
     "name": "stdout",
     "output_type": "stream",
     "text": [
      "The given triangle is a SCALENE\n"
     ]
    }
   ],
   "source": [
    "a = float(input(\"Enter the first side of the triangle: \"))\n",
    "b = float(input(\"Enter the second side of the triangle: \"))\n",
    "c = float(input(\"Enter the third side of the triangle: \"))\n",
    "\n",
    "if a == b == c:\n",
    "    print(\"The given triangle is an EQUILATERAL\")\n",
    "elif a != b and b != c and c != a:\n",
    "    print(\"The given triangle is a SCALENE\")\n",
    "else:\n",
    "    if (a == b and b != c) or (a == c and c != b) or (b == c and c != a):\n",
    "        print(\"The given triangle is an ISOSCELES\")\n",
    "    else:\n",
    "        print(\"Invalid measurements given!\")"
   ]
  },
  {
   "cell_type": "markdown",
   "id": "6dfbef12-de9a-49a0-9841-43094d1fbddb",
   "metadata": {},
   "source": [
    "13. Develop a program that checks if a year is a leap year and also if it is a century year."
   ]
  },
  {
   "cell_type": "raw",
   "id": "de66de10-7872-4a7d-9623-f131384fe7bd",
   "metadata": {},
   "source": [
    "A century leap year is a year in the Gregorian calendar that is evenly divisible by 400 and is thus a leap year"
   ]
  },
  {
   "cell_type": "code",
   "execution_count": 68,
   "id": "daf62c7b-d3bf-4a7a-93fb-5a28a12862d7",
   "metadata": {},
   "outputs": [
    {
     "name": "stdin",
     "output_type": "stream",
     "text": [
      "Enter a year:  2104\n"
     ]
    },
    {
     "name": "stdout",
     "output_type": "stream",
     "text": [
      "2104 is a Leap year\n",
      "2104 is not a century leap year!\n"
     ]
    }
   ],
   "source": [
    "year = int(input(\"Enter a year: \"))\n",
    "\n",
    "if (year % 4 == 0 and year % 100 != 0) or year % 400 == 0:\n",
    "    print(f\"{year} is a Leap year\")\n",
    "else:\n",
    "    print(f\"{year} is not a leap year!\")\n",
    "if year % 400 == 0:\n",
    "    print(f\"{year} is also a century Leap year\")\n",
    "else:\n",
    "    print(f\"{year} is not a century leap year!\")"
   ]
  },
  {
   "cell_type": "markdown",
   "id": "11af614a-cbcb-4727-a31f-15f68dd15214",
   "metadata": {},
   "source": [
    "14. Write a Python script to determine if a number is positive, negative, or zero."
   ]
  },
  {
   "cell_type": "code",
   "execution_count": 69,
   "id": "6b833163-8254-4cb5-a101-2933bc8d697d",
   "metadata": {},
   "outputs": [
    {
     "name": "stdin",
     "output_type": "stream",
     "text": [
      "Enter a number:  0\n"
     ]
    },
    {
     "name": "stdout",
     "output_type": "stream",
     "text": [
      "0 is neither negative nor positive\n"
     ]
    }
   ],
   "source": [
    "num = int(input(\"Enter a number: \"))\n",
    "\n",
    "if num < 0:\n",
    "    print(f\"{num} is NEGATIVE\")\n",
    "elif num == 0:\n",
    "    print(f\"{num} is neither negative nor positive\")\n",
    "else:\n",
    "    print(f\"{num} is POSITIVE\")"
   ]
  },
  {
   "cell_type": "markdown",
   "id": "ec65ceb4-1f27-499b-a31a-c29eaa22c117",
   "metadata": {},
   "source": [
    "15. Create a program to check if a person is a teenager (between 13 and 19 years old)."
   ]
  },
  {
   "cell_type": "code",
   "execution_count": 80,
   "id": "71de6402-5f18-47e8-82fb-a131d0cb66fb",
   "metadata": {},
   "outputs": [
    {
     "name": "stdin",
     "output_type": "stream",
     "text": [
      "Enter the age of a person:  40\n"
     ]
    },
    {
     "name": "stdout",
     "output_type": "stream",
     "text": [
      "He/She is a youth!\n"
     ]
    }
   ],
   "source": [
    "age = int(input(\"Enter the age of a person: \"))\n",
    "\n",
    "if 13 <= age <= 19:\n",
    "    print(\"He/She is a Teenager!\")\n",
    "elif 0 < age <= 13:\n",
    "    print(\"He/She is a kid!\")\n",
    "elif 20 <= age <= 40:\n",
    "    print(\"He/She is a youth!\")\n",
    "else:\n",
    "    print(\"He/She is old enough!\")"
   ]
  },
  {
   "cell_type": "markdown",
   "id": "6e991ab0-fbb5-4dbd-9f48-d47dcf738024",
   "metadata": {},
   "source": [
    "16. Develop a program that determines the type of angle based on its measure (acute, obtuse, or right)."
   ]
  },
  {
   "cell_type": "raw",
   "id": "dae77a49-6636-4ea7-a86b-b5b7b5906006",
   "metadata": {},
   "source": [
    "Acute angle - < 90\n",
    "Obtuse angle - greater than 90 and less than 180\n",
    "right angled - == 90"
   ]
  },
  {
   "cell_type": "code",
   "execution_count": 86,
   "id": "a6e3ad6f-e5f3-4ab9-be80-4e74d78d9da0",
   "metadata": {},
   "outputs": [
    {
     "name": "stdin",
     "output_type": "stream",
     "text": [
      "Enter the angle:  90.00000000000001\n"
     ]
    },
    {
     "name": "stdout",
     "output_type": "stream",
     "text": [
      "90.00000000000001 .deg is Obtuse Angle\n"
     ]
    }
   ],
   "source": [
    "angle = float(input(\"Enter the angle: \"))\n",
    "\n",
    "cal_angle = abs(180-angle)\n",
    "\n",
    "if angle == 90.0:\n",
    "    print(f\"{angle} .deg is Right angle\")\n",
    "elif 0 < angle < 90:\n",
    "    print(f\"{angle} .deg is Actue Angle\")\n",
    "elif 90 < angle < 180:\n",
    "    print(f\"{angle} .deg is Obtuse Angle\")\n",
    "elif angle == 0 or angle == 180:\n",
    "    print(f\"{angle} .deg is Straight Line\")\n",
    "elif angle == 360:\n",
    "    print(f\"{angle} .deg is Circle\")"
   ]
  },
  {
   "cell_type": "markdown",
   "id": "d4f27f91-98e1-4a77-ba8f-bc5965e5c8b3",
   "metadata": {},
   "source": [
    "17. Write a Python program to calculate the roots of a quadratic equation."
   ]
  },
  {
   "cell_type": "raw",
   "id": "03ed4224-4257-4a6d-9b2c-e7997d8b8dcd",
   "metadata": {},
   "source": [
    "Quadratic equations are the polynomial equations of degree 2 in one variable of type \n",
    "f(x) = ax^2 + bx + c = 0 where a, b, c, ∈ R and a ≠ 0. \n",
    "It is the general form of a quadratic equation where ‘a’ is called the leading coefficient and ‘c’ is called the absolute term of f (x). The values of x satisfying the quadratic equation are the roots of the quadratic equation (α, β).\n",
    "\n",
    "To identify the nature of the roots:\n",
    "Discriminant D = b^2 - 4ac\n",
    "D > 0, roots are real and distinct (unequal)\n",
    "D = 0, roots are real and equal (coincident)\n",
    "D < 0, roots are imaginary and unequal"
   ]
  },
  {
   "cell_type": "code",
   "execution_count": 92,
   "id": "5221402f-9a77-4873-9c07-86c71580b476",
   "metadata": {},
   "outputs": [
    {
     "name": "stdin",
     "output_type": "stream",
     "text": [
      "Enter the first co-efficient (a) of ax^2 + bx + c:  1\n",
      "Enter the second co-efficient (b) of  ax^2 + bx + c:  2\n",
      "Enter the constant (c) of ax^2 + bx + c:  3\n"
     ]
    },
    {
     "name": "stdout",
     "output_type": "stream",
     "text": [
      "Quadratic Equation: 1x^2 +(2)x +(3)\n",
      "Discriminant = -8\n",
      "Roots are imaginary and unequal!\n",
      "Real = -1.0 and Imaginary = 1.4142135623730951\n"
     ]
    }
   ],
   "source": [
    "import math\n",
    "a = int(input(\"Enter the first co-efficient (a) of ax^2 + bx + c: \"))\n",
    "b = int(input(\"Enter the second co-efficient (b) of  ax^2 + bx + c: \"))\n",
    "c = int(input(\"Enter the constant (c) of ax^2 + bx + c: \"))\n",
    "\n",
    "print(f\"Quadratic Equation: {a}x^2 +({b})x +({c})\")\n",
    "\n",
    "discriminant = b**2 - (4*a*c)\n",
    "print(f\"Discriminant = {discriminant}\")\n",
    "\n",
    "if discriminant > 0:\n",
    "    print(\"Roots are real and distinct!\")\n",
    "    root1 = (-(b) + math.sqrt(abs(discriminant))) / (2*a)\n",
    "    root2 = (-(b) - math.sqrt(abs(discriminant))) / (2*a)\n",
    "    print(f\"Roots: root1 = {root1} and root2 = {root2}\")\n",
    "elif discriminant == 0:\n",
    "    print(\"Roots are real and equal!\")\n",
    "    roots = (-(b) / (2*a))\n",
    "    print(f\"Root = {roots}\")\n",
    "elif discriminant < 0:\n",
    "    print(\"Roots are imaginary and unequal!\")\n",
    "    real = (-(b) / (2*a))\n",
    "    imaginary = math.sqrt(abs(discriminant)) / (2*a)\n",
    "    print(f\"Real = {real} and Imaginary = {imaginary}\")\n"
   ]
  },
  {
   "cell_type": "markdown",
   "id": "cc73d6a8-9abb-4580-aa99-4c56f5bf2533",
   "metadata": {},
   "source": [
    "18. Implement a program to determine the day of the week based on a user-provided number (1 for Monday, 2\n",
    "for Tuesday, etc.)."
   ]
  },
  {
   "cell_type": "code",
   "execution_count": 95,
   "id": "f49e4360-bcff-462b-bed6-f094a6498dfd",
   "metadata": {},
   "outputs": [
    {
     "name": "stdin",
     "output_type": "stream",
     "text": [
      "Enter the number between 1 to 7:  5\n"
     ]
    },
    {
     "name": "stdout",
     "output_type": "stream",
     "text": [
      "Corresponding Day is: FRIDAY\n"
     ]
    }
   ],
   "source": [
    "num = int(input(\"Enter the number between 1 to 7: \"))\n",
    "week = {1: 'MONDAY', 2: 'TUESDAY', 3: 'WEDNESDAY', 4: 'THURSDAY', 5: 'FRIDAY', 6: 'SATURDAY', 7: 'SUNDAY'}\n",
    "if num > 7 or num < 1:\n",
    "    print(\"Invalid Number to get the week day, as there are only 7 days in a week!\")\n",
    "else:\n",
    "    if num >= 1 and num <=7:\n",
    "        print(f\"Corresponding Day is: {week.get(num)}\")"
   ]
  },
  {
   "cell_type": "markdown",
   "id": "d3cc5345-5b2b-4b64-bb89-46050b6a5cef",
   "metadata": {},
   "source": [
    "19. Create a program that determines if a year is a leap year and also if it is evenly divisible by 400."
   ]
  },
  {
   "cell_type": "code",
   "execution_count": 98,
   "id": "fdd72a9f-a500-4a83-b5ec-e4f1117077db",
   "metadata": {},
   "outputs": [
    {
     "name": "stdin",
     "output_type": "stream",
     "text": [
      "Enter a year:  2024\n"
     ]
    },
    {
     "name": "stdout",
     "output_type": "stream",
     "text": [
      "2024 is a Leap year\n",
      "2024 is not evenly divisible by 400!\n"
     ]
    }
   ],
   "source": [
    "year = int(input(\"Enter a year: \"))\n",
    "\n",
    "if (year % 4 == 0 and year % 100 != 0) or year % 400 == 0:\n",
    "    print(f\"{year} is a Leap year\")\n",
    "else:\n",
    "    print(f\"{year} is not a leap year!\")\n",
    "if year % 400 == 0:\n",
    "    print(f\"{year} is also evenly divisible by 400\")\n",
    "else:\n",
    "    print(f\"{year} is not evenly divisible by 400!\")"
   ]
  },
  {
   "cell_type": "markdown",
   "id": "3e1a14d5-6150-4c57-b164-8bed39cbaaa6",
   "metadata": {},
   "source": [
    "20. Develop a program that checks if a given number is prime or not using nested if-else statements."
   ]
  },
  {
   "cell_type": "code",
   "execution_count": 108,
   "id": "3ebdd4f5-2f57-41a1-b91f-0d1eb4d823d0",
   "metadata": {},
   "outputs": [
    {
     "name": "stdin",
     "output_type": "stream",
     "text": [
      "Enter a number:  9\n"
     ]
    },
    {
     "name": "stdout",
     "output_type": "stream",
     "text": [
      "9 is not a Prime number\n"
     ]
    }
   ],
   "source": [
    "def check_prime(num):\n",
    "    if num == 0 or num == 1:\n",
    "        return False\n",
    "    if num <= 3:\n",
    "        return True\n",
    "    for i in range(2, int(num**0.5) + 1):\n",
    "        if num % i == 0 or num % (i+1) == 0:\n",
    "            return False\n",
    "    return True\n",
    "\n",
    "number = int(input(\"Enter a number: \"))\n",
    "\n",
    "if check_prime(number):\n",
    "    print(f\"{number} is a Prime number\")\n",
    "else:\n",
    "    print(f\"{number} is not a Prime number\")"
   ]
  },
  {
   "cell_type": "markdown",
   "id": "98fae89b-1236-4867-84ea-ee858d7c00c5",
   "metadata": {
    "jp-MarkdownHeadingCollapsed": true,
    "tags": []
   },
   "source": [
    "# Elif Statements:"
   ]
  },
  {
   "cell_type": "markdown",
   "id": "f76ca758-be80-4f6d-9a95-dbce7104f40b",
   "metadata": {},
   "source": [
    "21. Write a Python program to assign grades based on different ranges of scores using elif statements."
   ]
  },
  {
   "cell_type": "code",
   "execution_count": null,
   "id": "1969df24-9188-45ea-bef1-f360fa306b86",
   "metadata": {},
   "outputs": [],
   "source": [
    "grade = float(input(\"Enter the score to check the grade: \"))\n",
    "\n",
    "if grade > 100:\n",
    "    print(\"Invalid subject score, as the maximum score anyone can ever get is 100!\")\n",
    "else:\n",
    "    if 97 <= grade <= 100:\n",
    "        print(\"The student scored an A+\")\n",
    "    elif 93 <= grade <= 96:\n",
    "        print(\"The student scored an A\")\n",
    "    elif 90 <= grade <= 92:\n",
    "        print(\"The student scored an A-\")\n",
    "    elif 87 <= grade <= 89:\n",
    "        print(\"The student scored an B+\")\n",
    "    elif 83 <= grade <= 86:\n",
    "        print(\"The student scored an B\")\n",
    "    elif 80 <= grade <= 82:\n",
    "        print(\"The student scored an B-\")\n",
    "    elif 77 <= grade <= 79:\n",
    "        print(\"The student scored an C+\")\n",
    "    elif 73 <= grade <= 76:\n",
    "        print(\"The student scored an C\")\n",
    "    elif 70 <= grade <= 72:\n",
    "        print(\"The student scored an C-\")\n",
    "    elif 67 <= grade <= 69:\n",
    "        print(\"The student scored an D+\")\n",
    "    elif 65 <= grade <= 66:\n",
    "        print(\"The student scored an D\")\n",
    "    elif 35 <= grade < 65:\n",
    "        print(\"The student scored an D-\")\n",
    "    else:\n",
    "        print(\"The student has failed in this subject!\")"
   ]
  },
  {
   "cell_type": "markdown",
   "id": "e7936525-d06c-4ef9-bfd8-e991a39c63b4",
   "metadata": {},
   "source": [
    "22. Implement a program to determine the type of a triangle based on its angles."
   ]
  },
  {
   "cell_type": "raw",
   "id": "58331673-f30d-4e4c-bca9-20512aa9463a",
   "metadata": {},
   "source": [
    "A valid triangle is the one where all of it's angles would sum to 180 else, it is an invalid traingle."
   ]
  },
  {
   "cell_type": "code",
   "execution_count": 5,
   "id": "8b5b6d97-487b-4285-80b5-e825d9f8dd46",
   "metadata": {},
   "outputs": [
    {
     "name": "stdin",
     "output_type": "stream",
     "text": [
      "Enter the first angle of the triangle:  91\n",
      "Enter the second angle of the triangle:  45\n",
      "Enter the third angle of the triangle:  44\n"
     ]
    },
    {
     "name": "stdout",
     "output_type": "stream",
     "text": [
      "The type of the triangle is: The given triangle is an Obtuse Angled Triangle\n"
     ]
    }
   ],
   "source": [
    "def type_of_triangle(a1, a2, a3):\n",
    "    \"\"\"\n",
    "    This program defines a triangle_type function that takes three angle measurements as input and returns the type of triangle \n",
    "    based on the given angles. It checks whether the triangle is acute, right, obtuse, or invalid (if the angles don't add up to 180 degrees).\n",
    "    The user is prompted to enter the three angles, and the program then calls the function to determine the type of the triangle and\n",
    "    prints the result.\n",
    "    \"\"\"\n",
    "    if (a1 + a2 + a3) != 180:\n",
    "        return \"Invalid Triangle. The sum of the angles should be equal to 180 .deg!\"\n",
    "    if a1 < 90.0 and a2 < 90.0 and a3 < 90.0:\n",
    "        return \"The given triangle is a Acute Angled Triangle\"\n",
    "    elif a1 == 90.0 or a2 == 90.0 or a3 == 90.0:\n",
    "        return \"The given triangle is a Right Angled Triangle\"\n",
    "    else:\n",
    "        return \"The given triangle is an Obtuse Angled Triangle\"\n",
    "    \n",
    "# this would fail if the user inputs string values\n",
    "try:\n",
    "    angle1 = float(input(\"Enter the first angle of the triangle: \"))\n",
    "    angle2 = float(input(\"Enter the second angle of the triangle: \"))\n",
    "    angle3 = float(input(\"Enter the third angle of the triangle: \"))\n",
    "    \n",
    "    print(f\"The type of the triangle is: {type_of_triangle(angle1, angle2, angle3)}\")\n",
    "    \n",
    "except Exception as ex:\n",
    "    print(\"Kindly enter valid angle measurements (numeric values)\")"
   ]
  },
  {
   "cell_type": "markdown",
   "id": "6b4df2cb-e4f5-479b-8cc0-faf8756c2920",
   "metadata": {},
   "source": [
    "23. Develop a program to categorize a given person's BMI into underweight, normal, overweight, or obese using\n",
    "elif statements."
   ]
  },
  {
   "cell_type": "raw",
   "id": "676ec9ce-8188-43a1-95d5-29fd5ad26a40",
   "metadata": {},
   "source": [
    "BMI (Body Mass Index) is a simple calculation that can be used to estimate whether a person has a healthy body weight based on their height and weight. The formula to calculate BMI is:\n",
    "\n",
    "BMI = Weight(kg)/height^2(sqmt)"
   ]
  },
  {
   "cell_type": "code",
   "execution_count": 9,
   "id": "d31e9710-f7b1-41fd-9329-1681c48c3a13",
   "metadata": {},
   "outputs": [
    {
     "name": "stdin",
     "output_type": "stream",
     "text": [
      "Please enter your First Name:  Hansa\n",
      "Hansa, Please enter your weight in kilograms:  66.10\n",
      "Hansa, Please enter your height in meters:  1.64592\n"
     ]
    },
    {
     "name": "stdout",
     "output_type": "stream",
     "text": [
      "Hansa your BMI is: 24.399673475463395\n",
      "Hansa, as per your BMI, you are perfectly healthy. Please continue with the same efforts!\n"
     ]
    }
   ],
   "source": [
    "def bmi_calculator(weight, height):\n",
    "    return (weight/height**2)\n",
    "\n",
    "# if the end user enters string, this would raise an exception\n",
    "try:\n",
    "    name = input(\"Please enter your First Name: \")\n",
    "    weight_kg = float(input(f\"{name}, Please enter your weight in kilograms: \"))\n",
    "    height_mtr = float(input(f\"{name}, Please enter your height in meters: \"))\n",
    "    \n",
    "    bmi = bmi_calculator(weight_kg, height_mtr)\n",
    "    print(f\"{name} your BMI is: {bmi}\")\n",
    "    \n",
    "    if bmi < 18.5:\n",
    "        print(f\"{name}, as per your BMI, you are underweight. Please take healthy consumables to gain weight!\")\n",
    "    elif bmi >= 18.5 and bmi < 25:\n",
    "        print(f\"{name}, as per your BMI, you are perfectly healthy. Please continue with the same efforts!\")\n",
    "    elif bmi >= 25 and bmi < 30:\n",
    "        print(f\"{name}, as per your BMI, you are overweight. Please take care and do proper exercises to maintain a perfect health!\")\n",
    "    else:\n",
    "        print(f\"{name}, as per your BMI, you are obese. This is not a good sign, please do exercise on daily basis to maintain physical fitness!\")\n",
    "except Exception as ex:\n",
    "    print(f\"{name}, please enter valid values (numeric values)\")"
   ]
  },
  {
   "cell_type": "markdown",
   "id": "ed9dce4a-17f9-4ce7-b247-b9d3bf96a96c",
   "metadata": {},
   "source": [
    "24. Create a program that determines whether a given number is positive, negative, or zero using elif\n",
    "statements."
   ]
  },
  {
   "cell_type": "code",
   "execution_count": 10,
   "id": "54e1d290-cdb2-44ee-aee9-26a0044ae305",
   "metadata": {},
   "outputs": [
    {
     "name": "stdin",
     "output_type": "stream",
     "text": [
      "Enter a number:  -1\n"
     ]
    },
    {
     "name": "stdout",
     "output_type": "stream",
     "text": [
      "-1 is NEGATIVE\n"
     ]
    }
   ],
   "source": [
    "num = int(input(\"Enter a number: \"))\n",
    "\n",
    "if num < 0:\n",
    "    print(f\"{num} is NEGATIVE\")\n",
    "elif num == 0:\n",
    "    print(f\"{num} is neither negative nor positive\")\n",
    "else:\n",
    "    print(f\"{num} is POSITIVE\")"
   ]
  },
  {
   "cell_type": "markdown",
   "id": "4e6a9009-e6ac-4263-bfa0-dc01ed463228",
   "metadata": {},
   "source": [
    "25. Write a Python script to determine the type of a character (uppercase, lowercase, or special) using elif\n",
    "statements."
   ]
  },
  {
   "cell_type": "raw",
   "id": "d48f0c2d-fd86-4908-a52e-950396603c01",
   "metadata": {},
   "source": [
    "As per ASCII, \n",
    "Upper Case starts from A = 65 and Z = 90\n",
    "Lower Case starts from a = 97 and z = 122\n",
    "Special Cases:\n",
    "ASCII\tSIGN\tDESCRIPTION\n",
    "32\t \t        (Space)\n",
    "33\t    !\t    (Exclamation mark)\n",
    "34\t    \"   \t(Quotation mark ; quotes)\n",
    "35\t    #   \t(Number sign)\n",
    "36\t    $   \t(Dollar sign)\n",
    "37\t    %   \t(Percent sign)\n",
    "38\t    &   \t(Ampersand)\n",
    "39\t    '   \t(Apostrophe)\n",
    "40\t    (   \t(round brackets or parentheses)\n",
    "41\t    )   \t(round brackets or parentheses)\n",
    "42\t    *   \t(Asterisk)\n",
    "43\t    +   \t(Plus sign)\n",
    "44\t    ,   \t(Comma)\n",
    "45\t    -   \t(Hyphen)\n",
    "46\t    .   \t(Dot , full stop)\n",
    "47\t    /   \t(Slash)\n",
    "48\t    0   \t(number zero)\n",
    "58\t    :   \t(Colon)\n",
    "59\t    ;   \t(Semicolon)\n",
    "60\t    <   \t(Less-than sign)\n",
    "61\t    =   \t(Equals sign)\n",
    "62\t    >   \t(Greater-than sign ; Inequality) \n",
    "63\t    ?   \t(Question mark)\n",
    "64\t    @   \t(At sign)\n",
    "65\t    A   \t(Capital A)\n",
    "91      [       (sqaure brackets)\n",
    "92\t    \\   \t(Backslash)\n",
    "93      ]       (sqaure brackets)\n",
    "94\t    ^   \t(Caret or circumflex accent)\n",
    "95\t    _   \t(underscore , understrike , underbar or low line)\n",
    "96      `       (grave accent)\n",
    "97\t    a   \t(Lowercase  a )\n",
    "123     {       (left curly brace)\n",
    "124     |       (vertical bar)\n",
    "125     }       (right curly brace)\n",
    "126     ~       (tilde)"
   ]
  },
  {
   "cell_type": "code",
   "execution_count": 20,
   "id": "0adc211c-4931-4169-ae42-3580285052aa",
   "metadata": {},
   "outputs": [
    {
     "name": "stdout",
     "output_type": "stream",
     "text": [
      "Using Python inbuilt function:\n"
     ]
    },
    {
     "name": "stdin",
     "output_type": "stream",
     "text": [
      "Enter a character:  ~\n"
     ]
    },
    {
     "name": "stdout",
     "output_type": "stream",
     "text": [
      "~, is a Special letter\n",
      "Using ASCII values:\n"
     ]
    },
    {
     "name": "stdin",
     "output_type": "stream",
     "text": [
      "Enter a character:  ~\n"
     ]
    },
    {
     "name": "stdout",
     "output_type": "stream",
     "text": [
      "~, is a Special letter\n"
     ]
    }
   ],
   "source": [
    "# Approach 1: using inbuilt functions\n",
    "print(\"Using Python inbuilt function:\")\n",
    "char = input(\"Enter a character: \")\n",
    "\n",
    "if char.islower():\n",
    "    print(f\"{char}, is a Lowercase letter\")\n",
    "elif char.isupper():\n",
    "    print(f\"{char}, is a Uppercase letter\")\n",
    "elif not char.isdigit():\n",
    "    print(f\"{char}, is a Special letter\")\n",
    "else:\n",
    "    print(f\"{char}, is neither Upper case nor lower case nor special character!\")\n",
    "\n",
    "# Approach 2: using ASCII functions\n",
    "print(\"Using ASCII values:\")\n",
    "ch = input(\"Enter a character: \")\n",
    "\n",
    "if ord(ch) >= 65 and ord(ch) <= 90:\n",
    "    print(f\"{ch}, is a Uppercase letter\")\n",
    "elif ord(ch) >= 97 and ord(ch) <= 122:\n",
    "    print(f\"{ch}, is a Lowercase letter\")\n",
    "elif (ord(ch) >= 32 and ord(ch) <= 47) or (ord(ch) >= 58 and ord(ch) <= 64) or (ord(ch) >= 91 and ord(ch) <= 96) or (ord(ch) >= 123 and ord(ch)) <= 126:\n",
    "    print(f\"{ch}, is a Special letter\")\n",
    "else:\n",
    "    print(f\"{ch}, is neither Upper case nor lower case nor special character!\")"
   ]
  },
  {
   "cell_type": "markdown",
   "id": "799262eb-10dc-4f84-b12f-3188578c1989",
   "metadata": {},
   "source": [
    "26. Implement a program to calculate the discounted price based on different purchase amounts using elif\n",
    "statements."
   ]
  },
  {
   "cell_type": "raw",
   "id": "1a7cb8ee-3b54-44e7-82b5-26416039d65b",
   "metadata": {},
   "source": [
    "amount <= 100 give discount of 0%\n",
    "amount > 100 and less than 500, give discount of 5%\n",
    "amount less than 1000, give discount of 10%\n",
    "if purchase amount is greater than 1000, give 15% discount"
   ]
  },
  {
   "cell_type": "code",
   "execution_count": 26,
   "id": "bb074c46-5be9-43ae-a344-86823ba5fabb",
   "metadata": {},
   "outputs": [
    {
     "name": "stdin",
     "output_type": "stream",
     "text": [
      "Enter your purchase amount to check for the discounted price and the total amount you need to pay after discount:  -5\n"
     ]
    },
    {
     "name": "stdout",
     "output_type": "stream",
     "text": [
      "No discount applicable, for the discount to be applicable, the purchase should be over Rs.100! Thank You!\n"
     ]
    }
   ],
   "source": [
    "def calculate_discount(amount):\n",
    "    if amount <= 100:\n",
    "        discount = 0\n",
    "    elif amount < 500:\n",
    "        discount = 0.05 # 5% discount over 100 rs purchase and less than 500 rs purchase\n",
    "    elif amount < 1000:\n",
    "        discount = 0.10 # 10% discount over 500 rs and less than 1000\n",
    "    else:\n",
    "        discount = 0.15 # 15% discount over 1000 rs\n",
    "    \n",
    "    return discount\n",
    "\n",
    "try:\n",
    "    purchase_amount = float(input(\"Enter your purchase amount to check for the discounted price and the total amount you need to pay after discount: \"))\n",
    "    \n",
    "    discount = calculate_discount(purchase_amount)\n",
    "    \n",
    "    savings = purchase_amount * discount # saved amount after discount\n",
    "    \n",
    "    total_amount = purchase_amount - savings # total payable amount after discount\n",
    "    \n",
    "    if purchase_amount > 100:\n",
    "        \n",
    "        print(f\"Congratulations! You have saved Rs.{savings} on Purchase Amount of Rs.{purchase_amount}. \\nTotal amount to pay after after discount of {discount} is Rs.{total_amount}\\nThank You! Visit Again!\")\n",
    "        \n",
    "    else:\n",
    "        print(\"No discount applicable, for the discount to be applicable, the purchase should be over Rs.100! Thank You!\")\n",
    "except Exception as ex:\n",
    "    print(f\"please enter valid values (numeric values)\")"
   ]
  },
  {
   "cell_type": "markdown",
   "id": "4cb2b496-59c8-46dd-85d5-e13ce519137d",
   "metadata": {},
   "source": [
    "27. Develop a program to calculate the electricity bill based on different consumption slabs using elif\n",
    "statements."
   ]
  },
  {
   "cell_type": "raw",
   "id": "13474eb4-3a22-435d-9713-0a6e22306956",
   "metadata": {},
   "source": [
    "slab1 -> Unit <= 100, rate = 1.50\n",
    "slab2 -> Unit = 200, rate = 2.0\n",
    "slab3 -> more than 200, rate = 2.50"
   ]
  },
  {
   "cell_type": "code",
   "execution_count": 47,
   "id": "5d0a8776-8e05-4918-8862-f9aa38a1ab2a",
   "metadata": {},
   "outputs": [
    {
     "name": "stdin",
     "output_type": "stream",
     "text": [
      "Enter the number of units consumed:  1000\n"
     ]
    },
    {
     "name": "stdout",
     "output_type": "stream",
     "text": [
      "Total Electricity bill for 1000.0 units consumed is Rs.2300.0\n"
     ]
    }
   ],
   "source": [
    "def calculate_electricity_bill(unit):\n",
    "    \n",
    "    slab_1_unit = 100\n",
    "    slab_1_rate = 1.50\n",
    "    \n",
    "    slab_2_unit = 200\n",
    "    slab_2_rate = 2.00\n",
    "    \n",
    "    slab_3_rate = 2.50\n",
    "    \n",
    "    if unit <= slab_1_unit and unit >= 0:\n",
    "        bill = unit * slab_1_rate\n",
    "    elif unit <= (slab_1_unit + slab_2_unit):\n",
    "        bill = (slab_1_unit * slab_1_rate) + ((unit - slab_1_unit) * slab_2_rate)\n",
    "    else:\n",
    "        bill = (slab_1_unit * slab_1_rate) + (slab_2_unit * slab_2_rate) + ((unit - slab_1_unit - slab_2_unit) * slab_3_rate)\n",
    "        \n",
    "    return bill\n",
    "\n",
    "try:\n",
    "    number_of_unit = float(input(\"Enter the number of units consumed: \"))\n",
    "\n",
    "    if number_of_unit >= 0:\n",
    "        electricity_bill = calculate_electricity_bill(number_of_unit)\n",
    "\n",
    "        print(f\"Total Electricity bill for {number_of_unit} units consumed is Rs.{electricity_bill}\")\n",
    "    else:\n",
    "        print(\"Invalid unit.. You are entering incorrect value!\")\n",
    "        \n",
    "except Exception as ex:\n",
    "    print(\"Please enter valid values (numeric values)\")"
   ]
  },
  {
   "cell_type": "markdown",
   "id": "0b784766-c96d-4ee6-9384-1531333c561d",
   "metadata": {},
   "source": [
    "28. Create a program to determine the type of quadrilateral based on its angles and sides using elif\n",
    "statements."
   ]
  },
  {
   "cell_type": "raw",
   "id": "b1b14008-ec19-4cb2-8aaa-0aff41cda448",
   "metadata": {},
   "source": [
    "A quadrilateral is a plane figure that has four sides or edges, and also has four corners or vertices. The angles are present at the four vertices or corners of the quadrilateral. If ABCD is a quadrilateral then angles at the vertices are ∠A, ∠B, ∠C and ∠D. The sides of a quadrilateral are AB, BC, CD and DA\n",
    "\n",
    "Sum of all interior angles = 360 degrees\n",
    "Sum of all exterior angles = 360 degrees\n",
    "\n",
    "Types of Quadrilaterals:\n",
    "Trapezium\n",
    "Parallelogram\n",
    "Squares\n",
    "Rectangle\n",
    "Rhombus\n",
    "Kite\n",
    "\n",
    "Square Properties:\n",
    "All the sides of the square are of equal measure\n",
    "The sides are parallel to each other\n",
    "All the interior angles of a square are at 90 degrees (i.e., right angle)\n",
    "The diagonals of a square perpendicular bisect each other\n",
    "\n",
    "Rectangle Properties:\n",
    "The opposite sides of a rectangle are of equal length\n",
    "The opposite sides are parallel to each other\n",
    "All the interior angles of a rectangle are 90 degrees.\n",
    "The diagonals of a rectangle bisect each other.\n",
    "\n",
    "Rhombus Properties:\n",
    "All the four sides of a rhombus are of the same measure\n",
    "The opposite sides of the rhombus are parallel to each other\n",
    "The opposite angles are of the same measure\n",
    "The sum of any two adjacent angles of a rhombus is equal to 180 degrees\n",
    "The diagonals perpendicularly bisect each other\n",
    "\n",
    "Parallelogram Properties:\n",
    "The opposite side of the parallelogram are of the same length\n",
    "The opposite sides are parallel to each other\n",
    "The diagonals of a parallelogram bisect each other\n",
    "The opposite angles are of equal measure\n",
    "The sum of two adjacent angles of a parallelogram is equal to 180 degrees\n",
    "\n",
    "Trapezium Properties:\n",
    "Only one pair of the opposite side of a trapezium is parallel to each other\n",
    "The two adjacent sides of a trapezium are supplementary (180 degrees)\n",
    "The diagonals of a trapezium bisect each other in the same ratio\n",
    "\n",
    "Properties of Kite\n",
    "The pair of adjacent sides of a kite are of the same length\n",
    "The largest diagonal of a kite bisect the smallest diagonal \n",
    "Only one pair of opposite angles are of the same measure."
   ]
  },
  {
   "cell_type": "code",
   "execution_count": 4,
   "id": "a75b5ff0-6817-4ba3-ac2c-8af456fca7c6",
   "metadata": {},
   "outputs": [
    {
     "name": "stdin",
     "output_type": "stream",
     "text": [
      "Enter the number of sides (should be 4):  4\n",
      "Enter angle 1 in degrees:  90\n",
      "Enter angle 2 in degrees:  89\n",
      "Enter angle 3 in degrees:  91\n",
      "Enter angle 4 in degrees:  90\n"
     ]
    },
    {
     "name": "stdout",
     "output_type": "stream",
     "text": [
      "This is a Trapezoid with a total angle sum of 360.0 degrees.\n"
     ]
    }
   ],
   "source": [
    "def determine_type_of_quadrilateral(sides, angles):\n",
    "    if all(angle == 90 for angle in angles):\n",
    "        return \"Rectangle or Square\" if angles.count(90) == 4 else \"Rhombus\"\n",
    "    elif angles.count(90) == 2:\n",
    "        return \"Trapezoid\"\n",
    "    elif angles.count(90) == 1:\n",
    "        return \"Parallelogram\"\n",
    "    return \"Kite\"\n",
    "\n",
    "try:\n",
    "    num_sides = int(input(\"Enter the number of sides (should be 4): \"))\n",
    "    angles = []\n",
    "    \n",
    "    if num_sides == 4:\n",
    "        for i in range(4):\n",
    "            angles.append(float(input(f\"Enter angle {i+1} in degrees: \")))\n",
    "\n",
    "        # Calculate the sum of angles\n",
    "        sum_of_angles = sum(angles)\n",
    "\n",
    "        # Classify the quadrilateral\n",
    "        result = determine_type_of_quadrilateral(num_sides, angles)\n",
    "\n",
    "        # Display the classification result\n",
    "        print(f\"This is a {result} with a total angle sum of {sum_of_angles} degrees.\")\n",
    "    else:\n",
    "        print(f\"Invalid! as there should be 4 sides to determine the type of quadrilateral!\")\n",
    "except ValueError:\n",
    "    print(\"Please enter valid numeric values for the number of sides and angles.\")"
   ]
  },
  {
   "cell_type": "markdown",
   "id": "84a12a5c-142f-4170-b58b-f2297da2db54",
   "metadata": {},
   "source": [
    "29. Write a Python script to determine the season based on a user-provided month using elif statements."
   ]
  },
  {
   "cell_type": "raw",
   "id": "c5ee5bcf-b791-4c14-9e80-d45758398451",
   "metadata": {},
   "source": [
    "Seasons refer to the four major divisions of the year—spring, summer, autumn (fall), and winter—each characterized by specific weather patterns and environmental changes. The timing and characteristics of these seasons vary depending on your location on the Earth.\n",
    "\n",
    "Spring: \n",
    "Spring typically occurs between March and June in the Northern Hemisphere and \n",
    "between September and December in the Southern Hemisphere.\n",
    "\n",
    "Summer: \n",
    "Summer takes place between June and September in the Northern Hemisphere \n",
    "and between December and March in the Southern Hemisphere.\n",
    "\n",
    "Autumn (Fall): \n",
    "Autumn occurs between September and December in the Northern Hemisphere \n",
    "and between March and June in the Southern Hemisphere. \n",
    "\n",
    "Winter: \n",
    "Winter lasts from December to March in the Northern Hemisphere and \n",
    "from June to September in the Southern Hemisphere"
   ]
  },
  {
   "cell_type": "code",
   "execution_count": 7,
   "id": "20d5200c-8863-4bc2-bc77-e1be43106d29",
   "metadata": {},
   "outputs": [
    {
     "name": "stdin",
     "output_type": "stream",
     "text": [
      "Enter the hemisphere that you want to find the season for (Northern or Southern):  Southern\n",
      "Enter the month in the Southern Hemisphere, to find the season, so that you can plan your trip! December\n"
     ]
    },
    {
     "name": "stdout",
     "output_type": "stream",
     "text": [
      "Summer Season in Southern Hemisphere in December\n"
     ]
    }
   ],
   "source": [
    "def find_season(month, hemisphere):\n",
    "    if hemisphere.lower() in ['southern', 'south']:\n",
    "        if month.lower() in ['september', 'october', 'november']:\n",
    "            return \"Spring Season in Southern Hemisphere\"\n",
    "        elif month.lower() in ['december', 'january', 'february']:\n",
    "            return \"Summer Season in Southern Hemisphere\"\n",
    "        elif month.lower() in ['march', 'april', 'may']:\n",
    "            return \"Autumn (Fall) Season in Southern Hemisphere\"\n",
    "        elif month.lower() in ['june', 'july', 'august']:\n",
    "            return \"Winter in Southern Hemisphere\"\n",
    "    elif hemisphere.lower() in ['northern', 'north']:\n",
    "        if month.lower() in ['march', 'april', 'may']:\n",
    "            return \"Spring Season in Northern Hemisphere\"\n",
    "        elif month.lower() in ['june', 'Northern', 'august']:\n",
    "            return \"Summer Season in Southern Hemisphere\"\n",
    "        elif month.lower() in ['september', 'october', 'november']:\n",
    "            return \"Autumn (Fall) Season in Northern Hemisphere\"\n",
    "        elif month.lower() in ['december', 'january', 'february']:\n",
    "            return \"Winter in Northern Hemisphere\"\n",
    "    else:\n",
    "        return \"Either invalid hemisphere or invalid month entered!\"\n",
    "    \n",
    "hemi = input(\"Enter the hemisphere that you want to find the season for (Northern or Southern): \")\n",
    "month = input(f\"Enter the month in the {hemi} Hemisphere, to find the season, so that you can plan your trip!\")\n",
    "\n",
    "season = find_season(month, hemi)\n",
    "\n",
    "print(f\"{season} in {month.title()}\")"
   ]
  },
  {
   "cell_type": "markdown",
   "id": "ee169a36-0c3b-46b6-be40-b1526215e7cf",
   "metadata": {},
   "source": [
    "30. Implement a program to determine the type of a year (leap or common) and month (30 or 31 days) using\n",
    "elif statements."
   ]
  },
  {
   "cell_type": "code",
   "execution_count": 9,
   "id": "799dcb83-b4f9-4655-b783-2965c668acdc",
   "metadata": {},
   "outputs": [
    {
     "name": "stdin",
     "output_type": "stream",
     "text": [
      "Enter the year to find the if it's leap year or not:  2024\n",
      "Enter the month to check for number of days in it:  March\n"
     ]
    },
    {
     "name": "stdout",
     "output_type": "stream",
     "text": [
      "2024 is a Leap Year! \n",
      "March has 31 days in it!\n"
     ]
    }
   ],
   "source": [
    "days_31 = ['January', 'March', 'May', 'July', 'August', 'October', 'December']\n",
    "days_30 = ['April', 'June', 'September', 'November']\n",
    "\n",
    "def find_leap_year(year):\n",
    "    if year % 400 == 0 or (year % 4 == 0 and year % 100 != 0):\n",
    "        return True\n",
    "    return False\n",
    "\n",
    "year = int(input(\"Enter the year to find the if it's leap year or not: \"))\n",
    "month = input(\"Enter the month to check for number of days in it: \")\n",
    "\n",
    "if find_leap_year(year):\n",
    "    if month in days_31:\n",
    "        print(f\"{year} is a Leap Year! \\n{month} has 31 days in it!\")\n",
    "    elif month in days_30:\n",
    "        print(f\"{year} is a Leap Year! \\n{month} has 30 days in it!\")\n",
    "    else:\n",
    "        print(f\"{year} is a Leap Year! \\n{month} has 29 days in it!\")\n",
    "else:\n",
    "    if month in days_31:\n",
    "        print(f\"{year} is Not Leap Year! \\n{month} has 31 days in it!\")\n",
    "    elif month in days_30:\n",
    "        print(f\"{year} is Not Leap Year! \\n{month} has 30 days in it!\")\n",
    "    else:\n",
    "        print(f\"{year} is Not Leap Year! \\n{month} has 28 days in it!\")"
   ]
  },
  {
   "cell_type": "markdown",
   "id": "5a72b505-e6e3-42bf-b403-7a377854b63b",
   "metadata": {
    "jp-MarkdownHeadingCollapsed": true,
    "tags": []
   },
   "source": [
    "# Basic Level"
   ]
  },
  {
   "cell_type": "markdown",
   "id": "7c74fe43-8b80-41a0-b32a-943e9b522a65",
   "metadata": {},
   "source": [
    "1. Write a Python program that checks if a given number is positive, negative, or zero."
   ]
  },
  {
   "cell_type": "code",
   "execution_count": null,
   "id": "a493ab4f-da00-4608-8f65-141f5ae161ca",
   "metadata": {},
   "outputs": [],
   "source": [
    "num = int(input(\"Enter a number: \"))\n",
    "\n",
    "if num < 0:\n",
    "    print(f\"{num} is NEGATIVE\")\n",
    "elif num == 0:\n",
    "    print(f\"{num} is neither negative nor positive\")\n",
    "else:\n",
    "    print(f\"{num} is POSITIVE\")"
   ]
  },
  {
   "cell_type": "markdown",
   "id": "e79b2d95-b723-4453-aee2-69e4017af195",
   "metadata": {},
   "source": [
    "2. Create a program to determine if a person is eligible to vote based on their age."
   ]
  },
  {
   "cell_type": "code",
   "execution_count": null,
   "id": "a1cecf97-f0a8-45d9-a9d5-6cee45cf5359",
   "metadata": {},
   "outputs": [],
   "source": [
    "age = int(input(\"Enter the age of a person: \"))\n",
    "if age >= 18 and age < 100:\n",
    "    print(f\"Ths person is eligible to vote!\")\n",
    "elif age > 100:\n",
    "    print(f\"This person Legend, he has all the rights :P!\")\n",
    "else:\n",
    "    print(f\"This person is not eligible to vote!\\nPlease vote after {18-age} year(s)..\")"
   ]
  },
  {
   "cell_type": "markdown",
   "id": "2c0ff26c-5a41-433e-a5b1-42e0c0791a6c",
   "metadata": {},
   "source": [
    "3. Write a program to find the maximum of two given numbers using conditional statements."
   ]
  },
  {
   "cell_type": "code",
   "execution_count": null,
   "id": "413d068d-ab96-4874-80d0-c98047d79d7d",
   "metadata": {},
   "outputs": [],
   "source": [
    "n = int(input(\"Enter a number: \"))\n",
    "m = int(input(\"Enter another number: \"))\n",
    "\n",
    "if n > m:\n",
    "    max_num = n\n",
    "else:\n",
    "    max_num = m\n",
    "    \n",
    "print(f\"The maximum of {n} and {m} is {max_num}\")"
   ]
  },
  {
   "cell_type": "markdown",
   "id": "36531fe3-ca50-4cb3-abfe-d7ab5ab48192",
   "metadata": {},
   "source": [
    "4. Develop a program that calculates the grade of a student based on their exam score."
   ]
  },
  {
   "cell_type": "code",
   "execution_count": null,
   "id": "7fd47585-89a5-4268-8878-33fe2fe5efd6",
   "metadata": {},
   "outputs": [],
   "source": [
    "grade = float(input(\"Enter the score to check the grade: \"))\n",
    "\n",
    "if grade > 100:\n",
    "    print(\"Invalid subject score, as the maximum score anyone can ever get is 100!\")\n",
    "else:\n",
    "    if 97 <= grade <= 100:\n",
    "        print(\"The student scored an A+\")\n",
    "    elif 93 <= grade <= 96:\n",
    "        print(\"The student scored an A\")\n",
    "    elif 90 <= grade <= 92:\n",
    "        print(\"The student scored an A-\")\n",
    "    elif 87 <= grade <= 89:\n",
    "        print(\"The student scored an B+\")\n",
    "    elif 83 <= grade <= 86:\n",
    "        print(\"The student scored an B\")\n",
    "    elif 80 <= grade <= 82:\n",
    "        print(\"The student scored an B-\")\n",
    "    elif 77 <= grade <= 79:\n",
    "        print(\"The student scored an C+\")\n",
    "    elif 73 <= grade <= 76:\n",
    "        print(\"The student scored an C\")\n",
    "    elif 70 <= grade <= 72:\n",
    "        print(\"The student scored an C-\")\n",
    "    elif 67 <= grade <= 69:\n",
    "        print(\"The student scored an D+\")\n",
    "    elif 65 <= grade <= 66:\n",
    "        print(\"The student scored an D\")\n",
    "    elif 35 <= grade < 65:\n",
    "        print(\"The student scored an D-\")\n",
    "    else:\n",
    "        print(\"The student has failed in this subject!\")"
   ]
  },
  {
   "cell_type": "markdown",
   "id": "109c273b-866c-43dc-ba50-e55812b6bbff",
   "metadata": {},
   "source": [
    "5. Create a program that checks if a year is a leap year or not."
   ]
  },
  {
   "cell_type": "code",
   "execution_count": null,
   "id": "efa0bf42-bcf0-4e2b-a09a-73739c05d438",
   "metadata": {},
   "outputs": [],
   "source": [
    "year = int(input(\"Enter the year: \"))\n",
    "\n",
    "if (year % 4 == 0 and year % 100 != 0) or year % 400 == 0:\n",
    "    print(f\"{year} is a Leap year!\")\n",
    "else:\n",
    "    print(f\"{year} is not a leap year!\")"
   ]
  },
  {
   "cell_type": "markdown",
   "id": "1e5d1f0e-254c-43cc-8b5e-030207b779af",
   "metadata": {},
   "source": [
    "6. Write a program to classify a triangle based on its sides' lengths."
   ]
  },
  {
   "cell_type": "code",
   "execution_count": 109,
   "id": "a9444af8-b8d8-4c76-b0e0-51bc91b0db15",
   "metadata": {},
   "outputs": [
    {
     "name": "stdin",
     "output_type": "stream",
     "text": [
      "Enter the angle:  1\n"
     ]
    },
    {
     "name": "stdout",
     "output_type": "stream",
     "text": [
      "1.0 .deg is Actue Angle\n"
     ]
    }
   ],
   "source": [
    "angle = float(input(\"Enter the angle: \"))\n",
    "\n",
    "cal_angle = abs(180-angle)\n",
    "\n",
    "if angle == 90.0:\n",
    "    print(f\"{angle} .deg is Right angle\")\n",
    "elif 0 < angle < 90:\n",
    "    print(f\"{angle} .deg is Actue Angle\")\n",
    "elif 90 < angle < 180:\n",
    "    print(f\"{angle} .deg is Obtuse Angle\")\n",
    "elif angle == 0 or angle == 180:\n",
    "    print(f\"{angle} .deg is Straight Line\")\n",
    "elif angle == 360:\n",
    "    print(f\"{angle} .deg is Circle\")"
   ]
  },
  {
   "cell_type": "markdown",
   "id": "14063f4b-da28-47a7-a228-57d7e6498078",
   "metadata": {},
   "source": [
    "7. Build a program that determines the largest of three given numbers."
   ]
  },
  {
   "cell_type": "code",
   "execution_count": null,
   "id": "26ed6205-5d3c-4db4-a181-3b9416cde53f",
   "metadata": {},
   "outputs": [],
   "source": [
    "a = float(input(\"Enter the first number: \"))\n",
    "b = float(input(\"Enter the second number: \"))\n",
    "c = float(input(\"Enter the third number: \"))\n",
    "\n",
    "if a > b and a > c:\n",
    "    largest = a\n",
    "else:\n",
    "    if b > c and b > a:\n",
    "        largest = b\n",
    "    else:\n",
    "        largest = c\n",
    "\n",
    "print(f\"The largest of {a}, {b}, {c} is {largest}\")"
   ]
  },
  {
   "cell_type": "markdown",
   "id": "b290ccb1-9a13-4568-bbb3-84f2e252a2ec",
   "metadata": {},
   "source": [
    "8. Develop a program that checks whether a character is a vowel or a consonant."
   ]
  },
  {
   "cell_type": "code",
   "execution_count": null,
   "id": "47b517db-ef4e-4860-8e57-b800dd1d99b9",
   "metadata": {},
   "outputs": [],
   "source": [
    "char = input(\"Enter a character: \")\n",
    "\n",
    "vowels = 'AEIOUaeiou'\n",
    "if char in vowels:\n",
    "    print(f\"'{char}' is a vowel!\")\n",
    "else:\n",
    "    print(f\"'{char}' is a consonant!\")"
   ]
  },
  {
   "cell_type": "markdown",
   "id": "1b2a5312-2884-4633-a339-52fae72fd289",
   "metadata": {},
   "source": [
    "9. Create a program to calculate the total cost of a shopping cart based on discounts."
   ]
  },
  {
   "cell_type": "code",
   "execution_count": null,
   "id": "65fc951a-f4f2-4ffe-9a1c-4067a085f554",
   "metadata": {},
   "outputs": [],
   "source": [
    "def calculate_discount(amount):\n",
    "    if amount <= 100:\n",
    "        discount = 0\n",
    "    elif amount < 500:\n",
    "        discount = 0.05 # 5% discount over 100 rs purchase and less than 500 rs purchase\n",
    "    elif amount < 1000:\n",
    "        discount = 0.10 # 10% discount over 500 rs and less than 1000\n",
    "    else:\n",
    "        discount = 0.15 # 15% discount over 1000 rs\n",
    "    \n",
    "    return discount\n",
    "\n",
    "try:\n",
    "    purchase_amount = float(input(\"Enter your purchase amount to check for the discounted price and the total amount you need to pay after discount: \"))\n",
    "    \n",
    "    discount = calculate_discount(purchase_amount)\n",
    "    \n",
    "    savings = purchase_amount * discount # saved amount after discount\n",
    "    \n",
    "    total_amount = purchase_amount - savings # total payable amount after discount\n",
    "    \n",
    "    if purchase_amount > 100:\n",
    "        \n",
    "        print(f\"Congratulations! You have saved Rs.{savings} on Purchase Amount of Rs.{purchase_amount}. \\nTotal amount to pay after after discount of {discount} is Rs.{total_amount}\\nThank You! Visit Again!\")\n",
    "        \n",
    "    else:\n",
    "        print(\"No discount applicable, for the discount to be applicable, the purchase should be over Rs.100! Thank You!\")\n",
    "except Exception as ex:\n",
    "    print(f\"please enter valid values (numeric values)\")"
   ]
  },
  {
   "cell_type": "markdown",
   "id": "ebc902ce-b631-47e2-b095-30ab2b558b55",
   "metadata": {},
   "source": [
    "10. Write a program that checks if a given number is even or odd."
   ]
  },
  {
   "cell_type": "code",
   "execution_count": null,
   "id": "54195465-055e-4cae-b82f-5d9dcdea9fc5",
   "metadata": {},
   "outputs": [],
   "source": [
    "num = int(input(\"Enter a number to check for even or odd: \"))\n",
    "\n",
    "if num % 2 == 0:\n",
    "    print(f\"{num} is EVEN number!\")\n",
    "else:\n",
    "    print(f\"{num} is ODD number!\")"
   ]
  },
  {
   "cell_type": "markdown",
   "id": "a82b0f3b-43f5-4e2f-9b63-1f1c6e1df478",
   "metadata": {
    "jp-MarkdownHeadingCollapsed": true,
    "tags": []
   },
   "source": [
    "# Intermediate Level:"
   ]
  },
  {
   "cell_type": "markdown",
   "id": "63e0c102-53aa-4fcb-b369-a85ffbfd35ec",
   "metadata": {},
   "source": [
    "11. Write a program that calculates the roots of a quadratic equation ."
   ]
  },
  {
   "cell_type": "code",
   "execution_count": null,
   "id": "d82863e8-2d68-4bd5-8148-9572e1abefd6",
   "metadata": {},
   "outputs": [],
   "source": [
    "import math\n",
    "a = int(input(\"Enter the first co-efficient (a) of ax^2 + bx + c: \"))\n",
    "b = int(input(\"Enter the second co-efficient (b) of  ax^2 + bx + c: \"))\n",
    "c = int(input(\"Enter the constant (c) of ax^2 + bx + c: \"))\n",
    "\n",
    "print(f\"Quadratic Equation: {a}x^2 +({b})x +({c})\")\n",
    "\n",
    "discriminant = b**2 - (4*a*c)\n",
    "print(f\"Discriminant = {discriminant}\")\n",
    "\n",
    "if discriminant > 0:\n",
    "    print(\"Roots are real and distinct!\")\n",
    "    root1 = (-(b) + math.sqrt(abs(discriminant))) / (2*a)\n",
    "    root2 = (-(b) - math.sqrt(abs(discriminant))) / (2*a)\n",
    "    print(f\"Roots: root1 = {root1} and root2 = {root2}\")\n",
    "elif discriminant == 0:\n",
    "    print(\"Roots are real and equal!\")\n",
    "    roots = (-(b) / (2*a))\n",
    "    print(f\"Root = {roots}\")\n",
    "elif discriminant < 0:\n",
    "    print(\"Roots are imaginary and unequal!\")\n",
    "    real = (-(b) / (2*a))\n",
    "    imaginary = math.sqrt(abs(discriminant)) / (2*a)\n",
    "    print(f\"Real = {real} and Imaginary = {imaginary}\")"
   ]
  },
  {
   "cell_type": "markdown",
   "id": "19c0dd88-cc63-4474-9fee-2f2e9585bcbd",
   "metadata": {},
   "source": [
    "12. Create a program that determines the day of the week based on the day number (1-7)."
   ]
  },
  {
   "cell_type": "code",
   "execution_count": null,
   "id": "17f4174c-84d3-4fbb-abd0-734843aef14a",
   "metadata": {},
   "outputs": [],
   "source": [
    "num = int(input(\"Enter the number between 1 to 7: \"))\n",
    "week = {1: 'MONDAY', 2: 'TUESDAY', 3: 'WEDNESDAY', 4: 'THURSDAY', 5: 'FRIDAY', 6: 'SATURDAY', 7: 'SUNDAY'}\n",
    "if num > 7 or num < 1:\n",
    "    print(\"Invalid Number to get the week day, as there are only 7 days in a week!\")\n",
    "else:\n",
    "    if num >= 1 and num <=7:\n",
    "        print(f\"Corresponding Day is: {week.get(num)}\")"
   ]
  },
  {
   "cell_type": "markdown",
   "id": "44b2b34a-083e-42e5-b9bb-bd5ef9d917d2",
   "metadata": {},
   "source": [
    "13. Develop a program that calculates the factorial of a given number using recursion."
   ]
  },
  {
   "cell_type": "code",
   "execution_count": 12,
   "id": "12396128-222a-43ae-b827-f66bd127c353",
   "metadata": {},
   "outputs": [
    {
     "name": "stdin",
     "output_type": "stream",
     "text": [
      "Enter a number to find its factorial:  5\n"
     ]
    },
    {
     "name": "stdout",
     "output_type": "stream",
     "text": [
      "Factorial of 5 is 120\n"
     ]
    }
   ],
   "source": [
    "def factorial(n):\n",
    "    if n == 0 or n == 1:\n",
    "        return 1\n",
    "    else:\n",
    "        return n * factorial(n-1)\n",
    "    \n",
    "number = int(input(\"Enter a number to find its factorial: \"))\n",
    "\n",
    "if number < 0:\n",
    "    print(\"Factorial of negative number is not defined!\")\n",
    "else:\n",
    "    fact = factorial(number)\n",
    "    \n",
    "    print(f\"Factorial of {number} is {fact}\")"
   ]
  },
  {
   "cell_type": "markdown",
   "id": "c581128b-b4c8-46ba-afcc-abc271b9c4b1",
   "metadata": {},
   "source": [
    "14. Write a program to find the largest among three numbers without using the `max()` function."
   ]
  },
  {
   "cell_type": "code",
   "execution_count": null,
   "id": "14f862ba-afcf-42a1-b0f9-9332c0700e47",
   "metadata": {},
   "outputs": [],
   "source": [
    "a = float(input(\"Enter the first number: \"))\n",
    "b = float(input(\"Enter the second number: \"))\n",
    "c = float(input(\"Enter the third number: \"))\n",
    "\n",
    "if a > b and a > c:\n",
    "    largest = a\n",
    "else:\n",
    "    if b > c and b > a:\n",
    "        largest = b\n",
    "    else:\n",
    "        largest = c\n",
    "\n",
    "print(f\"The largest of {a}, {b}, {c} is {largest}\")"
   ]
  },
  {
   "cell_type": "markdown",
   "id": "1e56d23b-2c32-4b42-b108-6ec0ae5fe82a",
   "metadata": {},
   "source": [
    "15. Create a program that simulates a basic ATM transaction menu."
   ]
  },
  {
   "cell_type": "raw",
   "id": "ef27fa93-9ac4-420d-9105-0767a42a04ab",
   "metadata": {},
   "source": [
    "Basic ATM operations:\n",
    "\n",
    "1. Check Balance\n",
    "2. Deposit\n",
    "3. Withdraw\n",
    "4. Exit"
   ]
  },
  {
   "cell_type": "code",
   "execution_count": 3,
   "id": "79a288dc-36d9-4237-ad5c-5d21151e792b",
   "metadata": {},
   "outputs": [
    {
     "name": "stdout",
     "output_type": "stream",
     "text": [
      "Welcome to ATM!\n"
     ]
    },
    {
     "name": "stdin",
     "output_type": "stream",
     "text": [
      "ATM MENU:\n",
      "1. CHECK BALANCE\n",
      "2. DEPOSIT\n",
      "3. WITHDRAW\n",
      "4. EXIT\n",
      " 1\n"
     ]
    },
    {
     "name": "stdout",
     "output_type": "stream",
     "text": [
      "Your Balance is Rs.0.00\n"
     ]
    },
    {
     "name": "stdin",
     "output_type": "stream",
     "text": [
      "ATM MENU:\n",
      "1. CHECK BALANCE\n",
      "2. DEPOSIT\n",
      "3. WITHDRAW\n",
      "4. EXIT\n",
      " 2\n",
      "Please enter the amount that you need to deposit: Rs. 1000\n"
     ]
    },
    {
     "name": "stdout",
     "output_type": "stream",
     "text": [
      "You deposited Rs.1000.00. Your new balance is: Rs.1000.00\n"
     ]
    },
    {
     "name": "stdin",
     "output_type": "stream",
     "text": [
      "ATM MENU:\n",
      "1. CHECK BALANCE\n",
      "2. DEPOSIT\n",
      "3. WITHDRAW\n",
      "4. EXIT\n",
      " 3\n",
      "Please enter the amount that you need to withdraw: Rs. 123\n"
     ]
    },
    {
     "name": "stdout",
     "output_type": "stream",
     "text": [
      "You have withdrawn Rs.123.0. Your new balance is Rs.877.0\n"
     ]
    },
    {
     "name": "stdin",
     "output_type": "stream",
     "text": [
      "ATM MENU:\n",
      "1. CHECK BALANCE\n",
      "2. DEPOSIT\n",
      "3. WITHDRAW\n",
      "4. EXIT\n",
      " 3\n",
      "Please enter the amount that you need to withdraw: Rs. 100\n"
     ]
    },
    {
     "name": "stdout",
     "output_type": "stream",
     "text": [
      "You have withdrawn Rs.100.0. Your new balance is Rs.777.0\n"
     ]
    },
    {
     "name": "stdin",
     "output_type": "stream",
     "text": [
      "ATM MENU:\n",
      "1. CHECK BALANCE\n",
      "2. DEPOSIT\n",
      "3. WITHDRAW\n",
      "4. EXIT\n",
      " 4\n"
     ]
    },
    {
     "name": "stdout",
     "output_type": "stream",
     "text": [
      "Exiting the ATM. Thank you for using our services!\n"
     ]
    }
   ],
   "source": [
    "class ATM:\n",
    "    def __init__(self, balance=0):\n",
    "        # initialising balance as zero so that any transactions made, class varibale balance will be changed!\n",
    "        self.balance = balance\n",
    "    \n",
    "    def check_balance(self):\n",
    "        return f\"Your Balance is Rs.{self.balance:.2f}\"\n",
    "    \n",
    "    def deposit(self, amount):\n",
    "        self.balance += amount\n",
    "        return f\"You deposited Rs.{amount:.2f}. Your new balance is: Rs.{self.balance:.2f}\"\n",
    "    \n",
    "    def withdraw(self, amount):\n",
    "        if amount <= self.balance:\n",
    "            self.balance -= amount\n",
    "            return f\"You have withdrawn Rs.{amount}. Your new balance is Rs.{self.balance}\"\n",
    "        else:\n",
    "            return f\"Insufficient Funds!\"\n",
    "    \n",
    "    \n",
    "def main():\n",
    "    atm = ATM()\n",
    "    print(\"Welcome to ATM!\")\n",
    "    while True:\n",
    "        choice = int(input(\"ATM MENU:\\n1. CHECK BALANCE\\n2. DEPOSIT\\n3. WITHDRAW\\n4. EXIT\\n\"))\n",
    "        \n",
    "        if choice == 1:\n",
    "            print(atm.check_balance())\n",
    "            \n",
    "        \n",
    "        elif choice == 2:\n",
    "            try:\n",
    "                amt = float(input(f\"Please enter the amount that you need to deposit: Rs.\"))\n",
    "                print(atm.deposit(amt))\n",
    "            except ValueError:\n",
    "                print(\"Invalid input. Please enter a valid numeric amount.\")\n",
    "        \n",
    "        elif choice == 3:\n",
    "            try:\n",
    "                amt = float(input(f\"Please enter the amount that you need to withdraw: Rs.\"))\n",
    "                print(atm.withdraw(amt))\n",
    "            except ValueError:\n",
    "                print(\"Invalid input. Please enter a valid numeric amount.\")\n",
    "        \n",
    "        elif choice == 4:\n",
    "            print(\"Exiting the ATM. Thank you for using our services!\")\n",
    "            break\n",
    "        else:\n",
    "            print(\"Invalid choice. Please select a valid option (1/2/3/4).\")\n",
    "\n",
    "# calling main function            \n",
    "if __name__ == \"__main__\":\n",
    "    main()"
   ]
  },
  {
   "cell_type": "markdown",
   "id": "2a4d09df-8106-41c7-976c-25fbd7c501fc",
   "metadata": {},
   "source": [
    "16. Build a program that checks if a given string is a palindrome or not."
   ]
  },
  {
   "cell_type": "code",
   "execution_count": 19,
   "id": "fa02065b-d1c3-4ed7-8f80-40d09a4bcb38",
   "metadata": {},
   "outputs": [
    {
     "name": "stdin",
     "output_type": "stream",
     "text": [
      "Enter any string:  12121\n"
     ]
    },
    {
     "name": "stdout",
     "output_type": "stream",
     "text": [
      "12121 is a PALINDROME\n"
     ]
    }
   ],
   "source": [
    "string = input(\"Enter any string: \")\n",
    "\n",
    "def is_palindrome(string):\n",
    "    return string == string[::-1]\n",
    "\n",
    "modified_string = [x for x in string if x.isalpha()]\n",
    "\n",
    "if is_palindrome(''.join(modified_string).lower()):\n",
    "    print(f\"{string} is a PALINDROME\")\n",
    "else:\n",
    "    print(f\"{string} is NOT a PALINDROME\")"
   ]
  },
  {
   "cell_type": "markdown",
   "id": "acb5d1c2-a0f8-4850-b34e-235793526fec",
   "metadata": {},
   "source": [
    "17. Write a program that calculates the average of a list of numbers, excluding the smallest and largest values."
   ]
  },
  {
   "cell_type": "code",
   "execution_count": 13,
   "id": "b12618c0-4aa3-45bd-b943-8c24aa208185",
   "metadata": {},
   "outputs": [
    {
     "name": "stdin",
     "output_type": "stream",
     "text": [
      "Please select either of the below optionsto generate list of numbers: \n",
      "1. MANUAL\n",
      "2. RANDOM\n",
      "  1\n",
      "Enter the size of the list:  5\n",
      "Enter 1th element:  10\n",
      "Enter 2th element:  9\n",
      "Enter 3th element:  3\n",
      "Enter 4th element:  4\n",
      "Enter 5th element:  1\n"
     ]
    },
    {
     "name": "stdout",
     "output_type": "stream",
     "text": [
      "List = [10, 9, 3, 4, 1]\n",
      "Modified List after removing smallest and largest element: [3, 4, 9]\n",
      "The average excluding extremes is: 5.33\n"
     ]
    }
   ],
   "source": [
    "import random\n",
    "\n",
    "choice = input(\"Please select either of the below optionsto generate list of numbers: \\n1. MANUAL\\n2. RANDOM\\n \")\n",
    "list_ = []\n",
    "\n",
    "if choice.lower() not in ['1', '2', 'manual', 'random']:\n",
    "    print(\"Invalid Choice! You have only two choices \\n1. To generate numbers manually by entering\\n2. By system generated random numbers\")\n",
    "\n",
    "else:\n",
    "    if choice.lower() in ['1', 'manual']:\n",
    "        size = int(input(\"Enter the size of the list: \"))\n",
    "        \n",
    "        if size <= 3 and size >= 0:\n",
    "            print(\"Not enough numbers to calculate the average\")\n",
    "\n",
    "        elif size < 0:\n",
    "            print(\"Invalid length!! Size should be positive integers.\")\n",
    "\n",
    "        else:\n",
    "            for i in range(size):\n",
    "                list_.append(int(input(f\"Enter {i+1}th element: \")))\n",
    "            print(f\"List = {list_}\")\n",
    "\n",
    "    elif choice.lower() in ['2', 'random']:\n",
    "        size = int(input(\"Enter the size of the list: \"))\n",
    "        if size <= 3 and size >= 0:\n",
    "            print(\"Not enough numbers to calculate the average\")\n",
    "\n",
    "        elif size < 0:\n",
    "            print(\"Invalid length!! Size should be positive integers.\")\n",
    " \n",
    "        else:\n",
    "            for i in range(size):\n",
    "                list_.append(random.randint(10, 30))\n",
    "            print(f\"List = {list_}\")\n",
    "            \n",
    "    \n",
    "    \n",
    "    list_.sort()\n",
    "\n",
    "    modified_list = list_[1:size-1] # excluding the smallest and largest\n",
    "\n",
    "    print(f\"Modified List after removing smallest and largest element: {modified_list}\")\n",
    "\n",
    "    average = sum(modified_list)/(size-2)\n",
    "\n",
    "    print(f\"The average excluding extremes is: {average:.2f}\")"
   ]
  },
  {
   "cell_type": "markdown",
   "id": "f9f8c89c-7a8a-4b06-8fa4-c580110a70f6",
   "metadata": {},
   "source": [
    "18. Develop a program that converts a given temperature from Celsius to Fahrenheit."
   ]
  },
  {
   "cell_type": "code",
   "execution_count": 15,
   "id": "bde83dfe-d8aa-4fea-98e8-ae465724a504",
   "metadata": {},
   "outputs": [
    {
     "name": "stdin",
     "output_type": "stream",
     "text": [
      "Enter the temperature in .deg Celsius:  A\n"
     ]
    },
    {
     "name": "stdout",
     "output_type": "stream",
     "text": [
      "Please enter a valid numeric value for the temperature in Celsius.\n"
     ]
    }
   ],
   "source": [
    "def celsius_to_fahrenheit(degree):\n",
    "    fahrenheit = (degree * (9/5)) + 32\n",
    "    return fahrenheit\n",
    "\n",
    "try:\n",
    "    temperature = float(input(\"Enter the temperature in .deg Celsius: \"))\n",
    "\n",
    "    print(f\"The converted .deg Celsius {temperature} to .deg Fahrenheit {celsius_to_fahrenheit(temperature):.2f}\")\n",
    "except ValueError as ex:\n",
    "    print(\"Please enter a valid numeric value for the temperature in Celsius.\")"
   ]
  },
  {
   "cell_type": "markdown",
   "id": "d73237b9-09b8-4d20-b112-5ad2d7a2287c",
   "metadata": {},
   "source": [
    "19. Create a program that simulates a basic calculator for addition, subtraction, multiplication, and division."
   ]
  },
  {
   "cell_type": "code",
   "execution_count": 10,
   "id": "6148aa02-e919-4def-84d1-ad98544f222b",
   "metadata": {},
   "outputs": [
    {
     "name": "stdout",
     "output_type": "stream",
     "text": [
      "Humanoid Calculator, which does only basic operations such as Addition, Subtraction, Multiplication and Division, only between two operands!\n"
     ]
    },
    {
     "name": "stdin",
     "output_type": "stream",
     "text": [
      "Enter the first operand:  1\n",
      "Enter the second operand:  B\n"
     ]
    },
    {
     "name": "stdout",
     "output_type": "stream",
     "text": [
      "Kindly enter numeric values!\n"
     ]
    }
   ],
   "source": [
    "def addition(a, b):\n",
    "    return a + b\n",
    "\n",
    "def subtraction(a, b):\n",
    "    return a - b\n",
    "\n",
    "def multiplication(a, b):\n",
    "    return a * b\n",
    "\n",
    "def division(a, b):\n",
    "    return a / b\n",
    "\n",
    "def calculator():\n",
    "    \n",
    "    print(\"Humanoid Calculator, which does only basic operations such as Addition, Subtraction, Multiplication and Division, only between two operands!\")\n",
    "    try:\n",
    "        num1 = float(input(\"Enter the first operand: \"))\n",
    "        num2 = float(input(\"Enter the second operand: \"))\n",
    "        while True:\n",
    "            print(\"Enter '+' or 'add' for Addition operation\")\n",
    "            print(\"Enter '*' or 'mul' for Multiplication operation\")\n",
    "            print(\"Enter '-' or 'sub' for Subtraction operation\")\n",
    "            print(\"Enter '/' or 'div' for Division operation\")\n",
    "            print(\"Enter 'Q' or 'quit' for quitting the Humanoid Calculator!\")\n",
    "            choice = input('Enter your choice: ')\n",
    "\n",
    "            if choice in ['+',  'add']:\n",
    "                print(f\"The addition of '{num1}' and '{num2}' is: {addition(num1, num2)}\")\n",
    "\n",
    "            elif choice in ['-', 'sub']:\n",
    "                print(f\"The subtraction of '{num1}' and '{num2}' is: {subtraction(num1, num2)}\")\n",
    "\n",
    "            if choice in ['*',  'mul']:\n",
    "                print(f\"The multiplication of '{num1}' and '{num2}' is: {multiplication(num1, num2)}\")\n",
    "\n",
    "            elif choice in ['/', 'div']:\n",
    "                print(f\"The division of '{num1}' and '{num2}' is: {division(num1, num2):.2f}\")\n",
    "\n",
    "            elif choice in ['Q', 'q', 'quit']:\n",
    "                print(\"Thank you for using Humanoid Calculator!\")\n",
    "                break\n",
    "            else:\n",
    "                print(\"Invalid choice! Choose from the above!\")\n",
    "    except ValueError:\n",
    "        print(\"Kindly enter numeric values!\")\n",
    "\n",
    "calculator()"
   ]
  },
  {
   "cell_type": "markdown",
   "id": "b071b562-683c-42e2-9388-17dcae845345",
   "metadata": {},
   "source": [
    "20. Write a program that determines the roots of a cubic equation using the Cardano formula."
   ]
  },
  {
   "cell_type": "raw",
   "id": "4ca29474-3348-462c-a01c-9c6bc7826bee",
   "metadata": {},
   "source": [
    "The Cardano formula provides a method to find the roots of a cubic equation of the form\n",
    "ax^3 + bx^2 + cx + d = 0\n",
    "\n"
   ]
  },
  {
   "cell_type": "code",
   "execution_count": 17,
   "id": "74c96c0a-b85d-4dcf-9b5c-0135a1384ae3",
   "metadata": {},
   "outputs": [
    {
     "name": "stdin",
     "output_type": "stream",
     "text": [
      "Enter the coefficient a:  1\n",
      "Enter the coefficient b:  2\n",
      "Enter the coefficient c:  3\n",
      "Enter the coefficient d:  4\n"
     ]
    },
    {
     "name": "stdout",
     "output_type": "stream",
     "text": [
      "The cubic equation: '1.0x^3 + 2.0x^2 + 3.0x + 4.0'\n",
      "Discriminant:  0.08367626886145409\n",
      "As discriminant is greater than zero, hence there are three real roots\n",
      "Roots: [-1.6948263240106614, -0.15258683799466932, -0.15258683799466932]\n"
     ]
    }
   ],
   "source": [
    "import math\n",
    "\n",
    "def cubic_roots(a, b, c, d):\n",
    "    \n",
    "    # determining p and q (intermediate coefficients)\n",
    "    p = (3 * a * c - b**2) / (3 * a**2)\n",
    "    q = (-(9 * a * b * c) + (27 * a**2 * b) + (2 * b**3)) / (27 * a**3)\n",
    "    \n",
    "    discriminant = - (q**2) / 4 + (p**3) / 27\n",
    "    \n",
    "    print(\"Discriminant: \", discriminant)\n",
    "    \n",
    "    if discriminant > 0:\n",
    "        print(f\"As discriminant is greater than zero, hence there are three real roots\")\n",
    "        # Three real roots\n",
    "        r1 = -q / 2 + math.sqrt(discriminant)\n",
    "        r2 = -q / 2 - math.sqrt(discriminant)\n",
    "        s = r1**(1/3) if r1 >= 0 else -(-r1)**(1/3)\n",
    "        t = r2**(1/3) if r2 >= 0 else -(-r2)**(1/3)\n",
    "        real_root1 = -b / (3 * a) + s + t\n",
    "        real_root2 = -b / (3 * a) - (s + t) / 2\n",
    "        real_root3 = -b / (3 * a) - (s + t) / 2\n",
    "        return [real_root1, real_root2, real_root3]\n",
    "    \n",
    "    elif discriminant == 0:\n",
    "        print(f\"As discriminant is equal to zero, hence there are one real root and two complex roots\")\n",
    "        # one real root and two complex roots\n",
    "        r1 = -q / 2\n",
    "        s = r1**(1/3) if r1 >= 0 else -(-r1)**(1/3)\n",
    "        real_root = -b / (3 * a) + 2 * s\n",
    "        complex_root1 = -b / (3 * a) - s\n",
    "        complex_root2 = -b / (3 * a) - s\n",
    "        return [real_root, complex_root1, complex_root2]\n",
    "    \n",
    "    else:\n",
    "        print(f\"As discriminant is less than zero, hence there are three distinct complex roots\")\n",
    "        # Three distinct complex roots\n",
    "        r = math.sqrt(-p**3 / 27)\n",
    "        theta = math.acos(-q / (2 * r))\n",
    "        root1 = 2 * math.sqrt(-p / 3) * math.cos(theta / 3)\n",
    "        root2 = 2 * math.sqrt(-p / 3) * math.cos((theta + 2 * math.pi) / 3)\n",
    "        root3 = 2 * math.sqrt(-p / 3) * math.cos((theta + 4 * math.pi) / 3)\n",
    "        return [root1 - b / (3 * a), root2 - b / (3 * a), root3 - b / (3 * a)]\n",
    "\n",
    "# Input coefficients from the user\n",
    "try:\n",
    "    a = float(input(\"Enter the coefficient a: \"))\n",
    "    b = float(input(\"Enter the coefficient b: \"))\n",
    "    c = float(input(\"Enter the coefficient c: \"))\n",
    "    d = float(input(\"Enter the coefficient d: \"))\n",
    "\n",
    "    print(f\"The cubic equation: '{a}x^3 + {b}x^2 + {c}x + {d}'\")    \n",
    "    # Calculate and display the roots\n",
    "    roots = cubic_roots(a, b, c, d)\n",
    "    print(\"Roots:\", roots)\n",
    "except ValueError as ex:\n",
    "    print(\"Please enter valid numeric coefficients.\", ex)"
   ]
  },
  {
   "cell_type": "markdown",
   "id": "81ae3dc4-7cfa-4800-a573-56730f25c4f8",
   "metadata": {
    "jp-MarkdownHeadingCollapsed": true,
    "tags": []
   },
   "source": [
    "# Advanced Level:"
   ]
  },
  {
   "cell_type": "markdown",
   "id": "4428d57a-4165-423f-b306-b8494c21ce6f",
   "metadata": {},
   "source": [
    "21. Create a program that calculates the income tax based on the user's income and tax brackets."
   ]
  },
  {
   "cell_type": "raw",
   "id": "b9866c01-2c83-47b4-ab5c-5e9a9c437159",
   "metadata": {},
   "source": [
    "In India:\n",
    "\n",
    "Old Regime:\n",
    "\n",
    "Income Slabs\t                    Individuals Below The Age Of 60 Years and NRIs\n",
    "Up to Rs 2.5 lakh\t                     NIL\n",
    "Rs 2.5 lakh - Rs 5 lakh\t                 5%\n",
    "Rs 5 lakh - Rs 10 lakh\t                 20%\n",
    "> Rs 10 lakh\t                         30%\n",
    "\n",
    "Aged 60 years but less than 80 years\n",
    "\n",
    "Income Slabs                        Tax Slabs for Senior Citizens (Aged 60 Years But Less Than 80 Years)\n",
    "Up to Rs. 3 lakh                         NIL\n",
    "Rs 3 lakh - Rs 5 lakh\t                 5%\n",
    "Rs 5 lakh - Rs 10 lakh\t                 20%\n",
    "> Rs 10\tlakh                             30%\n",
    "\n",
    "Aged 80 Years And Above\n",
    "\n",
    "Income Slabs\t                    Income Tax Slab for Super Senior Citizens (Aged 80 Years And Above)\n",
    "Rs 0 - Rs 5 lakh*\t                     NIL\n",
    "Rs 5 lakh - Rs 10 lakh\t                 20%\n",
    "> Rs 10 lakh\t                         30%\n",
    "\n",
    "New Regime:\n",
    "\n",
    "Income Slabs\t                     Income Tax Rates FY 2023-24 (AY 2024-25)\n",
    "Up to Rs 3,00,000\t                     Nil\n",
    "Rs 3,00,000 to Rs 6,00,000\t             5% on income which exceeds Rs 3,00,000 \n",
    "Rs 6,00,000 to Rs 9,00,000\t             Rs. 15,000 + 10% on income more than Rs 6,00,000\n",
    "Rs 9,00,000 to Rs 12,00,000\t             Rs. 45,000 + 15% on income more than Rs 9,00,000\n",
    "Rs 12,00,000 to Rs 1500,000\t             Rs. 90,000 + 20% on income more than Rs 12,00,000\n",
    "Above Rs 15,00,000\t                     Rs. 150,000 + 30% on income more than Rs 15,00,000"
   ]
  },
  {
   "cell_type": "code",
   "execution_count": 12,
   "id": "e1f85688-afa0-4f8d-83d5-53c009285b9c",
   "metadata": {},
   "outputs": [
    {
     "name": "stdout",
     "output_type": "stream",
     "text": [
      "Tax Brackets: \n",
      "\n",
      "Old Regime:\n",
      "\n",
      "Age below 60 years\n",
      "********************\n",
      "Income Slabs: \t\t\t\tIndividuals Below The Age Of 60 Years and NRIs\n",
      "----------------------------------------------------------------------------------------------------\n",
      "Up to Rs 2.5 lakh\t\t\t\t\tNIL\n",
      "Rs 2.5 lakh - Rs 5 lakh\t\t\t\t\t5%\n",
      "Rs 5 lakh - Rs 10 lakh\t\t\t\t\t20%\n",
      "> Rs 10 lakh\t\t\t\t\t\t30%\n",
      "\n",
      "Age above 60 years below 80 years\n",
      "***********************************\n",
      "Income Slabs: \t\t\t\tTax Slabs for Senior Citizens (Aged 60 Years But Less Than 80 Years)\n",
      "------------------------------------------------------------------------------------------------------------\n",
      "Up to Rs 3 lakh\t\t\t\t\t\tNIL\n",
      "Rs 3 lakh - Rs 5 lakh\t\t\t\t\t5%\n",
      "Rs 5 lakh - Rs 10 lakh\t\t\t\t\t20%\n",
      "> Rs 10 lakh\t\t\t\t\t\t30%\n",
      "\n",
      "Age above 80 years\n",
      "********************\n",
      "Income Slabs: \t\t\t\tIncome Tax Slab for Super Senior Citizens (Aged 80 Years And Above)\n",
      "------------------------------------------------------------------------------------------------------------\n",
      "Up to Rs 5 lakh\t\t\t\t\t\tNIL\n",
      "Rs 5 lakh - Rs 10 lakh\t\t\t\t\t20%\n",
      ">Rs 10 lakh\t\t\t\t\t\t30%\n",
      "\n",
      "New Regime:\n",
      "\n",
      "Income Slabs: \t\t\t\tIncome Tax Rates FY 2023-24 (AY 2024-25)\n",
      "----------------------------------------------------------------------------------------------------\n",
      "Up to Rs 3 lakh\t\t\t\t\t\tNIL\n",
      "Rs 3 lakh - Rs 6 lakh\t\t\t\t\t5% on income which exceeds Rs 3,00,000\n",
      "Rs 6 lakh - Rs 9 lakh\t\t\t\t\tRs. 15,000 + 10% on income more than Rs 6,00,000\n",
      "Rs 9,00,000 to Rs 12,00,000\t\t\t\tRs. 45,000 + 15% on income more than Rs 9,00,000\n",
      "Rs 12,00,000 to Rs 1500,000\t\t\t\tRs. 90,000 + 20% on income more than Rs 12,00,000\n",
      "Above Rs 15,00,000\t\t\t\t\tRs. 150,000 + 30% on income more than Rs 15,00,000\n",
      "\n",
      "Choose the Tax Regime: \n",
      "1. Old Tax Regime\n",
      "2. New Tax Regime\n",
      "\n"
     ]
    },
    {
     "name": "stdin",
     "output_type": "stream",
     "text": [
      " 2\n"
     ]
    },
    {
     "name": "stdout",
     "output_type": "stream",
     "text": [
      "Thank you for opting New Regime.\n"
     ]
    },
    {
     "name": "stdin",
     "output_type": "stream",
     "text": [
      "Enter your income per anum: Rs. 1580000\n"
     ]
    },
    {
     "name": "stdout",
     "output_type": "stream",
     "text": [
      "Your income is in the slab of greater than Rs.15,00,000\n",
      "You need to pay Rs.174000.0 as your tax to Govt of Bharath!\n"
     ]
    }
   ],
   "source": [
    "print(\"Tax Brackets: \")\n",
    "print()\n",
    "print(\"Old Regime:\")\n",
    "print()\n",
    "print(\"Age below 60 years\")\n",
    "print(\"*\" * 20)\n",
    "print(\"Income Slabs: \\t\\t\\t\\tIndividuals Below The Age Of 60 Years and NRIs\")\n",
    "print(\"-\" * 100)\n",
    "print(\"Up to Rs 2.5 lakh\\t\\t\\t\\t\\tNIL\\nRs 2.5 lakh - Rs 5 lakh\\t\\t\\t\\t\\t5%\\nRs 5 lakh - Rs 10 lakh\\t\\t\\t\\t\\t20%\\n> Rs 10 lakh\\t\\t\\t\\t\\t\\t30%\")\n",
    "\n",
    "print()\n",
    "\n",
    "print(\"Age above 60 years below 80 years\")\n",
    "print(\"*\" * 35)\n",
    "print(\"Income Slabs: \\t\\t\\t\\tTax Slabs for Senior Citizens (Aged 60 Years But Less Than 80 Years)\")\n",
    "print(\"-\" * 108)\n",
    "print(\"Up to Rs 3 lakh\\t\\t\\t\\t\\t\\tNIL\\nRs 3 lakh - Rs 5 lakh\\t\\t\\t\\t\\t5%\\nRs 5 lakh - Rs 10 lakh\\t\\t\\t\\t\\t20%\\n> Rs 10 lakh\\t\\t\\t\\t\\t\\t30%\")\n",
    "\n",
    "print()\n",
    "\n",
    "print(\"Age above 80 years\")\n",
    "print(\"*\" * 20)\n",
    "print(\"Income Slabs: \\t\\t\\t\\tIncome Tax Slab for Super Senior Citizens (Aged 80 Years And Above)\")\n",
    "print(\"-\" * 108)\n",
    "print(\"Up to Rs 5 lakh\\t\\t\\t\\t\\t\\tNIL\\nRs 5 lakh - Rs 10 lakh\\t\\t\\t\\t\\t20%\\n>Rs 10 lakh\\t\\t\\t\\t\\t\\t30%\")\n",
    "\n",
    "print()\n",
    "\n",
    "print(\"New Regime:\")\n",
    "print()\n",
    "print(\"Income Slabs: \\t\\t\\t\\tIncome Tax Rates FY 2023-24 (AY 2024-25)\")\n",
    "print(\"-\" * 100)\n",
    "print(f\"Up to Rs 3 lakh\\t\\t\\t\\t\\t\\tNIL\\nRs 3 lakh - Rs 6 lakh\\t\\t\\t\\t\\t5% on income which exceeds Rs 3,00,000\\nRs 6 lakh - Rs 9 lakh\\t\\t\\t\\t\\tRs. 15,000 + 10% on income more than Rs 6,00,000\"\n",
    "      f\"\\nRs 9,00,000 to Rs 12,00,000\\t\\t\\t\\tRs. 45,000 + 15% on income more than Rs 9,00,000\\nRs 12,00,000 to Rs 1500,000\\t\\t\\t\\tRs. 90,000 + 20% on income more than Rs 12,00,000\\nAbove Rs 15,00,000\\t\\t\\t\\t\\tRs. 150,000 + 30% on income more than Rs 15,00,000\")\n",
    "\n",
    "print()\n",
    "try:\n",
    "    print(\"Choose the Tax Regime: \\n1. Old Tax Regime\\n2. New Tax Regime\\n\")\n",
    "    regime = input()\n",
    "    while regime not in ['quit', 'Q', 'q', '3', 3]:\n",
    "        if regime in ['old', '1', 1]:\n",
    "            old_regime()\n",
    "            break\n",
    "        elif regime in ['new', '2', 2]:\n",
    "            new_regime()\n",
    "            break\n",
    "        else:\n",
    "            print(\"Incorrect option!, please try again. \")\n",
    "\n",
    "    else:\n",
    "        if regime in ['quit', 'Q', 'q', '3', 3]:\n",
    "            print(\"Thanks for choosing our website to calculate your tax. Every Rupee counts!\")\n",
    "\n",
    "except Exception as ex:\n",
    "    print(\"Invalid choice!\")\n",
    "    \n",
    "def old_regime():\n",
    "    print(\"Thank you for opting Old Regime.\")\n",
    "    age = int(input(\"Enter your age: \"))\n",
    "    if 22 <= age < 60 :\n",
    "        print(\"Your age is below 60 years.\")\n",
    "        \n",
    "        income_slabs = [(0, 250000), (250001, 500000), (500001, 1000000)]\n",
    "        income_rates = [0.00, 0.05, 0.20, 0.30]\n",
    "        \n",
    "        income = float(input(\"Enter your income per anum: Rs.\"))\n",
    "        for i in range(len(income_slabs)):\n",
    "            if income > 1000000:\n",
    "                amount = income - 1000000\n",
    "                tax = 12500 + 50000 + (amount * 0.30)\n",
    "                print(f\"You need to pay Rs.{tax} as your tax to Govt of Bharath!\")\n",
    "                break\n",
    "            \n",
    "            else:\n",
    "                if income_slabs[i][0] <= income <= income_slabs[i][1]:\n",
    "                    print(f\"Your income is in the brackets of {income_slabs[i][0]} to {income_slabs[i][1]}\")\n",
    "                \n",
    "                    if income_slabs[0][0] <= income <= income_slabs[0][1]:\n",
    "                        print(\"Tax is exempted for your income!\")\n",
    "                        \n",
    "                    \n",
    "                    elif income_slabs[1][0] <= income <= income_slabs[1][1]:\n",
    "                        amount = income - 250000\n",
    "                        tax = 12500 + (amount * income_rates[1])\n",
    "                        print(f\"You need to pay Rs.{tax} as your tax to Govt of Bharath!\")\n",
    "                        \n",
    "\n",
    "                    elif income_slabs[2][0] <= income <= income_slabs[2][1]:\n",
    "                        amount = income - 500000\n",
    "                        tax = 50000 + (amount * income_rates[2])\n",
    "                        print(f\"You need to pay Rs.{tax} as your tax to Govt of Bharath!\")\n",
    "                        \n",
    "                        \n",
    "    elif 60 <= age < 80:\n",
    "        print(\"You are a senior citizen!\")\n",
    "        \n",
    "        income_slabs = [(0, 300000), (300001, 500000), (500001, 1000000)]\n",
    "        income_rates = [0.00, 0.05, 0.20, 0.30]\n",
    "        \n",
    "        income = float(input(\"Enter your income per anum: Rs.\"))\n",
    "        for i in range(len(income_slabs)):\n",
    "            if income > 1000000:\n",
    "                amount = income - 1000000\n",
    "                tax = 15000 + 50000 + (amount * 0.30)\n",
    "                print(f\"You need to pay Rs.{tax} as your tax to Govt of Bharath!\")\n",
    "                break\n",
    "            \n",
    "            else:\n",
    "                if income_slabs[i][0] <= income <= income_slabs[i][1]:\n",
    "                    print(f\"Your income is in the brackets of {income_slabs[i][0]} to {income_slabs[i][1]}\")\n",
    "                \n",
    "                    if income_slabs[0][0] <= income <= income_slabs[0][1]:\n",
    "                        print(\"Tax is exempted for your income!\")\n",
    "                        \n",
    "                    \n",
    "                    elif income_slabs[1][0] <= income <= income_slabs[1][1]:\n",
    "                        amount = income - 300000\n",
    "                        tax = 15000 + (amount * income_rates[1])\n",
    "                        print(f\"You need to pay Rs.{tax} as your tax to Govt of Bharath!\")\n",
    "                        \n",
    "\n",
    "                    elif income_slabs[2][0] <= income <= income_slabs[2][1]:\n",
    "                        amount = income - 500000\n",
    "                        tax = 50000 + (amount * income_rates[2])\n",
    "                        print(f\"You need to pay Rs.{tax} as your tax to Govt of Bharath!\")\n",
    "                        \n",
    "                    \n",
    "\n",
    "    elif age >= 80:\n",
    "        print(\"You are super senior citizen\")\n",
    "        \n",
    "        income_slabs = [(0, 500000), (500001, 1000000)]\n",
    "        income_rates = [0.00, 0.20, 0.30]\n",
    "        \n",
    "        income = float(input(\"Enter your income per anum: Rs.\"))\n",
    "        for i in range(len(income_slabs)):\n",
    "            if income > 1000000:\n",
    "                amount = income - 1000000\n",
    "                tax = 100000 + (amount * 0.30)\n",
    "                print(f\"You need to pay Rs.{tax} as your tax to Govt of Bharath!\")\n",
    "                break\n",
    "            \n",
    "            else:\n",
    "                if income_slabs[i][0] <= income <= income_slabs[i][1]:\n",
    "                    print(f\"Your income is in the brackets of {income_slabs[i][0]} to {income_slabs[i][1]}\")\n",
    "                \n",
    "                    if income_slabs[0][0] <= income <= income_slabs[0][1]:\n",
    "                        print(\"Tax is exempted for your income!\")\n",
    "                        \n",
    "                    \n",
    "                    elif income_slabs[1][0] <= income <= income_slabs[1][1]:\n",
    "                        amount = income - 500000\n",
    "                        tax = 100000 + (amount * income_rates[1])\n",
    "                        print(f\"You need to pay Rs.{tax} as your tax to Govt of Bharath!\")\n",
    "                        \n",
    "                    \n",
    "    \n",
    "    else:\n",
    "        print(f\"Invalid Age! Don't work at this {age} age! Study even better and get a good job that you like and can feed your family!\")\n",
    "\n",
    "        \n",
    "def new_regime():\n",
    "    print(\"Thank you for opting New Regime.\")\n",
    "    \n",
    "    income_slabs = [(0, 300000), (300001, 600000), (600001, 900000), (900001, 1200000), (1200001, 1500000)]\n",
    "    income_rates = [0.00, 0.05, 0.10, 0.15, 0.20, 0.30]\n",
    "    income = float(input(\"Enter your income per anum: Rs.\"))\n",
    "    \n",
    "    for i in range(len(income_slabs)):\n",
    "        if income > 1500000:\n",
    "            print(f\"Your income is in the slab of greater than Rs.15,00,000\")\n",
    "            amount = income - 1500000\n",
    "            tax = 150000 + (amount * income_rates[5])\n",
    "            print(f\"You need to pay Rs.{tax} as your tax to Govt of Bharath!\")\n",
    "            break\n",
    "            \n",
    "        else:\n",
    "            if income_slabs[i][0] <= income <= income_slabs[i][1]:\n",
    "                print(f\"Your income is in the brackets of {income_slabs[i][0]} to {income_slabs[i][1]}\")\n",
    "                # calculating the Tax:\n",
    "\n",
    "                if income_slabs[0][0] <= income <= income_slabs[0][1]:\n",
    "                    print(\"Tax is exempted for your income!\")\n",
    "                    \n",
    "\n",
    "                elif income_slabs[1][0] <= income <= income_slabs[1][1]:\n",
    "                    amount = income - 300000\n",
    "                    tax = amount * income_rates[1]\n",
    "                    print(f\"You need to pay Rs.{tax} as your tax to Govt of Bharath!\")\n",
    "                    \n",
    "\n",
    "                elif income_slabs[2][0] <= income <= income_slabs[2][1]:\n",
    "                    amount = income - 600000\n",
    "                    tax = 15000 + (amount * income_rates[2])\n",
    "                    print(f\"You need to pay Rs.{tax} as your tax to Govt of Bharath!\")\n",
    "                    \n",
    "\n",
    "                elif income_slabs[3][0] <= income <= income_slabs[3][1]:\n",
    "                    amount = income - 900000\n",
    "                    tax = 45000 + (amount * income_rates[3])\n",
    "                    print(f\"You need to pay Rs.{tax} as your tax to Govt of Bharath!\")\n",
    "                    \n",
    "\n",
    "                elif income_slabs[4][0] <= income <= income_slabs[4][1]:\n",
    "                    amount = income - 1200000\n",
    "                    tax = 90000 + (amount * income_rates[4])\n",
    "                    print(f\"You need to pay Rs.{tax} as your tax to Govt of Bharath!\")\n",
    "                    \n",
    "        "
   ]
  },
  {
   "cell_type": "markdown",
   "id": "6c6639dc-4bb9-48f4-8d50-e2da066b15a5",
   "metadata": {},
   "source": [
    "22. Write a program that simulates a rock-paper-scissors game against the computer."
   ]
  },
  {
   "cell_type": "code",
   "execution_count": 19,
   "id": "86ec8eeb-1a75-4098-b43c-064c224ca5c2",
   "metadata": {},
   "outputs": [
    {
     "name": "stdout",
     "output_type": "stream",
     "text": [
      "Rock-Paper-Scissor! Rock-Paper-Scissor! Rock-Paper-Scissor! \n"
     ]
    },
    {
     "name": "stdin",
     "output_type": "stream",
     "text": [
      "Wanna Play ? (Yes/No) no\n"
     ]
    },
    {
     "name": "stdout",
     "output_type": "stream",
     "text": [
      "Thank you for playing!\n"
     ]
    }
   ],
   "source": [
    "\n",
    "def generate_computer_choice():\n",
    "    import random\n",
    "    choices = [\"rock\", \"paper\", \"scissor\"]\n",
    "    return random.choice(choices)\n",
    "\n",
    "def generate_user_choice(choice):\n",
    "    choices = [\"rock\", \"paper\", \"scissor\"]\n",
    "    if choice in choices:\n",
    "        return choice\n",
    "    else:\n",
    "        return \"Invalid choice\"\n",
    "    \n",
    "def choose_winner(user_input, computer_input):\n",
    "    \n",
    "    if (user_input.lower() == 'rock' and computer_input.lower() == 'scissor') or (user_input.lower() == 'scissor' and computer_input.lower() == 'paper')\\\n",
    "    or (user_input.lower() == 'paper' and computer_input.lower() == 'rock'):\n",
    "        return \"You Win!\"\n",
    "    elif (user_input.lower() == 'rock' and computer_input.lower() == 'rock') or (user_input.lower() == 'scissors' and computer_input.lower() == 'scissors')\\\n",
    "    or (user_input.lower() == 'paper' and computer_input.lower() == 'paper'):\n",
    "        return \"It's Draw!\"\n",
    "    else:\n",
    "        return \"Computer Wins!\"\n",
    "    \n",
    "def play_game():\n",
    "    \n",
    "    option = input(\"Enter your input: (Rock, Paper, Scissor)\")\n",
    "    user_input = generate_user_choice(option)\n",
    "    computer_input = generate_computer_choice()\n",
    "    print(f\"Computer's choice: {computer_input}\")\n",
    "    \n",
    "    print(choose_winner(user_input, computer_input))\n",
    "    \n",
    "try:\n",
    "    print(\"Rock-Paper-Scissor! \"*3)\n",
    "    choice = input(\"Wanna Play ? (Yes/No)\")\n",
    "    while choice.lower() != 'no':\n",
    "        play_game()\n",
    "        choice = input(\"Do you want to continue? (Yes/No)\")\n",
    "    else:\n",
    "        print(\"Thank you for playing!\")\n",
    "except Exception:\n",
    "    print(\"Invalid Choice\")\n",
    "        \n",
    "    \n",
    "    "
   ]
  },
  {
   "cell_type": "markdown",
   "id": "8f40d72d-97b3-4a0d-a1a4-83f5f0885907",
   "metadata": {},
   "source": [
    "23. Develop a program that generates a random password based on user preferences (length, complexity)."
   ]
  },
  {
   "cell_type": "code",
   "execution_count": 26,
   "id": "58dc9758-9c1c-4a4f-b31f-2932e8da0c72",
   "metadata": {},
   "outputs": [
    {
     "name": "stdin",
     "output_type": "stream",
     "text": [
      "Enter the length of the password that you need:  8\n",
      "Do you want to include lower cases (yes/no)?:  no\n",
      "Do you want to include upper cases (yes/no)?:  no\n",
      "Do you want to include digits (numbers) (yes/no)?:  yes\n",
      "Do you want to include special characters (yes/no)?:  no\n"
     ]
    },
    {
     "name": "stdout",
     "output_type": "stream",
     "text": [
      "Generated Password: 29465334\n"
     ]
    }
   ],
   "source": [
    "\"\"\"\n",
    "Random password generation based on length and complexity\n",
    "\"\"\"\n",
    "\n",
    "import random\n",
    "import string\n",
    "def generate_password(length, lowercase, uppercase, digits, specialcase):\n",
    "    lowercase_character = string.ascii_lowercase if lowercase.lower() == \"yes\" else \"\"\n",
    "    uppercase_character = string.ascii_uppercase if uppercase.lower() == \"yes\" else \"\"\n",
    "    digits_character = string.digits if digits.lower() == \"yes\" else \"\"\n",
    "    special_character = string.punctuation if specialcase.lower() == \"yes\" else \"\"\n",
    "    \n",
    "    all_choice = lowercase_character + uppercase_character + digits_character + special_character\n",
    "    \n",
    "    if not all_choice:\n",
    "        return \"You need atleast one of the cases for the password to be complex or strong!\"\n",
    "\n",
    "    password = [random.choice(all_choice) for _ in range(length)]\n",
    "    \n",
    "    return ''.join(password)\n",
    "\n",
    "def user_input():\n",
    "    length = int(input(\"Enter the length of the password that you need: \"))\n",
    "    if length < 8:\n",
    "        print(\"Minimum characters should be 8!\")\n",
    "    else:\n",
    "        lowercase = input(\"Do you want to include lower cases (yes/no)?: \")\n",
    "        uppercase = input(\"Do you want to include upper cases (yes/no)?: \")\n",
    "        digits = input(\"Do you want to include digits (numbers) (yes/no)?: \")\n",
    "        specialcase = input(\"Do you want to include special characters (yes/no)?: \")\n",
    "        password = generate_password(length, lowercase, uppercase, digits, specialcase)\n",
    "        print(f\"Generated Password: {password}\")\n",
    "\n",
    "\n",
    "user_input()\n"
   ]
  },
  {
   "cell_type": "markdown",
   "id": "750f2b0d-e11b-4a89-a235-91878f2cd2d2",
   "metadata": {},
   "source": [
    "24. Create a program that implements a simple text-based adventure game with branching scenarios."
   ]
  },
  {
   "cell_type": "raw",
   "id": "f959635a-1b83-4027-acb6-38f937a54bb1",
   "metadata": {},
   "source": [
    "Docstring:\n",
    "print(value, ..., sep=' ', end='\\n', file=sys.stdout, flush=False)\n",
    "\n",
    "Prints the values to a stream, or to sys.stdout by default.\n",
    "Optional keyword arguments:\n",
    "file:  a file-like object (stream); defaults to the current sys.stdout.\n",
    "sep:   string inserted between values, default a space.\n",
    "end:   string appended after the last value, default a newline.\n",
    "flush: whether to forcibly flush the stream.\n",
    "Type:      builtin_function_or_methodprint()\n",
    "-----------------------------------------------------------------------------------------------------------------------\n",
    "Pythons print method as an exclusive attribute namely, flush which allows the user to decide if he wants his output to be buffered or not. The default value of this is False meaning the output will be buffered. If you change it to true, the output will be written as a sequence of characters one after the other."
   ]
  },
  {
   "cell_type": "code",
   "execution_count": 3,
   "id": "3c1efc5a-5157-49e1-bee5-ed7dded050d9",
   "metadata": {},
   "outputs": [
    {
     "name": "stdout",
     "output_type": "stream",
     "text": [
      "Welcome to Diamond Rush (Angkor Wat) Game!\n",
      "Diamond Rush is an archaeological-themed action game.\n",
      "in which the player controls an intrepid explorer in sear"
     ]
    },
    {
     "ename": "KeyboardInterrupt",
     "evalue": "",
     "output_type": "error",
     "traceback": [
      "\u001b[0;31m---------------------------------------------------------------------------\u001b[0m",
      "\u001b[0;31mKeyboardInterrupt\u001b[0m                         Traceback (most recent call last)",
      "Cell \u001b[0;32mIn[3], line 132\u001b[0m\n\u001b[1;32m    128\u001b[0m         exit()\n\u001b[1;32m    131\u001b[0m \u001b[38;5;28;01mif\u001b[39;00m \u001b[38;5;18m__name__\u001b[39m \u001b[38;5;241m==\u001b[39m \u001b[38;5;124m\"\u001b[39m\u001b[38;5;124m__main__\u001b[39m\u001b[38;5;124m\"\u001b[39m:\n\u001b[0;32m--> 132\u001b[0m     \u001b[43mstart_game\u001b[49m\u001b[43m(\u001b[49m\u001b[43m)\u001b[49m\n",
      "Cell \u001b[0;32mIn[3], line 11\u001b[0m, in \u001b[0;36mstart_game\u001b[0;34m()\u001b[0m\n\u001b[1;32m      9\u001b[0m directions \u001b[38;5;241m=\u001b[39m [\u001b[38;5;124m'\u001b[39m\u001b[38;5;124mleft\u001b[39m\u001b[38;5;124m'\u001b[39m, \u001b[38;5;124m'\u001b[39m\u001b[38;5;124mright\u001b[39m\u001b[38;5;124m'\u001b[39m]\n\u001b[1;32m     10\u001b[0m delay_print(\u001b[38;5;124m\"\u001b[39m\u001b[38;5;124mWelcome to Diamond Rush (Angkor Wat) Game!\u001b[39m\u001b[38;5;124m\"\u001b[39m)\n\u001b[0;32m---> 11\u001b[0m \u001b[43mdelay_print\u001b[49m\u001b[43m(\u001b[49m\u001b[38;5;124;43m\"\u001b[39;49m\u001b[38;5;124;43mDiamond Rush is an archaeological-themed action game.\u001b[39;49m\u001b[38;5;130;43;01m\\n\u001b[39;49;00m\u001b[38;5;124;43min which the player controls an intrepid explorer in search of crystals in three worlds: the jungles of Angkor Wat , the dungeons of Bavaria , and the frozen caves of Tibet.\u001b[39;49m\u001b[38;5;124;43m\"\u001b[39;49m\u001b[43m)\u001b[49m\n\u001b[1;32m     12\u001b[0m delay_print(\u001b[38;5;124m\"\u001b[39m\u001b[38;5;124mHowever, you need to find the Diamond - Red and Purple.\u001b[39m\u001b[38;5;124m\"\u001b[39m)\n\u001b[1;32m     13\u001b[0m delay_print(\u001b[38;5;124m\"\u001b[39m\u001b[38;5;124mLet\u001b[39m\u001b[38;5;124m'\u001b[39m\u001b[38;5;124ms begin the adventure!\u001b[39m\u001b[38;5;124m\"\u001b[39m)\n",
      "Cell \u001b[0;32mIn[3], line 5\u001b[0m, in \u001b[0;36mdelay_print\u001b[0;34m(text, delay)\u001b[0m\n\u001b[1;32m      3\u001b[0m \u001b[38;5;28;01mfor\u001b[39;00m ch \u001b[38;5;129;01min\u001b[39;00m text:\n\u001b[1;32m      4\u001b[0m     \u001b[38;5;28mprint\u001b[39m(ch, end\u001b[38;5;241m=\u001b[39m\u001b[38;5;124m'\u001b[39m\u001b[38;5;124m'\u001b[39m, flush\u001b[38;5;241m=\u001b[39m\u001b[38;5;28;01mTrue\u001b[39;00m)\n\u001b[0;32m----> 5\u001b[0m     \u001b[43mtime\u001b[49m\u001b[38;5;241;43m.\u001b[39;49m\u001b[43msleep\u001b[49m\u001b[43m(\u001b[49m\u001b[43mdelay\u001b[49m\u001b[43m)\u001b[49m\n\u001b[1;32m      6\u001b[0m \u001b[38;5;28mprint\u001b[39m()\n",
      "\u001b[0;31mKeyboardInterrupt\u001b[0m: "
     ]
    }
   ],
   "source": [
    "def delay_print(text, delay=0.3):\n",
    "    import time\n",
    "    for ch in text:\n",
    "        print(ch, end='', flush=True)\n",
    "        time.sleep(delay)\n",
    "    print()\n",
    "    \n",
    "def start_game():\n",
    "    directions = ['left', 'right']\n",
    "    delay_print(\"Welcome to Diamond Rush (Angkor Wat) Game!\")\n",
    "    delay_print(\"Diamond Rush is an archaeological-themed action game.\\nin which the player controls an intrepid explorer in search of crystals in three worlds: the jungles of Angkor Wat , the dungeons of Bavaria , and the frozen caves of Tibet.\")\n",
    "    delay_print(\"However, you need to find the Diamond - Red and Purple.\")\n",
    "    delay_print(\"Let's begin the adventure!\")\n",
    "    print()\n",
    "    delay_print(\"Stage 1\")\n",
    "    print()\n",
    "    \n",
    "    while True:\n",
    "        delay_print(\"Choose, to which direction you want to go ? (left, right)\")\n",
    "        direction = input()\n",
    "\n",
    "        if direction.lower() in directions:\n",
    "            if direction.lower() == 'left':\n",
    "                delay_print(\"Your choice is left.\")\n",
    "                left_path()\n",
    "                break\n",
    "            elif direction.lower() == 'right':\n",
    "                delay_print(\"Your choice is right.\")\n",
    "                right_path()\n",
    "                break\n",
    "            else:\n",
    "                delay_print(\"Invalid option entered! You need to enter (left, right) only!\")\n",
    "                break\n",
    "\n",
    "def left_path():\n",
    "    delay_print(\"Congratulations! You found one Red Diamond.\")\n",
    "    delay_print(\"You came across Wild Fire. Do you want to try to hide in a Bungalow or Do you want to run away ?\")\n",
    "    delay_print(\"Enter 'bungalow' or 'run away'\")\n",
    "    while True:\n",
    "        choice = input()\n",
    "        if choice.lower() == 'bungalow':\n",
    "            delay_print(\"It's a Wild Fire. Bungalow would also be caught in fire.\")\n",
    "            delay_print(\"You are DEAD!!!!!!\")\n",
    "            play_again()\n",
    "            break\n",
    "        elif choice.lower() == 'run away':\n",
    "            run_away()\n",
    "            break\n",
    "        else:\n",
    "            delay_print(\"Invalid choice. Please enter 'bungalow' or 'run away'.\")\n",
    "        \n",
    "        break\n",
    "\n",
    "def run_away():\n",
    "    delay_print(\"Good choice!\")\n",
    "    delay_print(\"You come across a river. Do you want to swim across or look for a bridge?\")\n",
    "    \n",
    "    while True:\n",
    "        choice = input(\"Enter 'swim' or 'look for bridge': \").lower()\n",
    "        if choice == \"swim\":\n",
    "            swim()\n",
    "            break\n",
    "        elif choice == \"look for bridge\":\n",
    "            bridge()\n",
    "            break\n",
    "        else:\n",
    "            delay_print(\"Invalid choice. Please enter 'swim' or 'look for bridge'.\")\n",
    "\n",
    "        break\n",
    "def swim():\n",
    "    while True:\n",
    "        delay_print(\"You decide to swim across the river.\")\n",
    "        delay_print(\"Congratulations! You made it safely to the other side.\")\n",
    "        delay_print(\"You win the game!\")\n",
    "        play_again()\n",
    "        break\n",
    "    \n",
    "    \n",
    "def bridge():\n",
    "    while True:\n",
    "        delay_print(\"You decide to look for a bridge.\")\n",
    "        delay_print(\"You find a sturdy bridge and safely cross the river.\")\n",
    "        delay_print(\"Congratulations! You made it to the other side.\")\n",
    "        delay_print(\"You win the game!\")\n",
    "        play_again()\n",
    "        break\n",
    "    \n",
    "def right_path():\n",
    "    delay_print(\"Congratulations! You found one Purple Diamond.\")\n",
    "    delay_print(\"You encounter a group of wild animals blocking your way.\")\n",
    "    delay_print(\"You can try to scare them away or slowly back away.\")\n",
    "    while True:\n",
    "        choice = input(\"Enter 'scare' or 'back away': \").lower()\n",
    "        if choice == \"scare\":\n",
    "            scare()\n",
    "            break\n",
    "        elif choice == \"back away\":\n",
    "            back_away()\n",
    "            break\n",
    "        else:\n",
    "            delay_print(\"Invalid choice. Please enter 'scare' or 'back away'.\")            \n",
    "        break\n",
    "\n",
    "def scare():\n",
    "    while True:\n",
    "        delay_print(\"You decide to try and scare the animals away.\")\n",
    "        delay_print(\"Unfortunately, the animals become aggressive and attack you.\")\n",
    "        delay_print(\"You lose the game.\")\n",
    "        play_again()\n",
    "        break\n",
    "    \n",
    "def back_away():\n",
    "    while True:\n",
    "        delay_print(\"You slowly back away from the animals.\")\n",
    "        delay_print(\"You manage to avoid a confrontation and continue on your path.\")\n",
    "        delay_print(\"Congratulations! You've safely passed the animals.\")\n",
    "        delay_print(\"You win the game!\")\n",
    "        play_again()\n",
    "        break\n",
    "    \n",
    "def play_again():\n",
    "    choice = input(\"Do you want to play again? (yes/no): \").lower()\n",
    "    while choice.lower() != 'no':\n",
    "        if choice == \"yes\":\n",
    "            start_game()\n",
    "    else:\n",
    "        delay_print(\"Thank you for playing! Goodbye.\")\n",
    "        exit()\n",
    "        \n",
    "\n",
    "if __name__ == \"__main__\":\n",
    "    start_game()\n",
    "\n"
   ]
  },
  {
   "cell_type": "markdown",
   "id": "5ac6c17d-879a-41ba-9052-907072259c63",
   "metadata": {},
   "source": [
    "25. Build a program that solves a linear equation for x, considering different cases."
   ]
  },
  {
   "cell_type": "raw",
   "id": "0c1cd102-5ea0-4144-b2f4-a1484679c72d",
   "metadata": {},
   "source": [
    " linear equations of the form \"ax + b = c\"\n",
    " if a = 0, and if b == c, there can be infinite solutions as x can take any value, else, no solution"
   ]
  },
  {
   "cell_type": "code",
   "execution_count": 2,
   "id": "9e649f1c-a441-4cb7-a2e5-4e1b6b25a19a",
   "metadata": {},
   "outputs": [
    {
     "name": "stdout",
     "output_type": "stream",
     "text": [
      "Linear equation is given by: ax + b = c\n"
     ]
    },
    {
     "name": "stdin",
     "output_type": "stream",
     "text": [
      "Enter the coefficient of x:  1\n",
      "Enter the value of b:  2\n",
      "Enter the value of c:  3\n"
     ]
    },
    {
     "name": "stdout",
     "output_type": "stream",
     "text": [
      "Solving x, we get: 1.00\n"
     ]
    }
   ],
   "source": [
    "def solve_linear_equation(a, b, c):\n",
    "    if a == 0:\n",
    "        if b == c:\n",
    "            return \"Infinte solution, as x can take any value!\"\n",
    "        else:\n",
    "            return \"No solution!\"\n",
    "    else:\n",
    "        x = (c - b) / a\n",
    "    \n",
    "    return f\"{x:.2f}\"\n",
    "\n",
    "def main():\n",
    "    try:\n",
    "        print(\"Linear equation is given by: ax + b = c\")\n",
    "        \n",
    "        a = float(input(\"Enter the coefficient of x: \"))\n",
    "        b = float(input(\"Enter the value of b: \"))\n",
    "        c = float(input(\"Enter the value of c: \"))\n",
    "        \n",
    "        result = solve_linear_equation(a, b, c)\n",
    "        print(f\"Solving x, we get: {result}\")\n",
    "        \n",
    "    except ValueError:\n",
    "        print(\"Please enter numeric value\")\n",
    "        \n",
    "if __name__ == '__main__':\n",
    "    main()"
   ]
  },
  {
   "cell_type": "markdown",
   "id": "42beddcf-03c5-49e7-9c33-65706261e9c7",
   "metadata": {},
   "source": [
    "26. Write a program that simulates a basic quiz game with multiple-choice questions and scoring."
   ]
  },
  {
   "cell_type": "code",
   "execution_count": 22,
   "id": "e4a36c7f-6fd6-4322-86b7-c9a61fea5ce5",
   "metadata": {},
   "outputs": [
    {
     "name": "stdout",
     "output_type": "stream",
     "text": [
      "Welcome to the Quiz\n",
      "What is the capital of France?\n",
      "1. Paris\n",
      "2. London\n",
      "3. Berlin\n"
     ]
    },
    {
     "name": "stdin",
     "output_type": "stream",
     "text": [
      "Enter your choice (1, 2, 3, etc.):  1\n"
     ]
    },
    {
     "name": "stdout",
     "output_type": "stream",
     "text": [
      "Correct!\n",
      "What is the largest planet in our solar system?\n",
      "1. Earth\n",
      "2. Mars\n",
      "3. Jupiter\n"
     ]
    },
    {
     "name": "stdin",
     "output_type": "stream",
     "text": [
      "Enter your choice (1, 2, 3, etc.):  3\n"
     ]
    },
    {
     "name": "stdout",
     "output_type": "stream",
     "text": [
      "Correct!\n",
      "Who wrote the play 'Romeo and Juliet'?\n",
      "1. Charles Dickens\n",
      "2. William Shakespeare\n",
      "3. Jane Austen\n"
     ]
    },
    {
     "name": "stdin",
     "output_type": "stream",
     "text": [
      "Enter your choice (1, 2, 3, etc.):  2\n"
     ]
    },
    {
     "name": "stdout",
     "output_type": "stream",
     "text": [
      "Correct!\n",
      "Which gas do plants absorb from the atmosphere?\n",
      "1. Oxygen\n",
      "2. Carbon dioxide\n",
      "3. Nitrogen\n"
     ]
    },
    {
     "name": "stdin",
     "output_type": "stream",
     "text": [
      "Enter your choice (1, 2, 3, etc.):  2\n"
     ]
    },
    {
     "name": "stdout",
     "output_type": "stream",
     "text": [
      "Correct!\n",
      "What is the chemical symbol for gold?\n",
      "1. Au\n",
      "2. Ag\n",
      "3. Fe\n"
     ]
    },
    {
     "name": "stdin",
     "output_type": "stream",
     "text": [
      "Enter your choice (1, 2, 3, etc.):  1\n"
     ]
    },
    {
     "name": "stdout",
     "output_type": "stream",
     "text": [
      "Correct!\n",
      "Quiz completed! Your score is 5/5.\n"
     ]
    }
   ],
   "source": [
    "class Question:\n",
    "    def __init__(self, text, choices, answer):\n",
    "        self.text = text\n",
    "        self.choices = choices\n",
    "        self.answer = answer\n",
    "    \n",
    "    def is_correct(self, user_choice):\n",
    "        return user_choice == self.answer\n",
    "\n",
    "class Quiz:\n",
    "    def __init__(self, questions):\n",
    "        self.questions = questions\n",
    "        self.score = 0\n",
    "        \n",
    "    def display_questions(self, question):\n",
    "        print(question.text)\n",
    "        for index, choice in enumerate(question.choices, start=1):\n",
    "            print(f\"{index}. {choice}\")\n",
    "        user_choice = input(\"Enter your choice (1, 2, 3, etc.): \")\n",
    "        return int(user_choice) if user_choice.isdigit() else 0\n",
    "    \n",
    "    def start(self):\n",
    "        print(\"Welcome to the Quiz\")\n",
    "        for q in self.questions:\n",
    "            user_choice = self.display_questions(q)\n",
    "            if user_choice == 0 or user_choice > len(self.questions):\n",
    "                print(\"Invalid choice. Skipping to the next question.\")\n",
    "                continue\n",
    "            if q.is_correct(user_choice):\n",
    "                print(\"Correct!\")\n",
    "                self.score += 1\n",
    "            else:\n",
    "                print(f\"Wrong Answer! The correct answer was in \")\n",
    "        self.display_result()\n",
    "    \n",
    "    def display_result(self):\n",
    "        print(f\"Quiz completed! Your score is {self.score}/{len(self.questions)}.\")\n",
    "        \n",
    "        \n",
    "questions = [\n",
    "    Question(\"What is the capital of France?\", [\"Paris\", \"London\", \"Berlin\"], 1),\n",
    "    Question(\"What is the largest planet in our solar system?\", [\"Earth\", \"Mars\", \"Jupiter\"], 3),\n",
    "    Question(\"Who wrote the play 'Romeo and Juliet'?\", [\"Charles Dickens\", \"William Shakespeare\", \"Jane Austen\"], 2),\n",
    "    Question(\"Which gas do plants absorb from the atmosphere?\", [\"Oxygen\", \"Carbon dioxide\", \"Nitrogen\"], 2),\n",
    "    Question(\"What is the chemical symbol for gold?\", [\"Au\", \"Ag\", \"Fe\"], 1),\n",
    "]\n",
    "\n",
    "# Create a Quiz instance and start the game\n",
    "quiz = Quiz(questions)\n",
    "quiz.start()\n",
    "    "
   ]
  },
  {
   "cell_type": "markdown",
   "id": "df2664c2-dd87-4e2d-b229-2c7f5dfb9d05",
   "metadata": {},
   "source": [
    "27. Develop a program that determines whether a given year is a prime number or not."
   ]
  },
  {
   "cell_type": "code",
   "execution_count": 2,
   "id": "4b34191c-eb7a-4130-b831-51e75c66985c",
   "metadata": {},
   "outputs": [
    {
     "name": "stdin",
     "output_type": "stream",
     "text": [
      "Enter the year:  1999\n"
     ]
    },
    {
     "name": "stdout",
     "output_type": "stream",
     "text": [
      "The given year 1999, is a prime number!\n"
     ]
    },
    {
     "name": "stdin",
     "output_type": "stream",
     "text": [
      "Do you want to try another year ? (yes/no) yes\n",
      "Enter the year:  2000\n"
     ]
    },
    {
     "name": "stdout",
     "output_type": "stream",
     "text": [
      "The given year 2000, is not a prime number!\n"
     ]
    },
    {
     "name": "stdin",
     "output_type": "stream",
     "text": [
      "Do you want to try another year ? (yes/no) no\n"
     ]
    },
    {
     "name": "stdout",
     "output_type": "stream",
     "text": [
      "Thank You!\n"
     ]
    }
   ],
   "source": [
    "def prime_year():\n",
    "    try:\n",
    "        year = int(input(\"Enter the year: \"))\n",
    "\n",
    "        if is_prime(year):\n",
    "            print(f\"The given year {year}, is a prime number!\")\n",
    "        else:\n",
    "            print(f\"The given year {year}, is not a prime number!\")\n",
    "    except ValueError:\n",
    "        print(\"Please enter only integer values!\")\n",
    "    start_again()\n",
    "        \n",
    "def start_again():\n",
    "    choice = input(\"Do you want to try another year ? (yes/no)\")\n",
    "    while choice.lower() != 'no':\n",
    "        prime_year()\n",
    "        break\n",
    "    else:\n",
    "        print(\"Thank You!\")\n",
    "        \n",
    "        \n",
    "def is_prime(number):\n",
    "    if number == 0 or number == 1:\n",
    "        return False\n",
    "    elif number <= 3:\n",
    "        return True\n",
    "    for i in range(2, int(number**0.5) + 1):\n",
    "        if number % i == 0 or number % (i+1) == 0:\n",
    "            return False\n",
    "    return True\n",
    "\n",
    "if __name__ == '__main__':\n",
    "    prime_year()"
   ]
  },
  {
   "cell_type": "markdown",
   "id": "9b297541-3907-4f83-aa41-9ce261030b09",
   "metadata": {},
   "source": [
    "28. Create a program that sorts three numbers in ascending order using conditional statements."
   ]
  },
  {
   "cell_type": "code",
   "execution_count": 6,
   "id": "d6af9c54-e52d-4a45-889c-a181edfe4104",
   "metadata": {},
   "outputs": [
    {
     "name": "stdin",
     "output_type": "stream",
     "text": [
      "Do you want to enter three numbers ? If yes, how do you want it ? \n",
      "1. Computer Based\n",
      "2. Manual Typing\n",
      " 1\n"
     ]
    },
    {
     "name": "stdout",
     "output_type": "stream",
     "text": [
      "Before sorting: [217, 259, 260]\n",
      "The sorted list using conditional statement is [217, 259, 260]\n",
      "Do you want to continue ? (yes/no)\n"
     ]
    },
    {
     "name": "stdin",
     "output_type": "stream",
     "text": [
      " yes\n",
      "Do you want to enter three numbers ? If yes, how do you want it ? \n",
      "1. Computer Based\n",
      "2. Manual Typing\n",
      " 2\n",
      "Enter 1th element:  200\n",
      "Enter 2th element:  150\n",
      "Enter 3th element:  100\n"
     ]
    },
    {
     "name": "stdout",
     "output_type": "stream",
     "text": [
      "Before sorting: [200, 150, 100]\n",
      "The sorted list using conditional statement is [100, 150, 200]\n",
      "Do you want to continue ? (yes/no)\n"
     ]
    },
    {
     "name": "stdin",
     "output_type": "stream",
     "text": [
      " no\n"
     ]
    },
    {
     "name": "stdout",
     "output_type": "stream",
     "text": [
      "Dhanyavad!\n"
     ]
    }
   ],
   "source": [
    "import random\n",
    "\n",
    "def take_input():\n",
    "    list_ = []\n",
    "    choice = input(\"Do you want to enter three numbers ? If yes, how do you want it ? \\n1. Computer Based\\n2. Manual Typing\\n\")\n",
    "    try:\n",
    "        if choice.lower() in ['1', 'random', 'computer based']:\n",
    "            list_ = random.sample(range(200, 300), 3)\n",
    "            print(f\"Before sorting: {list_}\")\n",
    "            print(f\"The sorted list using conditional statement is {sort_three_numbers(list_)}\")\n",
    "        elif choice.lower() in ['2', 'manual']:\n",
    "            for i in range(3):\n",
    "                list_.append(int(input(f\"Enter {i+1}th element: \")))\n",
    "            print(f\"Before sorting: {list_}\")\n",
    "            print(f\"The sorted list using conditional statement is {sort_three_numbers(list_)}\")\n",
    "        else:\n",
    "            print(\"Invalid choice. You need to enter either ['1', 'random', 'computer based', '2', 'manual']\")\n",
    "    except Exception:\n",
    "        print(\"Invalid choice. You need to enter either ['1', 'random', 'computer based', '2', 'manual']\")\n",
    "    start()\n",
    "        \n",
    "def sort_three_numbers(list_of_three):\n",
    "    num1 = list_of_three[0]\n",
    "    num2 = list_of_three[1]\n",
    "    num3 = list_of_three[2]\n",
    "    if num1 <= num2 <= num3:\n",
    "        sorted_list = [num1, num2, num3]\n",
    "    elif num1 <= num3 <= num2:\n",
    "        sorted_list = [num1, num3, num2]\n",
    "    elif num2 <= num1 <= num3:\n",
    "        sorted_list = [num2, num1, num3]\n",
    "    elif num2 <= num3 <= num1:\n",
    "        sorted_list = [num2, num3, num1]\n",
    "    elif num3 <= num1 <= num2:\n",
    "        sorted_list = [num3, num1, num2]\n",
    "    else:\n",
    "        sorted_list = [num3, num2, num1]\n",
    "    \n",
    "    return sorted_list\n",
    "        \n",
    "                \n",
    "def start():\n",
    "    print(\"Do you want to continue ? (yes/no)\")\n",
    "    choice = input()\n",
    "    while choice.lower() != 'no':\n",
    "        take_input()\n",
    "        break\n",
    "    else:\n",
    "        print(\"Dhanyavad!\")\n",
    "                \n",
    "        \n",
    "if __name__ == '__main__':\n",
    "    take_input()"
   ]
  },
  {
   "cell_type": "markdown",
   "id": "4a293af7-b4ba-42ea-b405-259e33fc4ab9",
   "metadata": {},
   "source": [
    "29. Build a program that determines the roots of a quartic equation using numerical methods."
   ]
  },
  {
   "cell_type": "raw",
   "id": "983c0111-e76f-44e6-901c-72e84aa26fae",
   "metadata": {},
   "source": [
    "Solving a quartic equation (a polynomial of degree 4) numerically is a complex task. Numerical methods, such as the Newton-Raphson method or a root-finding library like SciPy in Python\n",
    "\n",
    "In this program, we define the quartic equation as a function, provide the coefficients of the equation, and use the scipy.optimize.root function to find the roots. The initial guesses for roots are provided in the initial_guesses list.\n",
    "\n",
    "Source: ChatGPT"
   ]
  },
  {
   "cell_type": "code",
   "execution_count": 7,
   "id": "08b44af9-e446-41c4-aac6-d4a4c29ffb66",
   "metadata": {},
   "outputs": [
    {
     "name": "stdout",
     "output_type": "stream",
     "text": [
      "Root 1: 0.381966\n",
      "Root 2: 0.381966\n",
      "Root 3: 0.381966\n",
      "Root 4: 2.618034\n"
     ]
    }
   ],
   "source": [
    "import numpy as np\n",
    "from scipy.optimize import root\n",
    "\n",
    "# Define the quartic equation: ax^4 + bx^3 + cx^2 + dx + e = 0\n",
    "def quartic_equation(x, a, b, c, d, e):\n",
    "    return a * x**4 + b * x**3 + c * x**2 + d * x + e\n",
    "\n",
    "# Coefficients of the quartic equation\n",
    "a = 1\n",
    "b = -6\n",
    "c = 11\n",
    "d = -6\n",
    "e = 1\n",
    "\n",
    "# Find the roots of the quartic equation\n",
    "initial_guesses = [-2, -1, 1, 2]  # Initial guesses for roots\n",
    "roots = root(quartic_equation, initial_guesses, args=(a, b, c, d, e))\n",
    "\n",
    "# Extract and display the real roots\n",
    "real_roots = [r for r in roots.x if np.isreal(r)]\n",
    "for i, root in enumerate(real_roots):\n",
    "    print(f\"Root {i+1}: {root:.6f}\")\n"
   ]
  },
  {
   "cell_type": "markdown",
   "id": "c5e26fca-fa5f-4bf8-8057-29ab41b1cb20",
   "metadata": {},
   "source": [
    "30. Write a program that calculates the BMI (Body Mass Index) and provides health recommendations based\n",
    "on the user's input."
   ]
  },
  {
   "cell_type": "code",
   "execution_count": 10,
   "id": "85a26812-25cb-4413-b639-9ce1653a8df3",
   "metadata": {},
   "outputs": [
    {
     "name": "stdin",
     "output_type": "stream",
     "text": [
      "Please enter your First Name:  Hansa\n",
      "Hansa, Please enter your weight in kilograms:  66\n",
      "Hansa, Please enter your height in meters:  1.62\n"
     ]
    },
    {
     "name": "stdout",
     "output_type": "stream",
     "text": [
      "Hansa your BMI is: 25.15\n",
      "Hansa, as per your BMI, you are overweight. Consider adopting a healthier diet and exercise routine.\n",
      "Do you want to add another weight and height ? (yes/no)\n"
     ]
    },
    {
     "name": "stdin",
     "output_type": "stream",
     "text": [
      " yes\n",
      "Please enter your First Name:  Hansa\n",
      "Hansa, Please enter your weight in kilograms:  64\n",
      "Hansa, Please enter your height in meters:  1.62\n"
     ]
    },
    {
     "name": "stdout",
     "output_type": "stream",
     "text": [
      "Hansa your BMI is: 24.39\n",
      "Hansa, as per your BMI, you are perfectly healthy. Keep up the good work!!\n",
      "Do you want to add another weight and height ? (yes/no)\n"
     ]
    },
    {
     "name": "stdin",
     "output_type": "stream",
     "text": [
      " no\n"
     ]
    },
    {
     "name": "stdout",
     "output_type": "stream",
     "text": [
      "Stay Fit! Keep Hydrated! Eat Well! Sleep Well!\n"
     ]
    }
   ],
   "source": [
    "def bmi_calculator(weight, height):\n",
    "    return (weight/height**2)\n",
    "\n",
    "def take_input():\n",
    "    name = input(\"Please enter your First Name: \")\n",
    "    weight_kg = float(input(f\"{name}, Please enter your weight in kilograms: \"))\n",
    "    height_mtr = float(input(f\"{name}, Please enter your height in meters: \"))\n",
    "    \n",
    "    bmi = bmi_calculator(weight_kg, height_mtr)\n",
    "    \n",
    "    provide_health_recommendations(name, bmi)\n",
    "    \n",
    "    start()\n",
    "# if the end user enters string, this would raise an exception\n",
    "\n",
    "def provide_health_recommendations(name, bmi):\n",
    "    print(f\"{name} your BMI is: {bmi:.2f}\")\n",
    "    \n",
    "    if bmi < 18.5:\n",
    "        print(f\"{name}, as per your BMI, you are underweight. You should consider gaining some weight to stay healthy.!\")\n",
    "    elif bmi >= 18.5 and bmi < 25:\n",
    "        print(f\"{name}, as per your BMI, you are perfectly healthy. Keep up the good work!!\")\n",
    "    elif bmi >= 25 and bmi < 30:\n",
    "        print(f\"{name}, as per your BMI, you are overweight. Consider adopting a healthier diet and exercise routine.\")\n",
    "    else:\n",
    "        print(f\"{name}, as per your BMI, you are obese. This is not a good sign, It's essential to consult a healthcare professional for guidance.\")\n",
    "\n",
    "def start():\n",
    "    print(\"Do you want to add another weight and height ? (yes/no)\")\n",
    "    choice = input()\n",
    "    while choice.lower() != 'no':\n",
    "        take_input()\n",
    "        break\n",
    "    else:\n",
    "        print(\"Stay Fit! Keep Hydrated! Eat Well! Sleep Well!\")\n",
    "        \n",
    "if __name__ == '__main__':\n",
    "    take_input()"
   ]
  },
  {
   "cell_type": "markdown",
   "id": "bf07e9a8-a841-4524-96e1-c822e0620237",
   "metadata": {},
   "source": [
    "# Challenge Level"
   ]
  },
  {
   "cell_type": "markdown",
   "id": "12d54900-cb98-4707-ba78-220f87748091",
   "metadata": {},
   "source": [
    "31. Create a program that validates a password based on complexity rules (length, characters, etc.)."
   ]
  },
  {
   "cell_type": "code",
   "execution_count": 12,
   "id": "10a6103d-b84e-4bde-885b-78a08454eb3d",
   "metadata": {},
   "outputs": [
    {
     "name": "stdin",
     "output_type": "stream",
     "text": [
      "Enter the length of the password that you need:  8\n",
      "Do you want to include lower cases (yes/no)?:  no\n",
      "Do you want to include upper cases (yes/no)?:  yes\n",
      "Do you want to include digits (numbers) (yes/no)?:  yes\n",
      "Do you want to include special characters (yes/no)?:  no\n"
     ]
    },
    {
     "name": "stdout",
     "output_type": "stream",
     "text": [
      "Generated Password: CUBGI51Y\n"
     ]
    }
   ],
   "source": [
    "\"\"\"\n",
    "Random password generation based on length and complexity\n",
    "\"\"\"\n",
    "\n",
    "import random\n",
    "import string\n",
    "def generate_password(length, lowercase, uppercase, digits, specialcase):\n",
    "    lowercase_character = string.ascii_lowercase if lowercase.lower() == \"yes\" else \"\"\n",
    "    uppercase_character = string.ascii_uppercase if uppercase.lower() == \"yes\" else \"\"\n",
    "    digits_character = string.digits if digits.lower() == \"yes\" else \"\"\n",
    "    special_character = string.punctuation if specialcase.lower() == \"yes\" else \"\"\n",
    "    \n",
    "    all_choice = lowercase_character + uppercase_character + digits_character + special_character\n",
    "    \n",
    "    if not all_choice:\n",
    "        return \"You need atleast one of the cases for the password to be complex or strong!\"\n",
    "\n",
    "    password = [random.choice(all_choice) for _ in range(length)]\n",
    "    \n",
    "    return ''.join(password)\n",
    "\n",
    "def user_input():\n",
    "    length = int(input(\"Enter the length of the password that you need: \"))\n",
    "    if length < 8:\n",
    "        print(\"Minimum characters should be 8!\")\n",
    "    else:\n",
    "        lowercase = input(\"Do you want to include lower cases (yes/no)?: \")\n",
    "        uppercase = input(\"Do you want to include upper cases (yes/no)?: \")\n",
    "        digits = input(\"Do you want to include digits (numbers) (yes/no)?: \")\n",
    "        specialcase = input(\"Do you want to include special characters (yes/no)?: \")\n",
    "        password = generate_password(length, lowercase, uppercase, digits, specialcase)\n",
    "        print(f\"Generated Password: {password}\")\n",
    "\n",
    "\n",
    "user_input()"
   ]
  },
  {
   "cell_type": "markdown",
   "id": "cb8a030d-7916-4b9d-9527-86d8d8803dbb",
   "metadata": {},
   "source": [
    "32. Develop a program that performs matrix addition and subtraction based on user input."
   ]
  },
  {
   "cell_type": "code",
   "execution_count": 25,
   "id": "06af9f24-bf65-48fd-87ca-091ced8481ba",
   "metadata": {},
   "outputs": [
    {
     "name": "stdout",
     "output_type": "stream",
     "text": [
      "Matrix Addition and Subtraction!\n"
     ]
    },
    {
     "name": "stdin",
     "output_type": "stream",
     "text": [
      "Enter the number of rows:  3\n",
      "Enter the number of columns:  3\n"
     ]
    },
    {
     "name": "stdout",
     "output_type": "stream",
     "text": [
      "Enter the first matrix elements:\n"
     ]
    },
    {
     "name": "stdin",
     "output_type": "stream",
     "text": [
      "Enter the element at position (1, 1):  1\n",
      "Enter the element at position (1, 2):  1\n",
      "Enter the element at position (1, 3):  1\n",
      "Enter the element at position (2, 1):  1\n",
      "Enter the element at position (2, 2):  1\n",
      "Enter the element at position (2, 3):  1\n",
      "Enter the element at position (3, 1):  1\n",
      "Enter the element at position (3, 2):  1\n",
      "Enter the element at position (3, 3):  1\n"
     ]
    },
    {
     "name": "stdout",
     "output_type": "stream",
     "text": [
      "\n",
      "First Matrix: \n",
      "\n",
      "[1.0, 1.0, 1.0]\n",
      "[1.0, 1.0, 1.0]\n",
      "[1.0, 1.0, 1.0]\n",
      "\n",
      "Enter the second matrix elements:\n"
     ]
    },
    {
     "name": "stdin",
     "output_type": "stream",
     "text": [
      "Enter the element at position (1, 1):  2\n",
      "Enter the element at position (1, 2):  2\n",
      "Enter the element at position (1, 3):  2\n",
      "Enter the element at position (2, 1):  2\n",
      "Enter the element at position (2, 2):  2\n",
      "Enter the element at position (2, 3):  2\n",
      "Enter the element at position (3, 1):  2\n",
      "Enter the element at position (3, 2):  2\n",
      "Enter the element at position (3, 3):  2\n"
     ]
    },
    {
     "name": "stdout",
     "output_type": "stream",
     "text": [
      "\n",
      "Second Matrix: \n",
      "\n",
      "[2.0, 2.0, 2.0]\n",
      "[2.0, 2.0, 2.0]\n",
      "[2.0, 2.0, 2.0]\n",
      "\n",
      "Matrix Addition:\n",
      "\n",
      "[3.0, 3.0, 3.0]\n",
      "[3.0, 3.0, 3.0]\n",
      "[3.0, 3.0, 3.0]\n",
      "\n",
      "Matrix Subtraction:\n",
      "\n",
      "[-1.0, -1.0, -1.0]\n",
      "[-1.0, -1.0, -1.0]\n",
      "[-1.0, -1.0, -1.0]\n",
      "\n",
      "Do you want to try for another matrices ? (yes/no)\n"
     ]
    },
    {
     "name": "stdin",
     "output_type": "stream",
     "text": [
      " no\n"
     ]
    },
    {
     "name": "stdout",
     "output_type": "stream",
     "text": [
      "Thank You!\n"
     ]
    }
   ],
   "source": [
    "def take_input(rows, columns):\n",
    "    matrix = []\n",
    "    for i in range(rows):\n",
    "        row = []\n",
    "        for j in range(columns):\n",
    "            row.append(float(input(f\"Enter the element at position ({i+1}, {j+1}): \")))\n",
    "        matrix.append(row)\n",
    "    return matrix\n",
    "\n",
    "def print_matrix(matrix):\n",
    "    for r in matrix:\n",
    "        print(r)\n",
    "\n",
    "def user_input_matrix():\n",
    "    print(\"Matrix Addition and Subtraction!\")\n",
    "    try:\n",
    "        rows = int(input(\"Enter the number of rows: \"))\n",
    "        columns = int(input(\"Enter the number of columns: \"))\n",
    "        first_matrix = []\n",
    "        second_matrix = []\n",
    "        print(\"\\nEnter the first matrix elements:\")\n",
    "        first_matrix = take_input(rows, columns)\n",
    "        \n",
    "        print(f\"\\nFirst Matrix: \\n\")\n",
    "        print_matrix(first_matrix)\n",
    "        \n",
    "        print(\"\\nEnter the second matrix elements:\")\n",
    "        second_matrix = take_input(rows, columns)\n",
    "        \n",
    "        print(\"\\nSecond Matrix: \\n\")\n",
    "        print_matrix(second_matrix)\n",
    "        \n",
    "        addition = matrix_addition(first_matrix, second_matrix)\n",
    "        \n",
    "        subtraction = matrix_subtraction(first_matrix, second_matrix)\n",
    "        \n",
    "        print(f\"\\nMatrix Addition:\\n\")\n",
    "        \n",
    "        print_matrix(addition)\n",
    "        \n",
    "        print(f\"\\nMatrix Subtraction:\\n\")\n",
    "        \n",
    "        print_matrix(subtraction)\n",
    "        \n",
    "    except ValueError:\n",
    "        print(\"Please enter only numerical values\")\n",
    "    start()\n",
    "\n",
    "def matrix_addition(first, second):\n",
    "    add = []\n",
    "    for i in range(len(first)):\n",
    "        row = []\n",
    "        for j in range(len(first[0])):\n",
    "            row.append(first[i][j] + second[i][j])\n",
    "        add.append(row)\n",
    "    return add\n",
    "\n",
    "\n",
    "def matrix_subtraction(first, second):\n",
    "    sub = []\n",
    "    for i in range(len(first)):\n",
    "        row = []\n",
    "        for j in range(len(first[0])):\n",
    "            row.append(first[i][j] - second[i][j])\n",
    "        sub.append(row)\n",
    "    return sub\n",
    "\n",
    "def start():\n",
    "    print(\"\\nDo you want to try for another matrices ? (yes/no)\")\n",
    "    choice = input()\n",
    "    while choice.lower() != 'no':\n",
    "        user_input_matrix()\n",
    "        break\n",
    "    else:\n",
    "        print(\"Thank You!\")\n",
    "        \n",
    "if __name__ == '__main__':\n",
    "    user_input_matrix()"
   ]
  },
  {
   "cell_type": "markdown",
   "id": "bb8d97b5-184a-426a-b943-771f0da9bb7c",
   "metadata": {},
   "source": [
    "33. Write a program that calculates the greatest common divisor (GCD) of two numbers using the Euclidean\n",
    "algorithm."
   ]
  },
  {
   "cell_type": "raw",
   "id": "bdc56c46-5b10-4a95-aade-4562dc4136df",
   "metadata": {},
   "source": [
    "In mathematics, the Euclidean algorithm, or Euclid's algorithm, is an efficient method for computing the greatest common divisor of two integers, the largest number that divides them both without a remainder. It is named after the ancient Greek mathematician Euclid, who first described it in his Elements.\n",
    "\n",
    "Basic Euclidean Algorithm for GCD: \n",
    "The algorithm is based on the below facts. \n",
    "\n",
    "If we subtract a smaller number from a larger one (we reduce a larger number), GCD doesn’t change. So if we keep subtracting repeatedly the larger of two, we end up with GCD.\n",
    "Now instead of subtraction, if we divide the smaller number, the algorithm stops when we find the remainder 0."
   ]
  },
  {
   "cell_type": "code",
   "execution_count": 27,
   "id": "f0d10925-8f8a-4fc1-bae6-c16a3366af37",
   "metadata": {},
   "outputs": [
    {
     "name": "stdout",
     "output_type": "stream",
     "text": [
      "Euclidean algorithm to find the GCD\n"
     ]
    },
    {
     "name": "stdin",
     "output_type": "stream",
     "text": [
      "Enter the first number:  60\n",
      "Enter the second number:  36\n"
     ]
    },
    {
     "name": "stdout",
     "output_type": "stream",
     "text": [
      "The GCD of 60 and 36 is 12\n",
      "Do you want to try for other numbers ? (yes/no)\n"
     ]
    },
    {
     "name": "stdin",
     "output_type": "stream",
     "text": [
      " yes\n"
     ]
    },
    {
     "name": "stdout",
     "output_type": "stream",
     "text": [
      "Euclidean algorithm to find the GCD\n"
     ]
    },
    {
     "name": "stdin",
     "output_type": "stream",
     "text": [
      "Enter the first number:  36\n",
      "Enter the second number:  60\n"
     ]
    },
    {
     "name": "stdout",
     "output_type": "stream",
     "text": [
      "The GCD of 36 and 60 is 12\n",
      "Do you want to try for other numbers ? (yes/no)\n"
     ]
    },
    {
     "name": "stdin",
     "output_type": "stream",
     "text": [
      " no\n"
     ]
    },
    {
     "name": "stdout",
     "output_type": "stream",
     "text": [
      "Good!\n"
     ]
    }
   ],
   "source": [
    "def euclid_gcd(a, b):\n",
    "    if a == 0:\n",
    "        return b\n",
    "    while b:\n",
    "        a, b = b, a%b\n",
    "    return a\n",
    "\n",
    "def take_input():\n",
    "\n",
    "    print(\"Euclidean algorithm to find the GCD\")\n",
    "    try:\n",
    "        num1 = int(input(\"Enter the first number: \"))\n",
    "        num2 = int(input(\"Enter the second number: \"))\n",
    "        gcd = euclid_gcd(num1, num2)\n",
    "        print(f\"The GCD of {num1} and {num2} is {gcd}\")\n",
    "    except ValueError:\n",
    "        print(\"Please enter valid numerical positive integers\")\n",
    "    \n",
    "    start()\n",
    "\n",
    "def start():\n",
    "    print(\"Do you want to try for other numbers ? (yes/no)\")\n",
    "    choice = input()\n",
    "    while choice.lower() != 'no':\n",
    "        take_input()\n",
    "        break\n",
    "    else:\n",
    "        print(\"Thank You!\")\n",
    "\n",
    "if __name__ == '__main__':\n",
    "    take_input()"
   ]
  },
  {
   "cell_type": "markdown",
   "id": "02ea411a-b850-4bfe-a00f-a57718d4b8ac",
   "metadata": {},
   "source": [
    "34. Build a program that performs matrix multiplication using nested loops and conditional statements."
   ]
  },
  {
   "cell_type": "raw",
   "id": "5068b648-6bf1-4d7b-9586-235eed6a9a15",
   "metadata": {},
   "source": [
    "Important Point of Matrix Multiplication:\n",
    "\n",
    "1. No of columns of First Matrix == No. of rows of Second Matrix\n",
    "2. Size of Resultant Matrix depends on No. of rows of First Matrix and No. of columns of second Matrix\n",
    "\n",
    "Example 1:\n",
    "First Matrix:\n",
    "[1, 2, 3]\n",
    "[1, 2, 1]\n",
    "[3, 1, 2] ==> 3 X 3 (rows X columns)\n",
    "\n",
    "Second Matrix:\n",
    "[1, 2, 3]\n",
    "[1, 2, 1]\n",
    "[3, 1, 2] ==> 3 X 3 (rows X columns)\n",
    "\n",
    "Condition 1: no of columns of first matrix == no of rows of second matrix --> Yes it is equal (3X3)\n",
    "Contition 2: Resultant matrix = no of rows of first matrix X no of columns of second matrix (3X3)\n",
    "\n",
    "Resultant Matrix:\n",
    "[(1X1 + 1X1 + 3X3), (1X2 + 2X2 + 3X1), (1X3 + 2X1 + 3X2)]\n",
    "[(1X1 + 2X1 + 1X3), (1X2 + 2X2 + 1X1), (1X3 + 2X1 + 1X2)]\n",
    "[(3X1 + 1X1 + 2X3), (3X2 + 1X2 + 2X1), (3X3 + 1X1 + 2X2)]\n",
    "=\n",
    "[12, 9, 11]\n",
    "[6, 7, 7]\n",
    "[10, 10, 14]\n",
    "\n",
    "\n",
    "Example 2:\n",
    "First Matrix:\n",
    "[1, 2]\n",
    "[1, 2]\n",
    "[3, 1] ==> 3 X 2 (rows X columns)\n",
    "\n",
    "Second Matrix:\n",
    "[1, 2, 3]\n",
    "[1, 2, 1] ==> 2 X 3 (rows X columns)\n",
    "\n",
    "Condition 1: no of columns of first matrix == no of rows of second matrix --> Yes it is equal (2X2)\n",
    "Contition 2: Resultant matrix = no of rows of first matrix X no of columns of second matrix (3X3)\n",
    "\n",
    "Resultant Matrix:\n",
    "[(1X1 + 2X1), (1X2 + 2X2), (1X3 + 2X1)]\n",
    "[(1X1 + 2X1), (1X2 + 2X2), (1X3 + 2X1)]\n",
    "[(3X1 + 1X1), (3X2 + 1X2), (3X3 + 1X1)]\n",
    "=\n",
    "[3, 6, 5]\n",
    "[3, 6, 5]\n",
    "[4, 8, 4]"
   ]
  },
  {
   "cell_type": "code",
   "execution_count": 30,
   "id": "8eb38a0d-0c70-4abb-bd1d-cf3295cb15fa",
   "metadata": {},
   "outputs": [
    {
     "name": "stdout",
     "output_type": "stream",
     "text": [
      "Matrix Multiplication!\n"
     ]
    },
    {
     "name": "stdin",
     "output_type": "stream",
     "text": [
      "\n",
      "Enter the number of rows of first matrix:  3\n",
      "\n",
      "Enter the number of columns of first matrix:  3\n",
      "\n",
      "Enter the number of rows of second matrix:  3\n",
      "\n",
      "Enter the number of columns of second matrix:  3\n"
     ]
    },
    {
     "name": "stdout",
     "output_type": "stream",
     "text": [
      "Enter the elements of First Matrix: \n",
      "\n"
     ]
    },
    {
     "name": "stdin",
     "output_type": "stream",
     "text": [
      "Enter the element at position (1, 1) 1\n",
      "Enter the element at position (1, 2) 2\n",
      "Enter the element at position (1, 3) 3\n",
      "Enter the element at position (2, 1) 1\n",
      "Enter the element at position (2, 2) 2\n",
      "Enter the element at position (2, 3) 1\n",
      "Enter the element at position (3, 1) 3\n",
      "Enter the element at position (3, 2) 1\n",
      "Enter the element at position (3, 3) 2\n"
     ]
    },
    {
     "name": "stdout",
     "output_type": "stream",
     "text": [
      "\n",
      "First Matrix:\n",
      "\n",
      "[1.0, 2.0, 3.0]\n",
      "[1.0, 2.0, 1.0]\n",
      "[3.0, 1.0, 2.0]\n",
      "Enter the elements of Second Matrix: \n",
      "\n"
     ]
    },
    {
     "name": "stdin",
     "output_type": "stream",
     "text": [
      "Enter the element at position (1, 1) 1\n",
      "Enter the element at position (1, 2) 2\n",
      "Enter the element at position (1, 3) 3\n",
      "Enter the element at position (2, 1) 1\n",
      "Enter the element at position (2, 2) 2\n",
      "Enter the element at position (2, 3) 1\n",
      "Enter the element at position (3, 1) 3\n",
      "Enter the element at position (3, 2) 1\n",
      "Enter the element at position (3, 3) 2\n"
     ]
    },
    {
     "name": "stdout",
     "output_type": "stream",
     "text": [
      "\n",
      "Second Matrix:\n",
      "\n",
      "[1.0, 2.0, 3.0]\n",
      "[1.0, 2.0, 1.0]\n",
      "[3.0, 1.0, 2.0]\n",
      "\n",
      "Matrix Mutliplication:\n",
      "\n",
      "[12.0, 9.0, 11.0]\n",
      "[6.0, 7.0, 7.0]\n",
      "[10.0, 10.0, 14.0]\n",
      "Do you want to continue ? (yes/no)\n"
     ]
    },
    {
     "name": "stdin",
     "output_type": "stream",
     "text": [
      " yes\n"
     ]
    },
    {
     "name": "stdout",
     "output_type": "stream",
     "text": [
      "Matrix Multiplication!\n"
     ]
    },
    {
     "name": "stdin",
     "output_type": "stream",
     "text": [
      "\n",
      "Enter the number of rows of first matrix:  a\n"
     ]
    },
    {
     "name": "stdout",
     "output_type": "stream",
     "text": [
      "Please enter numerical values!\n",
      "Do you want to continue ? (yes/no)\n"
     ]
    },
    {
     "name": "stdin",
     "output_type": "stream",
     "text": [
      " no\n"
     ]
    },
    {
     "name": "stdout",
     "output_type": "stream",
     "text": [
      "Thank You!\n"
     ]
    }
   ],
   "source": [
    "def give_matrix(rows, columns):\n",
    "    matrix = []\n",
    "    for i in range(rows):\n",
    "        row = []\n",
    "        for j in range(columns):\n",
    "            row.append(float(input(f\"Enter the element at position ({i+1}, {j+1})\")))\n",
    "        matrix.append(row)\n",
    "    return matrix\n",
    "\n",
    "def print_matrix(matrix):\n",
    "    for row in matrix:\n",
    "        print(row)\n",
    "\n",
    "def matrix_multiplication(first, second):\n",
    "    matrix = []\n",
    "    \n",
    "    for i in range(len(first)):\n",
    "        row = []\n",
    "        for j in range(len(first[0])):\n",
    "            element = 0\n",
    "            for k in range(len(second[0])):\n",
    "                element += first[i][k] * second[k][j]\n",
    "            row.append(element)\n",
    "        matrix.append(row)\n",
    "    return matrix\n",
    "        \n",
    "        \n",
    "def take_user_input():\n",
    "    print(\"Matrix Multiplication!\")\n",
    "    \n",
    "    try:\n",
    "        row1 = int(input(\"\\nEnter the number of rows of first matrix: \"))\n",
    "        col1 = int(input(\"\\nEnter the number of columns of first matrix: \"))\n",
    "        \n",
    "        row2 = int(input(\"\\nEnter the number of rows of second matrix: \"))\n",
    "        col2 = int(input(\"\\nEnter the number of columns of second matrix: \"))\n",
    "        \n",
    "        if col1 == row2:\n",
    "            print(\"Enter the elements of First Matrix: \\n\")\n",
    "            first_matrix = give_matrix(row1, col1)\n",
    "            print(\"\\nFirst Matrix:\\n\")\n",
    "            print_matrix(first_matrix)\n",
    "            \n",
    "            \n",
    "            print(\"Enter the elements of Second Matrix: \\n\")\n",
    "            second_matrix = give_matrix(row2, col2)\n",
    "            print(\"\\nSecond Matrix:\\n\")\n",
    "            print_matrix(second_matrix)\n",
    "            \n",
    "            multiplication = matrix_multiplication(first_matrix, second_matrix)\n",
    "            \n",
    "            print(f\"\\nMatrix Mutliplication:\\n\")\n",
    "            print_matrix(multiplication)\n",
    "        else:\n",
    "            print(\"Column of First Matrix must be equal to Row of Second Matrix!!\")\n",
    "            \n",
    "    except ValueError:\n",
    "        print(\"Please enter numerical values!\")\n",
    "    start()\n",
    "\n",
    "def start():\n",
    "    print(\"Do you want to continue ? (yes/no)\")\n",
    "    choice = input()\n",
    "    while choice.lower() != 'no':\n",
    "        take_user_input()\n",
    "        break\n",
    "    else:\n",
    "        print(\"Thank You!\")\n",
    "        \n",
    "if __name__ == '__main__':\n",
    "    take_user_input()"
   ]
  },
  {
   "cell_type": "markdown",
   "id": "60ffe087-dd53-40d8-b0e4-4d1359a9b08f",
   "metadata": {},
   "source": [
    "35. Create a program that simulates a basic text-based tic-tac-toe game against the computer."
   ]
  },
  {
   "cell_type": "raw",
   "id": "1465eb73-b983-492f-8293-29e372fb565e",
   "metadata": {},
   "source": [
    "Source -> ChatGPT"
   ]
  },
  {
   "cell_type": "code",
   "execution_count": 34,
   "id": "abacee8c-1e6d-4ba4-bfc9-3c1e3ed80aab",
   "metadata": {},
   "outputs": [
    {
     "name": "stdout",
     "output_type": "stream",
     "text": [
      " | | \n",
      "-----\n",
      " | | \n",
      "-----\n",
      " | | \n",
      "-----\n",
      "Player X's turn\n"
     ]
    },
    {
     "name": "stdin",
     "output_type": "stream",
     "text": [
      "Enter row (0, 1, or 2):  0\n",
      "Enter column (0, 1, or 2):  1\n"
     ]
    },
    {
     "name": "stdout",
     "output_type": "stream",
     "text": [
      " |X| \n",
      "-----\n",
      " | | \n",
      "-----\n",
      " | | \n",
      "-----\n",
      "Player O's turn\n"
     ]
    },
    {
     "name": "stdin",
     "output_type": "stream",
     "text": [
      "Enter row (0, 1, or 2):  1\n",
      "Enter column (0, 1, or 2):  1\n"
     ]
    },
    {
     "name": "stdout",
     "output_type": "stream",
     "text": [
      " |X| \n",
      "-----\n",
      " |O| \n",
      "-----\n",
      " | | \n",
      "-----\n",
      "Player X's turn\n"
     ]
    },
    {
     "name": "stdin",
     "output_type": "stream",
     "text": [
      "Enter row (0, 1, or 2):  0\n",
      "Enter column (0, 1, or 2):  0\n"
     ]
    },
    {
     "name": "stdout",
     "output_type": "stream",
     "text": [
      "X|X| \n",
      "-----\n",
      " |O| \n",
      "-----\n",
      " | | \n",
      "-----\n",
      "Player O's turn\n"
     ]
    },
    {
     "name": "stdin",
     "output_type": "stream",
     "text": [
      "Enter row (0, 1, or 2):  0\n",
      "Enter column (0, 1, or 2):  2\n"
     ]
    },
    {
     "name": "stdout",
     "output_type": "stream",
     "text": [
      "X|X|O\n",
      "-----\n",
      " |O| \n",
      "-----\n",
      " | | \n",
      "-----\n",
      "Player X's turn\n"
     ]
    },
    {
     "name": "stdin",
     "output_type": "stream",
     "text": [
      "Enter row (0, 1, or 2):  2\n",
      "Enter column (0, 1, or 2):  0\n"
     ]
    },
    {
     "name": "stdout",
     "output_type": "stream",
     "text": [
      "X|X|O\n",
      "-----\n",
      " |O| \n",
      "-----\n",
      "X| | \n",
      "-----\n",
      "Player O's turn\n"
     ]
    },
    {
     "name": "stdin",
     "output_type": "stream",
     "text": [
      "Enter row (0, 1, or 2):  2\n",
      "Enter column (0, 1, or 2):  2\n"
     ]
    },
    {
     "name": "stdout",
     "output_type": "stream",
     "text": [
      "X|X|O\n",
      "-----\n",
      " |O| \n",
      "-----\n",
      "X| |O\n",
      "-----\n",
      "Player X's turn\n"
     ]
    },
    {
     "name": "stdin",
     "output_type": "stream",
     "text": [
      "Enter row (0, 1, or 2):  1\n",
      "Enter column (0, 1, or 2):  0\n"
     ]
    },
    {
     "name": "stdout",
     "output_type": "stream",
     "text": [
      "X|X|O\n",
      "-----\n",
      "X|O| \n",
      "-----\n",
      "X| |O\n",
      "-----\n",
      "Player X wins!\n"
     ]
    }
   ],
   "source": [
    "# Initialize the Tic-Tac-Toe board\n",
    "board = [[\" \" for _ in range(3)] for _ in range(3)]\n",
    "current_player = \"X\"\n",
    "\n",
    "# Function to print the Tic-Tac-Toe board\n",
    "def print_board():\n",
    "    for row in board:\n",
    "        print(\"|\".join(row))\n",
    "        print(\"-\" * 5)\n",
    "\n",
    "# Function to check if a player has won\n",
    "def check_win(player):\n",
    "    # Check rows, columns, and diagonals\n",
    "    for i in range(3):\n",
    "        if all(board[i][j] == player for j in range(3)) or all(board[j][i] == player for j in range(3)):\n",
    "            return True\n",
    "    if all(board[i][i] == player for i in range(3)) or all(board[i][2 - i] == player for i in range(3)):\n",
    "        return True\n",
    "    return False\n",
    "\n",
    "# Function to check if the board is full (a draw)\n",
    "def check_draw():\n",
    "    return all(board[i][j] != \" \" for i in range(3) for j in range(3))\n",
    "\n",
    "# Main game loop\n",
    "while True:\n",
    "    print_board()\n",
    "    print(f\"Player {current_player}'s turn\")\n",
    "    \n",
    "    # Get the player's move\n",
    "    while True:\n",
    "        try:\n",
    "            row = int(input(\"Enter row (0, 1, or 2): \"))\n",
    "            col = int(input(\"Enter column (0, 1, or 2): \"))\n",
    "            if board[row][col] == \" \":\n",
    "                break\n",
    "            else:\n",
    "                print(\"That cell is already occupied. Try again.\")\n",
    "        except (ValueError, IndexError):\n",
    "            print(\"Invalid input. Enter row and column as numbers between 0 and 2.\")\n",
    "\n",
    "    # Update the board with the player's move\n",
    "    board[row][col] = current_player\n",
    "\n",
    "    # Check for a win or a draw\n",
    "    if check_win(current_player):\n",
    "        print_board()\n",
    "        print(f\"Player {current_player} wins!\")\n",
    "        break\n",
    "    elif check_draw():\n",
    "        print_board()\n",
    "        print(\"It's a draw!\")\n",
    "        break\n",
    "\n",
    "    # Switch to the other player\n",
    "    current_player = \"X\" if current_player == \"O\" else \"O\"\n"
   ]
  },
  {
   "cell_type": "markdown",
   "id": "60e0bfcc-b066-4e5e-9a67-a1a3b50291de",
   "metadata": {},
   "source": [
    "36. Write a program that generates Fibonacci numbers up to a specified term using iterative methods."
   ]
  },
  {
   "cell_type": "code",
   "execution_count": 35,
   "id": "19ebf255-7510-46e0-82a7-cf434ac563ff",
   "metadata": {},
   "outputs": [
    {
     "name": "stdin",
     "output_type": "stream",
     "text": [
      "Enter the term up to which you want to generate Fibonacci numbers:  10\n"
     ]
    },
    {
     "name": "stdout",
     "output_type": "stream",
     "text": [
      "Fibonacci sequence up to term 10 : [0, 1, 1, 2, 3, 5, 8]\n"
     ]
    }
   ],
   "source": [
    "def generate_fibonacci(num):\n",
    "    fibo = []\n",
    "    a, b = 0, 1\n",
    "    while a <= n:\n",
    "        fibo.append(a)\n",
    "        a, b = b, a+b\n",
    "    return fibo\n",
    "\n",
    "n = int(input(\"Enter the term up to which you want to generate Fibonacci numbers: \"))\n",
    "print(\"Fibonacci sequence up to term\", n, \":\", generate_fibonacci(n))"
   ]
  },
  {
   "cell_type": "markdown",
   "id": "2f7da952-0024-454f-b7c4-584ed1ed99fc",
   "metadata": {},
   "source": [
    "37. Develop a program that calculates the nth term of the Fibonacci sequence using memoization."
   ]
  },
  {
   "cell_type": "raw",
   "id": "bc835e22-8fe8-40e1-bef9-f2fc5a0da159",
   "metadata": {},
   "source": [
    "You can calculate the nth term of the Fibonacci sequence efficiently using memoization, which involves storing previously computed Fibonacci numbers to avoid redundant calculations.\n",
    "\n",
    "We use a dictionary called fib_cache to store previously computed Fibonacci numbers.\n",
    "\n",
    "The fibonacci(n) function first checks if the result for n is already in the cache. If it is, it returns the cached result.\n",
    "\n",
    "The function handles the base cases for n equal to 0 and 1 (Fibonacci of 0 is 0, and Fibonacci of 1 is 1).\n",
    "\n",
    "For other values of n, it recursively calculates the nth Fibonacci number by adding the (n-1)th and (n-2)th Fibonacci numbers.\n",
    "\n",
    "The result is stored in the cache and returned.\n",
    "\n",
    "By using memoization, this program can efficiently calculate large Fibonacci numbers without redundant calculations."
   ]
  },
  {
   "cell_type": "code",
   "execution_count": 47,
   "id": "9dadeaf2-9648-43e9-8ebf-3febed37b8c7",
   "metadata": {},
   "outputs": [
    {
     "name": "stdin",
     "output_type": "stream",
     "text": [
      "Enter the value of n:  5\n"
     ]
    },
    {
     "name": "stdout",
     "output_type": "stream",
     "text": [
      "The 5th Fibonacci term is: 5\n"
     ]
    }
   ],
   "source": [
    "fibo_cache = {}\n",
    "\n",
    "def fibonacci(n):\n",
    "    if n in fibo_cache:\n",
    "        return fibo_cache[n]\n",
    "    \n",
    "    if n == 0:\n",
    "        result = 0\n",
    "    elif n == 1:\n",
    "        result = 1\n",
    "    else:\n",
    "        result = fibonacci(n-1) + fibonacci(n-2)\n",
    "    \n",
    "    fibo_cache[n] = result\n",
    "    return result\n",
    "\n",
    "n = int(input(\"Enter the value of n: \"))\n",
    "\n",
    "# Calculate and display the nth Fibonacci term\n",
    "result = fibonacci(n)\n",
    "print(f\"The {n}th Fibonacci term is: {result}\")"
   ]
  },
  {
   "cell_type": "markdown",
   "id": "72b79907-9ae8-410a-95f3-4caa7b93acbe",
   "metadata": {},
   "source": [
    "38. Create a program that generates a calendar for a given month and year using conditional statements."
   ]
  },
  {
   "cell_type": "code",
   "execution_count": 48,
   "id": "eb3db277-9130-45fe-867e-571d1376850e",
   "metadata": {},
   "outputs": [
    {
     "name": "stdin",
     "output_type": "stream",
     "text": [
      "Enter the year:  2022\n",
      "Enter the month (1 to 12):  10\n"
     ]
    },
    {
     "name": "stdout",
     "output_type": "stream",
     "text": [
      "Calendar for October 2022:\n",
      "\n",
      "    October 2022\n",
      "Mo Tu We Th Fr Sa Su\n",
      "                1  2\n",
      " 3  4  5  6  7  8  9\n",
      "10 11 12 13 14 15 16\n",
      "17 18 19 20 21 22 23\n",
      "24 25 26 27 28 29 30\n",
      "31\n",
      "\n"
     ]
    }
   ],
   "source": [
    "import calendar\n",
    "\n",
    "year = int(input(\"Enter the year: \"))\n",
    "month = int(input(\"Enter the month (1 to 12): \"))\n",
    "\n",
    "if 1 <= month <= 12:\n",
    "    cal = calendar.month(year, month)\n",
    "    print(f\"Calendar for {calendar.month_name[month]} {year}:\\n\")\n",
    "    print(cal)\n",
    "else:\n",
    "    print(\"Invalid month. Please enter a month between 1 and 12.\")"
   ]
  },
  {
   "cell_type": "markdown",
   "id": "7f3a22b8-87a7-472e-8d77-0a7fa860fb0b",
   "metadata": {},
   "source": [
    "39. Build a program that simulates a basic text-based blackjack game against the computer."
   ]
  },
  {
   "cell_type": "raw",
   "id": "a35948be-653c-45eb-8e7d-92d233f0ff6f",
   "metadata": {},
   "source": [
    "source -> ChatGPT"
   ]
  },
  {
   "cell_type": "code",
   "execution_count": 54,
   "id": "7d420227-bd7a-4dac-a833-0fccc487cf87",
   "metadata": {},
   "outputs": [
    {
     "name": "stdout",
     "output_type": "stream",
     "text": [
      "Your's hand:\n",
      "Five of Spades\n",
      "Ten of Diamonds\n",
      "Total Value: 15\n",
      "\n"
     ]
    },
    {
     "name": "stdin",
     "output_type": "stream",
     "text": [
      "Do you want to Hit or Stand?  Hit\n"
     ]
    },
    {
     "name": "stdout",
     "output_type": "stream",
     "text": [
      "Your's hand:\n",
      "Five of Spades\n",
      "Ten of Diamonds\n",
      "Four of Spades\n",
      "Total Value: 19\n",
      "\n"
     ]
    },
    {
     "name": "stdin",
     "output_type": "stream",
     "text": [
      "Do you want to Hit or Stand?  Stand\n"
     ]
    },
    {
     "name": "stdout",
     "output_type": "stream",
     "text": [
      "Computer's hand:\n",
      "Three of Hearts\n",
      "Ace of Clubs\n",
      "Three of Spades\n",
      "Total Value: 17\n",
      "\n",
      "You win!\n"
     ]
    }
   ],
   "source": [
    "import random\n",
    "\n",
    "# Function to initialize the deck\n",
    "def initialize_deck():\n",
    "    ranks = ['Two', 'Three', 'Four', 'Five', 'Six', 'Seven', 'Eight', 'Nine', 'Ten', 'Jack', 'Queen', 'King', 'Ace']\n",
    "    suits = ['Hearts', 'Diamonds', 'Clubs', 'Spades']\n",
    "    deck = [{'rank': rank, 'suit': suit} for rank in ranks for suit in suits]\n",
    "    random.shuffle(deck)\n",
    "    return deck\n",
    "\n",
    "# Dictionary to map card ranks to their respective values\n",
    "rank_values = {\n",
    "    'Two': 2, 'Three': 3, 'Four': 4, 'Five': 5, 'Six': 6, 'Seven': 7, 'Eight': 8, 'Nine': 9, 'Ten': 10,\n",
    "    'Jack': 10, 'Queen': 10, 'King': 10, 'Ace': 11\n",
    "}\n",
    "\n",
    "# Function to calculate the value of a hand\n",
    "def calculate_hand_value(hand):\n",
    "    value = 0\n",
    "    num_aces = 0\n",
    "    for card in hand:\n",
    "        rank = card['rank']\n",
    "        value += rank_values[rank]\n",
    "        if rank == 'Ace':\n",
    "            num_aces += 1\n",
    "\n",
    "    # Adjust for aces\n",
    "    while value > 21 and num_aces > 0:\n",
    "        value -= 10\n",
    "        num_aces -= 1\n",
    "\n",
    "    return value\n",
    "\n",
    "# Function to display a player's hand\n",
    "def display_hand(player_name, hand):\n",
    "    print(f\"{player_name}'s hand:\")\n",
    "    for card in hand:\n",
    "        print(f\"{card['rank']} of {card['suit']}\")\n",
    "    print(f\"Total Value: {calculate_hand_value(hand)}\\n\")\n",
    "\n",
    "# Initialize the deck and deal initial cards\n",
    "deck = initialize_deck()\n",
    "player_hand = [deck.pop(), deck.pop()]\n",
    "computer_hand = [deck.pop(), deck.pop()]\n",
    "\n",
    "# Main game loop\n",
    "while True:\n",
    "    display_hand(\"Your\", player_hand)\n",
    "\n",
    "    # Check for player bust\n",
    "    if calculate_hand_value(player_hand) > 21:\n",
    "        print(\"You busted! Computer wins.\")\n",
    "        break\n",
    "\n",
    "    # Ask the player to hit or stand\n",
    "    choice = input(\"Do you want to Hit or Stand? \").strip().lower()\n",
    "\n",
    "    if choice == 'hit':\n",
    "        player_hand.append(deck.pop())\n",
    "    elif choice == 'stand':\n",
    "        # Computer's turn\n",
    "        while calculate_hand_value(computer_hand) < 17:\n",
    "            computer_hand.append(deck.pop())\n",
    "        \n",
    "        display_hand(\"Computer\", computer_hand)\n",
    "\n",
    "        # Determine the winner\n",
    "        if calculate_hand_value(computer_hand) > 21:\n",
    "            print(\"Computer busted! You win.\")\n",
    "        elif calculate_hand_value(computer_hand) >= calculate_hand_value(player_hand):\n",
    "            print(\"Computer wins.\")\n",
    "        else:\n",
    "            print(\"You win!\")\n",
    "        \n",
    "        break\n",
    "    else:\n",
    "        print(\"Invalid choice. Please enter 'Hit' or 'Stand'.\")\n"
   ]
  },
  {
   "cell_type": "markdown",
   "id": "2bb251c4-00e2-4bbf-97f6-2c4678c62bc8",
   "metadata": {},
   "source": [
    "40. Write a program that generates the prime factors of a given number using trial division."
   ]
  },
  {
   "cell_type": "raw",
   "id": "847e1a36-4b25-4747-94f7-ca23b873ef38",
   "metadata": {},
   "source": [
    "Trial division is the most laborious but easiest to understand of the integer factorization algorithms. The essential idea behind trial division tests to see if an integer n, the integer to be factored, can be divided by each number in turn that is less than n. For example, for the integer n = 12, the only numbers that divide it are 1, 2, 3, 4, 6, 12. Selecting only the largest powers of primes in this list gives that 12 = 3 × 4 = 3 × 2**2."
   ]
  },
  {
   "cell_type": "code",
   "execution_count": 65,
   "id": "81fd121a-9a2a-4555-9365-8fdc4d106aa9",
   "metadata": {},
   "outputs": [
    {
     "name": "stdin",
     "output_type": "stream",
     "text": [
      "Enter a number to find its prime factors:  97\n"
     ]
    },
    {
     "name": "stdout",
     "output_type": "stream",
     "text": [
      "97 is a prime number.\n"
     ]
    }
   ],
   "source": [
    "def prime_factors(n):\n",
    "    factors = []\n",
    "    divisor = 2\n",
    "    \n",
    "    while divisor <= n:\n",
    "        if n % divisor == 0:\n",
    "            factors.append(divisor)\n",
    "            n = n // divisor\n",
    "        else:\n",
    "            divisor = divisor + 1\n",
    "    return factors\n",
    "\n",
    "num = int(input(\"Enter a number to find its prime factors: \"))\n",
    "\n",
    "if num <= 1:\n",
    "    print(\"Prime factors are not defined for numbers less than or equal to 1.\")\n",
    "else:\n",
    "    factors = prime_factors(num)\n",
    "    if len(factors) == 1:\n",
    "        print(f\"{num} is a prime number.\")\n",
    "    else:\n",
    "        print(f\"Prime factors of {num}: {list(set(factors))}\")"
   ]
  }
 ],
 "metadata": {
  "kernelspec": {
   "display_name": "Python 3 (ipykernel)",
   "language": "python",
   "name": "python3"
  },
  "language_info": {
   "codemirror_mode": {
    "name": "ipython",
    "version": 3
   },
   "file_extension": ".py",
   "mimetype": "text/x-python",
   "name": "python",
   "nbconvert_exporter": "python",
   "pygments_lexer": "ipython3",
   "version": "3.10.8"
  }
 },
 "nbformat": 4,
 "nbformat_minor": 5
}
