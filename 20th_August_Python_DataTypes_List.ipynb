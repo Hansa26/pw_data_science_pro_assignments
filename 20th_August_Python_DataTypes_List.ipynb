{
 "cells": [
  {
   "cell_type": "markdown",
   "id": "eeb7312c-156e-4fe7-bfee-810ba8257d42",
   "metadata": {},
   "source": [
    "# List Based Practice Problem :"
   ]
  },
  {
   "cell_type": "markdown",
   "id": "ecb670c4-2aef-4d41-b10c-65e8ea5625b0",
   "metadata": {},
   "source": [
    "1. Create a list with integers from 1 to 10."
   ]
  },
  {
   "cell_type": "code",
   "execution_count": 1,
   "id": "c83e305a-832f-4399-bdec-1ed98cc7c94c",
   "metadata": {},
   "outputs": [],
   "source": [
    "list1 = [1, 2, 3, 4, 5, 6, 7, 8, 9, 10]"
   ]
  },
  {
   "cell_type": "markdown",
   "id": "81c42323-25e1-40b5-bef9-40f5c125e007",
   "metadata": {},
   "source": [
    "2. Find the length of a list without using the `len()` function."
   ]
  },
  {
   "cell_type": "code",
   "execution_count": 2,
   "id": "2302b774-b69d-4c70-b965-f9b0ab0780d0",
   "metadata": {},
   "outputs": [
    {
     "name": "stdout",
     "output_type": "stream",
     "text": [
      "The length of the list is: 10\n"
     ]
    }
   ],
   "source": [
    "count = 0\n",
    "for i in list1:\n",
    "    count += 1\n",
    "    \n",
    "print(f\"The length of the list is: {count}\")"
   ]
  },
  {
   "cell_type": "markdown",
   "id": "d4c7632f-4d3c-4db6-b99d-02e3dede0566",
   "metadata": {},
   "source": [
    "3. Append an element to the end of a list."
   ]
  },
  {
   "cell_type": "code",
   "execution_count": 4,
   "id": "22044802-f215-44b5-b0e6-24707202a60f",
   "metadata": {},
   "outputs": [
    {
     "data": {
      "text/plain": [
       "[1, 2, 3, 4, 5, 6, 7, 8, 9, 10, 20, 20]"
      ]
     },
     "execution_count": 4,
     "metadata": {},
     "output_type": "execute_result"
    }
   ],
   "source": [
    "list1.append(20)\n",
    "list1"
   ]
  },
  {
   "cell_type": "markdown",
   "id": "0fd6e26c-fc12-4646-ac05-a78050596c97",
   "metadata": {},
   "source": [
    "4. Insert an element at a specific index in a list."
   ]
  },
  {
   "cell_type": "code",
   "execution_count": 6,
   "id": "bf660dce-4201-41c5-b87a-529f845392d1",
   "metadata": {},
   "outputs": [
    {
     "data": {
      "text/plain": [
       "[1, 2, 3, 21, 4, 5, 6, 7, 8, 9, 10, 20, 20, 3]"
      ]
     },
     "execution_count": 6,
     "metadata": {},
     "output_type": "execute_result"
    }
   ],
   "source": [
    "list1.insert(3, 21)\n",
    "list1"
   ]
  },
  {
   "cell_type": "markdown",
   "id": "43860e03-3680-4ce6-a097-2b0bcd14845b",
   "metadata": {},
   "source": [
    "5. Remove an element from a list by its value."
   ]
  },
  {
   "cell_type": "code",
   "execution_count": 9,
   "id": "6f2e224f-7f3b-4fc9-9876-7668873be49a",
   "metadata": {},
   "outputs": [],
   "source": [
    "list1.remove(20)"
   ]
  },
  {
   "cell_type": "code",
   "execution_count": 10,
   "id": "85e24698-6228-40a1-b48f-3fcf7356b51f",
   "metadata": {},
   "outputs": [
    {
     "data": {
      "text/plain": [
       "[1, 2, 3, 21, 4, 5, 6, 7, 8, 9, 10, 3]"
      ]
     },
     "execution_count": 10,
     "metadata": {},
     "output_type": "execute_result"
    }
   ],
   "source": [
    "list1"
   ]
  },
  {
   "cell_type": "markdown",
   "id": "d6bdce1e-f022-4666-8d2c-e74deef64c09",
   "metadata": {},
   "source": [
    "6. Remove an element from a list by its index."
   ]
  },
  {
   "cell_type": "code",
   "execution_count": 12,
   "id": "9ce34f88-9192-43a5-ac48-7e9045367156",
   "metadata": {},
   "outputs": [
    {
     "data": {
      "text/plain": [
       "[1, 2, 3, 21, 6, 7, 8, 9, 10, 3]"
      ]
     },
     "execution_count": 12,
     "metadata": {},
     "output_type": "execute_result"
    }
   ],
   "source": [
    "list1.pop(4)\n",
    "list1"
   ]
  },
  {
   "cell_type": "markdown",
   "id": "3fb487d9-3f94-4ebb-997f-4cfb76e702de",
   "metadata": {},
   "source": [
    "7. Check if an element exists in a list."
   ]
  },
  {
   "cell_type": "code",
   "execution_count": 13,
   "id": "d2f1a8ca-da43-4090-b9ad-258b2050e006",
   "metadata": {},
   "outputs": [
    {
     "data": {
      "text/plain": [
       "True"
      ]
     },
     "execution_count": 13,
     "metadata": {},
     "output_type": "execute_result"
    }
   ],
   "source": [
    "10 in list1"
   ]
  },
  {
   "cell_type": "markdown",
   "id": "1e449448-5c03-44f9-8d05-2579220c76cb",
   "metadata": {},
   "source": [
    "8. Find the index of the first occurrence of an element in a list."
   ]
  },
  {
   "cell_type": "code",
   "execution_count": 14,
   "id": "1007e0e5-9e13-47f1-81b2-960e8873ec88",
   "metadata": {},
   "outputs": [
    {
     "data": {
      "text/plain": [
       "2"
      ]
     },
     "execution_count": 14,
     "metadata": {},
     "output_type": "execute_result"
    }
   ],
   "source": [
    "list1.index(3)"
   ]
  },
  {
   "cell_type": "markdown",
   "id": "a9601dce-14de-42a1-9a5a-e326dca018a3",
   "metadata": {},
   "source": [
    "9. Count the occurrences of an element in a list."
   ]
  },
  {
   "cell_type": "code",
   "execution_count": 18,
   "id": "85b85a5c-996c-4c6e-ad5d-7396344c751f",
   "metadata": {},
   "outputs": [
    {
     "name": "stdout",
     "output_type": "stream",
     "text": [
      "The occurrences of an element in a list is: \n",
      "{1: 1, 2: 1, 3: 2, 21: 1, 6: 1, 7: 1, 8: 1, 9: 1, 10: 1}\n"
     ]
    }
   ],
   "source": [
    "num = {}\n",
    "for i in list1:\n",
    "    if i in num:\n",
    "        num[i] += 1\n",
    "    else:\n",
    "        num[i] = 1\n",
    "\n",
    "print(f\"The occurrences of an element in a list is: \\n{num}\")"
   ]
  },
  {
   "cell_type": "markdown",
   "id": "e336ceae-b0dc-4d90-ad27-2ab8cabf58aa",
   "metadata": {},
   "source": [
    "10. Reverse the order of elements in a list."
   ]
  },
  {
   "cell_type": "code",
   "execution_count": 19,
   "id": "07928b7a-f02d-4501-8dee-d2d0f48779e7",
   "metadata": {},
   "outputs": [
    {
     "data": {
      "text/plain": [
       "[3, 10, 9, 8, 7, 6, 21, 3, 2, 1]"
      ]
     },
     "execution_count": 19,
     "metadata": {},
     "output_type": "execute_result"
    }
   ],
   "source": [
    "list1[::-1]"
   ]
  },
  {
   "cell_type": "markdown",
   "id": "6520012b-b40b-42e1-9c07-e2b5626412eb",
   "metadata": {},
   "source": [
    "11. Sort a list in ascending order."
   ]
  },
  {
   "cell_type": "code",
   "execution_count": 21,
   "id": "cbe911ad-6299-466f-b5eb-eaddffb1d96e",
   "metadata": {},
   "outputs": [
    {
     "data": {
      "text/plain": [
       "[1, 2, 3, 3, 6, 7, 8, 9, 10, 21]"
      ]
     },
     "execution_count": 21,
     "metadata": {},
     "output_type": "execute_result"
    }
   ],
   "source": [
    "list1.sort()\n",
    "list1"
   ]
  },
  {
   "cell_type": "markdown",
   "id": "4837e02a-a8b8-4eb7-9016-36eeceecb877",
   "metadata": {},
   "source": [
    "12. Sort a list in descending order."
   ]
  },
  {
   "cell_type": "code",
   "execution_count": 22,
   "id": "b4c3973e-83fa-4836-918e-ca394efb0c8f",
   "metadata": {},
   "outputs": [
    {
     "data": {
      "text/plain": [
       "[21, 10, 9, 8, 7, 6, 3, 3, 2, 1]"
      ]
     },
     "execution_count": 22,
     "metadata": {},
     "output_type": "execute_result"
    }
   ],
   "source": [
    "list1.sort(reverse=True)\n",
    "list1"
   ]
  },
  {
   "cell_type": "markdown",
   "id": "6e336f7b-ee08-4d65-b0cd-bce6ad124cbb",
   "metadata": {},
   "source": [
    "13. Create a list of even numbers from 1 to 20."
   ]
  },
  {
   "cell_type": "code",
   "execution_count": 23,
   "id": "3b18e432-a92d-48f1-b4b7-cc7d5045dd35",
   "metadata": {},
   "outputs": [
    {
     "data": {
      "text/plain": [
       "[2, 4, 6, 8, 10, 12, 14, 16, 18, 20]"
      ]
     },
     "execution_count": 23,
     "metadata": {},
     "output_type": "execute_result"
    }
   ],
   "source": [
    "list2 = [i for i in range(1, 21) if i % 2 == 0]\n",
    "list2"
   ]
  },
  {
   "cell_type": "markdown",
   "id": "9c72b676-f777-4e0a-b3e1-6131af503de2",
   "metadata": {},
   "source": [
    "14. Create a list of odd numbers from 1 to 20."
   ]
  },
  {
   "cell_type": "code",
   "execution_count": 61,
   "id": "a0418ed9-fdb0-409d-988e-b2cb720c373c",
   "metadata": {},
   "outputs": [
    {
     "data": {
      "text/plain": [
       "[1, 3, 5, 7, 9, 11, 13, 15, 17, 19]"
      ]
     },
     "execution_count": 61,
     "metadata": {},
     "output_type": "execute_result"
    }
   ],
   "source": [
    "list3 = [i for i in range(1, 21) if i % 2 != 0]\n",
    "list3"
   ]
  },
  {
   "cell_type": "markdown",
   "id": "190757e2-cbc2-4c59-b26a-b63e6bd7453f",
   "metadata": {},
   "source": [
    "15. Find the sum of all elements in a list."
   ]
  },
  {
   "cell_type": "code",
   "execution_count": 25,
   "id": "173fbd96-e6ab-48ba-b1e3-e92a5d69b7d5",
   "metadata": {},
   "outputs": [
    {
     "data": {
      "text/plain": [
       "70"
      ]
     },
     "execution_count": 25,
     "metadata": {},
     "output_type": "execute_result"
    }
   ],
   "source": [
    "sum(list1)"
   ]
  },
  {
   "cell_type": "markdown",
   "id": "2f3521ec-83ae-4e77-bb99-6af44da8707c",
   "metadata": {},
   "source": [
    "16. Find the maximum value in a list."
   ]
  },
  {
   "cell_type": "code",
   "execution_count": 26,
   "id": "5ba4f78e-5073-4443-91c8-9cbbb93646b5",
   "metadata": {},
   "outputs": [
    {
     "data": {
      "text/plain": [
       "21"
      ]
     },
     "execution_count": 26,
     "metadata": {},
     "output_type": "execute_result"
    }
   ],
   "source": [
    "max(list1)"
   ]
  },
  {
   "cell_type": "markdown",
   "id": "bc14ea7d-9454-4cd2-a96e-48cd0d544935",
   "metadata": {},
   "source": [
    "17. Find the minimum value in a list."
   ]
  },
  {
   "cell_type": "code",
   "execution_count": 27,
   "id": "67261761-d4ab-4dbb-8f28-d23b020cc828",
   "metadata": {},
   "outputs": [
    {
     "data": {
      "text/plain": [
       "1"
      ]
     },
     "execution_count": 27,
     "metadata": {},
     "output_type": "execute_result"
    }
   ],
   "source": [
    "min(list1)"
   ]
  },
  {
   "cell_type": "markdown",
   "id": "05b6b342-899e-474b-8c86-cbf7a65206da",
   "metadata": {},
   "source": [
    "18. Create a list of squares of numbers from 1 to 10."
   ]
  },
  {
   "cell_type": "code",
   "execution_count": 29,
   "id": "ba43acb3-febf-4db0-b486-f530fdc37133",
   "metadata": {},
   "outputs": [
    {
     "data": {
      "text/plain": [
       "[1, 4, 9, 16, 25, 36, 49, 64, 81, 100]"
      ]
     },
     "execution_count": 29,
     "metadata": {},
     "output_type": "execute_result"
    }
   ],
   "source": [
    "list18 = [num**2 for num in range(1, 11)]\n",
    "list18"
   ]
  },
  {
   "cell_type": "markdown",
   "id": "67765fed-60f5-4a70-a1a8-a555cbd2081a",
   "metadata": {},
   "source": [
    "19. Create a list of random numbers."
   ]
  },
  {
   "cell_type": "code",
   "execution_count": 33,
   "id": "8235dacb-5a4e-4371-9a1f-9caf23da60e7",
   "metadata": {},
   "outputs": [
    {
     "name": "stdin",
     "output_type": "stream",
     "text": [
      "Enter the number of random integers that you want:  20\n"
     ]
    },
    {
     "data": {
      "text/plain": [
       "[9, 5, 6, 2, 8, 6, 9, 1, 8, 7, 3, 8, 8, 10, 10, 9, 10, 6, 5, 8]"
      ]
     },
     "execution_count": 33,
     "metadata": {},
     "output_type": "execute_result"
    }
   ],
   "source": [
    "import random\n",
    "\n",
    "num = int(input(\"Enter the number of random integers that you want: \"))\n",
    "\n",
    "random_list = []\n",
    "for i in range(num):\n",
    "    random_list.append(random.randint(1, 10))\n",
    "\n",
    "random_list"
   ]
  },
  {
   "cell_type": "markdown",
   "id": "9edeee33-6608-4096-96c9-d7bc18d0b03d",
   "metadata": {},
   "source": [
    "20. Remove duplicates from a list."
   ]
  },
  {
   "cell_type": "code",
   "execution_count": 35,
   "id": "7bddf7b7-bff7-460d-ac2b-171feccfe4ff",
   "metadata": {},
   "outputs": [
    {
     "data": {
      "text/plain": [
       "[1, 2, 3, 5, 6, 7, 8, 9, 10]"
      ]
     },
     "execution_count": 35,
     "metadata": {},
     "output_type": "execute_result"
    }
   ],
   "source": [
    "remove_duplicates = list(set(random_list))\n",
    "remove_duplicates"
   ]
  },
  {
   "cell_type": "markdown",
   "id": "b99da8dd-460a-45db-9c0d-b7440c8ae37c",
   "metadata": {},
   "source": [
    "21. Find the common elements between two lists."
   ]
  },
  {
   "cell_type": "code",
   "execution_count": 37,
   "id": "1d87beb2-234e-4467-bc4e-77017e8312d3",
   "metadata": {},
   "outputs": [
    {
     "data": {
      "text/plain": [
       "[3, 5, 6, 8, 9]"
      ]
     },
     "execution_count": 37,
     "metadata": {},
     "output_type": "execute_result"
    }
   ],
   "source": [
    "list21a = [9, 5, 6, 2, 8, 6, 9, 1, 8, 7, 3]\n",
    "list21b = [8, 8, 10, 10, 9, 10, 6, 5, 8, 3]\n",
    "\n",
    "common_elements = [x for x in list21a for y in list21b if x == y]\n",
    "list(set(common_elements))"
   ]
  },
  {
   "cell_type": "markdown",
   "id": "2596c2f9-353b-4dd0-b772-3d185c76cfd2",
   "metadata": {},
   "source": [
    "22. Find the difference between two lists."
   ]
  },
  {
   "cell_type": "code",
   "execution_count": 42,
   "id": "9b38320d-8fe5-4005-b44b-b817b5f11af4",
   "metadata": {},
   "outputs": [
    {
     "name": "stdout",
     "output_type": "stream",
     "text": [
      "List22a - List22b = [1, 2, 7]\n",
      "List22b - List22a = [10]\n"
     ]
    }
   ],
   "source": [
    "list22a = [9, 5, 6, 2, 8, 6, 9, 1, 8, 7, 3]\n",
    "list22b = [8, 8, 10, 10, 9, 10, 6, 5, 8, 3]\n",
    "\n",
    "difference_elements_list22a = [ x for x in list22a if x not in list22b]\n",
    "difference_elements_list22b = [ y for y in list22b if y not in list22a]\n",
    "\n",
    "print(f\"List22a - List22b = {list(set(difference_elements_list22a))}\")\n",
    "print(f\"List22b - List22a = {list(set(difference_elements_list22b))}\")"
   ]
  },
  {
   "cell_type": "markdown",
   "id": "52157b9f-f3f4-4973-ac45-54409a10c187",
   "metadata": {},
   "source": [
    "23. Merge two lists."
   ]
  },
  {
   "cell_type": "code",
   "execution_count": 45,
   "id": "04cce57c-f1ed-43bb-a824-9a30d5e32130",
   "metadata": {},
   "outputs": [
    {
     "name": "stdout",
     "output_type": "stream",
     "text": [
      "[9, 5, 6, 2, 8, 6, 9, 1, 8, 7, 3, 8, 8, 10, 10, 9, 10, 6, 5, 8, 3]\n"
     ]
    }
   ],
   "source": [
    "list23a = [9, 5, 6, 2, 8, 6, 9, 1, 8, 7, 3]\n",
    "list23b = [8, 8, 10, 10, 9, 10, 6, 5, 8, 3]\n",
    "\n",
    "list23a.extend(list23b)\n",
    "print(list23a)"
   ]
  },
  {
   "cell_type": "markdown",
   "id": "2e2bb8b1-48c1-4cfb-af85-f3b32224a0d3",
   "metadata": {},
   "source": [
    "24. Multiply all elements in a list by 2."
   ]
  },
  {
   "cell_type": "code",
   "execution_count": 48,
   "id": "e5d1cebe-79b9-4acb-a94a-7bca5bdd78e9",
   "metadata": {},
   "outputs": [
    {
     "name": "stdout",
     "output_type": "stream",
     "text": [
      "[18, 10, 12, 4, 16, 12, 18, 2, 16, 14, 6, 16, 16, 20, 20, 18, 20, 12, 10, 16, 6]\n"
     ]
    }
   ],
   "source": [
    "list24 = [9, 5, 6, 2, 8, 6, 9, 1, 8, 7, 3, 8, 8, 10, 10, 9, 10, 6, 5, 8, 3]\n",
    "multiplied_list = [x*2 for x in list24]\n",
    "print(multiplied_list)"
   ]
  },
  {
   "cell_type": "markdown",
   "id": "956bc046-a1d4-4b1b-b284-6a10c37f62b3",
   "metadata": {},
   "source": [
    "25. Filter out all even numbers from a list."
   ]
  },
  {
   "cell_type": "code",
   "execution_count": 49,
   "id": "b70c76a2-221e-43bf-8156-de5d492944e6",
   "metadata": {},
   "outputs": [
    {
     "name": "stdout",
     "output_type": "stream",
     "text": [
      "[6, 2, 8, 6, 8, 8, 8, 10, 10, 10, 6, 8]\n"
     ]
    }
   ],
   "source": [
    "list25 = list24.copy()\n",
    "even_list = [x for x in list25 if x % 2 == 0]\n",
    "print(even_list)"
   ]
  },
  {
   "cell_type": "markdown",
   "id": "6639b4b3-5f4c-49ad-8643-b77b0a7240e4",
   "metadata": {},
   "source": [
    "26. Convert a list of strings to a list of integers."
   ]
  },
  {
   "cell_type": "code",
   "execution_count": 50,
   "id": "c494b19f-564c-4048-a992-db0df02db359",
   "metadata": {},
   "outputs": [
    {
     "name": "stdout",
     "output_type": "stream",
     "text": [
      "[1, 4, 3, 6, 7]\n"
     ]
    }
   ],
   "source": [
    "test_list = ['1', '4', '3', '6', '7'] \n",
    "\n",
    "integer_list = [int(i) for i in test_list]\n",
    "\n",
    "print(integer_list)"
   ]
  },
  {
   "cell_type": "markdown",
   "id": "e182adcc-9d32-4f6c-b8b5-9954f47311b8",
   "metadata": {},
   "source": [
    "27. Convert a list of integers to a list of strings."
   ]
  },
  {
   "cell_type": "code",
   "execution_count": 51,
   "id": "9025939f-4e21-464c-9c58-7350eea27adb",
   "metadata": {},
   "outputs": [
    {
     "name": "stdout",
     "output_type": "stream",
     "text": [
      "['1', '4', '3', '6', '7']\n"
     ]
    }
   ],
   "source": [
    "str_list = [str(i) for i in integer_list]\n",
    "\n",
    "print(str_list)"
   ]
  },
  {
   "cell_type": "markdown",
   "id": "e8193b51-f28b-4969-a8a1-d5e1121e65c5",
   "metadata": {},
   "source": [
    "28. Flatten a nested list."
   ]
  },
  {
   "cell_type": "code",
   "execution_count": null,
   "id": "f3234b91-80f7-4494-adee-f812a95c4efa",
   "metadata": {},
   "outputs": [],
   "source": [
    "list28 = [[1, 4, 3, 6, 7], [4, 16, 12, 18, 2, 16, 14], [1, 2, 3], [3, 7, 8]]\n",
    "\n",
    "flatten_list = [elm for innerlist in list28 for elm in innerlist]\n",
    "\n",
    "print(flatten_list)"
   ]
  },
  {
   "cell_type": "markdown",
   "id": "6e99ea53-cc72-497c-8256-b5a2c1337be7",
   "metadata": {},
   "source": [
    "29. Create a list of the first 10 Fibonacci numbers."
   ]
  },
  {
   "cell_type": "code",
   "execution_count": 5,
   "id": "0fac4511-eb5e-4a81-846f-28a55e51a30d",
   "metadata": {},
   "outputs": [
    {
     "name": "stdin",
     "output_type": "stream",
     "text": [
      "Enter the number of fibonacci list that you want:  12\n"
     ]
    },
    {
     "name": "stdout",
     "output_type": "stream",
     "text": [
      "[0, 1, 1, 2, 3, 5, 8, 13, 21, 34, 55, 89]\n"
     ]
    }
   ],
   "source": [
    "# def fibonacci(n):\n",
    "#     fib_list = []\n",
    "#     if n <= 1:\n",
    "#         return n\n",
    "#     a, b = 0, 1\n",
    "#     while a < n:\n",
    "#         fib_list.append(a)\n",
    "#         a, b = b, b + a\n",
    "#     return fib_list\n",
    "\n",
    "# fib_list = fibonacci(10)\n",
    "# print(fib_list)\n",
    "\n",
    "\n",
    "\"\"\"\n",
    "This program is to give the list of first 10 fibonacci numbers\n",
    "\"\"\"\n",
    "\n",
    "a = 0 \n",
    "b = 1\n",
    "n = int(input(\"Enter the number of fibonacci list that you want: \"))\n",
    "i = 2\n",
    "fib_list = [a, b]\n",
    "while i < n:\n",
    "    fibo = a + b\n",
    "    fib_list.append(fibo)\n",
    "    a, b = b, fibo\n",
    "    i += 1\n",
    "\n",
    "print(fib_list)"
   ]
  },
  {
   "cell_type": "markdown",
   "id": "a4e8e00d-1e53-4a54-affe-ec96db045c44",
   "metadata": {},
   "source": [
    "30. Check if a list is sorted."
   ]
  },
  {
   "cell_type": "code",
   "execution_count": 6,
   "id": "9cc9497d-5191-4348-8165-581a07d95fc8",
   "metadata": {},
   "outputs": [
    {
     "name": "stdout",
     "output_type": "stream",
     "text": [
      "The given list is not sorted\n"
     ]
    }
   ],
   "source": [
    "list30 = [9, 5, 6, 2, 8, 6, 9, 1, 8, 7, 3, 8, 8, 10, 10, 9, 10, 6, 5, 8]\n",
    "\n",
    "if list30 == list30.sort():\n",
    "    print(\"The given list is sorted!\")\n",
    "else:\n",
    "    print(\"The given list is not sorted\")"
   ]
  },
  {
   "cell_type": "markdown",
   "id": "a78fe573-74e2-4970-9597-dcc31cbcdbfb",
   "metadata": {},
   "source": [
    "31. Rotate a list to the left by `n` positions."
   ]
  },
  {
   "cell_type": "code",
   "execution_count": 9,
   "id": "489043b6-ff7d-4bd6-af30-8f74d9cba79e",
   "metadata": {},
   "outputs": [
    {
     "name": "stdin",
     "output_type": "stream",
     "text": [
      "Enter the number of positions that you need to left rotate:  3\n"
     ]
    },
    {
     "name": "stdout",
     "output_type": "stream",
     "text": [
      "The list after left rotation of 3 is '[4, 5, 6, 7, 1, 2, 3]'\n"
     ]
    }
   ],
   "source": [
    "# using slicing\n",
    "\n",
    "test_list = [1, 2, 3, 4, 5, 6, 7]\n",
    "\n",
    "n = int(input(\"Enter the number of positions that you need to left rotate: \"))\n",
    "# left rotate\n",
    "left_rotate = test_list[n:] + test_list[:n]\n",
    "\n",
    "print(f\"The list after left rotation of {n} is '{left_rotate}'\")"
   ]
  },
  {
   "cell_type": "markdown",
   "id": "c63d4089-b197-4a1f-b6b2-15d2a19d2947",
   "metadata": {},
   "source": [
    "32. Rotate a list to the right by `n` positions."
   ]
  },
  {
   "cell_type": "code",
   "execution_count": 13,
   "id": "d92a9c10-572c-4562-aa94-31960b14d998",
   "metadata": {},
   "outputs": [
    {
     "name": "stdin",
     "output_type": "stream",
     "text": [
      "Enter the number of positions that you need to right rotate:  3\n"
     ]
    },
    {
     "name": "stdout",
     "output_type": "stream",
     "text": [
      "The list after right rotation of 3 is '[5, 6, 7, 1, 2, 3, 4]'\n"
     ]
    }
   ],
   "source": [
    "# using slicing\n",
    "\n",
    "test_list = [1, 2, 3, 4, 5, 6, 7]\n",
    "\n",
    "n = int(input(\"Enter the number of positions that you need to right rotate: \"))\n",
    "# right rotate\n",
    "right_rotate = test_list[len(test_list) - n:len(test_list)] + test_list[0: len(test_list) - n]\n",
    "\n",
    "print(f\"The list after right rotation of {n} is '{right_rotate}'\")"
   ]
  },
  {
   "cell_type": "markdown",
   "id": "52dac964-edf7-4c7d-bdf7-93ba74b9a82c",
   "metadata": {},
   "source": [
    "33. Create a list of prime numbers up to 50."
   ]
  },
  {
   "cell_type": "code",
   "execution_count": 8,
   "id": "31e6f181-53ab-4c49-9e8a-07f8cfaf8adc",
   "metadata": {},
   "outputs": [
    {
     "name": "stdout",
     "output_type": "stream",
     "text": [
      "[2, 3, 5, 7, 11, 13, 17, 19, 23, 29, 31, 37, 41, 43, 47]\n"
     ]
    }
   ],
   "source": [
    "prime_list = []\n",
    "for i in range(2, 51):\n",
    "    for j in range(2, int(i ** 0.5) + 1):\n",
    "        if i % j == 0:\n",
    "            break\n",
    "    else:\n",
    "        prime_list.append(i)\n",
    "        \n",
    "print(prime_list)"
   ]
  },
  {
   "cell_type": "markdown",
   "id": "1b4e1019-e551-4be0-bd8a-067cef9fae74",
   "metadata": {},
   "source": [
    "34. Split a list into chunks of size `n`."
   ]
  },
  {
   "cell_type": "code",
   "execution_count": 12,
   "id": "0615611f-64b5-4a63-995d-b576c86c7b62",
   "metadata": {},
   "outputs": [
    {
     "name": "stdin",
     "output_type": "stream",
     "text": [
      "Enter the chunk size:  2\n"
     ]
    },
    {
     "name": "stdout",
     "output_type": "stream",
     "text": [
      "[2, 3]\n",
      "[5, 7]\n",
      "[11, 13]\n",
      "[17, 19]\n",
      "[23, 29]\n",
      "[31, 37]\n",
      "[41, 43]\n",
      "[47]\n"
     ]
    }
   ],
   "source": [
    "list34 = [2, 3, 5, 7, 11, 13, 17, 19, 23, 29, 31, 37, 41, 43, 47]\n",
    "\n",
    "start = 0\n",
    "end = len(list34)\n",
    "step = int(input(\"Enter the chunk size: \"))\n",
    "for i in range(start, end, step):\n",
    "    x = i\n",
    "    print(list34[x:x+step])"
   ]
  },
  {
   "cell_type": "markdown",
   "id": "064792a8-9260-4ca9-a082-31f6c049b2d7",
   "metadata": {},
   "source": [
    "35. Find the second largest number in a list."
   ]
  },
  {
   "cell_type": "code",
   "execution_count": 47,
   "id": "b5e1da37-bf1d-4dc5-a336-15cf24beb798",
   "metadata": {},
   "outputs": [
    {
     "name": "stdout",
     "output_type": "stream",
     "text": [
      "Sec_max = 76\n"
     ]
    }
   ],
   "source": [
    "list35 = [2, 43, 47, 44, 45, 90, 56, 76]\n",
    "fir_max = list35[0]\n",
    "sec_max = list35[1]\n",
    "for i in range(len(list35)):\n",
    "    \n",
    "    if (list35[i] > fir_max):\n",
    "        sec_max = fir_max\n",
    "        fir_max = list35[i]\n",
    "    if list35[i] > sec_max and list35[i] < fir_max:\n",
    "        sec_max = list35[i]\n",
    "    \n",
    "\n",
    "print(f\"Sec_max = {sec_max}\")\n"
   ]
  },
  {
   "cell_type": "markdown",
   "id": "870368fc-7af5-42bf-bf91-acb0cbcf8da7",
   "metadata": {},
   "source": [
    "36. Replace every element in a list with its square."
   ]
  },
  {
   "cell_type": "code",
   "execution_count": 48,
   "id": "5d223a0c-5e32-4680-8d7f-f6c99fa93dd7",
   "metadata": {},
   "outputs": [
    {
     "name": "stdout",
     "output_type": "stream",
     "text": [
      "[4, 9, 25, 49, 121, 169, 289, 361, 529, 841, 961, 1369, 1681, 1849, 2209]\n"
     ]
    }
   ],
   "source": [
    "list36 = [2, 3, 5, 7, 11, 13, 17, 19, 23, 29, 31, 37, 41, 43, 47]\n",
    "\n",
    "squared_list = [x**2 for x in list36]\n",
    "\n",
    "print(squared_list)"
   ]
  },
  {
   "cell_type": "markdown",
   "id": "850e6f7e-0afb-40fb-9bad-db54ffc2a834",
   "metadata": {},
   "source": [
    "37. Convert a list to a dictionary where list elements become keys and their\n",
    "indices become values."
   ]
  },
  {
   "cell_type": "code",
   "execution_count": 54,
   "id": "624f7069-cbea-45f1-aea9-9b7830ea546c",
   "metadata": {},
   "outputs": [
    {
     "name": "stdout",
     "output_type": "stream",
     "text": [
      "Using simple for loop: \n",
      "{2: 0, 3: 1, 5: 2, 7: 3, 11: 4, 13: 5, 17: 6, 19: 7, 23: 8, 29: 9, 31: 10, 37: 11, 41: 12, 43: 13, 47: 14}\n",
      "Using enumeration: \n",
      "{2: 0, 3: 1, 5: 2, 7: 3, 11: 4, 13: 5, 17: 6, 19: 7, 23: 8, 29: 9, 31: 10, 37: 11, 41: 12, 43: 13, 47: 14}\n"
     ]
    }
   ],
   "source": [
    "list37 = list36.copy()\n",
    "\n",
    "# using simple looping\n",
    "dictionary = {}\n",
    "\n",
    "for i in range(len(list37)):\n",
    "    dictionary.update({list37[i]: i})\n",
    "print(f\"Using simple for loop: \\n{dictionary}\")\n",
    "\n",
    "# using enumerate\n",
    "enum_dict = {}\n",
    "for index, element in enumerate(list37):\n",
    "    enum_dict.update({element: index})\n",
    "\n",
    "print(f\"Using enumeration: \\n{enum_dict}\")"
   ]
  },
  {
   "cell_type": "markdown",
   "id": "803ec236-4d29-4359-8288-b915bde60a3b",
   "metadata": {},
   "source": [
    "38. Shuffle the elements of a list randomly."
   ]
  },
  {
   "cell_type": "code",
   "execution_count": 57,
   "id": "0169c1b9-4aee-4b29-b043-5cc96896f1be",
   "metadata": {},
   "outputs": [
    {
     "name": "stdout",
     "output_type": "stream",
     "text": [
      "Original list: [2, 3, 5, 7, 11, 13, 17, 19, 23, 29, 31, 37, 41, 43, 47]\n",
      "Shuffled list: [37, 17, 31, 47, 13, 19, 11, 5, 7, 2, 29, 43, 3, 23, 41]\n"
     ]
    }
   ],
   "source": [
    "list38 = list36.copy()\n",
    "\n",
    "import random\n",
    "\n",
    "print(f\"Original list: {list38}\")\n",
    "random.shuffle(list38)\n",
    "print(f\"Shuffled list: {list38}\")"
   ]
  },
  {
   "cell_type": "markdown",
   "id": "68baa9d8-68da-4de2-b47c-d5a2d51ace9d",
   "metadata": {},
   "source": [
    "39. Create a list of the first 10 factorial numbers."
   ]
  },
  {
   "cell_type": "code",
   "execution_count": 58,
   "id": "0d929f30-3c23-457a-811f-8990f94ff38d",
   "metadata": {},
   "outputs": [
    {
     "name": "stdout",
     "output_type": "stream",
     "text": [
      "[1, 1, 2, 6, 24, 120, 720, 5040, 40320, 362880]\n"
     ]
    }
   ],
   "source": [
    "def factorial(n):\n",
    "    if n == 0 or n == 1:\n",
    "        return 1\n",
    "    else:\n",
    "        return n * factorial(n-1)\n",
    "\n",
    "fact = []\n",
    "for i in range(10):\n",
    "    fact.append(factorial(i))\n",
    "\n",
    "print(fact)"
   ]
  },
  {
   "cell_type": "markdown",
   "id": "cc5f882f-3ab4-4c98-ab6a-3821e650f28f",
   "metadata": {},
   "source": [
    "40. Check if two lists have at least one element in common."
   ]
  },
  {
   "cell_type": "code",
   "execution_count": 59,
   "id": "e229bd5a-fbb6-43f1-8baf-ec29611c5fd0",
   "metadata": {},
   "outputs": [
    {
     "name": "stdout",
     "output_type": "stream",
     "text": [
      "Lists are having atleast one element in common\n"
     ]
    }
   ],
   "source": [
    "list40a = [2, 3, 5, 10, 1, 11, 23, 24, 5]\n",
    "list40b = [3, 6, 7, 8, 0, 100, 12, 34, 6]\n",
    "\n",
    "def common_elements(list40a, list40b):\n",
    "    set1 = set(list40a)\n",
    "    set2 = set(list40b)\n",
    "    \n",
    "    common = set1.intersection(set2)\n",
    "    \n",
    "    return len(common) > 0\n",
    "\n",
    "if common_elements(list40a, list40b):\n",
    "    print(\"Lists are having atleast one element in common\")\n",
    "else:\n",
    "    print(\"Lists are having no elements in common\")"
   ]
  },
  {
   "cell_type": "markdown",
   "id": "bb833e73-be78-4db7-9ded-4eb99eb91dbb",
   "metadata": {},
   "source": [
    "41. Remove all elements from a list."
   ]
  },
  {
   "cell_type": "code",
   "execution_count": 64,
   "id": "e5ae7a37-e259-4bf0-ab35-3b4cc4360029",
   "metadata": {},
   "outputs": [
    {
     "data": {
      "text/plain": [
       "[]"
      ]
     },
     "execution_count": 64,
     "metadata": {},
     "output_type": "execute_result"
    }
   ],
   "source": [
    "list3\n",
    "list3.clear()\n",
    "list3"
   ]
  },
  {
   "cell_type": "markdown",
   "id": "29898cb4-6a5d-4de7-abdf-1013e548adee",
   "metadata": {},
   "source": [
    "42. Replace negative numbers in a list with 0."
   ]
  },
  {
   "cell_type": "code",
   "execution_count": 66,
   "id": "54d68174-52bf-4886-b214-8e86b47e24d1",
   "metadata": {},
   "outputs": [
    {
     "name": "stdout",
     "output_type": "stream",
     "text": [
      "[1, 0, 2, 0, 3, 0, 4, 0, 5, 6, 7, 8, 0, 0, 0, 0]\n"
     ]
    }
   ],
   "source": [
    "list42 = [1, -1, 2, -2, 3, -3, 4, -4, 5, 6, 7, 8, -9, 0, -4, -10]\n",
    "new_list = []\n",
    "for i in list42:\n",
    "    if i < 0:\n",
    "        new_list.append(0)\n",
    "    else:\n",
    "        new_list.append(i)\n",
    "\n",
    "print(new_list)"
   ]
  },
  {
   "cell_type": "markdown",
   "id": "661cdd45-9328-433e-9ccf-10bf3bbed593",
   "metadata": {},
   "source": [
    "43. Convert a string into a list of words."
   ]
  },
  {
   "cell_type": "code",
   "execution_count": 67,
   "id": "91d926d1-bded-4658-9fcd-9b93ef6fe51b",
   "metadata": {},
   "outputs": [
    {
     "name": "stdout",
     "output_type": "stream",
     "text": [
      "['This', 'is', 'full', 'stack', 'data', 'science', 'pro', 'class']\n"
     ]
    }
   ],
   "source": [
    "s = \"This is full stack data science pro class\"\n",
    "l = s.split()\n",
    "print(l)"
   ]
  },
  {
   "cell_type": "markdown",
   "id": "28a2c060-cf06-4054-a6a0-85e10eaa5400",
   "metadata": {},
   "source": [
    "44. Convert a list of words into a string."
   ]
  },
  {
   "cell_type": "code",
   "execution_count": 69,
   "id": "1dd265a5-d5ee-4462-9ae5-71b1598d6290",
   "metadata": {},
   "outputs": [
    {
     "name": "stdout",
     "output_type": "stream",
     "text": [
      "This is full stack data science pro class\n"
     ]
    }
   ],
   "source": [
    "l\n",
    "print(' '.join(l))"
   ]
  },
  {
   "cell_type": "markdown",
   "id": "857a1ff9-8393-400f-a0a0-cdacd9913185",
   "metadata": {},
   "source": [
    "45. Create a list of the first `n` powers of 2."
   ]
  },
  {
   "cell_type": "code",
   "execution_count": 74,
   "id": "31f0e2c8-f687-49d0-ada0-2fbf23ccd542",
   "metadata": {},
   "outputs": [
    {
     "name": "stdin",
     "output_type": "stream",
     "text": [
      "Enter the number of elements:  10\n"
     ]
    },
    {
     "name": "stdout",
     "output_type": "stream",
     "text": [
      "[1, 4, 9, 16, 25, 36, 49, 64, 81, 100]\n"
     ]
    }
   ],
   "source": [
    "n = int(input(\"Enter the number of elements: \"))\n",
    "\n",
    "power_list = [x**2 for x in range(1,n+1)]\n",
    "print(power_list)"
   ]
  },
  {
   "cell_type": "markdown",
   "id": "bd410e70-c7e5-43ff-981c-45f75b3206bf",
   "metadata": {},
   "source": [
    "46. Find the longest string in a list of strings."
   ]
  },
  {
   "cell_type": "code",
   "execution_count": 76,
   "id": "74b7e6c1-978d-4642-8581-04847dfa6f0d",
   "metadata": {},
   "outputs": [
    {
     "name": "stdout",
     "output_type": "stream",
     "text": [
      "['This', 'is', 'full', 'stack', 'data', 'science', 'pro', 'class']\n",
      "The longest word is: science\n"
     ]
    }
   ],
   "source": [
    "print(l)\n",
    "\n",
    "longest_word = sorted(l, key=len)\n",
    "\n",
    "print(f\"The longest word is: {longest_word[-1]}\")"
   ]
  },
  {
   "cell_type": "markdown",
   "id": "ae8c1d5c-5980-41ed-a014-4852a8f6dc43",
   "metadata": {},
   "source": [
    "47. Find the shortest string in a list of strings."
   ]
  },
  {
   "cell_type": "code",
   "execution_count": 78,
   "id": "62befa8b-4ffa-41f4-b64a-295d8bf24765",
   "metadata": {},
   "outputs": [
    {
     "name": "stdout",
     "output_type": "stream",
     "text": [
      "['This', 'is', 'full', 'stack', 'data', 'science', 'pro', 'class']\n",
      "The shortest word is: is\n"
     ]
    }
   ],
   "source": [
    "print(l)\n",
    "\n",
    "shortest_word = sorted(l, key=len)\n",
    "\n",
    "print(f\"The shortest word is: {shortest_word[0]}\")"
   ]
  },
  {
   "cell_type": "markdown",
   "id": "e42685d1-8cc8-474e-bf82-9d87140bcb5c",
   "metadata": {},
   "source": [
    "48. Create a list of the first `n` triangular numbers."
   ]
  },
  {
   "cell_type": "markdown",
   "id": "f80ed6ea-a32c-4eb3-8925-e91a0db59327",
   "metadata": {},
   "source": [
    "Triangular numbers are a sequence of numbers that can be represented as the sum of consecutive natural numbers starting from 1. The nth triangular number is the sum of the first n natural numbers.\n",
    "\n",
    "Triangular numbers are given like below:\n",
    "\n",
    "1 = 1\n",
    "1 + 2 = 3\n",
    "1 + 2 + 3 = 6\n",
    "1 + 2 + 3 + 4 = 10\n",
    "1 + 2 + 3 + 4 + 5 = 15\n",
    "1 + 2 + 3 + 4 + 5 + 6 = 21\n",
    "1 + 2 + 3 + 4 + 5 + 6 + 7 = 28\n",
    "1 + 2 + 3 + 4 + 5 + 6 + 7 + 8 = 36\n",
    "1 + 2 + 3 + 4 + 5 + 6 + 7 + 8 + 9 = 45\n",
    "1 + 2 + 3 + 4 + 5 + 6 + 7 + 8 + 9 + 10 = 55"
   ]
  },
  {
   "cell_type": "code",
   "execution_count": 79,
   "id": "43b77dc4-3c69-4793-8ce2-e217039c842e",
   "metadata": {},
   "outputs": [
    {
     "name": "stdin",
     "output_type": "stream",
     "text": [
      "Enter the number of triangular numbers that you want to be printed:  10\n"
     ]
    },
    {
     "name": "stdout",
     "output_type": "stream",
     "text": [
      "The first 10 triangular numbers are: \n",
      " [1, 3, 6, 10, 15, 21, 28, 36, 45, 55]\n"
     ]
    }
   ],
   "source": [
    "def generate_triangular_number(n):\n",
    "    triangular_num = []\n",
    "    total = 0\n",
    "    \n",
    "    for i in range(1, n+1):\n",
    "        total += i\n",
    "        triangular_num.append(total)\n",
    "\n",
    "    return triangular_num\n",
    "n = int(input(\"Enter the number of triangular numbers that you want to be printed: \"))\n",
    "\n",
    "print(f\"The first {n} triangular numbers are: \\n {generate_triangular_number(n)}\")"
   ]
  },
  {
   "cell_type": "markdown",
   "id": "62380fe6-5f94-4f46-8f9a-487a7883d466",
   "metadata": {},
   "source": [
    "49. Check if a list contains another list as a subsequence."
   ]
  },
  {
   "cell_type": "code",
   "execution_count": 80,
   "id": "35665a53-3c40-4408-b7bc-2e3601ad88fa",
   "metadata": {},
   "outputs": [
    {
     "name": "stdout",
     "output_type": "stream",
     "text": [
      "sub_list is a subsequence of super_list.\n"
     ]
    }
   ],
   "source": [
    "super_list = [1, 3, 6, 10, 15, 21, 28, 36, 45, 55]\n",
    "sub_list = [3, 10, 21]\n",
    "\n",
    "def subsequence(super_list, sub_len):\n",
    "    super_len = len(super_list)\n",
    "    sub_len = len(sub_len)\n",
    "\n",
    "    if sub_len == 0:\n",
    "        return True # an empty list is always a subsequence of superlist\n",
    "    \n",
    "    i = 0 # index of super_list\n",
    "    j = 0 # index of sub_list\n",
    "    \n",
    "    while i < super_len:\n",
    "        if sub_list[j] == super_list[i]:\n",
    "            j += 1\n",
    "            if j == sub_len:\n",
    "                return True # Found a complete subsequence\n",
    "        i += 1\n",
    "    \n",
    "    return False # didn't find the complete subsequence\n",
    "\n",
    "if subsequence(super_list, sub_list):\n",
    "    print(\"sub_list is a subsequence of super_list.\")\n",
    "else:\n",
    "    print(\"sub_list is not a subsequence of super_list.\")\n",
    "\n"
   ]
  },
  {
   "cell_type": "markdown",
   "id": "ad772fe0-d7c9-448e-aa94-57f0a1c448bd",
   "metadata": {},
   "source": [
    "50. Swap two elements in a list by their indices."
   ]
  },
  {
   "cell_type": "code",
   "execution_count": 84,
   "id": "45ee867e-d271-47cb-99f9-b77915e5d18b",
   "metadata": {},
   "outputs": [
    {
     "name": "stdout",
     "output_type": "stream",
     "text": [
      "Swapped list = [1, 3, 45, 10, 15, 21, 28, 36, 45, 55]\n"
     ]
    }
   ],
   "source": [
    "list50 = [1, 3, 6, 10, 15, 21, 28, 36, 45, 55]\n",
    "\n",
    "def swap_elements_by_index(list_, index1, index2):\n",
    "    if 0 <= index1 < len(list_) and 0 <= index2 < len(list_):\n",
    "        list_[index1], list_[index2] = list_[index2], list_[index2]\n",
    "        return True\n",
    "    else:\n",
    "        return False\n",
    "    \n",
    "index1 = 2\n",
    "index2 = 8\n",
    "\n",
    "if swap_elements_by_index(list50, index1, index2):\n",
    "    print(f\"Swapped list = {list50}\")\n",
    "else:\n",
    "    print(\"Invalid indices. No swap was performed.\")\n"
   ]
  },
  {
   "cell_type": "code",
   "execution_count": null,
   "id": "205f1ea8-ca77-4e27-89f0-b17f1b153f3f",
   "metadata": {},
   "outputs": [],
   "source": []
  }
 ],
 "metadata": {
  "kernelspec": {
   "display_name": "Python 3 (ipykernel)",
   "language": "python",
   "name": "python3"
  },
  "language_info": {
   "codemirror_mode": {
    "name": "ipython",
    "version": 3
   },
   "file_extension": ".py",
   "mimetype": "text/x-python",
   "name": "python",
   "nbconvert_exporter": "python",
   "pygments_lexer": "ipython3",
   "version": "3.10.8"
  }
 },
 "nbformat": 4,
 "nbformat_minor": 5
}
