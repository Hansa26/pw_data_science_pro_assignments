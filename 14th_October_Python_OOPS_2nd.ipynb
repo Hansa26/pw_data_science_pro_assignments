{
 "cells": [
  {
   "cell_type": "markdown",
   "id": "ccfdca28-c7ea-4c1d-a824-490ae2ce6948",
   "metadata": {
    "jp-MarkdownHeadingCollapsed": true,
    "tags": []
   },
   "source": [
    "# Constructor"
   ]
  },
  {
   "cell_type": "markdown",
   "id": "312722f5-b069-44db-be3e-09a3d9656d7c",
   "metadata": {},
   "source": [
    "1. What is a constructor in Python? Explain its purpose and usage."
   ]
  },
  {
   "cell_type": "raw",
   "id": "8df8a7cf-9e9b-40d3-9cb6-cbd93360f60e",
   "metadata": {},
   "source": [
    "Constructor:\n",
    "------------\n",
    "\n",
    "A Constructor is a special method of a class that is used to initialize and create an object of the class. \n",
    "It is called automatically when an instance of the class is created, and its purpose is to set up the initial state of the object. Constructors are defined using the \"__init__\" method within a class.\n",
    "\n",
    "Purpose:\n",
    "--------\n",
    "1. Initialization:\n",
    "    The primary purpose of a constructor is to initialize the attributes of an object when it is created. This ensures that the object starts with the desired state and can perform its functions correctly.\n",
    "2. Configuration:\n",
    "    Constructors can be used to configure and set up resources or data structures that the object wil need during its lifetime.\n",
    "    \n",
    "Usage:\n",
    "------\n",
    "To create a constructor in Python, you define a method named __init__ within your class. This method is automatically called when an object of the class is instantiated.\n",
    "\n",
    "Example:\n",
    "--------"
   ]
  },
  {
   "cell_type": "code",
   "execution_count": 1,
   "id": "259d4fe8-f4ad-4b91-b9f6-1d97f81f2f17",
   "metadata": {},
   "outputs": [],
   "source": [
    "class MyClass:\n",
    "    def __init__(self, param1, param2):\n",
    "        # this is the constructor\n",
    "        self.attribute1 = param1\n",
    "        self.attribute2 = param2\n",
    "\n",
    "# creating an instance of MyClass and calling the constructor\n",
    "obj = MyClass(\"value1\", \"value2\")"
   ]
  },
  {
   "cell_type": "markdown",
   "id": "a3571cf0-ff96-4bc1-92cc-cead762cc70a",
   "metadata": {},
   "source": [
    "2. Differentiate between a parameterless constructor and a parameterized constructor in Python."
   ]
  },
  {
   "cell_type": "raw",
   "id": "22ce833d-02e7-4c5a-abd8-7be902b747c5",
   "metadata": {},
   "source": [
    "The main difference between a parameterless constructor and parameterized constructor lies in whether they accept parameters while creating objects and how they initialize the object's attributes.\n",
    "\n",
    "1. Parameterless Constructor or Zero Parameterized Constructor:\n",
    "---------------------------------------------------------------\n",
    "a. A parameterless constructor, AKA default constructor, is a constructor that does not accept any parameters.\n",
    "b. It is defined using the \"__init__\" method with only the \"self\" parameter.\n",
    "c. The purpose of a parameterless constructor is to set default values or perform basic initialization for the object's attributes.\n",
    "d. It's typically used when you want to ensure that every instance of the class starts with the same initial state or when you don't need to customize the object's initialization.\n",
    "\n",
    "Example:\n",
    "--------"
   ]
  },
  {
   "cell_type": "code",
   "execution_count": 5,
   "id": "0ffea4fd-df35-4dfb-b769-5a39f899114e",
   "metadata": {},
   "outputs": [],
   "source": [
    "class ParameterlessConstructor:\n",
    "    \n",
    "    def __init__(self):\n",
    "        # this is the constructor\n",
    "        self.param = \"Default\"\n",
    "        \n",
    "# creating an instance of ParameterlessConstructor and calling the constructor\n",
    "pc = ParameterlessConstructor()"
   ]
  },
  {
   "cell_type": "raw",
   "id": "e4f4d3bd-fb48-4148-8b78-161b4f8b085c",
   "metadata": {},
   "source": [
    "2. Parameterized Constructor:\n",
    "-----------------------------\n",
    "a. A parameterized constructor is a constructor that accepts one or more parameters in addition to the \"self\" parameter.\n",
    "b. It is used to initialize the object's attributes based on the values provided as arguments when creating the object.\n",
    "c. Parameterized constructors allow you to customize the initial state of each object, making them more flexible and adaptable to different use cases.\n",
    "\n",
    "Example:\n",
    "--------"
   ]
  },
  {
   "cell_type": "code",
   "execution_count": 10,
   "id": "633509f4-3f29-49a8-b06f-1e3f1953c404",
   "metadata": {},
   "outputs": [],
   "source": [
    "class ParameterizedConstructor:\n",
    "    \n",
    "    def __init__(self, param1, param2, param3):\n",
    "        # this is the constructor\n",
    "        self.attribute1 = param1\n",
    "        self.attribute2 = param2\n",
    "        self.attribute3 = param3\n",
    "        \n",
    "# creating an instance of ParameterizedConstructor and calling the constructor\n",
    "pc = ParameterizedConstructor(\"A\", \"B\", \"C\")"
   ]
  },
  {
   "cell_type": "raw",
   "id": "10a4fe23-dff6-4dac-99da-4af12f3a4b21",
   "metadata": {},
   "source": [
    "Parameterless Constructor: Does not accept any parameters and typically sets default values.\n",
    "Parameterized Constructor: Accepts one or more parameters and customizes the object's initialization based on the provided values."
   ]
  },
  {
   "cell_type": "markdown",
   "id": "eadc2f17-322e-4b39-984d-b91eead0892e",
   "metadata": {},
   "source": [
    "3. How do you define a constructor in a Python class? Provide an example."
   ]
  },
  {
   "cell_type": "raw",
   "id": "e9911b43-1fe3-4498-ac61-6e3840d66748",
   "metadata": {},
   "source": [
    "Constructor is defined in Python class using a special method called `__init__` method.\n",
    "This method is automatically called when an instance of the class is created, and it initializes the object's attributes."
   ]
  },
  {
   "cell_type": "code",
   "execution_count": 11,
   "id": "b3d3c6bf-801f-4401-b2d6-dd4a4add66f4",
   "metadata": {},
   "outputs": [
    {
     "name": "stdout",
     "output_type": "stream",
     "text": [
      "This is a constructor of ConstructorExample\n"
     ]
    },
    {
     "data": {
      "text/plain": [
       "'My name is Hansa Guruprasad'"
      ]
     },
     "execution_count": 11,
     "metadata": {},
     "output_type": "execute_result"
    }
   ],
   "source": [
    "class ConstructorExample:\n",
    "    \n",
    "    def __init__(self, name):\n",
    "        print(\"This is a constructor of ConstructorExample\")\n",
    "        self.username = name\n",
    "        \n",
    "    def show_name(self):\n",
    "        return f\"My name is {self.username}\"\n",
    "    \n",
    "# creating an instance of ParameterlessConstructor and calling the constructor\n",
    "ce = ConstructorExample(\"Hansa Guruprasad\")\n",
    "ce.show_name()"
   ]
  },
  {
   "cell_type": "markdown",
   "id": "95ce6a7e-8f73-488a-a472-aedcaebe1e01",
   "metadata": {},
   "source": [
    "4. Explain the `__init__` method in Python and its role in constructors."
   ]
  },
  {
   "cell_type": "raw",
   "id": "cb1b503c-8a26-4bba-982c-08493beebce3",
   "metadata": {},
   "source": [
    "`__init__`:\n",
    "-----------\n",
    "The `__init__` method in Python is a special method used to define the constructor for a class. It plays a crucial role in initializing objects created from that class. The `__init__` method is automatically called when you create an instance (object) of the class, and it allows to set up the initial state of the object by initializing its attributes.\n",
    "\n",
    "Key aspects and Role of the `__init__` method:\n",
    "----------------------------------------------\n",
    "1. Constructor Definition:\n",
    "~~~~~~~~~~~~~~~~~~~~~~~~~~\n",
    "    a. The __init__ method is a reserved method name in Python and is used to define the constructor for a class.\n",
    "    b. It must have at least one parameter, conventionally named self, which represents the instance of the class being created.\n",
    "    c. Can also include additional parameters in the __init__ method to accept values that you want to use for initializing the object's attributes.\n",
    "    \n",
    "2. Initialization of Attributes:\n",
    "~~~~~~~~~~~~~~~~~~~~~~~~~~~~~~~~\n",
    "    a. The primary purpose of the __init__ method is to initialize the attributes (instance variables) of the object.\n",
    "    b. We use the `self` parameter to access and set the attributes of the object. \n",
    "    `self.attribute_name = initial_value` is used to initialize an attribute.\n",
    "    \n",
    "3. Ãutomatic Invocation:\n",
    "~~~~~~~~~~~~~~~~~~~~~~~~\n",
    "    a. When we create an instance of a class, the `__init__` method is automatically called for that instance, and any code within the constructor is executed.\n",
    "    b. This ensures that the object is properly set up with its initial value.\n",
    "    \n",
    "4. Customization:\n",
    "~~~~~~~~~~~~~~~~~\n",
    "    a. The `__init__` method allows you to customize the initialization of each object created from the class. You can provide different values fir each instance by passing arguments to the constructor.\n",
    "\n",
    "5. Default Values:\n",
    "~~~~~~~~~~~~~~~~~~\n",
    "    a. We can provide default values for constructor parameters, making them optional when creating objects. This allows you to create instances with default attributes or customize them as needed.\n",
    "    \n",
    "    \n",
    "The __init__ method serves as the constructor for a class, and its role is to initialize the object's attributes, making it ready for use when you create an instance of that class. It's a fundamental concept in object-oriented programming in Python."
   ]
  },
  {
   "cell_type": "code",
   "execution_count": 12,
   "id": "a30cf38e-a051-499c-aee8-4c576e067e03",
   "metadata": {},
   "outputs": [],
   "source": [
    "class Example:\n",
    "    \n",
    "    def __init__(self, param1, param2, param3):\n",
    "        # this is the constructor\n",
    "        self.attribute1 = param1\n",
    "        self.attribute2 = param2\n",
    "        self.attribute3 = param3\n",
    "        \n",
    "# creating an instance of ParameterlessConstructor and calling the constructor\n",
    "ex = Example(\"A\", \"B\", \"C\")"
   ]
  },
  {
   "cell_type": "markdown",
   "id": "c7c2b8aa-932d-4ab1-866f-30ef5f866d60",
   "metadata": {},
   "source": [
    "5. In a class named `Person`, create a constructor that initializes the `name` and `age` attributes. Provide an example of creating an object of this class."
   ]
  },
  {
   "cell_type": "code",
   "execution_count": 13,
   "id": "7f07509d-2633-4404-819c-ab27d6fdf170",
   "metadata": {},
   "outputs": [
    {
     "data": {
      "text/plain": [
       "'Person Name: Guru and Person Age: 27'"
      ]
     },
     "execution_count": 13,
     "metadata": {},
     "output_type": "execute_result"
    }
   ],
   "source": [
    "class Person:\n",
    "    def __init__(self, name, age):\n",
    "        self.person_name = name\n",
    "        self.person_age = age\n",
    "        \n",
    "    def display_person_details(self):\n",
    "        return f\"Person Name: {self.person_name} and Person Age: {self.person_age}\"\n",
    "        \n",
    "person1 = Person(\"Hansa\", 26)\n",
    "person2 = Person(\"Guru\", 27)\n",
    "\n",
    "person1.display_person_details()\n",
    "\n",
    "person2.display_person_details()"
   ]
  },
  {
   "cell_type": "markdown",
   "id": "dc5f5cd8-7316-45bd-8c6d-ab1a9a912c32",
   "metadata": {},
   "source": [
    "6. How can you call a constructor explicitly in Python? Give an example."
   ]
  },
  {
   "cell_type": "raw",
   "id": "d112338e-3818-49b2-8b92-75b93ba9f683",
   "metadata": {},
   "source": [
    "In Python, we typically don't call a constructor explicitly; it is automatically invoked when creating an instance (object) of a class. However, to call the constructor explicitly, we can use the class name along with the `__init__` method like any other regular method."
   ]
  },
  {
   "cell_type": "code",
   "execution_count": 14,
   "id": "cdf85695-cac8-4146-85ce-464d6a6a39b6",
   "metadata": {},
   "outputs": [],
   "source": [
    "class ExplicitInitCalling:\n",
    "    \n",
    "    def __init__(self, param1, param2):\n",
    "        self.attribute1 = param1\n",
    "        self.attribute2 = param2\n",
    "        \n",
    "\n",
    "# creating an instance of ExplicitInitCalling without explicit constructor call\n",
    "obj1 = ExplicitInitCalling(\"Value1\", \"Value2\")\n",
    "\n",
    "# explicitly calling the constructor\n",
    "obj2 = ExplicitInitCalling.__init__(obj1, \"Custom1\", \"Custom2\")"
   ]
  },
  {
   "cell_type": "raw",
   "id": "e0582922-8d08-4fe1-a1b4-fa8743ee298a",
   "metadata": {},
   "source": [
    "However, it's essential to note that explicitly calling the constructor in this way is not common practice and is generally discouraged. Constructors are intended to be automatically called when creating instances to ensure proper initialization. Explicitly calling the constructor in most cases is unnecessary and can lead to unexpected behavior.\n",
    "\n",
    "The recommended approach is to create instances using the class name followed by parentheses, as shown in the first example (obj = MyClass(\"value1\", \"value2\")). This way, you let Python handle the constructor invocation automatically, ensuring correct object initialization."
   ]
  },
  {
   "cell_type": "markdown",
   "id": "13f03ed3-1d1e-4748-aa94-b661ed3c2984",
   "metadata": {},
   "source": [
    "7. What is the significance of the `self` parameter in Python constructors? Explain with an example."
   ]
  },
  {
   "cell_type": "raw",
   "id": "144f0c9e-78f0-43b1-b111-ba6da2053d61",
   "metadata": {},
   "source": [
    "The `self` parameter in Python constructors ia reference to the instance of the class that is being created. It is a convention, not a keyword, and is used by convention as the first parameter in methods within a class.\n",
    "In the context of constructors, self allows you to access and manipulate the attributes of the object being created, making it a critical element of object-oriented programming in Python.\n",
    "\n",
    "The significance of the `self` parameter in Python constructors is as follows:\n",
    "------------------------------------------------------------------------------\n",
    "1. Reference to the Current instance:\n",
    "    a. `self` is used to reference to the instance of the class that is currently being created. It allows you to work with the specific object's attributes and methods.\n",
    "    \n",
    "2. Accessing and Modifying Attributes:\n",
    "    a. With `self`, we can access and modify the object's attributes, setting their initial values during object creation and later modifying them as needed.\n",
    "    \n",
    "3. Differentiation:\n",
    "    a. `self` helps differentiate between instance variables (belonging to the object) and local variables (scoped to the method). This is crucial for instance-specific data.\n",
    "    \n",
    "Example:\n",
    "--------"
   ]
  },
  {
   "cell_type": "code",
   "execution_count": 15,
   "id": "9c0ed529-8e6c-41e6-b3e9-8519ade97cf0",
   "metadata": {},
   "outputs": [
    {
     "data": {
      "text/plain": [
       "'Hi, My name is Guru and I am 27 years old.'"
      ]
     },
     "execution_count": 15,
     "metadata": {},
     "output_type": "execute_result"
    }
   ],
   "source": [
    "class Person:\n",
    "    \n",
    "    def __init__(self, name, age):\n",
    "        self.name = name # self.name is an instance variable\n",
    "        self.age = age # self.age is an instance variable\n",
    "        \n",
    "    def introduce(self):\n",
    "        return f\"Hi, My name is {self.name} and I am {self.age} years old.\"\n",
    "    \n",
    "# creating objects of the PErson class\n",
    "p1 = Person(\"Hansa\", 26)\n",
    "p2 = Person(\"Guru\", 27)\n",
    "\n",
    "# calling the introduce method to access instance variables using self\n",
    "p1.introduce() # Output: 'Hi, My name is Hansa and I am 26 years old.'\n",
    "p2.introduce() # Output: 'Hi, My name is Guru and I am 27 years old.'"
   ]
  },
  {
   "cell_type": "raw",
   "id": "16e40d58-111f-43de-aa4a-db83c35ceb7b",
   "metadata": {},
   "source": [
    "By using self, you ensure that each instance of the class maintains its own set of attributes and can access them through instance-specific references. It's an essential concept in object-oriented programming in Python, enabling the creation of distinct and encapsulated objects."
   ]
  },
  {
   "cell_type": "markdown",
   "id": "03b9d7be-550d-4654-aa1d-eeaa76592576",
   "metadata": {},
   "source": [
    "8. Discuss the concept of default constructors in Python. When are they used?"
   ]
  },
  {
   "cell_type": "raw",
   "id": "919ec9af-65ac-4116-8239-52c8950458b5",
   "metadata": {},
   "source": [
    "Default Constructors are constructors that are automatically provided by the language when you don't explicitly define a constructor in your class. These default constructors are sometimes referred to as \"implicit constructors\" or \"default initialization methods\". \n",
    "Default constructors serve the purpose of initializing the object's attributes with default values, and they are used in cases where you haven't defined a custom constructor for your class.\n",
    "\n",
    "1. Automatic Initialization: \n",
    "    When you create a class without defining a custom constructor (i.e., __init__ method), Python automatically provides a default constructor for that class.\n",
    "    \n",
    "2. Default Attribute Values: \n",
    "    The default constructor initializes the object's attributes with default values. By default, these attributes are set to None for reference types and zero values (e.g., 0 for integers, an empty string for strings) for numeric and string types.\n",
    "    \n",
    "3. Inheritence:\n",
    "    If a class doesn't define a custom constructor, it inherits the default constructor from its superclass.\n",
    "    \n",
    "4. Usage:\n",
    "    Default constructors are used when you create an instance of a class without explicitly defining a custom constructor. They provide a basic initialization for the object."
   ]
  },
  {
   "cell_type": "code",
   "execution_count": 16,
   "id": "b09fda36-4d52-49f3-9ebb-fd278c39417e",
   "metadata": {},
   "outputs": [],
   "source": [
    "class MyClass:\n",
    "    pass\n",
    "\n",
    "# creating an instance of MyClass\n",
    "obj = MyClass()\n",
    "\n",
    "# since we didn't define a custom constructor, a default constructor is used.\n",
    "# The object is intialized with default values for its attributes."
   ]
  },
  {
   "cell_type": "raw",
   "id": "de5dfc0a-9c42-4299-8b67-10138c5b1385",
   "metadata": {},
   "source": [
    "In the example above, we have the MyClass class without a custom constructor (__init__ method). When we create an instance of MyClass with obj = MyClass(), a default constructor is used. The object obj is initialized with default attribute values, which, in this case, means that it has no attributes defined.\n",
    "\n",
    "Default constructors are particularly useful when you have simple classes that don't require specific attribute initialization or customization during object creation. However, as soon as you define a custom constructor, the default constructor is overridden, and you have the flexibility to define your own initialization logic based on the class's requirements."
   ]
  },
  {
   "cell_type": "markdown",
   "id": "ab71ba29-be6e-455a-80ce-13020b9590a0",
   "metadata": {},
   "source": [
    "9. Create a Python class called `Rectangle` with a constructor that initializes the `width` and `height` attributes. Provide a method to calculate the area of the rectangle."
   ]
  },
  {
   "cell_type": "code",
   "execution_count": 17,
   "id": "d342731f-d17b-4e83-8825-8e3105187b2f",
   "metadata": {},
   "outputs": [
    {
     "data": {
      "text/plain": [
       "'Area of the Rectangle is 24 mtr sqr'"
      ]
     },
     "execution_count": 17,
     "metadata": {},
     "output_type": "execute_result"
    }
   ],
   "source": [
    "class Rectangle:\n",
    "    \n",
    "    def __init__(self, width, height):\n",
    "        self.rectangle_width = width\n",
    "        self.rectangle_height = height\n",
    "        \n",
    "    def area_of_rectangle(self):\n",
    "        return f\"Area of the Rectangle is {self.rectangle_height * self.rectangle_width} mtr sqr\"\n",
    "    \n",
    "\n",
    "rect = Rectangle(12, 2)\n",
    "rect.area_of_rectangle()"
   ]
  },
  {
   "cell_type": "markdown",
   "id": "f8e69be7-8de0-497b-9991-0c77e6c54e41",
   "metadata": {},
   "source": [
    "10. How can you have multiple constructors in a Python class? Explain with an example."
   ]
  },
  {
   "cell_type": "raw",
   "id": "2109a307-f8a4-4264-8ec9-4eca732a6193",
   "metadata": {},
   "source": [
    "In Python, we can have multiple constructors (also known as overloaded constructors) by utilizing class methods and the `@classmethod` decorator. Python doesn't support multiple constructors in the same way as some other programming languages like Java or C++, but you can simulate them using class methods.\n",
    "\n",
    "Example to create multiple constructors in a Python class:\n",
    "-----------------------------------------------------------"
   ]
  },
  {
   "cell_type": "code",
   "execution_count": 18,
   "id": "a3494d54-0dba-4cb3-bdd3-050549911821",
   "metadata": {},
   "outputs": [
    {
     "name": "stdout",
     "output_type": "stream",
     "text": [
      "A B\n",
      "C D\n",
      "E F\n"
     ]
    }
   ],
   "source": [
    "class MultipleConstructors:\n",
    "    \n",
    "    def __init__(self, param1, param2):\n",
    "        self.attribute1 = param1\n",
    "        self.attribute2 = param2\n",
    "        \n",
    "    @classmethod\n",
    "    def from_string(cls, string_param):\n",
    "        \n",
    "        # split the string into parts\n",
    "        parts = string_param.split(\",\")\n",
    "        \n",
    "        # extract parameters from the parts\n",
    "        param1, param2 = parts[0], parts[1]\n",
    "        \n",
    "        # create and return an instance of the class\n",
    "        return cls(param1, param2)\n",
    "    \n",
    "    @classmethod\n",
    "    def from_list(cls, list_param):\n",
    "        \n",
    "        # extract parameters from the list\n",
    "        param1, param2 = list_param[0], list_param[1]\n",
    "        \n",
    "        # create and return an instance of the class\n",
    "        return cls(param1, param2)\n",
    "    \n",
    "\n",
    "# using the primary constructor\n",
    "obj1 = MultipleConstructors(\"A\", \"B\")\n",
    "\n",
    "# using the constructor created with the class method from_string\n",
    "obj2 = MultipleConstructors.from_string(\"C,D\")\n",
    "\n",
    "# using the constructor created with the class method from_list\n",
    "obj3 = MultipleConstructors.from_list([\"E\", \"F\"])\n",
    "\n",
    "\n",
    "print(obj1.attribute1, obj1.attribute2) # Output: A B\n",
    "print(obj2.attribute1, obj2.attribute2) # Output: C D\n",
    "print(obj3.attribute1, obj3.attribute2) # Output: E F"
   ]
  },
  {
   "cell_type": "raw",
   "id": "9f332da8-f4a5-4aa1-9e65-0baed95268e4",
   "metadata": {},
   "source": [
    "We can use these class methods to create objects with different parameter types, which effectively gives you the ability to have multiple constructors in your Python class."
   ]
  },
  {
   "cell_type": "markdown",
   "id": "6aa30593-8f8b-4c32-8b7e-45b22eaadcd8",
   "metadata": {},
   "source": [
    "11. What is method overloading, and how is it related to constructors in Python?"
   ]
  },
  {
   "cell_type": "raw",
   "id": "4fdfda2b-9a8b-4f69-84a3-a58754f6cead",
   "metadata": {},
   "source": [
    "Method Overloading is a concept in OOPS where we can define multiple methods in a class with the same name but different parameters list. The choice of which method to class is based on the number of types of arguments passed during the method invocation. \n",
    "Method overloading allows you to define multiple methods with the same name but different sets of parameters, and the appropriate method is invoked based on the arguments passed when calling the method.\n",
    "\n",
    "\n",
    "In Python, method overloading is not supported in the same way because Python allows dynamic typing, and functions or methods are not bound to specific parameter types. However, Python allows you to achieve a similar effect using default argument values and variable-length argument lists. You can create a single method that handles different parameter combinations based on the arguments passed.\n",
    "\n",
    "Now, related to constructors in Python, method overloading is not a common concept because Python doesn't support method overloading in the same way some statically-typed languages do. In Python, you typically use the __init__ method (the constructor) to initialize objects, and there's only one constructor per class. However, you can simulate constructor overloading by using class methods, as shown in the previous example.\n",
    "\n",
    "In the Python example I provided earlier, we used class methods (from_string and from_list) to simulate the effect of having multiple constructors with different parameter types. This approach allows you to create instances of the class using different input data, effectively achieving constructor overloading in Python."
   ]
  },
  {
   "cell_type": "markdown",
   "id": "0ab0a521-5317-4cea-85ad-b15d8886dcc9",
   "metadata": {},
   "source": [
    "12. Explain the use of the `super()` function in Python constructors. Provide an example."
   ]
  },
  {
   "cell_type": "raw",
   "id": "a559b395-f78c-44df-b16d-40e1ac9df93f",
   "metadata": {},
   "source": [
    "In Python, `super()` function is used in constructors to call the constructor of the parent class (the superclass). This is often used in cases where you want to extend a class (a subclass) and need to initialize the attributes and behaviour of the parent class before adding or modifying them in the subclass's constructor.\n",
    "\n",
    "Example:\n",
    "--------"
   ]
  },
  {
   "cell_type": "code",
   "execution_count": 19,
   "id": "dedcd2ca-20a8-4407-ba96-94e9301b9dca",
   "metadata": {},
   "outputs": [
    {
     "name": "stdout",
     "output_type": "stream",
     "text": [
      "Value1\n",
      "Value2\n"
     ]
    }
   ],
   "source": [
    "class ParentClass:\n",
    "    \n",
    "    def __init__(self, param1):\n",
    "        self.attribute1 = param1\n",
    "        \n",
    "class ChildClass(ParentClass):\n",
    "    def __init__(self, param1, param2):\n",
    "        super().__init__(param1) # to call the constructor of Parent class\n",
    "        self.attribute2 = param2\n",
    "        \n",
    "# create an instance of the child class\n",
    "child_obj = ChildClass(\"Value1\", \"Value2\")\n",
    "\n",
    "# accessing the attributes of child class and parent class\n",
    "print(child_obj.attribute1)\n",
    "print(child_obj.attribute2)\n"
   ]
  },
  {
   "cell_type": "markdown",
   "id": "c565ebbe-d112-4104-9f88-2a099c17265f",
   "metadata": {},
   "source": [
    "13. Create a class called `Book` with a constructor that initializes the `title`, `author`, and `published_year` attributes. Provide a method to display book details."
   ]
  },
  {
   "cell_type": "code",
   "execution_count": 20,
   "id": "4c5b7a10-4fde-4e50-88ad-1fa4370dbf28",
   "metadata": {},
   "outputs": [
    {
     "name": "stdout",
     "output_type": "stream",
     "text": [
      "Title of the Book: The Catcher in the Rye\n",
      "Author of the Book: J.D. Salinger\n",
      "Published Year: 1951\n"
     ]
    }
   ],
   "source": [
    "class Book:\n",
    "    def __init__(self, title, author, published_year):\n",
    "        \n",
    "        self.book_title = title\n",
    "        self.book_author = author\n",
    "        self.book_published_year = published_year\n",
    "        \n",
    "    def display_book_details(self):\n",
    "        print(f\"Title of the Book: {self.book_title}\\nAuthor of the Book: {self.book_author}\\nPublished Year: {self.book_published_year}\")\n",
    "    \n",
    "    \n",
    "book = Book(\"The Catcher in the Rye\", \"J.D. Salinger\", 1951)\n",
    "\n",
    "# display the book details\n",
    "book.display_book_details()"
   ]
  },
  {
   "cell_type": "markdown",
   "id": "92a37c89-04c5-40ee-92fd-e6753e7befb9",
   "metadata": {},
   "source": [
    "14. Discuss the differences between constructors and regular methods in Python classes."
   ]
  },
  {
   "cell_type": "raw",
   "id": "2c009c2d-39fc-4a53-a049-e1a25c029b14",
   "metadata": {},
   "source": [
    "Constructors and regular methods in Python classes serve different purposes and have several key differences. Here are the main distinctions between them:\n",
    "\n",
    "1. Purpose:\n",
    "-----------\n",
    "    Constructors: \n",
    "        Constructors are special methods used to initialize the attributes of an object when an instance of a class is created. \n",
    "        They are typically called automatically when you create an object from a class. \n",
    "        In Python, the constructor method is __init__.\n",
    "\n",
    "    Regular methods: \n",
    "        Regular methods are used to define the behavior and functionality of the class. \n",
    "        They perform specific actions or calculations based on the attributes of the object and can be called explicitly by the object.\n",
    "        \n",
    "2. Name:\n",
    "--------\n",
    "    Constructors always have the reserved name __init__.\n",
    "\n",
    "    Regular methods can have any valid method name.\n",
    "    \n",
    "3. Invocation:\n",
    "--------------\n",
    "    Constructors are automatically called when an object is created, and you don't need to call them explicitly. They are executed as soon as an object is instantiated from the class.\n",
    "\n",
    "    Regular methods must be called explicitly using the object, and they can be invoked multiple times.\n",
    "    \n",
    "4. Parameters:\n",
    "--------------\n",
    "    Constructors typically take self as the first parameter, referring to the instance being created, along with any other parameters needed for initialization.\n",
    "\n",
    "    Regular methods also take self as the first parameter, but they can take additional parameters as required.\n",
    "    \n",
    "5. Return Value:\n",
    "----------------\n",
    "    Constructors do not have a return statement. They are used solely for attribute initialization.\n",
    "\n",
    "    Regular methods can have return statements to return values or perform specific actions."
   ]
  },
  {
   "cell_type": "markdown",
   "id": "a1226777-811b-4518-a6bd-c4822c77a5d3",
   "metadata": {},
   "source": [
    "15. Explain the role of the `self` parameter in instance variable initialization within a constructor."
   ]
  },
  {
   "cell_type": "raw",
   "id": "6fa082f1-f118-4f86-b0c5-67b1a8628d09",
   "metadata": {},
   "source": [
    "The self parameter in Python plays a crucial role in instance variable initialization within a constructor and, more broadly, in object-oriented programming. \n",
    "It's a reference to the instance of the class and is used to access and manipulate instance-specific attributes. \n",
    "The self parameter is a naming convention; you can use any variable name instead of self, but using self is a widely accepted convention and helps improve code clarity.\n",
    "\n",
    "\n",
    "The role of the self parameter in instance variable initialization within a constructor:\n",
    "\n",
    "1. Reference to the Instance:\n",
    "-----------------------------\n",
    "    self refers to the instance of the class for which the constructor is being called. It distinguishes the attributes and methods of one instance from those of another. This is essential because multiple objects of the same class can exist simultaneously, each with its own set of attributes.\n",
    "    \n",
    "2. Access to Instance Attributes: \n",
    "---------------------------------\n",
    "    Inside the constructor (__init__) and other methods of the class, you can access and manipulate instance-specific attributes using self. For example, you use self.attribute_name to define and initialize instance variables.\n",
    "    \n",
    "3. Initialization of Instance Variables: \n",
    "----------------------------------------\n",
    "    The self parameter allows you to initialize instance variables (attributes) uniquely for each instance of the class. When you create an object from the class, the constructor is automatically called, and self ensures that the values you assign to attributes are specific to that instance.\n",
    "\n",
    "4. Method Access: \n",
    "-----------------\n",
    "    Besides attribute initialization, self is used to access other methods of the class. You can call other instance methods from within the constructor or other methods using self.method_name().\n",
    "    \n",
    "5. Instance Specificity: \n",
    "------------------------\n",
    "    self is what makes object-oriented programming truly object-oriented. It allows each object to have its own set of attributes and the ability to perform actions specific to that instance.\n",
    "    \n",
    "Example:\n",
    "--------"
   ]
  },
  {
   "cell_type": "code",
   "execution_count": 21,
   "id": "3996fcf8-cb14-4105-b113-6d70f0f591eb",
   "metadata": {},
   "outputs": [
    {
     "name": "stdout",
     "output_type": "stream",
     "text": [
      "Happy\n",
      "5\n",
      "Happy says Woof Woof!\n",
      "Maxy says Woof Woof!\n"
     ]
    }
   ],
   "source": [
    "class Dog:\n",
    "    def __init__(self, name, age):\n",
    "        self.dog_name = name\n",
    "        self.dog_age = age\n",
    "        \n",
    "    def bark(self):\n",
    "        print(f\"{self.dog_name} says Woof Woof!\")\n",
    "        \n",
    "# creating two Dog objects with different attributes\n",
    "dog1 = Dog(\"Happy\", 4)\n",
    "dog2 = Dog(\"Maxy\", 5)\n",
    "\n",
    "# accessing and using instance-specific attributes and methods\n",
    "print(dog1.dog_name) # Output: Happy\n",
    "print(dog2.dog_age)  # Output: 5\n",
    "dog1.bark() # Output: Buddy says Woof Woof!\n",
    "dog2.bark() # Output: Max says Woof Woof!"
   ]
  },
  {
   "cell_type": "markdown",
   "id": "5afee7ca-00b1-48a6-a426-12b86c68dd38",
   "metadata": {},
   "source": [
    "16. How do you prevent a class from having multiple instances by using constructors in Python? Provide an example."
   ]
  },
  {
   "cell_type": "raw",
   "id": "7efbb6e3-b2ea-4ece-b088-3ab7526fac1d",
   "metadata": {},
   "source": [
    "In Python, you can prevent a class from having multiple instances by implementing a design pattern called the Singleton pattern. \n",
    "The Singleton pattern ensures that a class has only one instance, and any attempt to create additional instances will return the same existing instance. To achieve this, you can override the __new__ method in your class.\n",
    "\n",
    "Example:\n",
    "--------"
   ]
  },
  {
   "cell_type": "code",
   "execution_count": 22,
   "id": "054223ad-d571-441b-ba46-42c786f81cd4",
   "metadata": {},
   "outputs": [
    {
     "name": "stdout",
     "output_type": "stream",
     "text": [
      "True\n"
     ]
    }
   ],
   "source": [
    "class SingleTon:\n",
    "    _instance = None # class variable to store the single instance\n",
    "    \n",
    "    def __new__(cls):\n",
    "        if cls._instance is None:\n",
    "            cls._instance = super(SingleTon, cls).__new__(cls)\n",
    "        \n",
    "        return cls._instance\n",
    "    \n",
    "# Creating instances of the Singleton class\n",
    "singleton1 = SingleTon()\n",
    "singleton2 = SingleTon()\n",
    "\n",
    "# Checking if both variables refer to the same instance\n",
    "print(singleton1 is singleton2)  # Output: True"
   ]
  },
  {
   "cell_type": "raw",
   "id": "0e50561f-0857-406a-a141-bd2da577123e",
   "metadata": {},
   "source": [
    "In this example:\n",
    "\n",
    "We define a class Singleton with a class variable _instance set to None.\n",
    "\n",
    "We override the __new__ method, which is responsible for creating new instances of the class. In the __new__ method, we check if _instance is None. If it's None, we create a new instance of the class using super(Singleton, cls).__new__(cls). If _instance is not None, we return the existing instance. This ensures that only one instance of the class is ever created.\n",
    "\n",
    "When we create two instances of the Singleton class, singleton1 and singleton2, they both refer to the same instance. This demonstrates that the Singleton pattern prevents multiple instances of the class.\n",
    "\n",
    "The Singleton pattern is useful in scenarios where you want to ensure there's only one instance of a class throughout the lifetime of your application. However, it should be used judiciously, as it can introduce global state and make your code less modular and harder to test."
   ]
  },
  {
   "cell_type": "markdown",
   "id": "4a612b1b-2f82-4302-b9ae-70a1965577b1",
   "metadata": {},
   "source": [
    "17. Create a Python class called `Student` with a constructor that takes a list of subjects as a parameter and initializes the `subjects` attribute."
   ]
  },
  {
   "cell_type": "code",
   "execution_count": 23,
   "id": "96832441-a99d-456e-b907-de7faf1e1894",
   "metadata": {},
   "outputs": [
    {
     "name": "stdout",
     "output_type": "stream",
     "text": [
      "['Math', 'Science', 'History']\n"
     ]
    }
   ],
   "source": [
    "class Student:\n",
    "    def __init__(self, subjects):\n",
    "        self.subjects = subjects\n",
    "        \n",
    "student = Student([\"Math\", \"Science\", \"History\"])\n",
    "\n",
    "print(student.subjects)"
   ]
  },
  {
   "cell_type": "markdown",
   "id": "6bd2bce8-1ab2-4f92-80b7-aa34eb6310f1",
   "metadata": {},
   "source": [
    "18. What is the purpose of the `__del__` method in Python classes, and how does it relate to constructors?"
   ]
  },
  {
   "cell_type": "raw",
   "id": "e0c3acef-5459-4fb6-a00d-63dd5ea58208",
   "metadata": {},
   "source": [
    "The __del__ method in Python is a special method used to define the cleanup or finalization behavior of an object just before it is destroyed or deallocated. It is called automatically when an object's reference count drops to zero, which typically happens when the object is no longer in use. The primary purpose of the __del__ method is to perform any necessary cleanup tasks, such as releasing resources like file handles, database connections, or memory, before an object is deleted from memory.\n",
    "\n",
    "The __del__ method is sometimes referred to as the \"destructor,\" but it's essential to note that it is not commonly used in Python for resource cleanup. Python relies on its garbage collector to automatically manage memory and resources. The __del__ method is not guaranteed to be called promptly, and its behavior can be unpredictable due to how the garbage collector works.\n",
    "\n",
    "Example:\n",
    "---------"
   ]
  },
  {
   "cell_type": "code",
   "execution_count": 24,
   "id": "9fba4f94-4c78-4a0f-bee4-7ca914a7431f",
   "metadata": {},
   "outputs": [
    {
     "name": "stdout",
     "output_type": "stream",
     "text": [
      "Object Object 1 is being destroyed\n",
      "Object Object 2 is being destroyed\n"
     ]
    }
   ],
   "source": [
    "class MyClass:\n",
    "    def __init__(self, name):\n",
    "        self.name = name\n",
    "\n",
    "    def __del__(self):\n",
    "        print(f\"Object {self.name} is being destroyed\")\n",
    "\n",
    "# Creating instances of MyClass\n",
    "obj1 = MyClass(\"Object 1\")\n",
    "obj2 = MyClass(\"Object 2\")\n",
    "\n",
    "# Deleting the references to the objects\n",
    "del obj1\n",
    "del obj2"
   ]
  },
  {
   "cell_type": "raw",
   "id": "eb8a2528-8fcf-46de-a1d1-138b221537e6",
   "metadata": {},
   "source": [
    "In this example, when the references to obj1 and obj2 are deleted using the del statement, the objects may be scheduled for destruction. The __del__ method, if defined, will be called before the objects are actually destroyed. It's important to note that the timing of when __del__ is called can vary, and it's not advisable to rely on it for critical resource cleanup.\n",
    "\n",
    "The __del__ method is related to constructors (__init__) in that it's part of the object's lifecycle management. The constructor is responsible for initializing the object, while the destructor is meant to perform cleanup tasks just before the object is destroyed. However, in practice, it's often preferred to use context managers (with statements) or explicitly close resources, rather than relying on the __del__ method for resource cleanup, as it has limitations and unpredictable behavior."
   ]
  },
  {
   "cell_type": "markdown",
   "id": "cfc3f25e-9413-4fc3-8248-98282cfa6bbd",
   "metadata": {},
   "source": [
    "19. Explain the use of constructor chaining in Python. Provide a practical example."
   ]
  },
  {
   "cell_type": "raw",
   "id": "47f95197-0b95-4c77-b302-6078022a0d33",
   "metadata": {},
   "source": [
    "Constructor chaining in Python refers to the concept of one constructor (usually the subclass constructor) calling another constructor (usually the superclass constructor) to reuse or extend the initialization behavior. This is often used in inheritance to ensure that the initialization steps of both the parent and child classes are executed properly. Constructor chaining is achieved using the super() function.\n",
    "\n",
    "Example:\n",
    "--------"
   ]
  },
  {
   "cell_type": "code",
   "execution_count": 25,
   "id": "b1ed6f32-9a05-4645-927c-dae62ca8fd00",
   "metadata": {},
   "outputs": [
    {
     "name": "stdout",
     "output_type": "stream",
     "text": [
      "Make: Toyota\n",
      "Model: Camry\n",
      "Wheels: 4\n",
      "Color: Red\n"
     ]
    }
   ],
   "source": [
    "class Vehicle:\n",
    "    def __init__(self, wheels, color):\n",
    "        self.wheels = wheels\n",
    "        self.color = color\n",
    "\n",
    "class Car(Vehicle):\n",
    "    def __init__(self, wheels, color, make, model):\n",
    "        super().__init__(wheels, color)  # Call the constructor of the parent class\n",
    "        self.make = make\n",
    "        self.model = model\n",
    "\n",
    "    def display_info(self):\n",
    "        print(f\"Make: {self.make}\")\n",
    "        print(f\"Model: {self.model}\")\n",
    "        print(f\"Wheels: {self.wheels}\")\n",
    "        print(f\"Color: {self.color}\")\n",
    "\n",
    "# Creating an instance of the Car class\n",
    "car1 = Car(4, \"Red\", \"Toyota\", \"Camry\")\n",
    "\n",
    "# Accessing and displaying car information\n",
    "car1.display_info()\n"
   ]
  },
  {
   "cell_type": "raw",
   "id": "1824be48-e3e9-4f24-93d6-1cf65511e253",
   "metadata": {},
   "source": [
    "In this example:\n",
    "\n",
    "We have a Vehicle class with a constructor that initializes the wheels and color attributes.\n",
    "\n",
    "We create a Car class that inherits from the Vehicle class. In the Car class's constructor, we use super().__init__(wheels, color) to call the constructor of the Vehicle class. This ensures that the wheels and color attributes are properly initialized from the parent class before we add the make and model attributes specific to the Car class.\n",
    "\n",
    "The display_info method in the Car class prints information about the car's make, model, wheels, and color.\n",
    "\n",
    "When we create an instance of the Car class (car1), the constructor of the Car class chains to the constructor of the Vehicle class using super().__init__(wheels, color). This ensures that the wheels and color attributes are initialized correctly. Then, the make and model attributes are set for the Car class. The display_info method is used to display the car's details, which includes attributes from both the parent class and the child class.\n",
    "\n",
    "Constructor chaining is a useful practice to ensure that the initialization of attributes is handled correctly when working with inheritance. It allows you to build upon the behavior of the parent class in the child class's constructor."
   ]
  },
  {
   "cell_type": "markdown",
   "id": "e9e0e2c7-43e4-414c-93de-5063287bef43",
   "metadata": {},
   "source": [
    "20. Create a Python class called `Car` with a default constructor that initializes the `make` and `model` attributes. Provide a method to display car information."
   ]
  },
  {
   "cell_type": "code",
   "execution_count": 26,
   "id": "1bcc2f64-5cb7-4f98-af0c-0788100fbdb1",
   "metadata": {},
   "outputs": [
    {
     "name": "stdout",
     "output_type": "stream",
     "text": [
      "The make of the car is Tata\n",
      "Model of the Car is Indica\n"
     ]
    }
   ],
   "source": [
    "class Car:\n",
    "    \n",
    "    def __init__(self, make, model):\n",
    "        self.car_make = make\n",
    "        self.car_model = model\n",
    "        \n",
    "    def display_car_information(self):\n",
    "        print(f\"The make of the car is {self.car_make}\\nModel of the Car is {self.car_model}\")\n",
    "        \n",
    "\n",
    "car = Car(\"Tata\", \"Indica\")\n",
    "\n",
    "# displaying car info\n",
    "car.display_car_information()"
   ]
  },
  {
   "cell_type": "markdown",
   "id": "074e9743-4ddd-4d55-9d2a-0661d8f48def",
   "metadata": {
    "jp-MarkdownHeadingCollapsed": true,
    "tags": []
   },
   "source": [
    "# Inheritence"
   ]
  },
  {
   "cell_type": "markdown",
   "id": "0ba0f5a8-05e6-4435-a95f-d571918d8851",
   "metadata": {},
   "source": [
    "1. What is inheritance in Python? Explain its significance in object-oriented programming."
   ]
  },
  {
   "cell_type": "raw",
   "id": "2c07a018-032d-43e1-89cc-fa85cbc70219",
   "metadata": {},
   "source": [
    "Inheritance is a fundamental concept in object-oriented programming (OOP), including in Python.\n",
    "It allows you to create a new class (the child or subclass) that is based on an existing class (the parent or superclass).\n",
    "The child class inherits the attributes and methods of the parent class, which enables code reuse, organization, and the creation of hierarchies of related classes.\n",
    "\n",
    "Key aspects and significance of inheritence in Python and OOP:\n",
    "\n",
    "1. Code Reusability:\n",
    "--------------------\n",
    "    Inheritance promotes code reusability by allowing you to reuse the attributes and methods defined in the parent class. You don't have to rewrite or duplicate code for common functionality.\n",
    "    \n",
    "2. Hierarchical Structure:\n",
    "--------------------------\n",
    "    Inheritance supports the creation of a hierarchical structure of classes. You can have a base class with common attributes and methods, and then derive multiple subclasses with specific behaviors or additional attributes. This promotes a logical and organized code structure.\n",
    "    \n",
    "3. Modularity:\n",
    "--------------\n",
    "    Inheritance helps in breaking down a complex system into smaller, manageable, and modular components (classes). Each class focuses on a specific aspect of the system, making the code more maintainable and easier to understand.\n",
    "    \n",
    "4. Polymorphism:\n",
    "----------------\n",
    "    Inheritance is closely related to the concept of polymorphism, which allows objects of different classes to be treated as objects of a common base class. This enables you to write more generic code that can work with different types of objects.\n",
    "    \n",
    "5. Overriding:\n",
    "--------------\n",
    "    Child classes can provide their own implementation of methods that are inherited from the parent class. This process is called method overriding and allows you to customize or extend the behavior of the inherited methods in a subclass.\n",
    "    \n",
    "6. Specialization:\n",
    "------------------\n",
    "    Inheritance allows you to create specialized classes that add new attributes or methods while retaining the characteristics of the parent class. This enables you to model real-world relationships and entities effectively."
   ]
  },
  {
   "cell_type": "code",
   "execution_count": 27,
   "id": "50b86eef-71e5-4f9b-b97f-0e42eea244c4",
   "metadata": {},
   "outputs": [
    {
     "name": "stdout",
     "output_type": "stream",
     "text": [
      "Happy says Woof Woof!\n",
      "Chintu says Meow Meow!\n"
     ]
    }
   ],
   "source": [
    "class Animal:\n",
    "    \n",
    "    def __init__(self, name):\n",
    "        self.animal_name = name\n",
    "        \n",
    "    def speak(self):\n",
    "        pass # to define it in child classes\n",
    "    \n",
    "class Dog(Animal):\n",
    "    def speak(self):\n",
    "        return f\"{self.animal_name} says Woof Woof!\"\n",
    "    \n",
    "class Cat(Animal):\n",
    "    def speak(self):\n",
    "        return f\"{self.animal_name} says Meow Meow!\"\n",
    "    \n",
    "dog = Dog(\"Happy\")\n",
    "cat = Cat(\"Chintu\")\n",
    "\n",
    "print(dog.speak())\n",
    "print(cat.speak())"
   ]
  },
  {
   "cell_type": "markdown",
   "id": "2a536f40-621d-4e7d-8014-645a6c08d4d2",
   "metadata": {},
   "source": [
    "2. Differentiate between single inheritance and multiple inheritance in Python. Provide examples for each."
   ]
  },
  {
   "cell_type": "raw",
   "id": "04b1a468-a33e-4ef5-9c63-5bef9c2d5cb8",
   "metadata": {},
   "source": [
    "Single Inheritence:\n",
    "-------------------\n",
    "    Definition:\n",
    "        Single inheritance refers to a situation where a class inherits from only one parent class. In Python, a class can have only one immediate superclass.\n",
    "\n",
    "    Significance: \n",
    "        Single inheritance is straightforward and easy to understand. It promotes a clear and linear hierarchy of classes. It's commonly used when you need to create a class with specific behavior or attributes that inherit from a more general or common parent class.\n",
    "        \n",
    "Example:\n",
    "--------"
   ]
  },
  {
   "cell_type": "code",
   "execution_count": 28,
   "id": "a03e76fe-9a31-4695-9741-8ecff696f6a7",
   "metadata": {},
   "outputs": [],
   "source": [
    "class Animal:\n",
    "    def speak(self):\n",
    "        pass\n",
    "    \n",
    "class Dog(Animal):\n",
    "    def speak(self):\n",
    "        return \"Woof!\"\n",
    "    \n",
    "class Cat(Animal):\n",
    "    def speak(self):\n",
    "        return \"Meow!\""
   ]
  },
  {
   "cell_type": "raw",
   "id": "768ef310-cb70-48bb-981f-a49b37a471fe",
   "metadata": {},
   "source": [
    "Multiple Inheritance:\n",
    "---------------------\n",
    "    Definition:\n",
    "        Multiple inheritance allows a class to inherit from more than one parent class. In Python, you can have multiple base classes separated by commas in the class definition.\n",
    "        \n",
    "    Significance:\n",
    "         Multiple inheritance is a powerful feature, but it can lead to complex class hierarchies and potential issues like the diamond problem (when two base classes have a common ancestor). It is often used when you need a class with behaviors and attributes from multiple, unrelated sources."
   ]
  },
  {
   "cell_type": "code",
   "execution_count": 29,
   "id": "323aeb1d-6ee9-456e-9a1a-58dd04cd9aac",
   "metadata": {},
   "outputs": [
    {
     "name": "stdout",
     "output_type": "stream",
     "text": [
      "class C\n"
     ]
    }
   ],
   "source": [
    "class A:\n",
    "    def speak(self):\n",
    "        return \"class A\"\n",
    "    \n",
    "class B(A):\n",
    "    def speak(self):\n",
    "        return \"class B\"\n",
    "\n",
    "class C(A):\n",
    "    def speak(self):\n",
    "        return \"class C\"\n",
    "    \n",
    "class D(C, B):\n",
    "    pass\n",
    "\n",
    "\n",
    "d = D()\n",
    "\n",
    "print(d.speak())"
   ]
  },
  {
   "cell_type": "raw",
   "id": "6527f769-587f-4a2b-9625-63d8008b2cb7",
   "metadata": {},
   "source": [
    "In this example, class D inherits from both classes B and C, which themselves inherit from class A. When we create an instance of class D and call the speak method, Python encounters ambiguity in choosing which speak method to call due to the diamond problem.\n",
    "\n",
    "To address these issues, Python uses a method resolution order (MRO) algorithm to determine the order in which base classes are searched for methods. The super() function can be used to explicitly call methods in the superclass along the MRO."
   ]
  },
  {
   "cell_type": "markdown",
   "id": "459b7310-4f48-41d8-be80-18649b6d0230",
   "metadata": {},
   "source": [
    "3. Create a Python class called `Vehicle` with attributes `color` and `speed`. Then, create a child class called `Car` that inherits from `Vehicle` and adds a `brand` attribute. Provide an example of creating a `Car` object."
   ]
  },
  {
   "cell_type": "code",
   "execution_count": 30,
   "id": "6f2bdd69-9f9f-46f4-b5df-cc2a467b123e",
   "metadata": {},
   "outputs": [
    {
     "name": "stdout",
     "output_type": "stream",
     "text": [
      "Blue\n",
      "120\n",
      "Car Brand: TATA\n",
      "The colour of car: Blue\n",
      "The maimum speed of the car: 120kmph\n"
     ]
    }
   ],
   "source": [
    "class Vehicle:\n",
    "    def __init__(self, colour, speed):\n",
    "        self.vehicle_colour = colour\n",
    "        self.vehicle_speed = speed\n",
    "        \n",
    "class Car(Vehicle):\n",
    "    def __init__(self, colour, speed, brand):\n",
    "        super().__init__(colour, speed)\n",
    "        self.car_brand = brand\n",
    "        \n",
    "    def display_car_details(self):\n",
    "        print(f\"Car Brand: {self.car_brand}\\nThe colour of car: {self.vehicle_colour}\\nThe maimum speed of the car: {self.vehicle_speed}kmph\")\n",
    "        \n",
    "        \n",
    "\n",
    "car_obj = Car(\"Blue\", 120, \"TATA\")\n",
    "\n",
    "print(car_obj.vehicle_colour)\n",
    "print(car_obj.vehicle_speed)\n",
    "car_obj.display_car_details()"
   ]
  },
  {
   "cell_type": "markdown",
   "id": "f77582cc-b8ef-4b86-840e-c26da8725a55",
   "metadata": {},
   "source": [
    "4. Explain the concept of method overriding in inheritance. Provide a practical example."
   ]
  },
  {
   "cell_type": "raw",
   "id": "2e669ca6-d0ae-44e4-ac6e-af03269c5214",
   "metadata": {},
   "source": [
    "Method overriding:\n",
    "------------------\n",
    "    Method overriding is a fundamental concept in inheritance, which allows a subclass to provide a specific implementation of a method that is already defined in its parent class. In other words, the subclass can replace or override the behavior of a method from the parent class while keeping the same method signature (name and parameters). This allows you to customize the behavior of the inherited method in the subclass.\n",
    "\n",
    "Key points about method overriding:\n",
    "------------------------------------\n",
    "a. The overriding method in the subclass must have the same name, parameters, and return type as the method in the parent class.\n",
    "b. The method in the subclass is used when an object of the subclass calls the method.\n",
    "c. If a subclass does not override a method, it inherits the method from the parent class.\n",
    "\n",
    "Method overriding is a powerful mechanism in object-oriented programming because it allows you to create a common interface in the parent class while letting each subclass tailor its behavior to its specific needs. This makes your code more flexible and extensible.\n",
    "\n",
    "Example:\n",
    "--------"
   ]
  },
  {
   "cell_type": "code",
   "execution_count": 31,
   "id": "1fbf471e-74f5-4774-a096-70a25846cf86",
   "metadata": {},
   "outputs": [
    {
     "name": "stdout",
     "output_type": "stream",
     "text": [
      "Woof!\n",
      "Meow!\n",
      "Generic animal sound\n"
     ]
    }
   ],
   "source": [
    "class Animal:\n",
    "    def speak(self):\n",
    "        return \"Generic animal sound\"\n",
    "    \n",
    "class Dog(Animal):\n",
    "    def speak(self):\n",
    "        return \"Woof!\"\n",
    "    \n",
    "class Cat(Animal):\n",
    "    def speak(self):\n",
    "        return \"Meow!\"\n",
    "    \n",
    "class Snake(Animal):\n",
    "    pass # Snake inherits the speak method from the Animal class\n",
    "\n",
    "# Creating instances of different subclasses\n",
    "dog = Dog()\n",
    "cat = Cat()\n",
    "snake = Snake()\n",
    "\n",
    "print(dog.speak())\n",
    "print(cat.speak())\n",
    "print(snake.speak())"
   ]
  },
  {
   "cell_type": "markdown",
   "id": "e5504cc2-c036-421b-9eae-3c3519419593",
   "metadata": {},
   "source": [
    "5. How can you access the methods and attributes of a parent class from a child class in Python? Give an example."
   ]
  },
  {
   "cell_type": "raw",
   "id": "4301dada-11af-41cc-87e7-357001b762b0",
   "metadata": {},
   "source": [
    "In Python, we can access the methods and attributes of a parent class from a child class by using the super() function. The super() function is used to call methods or access attributes of the parent class within the child class. It provides a way to invoke the parent class's methods and constructors, which can be useful when you want to customize or extend the behavior of the parent class.\n",
    "\n",
    "Example:\n",
    "--------"
   ]
  },
  {
   "cell_type": "code",
   "execution_count": 32,
   "id": "68e379ea-3444-4a9f-a413-71c788382754",
   "metadata": {},
   "outputs": [
    {
     "name": "stdout",
     "output_type": "stream",
     "text": [
      "Patil\n",
      "26\n",
      "This is Parent Method!\n",
      "This is Parent Method!\n",
      "Child Method: \n",
      "Grandfather Name: Patil\n",
      "Child Age: 26\n"
     ]
    }
   ],
   "source": [
    "class Parent:\n",
    "    def __init__(self, pname):\n",
    "        self.father_name = pname\n",
    "    \n",
    "    def parent_method(self):\n",
    "        print(\"This is Parent Method!\")\n",
    "        \n",
    "class Child(Parent):\n",
    "    def __init__(self, gname, age):\n",
    "        super().__init__(gname)\n",
    "        self.child_age = age\n",
    "        \n",
    "    def child_method(self):\n",
    "        super().parent_method()\n",
    "        print(f\"Child Method: \\nGrandfather Name: {self.father_name}\\nChild Age: {self.child_age}\")\n",
    "        \n",
    "child_obj = Child(\"Patil\", 26)\n",
    "\n",
    "# accessing and displaying attributes and methods\n",
    "print(child_obj.father_name)\n",
    "print(child_obj.child_age)\n",
    "\n",
    "child_obj.parent_method()\n",
    "child_obj.child_method()"
   ]
  },
  {
   "cell_type": "markdown",
   "id": "148cfa19-d810-42bf-83b3-669836fc3f7e",
   "metadata": {},
   "source": [
    "6. Discuss the use of the `super()` function in Python inheritance. When and why is it used? Provide an example."
   ]
  },
  {
   "cell_type": "raw",
   "id": "2b301e79-4257-4af0-afe4-d56f003109cd",
   "metadata": {},
   "source": [
    "super():\n",
    "--------\n",
    "    The `super()` function in Python is used in the context of inheritence to call methods and access attributes of the parent class from a child class. It is particularly useful when you want to extend or  customize the behavior of the parent class in the child class while still reusing the functionality provided by the parent class. \n",
    "    \n",
    "The primary use cases for super() are as follows:\n",
    "-------------------------------------------------\n",
    "1. Calling Parent Class Constructors:\n",
    "    We can use super() to call the constructor (__init__ method) of the parent class to ensure that the parent class's attributes and initialization logic are executed before adding any subclass-specific attributes or logic.\n",
    "\n",
    "2. Calling Parent Class Methods:\n",
    "    We can invoke methods defined in the parent class to reuse or extend their functionality in the child class.\n",
    "\n",
    "3. Method Resolution Order (MRO): \n",
    "    Python uses the Method Resolution Order (MRO) to determine the order in which methods are looked up when called. super() helps maintain the proper MRO, especially in cases of multiple inheritance."
   ]
  },
  {
   "cell_type": "code",
   "execution_count": 33,
   "id": "a169fe0f-a4a1-41cc-b80a-ba890af5b67c",
   "metadata": {},
   "outputs": [
    {
     "name": "stdout",
     "output_type": "stream",
     "text": [
      "Value1\n",
      "Value2\n",
      "Method1 in Child with attributes: Value1, Value2\n",
      "Method1 in Parent with attribute: Value1\n"
     ]
    }
   ],
   "source": [
    "class Parent:\n",
    "    def __init__(self, attribute1):\n",
    "        self.attribute1 = attribute1\n",
    "\n",
    "    def method1(self):\n",
    "        return f\"Method1 in Parent with attribute: {self.attribute1}\"\n",
    "\n",
    "class Child(Parent):\n",
    "    def __init__(self, attribute1, attribute2):\n",
    "        super().__init__(attribute1)  # Call the Parent's constructor\n",
    "        self.attribute2 = attribute2\n",
    "\n",
    "    def method1(self):\n",
    "        parent_result = super().method1()  # Call the Parent's method\n",
    "        return f\"Method1 in Child with attributes: {self.attribute1}, {self.attribute2}\\n{parent_result}\"\n",
    "\n",
    "# Creating an instance of the Child class\n",
    "child_obj = Child(\"Value1\", \"Value2\")\n",
    "\n",
    "# Accessing and displaying methods and attributes using super()\n",
    "print(child_obj.attribute1)  # Output: Value1 (from the parent class)\n",
    "print(child_obj.attribute2)  # Output: Value2 (from the child class)\n",
    "print(child_obj.method1())\n"
   ]
  },
  {
   "cell_type": "raw",
   "id": "c4e96bc5-ff4e-49a1-a769-dbf7a520a10b",
   "metadata": {},
   "source": [
    "The super() function helps maintain the integrity of the class hierarchy and ensures that the parent class's behavior is integrated seamlessly with the child class's customizations. It's particularly useful in scenarios where you want to build upon and extend the functionality of existing classes."
   ]
  },
  {
   "cell_type": "markdown",
   "id": "5bf489e5-5ca5-4a69-a0cd-45bf034cc61d",
   "metadata": {},
   "source": [
    "7. Create a Python class called `Animal` with a method `speak()`. Then, create child classes `Dog` and `Cat` that inherit from `Animal` and override the `speak()` method. Provide an example of using these classes."
   ]
  },
  {
   "cell_type": "code",
   "execution_count": 34,
   "id": "9c02110e-7736-4c67-ac2b-4ccdb9019958",
   "metadata": {},
   "outputs": [
    {
     "name": "stdout",
     "output_type": "stream",
     "text": [
      "Happy says Woof Woof!\n",
      "Chintu says Meow Meow!\n"
     ]
    }
   ],
   "source": [
    "class Animal:\n",
    "    \n",
    "    def __init__(self, name):\n",
    "        self.animal_name = name\n",
    "        \n",
    "    def speak(self):\n",
    "        pass # to define it in child classes\n",
    "    \n",
    "class Dog(Animal):\n",
    "    def speak(self):\n",
    "        return f\"{self.animal_name} says Woof Woof!\"\n",
    "    \n",
    "class Cat(Animal):\n",
    "    def speak(self):\n",
    "        return f\"{self.animal_name} says Meow Meow!\"\n",
    "    \n",
    "dog = Dog(\"Happy\")\n",
    "cat = Cat(\"Chintu\")\n",
    "\n",
    "print(dog.speak())\n",
    "print(cat.speak())"
   ]
  },
  {
   "cell_type": "markdown",
   "id": "673c6eea-b490-422c-bda3-227a32aa7fe2",
   "metadata": {},
   "source": [
    "8. Explain the role of the `isinstance()` function in Python and how it relates to inheritance."
   ]
  },
  {
   "cell_type": "raw",
   "id": "6b899459-3104-45bc-a302-0ca32fef60af",
   "metadata": {},
   "source": [
    "isinstance():\n",
    "-------------\n",
    "The isinstance() function in Python is used to determine whether an object belongs to a particular class or is an instance of a class. It is a built-in function that allows you to check the type or class of an object, which can be helpful in various programming scenarios, including cases related to inheritance. \n",
    "\n",
    "The isinstance() function plays a crucial role in:\n",
    "--------------------------------------------------\n",
    "1. Type Checking: \n",
    "    We can use isinstance() to check the type of an object and verify whether it is an instance of a specific class or a subclass.\n",
    "\n",
    "2. Polymorphism: \n",
    "    It's a fundamental tool for implementing polymorphism, where different classes can have methods with the same name. By checking the type of an object before calling a method, we can ensure that the appropriate method is invoked, depending on the object's actual class.\n",
    "\n",
    "3. Hierarchical Structure: \n",
    "    In the context of inheritance, isinstance() helps su understand the hierarchical structure of classes, determine the relationships between objects and their classes, and manage different behavior based on those relationships.\n",
    "    \n",
    "Example:\n",
    "--------"
   ]
  },
  {
   "cell_type": "code",
   "execution_count": 35,
   "id": "8c840167-944f-4cda-9ef6-a93ceaf3f7b0",
   "metadata": {},
   "outputs": [
    {
     "name": "stdout",
     "output_type": "stream",
     "text": [
      "True\n",
      "True\n",
      "True\n",
      "False\n",
      "True\n",
      "True\n",
      "False\n"
     ]
    }
   ],
   "source": [
    "class Animal:\n",
    "    def speak(self):\n",
    "        return \"Generic animal sound\"\n",
    "\n",
    "class Dog(Animal):\n",
    "    def speak(self):\n",
    "        return \"Woof!\"\n",
    "\n",
    "class Cat(Animal):\n",
    "    def speak(self):\n",
    "        return \"Meow!\"\n",
    "\n",
    "# Creating instances of different classes\n",
    "animal = Animal()\n",
    "dog = Dog()\n",
    "cat = Cat()\n",
    "\n",
    "# using isinstance to check the type of objects\n",
    "print(isinstance(animal, Animal)) # True\n",
    "print(isinstance(dog, Animal)) # True\n",
    "print(isinstance(cat, Animal)) # True\n",
    "print(isinstance(animal, Dog)) # False\n",
    "print(isinstance(cat, Cat)) # True\n",
    "print(isinstance(dog, Dog)) # True\n",
    "print(isinstance(cat, Dog)) # False"
   ]
  },
  {
   "cell_type": "raw",
   "id": "28c71512-5952-49f4-960f-4eb598502c85",
   "metadata": {},
   "source": [
    "The isinstance() function is a valuable tool when working with object-oriented code, especially in scenarios where you need to handle objects of different classes within a hierarchy. It allows you to write code that adapts to the type of the object and is essential for achieving polymorphism and dynamic behavior based on the actual class of an object."
   ]
  },
  {
   "cell_type": "markdown",
   "id": "97ac3760-493f-4c46-8e8c-c60c1379794c",
   "metadata": {},
   "source": [
    "9. What is the purpose of the `issubclass()` function in Python? Provide an example."
   ]
  },
  {
   "cell_type": "raw",
   "id": "b0dbd70b-3fe8-4473-b551-9038cd135b2b",
   "metadata": {},
   "source": [
    "The issubclass() function in Python is used to check whether a given class is a subclass of another class. It allows you to determine the inheritance relationship between classes and verify if one class derives from another. The issubclass() function returns a Boolean value, either True if the class is a subclass or False if it is not.\n",
    "\n",
    "The primary purpose of issubclass() is to check and verify class hierarchies and relationships in object-oriented programming.\n",
    "\n",
    "Example:\n",
    "--------"
   ]
  },
  {
   "cell_type": "code",
   "execution_count": 36,
   "id": "b86bb666-6e33-4de1-90b1-7c2c963605cd",
   "metadata": {},
   "outputs": [
    {
     "name": "stdout",
     "output_type": "stream",
     "text": [
      "True\n",
      "True\n",
      "True\n",
      "False\n",
      "False\n"
     ]
    }
   ],
   "source": [
    "class Animal:\n",
    "    pass\n",
    "\n",
    "class Mammal(Animal):\n",
    "    pass\n",
    "\n",
    "class Dog(Mammal):\n",
    "    pass\n",
    "\n",
    "# Check if a class is a subclass of another class\n",
    "print(issubclass(Mammal, Animal))  # Output: True\n",
    "print(issubclass(Dog, Mammal))  # Output: True\n",
    "print(issubclass(Dog, Animal))  # Output: True\n",
    "print(issubclass(Animal, Mammal))  # Output: False\n",
    "print(issubclass(Mammal, Dog)) # Output: False"
   ]
  },
  {
   "cell_type": "raw",
   "id": "bcdd30bc-d7b9-43c6-bf01-9fa979568c29",
   "metadata": {},
   "source": [
    "The issubclass() function is particularly useful when you want to programmatically determine the relationship between classes, verify if a class inherits from another, and make decisions or apply behaviors based on class hierarchies in your code."
   ]
  },
  {
   "cell_type": "markdown",
   "id": "9caa5d60-bb52-4ff6-920d-a2e0bbff1404",
   "metadata": {},
   "source": [
    "10. Discuss the concept of constructor inheritance in Python. How are constructors inherited in child classes?"
   ]
  },
  {
   "cell_type": "raw",
   "id": "41a5d5af-0451-42bd-b4da-d412e968c60d",
   "metadata": {},
   "source": [
    "Constructor inheritance in Python refers to how child classes inherit constructors from their parent classes. Inheritance is a fundamental concept in object-oriented programming (OOP), and it applies to constructors just as it does to methods and attributes. When a child class is created, it can automatically inherit the constructor of its parent class. \n",
    "\n",
    "Constructors are inherited in child classes as:\n",
    "----------------------------------------------\n",
    "1. Automatic Inheritance:\n",
    "~~~~~~~~~~~~~~~~~~~~~~~~~\n",
    "    When a child class is created, it inherits the constructor (__init__ method) of its parent class by default. This means that if we don't define a constructor in the child class, it will use the constructor from the parent class. In other words, the child class will automatically call the constructor of the parent class during its own instantiation.\n",
    "    \n",
    "2. Extending Constructors: \n",
    "~~~~~~~~~~~~~~~~~~~~~~~~~~\n",
    "    If we want to add specific initialization logic or attributes in the child class constructor, we can do so by defining a new constructor in the child class. However, if we still want to utilize the initialization logic of the parent class, we can call the parent class constructor explicitly using super().__init__() within the child class constructor."
   ]
  },
  {
   "cell_type": "code",
   "execution_count": 37,
   "id": "f62946ce-f264-4df4-b642-6238d49e6459",
   "metadata": {},
   "outputs": [
    {
     "name": "stdout",
     "output_type": "stream",
     "text": [
      "Value1\n",
      "Value2\n"
     ]
    }
   ],
   "source": [
    "class Parent:\n",
    "    def __init__(self, param1):\n",
    "        self.attribute1 = param1\n",
    "        \n",
    "class Child(Parent):\n",
    "    def __init__(self, param1, param2):\n",
    "        super().__init__(param1)\n",
    "        self.attribute2 = param2\n",
    "        \n",
    "# creating an instance of the Child class\n",
    "child_obj = Child(\"Value1\", \"Value2\")\n",
    "\n",
    "# accessing attributes in the child object\n",
    "print(child_obj.attribute1)\n",
    "print(child_obj.attribute2)"
   ]
  },
  {
   "cell_type": "markdown",
   "id": "3b6e7af4-5f6b-4080-b329-ac1f51c0cf58",
   "metadata": {},
   "source": [
    "11. Create a Python class called `Shape` with a method `area()` that calculates the area of a shape. Then, create child classes `Circle` and `Rectangle` that inherit from `Shape` and implement the `area()` method accordingly. Provide an example."
   ]
  },
  {
   "cell_type": "code",
   "execution_count": 38,
   "id": "34da4bd2-7774-4511-b8d4-28e666bd1c62",
   "metadata": {},
   "outputs": [
    {
     "name": "stdout",
     "output_type": "stream",
     "text": [
      "Area of Circle: 12.566370614359172sq. mtr\n",
      "Area of Rectangle: 20sq. mtr\n"
     ]
    }
   ],
   "source": [
    "import math\n",
    "class Shape:\n",
    "    def __init__(self, length, width=None):\n",
    "        self.shape_length = length\n",
    "        self.shape_width = width\n",
    "        \n",
    "    def area(self):\n",
    "        pass\n",
    "    \n",
    "class Circle(Shape):\n",
    "    def __init__(self, length):\n",
    "        super().__init__(length)\n",
    "        \n",
    "    def area(self):\n",
    "        area = math.pi * (self.shape_length / 2) ** 2\n",
    "        print(f\"Area of Circle: {area}sq. mtr\")\n",
    "        \n",
    "class Rectangle(Shape):\n",
    "    def __init__(self, length, width):\n",
    "        super().__init__(length, width)\n",
    "        \n",
    "    def area(self):\n",
    "        area = self.shape_length * self.shape_width\n",
    "        print(f\"Area of Rectangle: {area}sq. mtr\")\n",
    "        \n",
    "circle = Circle(4)\n",
    "circle.area()\n",
    "\n",
    "rect = Rectangle(4, 5)\n",
    "rect.area()"
   ]
  },
  {
   "cell_type": "markdown",
   "id": "b6c908b2-070a-4dd0-b1d1-5d2c4ceb6dcc",
   "metadata": {},
   "source": [
    "12. Explain the use of abstract base classes (ABCs) in Python and how they relate to inheritance. Provide an example using the `abc` module."
   ]
  },
  {
   "cell_type": "raw",
   "id": "45193050-1708-45ae-bf6c-014f82b20a52",
   "metadata": {},
   "source": [
    "Abstract Base Classes (ABCs) in Python are a mechanism for defining abstract classes that can't be instantiated themselves but serve as a blueprint for other classes. They are part of the Python abc (Abstract Base Classes) module and are used to define a set of methods that must be implemented by concrete (non-abstract) subclasses. ABCs help ensure that derived classes provide specific functionality, fostering a contract-like structure for classes in Python.\n",
    "\n",
    "Key points about ABCs and their relation to inheritance:\n",
    "--------------------------------------------------------\n",
    "1. Defining Abstract Methods: \n",
    "    ABCs allow you to define abstract methods, which are methods declared in the abstract base class but not implemented. Subclasses that inherit from the abstract base class must implement these abstract methods.\n",
    "\n",
    "2. Preventing Instantiation: \n",
    "    You cannot create instances of an abstract base class. The primary purpose of an ABC is to be a template for subclasses, and it enforces that the abstract methods are implemented in the concrete subclasses.\n",
    "\n",
    "3. Enforcing a Common Interface: \n",
    "    ABCs help ensure that subclasses provide a common interface or behavior, making it easier to work with objects of different classes in a consistent manner.\n",
    "\n",
    "4. Inheritance: \n",
    "    ABCs are used in inheritance, where you create subclasses that inherit from the abstract base class and implement its abstract methods. This enforces a specific structure and behavior in derived classes."
   ]
  },
  {
   "cell_type": "code",
   "execution_count": 39,
   "id": "22599e14-9115-4c98-877b-b5d3890a7592",
   "metadata": {},
   "outputs": [
    {
     "name": "stdout",
     "output_type": "stream",
     "text": [
      "Circle - Area: 78.53975 , Perimeter: 31.4159\n",
      "Rectangle - Area: 24 , Perimeter: 20\n"
     ]
    }
   ],
   "source": [
    "from abc import ABC, abstractmethod\n",
    "\n",
    "class Shape(ABC):\n",
    "    \n",
    "    @abstractmethod\n",
    "    def area(self):\n",
    "        pass\n",
    "    \n",
    "    @abstractmethod\n",
    "    def perimeter(self):\n",
    "        pass\n",
    "    \n",
    "class Circle(Shape):\n",
    "    def __init__(self, radius):\n",
    "        self.radius = radius\n",
    "        \n",
    "    def area(self):\n",
    "        return 3.14159 * self.radius**2\n",
    "    \n",
    "    def perimeter(self):\n",
    "        return 2 * 3.14159 * self.radius\n",
    "    \n",
    "class Rectangle(Shape):\n",
    "    def __init__(self, l, b):\n",
    "        self.length = l\n",
    "        self.breadth = b\n",
    "        \n",
    "    def area(self):\n",
    "        return self.length * self.breadth\n",
    "    \n",
    "    def perimeter(self):\n",
    "        return 2 * (self.length + self.breadth)\n",
    "    \n",
    "    \n",
    "# Creating instances of the concrete subclasses\n",
    "circle = Circle(5)\n",
    "rectangle = Rectangle(4, 6)\n",
    "\n",
    "# using the common interface defined by the abstract base class\n",
    "print(\"Circle - Area:\", circle.area(), \", Perimeter:\", circle.perimeter())\n",
    "print(\"Rectangle - Area:\", rectangle.area(), \", Perimeter:\", rectangle.perimeter())"
   ]
  },
  {
   "cell_type": "raw",
   "id": "aaf55fb9-4b1d-4cc1-b7a5-83bbde227acf",
   "metadata": {},
   "source": [
    "Abstract base classes are a powerful tool in Python for enforcing contracts and ensuring that subclasses conform to a specified structure and behavior. They help improve code reliability and maintainability, especially in situations where multiple classes need to adhere to a shared interface."
   ]
  },
  {
   "cell_type": "markdown",
   "id": "99f1551b-06a9-4e67-9ae9-4db4f90c0450",
   "metadata": {},
   "source": [
    "13. How can you prevent a child class from modifying certain attributes or methods inherited from a parent class in Python?"
   ]
  },
  {
   "cell_type": "raw",
   "id": "e22df385-263b-475b-b038-e5a91994f936",
   "metadata": {},
   "source": [
    "In Python, you can prevent a child class from modifying certain attributes or methods that are inherited from a parent class by using encapsulation and access control techniques. The primary mechanism for this is to use private or protected attributes and methods, and document that they should not be overridden or accessed directly. \n",
    "However, Python doesn't provide strict access control like some other programming languages, and these techniques are based on naming conventions and conventions rathern than strict enforcement.\n",
    "\n",
    "Here are two common ways to prevent modification of attributes or methods:\n",
    "--------------------------------------------------------------------------\n",
    "1. Use Protected Attributes and Methods: \n",
    "    You can prefix attributes and methods with an underscore (e.g., _attribute or _method()) to indicate that they are intended to be protected and should not be modified or accessed directly in subclasses. While it's a naming convention, it serves as a signal to other developers that these members are not intended to be part of the public API and should be used with caution. There's no strict enforcement, so it's more of a convention.\n",
    "    \n",
    "2. Documentation and Code Comments: \n",
    "    Clearly document in your code or provide comments that certain attributes or methods are not intended to be modified or overridden in subclasses. This is a non-technical way to convey your intent and expectations regarding the use of these members."
   ]
  },
  {
   "cell_type": "code",
   "execution_count": 40,
   "id": "6cf32e9d-6494-49a6-bfe0-47dbeddfdd10",
   "metadata": {},
   "outputs": [
    {
     "name": "stdout",
     "output_type": "stream",
     "text": [
      "This is a Parent class's public method\n",
      "42\n",
      "This is a Parent class's protected method\n",
      "This is a Child class's public method\n",
      "42\n",
      "This is a Child class's protected method\n"
     ]
    }
   ],
   "source": [
    "class Parent:\n",
    "    def __init__(self):\n",
    "        self._protected_attribute = 42\n",
    "        \n",
    "    def _protected_method(self):\n",
    "        return \"This is a Parent class's protected method\"\n",
    "    \n",
    "    def public_method(self):\n",
    "        return \"This is a Parent class's public method\"\n",
    "    \n",
    "class Child(Parent):\n",
    "    def __init__(self):\n",
    "        super().__init__()\n",
    "        \n",
    "    def _protected_method(self):\n",
    "        return \"This is a Child class's protected method\"\n",
    "    \n",
    "    def public_method(self):\n",
    "        return \"This is a Child class's public method\"\n",
    "    \n",
    "# create instance of the classes\n",
    "parent = Parent()\n",
    "child = Child()\n",
    "\n",
    "# access attributes and methods\n",
    "print(parent.public_method()) # Allowed\n",
    "print(parent._protected_attribute) # Allowed, but it's a convention to treat it as protected\n",
    "print(parent._protected_method()) # Allowed, but it's a convention to treat it as protected\n",
    "\n",
    "print(child.public_method()) # Allowed\n",
    "print(child._protected_attribute) # Allowed, but it's a convention to treat it as protected\n",
    "print(child._protected_method()) # Allowed, but it's a convention to treat it as protected"
   ]
  },
  {
   "cell_type": "markdown",
   "id": "5deaa945-b8ca-4dde-b5ec-5c3258dc5001",
   "metadata": {},
   "source": [
    "14. Create a Python class called `Employee` with attributes `name` and `salary`. Then, create a child class `Manager` that inherits from `Employee` and adds an attribute `department`. Provide an example."
   ]
  },
  {
   "cell_type": "code",
   "execution_count": 41,
   "id": "b49baf2d-c3dd-418c-ba94-60e4f2a048c3",
   "metadata": {},
   "outputs": [
    {
     "name": "stdout",
     "output_type": "stream",
     "text": [
      "Name: Guruprasad\n",
      "Salary: 3000000\n",
      "Department: IAS\n"
     ]
    }
   ],
   "source": [
    "class Employee:\n",
    "    def __init__(self, name, salary):\n",
    "        self.emp_name = name\n",
    "        self.emp_salary = salary\n",
    "        \n",
    "class Manager(Employee):\n",
    "    def __init__(self, name, salary, department):\n",
    "        super().__init__(name, salary)\n",
    "        self.mng_dept = department\n",
    "        \n",
    "    def display_employee_details(self):\n",
    "        print(f\"Name: {self.emp_name}\\nSalary: {self.emp_salary}\\nDepartment: {self.mng_dept}\")\n",
    "        \n",
    "        \n",
    "mng = Manager(\"Guruprasad\", 3000000, \"IAS\")\n",
    "mng.display_employee_details()"
   ]
  },
  {
   "cell_type": "markdown",
   "id": "e48f786b-a81d-4fe4-ae7f-d94644fb6db2",
   "metadata": {},
   "source": [
    "15. Discuss the concept of method overloading in Python inheritance. How does it differ from method overriding?"
   ]
  },
  {
   "cell_type": "raw",
   "id": "34ec1a1b-b2c1-4dd7-9f5f-d0e9b1d51f30",
   "metadata": {},
   "source": [
    "In Python, method overloading is a feature that allows a class to have multiple methods with the same name but different parameter lists. It's a way to define multiple versions of a method, each of which can accept different types or numbers of arguments. Method overloading enables you to create more flexible and user-friendly interfaces for your classes, as methods with the same name can be invoked with different argument patterns.\n",
    "\n",
    "Method Overloading:\n",
    "-------------------\n",
    "1. Involves multiple methods with the same name in the same class.\n",
    "2. Methods can have different parameter lists (different numbers or types of arguments).\n",
    "3. The appropriate method to call is determined at compile time based on the argument signature (number and types of arguments).\n",
    "4. Python does not directly support method overloading like some other languages (e.g., Java). Instead, you can achieve method overloading using default parameter values, optional arguments, variable-length arguments (*args, **kwargs), or different logic based on argument types.\n",
    "5. Example: Defining multiple versions of a calculate method that can accept different numbers and types of arguments.\n",
    "\n",
    "Method Overriding:\n",
    "------------------\n",
    "1. Involves a child class providing a specific implementation for a method that is already defined in the parent class.\n",
    "2. The method name and the parameter list must match exactly with the method in the parent class.\n",
    "3. The appropriate method to call is determined at runtime based on the object's actual class (polymorphism).\n",
    "4. Python supports method overriding naturally and encourages it as a way to customize behavior in subclasses.\n",
    "5. Example: Providing specific implementations of a speak method in different animal classes (e.g., Dog, Cat) that inherit from a common parent class (Animal)."
   ]
  },
  {
   "cell_type": "code",
   "execution_count": 44,
   "id": "236dbc26-c655-477b-bf9e-f491d5de55a7",
   "metadata": {},
   "outputs": [
    {
     "name": "stdout",
     "output_type": "stream",
     "text": [
      "5 9\n"
     ]
    }
   ],
   "source": [
    "class Calculator:\n",
    "    def calculate(self, a, b):\n",
    "        return a + b\n",
    "\n",
    "    def calculate(self, a, b, c=0):\n",
    "        return a + b + c\n",
    "\n",
    "# Create an instance of the Calculator class\n",
    "calculator = Calculator()\n",
    "\n",
    "# Method overloading in action\n",
    "result1 = calculator.calculate(2, 3)       # Calls the first version of calculate\n",
    "result2 = calculator.calculate(2, 3, 4)    # Calls the second version of calculate\n",
    "print(result1, result2)"
   ]
  },
  {
   "cell_type": "raw",
   "id": "3ec03138-30fb-4251-8c2a-d3addc8e2325",
   "metadata": {},
   "source": [
    "However, note that Python does not natively support method overloading as other languages like Java do. In Python, the last method definition overrides any previous definitions with the same name in the class, and you must manually handle different argument patterns or types within a single method."
   ]
  },
  {
   "cell_type": "markdown",
   "id": "abba261e-1c33-43ab-a961-1c4b223a1616",
   "metadata": {},
   "source": [
    "16. Explain the purpose of the `__init__()` method in Python inheritance and how it is utilized in child classes."
   ]
  },
  {
   "cell_type": "raw",
   "id": "24bf1ff1-75cf-4bb4-8f9a-c68e3a8b22d7",
   "metadata": {},
   "source": [
    "The __init__() method in Python is a special method, also known as a constructor, that is used for initializing objects when they are created. In the context of inheritance, the __init__() method plays a crucial role in child classes as it is utilized to initialize the attributes and behavior of both the child class and the parent class. \n",
    "\n",
    "Here's how it works and its purpose:\n",
    "\n",
    "Initialization of Child Class Attributes: In a child class, the __init__() method is used to initialize the attributes specific to that child class. These attributes are typically not found in the parent class.\n",
    "\n",
    "Inheriting Parent Class Attributes: To ensure that attributes inherited from the parent class are properly initialized, the __init__() method in the child class should typically call the __init__() method of the parent class using super().__init__().\n",
    "\n",
    "Custom Initialization Logic: The __init__() method of a child class can include custom initialization logic that is specific to the child class's attributes and behavior. This logic is in addition to the attributes and behavior inherited from the parent class.\n",
    "\n",
    "Example:\n",
    "--------"
   ]
  },
  {
   "cell_type": "code",
   "execution_count": 45,
   "id": "0a01d00e-ef4d-46ef-bf91-d863c9f69d4f",
   "metadata": {},
   "outputs": [
    {
     "name": "stdout",
     "output_type": "stream",
     "text": [
      "Buddy\n",
      "Golden Retriever\n",
      "Generic Animal\n",
      "Woof!\n",
      "Whiskers\n",
      "Gray\n",
      "Generic Animal\n",
      "Meow!\n"
     ]
    }
   ],
   "source": [
    "class Animal:\n",
    "    def __init__(self, name):\n",
    "        self.name = name\n",
    "        self.species = \"Generic Animal\"\n",
    "\n",
    "    def speak(self):\n",
    "        pass  # To be defined in subclasses\n",
    "\n",
    "class Dog(Animal):\n",
    "    def __init__(self, name, breed):\n",
    "        super().__init__(name)  # Call the parent class constructor to initialize 'name'\n",
    "        self.breed = breed\n",
    "\n",
    "    def speak(self):\n",
    "        return \"Woof!\"\n",
    "\n",
    "class Cat(Animal):\n",
    "    def __init__(self, name, color):\n",
    "        super().__init__(name)  # Call the parent class constructor to initialize 'name'\n",
    "        self.color = color\n",
    "\n",
    "    def speak(self):\n",
    "        return \"Meow!\"\n",
    "\n",
    "# Creating instances of the child classes\n",
    "dog = Dog(\"Buddy\", \"Golden Retriever\")\n",
    "cat = Cat(\"Whiskers\", \"Gray\")\n",
    "\n",
    "# Accessing attributes and methods\n",
    "print(dog.name)  # Output: Buddy\n",
    "print(dog.breed)  # Output: Golden Retriever\n",
    "print(dog.species)  # Output: Generic Animal (inherited from parent)\n",
    "print(dog.speak())  # Output: Woof!\n",
    "\n",
    "print(cat.name)  # Output: Whiskers\n",
    "print(cat.color)  # Output: Gray\n",
    "print(cat.species)  # Output: Generic Animal (inherited from parent)\n",
    "print(cat.speak())  # Output: Meow!\n"
   ]
  },
  {
   "cell_type": "raw",
   "id": "707ffeac-bba1-421b-8d92-4db5489e7879",
   "metadata": {},
   "source": [
    "The __init__() method is essential in inheritance because it helps ensure that both the child class's attributes and the parent class's attributes are properly initialized when objects are created, allowing the child class to build upon the behavior of the parent class"
   ]
  },
  {
   "cell_type": "markdown",
   "id": "f47f48e3-2155-45c2-a5bd-8f0c8e9efd8d",
   "metadata": {},
   "source": [
    "17. Create a Python class called `Bird` with a method `fly()`. Then, create child classes `Eagle` and `Sparrow` that inherit from `Bird` and implement the `fly()` method differently. Provide an example of using these classes."
   ]
  },
  {
   "cell_type": "code",
   "execution_count": 46,
   "id": "c1984841-ddc8-418b-af24-fb45ce5aa3e8",
   "metadata": {},
   "outputs": [
    {
     "name": "stdout",
     "output_type": "stream",
     "text": [
      "Generic Bird Flies\n",
      "Eagle fly high!\n",
      "Sparrow fly in lower altitude!\n"
     ]
    }
   ],
   "source": [
    "class Bird:\n",
    "    def fly(self):\n",
    "        print(\"Generic Bird Flies\")\n",
    "        \n",
    "class Eagle(Bird):\n",
    "    def fly(self):\n",
    "        print(\"Eagle fly high!\")\n",
    "        \n",
    "class Sparrow(Bird):\n",
    "    def fly(self):\n",
    "        print(\"Sparrow fly in lower altitude!\")\n",
    "        \n",
    "bird = Bird()\n",
    "eagle = Eagle()\n",
    "sparrow = Sparrow()\n",
    "\n",
    "bird.fly()\n",
    "eagle.fly()\n",
    "sparrow.fly()"
   ]
  },
  {
   "cell_type": "markdown",
   "id": "14044d95-06b4-4903-857f-e13bdf234f98",
   "metadata": {},
   "source": [
    "18. What is the \"diamond problem\" in multiple inheritance, and how does Python address it?"
   ]
  },
  {
   "cell_type": "raw",
   "id": "d9cdb237-8885-4af3-a689-8cbdca1cee84",
   "metadata": {},
   "source": [
    "The \"diamond problem\" is a challenge that arises in object-oriented programming languages that support multiple inheritance, such as Python. It occurs when a particular class inherits from two or more classes that have a common ancestor. This common ancestor class is inherited more than once through different paths in the inheritance hierarchy, creating ambiguity in method resolution.\n",
    "\n",
    "Example:\n",
    "--------"
   ]
  },
  {
   "cell_type": "code",
   "execution_count": 47,
   "id": "412179d9-bf22-4afe-850d-4cd41d4f2d45",
   "metadata": {},
   "outputs": [
    {
     "name": "stdout",
     "output_type": "stream",
     "text": [
      "[<class '__main__.D'>, <class '__main__.B'>, <class '__main__.C'>, <class '__main__.A'>, <class 'object'>]\n"
     ]
    }
   ],
   "source": [
    "class A:\n",
    "    def speak(self):\n",
    "        return \"A speaks\"\n",
    "\n",
    "class B(A):\n",
    "    def speak(self):\n",
    "        return \"B speaks\"\n",
    "\n",
    "class C(A):\n",
    "    def speak(self):\n",
    "        return \"C speaks\"\n",
    "\n",
    "class D(B, C):\n",
    "    pass\n",
    "\n",
    "print(D.mro())"
   ]
  },
  {
   "cell_type": "raw",
   "id": "6cf1f09d-fddc-4b5d-a311-0935f7cd96ab",
   "metadata": {},
   "source": [
    "Python addresses the diamond problem through a mechanism called Method Resolution Order (MRO). Python uses the C3 Linearization algorithm to calculate the Method Resolution Order, which defines the order in which base classes are searched for a method when it is called on an object of the derived class. The C3 Linearization algorithm creates a linear order of classes, taking into account both depth-first and breadth-first traversal of the inheritance hierarchy.\n",
    "\n",
    "You can check the Method Resolution Order of a class using the mro() method or the built-in super() function:\n",
    "\n",
    "print(D.mro())\n",
    "\n",
    "By using MRO, Python resolves the diamond problem by providing a clear and predictable order in which methods are inherited and invoked. This ensures that the method from the common ancestor class (A in this example) is called only once, preventing ambiguity and resolving conflicts in multiple inheritance scenarios."
   ]
  },
  {
   "cell_type": "markdown",
   "id": "42a3a6dc-b0e4-4035-91bd-09eba261bbe8",
   "metadata": {},
   "source": [
    "19. Discuss the concept of \"is-a\" and \"has-a\" relationships in inheritance, and provide examples of each."
   ]
  },
  {
   "cell_type": "raw",
   "id": "22174e27-60e2-4507-a5cd-f190b62f3987",
   "metadata": {},
   "source": [
    "Inheritance in object-oriented programming is often used to model relationships between classes. Two common types of relationships that can be represented using inheritance are \"is-a\" relationships and \"has-a\" relationships.\n",
    "\n",
    "1. \"is-a\" Relationship (Inheritance):\n",
    "~~~~~~~~~~~~~~~~~~~~~~~~~~~~~~~~~~~~~\n",
    "a. An \"is-a\" relationship represents an inheritance relationship where one class is a specialization or subtype of another class. In other words, a subclass \"is-a\" type of its parent class.\n",
    "b. Inheritance is used to model \"is-a\" relationships, where a child class inherits attributes and behavior from a parent class. The child class is a specific kind of the parent class.\n",
    "c. \"is-a\" relationships are typically implemented using class inheritance.\n"
   ]
  },
  {
   "cell_type": "code",
   "execution_count": 48,
   "id": "2a18da6c-fb6f-4f92-94df-baa12c7219ad",
   "metadata": {},
   "outputs": [],
   "source": [
    "class Animal:\n",
    "    def speak(self):\n",
    "        pass\n",
    "\n",
    "class Dog(Animal):\n",
    "    def speak(self):\n",
    "        return \"Woof!\"\n",
    "\n",
    "class Cat(Animal):\n",
    "    def speak(self):\n",
    "        return \"Meow!\"\n",
    "\n",
    "# Dog and Cat are specific types of Animals, representing an \"is-a\" relationship."
   ]
  },
  {
   "cell_type": "raw",
   "id": "74686601-0e52-4085-aa7d-aa0e3b165c5b",
   "metadata": {},
   "source": [
    "\n",
    "2. \"has-a\" Relationship (Composition):\n",
    "~~~~~~~~~~~~~~~~~~~~~~~~~~~~~~~~~~~~~~\n",
    "a. A \"has-a\" relationship represents a composition or aggregation relationship where one class \"has\" another class as a part or component.\n",
    "b. Composition is used to model \"has-a\" relationships, where an object of one class contains or is composed of objects of another class.\n",
    "c. \"has-a\" relationships are typically implemented by creating instances of other classes as attributes within a class."
   ]
  },
  {
   "cell_type": "code",
   "execution_count": 49,
   "id": "826464ea-7d4d-4a63-b4f9-3f59244885c8",
   "metadata": {},
   "outputs": [],
   "source": [
    "class Engine:\n",
    "    def start(self):\n",
    "        pass\n",
    "    \n",
    "class Car:\n",
    "    def __init__(self):\n",
    "        self.engine = Engine()\n",
    "        \n",
    "# A Car \"has-a\" Engine, representing a \"has-a\" relationship."
   ]
  },
  {
   "cell_type": "raw",
   "id": "331d1198-b094-4024-b9d3-26472ac8c4d3",
   "metadata": {},
   "source": [
    "Both \"is-a\" and \"has-a\" relationships are fundamental concepts in object-oriented programming and are used to model different aspects of real-world relationships and structures in software. The choice between using inheritance (for \"is-a\" relationships) and composition (for \"has-a\" relationships) depends on the specific requirements and design goals of the software."
   ]
  },
  {
   "cell_type": "markdown",
   "id": "ebc6a92b-20be-44e0-b687-68da4baaa4d9",
   "metadata": {},
   "source": [
    "20. Create a Python class hierarchy for a university system. Start with a base class `Person` and create child classes `Student` and `Professor`, each with their own attributes and methods. Provide an example of using these classes in a university context."
   ]
  },
  {
   "cell_type": "code",
   "execution_count": 50,
   "id": "57826508-74b2-4313-8fda-3941d4200484",
   "metadata": {},
   "outputs": [
    {
     "name": "stdout",
     "output_type": "stream",
     "text": [
      "Hello, my name is Alice, and I am 20 years old.\n",
      "Alice is studying Computer Science.\n",
      "Hello, my name is Dr. Smith, and I am 45 years old.\n",
      "Dr. Smith is teaching in the Mathematics department.\n"
     ]
    }
   ],
   "source": [
    "class Person:\n",
    "    def __init__(self, name, age):\n",
    "        self.name = name\n",
    "        self.age = age\n",
    "        \n",
    "    def introduce(self):\n",
    "        return f\"Hello, my name is {self.name}, and I am {self.age} years old.\"\n",
    "    \n",
    "class Student(Person):\n",
    "    def __init__(self, name, age, student_id, subject):\n",
    "        super().__init__(name, age)\n",
    "        self.student_id = student_id\n",
    "        self.subject = subject\n",
    "        \n",
    "    def study(self):\n",
    "        return f\"{self.name} is studying {self.subject}.\"\n",
    "    \n",
    "class Professor(Person):\n",
    "    def __init__(self, name, age, emp_id, dept):\n",
    "        super().__init__(name, age)\n",
    "        self.employee_id = emp_id\n",
    "        self.department = dept\n",
    "        \n",
    "    def teach(self):\n",
    "        return f\"{self.name} is teaching in the {self.department} department.\"\n",
    "    \n",
    "student1 = Student(\"Alice\", 20, \"S12345\", \"Computer Science\")\n",
    "professor1 = Professor(\"Dr. Smith\", 45, \"P9876\", \"Mathematics\")\n",
    "\n",
    "print(student1.introduce())\n",
    "print(student1.study())\n",
    "\n",
    "print(professor1.introduce())\n",
    "print(professor1.teach())"
   ]
  },
  {
   "cell_type": "markdown",
   "id": "bf1829ee-de21-4c8e-bfe1-8d3a7956fc72",
   "metadata": {
    "jp-MarkdownHeadingCollapsed": true,
    "tags": []
   },
   "source": [
    "# Encapsulation"
   ]
  },
  {
   "cell_type": "markdown",
   "id": "2bc7ce14-7e4b-474f-965a-c127daee8fc8",
   "metadata": {},
   "source": [
    "1. Explain the concept of encapsulation in Python. What is its role in object-oriented programming?"
   ]
  },
  {
   "cell_type": "raw",
   "id": "f4ec263e-84c7-447e-a4e9-47b3ba73657a",
   "metadata": {},
   "source": [
    "Encapsulation is one of the fundamental principles of object-oriented programming (OOP) and is used to bundle data (attributes) and methods (functions) that operate on that data into a single unit known as a class. Encapsulation serves to hide the internal implementation details of a class and restrict access to certain attributes or methods. It is often summarized with the phrase \"data hiding\" or \"information hiding.\"\n",
    "\n",
    "The key concepts of encapsulation in Python and its role in OOP are as follows:\n",
    "\n",
    "1. Access Control:\n",
    "------------------\n",
    "    Encapsulation allows you to control the visibility and accessibility of attributes and methods. You can designate certain members as public, private, or protected.\n",
    "    Public members can be accessed from anywhere.\n",
    "    Private members are indicated by a leading underscore (e.g., _attribute) and are intended to be accessed only within the class. While Python doesn't enforce strict access control, it serves as a convention.\n",
    "    Protected members are indicated by a leading underscore followed by another underscore (e.g., __attribute) and are intended to be treated as non-public parts of the API, although they can still be accessed.\n",
    "    \n",
    "\n",
    "2. Data Integrity and Consistency:\n",
    "----------------------------------\n",
    "    Encapsulation allows you to maintain the integrity and consistency of data by controlling access to it. You can ensure that data is accessed and modified only through well-defined methods, which can include validation and error handling.\n",
    "    \n",
    "\n",
    "3. Abstraction:\n",
    "---------------\n",
    "    Encapsulation promotes abstraction, where the internal details of a class are hidden from the outside world. Users of a class only need to be concerned with the public interface, which simplifies code understanding and maintenance.\n",
    "    \n",
    "\n",
    "4. Flexibility and Extensibility:\n",
    "---------------------------------\n",
    "    Encapsulation provides a structured way to change the internal implementation of a class without affecting the code that uses the class. This promotes modularity and flexibility in software design."
   ]
  },
  {
   "cell_type": "code",
   "execution_count": 51,
   "id": "26a5ec44-cd4a-472d-b705-096fcf52b7e2",
   "metadata": {},
   "outputs": [
    {
     "name": "stdout",
     "output_type": "stream",
     "text": [
      "Toyota\n",
      "Engine started for Toyota Camry\n",
      "Corolla\n",
      "Engine started for Toyota Corolla\n"
     ]
    }
   ],
   "source": [
    "class Car:\n",
    "    def __init__(self, make, model):\n",
    "        self._make = make\n",
    "        self.__model = model\n",
    "        \n",
    "    def start_engine(self):\n",
    "        print(\"Engine started for\", self._make, self.__model)\n",
    "        \n",
    "    def set_model(self, new_model):\n",
    "        self.__model = new_model\n",
    "        \n",
    "        \n",
    "car = Car(\"Toyota\", \"Camry\")\n",
    "\n",
    "print(car._make)\n",
    "\n",
    "# print(car.__model) # Raises an error (NameError) - Private attribute\n",
    "\n",
    "car.start_engine()\n",
    "\n",
    "car.set_model(\"Corolla\")\n",
    "\n",
    "print(car._Car__model)\n",
    "\n",
    "car.start_engine()"
   ]
  },
  {
   "cell_type": "markdown",
   "id": "cac3c9a6-ded3-45f8-bac5-6e2a2d9720a7",
   "metadata": {},
   "source": [
    "2. Describe the key principles of encapsulation, including access control and data hiding."
   ]
  },
  {
   "cell_type": "raw",
   "id": "50088fde-5d83-4496-8d09-ca824b8b856e",
   "metadata": {},
   "source": [
    "The key principles of encapsulation in object-oriented programming, including access control and data hiding, are fundamental to creating well-structured and maintainable code. These principles promote the concept of bundling data and methods into a class and controlling how that data can be accessed or modified. \n",
    "\n",
    "Core principles:\n",
    "----------------\n",
    "1. Access Control:\n",
    "    Access control involves specifying which parts of a class (attributes and methods) are visible and accessible from outside the class.\n",
    "    It allows you to define the visibility of members, designating them as public, protected, or private.\n",
    "    Public members can be accessed from anywhere.\n",
    "    Protected members are indicated by a single underscore (e.g., _attribute) and are considered protected but can still be accessed if necessary.\n",
    "    Private members are indicated by a double underscore (e.g., __attribute) and are intended to be kept private to the class, although they can still be accessed through name mangling.\n",
    "    \n",
    "2. Data Hiding:\n",
    "    Data hiding, or information hiding, is the practice of encapsulating data within a class and restricting direct access to it from outside the class.\n",
    "    It prevents external code from modifying internal data directly, promoting data integrity and consistency.\n",
    "    Access to data is provided through well-defined methods (getters and setters) that can include validation and error handling.\n",
    "    Data hiding is a fundamental aspect of encapsulation, as it shields the internal details of a class from external code.\n",
    "    \n",
    "3. Abstraction:\n",
    "    Encapsulation encourages abstraction, which means that the internal details and complexity of a class are hidden from the users of the class.\n",
    "    Users only need to be concerned with the public interface (methods and attributes) of a class, simplifying the understanding and usage of the class.\n",
    "    \n",
    "4. Modularity and Flexibility:\n",
    "    Encapsulation promotes modularity in software design, making it easier to modify and extend the internal implementation of a class without affecting the code that uses the class.\n",
    "    It enhances the flexibility of the codebase, allowing for more straightforward maintenance and changes over time.\n",
    "    \n",
    "5. Enhanced Security:\n",
    "    By controlling access to attributes and methods, encapsulation can enhance the security of your code by preventing unauthorized access and modification of sensitive data."
   ]
  },
  {
   "cell_type": "code",
   "execution_count": 56,
   "id": "578de06e-e714-4fb7-89ff-a37cd7f2de27",
   "metadata": {},
   "outputs": [
    {
     "name": "stdout",
     "output_type": "stream",
     "text": [
      "0\n",
      "10\n"
     ]
    }
   ],
   "source": [
    "class MyClass:\n",
    "    def __init__(self):\n",
    "        self._my_private_var = 0\n",
    "\n",
    "    @property\n",
    "    def my_private_var(self):\n",
    "        return self._my_private_var\n",
    "\n",
    "    @my_private_var.setter\n",
    "    def my_private_var(self, value):\n",
    "        if value >= 0:\n",
    "            self._my_private_var = value\n",
    "        else:\n",
    "            print(\"Value must be non-negative.\")\n",
    "\n",
    "# creating instance of MyClass\n",
    "mc = MyClass()\n",
    "print(mc.my_private_var)\n",
    "mc.my_private_var = 10\n",
    "print(mc.my_private_var)"
   ]
  },
  {
   "cell_type": "markdown",
   "id": "2ab740cd-4ca4-4429-9684-583cc8e68ab1",
   "metadata": {},
   "source": [
    "3. How can you achieve encapsulation in Python classes? Provide an example."
   ]
  },
  {
   "cell_type": "raw",
   "id": "b614cec0-7457-41e2-9203-c98250b42e93",
   "metadata": {},
   "source": [
    "Encapsulation in Python is achieved by controlling access to class attributes and methods using access control modifiers and name mangling. \n",
    "\n",
    "The primary techniques to achieve encapsulation are:\n",
    "\n",
    "1. Access Control Modifiers:\n",
    "    Public attributes and methods are accessible from anywhere.\n",
    "    Protected attributes and methods are indicated by a single underscore (e.g., _attribute or _method()) and are considered protected, although they can still be accessed if necessary.\n",
    "    Private attributes and methods are indicated by a double underscore (e.g., __attribute or __method()) and are intended to be kept private to the class.\n",
    "    \n",
    "2. Getters and Setter Methods:\n",
    "    Use methods to get (getter) and set (setter) the values of attributes. This provides controlled access to attribute values, allowing for validation and error handling.\n",
    "    \n",
    "3. Name Mangling for Private Members:\n",
    "    Private attributes can still be accessed using a name mangling mechanism, which appends the class name to the attribute name (e.g., _classname__attribute). While not recommended, it's possible and offers a way to access private attributes if necessary."
   ]
  },
  {
   "cell_type": "code",
   "execution_count": 57,
   "id": "b6dd7fe8-e808-4dcb-861c-9e21f3484bf9",
   "metadata": {},
   "outputs": [
    {
     "name": "stdout",
     "output_type": "stream",
     "text": [
      "Hansa\n",
      "26\n",
      "0.0\n",
      "0.0\n",
      "27\n",
      "3.5\n"
     ]
    }
   ],
   "source": [
    "class Student:\n",
    "    def __init__(self, name, age):\n",
    "        self.name = name\n",
    "        self._age = age\n",
    "        self.__gpa = 0.0\n",
    "        \n",
    "    # getter method for age\n",
    "    def get_age(self):\n",
    "        return self._age\n",
    "    \n",
    "    # setter method for age\n",
    "    def set_age(self, new_age):\n",
    "        if new_age >= 0:\n",
    "            self._age = new_age\n",
    "        else:\n",
    "            print(\"Age cannot be negative.\")\n",
    "            \n",
    "    \n",
    "    # getter method for gpa\n",
    "    def get_gpa(self):\n",
    "        return self.__gpa\n",
    "    \n",
    "    # setter method for gpa\n",
    "    def set_gpa(self, new_gpa):\n",
    "        if 0.0 <= new_gpa <= 4.0:\n",
    "            self.__gpa = new_gpa\n",
    "        else:\n",
    "            print(\"GPA should be between 0.0 and 4.0.\")\n",
    "            \n",
    "\n",
    "# create an instance of Student class\n",
    "student = Student(\"Hansa\", 26)\n",
    "\n",
    "# Accessing attributes with access control\n",
    "print(student.name)\n",
    "print(student.get_age())\n",
    "print(student.get_gpa())\n",
    "        \n",
    "# print(student._age)  # Allowed (not recommended) to access a protected attribute\n",
    "# print(student.__gpa)  # Raises an error (AttributeError) for private attribute\n",
    "\n",
    "# Accessing private attribute using name mangling\n",
    "print(student._Student__gpa) # Less common practice\n",
    "\n",
    "# Using setter methods to modify attributes\n",
    "student.set_age(27)\n",
    "student.set_gpa(3.5)\n",
    "\n",
    "# Accessing attributes after modification\n",
    "print(student.get_age()) # Protected attribute after modification\n",
    "print(student.get_gpa()) # Private attribute after modification"
   ]
  },
  {
   "cell_type": "markdown",
   "id": "92236b5f-06eb-46f4-9736-677d8dd12bc6",
   "metadata": {},
   "source": [
    "4. Discuss the difference between public, private, and protected access modifiers in Python."
   ]
  },
  {
   "cell_type": "raw",
   "id": "dbb4f6e3-350a-4547-a971-3be59fe84723",
   "metadata": {},
   "source": [
    "In Python, access modifiers are used to control the visibility and accessibility of class attributes and methods. While Python does not enforce access control as strictly as some other programming languages, it provides naming conventions and mechanisms that developers can use to indicate the intended access level. There are three common access modifiers in Python:\n",
    "\n",
    "Public (No Modifier):\n",
    "---------------------\n",
    "In Python, attributes and methods without any access modifier (e.g., attribute or method()) are considered public.\n",
    "Public members can be accessed from anywhere, both within the class and outside of it.\n",
    "They are part of the public interface of the class and are meant to be used by external code.\n",
    "\n",
    "Protected (Single Underscore Prefix):\n",
    "--------------------------------------\n",
    "Attributes and methods with a single underscore prefix (e.g., _attribute or _method()) are considered protected in Python.\n",
    "While Python doesn't enforce strict protection, the single underscore serves as a convention to indicate that these members are intended for internal use by the class or its subclasses.\n",
    "Protected members can still be accessed from outside the class, but they are intended to be treated as non-public parts of the class's API.\n",
    "\n",
    "Private (Double Underscore Prefix):\n",
    "-----------------------------------\n",
    "Attributes and methods with a double underscore prefix (e.g., __attribute or __method()) are considered private in Python.\n",
    "Private members are intended to be kept private to the class and are not meant to be accessed directly from outside the class.\n",
    "Python employs a name mangling mechanism to make it more challenging to access private attributes directly. The attribute name is modified to include the class name (e.g., _classname__attribute).\n",
    "\n",
    "It's important to note that Python's access control is not as strict as in some other languages like Java. Access control is mainly based on conventions and developer discipline rather than strict enforcement by the language. Python trusts the developer to follow these conventions. The access modifier conventions are as follows:\n",
    "\n",
    "Public: No prefix or underscore.\n",
    "Protected: Single underscore prefix (e.g., _attribute).\n",
    "Private: Double underscore prefix (e.g., __attribute) with name mangling applied."
   ]
  },
  {
   "cell_type": "code",
   "execution_count": 58,
   "id": "39351ae7-6ff9-405a-9742-681882617674",
   "metadata": {},
   "outputs": [
    {
     "name": "stdout",
     "output_type": "stream",
     "text": [
      "I am public\n",
      "I am protected\n",
      "This is a public method\n",
      "This is a protected method\n",
      "I am private\n",
      "This is a private method\n"
     ]
    }
   ],
   "source": [
    "class MyClass:\n",
    "    def __init__(self):\n",
    "        self.public_attribute = \"I am public\"\n",
    "        self._protected_attribute = \"I am protected\"\n",
    "        self.__private_attribute = \"I am private\"\n",
    "\n",
    "    def public_method(self):\n",
    "        return \"This is a public method\"\n",
    "\n",
    "    def _protected_method(self):\n",
    "        return \"This is a protected method\"\n",
    "\n",
    "    def __private_method(self):\n",
    "        return \"This is a private method\"\n",
    "\n",
    "# Accessing attributes and methods with different access levels\n",
    "obj = MyClass()\n",
    "\n",
    "print(obj.public_attribute)  # Public attribute\n",
    "print(obj._protected_attribute)  # Protected attribute (convention)\n",
    "# print(obj.__private_attribute)  # Raises an error (AttributeError) for private attribute\n",
    "\n",
    "print(obj.public_method())  # Public method\n",
    "print(obj._protected_method())  # Protected method (convention)\n",
    "# print(obj.__private_method())  # Raises an error (AttributeError) for private method\n",
    "\n",
    "# Accessing private attribute using name mangling\n",
    "print(obj._MyClass__private_attribute)  # Less common practice\n",
    "print(obj._MyClass__private_method()) # Less common practice\n"
   ]
  },
  {
   "cell_type": "markdown",
   "id": "46c46132-6114-49bf-b4b0-a7d579544e0c",
   "metadata": {},
   "source": [
    "5. Create a Python class called `Person` with a private attribute `__name`. Provide methods to get and set the name attribute."
   ]
  },
  {
   "cell_type": "code",
   "execution_count": 59,
   "id": "0a664d7a-2fa0-439d-9adb-5bdbd1a0965d",
   "metadata": {},
   "outputs": [
    {
     "name": "stdout",
     "output_type": "stream",
     "text": [
      "Guru\n",
      "Name is: Guru\n",
      "After modifying..\n",
      "Hansa\n",
      "Name is: Hansa\n"
     ]
    }
   ],
   "source": [
    "class Person:\n",
    "    def __init__(self, name):\n",
    "        self.__name = name\n",
    "        \n",
    "    def get_name(self):\n",
    "        return self.__name\n",
    "    \n",
    "    def set_name(self, new_name):\n",
    "        self.__name = new_name\n",
    "        \n",
    "    def display_name(self):\n",
    "        return f\"Name is: {self.__name}\"\n",
    "    \n",
    "person = Person(\"Guru\")\n",
    "print(person.get_name())\n",
    "print(person.display_name())\n",
    "print(\"After modifying..\")\n",
    "person.set_name(\"Hansa\")\n",
    "print(person.get_name())\n",
    "print(person.display_name())"
   ]
  },
  {
   "cell_type": "markdown",
   "id": "97347c8e-c2b8-49ca-9aa5-6ef1ea2fab38",
   "metadata": {},
   "source": [
    "6. Explain the purpose of getter and setter methods in encapsulation. Provide examples."
   ]
  },
  {
   "cell_type": "raw",
   "id": "455dbe05-4a3e-4b67-b363-b7a70732b7f0",
   "metadata": {},
   "source": [
    "Getter and setter methods are an essential part of encapsulation in object-oriented programming. They serve the purpose of providing controlled access to class attributes (data members) by allowing you to retrieve and modify their values. By using getter and setter methods, you can ensure data integrity, apply validation logic, and implement access control, even in languages like Python where direct attribute access is possible.\n",
    "\n",
    "Getter Methods:\n",
    "--------------\n",
    "1. Getter methods, also known as accessor methods, are used to retrieve the values of class attributes.\n",
    "2. They provide controlled access to attribute values and can include logic for data retrieval or transformation.\n",
    "3. Getter methods are typically named with the prefix \"get_\" followed by the attribute name they retrieve.\n",
    "\n",
    "Setter Methods:\n",
    "---------------\n",
    "1. Setter methods, also known as mutator methods, are used to modify the values of class attributes.\n",
    "2. They provide controlled access to attribute modification and can include validation and error-handling logic.\n",
    "3. Setter methods are typically named with the prefix \"set_\" followed by the attribute name they modify."
   ]
  },
  {
   "cell_type": "code",
   "execution_count": 60,
   "id": "dbd0fd8f-4916-44dc-9e1a-668a833f2efe",
   "metadata": {},
   "outputs": [
    {
     "name": "stdout",
     "output_type": "stream",
     "text": [
      "Alice\n",
      "20\n",
      "Bob\n",
      "21\n"
     ]
    }
   ],
   "source": [
    "class Student:\n",
    "    def __init__(self, name, age):\n",
    "        self._name = name  # Protected attribute\n",
    "        self._age = age  # Protected attribute\n",
    "\n",
    "    # Getter method for name\n",
    "    def get_name(self):\n",
    "        return self._name\n",
    "\n",
    "    # Setter method for name\n",
    "    def set_name(self, name):\n",
    "        if len(name) > 0:\n",
    "            self._name = name\n",
    "        else:\n",
    "            print(\"Name cannot be empty.\")\n",
    "\n",
    "    # Getter method for age\n",
    "    def get_age(self):\n",
    "        return self._age\n",
    "\n",
    "    # Setter method for age\n",
    "    def set_age(self, age):\n",
    "        if age >= 0:\n",
    "            self._age = age\n",
    "        else:\n",
    "            print(\"Age cannot be negative.\")\n",
    "\n",
    "# Create an instance of the Student class\n",
    "student = Student(\"Alice\", 20)\n",
    "\n",
    "# Using getter methods to retrieve attribute values\n",
    "print(student.get_name())  # Access the name attribute\n",
    "print(student.get_age())   # Access the age attribute\n",
    "\n",
    "# Using setter methods to modify attribute values\n",
    "student.set_name(\"Bob\")  # Set a new name\n",
    "student.set_age(21)      # Set a new age\n",
    "\n",
    "# Accessing attributes after modification\n",
    "print(student.get_name())  # Access the updated name attribute\n",
    "print(student.get_age())   # Access the updated age attribute"
   ]
  },
  {
   "cell_type": "raw",
   "id": "bab33179-3a39-4a15-b25d-8a99b956e3cb",
   "metadata": {},
   "source": [
    "Using @setter decorator"
   ]
  },
  {
   "cell_type": "code",
   "execution_count": 61,
   "id": "4dec9828-a763-4a8f-82e3-e3592f911456",
   "metadata": {},
   "outputs": [
    {
     "name": "stdout",
     "output_type": "stream",
     "text": [
      "Hansa\n",
      "26\n",
      "Guru\n",
      "27\n"
     ]
    }
   ],
   "source": [
    "class Student:\n",
    "    def __init__(self, name, age):\n",
    "        self._name = name\n",
    "        self._age = age\n",
    "        \n",
    "    @property\n",
    "    def name(self):\n",
    "        return self._name\n",
    "    \n",
    "    @property\n",
    "    def age(self):\n",
    "        return self._age\n",
    "    \n",
    "    @name.setter\n",
    "    def name(self, new_name):\n",
    "        if len(new_name) > 0:\n",
    "            self._name = new_name\n",
    "        else:\n",
    "            print(\"Name cannot be empty.\")\n",
    "            \n",
    "    @age.setter\n",
    "    def age(self, new_age):\n",
    "        if new_age > 0:\n",
    "            self.age = new_age\n",
    "        else:\n",
    "            print(\"Age cannot be negative.\")\n",
    "            \n",
    "student2 = Student(\"Hansa\", 26)\n",
    "\n",
    "# Using the properties as if they were attributes\n",
    "print(student2.name)  # Access the name attribute\n",
    "print(student2.age)   # Access the age attribute\n",
    "\n",
    "\n",
    "# Modifying the properties\n",
    "student.name = \"Guru\"  # Set a new name\n",
    "student.age = 27      # Set a new age\n",
    "\n",
    "# Accessing properties after modification\n",
    "print(student.name)  # Access the updated name attribute\n",
    "print(student.age)   # Access the updated age attribute"
   ]
  },
  {
   "cell_type": "markdown",
   "id": "40d0ccb3-7861-422d-9996-1452693bbd41",
   "metadata": {},
   "source": [
    "7. What is name mangling in Python, and how does it affect encapsulation?"
   ]
  },
  {
   "cell_type": "raw",
   "id": "10ed30a1-4467-41de-aca4-fa4f361d80c1",
   "metadata": {},
   "source": [
    "Name mangling is a mechanism in Python that affects the visibility and accessibility of class attributes, especially those with double underscores as a prefix. Name mangling is primarily used to make it more challenging to access or override private attributes directly from outside the class. It is related to the concept of encapsulation.\n",
    "\n",
    "Here's how name mangling works and its impact on encapsulation:\n",
    "\n",
    "Name Mangling Process:\n",
    "-----------------------\n",
    "When an attribute of a class is defined with a double underscore prefix (e.g., __attribute), Python performs name mangling on the attribute name.\n",
    "Python renames the attribute by adding the class name as a prefix followed by another underscore (e.g., _classname__attribute).\n",
    "This process occurs during compilation, and the mangled attribute name is used for internal storage.\n",
    "\n",
    "Encapsulation and Name Mangling:\n",
    "--------------------------------\n",
    "Name mangling doesn't provide true private access control in Python. Instead, it makes it less straightforward to access private attributes from outside the class.\n",
    "By mangling the attribute name with the class name, Python ensures that the attribute remains unique and less likely to conflict with attributes of other classes.\n",
    "The purpose of name mangling is to provide a level of encapsulation and to discourage direct access to private attributes by external code.\n",
    "Developers are discouraged from accessing mangled attributes directly, and it's considered a less common and less recommended practice."
   ]
  },
  {
   "cell_type": "code",
   "execution_count": 62,
   "id": "9bb8ab1d-5be7-4730-9400-543ef0769387",
   "metadata": {},
   "outputs": [
    {
     "name": "stdout",
     "output_type": "stream",
     "text": [
      "I am private attribute\n",
      "Modified Private variable\n"
     ]
    }
   ],
   "source": [
    "class Myclass:\n",
    "    def __init__(self):\n",
    "        self.__private = \"I am private attribute\"\n",
    "        \n",
    "obj = Myclass()\n",
    "\n",
    "# print(obj.__private)\n",
    "\n",
    "# Accessing the private attribute using the mangled name\n",
    "print(obj._Myclass__private)\n",
    "\n",
    "# Modifying the private attribute using the mangled name\n",
    "obj._Myclass__private = \"Modified Private variable\"\n",
    "\n",
    "print(obj._Myclass__private)"
   ]
  },
  {
   "cell_type": "markdown",
   "id": "bd4f145d-5155-4f8c-88c4-79e8f96ebe75",
   "metadata": {},
   "source": [
    "8. Create a Python class called `BankAccount` with private attributes for the account balance (`__balance`) and account number (`__account_number`). Provide methods for depositing and withdrawing money."
   ]
  },
  {
   "cell_type": "code",
   "execution_count": 63,
   "id": "fa614864-3ea4-4a8e-95ea-a700573e6ca9",
   "metadata": {},
   "outputs": [
    {
     "name": "stdout",
     "output_type": "stream",
     "text": [
      "12345\n",
      "1000\n",
      "1300\n"
     ]
    }
   ],
   "source": [
    "class BankAccount:\n",
    "    def __init__(self, anum, balance):\n",
    "        self.__account_number = anum\n",
    "        self.__balance = balance\n",
    "        \n",
    "    def get_account_number(self):\n",
    "        return self.__account_number\n",
    "    \n",
    "    def get_balance(self):\n",
    "        return self.__balance\n",
    "    \n",
    "    def deposit(self, amount):\n",
    "        if amount > 0:\n",
    "            self.__balance += amount\n",
    "    \n",
    "    def withdraw(self, amount):\n",
    "        if amount > 0 and amount <= self.__balance:\n",
    "            self.__balance -= amount\n",
    "            \n",
    "# Create an instance of the BankAccount class\n",
    "account = BankAccount(\"12345\", 1000)\n",
    "\n",
    "# Accessing attributes and methods with access control\n",
    "print(account.get_account_number())  # Allowed (protected attribute)\n",
    "print(account.get_balance())  # Allowed (private attribute)\n",
    "\n",
    "# Attempt to access private attribute directly (not recommended)\n",
    "# print(account.__balance)  # Raises an error (AttributeError)\n",
    "\n",
    "# Modifying private attribute using methods\n",
    "account.deposit(500)\n",
    "account.withdraw(200)\n",
    "\n",
    "# Accessing the updated balance\n",
    "print(account.get_balance())            "
   ]
  },
  {
   "cell_type": "markdown",
   "id": "a694e3c9-5b74-47d9-824f-5c4190b8b798",
   "metadata": {},
   "source": [
    "9. Discuss the advantages of encapsulation in terms of code maintainability and security."
   ]
  },
  {
   "cell_type": "raw",
   "id": "b79c490c-3193-466a-aad4-82ee3db3d5f5",
   "metadata": {},
   "source": [
    "Encapsulation, a fundamental principle of object-oriented programming (OOP), offers several advantages in terms of code maintainability and security. It promotes a structured and controlled approach to managing data and functionality within a class, which can lead to more robust and maintainable code. Here are the key advantages of encapsulation:\n",
    "\n",
    "Advantages for Code Maintainability:\n",
    "\n",
    "Data Integrity: Encapsulation ensures that data remains in a consistent and valid state by providing controlled access to attributes. This helps prevent data corruption and errors caused by external code modifying data in an unpredictable manner.\n",
    "\n",
    "Abstraction: Encapsulation hides the internal implementation details of a class from external code. This allows you to work with the class based on its public interface, making code easier to understand and maintain.\n",
    "\n",
    "Flexibility and Modifiability: Encapsulation promotes modularity by isolating the internal workings of a class. This makes it easier to modify or extend the class without affecting the code that uses the class, resulting in a more maintainable and flexible codebase.\n",
    "\n",
    "Error Handling: By encapsulating data and functionality within a class, you can implement error handling and validation logic within the class. This centralizes error checking and promotes consistency in how errors are handled.\n",
    "\n",
    "Code Reusability: Encapsulated classes can be reused in various parts of an application, which reduces code duplication and promotes a DRY (Don't Repeat Yourself) coding practice.\n",
    "\n",
    "Advantages for Security:\n",
    "\n",
    "Access Control: Encapsulation allows you to control access to attributes and methods. This is particularly useful for security because you can restrict access to sensitive data and functionality. For example, you can limit access to password or authentication-related methods and attributes.\n",
    "\n",
    "Data Hiding: Encapsulation hides the internal details of a class, including private attributes and methods, from external code. This enhances security by preventing unauthorized access and modification of sensitive data.\n",
    "\n",
    "Encapsulation of Security Measures: Security measures, such as encryption or authentication checks, can be encapsulated within a class. This allows you to centralize and consistently apply security practices, reducing the risk of vulnerabilities due to inconsistent security implementation.\n",
    "\n",
    "Prevention of Unintended Side Effects: Encapsulation minimizes the risk of unintended side effects in your code. By controlling access to attributes and providing a clear interface, you reduce the chances of introducing security vulnerabilities through accidental misuse.\n",
    "\n",
    "Code Isolation: Encapsulation isolates security-critical functionality within a class, making it easier to secure and audit. It can also help contain security breaches, limiting the impact of a security incident to a specific class or module.\n",
    "\n",
    "Overall, encapsulation plays a vital role in writing maintainable and secure code. It encourages best practices such as data hiding, access control, and modular design, which are essential for both code maintainability and security.\n",
    "\n",
    "source: [chatGPT]"
   ]
  },
  {
   "cell_type": "markdown",
   "id": "25c293e4-47d5-4ec6-9093-4ce83297d1f3",
   "metadata": {},
   "source": [
    "10. How can you access private attributes in Python? Provide an example demonstrating the use of name mangling."
   ]
  },
  {
   "cell_type": "raw",
   "id": "8f1fcaa6-57ed-4408-a4ba-7d3ee2a8c583",
   "metadata": {},
   "source": [
    "In Python, private attributes are intended to be kept private to the class in which they are defined. However, it is still possible to access private attributes using name mangling, although it's generally not recommended. Name mangling involves modifying the attribute name to include the class name as a prefix, making it less straightforward to access these attributes.\n",
    "\n",
    "Accessing private attributes directly using name mangling is possible but considered a less common practice and discouraged. It's always better to respect the encapsulation principles and access attributes and methods using the intended public interface provided by the class."
   ]
  },
  {
   "cell_type": "code",
   "execution_count": 64,
   "id": "9b7b4c65-3df5-4120-bf7a-4806ca28d4ce",
   "metadata": {},
   "outputs": [
    {
     "name": "stdout",
     "output_type": "stream",
     "text": [
      "I am private attribute\n",
      "Modified Private variable\n"
     ]
    }
   ],
   "source": [
    "class Myclass:\n",
    "    def __init__(self):\n",
    "        self.__private = \"I am private attribute\"\n",
    "        \n",
    "obj = Myclass()\n",
    "\n",
    "# print(obj.__private)\n",
    "\n",
    "# Accessing the private attribute using the mangled name\n",
    "print(obj._Myclass__private)\n",
    "\n",
    "# Modifying the private attribute using the mangled name\n",
    "obj._Myclass__private = \"Modified Private variable\"\n",
    "\n",
    "print(obj._Myclass__private)"
   ]
  },
  {
   "cell_type": "markdown",
   "id": "b6b2427d-1c15-487d-9fe5-32e8a161cae2",
   "metadata": {},
   "source": [
    "11. Create a Python class hierarchy for a school system, including classes for students, teachers, and courses, and implement encapsulation principles to protect sensitive information."
   ]
  },
  {
   "cell_type": "code",
   "execution_count": 65,
   "id": "7ef48a7e-5a98-4c02-8e94-dd62f718bab4",
   "metadata": {},
   "outputs": [
    {
     "name": "stdout",
     "output_type": "stream",
     "text": [
      "Student Name: Alice\n",
      "Student Enrolled Courses: ['Introduction to Math']\n",
      "Teacher Name: Mr. Smith\n",
      "Courses Taught by Teacher: ['Introduction to Math']\n",
      "Course Code: MATH101\n",
      "Students Enrolled in Course: ['Alice']\n"
     ]
    }
   ],
   "source": [
    "class Student:\n",
    "    def __init__(self, sid, sname, sdob, saddress):\n",
    "        self._student_id = sid  # Protected attribute\n",
    "        self._name = sname  # Protected attribute\n",
    "        self._birthdate = sdob  # Protected attribute\n",
    "        self._address = saddress  # Protected attribute\n",
    "        self._enrolled_courses = []  # Protected list of enrolled courses\n",
    "        \n",
    "    # getter methods\n",
    "    def get_student_id(self):\n",
    "        return self._student_id\n",
    "    \n",
    "    def get_student_name(self):\n",
    "        return self._name\n",
    "    \n",
    "    def get_student_dob(self):\n",
    "        return self._birthdate\n",
    "    \n",
    "    def get_student_address(self):\n",
    "        return self._address\n",
    "    \n",
    "    def get_enrolled_courses(self):\n",
    "        return self._enrolled_courses\n",
    "    \n",
    "    def enroll_subject(self, subj):\n",
    "        self._enrolled_courses.append(subj)\n",
    "        \n",
    "class Teacher:\n",
    "    def __init__(self, teacher_id, name, subject_taught):\n",
    "        self._teacher_id = teacher_id  # Protected attribute\n",
    "        self._name = name  # Protected attribute\n",
    "        self._subject_taught = subject_taught  # Protected attribute\n",
    "        self._courses_taught = []  # Protected list of courses taught\n",
    "        \n",
    "        # Getter methods\n",
    "    def get_teacher_id(self):\n",
    "        return self._teacher_id\n",
    "\n",
    "    def get_name(self):\n",
    "        return self._name\n",
    "\n",
    "    def get_subject_taught(self):\n",
    "        return self._subject_taught\n",
    "\n",
    "    def get_courses_taught(self):\n",
    "        return self._courses_taught\n",
    "\n",
    "    # Method to add a course to the teacher's list of courses taught\n",
    "    def add_course(self, course):\n",
    "        self._courses_taught.append(course)\n",
    "        \n",
    "class Course:\n",
    "    def __init__(self, course_code, course_name):\n",
    "        self._course_code = course_code # Protected attribute\n",
    "        self._course_name = course_name # Protected attribute\n",
    "        self._students_enrolled = [] # Protected list of enrolled students\n",
    "    \n",
    "        # Getter methods\n",
    "    def get_course_code(self):\n",
    "        return self._course_code\n",
    "\n",
    "    def get_course_name(self):\n",
    "        return self._course_name\n",
    "\n",
    "    def get_students_enrolled(self):\n",
    "        return self._students_enrolled\n",
    "\n",
    "    # Method to add a student to the course\n",
    "    def add_student(self, student):\n",
    "        self._students_enrolled.append(student)\n",
    "        \n",
    "# Create instances of the classes\n",
    "student1 = Student(\"S001\", \"Alice\", \"2000-01-01\", \"123 Main St\")\n",
    "teacher1 = Teacher(\"T001\", \"Mr. Smith\", \"Math\")\n",
    "course1 = Course(\"MATH101\", \"Introduction to Math\")\n",
    "\n",
    "# enroll the student in the course\n",
    "student1.enroll_subject(course1)\n",
    "\n",
    "# add the course to the teacher's list of course taught\n",
    "teacher1.add_course(course1)\n",
    "\n",
    "# add the student to the course\n",
    "course1.add_student(student1)\n",
    "\n",
    "# Accessing and displaying information\n",
    "print(\"Student Name:\", student1.get_student_name())\n",
    "print(\"Student Enrolled Courses:\", [course.get_course_name() for course in student1.get_enrolled_courses()])\n",
    "print(\"Teacher Name:\", teacher1.get_name())\n",
    "print(\"Courses Taught by Teacher:\", [course.get_course_name() for course in teacher1.get_courses_taught()])\n",
    "print(\"Course Code:\", course1.get_course_code())\n",
    "print(\"Students Enrolled in Course:\", [student.get_student_name() for student in course1.get_students_enrolled()])"
   ]
  },
  {
   "cell_type": "markdown",
   "id": "8909a411-2e19-4701-b04d-72bedc846b82",
   "metadata": {},
   "source": [
    "12. Explain the concept of property decorators in Python and how they relate to encapsulation."
   ]
  },
  {
   "cell_type": "raw",
   "id": "73f5f61f-f67a-4821-93fd-a42e65fc5e94",
   "metadata": {},
   "source": [
    "Property decorators in Python are a feature that allows you to define special methods for attribute access, such as getting and setting attribute values, in a more concise and Pythonic way. Property decorators are closely related to encapsulation as they enable you to control access to class attributes while providing an interface that appears as if you are working with regular attributes.\n",
    "\n",
    "There are three main property decorators used for encapsulation in Python:\n",
    "\n",
    "@property: This decorator is used to define a method as a getter. It allows you to access an attribute as if it were a regular attribute, while the method gets called to retrieve the attribute value. This is especially useful for providing read-only access to attributes while encapsulating the attribute's internal logic.\n",
    "\n",
    "@attribute_name.setter: This decorator is used to define a method as a setter. It allows you to set the value of an attribute using the assignment operator (=). The method gets called when you assign a value to the attribute, enabling you to add validation and control over the attribute's value.\n",
    "\n",
    "@attribute_name.deleter: This decorator is used to define a method as a deleter. It allows you to delete an attribute using the del statement. The method gets called when you delete the attribute, giving you control over the deletion process."
   ]
  },
  {
   "cell_type": "code",
   "execution_count": 66,
   "id": "8f169ff9-573a-40df-b309-b91e496746b0",
   "metadata": {},
   "outputs": [
    {
     "name": "stdout",
     "output_type": "stream",
     "text": [
      "Hansa\n",
      "26\n",
      "Guru\n",
      "27\n"
     ]
    }
   ],
   "source": [
    "class Student:\n",
    "    def __init__(self, name, age):\n",
    "        self._name = name\n",
    "        self._age = age\n",
    "        \n",
    "    @property\n",
    "    def name(self):\n",
    "        return self._name\n",
    "    \n",
    "    @property\n",
    "    def age(self):\n",
    "        return self._age\n",
    "    \n",
    "    @name.setter\n",
    "    def name(self, new_name):\n",
    "        if len(new_name) > 0:\n",
    "            self._name = new_name\n",
    "        else:\n",
    "            print(\"Name cannot be empty.\")\n",
    "            \n",
    "    @age.setter\n",
    "    def age(self, new_age):\n",
    "        if new_age > 0:\n",
    "            self.age = new_age\n",
    "        else:\n",
    "            print(\"Age cannot be negative.\")\n",
    "            \n",
    "student2 = Student(\"Hansa\", 26)\n",
    "\n",
    "# Using the properties as if they were attributes\n",
    "print(student2.name)  # Access the name attribute\n",
    "print(student2.age)   # Access the age attribute\n",
    "\n",
    "\n",
    "# Modifying the properties\n",
    "student.name = \"Guru\"  # Set a new name\n",
    "student.age = 27      # Set a new age\n",
    "\n",
    "# Accessing properties after modification\n",
    "print(student.name)  # Access the updated name attribute\n",
    "print(student.age)   # Access the updated age attribute"
   ]
  },
  {
   "cell_type": "markdown",
   "id": "e688bfc5-1e65-48fe-8c07-002e91412068",
   "metadata": {},
   "source": [
    "13. What is data hiding, and why is it important in encapsulation? Provide examples."
   ]
  },
  {
   "cell_type": "raw",
   "id": "6a7053fd-395c-4ff4-98a9-3a54caa5c9f3",
   "metadata": {},
   "source": [
    "Data hiding is a key concept in encapsulation that involves hiding the internal details of an object and making them inaccessible to external code. It is important in encapsulation because it provides several benefits, including data integrity, security, and maintainability of code. Data hiding ensures that the internal state of an object is only accessible and modifiable through well-defined interfaces (getter and setter methods), reducing the risk of unintended data corruption or misuse.\n",
    "\n",
    "Here are the main reasons why data hiding is important in encapsulation:\n",
    "\n",
    "Data Integrity: Data hiding ensures that the object's data remains in a consistent and valid state. By controlling access to attributes, you can enforce rules and constraints to prevent data corruption or invalid values.\n",
    "\n",
    "Security: Data hiding enhances security by restricting access to sensitive data. Private attributes can only be accessed through authorized methods, reducing the risk of unauthorized access or manipulation of sensitive information.\n",
    "\n",
    "Abstraction: Data hiding promotes abstraction by hiding the internal details of an object. This allows external code to interact with the object through a well-defined interface, making the code easier to understand and maintain.\n",
    "\n",
    "Flexibility and Modifiability: Data hiding promotes modularity by isolating the internal workings of an object. This makes it easier to modify or extend the object without affecting the code that uses the object. It reduces the risk of unintended side effects when making changes.\n",
    "\n",
    "Consistency and Validation: Data hiding allows you to centralize error handling and validation logic within the getter and setter methods. This ensures consistent handling of errors and validation checks, improving code quality."
   ]
  },
  {
   "cell_type": "code",
   "execution_count": 67,
   "id": "9ab9c651-8188-4e92-ae84-3c56e15a5415",
   "metadata": {},
   "outputs": [
    {
     "name": "stdout",
     "output_type": "stream",
     "text": [
      "Account Number: 123456\n",
      "Balance: 1000\n",
      "Updated Balance: 1300\n"
     ]
    }
   ],
   "source": [
    "class BankAccount:\n",
    "    def __init__(self, account_number, balance):\n",
    "        self._account_number = account_number  # Protected attribute\n",
    "        self.__balance = balance  # Private attribute\n",
    "\n",
    "    def get_account_number(self):\n",
    "        return self._account_number\n",
    "\n",
    "    def get_balance(self):\n",
    "        return self.__balance\n",
    "\n",
    "    def deposit(self, amount):\n",
    "        if amount > 0:\n",
    "            self.__balance += amount\n",
    "        else:\n",
    "            print(\"Invalid deposit amount.\")\n",
    "\n",
    "    def withdraw(self, amount):\n",
    "        if amount > 0 and amount <= self.__balance:\n",
    "            self.__balance -= amount\n",
    "        else:\n",
    "            print(\"Invalid withdrawal amount or insufficient balance.\")\n",
    "\n",
    "# Create an instance of the BankAccount class\n",
    "account = BankAccount(\"123456\", 1000)\n",
    "\n",
    "# Access and modify attributes through getter and setter methods\n",
    "print(\"Account Number:\", account.get_account_number())\n",
    "print(\"Balance:\", account.get_balance())\n",
    "\n",
    "account.deposit(500)\n",
    "account.withdraw(200)\n",
    "\n",
    "print(\"Updated Balance:\", account.get_balance())\n"
   ]
  },
  {
   "cell_type": "markdown",
   "id": "4eda0b03-9cd1-4684-b8e9-f1e761c14a51",
   "metadata": {},
   "source": [
    "14. Create a Python class called `Employee` with private attributes for salary (`__salary`) and employee ID (`__employee_id`). Provide a method to calculate yearly bonuses."
   ]
  },
  {
   "cell_type": "code",
   "execution_count": 68,
   "id": "ab11792f-49d9-4dac-94e0-0d1af7cc24a1",
   "metadata": {},
   "outputs": [
    {
     "name": "stdout",
     "output_type": "stream",
     "text": [
      "The Salary of the Employee is: Rs. 1720000\n",
      "The EmployeeID of the Employee is: API2180\n",
      "The yearly bonus for the employee salary is: 172000.0\n"
     ]
    }
   ],
   "source": [
    "class Employee:\n",
    "    def __init__(self, eid, sal):\n",
    "        self.__salary = sal\n",
    "        self.__employee_id = eid\n",
    "        \n",
    "    def get_salary(self):\n",
    "        return self.__salary\n",
    "    \n",
    "    def get_emp_id(self):\n",
    "        return self.__employee_id\n",
    "        \n",
    "    def yearly_bonus(self):\n",
    "        return 0.1 * self.__salary\n",
    "    \n",
    "emp = Employee(\"API2180\", 1720000)\n",
    "\n",
    "print(f\"The Salary of the Employee is: Rs. {emp.get_salary()}\")\n",
    "print(f\"The EmployeeID of the Employee is: {emp.get_emp_id()}\")\n",
    "\n",
    "print(f\"The yearly bonus for the employee salary is: {emp.yearly_bonus()}\")\n"
   ]
  },
  {
   "cell_type": "markdown",
   "id": "75e79e7e-495a-4e1e-8562-f2dff98d5fac",
   "metadata": {},
   "source": [
    "15. Discuss the use of accessors and mutators in encapsulation. How do they help maintain control over attribute access?"
   ]
  },
  {
   "cell_type": "raw",
   "id": "5c0f1127-b6c7-4bd7-8615-d379f05afb23",
   "metadata": {},
   "source": [
    "Accessors and mutators, often referred to as getters and setters, are methods used in encapsulation to control and maintain access to class attributes. They play a crucial role in ensuring that attributes are accessed and modified in a controlled and secure manner. \n",
    "\n",
    "Accessors (Getters):\n",
    "--------------------\n",
    "Purpose: \n",
    "    Accessors are methods that provide controlled access to the values of attributes. They allow you to retrieve attribute values without exposing the underlying data directly.\n",
    "\n",
    "Benefits:\n",
    "    Data Encapsulation: Accessors abstract the underlying data and hide its implementation details. This promotes encapsulation by providing a clear and abstract interface to attribute values.\n",
    "    Read-Only Access: You can use accessors to provide read-only access to attributes, preventing direct modification while still allowing observation of the attribute's value.\n",
    "    Validation and Computation: Accessors can include validation and computation logic, ensuring that the data returned is always consistent and accurate.\n",
    "\n",
    "Naming Convention: \n",
    "    By convention, getter methods are named with the prefix \"get_\" followed by the attribute name.\n",
    "    \n",
    "Mutators (Setters):\n",
    "-------------------\n",
    "Purpose: \n",
    "    Mutators are methods used to modify the values of attributes. They allow you to set or update attribute values in a controlled way, which is essential for data integrity.\n",
    "\n",
    "Benefits:\n",
    "    Controlled Modification: Mutators enable controlled modification of attributes, allowing you to enforce rules, validation, and consistency checks.\n",
    "    Encapsulation: Mutators hide the internal details of attribute modification and allow you to modify the underlying data in a controlled manner.\n",
    "    Security: Mutators provide a layer of security by allowing you to apply access control and authorization checks when modifying sensitive data.\n",
    "\n",
    "Naming Convention: \n",
    "    By convention, setter methods are named with the prefix \"set_\" followed by the attribute name.\n",
    "    \n",
    "\n",
    "Accessors and mutators are essential components of encapsulation, helping you maintain control and security over attribute access."
   ]
  },
  {
   "cell_type": "code",
   "execution_count": 69,
   "id": "559b81bf-8384-4c2e-9673-c67629291b6a",
   "metadata": {},
   "outputs": [
    {
     "name": "stdout",
     "output_type": "stream",
     "text": [
      "Student Name: Alice\n",
      "Student Age: 20\n",
      "Updated Student Name: Bob\n",
      "Updated Student Age: 21\n"
     ]
    }
   ],
   "source": [
    "class Student:\n",
    "    def __init__(self, name, age):\n",
    "        self._name = name  # Protected attribute\n",
    "        self._age = age    # Protected attribute\n",
    "\n",
    "    # Accessors (Getters)\n",
    "    def get_name(self):\n",
    "        return self._name\n",
    "\n",
    "    def get_age(self):\n",
    "        return self._age\n",
    "\n",
    "    # Mutators (Setters)\n",
    "    def set_name(self, new_name):\n",
    "        if len(new_name) > 0:\n",
    "            self._name = new_name\n",
    "        else:\n",
    "            print(\"Name cannot be empty.\")\n",
    "\n",
    "    def set_age(self, new_age):\n",
    "        if new_age >= 0:\n",
    "            self._age = new_age\n",
    "        else:\n",
    "            print(\"Age cannot be negative.\")\n",
    "\n",
    "# Create an instance of the Student class\n",
    "student = Student(\"Alice\", 20)\n",
    "\n",
    "# Using accessors to retrieve attribute values\n",
    "print(\"Student Name:\", student.get_name())\n",
    "print(\"Student Age:\", student.get_age())\n",
    "\n",
    "# Using mutators to modify attribute values\n",
    "student.set_name(\"Bob\")\n",
    "student.set_age(21)\n",
    "\n",
    "# Accessing attributes after modification\n",
    "print(\"Updated Student Name:\", student.get_name())\n",
    "print(\"Updated Student Age:\", student.get_age())\n"
   ]
  },
  {
   "cell_type": "markdown",
   "id": "194dc8cb-8054-46c7-a0ba-7a2c4df77f79",
   "metadata": {},
   "source": [
    "16. What are the potential drawbacks or disadvantages of using encapsulation in Python?"
   ]
  },
  {
   "cell_type": "raw",
   "id": "67ec8cab-e469-4082-a424-9657baff07eb",
   "metadata": {},
   "source": [
    "Encapsulation is a fundamental concept in object-oriented programming that promotes data hiding and controlled access to class attributes and methods. While encapsulation offers many benefits, such as data integrity and security, it's important to be aware of potential drawbacks or disadvantages when using encapsulation in Python:\n",
    "\n",
    "1. Complexity and Overhead:\n",
    "---------------------------\n",
    "    Implementing encapsulation with getter and setter methods can add complexity and overhead to your code. It requires writing and maintaining additional methods for attribute access, which may seem verbose for simple classes.\n",
    "    \n",
    "2. Reduced Readability:\n",
    "-----------------------\n",
    "    Excessive use of accessors and mutators (getters and setters) can reduce the readability of your code. It may make your code longer and less straightforward, as you need to call methods to access or modify attributes instead of using direct attribute access.\n",
    "\n",
    "3. Performance Overhead: \n",
    "------------------------\n",
    "    Invoking getter and setter methods may introduce a slight performance overhead compared to direct attribute access. In performance-critical applications, this overhead can be a concern.\n",
    "\n",
    "4. Boilerplate Code: \n",
    "--------------------\n",
    "    Writing getter and setter methods for every attribute in a class can lead to boilerplate code, making the class definition longer and potentially harder to maintain.\n",
    "\n",
    "5. Limited Flexibility: \n",
    "-----------------------\n",
    "    Encapsulation can make it difficult to change the internal representation of a class if you've exposed attributes directly through getters and setters. Changing the implementation may require modifying the interface, potentially breaking existing code that relies on it.\n",
    "\n",
    "6. Obscured Intent: \n",
    "-------------------\n",
    "    Encapsulation may obscure the intent of the class when attributes are protected or private. Developers using the class may not have a clear understanding of how to interact with it, leading to confusion.\n",
    "\n",
    "7. Inflexible Design: \n",
    "---------------------\n",
    "    Overly strict encapsulation can lead to a less flexible design. There may be cases where you want to provide access to an attribute directly without the need for a getter and setter method.\n",
    "\n",
    "8. Additional Code Maintenance:\n",
    "-------------------------------\n",
    "    As your class evolves, you need to maintain getter and setter methods in addition to the attributes. This can lead to more code to update and test when making changes.\n",
    "\n",
    "9. Complex Validation Logic: \n",
    "----------------------------\n",
    "    When encapsulation involves complex validation logic within setters, it can be challenging to manage and maintain that logic, and it may become scattered across multiple methods.\n",
    "\n",
    "10. Breaking Existing Code:\n",
    "---------------------------\n",
    "    Changing the access control level of attributes or adding new getter and setter methods to an existing class can potentially break code that relies on the previous attribute access patterns.\n",
    "\n",
    "It's important to strike a balance when using encapsulation in your Python code. While encapsulation is valuable for data integrity and security, it should be applied judiciously. Use encapsulation where it provides a clear benefit, especially for attributes that require validation or where internal details should be hidden. For simpler classes or attributes, consider using public attributes with the option to refactor to accessors and mutators when necessary."
   ]
  },
  {
   "cell_type": "markdown",
   "id": "b463d01a-a89c-4fe4-a5be-c107edfdd339",
   "metadata": {},
   "source": [
    "17. Create a Python class for a library system that encapsulates book information, including titles, authors, and availability status."
   ]
  },
  {
   "cell_type": "code",
   "execution_count": 70,
   "id": "cc1d178f-7a82-41e2-8d61-2e8dffcd0718",
   "metadata": {},
   "outputs": [
    {
     "name": "stdout",
     "output_type": "stream",
     "text": [
      "Title: Python Crash Course\n",
      "Author: Eric Matthes\n",
      "Availability: Available\n",
      "Title: The Pragmatic Programmer\n",
      "Author: Andrew Hunt and David Thomas\n",
      "Availability: Available\n",
      "Book 'Python Crash Course' by Eric Matthes has been borrowed.\n",
      "Book 'Python Crash Course' by Eric Matthes has been returned.\n",
      "Book 'The Pragmatic Programmer' by Andrew Hunt and David Thomas has been borrowed.\n",
      "Sorry, 'The Pragmatic Programmer' is currently not available.\n",
      "Book 'The Pragmatic Programmer' by Andrew Hunt and David Thomas has been returned.\n"
     ]
    }
   ],
   "source": [
    "class Book:\n",
    "    def __init__(self, title, author):\n",
    "        self._title = title  \n",
    "        self._author = author  \n",
    "        self._available = True  \n",
    "        \n",
    "    # Getter methods for title, author, and availability\n",
    "    def get_title(self):\n",
    "        return self._title\n",
    "\n",
    "    def get_author(self):\n",
    "        return self._author\n",
    "\n",
    "    def is_available(self):\n",
    "        return self._available\n",
    "    \n",
    "        # Method to borrow the book\n",
    "    def borrow(self):\n",
    "        if self._available:\n",
    "            self._available = False\n",
    "            print(f\"Book '{self._title}' by {self._author} has been borrowed.\")\n",
    "        else:\n",
    "            print(f\"Sorry, '{self._title}' is currently not available.\")\n",
    "\n",
    "    # Method to return the book\n",
    "    def return_book(self):\n",
    "        if not self._available:\n",
    "            self._available = True\n",
    "            print(f\"Book '{self._title}' by {self._author} has been returned.\")\n",
    "        else:\n",
    "            print(f\"This book is already available in the library.\")\n",
    "\n",
    "    # Method to display book information\n",
    "    def display_info(self):\n",
    "        availability = \"Available\" if self._available else \"Not Available\"\n",
    "        print(f\"Title: {self._title}\")\n",
    "        print(f\"Author: {self._author}\")\n",
    "        print(f\"Availability: {availability}\")\n",
    "        \n",
    "# Create instances of the Book class\n",
    "book1 = Book(\"Python Crash Course\", \"Eric Matthes\")\n",
    "book2 = Book(\"The Pragmatic Programmer\", \"Andrew Hunt and David Thomas\")\n",
    "\n",
    "# Display book information\n",
    "book1.display_info()\n",
    "book2.display_info()\n",
    "\n",
    "# Borrow and return books\n",
    "book1.borrow()\n",
    "book1.return_book()\n",
    "book2.borrow()\n",
    "book2.borrow()\n",
    "book2.return_book()"
   ]
  },
  {
   "cell_type": "markdown",
   "id": "f972fe0c-2657-44fa-b60f-0229c726c6e0",
   "metadata": {},
   "source": [
    "18. Explain how encapsulation enhances code reusability and modularity in Python programs."
   ]
  },
  {
   "cell_type": "raw",
   "id": "51a59882-7048-49b8-9b8e-ab59dd3e0f5c",
   "metadata": {},
   "source": [
    "Encapsulation enhances code reusability and modularity in Python programs by promoting a structured and organized approach to building classes and objects. Here's how encapsulation achieves these benefits:\n",
    "\n",
    "Modularity:\n",
    "----------\n",
    "Encapsulation encourages breaking down complex systems into smaller, manageable modules (classes or objects). Each class or object encapsulates a specific set of related attributes and behaviors.\n",
    "This modularity makes it easier to understand, maintain, and extend the code because each module has a well-defined purpose and a clear interface.\n",
    "Changes or updates to one module are less likely to affect other modules, reducing the risk of unintended side effects and simplifying debugging.\n",
    "\n",
    "Abstraction:\n",
    "------------\n",
    "Encapsulation abstracts the internal details of a class or object, providing a clear public interface for interacting with it. This abstraction hides the complexity of how a particular feature is implemented.\n",
    "By working with the abstracted interface, developers don't need to know the intricate details of how a class or object works internally. This simplifies code consumption and promotes a modular design.\n",
    "\n",
    "Encapsulation of Behavior:\n",
    "--------------------------\n",
    "In addition to encapsulating data (attributes), encapsulation also encapsulates behavior (methods). This means that the logic and functionality related to a particular feature are contained within the class or object.\n",
    "Encapsulating behavior enables code reusability. Other parts of the program can use the same methods and functionality without duplicating code.\n",
    "\n",
    "Data Hiding:\n",
    "------------\n",
    "Encapsulation hides the internal data representation (attributes) of a class or object. This data hiding prevents direct access to and manipulation of attributes from external code.\n",
    "The internal data can only be accessed or modified through well-defined getter and setter methods, making the code more robust and maintainable.\n",
    "Data hiding allows for changes to the internal data structure without affecting the code that relies on the public interface, contributing to modularity and flexibility.\n",
    "\n",
    "Code Reusability:\n",
    "-----------------\n",
    "Encapsulation promotes code reusability by allowing you to use existing classes or objects as building blocks in new applications. You can create instances of classes to reuse their functionality and data.\n",
    "By providing a clear public interface, encapsulated classes can be easily integrated into different parts of a program, reducing the need to rewrite code for similar functionality.\n",
    "\n",
    "Separation of Concerns:\n",
    "-----------------------\n",
    "Encapsulation encourages a separation of concerns in your code. Each class or object focuses on a specific aspect of the application, such as managing user accounts, handling database connections, or performing calculations.\n",
    "This separation simplifies code maintenance and allows different developers to work on separate modules independently.\n",
    "\n",
    "Testing and Debugging:\n",
    "----------------------\n",
    "Encapsulation makes it easier to test and debug individual modules or components. You can isolate and test a module's behavior independently of the rest of the program.\n",
    "Debugging is also more straightforward because you can focus on a specific module without getting bogged down in the details of the entire program.\n",
    "\n",
    "In summary, encapsulation in Python encourages modular, reusable, and maintainable code by abstracting and encapsulating data and behavior within classes and objects. This approach results in cleaner, more organized code and simplifies the process of building and extending software systems."
   ]
  },
  {
   "cell_type": "raw",
   "id": "a865f3b2-35a8-4c3b-9827-ff0ee8cf47ee",
   "metadata": {},
   "source": [
    "Code Reusability Example:\n",
    "-------------------------"
   ]
  },
  {
   "cell_type": "code",
   "execution_count": 71,
   "id": "66728f9f-a74e-456c-9bfd-14c759707a51",
   "metadata": {},
   "outputs": [
    {
     "name": "stdout",
     "output_type": "stream",
     "text": [
      "Area of Circle = 28.26\n",
      "Area of Rectangle = 6\n"
     ]
    }
   ],
   "source": [
    "class Circle:\n",
    "    def __init__(self, radius):\n",
    "        self.radius = radius\n",
    "    \n",
    "    def area(self):\n",
    "        return 3.14 * (self.radius ** 2)\n",
    "    \n",
    "class Rectangle:\n",
    "    def __init__(self, length, breadth):\n",
    "        self.length = length\n",
    "        self.breadth = breadth\n",
    "        \n",
    "    def area(self):\n",
    "        return self.length * self.breadth\n",
    "    \n",
    "circle = Circle(3)\n",
    "rectangle = Rectangle(2, 3)\n",
    "\n",
    "\n",
    "print(f\"Area of Circle = {circle.area()}\")\n",
    "print(f\"Area of Rectangle = {rectangle.area()}\")"
   ]
  },
  {
   "cell_type": "raw",
   "id": "b4367283-aacc-4bd8-8898-c2b03b3d8471",
   "metadata": {},
   "source": [
    "Modularity Example:\n",
    "-------------------"
   ]
  },
  {
   "cell_type": "code",
   "execution_count": 73,
   "id": "dec51b24-23c8-41b4-b016-882436a5e8ef",
   "metadata": {},
   "outputs": [
    {
     "name": "stdout",
     "output_type": "stream",
     "text": [
      "Discounted Price A: Rs. 45000.0\n",
      "Discounted Price B: Rs. 42500.0\n"
     ]
    }
   ],
   "source": [
    "class Product:\n",
    "    def __init__(self, name, price):\n",
    "        self.name = name\n",
    "        self.price = price\n",
    "        \n",
    "    def get_discounted_price(self, discount_percent):\n",
    "        discounted_price = self.price * (1 - discount_percent / 100)\n",
    "        return discounted_price\n",
    "    \n",
    "product = Product(\"Laptop\", 50000)\n",
    "\n",
    "# module A\n",
    "discount_A = 10\n",
    "discounted_price_A = product.get_discounted_price(discount_A)\n",
    "print(f\"Discounted Price A: Rs. {discounted_price_A}\")\n",
    "\n",
    "# module B\n",
    "discount_B = 15\n",
    "discounted_price_B = product.get_discounted_price(discount_B)\n",
    "print(f\"Discounted Price B: Rs. {discounted_price_B}\")\n"
   ]
  },
  {
   "cell_type": "markdown",
   "id": "ce7b89f5-4cc2-416d-a970-2b8c6ddc4ab5",
   "metadata": {},
   "source": [
    "19. Describe the concept of information hiding in encapsulation. Why is it essential in software development?"
   ]
  },
  {
   "cell_type": "raw",
   "id": "e7461427-f4db-4684-a473-b7cfe16a1969",
   "metadata": {},
   "source": [
    "Information hiding is a fundamental concept within the broader practice of encapsulation in software development. It involves concealing the internal details, data, and implementation of a class or module while exposing a controlled and well-defined external interface. Information hiding is essential in software development for several reasons:\n",
    "\n",
    "Abstraction: Information hiding provides a level of abstraction by exposing only the necessary and relevant details to external code. This abstraction simplifies the way developers interact with a class or module, focusing on what the class does rather than how it does it.\n",
    "\n",
    "Reduced Complexity: By hiding internal details and complexity, information hiding reduces the cognitive load on developers. They don't need to understand the intricate workings of a class to use it effectively. Instead, they work with a clear, high-level interface.\n",
    "\n",
    "Modularity: Information hiding promotes modularity by allowing classes or modules to be treated as self-contained units. Developers can work on and understand one module without needing to be concerned with the internal details of other modules.\n",
    "\n",
    "Code Maintenance: Hiding implementation details behind an interface facilitates code maintenance. When internal changes are necessary, they can be made without affecting the external code that relies on the module. This separation of concerns reduces the risk of introducing bugs during maintenance.\n",
    "\n",
    "Flexibility: Information hiding enhances the flexibility of a system. It allows you to change the internal implementation without affecting the external interface. This adaptability is crucial when evolving software to meet changing requirements.\n",
    "\n",
    "Security: Hiding sensitive data and implementation details is essential for security. It prevents unauthorized access and manipulation of critical data. For example, password encryption and access control checks are kept hidden to prevent security breaches.\n",
    "\n",
    "Reusability: Information hiding promotes code reusability. Classes with well-defined interfaces can be reused in various parts of an application or even in different applications. Reusing code reduces duplication and promotes the DRY (Don't Repeat Yourself) principle.\n",
    "\n",
    "Testing and Debugging: Information hiding simplifies testing and debugging. Test cases can focus on the externally visible behavior of a module, and debugging can be more straightforward because you're dealing with a well-defined interface rather than complex internal details.\n",
    "\n",
    "Collaborative Development: In collaborative software development, multiple developers can work on different modules without affecting each other. They can rely on the interface and contract defined by each module, enabling parallel development and integration.\n",
    "\n",
    "Code Readability: Code that follows the principles of information hiding is more readable and self-explanatory. Developers can quickly understand how to use a module without delving into its internal details.\n",
    "\n",
    "Overall, information hiding, as a key aspect of encapsulation, is essential in software development because it promotes clean, maintainable, secure, and flexible code. It facilitates collaboration, supports the separation of concerns, and improves the overall quality of software systems. When applied effectively, information hiding can lead to more robust and easier-to-maintain software."
   ]
  },
  {
   "cell_type": "code",
   "execution_count": 79,
   "id": "4bd2afb1-8b40-4c67-9268-5d5e24424335",
   "metadata": {},
   "outputs": [
    {
     "name": "stdout",
     "output_type": "stream",
     "text": [
      "Account Number = 123456\n",
      "Balance = Rs. 2000\n",
      "After depositing Rs. 3000, Balance = Rs. 5000\n",
      "After withdrawing Rs. 5000, Balance = Rs. 0\n"
     ]
    }
   ],
   "source": [
    "class BankAccount:\n",
    "    def __init__(self, account_number, balance=0):\n",
    "        self._account_number = account_number # protected attribute\n",
    "        self.__balance = balance # private attribute\n",
    "        \n",
    "    def get_balance(self):\n",
    "        return self.__balance\n",
    "    \n",
    "    def get_account(self):\n",
    "        return self._account_number\n",
    "    \n",
    "    def deposit(self, money):\n",
    "        if money > 0:\n",
    "            self.__balance += money\n",
    "            \n",
    "    def withdraw(self, money):\n",
    "        if money > 0 and money <= self.__balance:\n",
    "            self.__balance -= money\n",
    "            \n",
    "            \n",
    "ba = BankAccount(123456, 2000)\n",
    "\n",
    "print(f\"Account Number = {ba.get_account()}\\nBalance = Rs. {ba.get_balance()}\")\n",
    "\n",
    "ba.deposit(3000)\n",
    "\n",
    "print(f\"After depositing Rs. 3000, Balance = Rs. {ba.get_balance()}\")\n",
    "\n",
    "ba.withdraw(5000)\n",
    "\n",
    "print(f\"After withdrawing Rs. 5000, Balance = Rs. {ba.get_balance()}\")"
   ]
  },
  {
   "cell_type": "raw",
   "id": "e22dfacf-c641-4314-8035-ae438c846c3a",
   "metadata": {},
   "source": [
    "Private Attributes (self._account_number and self.__balance): \n",
    "-------------------------------------------------------------\n",
    "By using a single underscore prefix and double underscore prefix, we signal to other developers that these attributes are intended to be private and should not be accessed directly from outside the class. While Python doesn't enforce strict access control, this naming convention serves as a convention for information hiding.\n",
    "\n",
    "Getter Method (get_balance): \n",
    "----------------------------\n",
    "Instead of directly accessing the _balance attribute, we provide a getter method to retrieve the balance. This encapsulates the data and enforces control over how the balance is accessed. The implementation details of how the balance is stored and managed remain hidden from external code.\n",
    "\n",
    "Deposit and Withdraw Methods: \n",
    "-----------------------------\n",
    "These methods provide a controlled way to interact with the account's balance. They ensure that the amount being deposited is positive and that the withdrawal amount doesn't exceed the available balance. This control is another aspect of information hiding because it hides the internal logic of how the balance is modified."
   ]
  },
  {
   "cell_type": "markdown",
   "id": "2b7c08a1-14ca-43fc-943d-6d1d7c514fd5",
   "metadata": {},
   "source": [
    "20. Create a Python class called `Customer` with private attributes for customer details like name, address, and contact information. Implement encapsulation to ensure data integrity and security."
   ]
  },
  {
   "cell_type": "code",
   "execution_count": 81,
   "id": "5259e0f9-6ac9-4452-a854-70da7f87792b",
   "metadata": {},
   "outputs": [
    {
     "name": "stdout",
     "output_type": "stream",
     "text": [
      "Customer ID: C001\n",
      "Name: Alice Smith\n",
      "Address: 123 Main St\n",
      "Contact Information: alice@example.com\n",
      "Customer ID: C001\n",
      "Name: Bob Johnson\n",
      "Address: 456 Elm St\n",
      "Contact Information: bob@example.com\n"
     ]
    }
   ],
   "source": [
    "class Customer:\n",
    "    def __init__(self, customer_id, name, address, contact_info):\n",
    "        self._customer_id = customer_id\n",
    "        self._name = name\n",
    "        self._address = address\n",
    "        self._contact_info = contact_info\n",
    "        \n",
    "    # Getter methods for customer details    \n",
    "    def get_customer_id(self):\n",
    "        return self._customer_id\n",
    "    \n",
    "    def get_name(self):\n",
    "        return self._name\n",
    "    \n",
    "    def get_address(self):\n",
    "        return self._address\n",
    "    \n",
    "    def get_contact_info(self):\n",
    "        return self._contact_info\n",
    "    \n",
    "    # Setter methods for customer details\n",
    "    def set_name(self, new_name):\n",
    "        if len(new_name) > 0:\n",
    "            self._name = new_name\n",
    "        else:\n",
    "            print(\"Name cannot be empty.\")\n",
    "            \n",
    "    def set_address(self, new_address):\n",
    "        if len(new_address) > 0:\n",
    "            self._address = new_address\n",
    "        else:\n",
    "            print(\"Address cannot be empty.\")\n",
    "            \n",
    "    def set_contact_info(self, new_contact_info):\n",
    "        if len(new_contact_info) > 0:\n",
    "            self._contact_info = new_contact_info\n",
    "        else:\n",
    "            print(\"Contact information cannot be empty.\")\n",
    "            \n",
    "    # method to display customer details\n",
    "    def display_info(self):\n",
    "        print(\"Customer ID:\", self._customer_id)\n",
    "        print(\"Name:\", self._name)\n",
    "        print(\"Address:\", self._address)\n",
    "        print(\"Contact Information:\", self._contact_info)\n",
    "        \n",
    "# Create an instance of the Customer class\n",
    "customer = Customer(\"C001\", \"Alice Smith\", \"123 Main St\", \"alice@example.com\")\n",
    "\n",
    "# Display customer details\n",
    "customer.display_info()\n",
    "\n",
    "# Modify customer details\n",
    "customer.set_name(\"Bob Johnson\")\n",
    "customer.set_address(\"456 Elm St\")\n",
    "customer.set_contact_info(\"bob@example.com\")\n",
    "\n",
    "# Display updated customer details\n",
    "customer.display_info()"
   ]
  },
  {
   "cell_type": "markdown",
   "id": "9bd17358-5ca2-4dc8-99cc-2af6e44f6637",
   "metadata": {
    "jp-MarkdownHeadingCollapsed": true,
    "tags": []
   },
   "source": [
    "# Polymorphism"
   ]
  },
  {
   "cell_type": "markdown",
   "id": "d0e5c9f2-5fb8-45c6-be30-566b70eeb631",
   "metadata": {},
   "source": [
    "1. What is polymorphism in Python? Explain how it is related to object-oriented programming."
   ]
  },
  {
   "cell_type": "raw",
   "id": "87acb820-6d30-42c3-b7ab-858d1416052d",
   "metadata": {},
   "source": [
    "Polymorphism is a fundamental concept in object-oriented programming (OOP) that allows objects of different classes to be treated as objects of a common superclass. It enables you to write more generic and reusable code by abstracting the behavior of objects and providing a consistent interface for interacting with them. Polymorphism is closely related to object-oriented programming in the following ways:\n",
    "\n",
    "Method Overriding:\n",
    "------------------\n",
    "    In object-oriented programming, polymorphism often involves method overriding, where a subclass provides its own implementation of a method that is already defined in its superclass. This allows objects of the subclass to behave differently while still adhering to the same method signature as the superclass. When a method is called on an object, the appropriate implementation is selected based on the actual object's type.\n",
    "\n",
    "Dynamic Binding:\n",
    "----------------\n",
    "    Polymorphism in OOP relies on dynamic binding, also known as late binding. Dynamic binding allows the decision about which method to invoke to be made at runtime rather than at compile time. This means that the specific implementation of a method is determined based on the actual type of the object being used.\n",
    "\n",
    "Inheritance: \n",
    "------------\n",
    "    Inheritance plays a significant role in polymorphism. Subclasses inherit methods and attributes from their parent classes, and they can provide their own implementations of those methods. This allows different classes to share a common interface through inheritance, making polymorphic behavior possible.\n",
    "\n",
    "Interfaces and Abstract Classes: \n",
    "--------------------------------\n",
    "    Polymorphism is often achieved through interfaces or abstract classes that define a set of method signatures without providing concrete implementations. Concrete classes that implement these interfaces or inherit from abstract classes can provide their own specific implementations of these methods.\n",
    "\n",
    "Code Reusability: \n",
    "-----------------\n",
    "    Polymorphism promotes code reusability by allowing you to work with objects based on their common interface rather than their specific types. This means you can write more generic and flexible code that can be applied to a variety of objects that adhere to the same interface.\n",
    "\n",
    "Multiple Forms: \n",
    "---------------\n",
    "    The term \"polymorphism\" itself means \"many forms.\" It reflects the idea that objects of different classes can take on many different forms when they share a common interface. This flexibility is a fundamental feature of OOP."
   ]
  },
  {
   "cell_type": "code",
   "execution_count": 82,
   "id": "92eab4e1-7aa7-456f-8fea-77f7fe0fc411",
   "metadata": {},
   "outputs": [
    {
     "name": "stdout",
     "output_type": "stream",
     "text": [
      "Woof!\n",
      "Meow!\n"
     ]
    }
   ],
   "source": [
    "class Animal:\n",
    "    def speak(self):\n",
    "        pass\n",
    "\n",
    "class Dog(Animal):\n",
    "    def speak(self):\n",
    "        return \"Woof!\"\n",
    "\n",
    "class Cat(Animal):\n",
    "    def speak(self):\n",
    "        return \"Meow!\"\n",
    "\n",
    "# Polymorphism in action\n",
    "dog = Dog()\n",
    "cat = Cat()\n",
    "\n",
    "print(dog.speak())  # Outputs: \"Woof!\"\n",
    "print(cat.speak())  # Outputs: \"Meow!\"\n"
   ]
  },
  {
   "cell_type": "markdown",
   "id": "c484dc55-19de-4951-b15f-48d8f631fc99",
   "metadata": {},
   "source": [
    "2. Describe the difference between compile-time polymorphism and runtime polymorphism in Python."
   ]
  },
  {
   "cell_type": "raw",
   "id": "dd0d0886-401c-49a4-b753-8254b41d45b5",
   "metadata": {},
   "source": [
    "In Python, and in many other dynamically typed languages, there is no distinct concept of \"compile-time polymorphism\" as you would find in statically typed languages like C++ or Java. Instead, Python primarily relies on runtime polymorphism. Let's discuss the key differences:\n",
    "\n",
    "Runtime Polymorphism:\n",
    "---------------------\n",
    "Dynamic Binding: \n",
    "    In Python, the decision about which method to invoke is determined at runtime based on the actual type of the object. This is known as dynamic binding or late binding.\n",
    "\n",
    "Method Overriding: \n",
    "    In runtime polymorphism, method overriding is commonly used to achieve different behaviors for methods with the same name in subclasses. When a method is called on an object, Python looks at the actual class of the object and executes the corresponding method from that class."
   ]
  },
  {
   "cell_type": "code",
   "execution_count": 67,
   "id": "166c1f6f-d7ea-422f-979b-fb3a2d7e8301",
   "metadata": {},
   "outputs": [
    {
     "name": "stdout",
     "output_type": "stream",
     "text": [
      "Woof!\n",
      "Meow!\n"
     ]
    }
   ],
   "source": [
    "class Animal:\n",
    "    def speak(self):\n",
    "        pass\n",
    "\n",
    "class Dog(Animal):\n",
    "    def speak(self):\n",
    "        return \"Woof!\"\n",
    "\n",
    "class Cat(Animal):\n",
    "    def speak(self):\n",
    "        return \"Meow!\"\n",
    "\n",
    "dog = Dog()\n",
    "cat = Cat()\n",
    "\n",
    "print(dog.speak())  # Output: \"Woof!\"\n",
    "print(cat.speak())  # Output: \"Meow!\""
   ]
  },
  {
   "cell_type": "raw",
   "id": "f9a19fa1-1707-4248-9b3a-db1e9aa60987",
   "metadata": {},
   "source": [
    "Compile-Time Polymorphism (Not Typical in Python):\n",
    "--------------------------------------------------\n",
    "Static Binding:\n",
    "    In statically typed languages like C++, compile-time polymorphism (also known as early binding) is achieved through method overloading and function overloading. It involves selecting the appropriate method at compile time based on the number and types of arguments passed to the function.\n",
    "\n",
    "Function Overloading: \n",
    "    In compile-time polymorphism, you can define multiple methods or functions with the same name but different parameter lists. The appropriate method or function is determined by the compiler based on the provided arguments."
   ]
  },
  {
   "cell_type": "raw",
   "id": "1b72ab3e-cd9a-4511-ba55-871de696b544",
   "metadata": {},
   "source": [
    "In Python, method overloading based on the number or type of arguments is not common due to its dynamic typing nature. Python typically uses runtime polymorphism and dynamic binding to achieve polymorphic behavior. While you can write functions with default arguments or variable-length argument lists, the specific method to be called is determined at runtime, and Python allows flexibility in argument types."
   ]
  },
  {
   "cell_type": "markdown",
   "id": "11874d48-d765-4475-8134-c933354d37e6",
   "metadata": {},
   "source": [
    "3. Create a Python class hierarchy for shapes (e.g., circle, square, triangle) and demonstrate polymorphism through a common method, such as `calculate_area()`."
   ]
  },
  {
   "cell_type": "code",
   "execution_count": 1,
   "id": "06d06b7b-9a7b-4848-b86a-8cbdf583ed8c",
   "metadata": {},
   "outputs": [
    {
     "name": "stdout",
     "output_type": "stream",
     "text": [
      "Area of the Circle is 28.274333882308138\n",
      "Area of the Square is 16\n",
      "Area of the Triangle is 3.0\n"
     ]
    }
   ],
   "source": [
    "import math\n",
    "\n",
    "class Shapes:\n",
    "        \n",
    "    def calculate_area(self):\n",
    "        return f\"This function would calculate area of the shape\"\n",
    "    \n",
    "class Circle(Shapes):\n",
    "    def __init__(self, radius):\n",
    "        self.radius = radius\n",
    "    \n",
    "    def calculate_area(self):\n",
    "        area = math.pi * self.radius**2\n",
    "        return area\n",
    "\n",
    "class Square(Shapes):\n",
    "    def __init__(self, side):\n",
    "        self.side = side\n",
    "        \n",
    "    def calculate_area(self):\n",
    "        area = self.side ** 2\n",
    "        return area\n",
    "    \n",
    "\n",
    "class Triangle(Shapes):\n",
    "    def __init__(self, base, height):\n",
    "        self.base = base\n",
    "        self.height = height\n",
    "        \n",
    "    def calculate_area(self):\n",
    "        area = 0.5 * self.base * self.height\n",
    "        return area\n",
    "    \n",
    "# creating objects of Circle, Square and Rectangle.\n",
    "circle = Circle(3)\n",
    "square = Square(4)\n",
    "triangle = Triangle(2, 3)\n",
    "\n",
    "shapes = [circle, square, triangle]\n",
    "\n",
    "for shape in shapes:\n",
    "    print(f\"Area of the {shape.__class__.__name__} is {shape.calculate_area()}\")\n",
    "        "
   ]
  },
  {
   "cell_type": "markdown",
   "id": "580253c7-f2a0-41b1-b8cb-6dea80eded9b",
   "metadata": {},
   "source": [
    "4. Explain the concept of method overriding in polymorphism. Provide an example."
   ]
  },
  {
   "cell_type": "raw",
   "id": "560e0f39-26e9-4787-840a-aa83ead533de",
   "metadata": {},
   "source": [
    "Method overriding is a fundamental concept in object-oriented programming and polymorphism. It allows a subclass to provide a specific implementation of a method that is already defined in its superclass. When a method is called on an object of the subclass, the subclass's implementation of the method is executed, rather than the implementation in the superclass. This enables different classes to share a common interface while allowing each class to have its own behavior for the same method.\n",
    "\n",
    "Key points about method overriding:\n",
    "-----------------------------------\n",
    "1. The overridden method in the subclass must have the same name, return type, and parameters as the method in the superclass.\n",
    "2. The @override decorator (available in some programming languages) is used to indicate that a method is intended to override a method from the superclass. In Python, the @override decorator is not required, but it's a good practice to include it for clarity.\n",
    "3. Method overriding allows for more specific behavior in subclasses, which is an essential feature for achieving polymorphism and dynamic dispatch.\n",
    "\n",
    "Example:\n",
    "--------"
   ]
  },
  {
   "cell_type": "code",
   "execution_count": 4,
   "id": "1f10b733-3942-41a8-870a-071c867a4fc4",
   "metadata": {},
   "outputs": [
    {
     "name": "stdout",
     "output_type": "stream",
     "text": [
      "Woof!\n",
      "Meow!\n",
      "Generic animal sound\n"
     ]
    }
   ],
   "source": [
    "class Animal:\n",
    "    def speak(self):\n",
    "        return \"Generic animal sound\"\n",
    "\n",
    "class Dog(Animal):\n",
    "    \n",
    "    def speak(self):\n",
    "        return \"Woof!\"\n",
    "\n",
    "class Cat(Animal):\n",
    "    def speak(self):\n",
    "        return \"Meow!\"\n",
    "\n",
    "dog = Dog()\n",
    "cat = Cat()\n",
    "animal = Animal()\n",
    "\n",
    "animals = [dog, cat, animal]\n",
    "\n",
    "for a in animals:\n",
    "    print(a.speak())"
   ]
  },
  {
   "cell_type": "markdown",
   "id": "5bec1a8b-fa2a-46d8-957b-b964fe469f58",
   "metadata": {},
   "source": [
    "5. How is polymorphism different from method overloading in Python? Provide examples for both."
   ]
  },
  {
   "cell_type": "raw",
   "id": "0a1cdb2b-24eb-4063-9f34-dc8fd3795723",
   "metadata": {},
   "source": [
    "Polymorphism and method overloading are related concepts in Python, but they differ in their implementation and purpose.\n",
    "\n",
    "Polymorphism:\n",
    "-------------\n",
    "Polymorphism is the ability of different classes to be treated as objects of a common superclass. It allows objects of different classes to share a common interface (methods and attributes), and the specific method implementation is determined at runtime based on the actual type of the object. Polymorphism is achieved through method overriding, where subclasses provide their own implementation of a method that is already defined in the superclass.\n",
    "\n",
    "Method Overloading:\n",
    "-------------------\n",
    "Method overloading, on the other hand, is the ability to define multiple methods with the same name within the same class, differing in their parameter lists. Python does not support traditional method overloading as seen in languages like Java or C++. Instead, in Python, you can define a single method and use default arguments or variable-length argument lists to achieve similar functionality for methods with different parameter lists."
   ]
  },
  {
   "cell_type": "code",
   "execution_count": null,
   "id": "93419280-7ffb-41dd-b1be-270daa278fb9",
   "metadata": {},
   "outputs": [],
   "source": [
    "# Polymorphism Example:\n",
    "\n",
    "class Animal:\n",
    "    def speak(self):\n",
    "        pass\n",
    "\n",
    "class Dog(Animal):\n",
    "    def speak(self):\n",
    "        return \"Woof!\"\n",
    "\n",
    "class Cat(Animal):\n",
    "    def speak(self):\n",
    "        return \"Meow!\"\n",
    "\n",
    "# Create objects of different classes\n",
    "dog = Dog()\n",
    "cat = Cat()\n",
    "\n",
    "# Using polymorphism\n",
    "animals = [dog, cat]\n",
    "\n",
    "for animal in animals:\n",
    "    print(animal.speak())\n"
   ]
  },
  {
   "cell_type": "code",
   "execution_count": 6,
   "id": "76629446-f0f6-4b49-8fce-113c38f0f132",
   "metadata": {},
   "outputs": [
    {
     "name": "stdout",
     "output_type": "stream",
     "text": [
      "2\n",
      "5\n",
      "9\n"
     ]
    }
   ],
   "source": [
    "# Method Overloading Example (Python style):\n",
    "\n",
    "class Calculator:\n",
    "    def add(self, a, b=0, c=0):\n",
    "        return a + b + c\n",
    "    \n",
    "\n",
    "# create an instance of the Calculator class\n",
    "calc = Calculator()\n",
    "\n",
    "print(calc.add(2))\n",
    "print(calc.add(2, 3))\n",
    "print(calc.add(2, 3, 4))"
   ]
  },
  {
   "cell_type": "raw",
   "id": "e9dc9d17-67b2-4ba3-811b-e875a7f7b8ee",
   "metadata": {},
   "source": [
    "In this method overloading example, the add() method can accept different numbers of arguments with default values. This is a Pythonic way to achieve behavior similar to method overloading based on the number of arguments. Note that it doesn't involve different method implementations for different classes, which is the key difference between polymorphism and method overloading in Python."
   ]
  },
  {
   "cell_type": "markdown",
   "id": "d914fd17-062e-4841-8ec5-401bfa411b27",
   "metadata": {},
   "source": [
    "6. Create a Python class called `Animal` with a method `speak()`. Then, create child classes like `Dog`, `Cat`, and `Bird`, each with their own `speak()` method. Demonstrate polymorphism by calling the `speak()` method on objects of different subclasses."
   ]
  },
  {
   "cell_type": "code",
   "execution_count": 5,
   "id": "89868db4-d7cf-4dde-bf86-f88354d48b73",
   "metadata": {},
   "outputs": [
    {
     "name": "stdout",
     "output_type": "stream",
     "text": [
      "Bird says chirp chirp\n",
      "Cat says Meow Meow\n",
      "Dog says Woof Woof\n"
     ]
    }
   ],
   "source": [
    "class Animal:\n",
    "    def speak(self):\n",
    "        return \"Generic Animal sound\"\n",
    "    \n",
    "class Dog(Animal):\n",
    "    def speak(self):\n",
    "        return \"Dog says Woof Woof\"\n",
    "\n",
    "class Cat(Animal):\n",
    "    def speak(self):\n",
    "        return \"Cat says Meow Meow\"\n",
    "\n",
    "class Bird(Animal):\n",
    "    def speak(self):\n",
    "        return \"Bird says chirp chirp\"\n",
    "    \n",
    "# creating objects\n",
    "dog = Dog()\n",
    "cat = Cat()\n",
    "bird = Bird()\n",
    "\n",
    "animals = [bird, cat, dog]\n",
    "\n",
    "for animal in animals:\n",
    "    print(animal.speak())"
   ]
  },
  {
   "cell_type": "markdown",
   "id": "5f0f0b07-fe1e-42de-a141-e822ca72edab",
   "metadata": {},
   "source": [
    "7. Discuss the use of abstract methods and classes in achieving polymorphism in Python. Provide an example using the `abc` module."
   ]
  },
  {
   "cell_type": "raw",
   "id": "9bedaff6-75ab-4bce-a8de-81449100dc31",
   "metadata": {},
   "source": [
    "Abstract methods and classes play a crucial role in achieving polymorphism in Python. They allow you to define a common interface that must be implemented by concrete subclasses. When abstract classes include abstract methods, they ensure that subclasses provide specific behavior for those methods, enabling polymorphism. In Python, the abc (abstract base classes) module is used to define abstract classes and methods.\n",
    "\n",
    "Example:\n",
    "--------"
   ]
  },
  {
   "cell_type": "code",
   "execution_count": 7,
   "id": "3c3fa3f7-ea8c-4f16-8433-aeb7986d7f7e",
   "metadata": {},
   "outputs": [
    {
     "name": "stdout",
     "output_type": "stream",
     "text": [
      "Area of Circle is 12.566370614359172\n",
      "Area of Square is 16\n",
      "Area of Triangle is 3.0\n"
     ]
    }
   ],
   "source": [
    "from abc import ABC, abstractmethod\n",
    "import math\n",
    "\n",
    "class Shape(ABC):\n",
    "    \n",
    "    @abstractmethod\n",
    "    def calculate_area(self):\n",
    "        pass\n",
    "    \n",
    "class Circle(Shape):\n",
    "    def __init__(self, r):\n",
    "        self.radius = r\n",
    "        \n",
    "    def calculate_area(self):\n",
    "        return math.pi * self.radius ** 2\n",
    "    \n",
    "class Square(Shape):\n",
    "    def __init__(self, s):\n",
    "        self.side = s\n",
    "        \n",
    "    def calculate_area(self):\n",
    "        return self.side ** 2\n",
    "    \n",
    "class Triangle(Shape):\n",
    "    def __init__(self, b, h):\n",
    "        self.base = b\n",
    "        self.height = h\n",
    "        \n",
    "    def calculate_area(self):\n",
    "        return 0.5 * self.base * self.height\n",
    "    \n",
    "circle = Circle(2)\n",
    "square = Square(4)\n",
    "triangle = Triangle(2, 3)\n",
    "\n",
    "shapes = [circle, square, triangle]\n",
    "\n",
    "for shape in shapes:\n",
    "    print(f\"Area of {shape.__class__.__name__} is {shape.calculate_area()}\")"
   ]
  },
  {
   "cell_type": "markdown",
   "id": "7645bbda-3d2b-434e-944d-286a8e245ff4",
   "metadata": {},
   "source": [
    "8. Create a Python class hierarchy for a vehicle system (e.g., car, bicycle, boat) and implement a polymorphic `start()` method that prints a message specific to each vehicle type."
   ]
  },
  {
   "cell_type": "code",
   "execution_count": 9,
   "id": "c4b90d42-5b6f-49fc-8f21-06f84c9c8770",
   "metadata": {},
   "outputs": [
    {
     "name": "stdout",
     "output_type": "stream",
     "text": [
      "Sports Car goes vroooom!\n",
      "Mountain Bike is pedaling away!\n",
      "Sailboat is setting sail!\n"
     ]
    }
   ],
   "source": [
    "class Vehicle:\n",
    "    def __init__(self, name):\n",
    "        self.name = name\n",
    "        \n",
    "    def start(self):\n",
    "        pass\n",
    "    \n",
    "class Car(Vehicle):\n",
    "    def start(self):\n",
    "        return f\"{self.name} goes vroooom!\"\n",
    "    \n",
    "class Bicycle(Vehicle):\n",
    "    def start(self):\n",
    "        return f\"{self.name} is pedaling away!\"\n",
    "    \n",
    "class Boat(Vehicle):\n",
    "    def start(self):\n",
    "        return f\"{self.name} is setting sail!\"\n",
    "    \n",
    "# Create instances of different vehicle types\n",
    "car = Car(\"Sports Car\")\n",
    "bicycle = Bicycle(\"Mountain Bike\")\n",
    "boat = Boat(\"Sailboat\")\n",
    "\n",
    "# Use polymorphism to start the vehicles\n",
    "vehicles = [car, bicycle, boat]\n",
    "\n",
    "for vehicle in vehicles:\n",
    "    print(vehicle.start())\n"
   ]
  },
  {
   "cell_type": "markdown",
   "id": "5c8a09a3-d956-4c1a-8d01-7e655791b47b",
   "metadata": {},
   "source": [
    "9. Explain the significance of the `isinstance()` and `issubclass()` functions in Python polymorphism."
   ]
  },
  {
   "cell_type": "raw",
   "id": "f7745f93-0d51-4e3c-995e-8de22e29d9b2",
   "metadata": {},
   "source": [
    "The isinstance() and issubclass() functions in Python are essential tools for working with polymorphism and object-oriented programming. They allow you to check the type or class hierarchy of objects and classes, respectively.\n",
    "\n",
    "1. isinstance() Function:\n",
    "-------------------------\n",
    "Significance: The isinstance() function is used to check whether an object belongs to a particular class or a tuple of classes. It's commonly used to determine the type of an object before performing specific operations.\n",
    "\n",
    "Polymorphism: In the context of polymorphism, isinstance() is often used to check if an object is an instance of a particular class or one of its subclasses. This is useful when you want to handle objects of different types in a \n",
    "polymorphic way based on their class hierarchy.\n",
    "\n",
    "Exmaple:"
   ]
  },
  {
   "cell_type": "code",
   "execution_count": 10,
   "id": "6ac5dbbb-1781-476b-91b9-c6b0e96de4ed",
   "metadata": {},
   "outputs": [
    {
     "name": "stdout",
     "output_type": "stream",
     "text": [
      "True\n",
      "True\n"
     ]
    }
   ],
   "source": [
    "class Animal:\n",
    "    pass\n",
    "\n",
    "class Dog(Animal):\n",
    "    pass\n",
    "\n",
    "dog = Dog()\n",
    "\n",
    "print(isinstance(dog, Dog))\n",
    "print(isinstance(dog, Animal))"
   ]
  },
  {
   "cell_type": "raw",
   "id": "cb6af3c8-3c67-46a2-a92b-bf57c641adda",
   "metadata": {},
   "source": [
    "2. issubclass() Function:\n",
    "-------------------------\n",
    "Significance: The issubclass() function is used to check if a given class is a subclass of another class or a tuple of classes. It's used to determine class hierarchy and relationships between classes.\n",
    "\n",
    "Polymorphism: In the context of polymorphism, issubclass() is useful for verifying whether a class is a subclass of a particular class. It's commonly used in conjunction with isinstance() to ensure that an object can be treated in a polymorphic manner.\n",
    "\n",
    "Example:"
   ]
  },
  {
   "cell_type": "code",
   "execution_count": 13,
   "id": "80842e82-feb7-4cad-b752-c22a07a8a068",
   "metadata": {},
   "outputs": [
    {
     "name": "stdout",
     "output_type": "stream",
     "text": [
      "True\n",
      "True\n",
      "False\n"
     ]
    }
   ],
   "source": [
    "class Animal:\n",
    "    pass\n",
    "\n",
    "class Dog(Animal):\n",
    "    pass\n",
    "\n",
    "print(issubclass(Dog, Animal))\n",
    "print(issubclass(Animal, Animal))\n",
    "print(issubclass(Animal, Dog))"
   ]
  },
  {
   "cell_type": "markdown",
   "id": "deadb11a-0842-4dd4-a444-56a482ca1aa5",
   "metadata": {},
   "source": [
    "10. What is the role of the `@abstractmethod` decorator in achieving polymorphism in Python? Provide an example."
   ]
  },
  {
   "cell_type": "raw",
   "id": "f2575af5-f079-4387-a256-62c664b23017",
   "metadata": {},
   "source": [
    "The @abstractmethod decorator, available in Python through the abc (abstract base classes) module, plays a crucial role in achieving polymorphism by defining abstract methods in abstract base classes. Abstract methods are methods without a concrete implementation in the base class, and they must be implemented by concrete subclasses. This ensures that subclasses adhere to a common interface and share the same method name, which is essential for polymorphism.\n",
    "\n",
    "Example:\n",
    "--------"
   ]
  },
  {
   "cell_type": "code",
   "execution_count": 15,
   "id": "7204026b-ba83-4b73-a3fd-83294096c33e",
   "metadata": {},
   "outputs": [
    {
     "name": "stdout",
     "output_type": "stream",
     "text": [
      "Area of Circle is 12.57\n",
      "Area of Square is 16.00\n",
      "Area of Triangle is 3.00\n"
     ]
    }
   ],
   "source": [
    "from abc import ABC, abstractmethod\n",
    "import math\n",
    "\n",
    "class Shape(ABC):\n",
    "    \n",
    "    @abstractmethod\n",
    "    def calculate_area(self):\n",
    "        pass\n",
    "    \n",
    "class Circle(Shape):\n",
    "    def __init__(self, r):\n",
    "        self.radius = r\n",
    "        \n",
    "    def calculate_area(self):\n",
    "        return math.pi * self.radius ** 2\n",
    "    \n",
    "class Square(Shape):\n",
    "    def __init__(self, s):\n",
    "        self.side = s\n",
    "        \n",
    "    def calculate_area(self):\n",
    "        return self.side ** 2\n",
    "    \n",
    "class Triangle(Shape):\n",
    "    def __init__(self, b, h):\n",
    "        self.base = b\n",
    "        self.height = h\n",
    "        \n",
    "    def calculate_area(self):\n",
    "        return 0.5 * self.base * self.height\n",
    "    \n",
    "circle = Circle(2)\n",
    "square = Square(4)\n",
    "triangle = Triangle(2, 3)\n",
    "\n",
    "shapes = [circle, square, triangle]\n",
    "\n",
    "for shape in shapes:\n",
    "    print(f\"Area of {shape.__class__.__name__} is {shape.calculate_area():.2f}\")"
   ]
  },
  {
   "cell_type": "markdown",
   "id": "f4d58f8c-aff3-4444-b956-9af0af1e08f2",
   "metadata": {},
   "source": [
    "11. Create a Python class called `Shape` with a polymorphic method `area()` that calculates the area of different shapes (e.g., circle, rectangle, triangle)."
   ]
  },
  {
   "cell_type": "code",
   "execution_count": 1,
   "id": "f20abd87-e079-47ee-88b9-1992f759e04d",
   "metadata": {},
   "outputs": [
    {
     "name": "stdout",
     "output_type": "stream",
     "text": [
      "Area of the Circle is 28.274333882308138\n",
      "Area of the Square is 16\n",
      "Area of the Triangle is 3.0\n"
     ]
    }
   ],
   "source": [
    "import math\n",
    "\n",
    "class Shapes:\n",
    "        \n",
    "    def calculate_area(self):\n",
    "        return f\"This function would calculate area of the shape\"\n",
    "    \n",
    "class Circle(Shapes):\n",
    "    def __init__(self, radius):\n",
    "        self.radius = radius\n",
    "    \n",
    "    def calculate_area(self):\n",
    "        area = math.pi * self.radius**2\n",
    "        return area\n",
    "\n",
    "class Square(Shapes):\n",
    "    def __init__(self, side):\n",
    "        self.side = side\n",
    "        \n",
    "    def calculate_area(self):\n",
    "        area = self.side ** 2\n",
    "        return area\n",
    "    \n",
    "\n",
    "class Triangle(Shapes):\n",
    "    def __init__(self, base, height):\n",
    "        self.base = base\n",
    "        self.height = height\n",
    "        \n",
    "    def calculate_area(self):\n",
    "        area = 0.5 * self.base * self.height\n",
    "        return area\n",
    "    \n",
    "# creating objects of Circle, Square and Rectangle.\n",
    "circle = Circle(3)\n",
    "square = Square(4)\n",
    "triangle = Triangle(2, 3)\n",
    "\n",
    "shapes = [circle, square, triangle]\n",
    "\n",
    "for shape in shapes:\n",
    "    print(f\"Area of the {shape.__class__.__name__} is {shape.calculate_area()}\")"
   ]
  },
  {
   "cell_type": "markdown",
   "id": "4f6a053b-7b55-4f12-8df1-2e94f5235abe",
   "metadata": {},
   "source": [
    "12. Discuss the benefits of polymorphism in terms of code reusability and flexibility in Python programs."
   ]
  },
  {
   "cell_type": "raw",
   "id": "9e5806f4-9c72-40a2-af9d-f90360fbbdd7",
   "metadata": {},
   "source": [
    "Polymorphism in Python offers several significant benefits in terms of code reusability and flexibility, making it a fundamental concept in object-oriented programming.\n",
    "\n",
    "Key advantages of polymorphism:\n",
    "-------------------------------\n",
    "1. Code Reusability:\n",
    "    a. Polymorphism allows you to create a common interface or abstract base class that defines a set of methods or attributes shared by multiple classes or objects.\n",
    "    b. This common interface promotes code reusability because you can write code that works with objects of different classes that adhere to the same interface, reducing the need to duplicate code for similar operations.\n",
    "\n",
    "2. Flexibility:\n",
    "    a. Polymorphism provides flexibility in your code by allowing objects of different classes to be treated as instances of a common superclass.\n",
    "    b. This means you can write code that is more general and flexible, as it can handle objects of various types, adapting to different situations and data structures without significant modification.\n",
    "    \n",
    "3. Extensibility:\n",
    "    a. Polymorphism simplifies the process of extending your code. When you create a new class that adheres to an existing interface, you can seamlessly integrate it into your codebase without rewriting large portions of your code.\n",
    "    \n",
    "4. Ease of Maintenance:\n",
    "    a. Code that uses polymorphism is often easier to maintain. Changes and updates can be made in a single location, affecting all subclasses that adhere to the same interface. This reduces the risk of introducing bugs due to inconsistent updates.\n",
    "    \n",
    "5. Dynamic Behaviour:\n",
    "    a. Polymorphism allows for dynamic behavior, where the specific method to be executed is determined at runtime based on the actual type of the object. This dynamic dispatch makes your code more adaptable to varying conditions and user input.\n",
    "    \n",
    "6. Abstraction:\n",
    "    a. Polymorphism encourages abstraction and separation of concerns in your code. By defining a common interface in abstract base classes, you can focus on the high-level functionality and design of your program, making your code more modular and understandable.\n",
    "    \n",
    "7. Enhanced Collaboration:\n",
    "    a. In team-based software development, polymorphism enables multiple developers to work on different parts of a system independently. As long as they adhere to the agreed-upon interface, their code can collaborate effectively.\n",
    "    \n",
    "8. Reduced Conditional Statements:\n",
    "    a. Polymorphism often eliminates the need for complex conditional statements that check the type of an object before taking specific actions. This simplifies code and makes it more readable and maintainable.\n",
    "    \n",
    "9. Testing and Debugging:\n",
    "    a. Polymorphism can make testing and debugging easier. You can create common test cases for objects that adhere to the same interface, streamlining the testing process and ensuring that code is more predictable and reliable.\n",
    "    \n",
    "In summary, polymorphism in Python enhances code reusability, flexibility, and maintainability, making it a powerful tool for creating modular and adaptable software. It promotes clean and extensible code design by allowing different classes to share a common interface, which is a key principle of object-oriented programming."
   ]
  },
  {
   "cell_type": "code",
   "execution_count": 85,
   "id": "0f8d6b2d-a95a-4772-8071-d4f44708bd29",
   "metadata": {},
   "outputs": [
    {
     "name": "stdout",
     "output_type": "stream",
     "text": [
      "Area: 78.5\n",
      "Area: 24\n"
     ]
    }
   ],
   "source": [
    "class Shape:\n",
    "    def area(self):\n",
    "        pass\n",
    "\n",
    "class Circle(Shape):\n",
    "    def __init__(self, radius):\n",
    "        self.radius = radius\n",
    "\n",
    "    def area(self):\n",
    "        return 3.14 * self.radius ** 2\n",
    "\n",
    "class Rectangle(Shape):\n",
    "    def __init__(self, length, width):\n",
    "        self.length = length\n",
    "        self.width = width\n",
    "\n",
    "    def area(self):\n",
    "        return self.length * self.width\n",
    "\n",
    "shapes = [Circle(5), Rectangle(4, 6)]\n",
    "\n",
    "for shape in shapes:\n",
    "    print(f\"Area: {shape.area()}\")\n",
    "\n",
    "    \n",
    "# In this example, the code works with a list of different shapes (circles and rectangles) and calculates their areas using polymorphism."
   ]
  },
  {
   "cell_type": "code",
   "execution_count": 86,
   "id": "82ed7d62-e723-4fc4-b407-e2542589e9d1",
   "metadata": {},
   "outputs": [
    {
     "name": "stdout",
     "output_type": "stream",
     "text": [
      "Area: 78.5\n",
      "Area: 24\n",
      "Area: 10.0\n"
     ]
    }
   ],
   "source": [
    "class Triangle(Shape):\n",
    "    def __init__(self, base, height):\n",
    "        self.base = base\n",
    "        self.height = height\n",
    "\n",
    "    def area(self):\n",
    "        return 0.5 * self.base * self.height\n",
    "\n",
    "shapes.append(Triangle(4, 5))\n",
    "\n",
    "for shape in shapes:\n",
    "    print(f\"Area: {shape.area()}\")\n",
    "\n",
    "# In this extended example, a new Triangle class is added, and the existing code continues to work without modification.    \n"
   ]
  },
  {
   "cell_type": "markdown",
   "id": "e7861e7c-04f5-4d03-921b-46667279f46f",
   "metadata": {},
   "source": [
    "13. Explain the use of the `super()` function in Python polymorphism. How does it help call methods of parent classes?"
   ]
  },
  {
   "cell_type": "raw",
   "id": "9b748384-28c5-4f2e-8219-01044c44ea8a",
   "metadata": {},
   "source": [
    "The super() function in Python is used to call methods and constructors from a parent or superclass within a subclass. It plays a significant role in achieving polymorphism by allowing you to invoke methods in the superclass while extending or overriding them in the subclass. This helps create a hierarchy of classes that can share and extend functionality, facilitating code reusability and flexibility.\n",
    "\n",
    "The key points regarding the use of the super() function in Python polymorphism are as follows:\n",
    "\n",
    "1. Calling Superclass Methods:\n",
    "------------------------------\n",
    "    The super() function is used to call a method of the superclass from within the subclass. It allows you to execute the superclass's implementation of a method, even if the method is overridden in the subclass.\n",
    "    \n",
    "2. Constructor Chaining:\n",
    "------------------------\n",
    "    When used in the constructor of a subclass, super() can be used to call the constructor of the superclass, allowing you to initialize attributes and perform common setup tasks defined in the superclass.\n",
    "\n",
    "3. Method Overriding:\n",
    "---------------------\n",
    "    super() is especially useful in the context of method overriding. If a subclass overrides a method from the superclass but still wants to utilize the superclass's behavior, it can call the superclass's method using super().\n",
    "    \n",
    "The use of super() in polymorphism allows for code reusability and the extension of behavior while maintaining a clear hierarchy of classes. It's especially useful when you want to preserve and build upon the behavior defined in the superclass.\n",
    "\n",
    "Example:\n",
    "--------"
   ]
  },
  {
   "cell_type": "code",
   "execution_count": 87,
   "id": "9aadd9c0-2df5-4841-895e-667c3c2a4f96",
   "metadata": {},
   "outputs": [
    {
     "name": "stdout",
     "output_type": "stream",
     "text": [
      "Generic animal sound and Woof\n",
      "Generic animal sound and Meow\n"
     ]
    }
   ],
   "source": [
    "class Animal:\n",
    "    def speak(self):\n",
    "        return \"Generic animal sound\"\n",
    "    \n",
    "class Dog(Animal):\n",
    "    def speak(self):\n",
    "        # call the superclass method using super()\n",
    "        parent_sound = super().speak()\n",
    "        return f\"{parent_sound} and Woof\"\n",
    "    \n",
    "class Cat(Animal):\n",
    "    def speak(self):\n",
    "        # call the superclass method using super()\n",
    "        parent_sound = super().speak()\n",
    "        return f\"{parent_sound} and Meow\"\n",
    "    \n",
    "dog = Dog()\n",
    "cat = Cat()\n",
    "\n",
    "print(dog.speak())\n",
    "print(cat.speak())"
   ]
  },
  {
   "cell_type": "markdown",
   "id": "a1a7dd81-63e3-4a4a-82b7-3a9697589231",
   "metadata": {},
   "source": [
    "14. Create a Python class hierarchy for a banking system with various account types (e.g., savings, checking, credit card) and demonstrate polymorphism by implementing a common `withdraw()` method."
   ]
  },
  {
   "cell_type": "code",
   "execution_count": 88,
   "id": "66b8a18a-7967-4450-8264-2c420f4f14ce",
   "metadata": {},
   "outputs": [
    {
     "name": "stdout",
     "output_type": "stream",
     "text": [
      "Withdrew 200 from account SA001. New balance: 1000\n",
      "Withdrew 200 from account CA001. New balance: 300\n",
      "Withdrew 200 from account CC001. New balance: -1200\n"
     ]
    }
   ],
   "source": [
    "class BankAccount:\n",
    "    def __init__(self, account_number, balance):\n",
    "        self.account_number = account_number\n",
    "        self.balance = balance\n",
    "        \n",
    "    def withdraw(self, amount):\n",
    "        if amount > 0 and amount <= self.balance:\n",
    "            return f\"Withdrew {amount} from account {self.account_number}. New balance: {self.balance}\"\n",
    "        else:\n",
    "            return \"Withdrawal failed: Insufficient funds or invalid amount.\"\n",
    "        \n",
    "class SavingsAccount(BankAccount):\n",
    "    def __init__(self, account_number, balance, interest_rate):\n",
    "        super().__init__(account_number, balance)\n",
    "        self.interest_rate = interest_rate\n",
    "        \n",
    "    def withdraw(self, amount):\n",
    "        return super().withdraw(amount)\n",
    "    \n",
    "class CheckingAccount(BankAccount):\n",
    "    def __init__(self, account_number, balance, overdraft_limit):\n",
    "        super().__init__(account_number, balance)\n",
    "        self.overdraft_limit = overdraft_limit\n",
    "        \n",
    "    def withdraw(self, amount):\n",
    "        if amount > 0 and amount <= (self.balance + self.overdraft_limit):\n",
    "            self.balance -= amount\n",
    "            return f\"Withdrew {amount} from account {self.account_number}. New balance: {self.balance}\"\n",
    "        else:\n",
    "            return \"Withdrawal failed: Insufficient funds or invalid amount.\"\n",
    "        \n",
    "class CreditCardAccount(BankAccount):\n",
    "    def __init__(self, account_number, balance, credit_limit):\n",
    "        super().__init__(account_number, balance)\n",
    "        self.credit_limit = credit_limit\n",
    "        \n",
    "    def withdraw(self, amount):\n",
    "        if amount > 0 and amount <= (self.balance + self.credit_limit):\n",
    "            self.balance -= amount\n",
    "            return f\"Withdrew {amount} from account {self.account_number}. New balance: {self.balance}\"\n",
    "        else:\n",
    "            return \"Withdrawal failed: Insufficient funds or invalid amount.\"\n",
    "        \n",
    "savings_account = SavingsAccount(\"SA001\", 1000, 0.03)\n",
    "checking_account = CheckingAccount(\"CA001\", 500, 200)\n",
    "credit_card_account = CreditCardAccount(\"CC001\", -1000, 2000)\n",
    "\n",
    "bankaccounts = [savings_account, checking_account, credit_card_account]\n",
    "\n",
    "for account in bankaccounts:\n",
    "    print(account.withdraw(200))"
   ]
  },
  {
   "cell_type": "markdown",
   "id": "927facb1-8b7e-473b-8091-974b260f6633",
   "metadata": {},
   "source": [
    "15. Describe the concept of operator overloading in Python and how it relates to polymorphism. Provide examples using operators like `+` and `*`."
   ]
  },
  {
   "cell_type": "raw",
   "id": "015d1f1f-3579-4bef-a756-11d12f051886",
   "metadata": {},
   "source": [
    "Operator overloading is a feature in Python that allows you to define custom behavior for standard operators such as +, -, *, /, ==, and many others. It's closely related to polymorphism because it enables different classes to use the same operators in a way that is contextually appropriate for their types. This allows objects of different classes to interact with operators in a polymorphic manner.\n",
    "\n",
    "In Python, operator overloading is achieved by defining special methods (also known as magic or dunder methods) in a class, which have double underscores (e.g., __add__, __sub__, __mul__) to indicate their purpose. When these operators are used on objects of a class, Python looks for the corresponding special methods to determine how the operation should be carried out.\n",
    "\n",
    "1. Operator Overloading with + (Addition):\n",
    "------------------------------------------\n"
   ]
  },
  {
   "cell_type": "code",
   "execution_count": 89,
   "id": "3b347d82-f151-4314-83e8-9a5d0a22f7d0",
   "metadata": {},
   "outputs": [
    {
     "name": "stdout",
     "output_type": "stream",
     "text": [
      "6 + 8i\n"
     ]
    }
   ],
   "source": [
    "class ComplexNumber:\n",
    "    def __init__(self, real, imag):\n",
    "        self.real = real\n",
    "        self.imag = imag\n",
    "        \n",
    "    def __add__(self, other):\n",
    "        # define the behaviour for the '+' operator\n",
    "        real_sum = self.real + other.real\n",
    "        imag_sum = self.imag + other.imag\n",
    "        return ComplexNumber(real_sum, imag_sum)\n",
    "    \n",
    "    def __str__(self):\n",
    "        return f\"{self.real} + {self.imag}i\"\n",
    "    \n",
    "c1 = ComplexNumber(2, 3)\n",
    "c2 = ComplexNumber(4, 5)\n",
    "\n",
    "res = c1 + c2\n",
    "print(res)"
   ]
  },
  {
   "cell_type": "raw",
   "id": "3ff19e44-7ec3-4828-ac38-465ae9197be2",
   "metadata": {},
   "source": [
    "The __add__ method is defined in the ComplexNumber class, which specifies how the + operator should behave when used with objects of this class. The __str__ method is used to provide a string representation.\n",
    "\n",
    "2. Operator Overloading with * (Multiplication):\n",
    "------------------------------------------------\n"
   ]
  },
  {
   "cell_type": "code",
   "execution_count": 90,
   "id": "045b669d-d5c2-4fca-8cfd-8b43f0877354",
   "metadata": {},
   "outputs": [
    {
     "name": "stdout",
     "output_type": "stream",
     "text": [
      "(6, 8)\n"
     ]
    }
   ],
   "source": [
    "class Vector:\n",
    "    def __init__(self, x, y):\n",
    "        self.x = x\n",
    "        self.y = y\n",
    "    \n",
    "    def __mul__(self, scalar):\n",
    "        # define the behaviour for the '*' operator with a scalar\n",
    "        res_x = self.x * scalar\n",
    "        res_y = self.y * scalar\n",
    "        return Vector(res_x, res_y)\n",
    "    \n",
    "    def __str__(self):\n",
    "        return f\"({self.x}, {self.y})\"\n",
    "    \n",
    "v = Vector(3, 4)\n",
    "\n",
    "res = v * 2\n",
    "print(res)"
   ]
  },
  {
   "cell_type": "raw",
   "id": "aa1cd9b1-2bf7-4cf9-86d0-5b90f5ae6152",
   "metadata": {},
   "source": [
    "The __mul__ method defines how the * operator should behave when used with a scalar value."
   ]
  },
  {
   "cell_type": "markdown",
   "id": "497ab18b-8fbf-4932-b1c7-dc96e3212a29",
   "metadata": {},
   "source": [
    "16. What is dynamic polymorphism, and how is it achieved in Python?"
   ]
  },
  {
   "cell_type": "raw",
   "id": "0ca3b718-aeda-42f7-a1d9-4eed834bc600",
   "metadata": {},
   "source": [
    "Dynamic polymorphism, also known as runtime polymorphism, is a fundamental concept in object-oriented programming. It allows objects of different classes to be treated as objects of a common superclass, and the specific method to be executed is determined at runtime based on the actual type of the object. In dynamic polymorphism, the decision about which method to invoke occurs dynamically during program execution, providing flexibility and extensibility.\n",
    "\n",
    "In Python, dynamic polymorphism is achieved through the following key mechanisms:\n",
    "\n",
    "Inheritance and Method Overriding:\n",
    "----------------------------------\n",
    "Inheritance is used to create a hierarchy of classes where a subclass inherits attributes and methods from a superclass.\n",
    "Dynamic polymorphism relies on method overriding. Subclasses provide their own implementations of methods that are already defined in the superclass.\n",
    "When an object of a subclass is used to invoke a method, Python looks at the actual class of the object to determine which implementation of the method should be executed.\n",
    "\n",
    "Superclass References:\n",
    "----------------------\n",
    "You can use references to the superclass to interact with objects of different subclasses. This allows you to treat objects based on their common superclass, promoting polymorphic behavior."
   ]
  },
  {
   "cell_type": "code",
   "execution_count": 91,
   "id": "da2c3703-7aee-48a9-8903-7e9292802882",
   "metadata": {},
   "outputs": [
    {
     "name": "stdout",
     "output_type": "stream",
     "text": [
      "Woof!\n",
      "Meow!\n"
     ]
    }
   ],
   "source": [
    "class Animal:\n",
    "    def speak(self):\n",
    "        pass\n",
    "\n",
    "class Dog(Animal):\n",
    "    def speak(self):\n",
    "        return \"Woof!\"\n",
    "\n",
    "class Cat(Animal):\n",
    "    def speak(self):\n",
    "        return \"Meow!\"\n",
    "\n",
    "# Create objects of different subclasses\n",
    "dog = Dog()\n",
    "cat = Cat()\n",
    "\n",
    "# Using superclass references to achieve dynamic polymorphism\n",
    "animals = [dog, cat]\n",
    "\n",
    "for animal in animals:\n",
    "    print(animal.speak())\n"
   ]
  },
  {
   "cell_type": "raw",
   "id": "2a92cae8-a9b3-4d75-ade1-970734e08f57",
   "metadata": {},
   "source": [
    "Dynamic polymorphism allows for code that is more flexible and extensible. It simplifies interactions with objects by promoting a common interface while allowing subclasses to provide specialized behavior as needed."
   ]
  },
  {
   "cell_type": "markdown",
   "id": "12121b8b-e5dd-4422-8689-d3d696dbd29e",
   "metadata": {},
   "source": [
    "17. Create a Python class hierarchy for employees in a company (e.g., manager, developer, designer) and implement polymorphism through a common `calculate_salary()` method."
   ]
  },
  {
   "cell_type": "code",
   "execution_count": 92,
   "id": "34fa1cc3-4797-4a86-8186-0ef2c0ccf9e1",
   "metadata": {},
   "outputs": [
    {
     "name": "stdout",
     "output_type": "stream",
     "text": [
      "Alice's salary: Rs. 80,000.00\n",
      "Bob's salary: Rs. 57,500.00\n",
      "Charlie's salary: Rs. 63,500.00\n"
     ]
    }
   ],
   "source": [
    "class Employee:\n",
    "    def __init__(self, name, empid, base_sal):\n",
    "        self.emp_name = name\n",
    "        self.emp_id = empid\n",
    "        self.emp_sal = base_sal\n",
    "        \n",
    "    def calculate_salary(self):\n",
    "        return self.emp_sal\n",
    "    \n",
    "class Manager(Employee):\n",
    "    def __init__(self, name, empid, base_sal, bonus):\n",
    "        super().__init__(name, empid, base_sal)\n",
    "        self.bonus = bonus\n",
    "        \n",
    "    def calculate_salary(self):\n",
    "        return self.emp_sal + self.bonus\n",
    "    \n",
    "class Developer(Employee):\n",
    "    def __init__(self, name, empid, base_sal, coding_languages, projects_completed):\n",
    "        super().__init__(name, empid, base_sal)\n",
    "        self.coding_languages = coding_languages\n",
    "        self.projects_completed = projects_completed\n",
    "        \n",
    "    def calculate_salary(self):\n",
    "        return self.emp_sal + (self.projects_completed * 1500)\n",
    "    \n",
    "class Designer(Employee):\n",
    "    def __init__(self, name, empid, base_sal, years_exp, design_awards):\n",
    "        super().__init__(name, empid, base_sal)\n",
    "        self.years_exp = years_exp\n",
    "        self.design_awards = design_awards\n",
    "        \n",
    "    def calculate_salary(self):\n",
    "        return self.emp_sal + (self.years_exp * 500) + (self.design_awards * 1000)\n",
    "    \n",
    "\n",
    "# objects of classes Manager, Developer, Designer\n",
    "manager = Manager(\"Alice\", \"M001\", 70000, 10000)\n",
    "developer = Developer(\"Bob\", \"DE001\", 50000, [\"Python\", \"HTML\"], 5)\n",
    "designer = Designer(\"Charlie\", \"DS001\", 60000, 3, 2)\n",
    "\n",
    "\n",
    "# Demonstrate polymorphism by calling the calculate_salary() method\n",
    "employees = [manager, developer, designer]\n",
    "\n",
    "for employee in employees:\n",
    "    print(f\"{employee.emp_name}'s salary: Rs. {employee.calculate_salary():,.2f}\")"
   ]
  },
  {
   "cell_type": "markdown",
   "id": "706b72c4-6810-47e6-bf31-b3ae0cf49045",
   "metadata": {},
   "source": [
    "18. Discuss the concept of function pointers and how they can be used to achieve polymorphism in Python."
   ]
  },
  {
   "cell_type": "raw",
   "id": "ca4dd6e8-af1b-4015-9aad-042fac1a6694",
   "metadata": {},
   "source": [
    "In Python, function pointers are not a native concept as they are in languages like C or C++. However, Python has its own mechanisms for achieving polymorphism and dynamic dispatch without the need for explicit function pointers. Instead, Python relies on dynamic typing, duck typing, and object-oriented programming principles to achieve polymorphism. Here's how polymorphism is typically achieved in Python:\n",
    "\n",
    "1. Duck Typing: \n",
    "---------------\n",
    "In Python, we often use a principle called \"duck typing,\" which means that the type or class of an object is determined by its behavior rather than its explicit type. If an object behaves like a certain type, it's treated as an instance of that type. This allows for polymorphism based on the behavior of objects.\n",
    "\n",
    "2. Inheritance and Method Overriding:\n",
    "-------------------------------------\n",
    " In object-oriented programming, you can use inheritance and method overriding to achieve polymorphism. Subclasses can provide their own implementations of methods defined in a superclass, allowing objects of different types to share a common interface.\n",
    " \n",
    " "
   ]
  },
  {
   "cell_type": "code",
   "execution_count": 93,
   "id": "93154d65-7fa6-436e-8697-d613b83364a5",
   "metadata": {},
   "outputs": [
    {
     "name": "stdout",
     "output_type": "stream",
     "text": [
      "Woof!\n",
      "Meow!\n"
     ]
    }
   ],
   "source": [
    "class Animal:\n",
    "    def speak(self):\n",
    "        pass\n",
    "\n",
    "class Dog(Animal):\n",
    "    def speak(self):\n",
    "        return \"Woof!\"\n",
    "\n",
    "class Cat(Animal):\n",
    "    def speak(self):\n",
    "        return \"Meow!\"\n",
    "\n",
    "# Polymorphism in action\n",
    "dog = Dog()\n",
    "cat = Cat()\n",
    "\n",
    "# Dynamic dispatch based on the object's class\n",
    "animals = [dog, cat]\n",
    "for animal in animals:\n",
    "    print(animal.speak())\n"
   ]
  },
  {
   "cell_type": "raw",
   "id": "a3ff9250-f04a-4d6e-bb7a-7075c29ddda9",
   "metadata": {},
   "source": [
    "While Python doesn't use function pointers in the way some other languages do, it achieves the same polymorphic behavior through its dynamic and flexible typing system. This approach simplifies code and promotes a more Pythonic way of designing and structuring programs."
   ]
  },
  {
   "cell_type": "markdown",
   "id": "632019f1-1c48-44d5-a5a5-e42ae2379f6a",
   "metadata": {},
   "source": [
    "19. Explain the role of interfaces and abstract classes in polymorphism, drawing comparisons between them."
   ]
  },
  {
   "cell_type": "raw",
   "id": "5e80cbd7-c7f1-4e3e-8cf2-052cdb8ef20f",
   "metadata": {},
   "source": [
    "Interfaces and abstract classes are two key concepts in object-oriented programming that play significant roles in achieving polymorphism. Both of them define a common interface for classes to adhere to, enabling different classes to exhibit polymorphic behavior. Let's discuss the role of interfaces and abstract classes in polymorphism and draw comparisons between them:\n",
    "\n",
    "Interfaces:\n",
    "===========\n",
    "Role in Polymorphism:\n",
    "---------------------\n",
    "An interface defines a contract specifying a set of method signatures that a class implementing the interface must provide. It acts as a guarantee that any class adhering to the interface will have specific behaviors.\n",
    "\n",
    "Implementation:\n",
    "---------------\n",
    "Interfaces only declare method signatures, and they do not provide any method implementations. Implementing classes are responsible for providing their own method implementations.\n",
    "\n",
    "Multiple Inheritance:\n",
    "---------------------\n",
    "In many programming languages (e.g., Java and C#), a class can implement multiple interfaces. This allows a class to define multiple behaviors through the implementation of different interfaces, contributing to polymorphism.\n",
    "\n",
    "Use Cases:\n",
    "----------\n",
    "Interfaces are suitable for situations where you want to ensure that multiple classes share a common set of method signatures, promoting a contract-driven design approach. They facilitate loose coupling between classes.\n",
    "\n",
    "\n",
    "Abstract Classes:\n",
    "=================\n",
    "Role in Polymorphism:\n",
    "---------------------\n",
    "An abstract class serves as a blueprint for other classes and defines a common set of methods (some of which can be abstract). Subclasses inherit these methods, which can be used to create polymorphic behavior.\n",
    "\n",
    "Implementation:\n",
    "---------------\n",
    "Abstract classes can provide method implementations in addition to declaring abstract methods. Subclasses inherit both the method signatures and the provided method implementations. Subclasses must still provide implementations for any declared abstract methods.\n",
    "\n",
    "Single Inheritance:\n",
    "-------------------\n",
    "In most programming languages, a class can inherit from only one abstract class. This limits the flexibility compared to interfaces but can be suitable for creating a base class with some common behavior.\n",
    "\n",
    "Use Cases:\n",
    "----------\n",
    "Abstract classes are suitable when you want to define a common base class with shared attributes and methods while ensuring that certain methods must be implemented by subclasses. This is especially useful for creating hierarchies of classes."
   ]
  },
  {
   "cell_type": "code",
   "execution_count": 94,
   "id": "831170f9-3e46-4dd4-bca9-6a616472d11d",
   "metadata": {},
   "outputs": [
    {
     "name": "stdout",
     "output_type": "stream",
     "text": [
      "Area: 78.5\n",
      "Area: 24\n"
     ]
    }
   ],
   "source": [
    "# Abstract Classes:\n",
    "\n",
    "from abc import ABC, abstractmethod\n",
    "\n",
    "class Shape(ABC):\n",
    "    @abstractmethod\n",
    "    def area(self):\n",
    "        pass\n",
    "\n",
    "class Circle(Shape):\n",
    "    def __init__(self, radius):\n",
    "        self.radius = radius\n",
    "\n",
    "    def area(self):\n",
    "        return 3.14 * self.radius ** 2\n",
    "\n",
    "class Rectangle(Shape):\n",
    "    def __init__(self, length, width):\n",
    "        self.length = length\n",
    "        self.width = width\n",
    "\n",
    "    def area(self):\n",
    "        return self.length * self.width\n",
    "\n",
    "shapes = [Circle(5), Rectangle(4, 6)]\n",
    "\n",
    "for shape in shapes:\n",
    "    print(f\"Area: {shape.area()}\")\n"
   ]
  },
  {
   "cell_type": "code",
   "execution_count": 95,
   "id": "8e556034-5b8f-4b6b-8c2d-98bb8805cc04",
   "metadata": {},
   "outputs": [
    {
     "name": "stdout",
     "output_type": "stream",
     "text": [
      "Area: 78.5\n",
      "Drawing: Drawing a circle with radius 5\n",
      "Area: 24\n",
      "Drawing: Drawing a rectangle with length 4 and width 6\n"
     ]
    }
   ],
   "source": [
    "# Interfaces:\n",
    "\n",
    "from abc import ABC, abstractmethod\n",
    "\n",
    "class Shape(ABC):\n",
    "    @abstractmethod\n",
    "    def area(self):\n",
    "        pass\n",
    "\n",
    "class Drawable(ABC):\n",
    "    @abstractmethod\n",
    "    def draw(self):\n",
    "        pass\n",
    "\n",
    "class Circle(Shape, Drawable):\n",
    "    def __init__(self, radius):\n",
    "        self.radius = radius\n",
    "\n",
    "    def area(self):\n",
    "        return 3.14 * self.radius ** 2\n",
    "\n",
    "    def draw(self):\n",
    "        return f\"Drawing a circle with radius {self.radius}\"\n",
    "\n",
    "class Rectangle(Shape, Drawable):\n",
    "    def __init__(self, length, width):\n",
    "        self.length = length\n",
    "        self.width = width\n",
    "\n",
    "    def area(self):\n",
    "        return self.length * self.width\n",
    "\n",
    "    def draw(self):\n",
    "        return f\"Drawing a rectangle with length {self.length} and width {self.width}\"\n",
    "\n",
    "shapes = [Circle(5), Rectangle(4, 6)]\n",
    "\n",
    "for shape in shapes:\n",
    "    print(f\"Area: {shape.area()}\")\n",
    "    print(f\"Drawing: {shape.draw()}\")\n"
   ]
  },
  {
   "cell_type": "raw",
   "id": "a84399f8-abbc-44a8-8a9b-c32cb2062b3b",
   "metadata": {},
   "source": [
    "Comparisons:\n",
    "============\n",
    "Commonality: \n",
    "------------\n",
    "Both interfaces and abstract classes define a contract or common interface for classes.\n",
    "\n",
    "Method Implementation: \n",
    "----------------------\n",
    "Interfaces do not provide method implementations, whereas abstract classes can provide method implementations.\n",
    "\n",
    "Inheritance: \n",
    "------------\n",
    "Interfaces can be implemented by multiple classes, while an abstract class can typically be inherited by only one class.\n",
    "\n",
    "Flexibility: \n",
    "------------\n",
    "Interfaces are more flexible because a class can implement multiple interfaces, whereas an abstract class allows for a single inheritance hierarchy.\n",
    "\n",
    "Use Cases: \n",
    "----------\n",
    "Interfaces are suitable when you want to ensure that multiple classes share specific method signatures. Abstract classes are suitable when you want to provide a common base with some shared behavior and methods, allowing for code reuse and polymorphism within a single inheritance hierarchy."
   ]
  },
  {
   "cell_type": "raw",
   "id": "77c3ddaa-dee6-4e8a-8de7-ca00d1c76b17",
   "metadata": {},
   "source": [
    "Comparisons:\n",
    "============\n",
    "Abstract Classes:\n",
    "-----------------\n",
    "Can have both abstract and concrete methods.\n",
    "Can contain some shared behavior or attributes.\n",
    "Subclasses must implement abstract methods.\n",
    "Allow multiple inheritance (a class can inherit from multiple abstract classes).\n",
    "Encourage code reuse within the hierarchy of related classes.\n",
    "\n",
    "Interfaces:\n",
    "-----------\n",
    "Contain only abstract methods, defining a contract for classes to implement.\n",
    "Do not provide any shared behavior or attributes.\n",
    "Multiple interfaces can be implemented by a single class.\n",
    "Emphasize adherence to a contract rather than shared functionality.\n",
    "Promote a more loose coupling of classes, making them more interchangeable."
   ]
  },
  {
   "cell_type": "markdown",
   "id": "f0924bc7-7e23-4e8c-a893-c4bb27dee040",
   "metadata": {},
   "source": [
    "20. Create a Python class for a zoo simulation, demonstrating polymorphism with different animal types (e.g., mammals, birds, reptiles) and their behavior (e.g., eating, sleeping, making sounds)."
   ]
  },
  {
   "cell_type": "code",
   "execution_count": 96,
   "id": "b3f4a238-aaa3-4f5e-a951-877a663a72df",
   "metadata": {},
   "outputs": [
    {
     "name": "stdout",
     "output_type": "stream",
     "text": [
      "Mammal is Roaring\n",
      "Mammals is eating\n",
      "Mammal is Sleeping!\n",
      "\n",
      "Bird is Chirping\n",
      "Bird is pecking at seeds.\n",
      "Bird is perching and resting.!\n",
      "\n",
      "Reptile is Hissing\n",
      "Reptile is is snapping at prey.\n",
      "Reptile is basking in the sun.\n",
      "\n"
     ]
    }
   ],
   "source": [
    "class Zoo:\n",
    "    def eating(self):\n",
    "        print(\"Animal is eating\")\n",
    "        \n",
    "    def sleeping(self):\n",
    "        print(\"Animal is sleeping\")\n",
    "        \n",
    "    def making_sound(self):\n",
    "        print(\"Animal is making sound\")\n",
    "        \n",
    "class Mammals(Zoo):\n",
    "    def eating(self):\n",
    "        print(\"Mammals is eating\")\n",
    "        \n",
    "    def sleeping(self):\n",
    "        print(\"Mammal is Sleeping!\")\n",
    "        \n",
    "    def making_sound(self):\n",
    "        print(\"Mammal is Roaring\")\n",
    "        \n",
    "class Bird(Zoo):\n",
    "    def eating(self):\n",
    "        print(\"Bird is pecking at seeds.\")\n",
    "        \n",
    "    def sleeping(self):\n",
    "        print(\"Bird is perching and resting.!\")\n",
    "        \n",
    "    def making_sound(self):\n",
    "        print(\"Bird is Chirping\")\n",
    "        \n",
    "class Reptile(Zoo):\n",
    "    def eating(self):\n",
    "        print(\"Reptile is is snapping at prey.\")\n",
    "        \n",
    "    def sleeping(self):\n",
    "        print(\"Reptile is basking in the sun.\")\n",
    "        \n",
    "    def making_sound(self):\n",
    "        print(\"Reptile is Hissing\")\n",
    "        \n",
    "\n",
    "# create instances of different animal types\n",
    "lion = Mammals()\n",
    "sparrow = Bird()\n",
    "snake = Reptile()\n",
    "\n",
    "animals = [lion, sparrow, snake]\n",
    "\n",
    "for animal in animals:\n",
    "    animal.making_sound()\n",
    "    animal.eating()\n",
    "    animal.sleeping()\n",
    "    print()"
   ]
  },
  {
   "cell_type": "markdown",
   "id": "0f8bb62e-893b-4610-9bf2-f9d9115aacb3",
   "metadata": {
    "jp-MarkdownHeadingCollapsed": true,
    "tags": []
   },
   "source": [
    "# Abstraction"
   ]
  },
  {
   "cell_type": "markdown",
   "id": "9c0aa28c-3eca-45cd-9b90-91b44e1b0027",
   "metadata": {},
   "source": [
    "1. What is abstraction in Python, and how does it relate to object-oriented programming?"
   ]
  },
  {
   "cell_type": "raw",
   "id": "f112add1-eaa2-4ce9-9fdf-d721d9671780",
   "metadata": {},
   "source": [
    "Abstraction is a fundamental concept in Python and object-oriented programming (OOP). It refers to the process of simplifying complex systems by breaking them down into smaller, more manageable parts and focusing only on the essential details while hiding the unnecessary complexity. Abstraction allows you to work with high-level concepts, ignoring low-level implementation details, making it a powerful tool for designing, modeling, and solving real-world problems in software development.\n",
    "\n",
    "In the context of object-oriented programming, abstraction is closely related to several key principles:\n",
    "\n",
    "1. Encapsulation:\n",
    "-----------------\n",
    "    Abstraction is often achieved through encapsulation, which is the bundling of data (attributes) and methods (functions) that operate on that data within a class. This encapsulation hides the internal implementation details of the class, exposing only the necessary public interfaces to the outside world. By defining clear interfaces, you abstract away the complexities of how things work internally.\n",
    "    \n",
    "2. Classes and Objects: \n",
    "-----------------------\n",
    "    Abstraction relies on the concept of classes and objects. A class defines the blueprint for creating objects, specifying attributes and methods. Objects are instances of classes and represent real-world entities. Through abstraction, you focus on modeling these entities as objects with specific attributes and behaviors while ignoring their inner workings.\n",
    "\n",
    "3. Inheritance and Polymorphism:\n",
    "--------------------------------\n",
    "    Abstraction works hand-in-hand with inheritance and polymorphism. Inheritance allows you to create hierarchies of classes, abstracting common attributes and behaviors in superclasses and specializing them in subclasses. Polymorphism abstracts the concept that objects of different classes can be treated uniformly based on a common interface.\n",
    "\n",
    "4. Abstract Base Classes (ABCs): \n",
    "---------------------------------\n",
    "    Python's abc module enables you to define abstract base classes and abstract methods. Abstract base classes provide a way to define interfaces that must be implemented by concrete subclasses, enforcing a level of abstraction in class design.\n",
    "\n",
    "5. Interfaces and Contracts: \n",
    "----------------------------\n",
    "    Abstraction is often associated with defining interfaces or contracts that specify what methods or attributes a class should have. These interfaces serve as blueprints for implementing concrete classes.\n",
    "    \n",
    "Overall, abstraction in Python and OOP helps simplify complex systems by focusing on essential features and hiding implementation details. It promotes code reusability, maintainability, and the separation of concerns, making it easier to understand, design, and work with software systems. Abstraction enables you to create more robust, flexible, and scalable software by managing complexity and promoting a high-level view of the system."
   ]
  },
  {
   "cell_type": "code",
   "execution_count": 97,
   "id": "fdb76665-2c4e-48ba-be0e-c3f0f252abd7",
   "metadata": {},
   "outputs": [
    {
     "name": "stdout",
     "output_type": "stream",
     "text": [
      "Starting electric engine\n",
      "Starting gasoline engine\n"
     ]
    }
   ],
   "source": [
    "from abc import ABC, abstractmethod\n",
    "\n",
    "class Car:\n",
    "    def __init__(self, make, model):\n",
    "        self.make = make\n",
    "        self.model = model\n",
    "        \n",
    "    @abstractmethod\n",
    "    def start_engine(self):\n",
    "        pass\n",
    "    \n",
    "    \n",
    "class ElectricCar(Car):\n",
    "    def start_engine(self):\n",
    "        return \"Starting electric engine\"\n",
    "    \n",
    "class GasolineCar(Car):\n",
    "    def start_engine(self):\n",
    "        return \"Starting gasoline engine\"\n",
    "    \n",
    "    \n",
    "# Abstraction in action\n",
    "my_electric_car = ElectricCar(\"Tesla\", \"Model 3\")\n",
    "my_gasoline_car = GasolineCar(\"Toyota\", \"Camry\")\n",
    "\n",
    "\n",
    "print(my_electric_car.start_engine())\n",
    "print(my_gasoline_car.start_engine())"
   ]
  },
  {
   "cell_type": "markdown",
   "id": "7773f338-2e9e-46fb-a113-c12f2f3c57e0",
   "metadata": {},
   "source": [
    "2. Describe the benefits of abstraction in terms of code organization and complexity reduction."
   ]
  },
  {
   "cell_type": "raw",
   "id": "26bdee6f-3e20-4154-b5c7-d18c576a7832",
   "metadata": {},
   "source": [
    "Abstraction offers several benefits in terms of code organization and complexity reduction in software development. Here are the key advantages:\n",
    "\n",
    "Simplification of Complex Systems:\n",
    "----------------------------------\n",
    "Abstraction simplifies complex systems by breaking them down into smaller, manageable parts. It allows you to focus on high-level concepts and ignore unnecessary details, making it easier to design, understand, and work with software.\n",
    "\n",
    "Modularity:\n",
    "-----------\n",
    "Abstraction promotes modularity by dividing a system into smaller, independent components or modules. Each module encapsulates a specific set of functionality, making it easier to develop, test, and maintain.\n",
    "\n",
    "Code Reusability:\n",
    "-----------------\n",
    "Abstraction encourages code reusability. By creating abstract classes, interfaces, and design patterns, you can define common behaviors and structures that can be reused in different parts of the codebase or in multiple projects.\n",
    "\n",
    "Separation of Concerns:\n",
    "-----------------------\n",
    "Abstraction helps separate concerns within a system. It allows you to define clear boundaries between different parts of the code, such as data storage, user interface, and business logic. This separation makes it easier to maintain and update specific components without affecting others.\n",
    "\n",
    "Encapsulation:\n",
    "--------------\n",
    "Abstraction is closely related to encapsulation, which hides the internal details of a class or module. By encapsulating data and methods within classes, you abstract away the implementation, reducing the risk of errors and ensuring data integrity.\n",
    "\n",
    "Scalability:\n",
    "------------\n",
    "Abstraction makes software more scalable. When you abstract complex behaviors or components, you can extend and modify them without affecting other parts of the system. This is particularly important in large software projects.\n",
    "\n",
    "Improved Understanding:\n",
    "----------------------\n",
    "Abstraction makes code more understandable and readable. High-level, abstract concepts are easier to comprehend than low-level, detailed implementations. It helps programmers and collaborators quickly grasp the purpose and functionality of various components.\n",
    "\n",
    "Ease of Maintenance:\n",
    "--------------------\n",
    "Abstracting complex systems and separating concerns makes maintenance more manageable. When you need to make changes or updates, you can focus on isolated components, reducing the likelihood of introducing new bugs or issues.\n",
    "\n",
    "Design Flexibility:\n",
    "-------------------\n",
    "Abstraction enables design flexibility. You can modify or extend the system by altering the high-level structure without worrying about the internal details. This is especially valuable when requirements change.\n",
    "\n",
    "Reduced Code Duplication:\n",
    "------------------------\n",
    "Abstraction helps reduce code duplication by allowing you to define common behaviors or interfaces once and use them in multiple parts of the codebase. This minimizes the need to write the same code multiple times.\n",
    "\n",
    "Interoperability:\n",
    "-----------------\n",
    "Abstraction enables interoperability by defining clear interfaces or contracts that specify how different components should interact. This promotes compatibility and integration with external libraries or services.\n",
    "\n",
    "In summary, abstraction plays a crucial role in code organization and complexity reduction. It simplifies complex systems, promotes modularity and reusability, separates concerns, and enhances code readability and maintainability. Abstraction is a key principle in software design that helps manage the challenges of building and maintaining complex software systems."
   ]
  },
  {
   "cell_type": "markdown",
   "id": "4a44484e-33ea-48e7-ab59-40b1085ad37d",
   "metadata": {},
   "source": [
    "3. Create a Python class called `Shape` with an abstract method `calculate_area()`. Then, create child classes (e.g., `Circle`, `Rectangle`) that implement the `calculate_area()` method. Provide an example of using these classes."
   ]
  },
  {
   "cell_type": "code",
   "execution_count": 14,
   "id": "17ed1975-8241-4eef-8855-84f0a1ffe9ce",
   "metadata": {},
   "outputs": [
    {
     "name": "stdout",
     "output_type": "stream",
     "text": [
      "Circle - Area: 78.53975 , Perimeter: 31.4159\n",
      "Rectangle - Area: 24 , Perimeter: 20\n"
     ]
    }
   ],
   "source": [
    "from abc import ABC, abstractmethod\n",
    "\n",
    "class Shape(ABC):\n",
    "    \n",
    "    @abstractmethod\n",
    "    def area(self):\n",
    "        pass\n",
    "    \n",
    "    @abstractmethod\n",
    "    def perimeter(self):\n",
    "        pass\n",
    "    \n",
    "class Circle(Shape):\n",
    "    def __init__(self, radius):\n",
    "        self.radius = radius\n",
    "        \n",
    "    def area(self):\n",
    "        return 3.14159 * self.radius**2\n",
    "    \n",
    "    def perimeter(self):\n",
    "        return 2 * 3.14159 * self.radius\n",
    "    \n",
    "class Rectangle(Shape):\n",
    "    def __init__(self, l, b):\n",
    "        self.length = l\n",
    "        self.breadth = b\n",
    "        \n",
    "    def area(self):\n",
    "        return self.length * self.breadth\n",
    "    \n",
    "    def perimeter(self):\n",
    "        return 2 * (self.length + self.breadth)\n",
    "    \n",
    "    \n",
    "# Creating instances of the concrete subclasses\n",
    "circle = Circle(5)\n",
    "rectangle = Rectangle(4, 6)\n",
    "\n",
    "# using the common interface defined by the abstract base class\n",
    "print(\"Circle - Area:\", circle.area(), \", Perimeter:\", circle.perimeter())\n",
    "print(\"Rectangle - Area:\", rectangle.area(), \", Perimeter:\", rectangle.perimeter())"
   ]
  },
  {
   "cell_type": "markdown",
   "id": "f83d09b1-6095-436b-8307-38ae75d9ffab",
   "metadata": {},
   "source": [
    "4. Explain the concept of abstract classes in Python and how they are defined using the `abc` module. Provide an example."
   ]
  },
  {
   "cell_type": "raw",
   "id": "9f676c8d-c433-4e55-9622-36a40819d89d",
   "metadata": {},
   "source": [
    "In Python, an abstract class is a class that cannot be instantiated and is meant to serve as a blueprint for other classes. Abstract classes can define common methods and attributes that must be implemented by their concrete subclasses, ensuring that certain behaviors are consistent across the subclass hierarchy. Abstract classes are used to create a level of abstraction in your code, allowing you to define common interfaces for classes without specifying their implementations.\n",
    "\n",
    "The abc module (Abstract Base Classes) in Python provides a way to define abstract classes and abstract methods. To create an abstract class, you need to use the ABC metaclass and the @abstractmethod decorator for methods that should be abstract. An abstract method is a method declared in an abstract class but does not provide an implementation. Subclasses of an abstract class must implement all the abstract methods defined in the superclass.\n",
    "\n",
    "Example:\n",
    "--------"
   ]
  },
  {
   "cell_type": "code",
   "execution_count": 15,
   "id": "6a5dabab-ea51-47b1-a27e-2766dc564c01",
   "metadata": {},
   "outputs": [
    {
     "name": "stdout",
     "output_type": "stream",
     "text": [
      "Circle Area: 78.50\n",
      "Rectangle Area: 24\n"
     ]
    }
   ],
   "source": [
    "from abc import ABC, abstractmethod\n",
    "\n",
    "class Shape(ABC):\n",
    "    @abstractmethod\n",
    "    def area(self):\n",
    "        pass\n",
    "\n",
    "class Circle(Shape):\n",
    "    def __init__(self, radius):\n",
    "        self.radius = radius\n",
    "\n",
    "    def area(self):\n",
    "        return 3.14 * self.radius**2\n",
    "\n",
    "class Rectangle(Shape):\n",
    "    def __init__(self, width, height):\n",
    "        self.width = width\n",
    "        self.height = height\n",
    "\n",
    "    def area(self):\n",
    "        return self.width * self.height\n",
    "\n",
    "# Attempting to create an instance of the abstract class will raise a TypeError.\n",
    "# shape = Shape()  # This will result in a TypeError\n",
    "\n",
    "# Create instances of concrete subclasses\n",
    "circle = Circle(5)\n",
    "rectangle = Rectangle(4, 6)\n",
    "\n",
    "# Calculate and display areas\n",
    "print(f\"Circle Area: {circle.area():.2f}\")\n",
    "print(f\"Rectangle Area: {rectangle.area()}\")\n"
   ]
  },
  {
   "cell_type": "markdown",
   "id": "2be05c6b-dba2-43d2-8040-a7c39ad7bc03",
   "metadata": {},
   "source": [
    "5. How do abstract classes differ from regular classes in Python? Discuss their use cases."
   ]
  },
  {
   "cell_type": "raw",
   "id": "fa3a09b7-a5f8-4d45-ba08-719f62ac672e",
   "metadata": {},
   "source": [
    "Abstract classes in Python differ from regular (concrete) classes in several ways, and they serve distinct purposes. \n",
    "\n",
    "1. Instantiation:\n",
    "-----------------\n",
    "Abstract classes cannot be instantiated directly. Attempting to create an instance of an abstract class will result in a TypeError. In contrast, regular classes can be instantiated and used to create objects.\n",
    "\n",
    "2. Abstract Methods:\n",
    "--------------------\n",
    "Abstract classes can have one or more abstract methods. Abstract methods are methods defined in an abstract class without any implementation. They serve as placeholders and must be implemented in concrete (non-abstract) subclasses. Regular classes do not have abstract methods, and all methods within a regular class are expected to have implementations.\n",
    "\n",
    "3. Inheritence:\n",
    "---------------\n",
    "Abstract classes are often used as base classes for defining a common interface that must be followed by concrete subclasses. Regular classes may or may not be designed for inheritance, and they can be instantiated directly without any subclassing requirement.\n",
    "\n",
    "Use Cases:\n",
    "==========\n",
    "Abstract Classes:\n",
    "-----------------\n",
    "Defining Interfaces: \n",
    "    Abstract classes are used to define interfaces that enforce a specific set of methods to be implemented by concrete subclasses. This ensures consistency in behavior across related classes.\n",
    "\n",
    "Common Functionality: \n",
    "    Abstract classes can contain common functionality or attributes that should be shared among related subclasses. This promotes code reusability and modularity.\n",
    "\n",
    "Forcing Implementation: \n",
    "    Abstract classes are used to force developers to implement specific methods. This is common in frameworks and libraries where the framework provides the structure, and the user extends it by implementing required methods.\n",
    "\n",
    "Abstraction: \n",
    "    Abstract classes promote abstraction and hide implementation details. They allow you to focus on what methods should do rather than how they should do it.\n",
    "\n",
    "Regular Classes:\n",
    "----------------\n",
    "Concrete Objects: \n",
    "    Regular classes are used to create concrete objects that represent real-world entities or concepts. These objects can be instantiated directly and are not meant to serve as interfaces.\n",
    "\n",
    "Custom Logic: \n",
    "    Regular classes are used to implement custom logic, attributes, and methods for specific purposes. They encapsulate both data and behavior.\n",
    "\n",
    "Standalone Entities: \n",
    "    Regular classes can exist independently without a requirement for inheritance or the implementation of specific methods. They are self-contained units of code.\n",
    "\n",
    "In summary, abstract classes are used when you want to define a common interface and enforce the implementation of specific methods in subclasses. They are well-suited for scenarios where you want to ensure that related classes share a common structure. Regular classes, on the other hand, are used to create concrete objects and implement custom logic for various purposes. They are not limited by the constraints of abstract methods and can be instantiated directly."
   ]
  },
  {
   "cell_type": "code",
   "execution_count": 98,
   "id": "e63ce512-e60d-4647-9ca0-fd6b09d3afe2",
   "metadata": {},
   "outputs": [
    {
     "name": "stdout",
     "output_type": "stream",
     "text": [
      "Circle Area: 78.5\n",
      "Rectangle Area: 24\n"
     ]
    }
   ],
   "source": [
    "# Abstract class\n",
    "\n",
    "from abc import ABC, abstractmethod\n",
    "\n",
    "class Shape(ABC):\n",
    "    @abstractmethod\n",
    "    def area(self):\n",
    "        pass\n",
    "\n",
    "class Circle(Shape):\n",
    "    def __init__(self, radius):\n",
    "        self.radius = radius\n",
    "\n",
    "    def area(self):\n",
    "        return 3.14 * self.radius ** 2\n",
    "\n",
    "class Rectangle(Shape):\n",
    "    def __init__(self, length, width):\n",
    "        self.length = length\n",
    "        self.width = width\n",
    "\n",
    "    def area(self):\n",
    "        return self.length * self.width\n",
    "\n",
    "# Attempting to create an instance of an abstract class will result in a TypeError\n",
    "# shape = Shape()  # This will raise a TypeError\n",
    "\n",
    "# Creating instances of concrete subclasses\n",
    "circle = Circle(5)\n",
    "rectangle = Rectangle(4, 6)\n",
    "\n",
    "print(f\"Circle Area: {circle.area()}\")\n",
    "print(f\"Rectangle Area: {rectangle.area()}\")\n"
   ]
  },
  {
   "cell_type": "code",
   "execution_count": 99,
   "id": "66168521-a72b-422b-8ed4-f44155975c76",
   "metadata": {},
   "outputs": [
    {
     "name": "stdout",
     "output_type": "stream",
     "text": [
      "Hello, I'm Alice, and I'm 30 years old.\n",
      "Hello, I'm Bob, and I'm 25 years old.\n"
     ]
    }
   ],
   "source": [
    "# Regular class\n",
    "\n",
    "class Person:\n",
    "    def __init__(self, name, age):\n",
    "        self.name = name\n",
    "        self.age = age\n",
    "\n",
    "    def introduce(self):\n",
    "        return f\"Hello, I'm {self.name}, and I'm {self.age} years old.\"\n",
    "\n",
    "# Creating instances of a regular class\n",
    "person1 = Person(\"Alice\", 30)\n",
    "person2 = Person(\"Bob\", 25)\n",
    "\n",
    "print(person1.introduce())\n",
    "print(person2.introduce())\n"
   ]
  },
  {
   "cell_type": "markdown",
   "id": "d16482e4-7785-4108-b390-f430c674e187",
   "metadata": {},
   "source": [
    "6. Create a Python class for a bank account and demonstrate abstraction by hiding the account balance and providing methods to deposit and withdraw funds."
   ]
  },
  {
   "cell_type": "code",
   "execution_count": 13,
   "id": "e6ef3da4-6edf-4b48-8136-bf4cd6661e59",
   "metadata": {},
   "outputs": [
    {
     "name": "stdout",
     "output_type": "stream",
     "text": [
      "Account Number: 123456\n",
      "Balance: 1000\n",
      "Updated Balance: 1300\n"
     ]
    }
   ],
   "source": [
    "from abc import ABC, abstractmethod\n",
    "\n",
    "class BankAccount(ABC):\n",
    "    def __init__(self, account_number, balance):\n",
    "        self.account_number = account_number\n",
    "        self.balance = balance \n",
    "    \n",
    "    @abstractmethod\n",
    "    def deposit(self, amount):\n",
    "        pass\n",
    "    \n",
    "    @abstractmethod\n",
    "    def withdraw(self, amount):\n",
    "        pass\n",
    "\n",
    "class ImplementationBankAccount(BankAccount):\n",
    "    \n",
    "    def deposit(self, amount):\n",
    "        \n",
    "        if amount > 0:\n",
    "            self.balance += amount\n",
    "        else:\n",
    "            print(\"Invalid deposit amount.\")\n",
    "\n",
    "    def withdraw(self, amount):\n",
    "        if amount > 0 and amount <= self.balance:\n",
    "            self.balance -= amount\n",
    "        else:\n",
    "            print(\"Invalid withdrawal amount or insufficient balance.\")\n",
    "    \n",
    "# Create an instance of the BankAccount class\n",
    "account = ImplementationBankAccount(\"123456\", 1000)\n",
    "\n",
    "# Access and modify attributes through getter and setter methods\n",
    "print(\"Account Number:\", account.account_number)\n",
    "print(\"Balance:\", account.balance)\n",
    "\n",
    "account.deposit(500)\n",
    "account.withdraw(200)\n",
    "\n",
    "print(\"Updated Balance:\", account.balance)\n"
   ]
  },
  {
   "cell_type": "markdown",
   "id": "2a4762f2-7e0d-4bbf-856b-ee91e471e900",
   "metadata": {},
   "source": [
    "7. Discuss the concept of interface classes in Python and their role in achieving abstraction."
   ]
  },
  {
   "cell_type": "raw",
   "id": "8695ba24-2302-4f0b-a29c-c202d1b395dc",
   "metadata": {},
   "source": [
    "In Python, \"interface classes\" are not a native concept like abstract classes, but you can achieve the idea of interfaces through abstract classes or informal conventions. Interfaces, in the context of object-oriented programming, define a contract specifying a set of methods that must be implemented by classes that claim to adhere to that interface. These interfaces serve as blueprints, promoting a level of abstraction by focusing on what methods should do rather than how they should be implemented.\n",
    "\n",
    "1. Using Abstract Classes with Abstract Methods:\n",
    "------------------------------------------------\n",
    "Define an abstract class that inherits from ABC in the abc module.\n",
    "Declare abstract methods using the @abstractmethod decorator. These methods have no implementation in the abstract class.\n",
    "Concrete classes that claim to implement the interface must inherit from the abstract class and provide implementations for all abstract methods.\n",
    "\n",
    "Example:\n",
    "--------\n"
   ]
  },
  {
   "cell_type": "code",
   "execution_count": 16,
   "id": "569ab5fd-5630-4c71-99a0-df2de264d7af",
   "metadata": {},
   "outputs": [],
   "source": [
    "from abc import ABC, abstractmethod\n",
    "\n",
    "class MyInterface(ABC):\n",
    "    @abstractmethod\n",
    "    def method1(self):\n",
    "        pass\n",
    "\n",
    "    @abstractmethod\n",
    "    def method2(self):\n",
    "        pass\n",
    "\n",
    "class MyClass(MyInterface):\n",
    "    def method1(self):\n",
    "        print(\"Implementation of method1\")\n",
    "\n",
    "    def method2(self):\n",
    "        print(\"Implementation of method2\")\n"
   ]
  },
  {
   "cell_type": "raw",
   "id": "c5faa93d-b29b-4c7d-bfcf-7628b18d911a",
   "metadata": {},
   "source": [
    "2. Using Informal Conventions:\n",
    "------------------------------\n",
    "Python allows you to use informal naming conventions to indicate that a class adheres to a specific interface, even if it's not enforced by the language. For example, if a class defines methods with names corresponding to an interface, it's expected to implement that interface.\n",
    "\n",
    "Example:\n",
    "--------"
   ]
  },
  {
   "cell_type": "code",
   "execution_count": 17,
   "id": "b7b579c6-4de7-451a-b881-aae726d8cd29",
   "metadata": {},
   "outputs": [],
   "source": [
    "class MyInterface:\n",
    "    def method1(self):\n",
    "        pass\n",
    "\n",
    "    def method2(self):\n",
    "        pass\n",
    "\n",
    "class MyClass(MyInterface):\n",
    "    def method1(self):\n",
    "        print(\"Implementation of method1\")\n",
    "\n",
    "    def method2(self):\n",
    "        print(\"Implementation of method2\")\n"
   ]
  },
  {
   "cell_type": "raw",
   "id": "556b42c9-ba77-4753-b510-50612c65137d",
   "metadata": {},
   "source": [
    "Interfaces, whether implemented using abstract classes or informal conventions, promote abstraction by specifying the structure and contract that classes must adhere to. This allows for a consistent and predictable way of interacting with objects, making code more modular, maintainable, and adaptable.\n",
    "\n",
    "While Python doesn't have strict interface support, it encourages developers to follow the \"duck typing\" philosophy, which focuses on what an object can do (its behavior) rather than what it is (its type). This flexibility allows Python to achieve abstraction without the need for formal interface definitions, and it aligns with the language's \"we're all consenting adults here\" philosophy, trusting developers to adhere to conventions and contracts."
   ]
  },
  {
   "cell_type": "markdown",
   "id": "cffde142-e16f-4361-a2b5-8f3911b8460f",
   "metadata": {},
   "source": [
    "8. Create a Python class hierarchy for animals and implement abstraction by defining common methods (e.g., `eat()`, `sleep()`) in an abstract base class."
   ]
  },
  {
   "cell_type": "code",
   "execution_count": 18,
   "id": "49d5f0d3-0935-4fce-a7d6-b6bf38424b08",
   "metadata": {},
   "outputs": [
    {
     "name": "stdout",
     "output_type": "stream",
     "text": [
      "Buddy the Dog says Woof!\n",
      "Buddy the Dog is eating.\n",
      "Buddy the Dog is sleeping.\n",
      "\n",
      "Whiskers the Cat says Meow!\n",
      "Whiskers the Cat is eating.\n",
      "Whiskers the Cat is sleeping.\n",
      "\n",
      "Polly the Parrot says Squawk!\n",
      "Polly the Parrot is eating.\n",
      "Polly the Parrot is sleeping.\n",
      "\n"
     ]
    }
   ],
   "source": [
    "from abc import ABC, abstractmethod\n",
    "\n",
    "class Animal(ABC):\n",
    "    \n",
    "    def __init__(self, name, species):\n",
    "        self.name = name\n",
    "        self.species = species\n",
    "    \n",
    "    @abstractmethod\n",
    "    def speak(self):\n",
    "        pass\n",
    "    \n",
    "    @abstractmethod\n",
    "    def eat(self):\n",
    "        pass\n",
    "    \n",
    "    @abstractmethod\n",
    "    def sleep(self):\n",
    "        pass\n",
    "    \n",
    "class Dog(Animal):\n",
    "    \n",
    "    def speak(self):\n",
    "        return f\"{self.name} the {self.species} says Woof!\"\n",
    "\n",
    "    def eat(self):\n",
    "        return f\"{self.name} the {self.species} is eating.\"\n",
    "\n",
    "    def sleep(self):\n",
    "        return f\"{self.name} the {self.species} is sleeping.\"\n",
    "    \n",
    "    \n",
    "class Cat(Animal):\n",
    "    def speak(self):\n",
    "        return f\"{self.name} the {self.species} says Meow!\"\n",
    "\n",
    "    def eat(self):\n",
    "        return f\"{self.name} the {self.species} is eating.\"\n",
    "\n",
    "    def sleep(self):\n",
    "        return f\"{self.name} the {self.species} is sleeping.\"\n",
    "    \n",
    "\n",
    "class Parrot(Animal):\n",
    "    def speak(self):\n",
    "        return f\"{self.name} the {self.species} says Squawk!\"\n",
    "\n",
    "    def eat(self):\n",
    "        return f\"{self.name} the {self.species} is eating.\"\n",
    "\n",
    "    def sleep(self):\n",
    "        return f\"{self.name} the {self.species} is sleeping.\"\n",
    "    \n",
    "# Create instances of different animals\n",
    "dog = Dog(\"Buddy\", \"Dog\")\n",
    "cat = Cat(\"Whiskers\", \"Cat\")\n",
    "parrot = Parrot(\"Polly\", \"Parrot\")\n",
    "\n",
    "# Demonstrate abstraction by calling common methods\n",
    "animals = [dog, cat, parrot]\n",
    "\n",
    "for animal in animals:\n",
    "    print(animal.speak())\n",
    "    print(animal.eat())\n",
    "    print(animal.sleep())\n",
    "    print()"
   ]
  },
  {
   "cell_type": "markdown",
   "id": "568c398a-38bc-4872-a0ae-f4906bbc7bf5",
   "metadata": {},
   "source": [
    "9. Explain the significance of encapsulation in achieving abstraction. Provide examples."
   ]
  },
  {
   "cell_type": "raw",
   "id": "1d0d17ee-9329-473b-8471-54c8b22e8f68",
   "metadata": {},
   "source": [
    "Encapsulation is a fundamental concept in achieving abstraction in object-oriented programming. It involves bundling data (attributes) and the methods (functions) that operate on that data into a single unit, which is known as a class. Encapsulation helps control access to the data and methods, ensuring that they are accessed and modified in a controlled and consistent manner. It is a key factor in achieving abstraction because it allows you to hide the internal implementation details of a class and present a clean, abstract interface to the outside world.\n",
    "\n",
    "1. Data Hiding: \n",
    "---------------\n",
    "Encapsulation hides the internal data of a class, making it private or protected, so that it cannot be accessed directly from outside the class. This data hiding ensures that the internal state of the class is not manipulated in an unauthorized or unintended way.\n",
    "\n",
    "Example:\n",
    "--------"
   ]
  },
  {
   "cell_type": "code",
   "execution_count": 22,
   "id": "a94c5ba3-483d-4ff4-9a7a-d908dc6e5373",
   "metadata": {},
   "outputs": [],
   "source": [
    "class BankAccount:\n",
    "    def __init__(self, account_number, balance):\n",
    "        self.__account_number = account_number  # Encapsulated as a private attribute\n",
    "        self.__balance = balance  # Encapsulated as a private attribute\n",
    "\n",
    "    def get_balance(self):\n",
    "        return self.__balance  # Controlled access to balance\n",
    "\n",
    "    def deposit(self, amount):\n",
    "        if amount > 0:\n",
    "            self.__balance += amount  # Controlled modification of balance\n",
    "\n",
    "account = BankAccount(\"12345\", 1000)\n",
    "balance = account.get_balance()  # Accessing the balance through a method\n",
    "account.deposit(500)  # Modifying the balance through a method\n"
   ]
  },
  {
   "cell_type": "raw",
   "id": "8e8b397d-9eef-444a-8f7f-23ebc0fde090",
   "metadata": {},
   "source": [
    "2. Controlled Access: \n",
    "---------------------\n",
    "Encapsulation allows you to control how data is accessed and modified by providing getter and setter methods. This control ensures that the data is accessed and modified according to the rules and constraints defined by the class.\n",
    "\n",
    "Example:\n",
    "--------"
   ]
  },
  {
   "cell_type": "code",
   "execution_count": 23,
   "id": "2dd313e1-8765-4ef7-8f2a-2472a42b9966",
   "metadata": {},
   "outputs": [],
   "source": [
    "class Person:\n",
    "    def __init__(self, name, age):\n",
    "        self.__name = name\n",
    "        self.__age = age\n",
    "\n",
    "    def get_name(self):\n",
    "        return self.__name\n",
    "\n",
    "    def set_age(self, age):\n",
    "        if age >= 0:\n",
    "            self.__age = age\n",
    "\n",
    "person = Person(\"Alice\", 30)\n",
    "name = person.get_name()  # Accessing the name through a method\n",
    "person.set_age(35)  # Modifying the age through a method\n"
   ]
  },
  {
   "cell_type": "raw",
   "id": "c07b534a-50ef-4ee3-9342-28de72255763",
   "metadata": {},
   "source": [
    "3. Abstraction: \n",
    "----------------\n",
    "Encapsulation promotes abstraction by hiding the details of how data is stored and processed within a class. This allows you to work with objects at a high level, focusing on their behavior and functionality rather than their internal implementation.\n",
    "\n",
    "Example:\n",
    "--------"
   ]
  },
  {
   "cell_type": "code",
   "execution_count": 24,
   "id": "db8a1aa9-57ba-4ebf-9225-1b8b8d8bc11f",
   "metadata": {},
   "outputs": [],
   "source": [
    "class Circle:\n",
    "    def __init__(self, radius):\n",
    "        self.__radius = radius\n",
    "\n",
    "    def area(self):\n",
    "        return 3.14 * self.__radius ** 2\n",
    "\n",
    "my_circle = Circle(5)\n",
    "circle_area = my_circle.area()  # Calculating the area of the circle using the public method\n"
   ]
  },
  {
   "cell_type": "raw",
   "id": "a0e68878-3c2d-416e-b890-4af60e3f7bd4",
   "metadata": {},
   "source": [
    "4. Code Maintenance: \n",
    "--------------------\n",
    "Encapsulation makes code maintenance easier by localizing changes within a class. If the internal implementation of a class needs to change, the external interface (methods and attributes) can remain the same, reducing the impact on code that uses the class.\n",
    "\n",
    "Example:\n",
    "--------"
   ]
  },
  {
   "cell_type": "code",
   "execution_count": 25,
   "id": "257407df-48f8-408b-822b-6d771cc3c5a0",
   "metadata": {},
   "outputs": [],
   "source": [
    "class Rectangle:\n",
    "    def __init__(self, width, height):\n",
    "        self.__width = width\n",
    "        self.__height = height\n",
    "\n",
    "    def area(self):\n",
    "        return self.__width * self.__height\n",
    "\n",
    "my_rectangle = Rectangle(4, 6)\n",
    "rectangle_area = my_rectangle.area()  # Calculating the area using the same interface even if the implementation changes\n"
   ]
  },
  {
   "cell_type": "raw",
   "id": "a7110f19-cd6c-4c37-8c47-88f021258cb7",
   "metadata": {},
   "source": [
    "Encapsulation is a key building block of object-oriented programming and abstraction. It allows you to create classes that define abstract interfaces while hiding the complexities of their internal implementation. This separation of concerns makes your code more modular, maintainable, and adaptable, contributing to the achievement of abstraction and code reusability."
   ]
  },
  {
   "cell_type": "markdown",
   "id": "84515738-5d5f-47d1-9ca9-f36c03f48e72",
   "metadata": {},
   "source": [
    "10. What is the purpose of abstract methods, and how do they enforce abstraction in Python classes?"
   ]
  },
  {
   "cell_type": "raw",
   "id": "2f6a763c-5d15-4e0c-9b33-a57eba4f0ef7",
   "metadata": {},
   "source": [
    "Abstract methods are methods defined in an abstract base class that have no implementation in the base class itself. Instead, they serve as placeholders for methods that must be implemented in concrete (non-abstract) subclasses. The purpose of abstract methods is to enforce a certain level of abstraction in Python classes. They ensure that specific methods with particular names and signatures are implemented consistently across related classes.\n",
    "\n",
    "Here's how abstract methods serve their purpose in enforcing abstraction in Python classes:\n",
    "\n",
    "Defining a Common Interface: \n",
    "----------------------------\n",
    "Abstract methods define a common interface or contract that concrete subclasses must adhere to. The abstract base class specifies what methods a subclass should provide, but it doesn't dictate how those methods should be implemented. This allows different subclasses to provide their own unique implementations while adhering to the common interface.\n",
    "\n",
    "Ensuring Method Implementation: \n",
    "-------------------------------\n",
    "Abstract methods serve as a guarantee that certain methods will be implemented in concrete subclasses. Without these methods, the class hierarchy is incomplete, and the code cannot be instantiated or used effectively. This enforcement prevents accidental omission of important methods in derived classes.\n",
    "\n",
    "Promoting Abstraction: \n",
    "----------------------\n",
    "By defining abstract methods, you're promoting a higher level of abstraction. You're focusing on what methods should do (their purpose and behavior) rather than how they should do it (the specific implementation details). This abstraction allows you to work with objects at a conceptual level, concentrating on their behaviors and interactions.\n",
    "\n",
    "Providing a Framework: \n",
    "----------------------\n",
    "Abstract methods provide a framework for developers working on concrete subclasses. They give a clear structure for what needs to be implemented, making it easier to design and implement those subclasses. The abstract base class acts as a blueprint for the concrete classes, ensuring consistency in the overall architecture.\n",
    "\n",
    "Abstract methods are a powerful tool for enforcing a level of abstraction in Python classes. They help create consistent and well-structured class hierarchies and promote code reusability and maintainability."
   ]
  },
  {
   "cell_type": "code",
   "execution_count": 100,
   "id": "933fdb9c-6060-413c-ad30-d6d8690127be",
   "metadata": {},
   "outputs": [
    {
     "name": "stdout",
     "output_type": "stream",
     "text": [
      "Woof!\n",
      "Meow!\n"
     ]
    }
   ],
   "source": [
    "from abc import ABC, abstractmethod\n",
    "\n",
    "class Animal(ABC):\n",
    "    @abstractmethod\n",
    "    def speak(self):\n",
    "        pass\n",
    "\n",
    "class Dog(Animal):\n",
    "    def speak(self):\n",
    "        return \"Woof!\"\n",
    "\n",
    "class Cat(Animal):\n",
    "    def speak(self):\n",
    "        return \"Meow!\"\n",
    "\n",
    "# Attempting to create an instance of the abstract class Animal will raise a TypeError\n",
    "# animal = Animal()\n",
    "\n",
    "# Creating instances of concrete subclasses\n",
    "dog = Dog()\n",
    "cat = Cat()\n",
    "\n",
    "# Polymorphism in action\n",
    "animals = [dog, cat]\n",
    "for animal in animals:\n",
    "    print(animal.speak())\n"
   ]
  },
  {
   "cell_type": "markdown",
   "id": "ac952434-79de-4a57-8ebf-056953de952f",
   "metadata": {},
   "source": [
    "11. Create a Python class for a vehicle system and demonstrate abstraction by defining common methods (e.g., `start()`, `stop()`) in an abstract base class."
   ]
  },
  {
   "cell_type": "code",
   "execution_count": 20,
   "id": "c4b70609-165d-40b5-9ba3-185a6197a59c",
   "metadata": {},
   "outputs": [
    {
     "name": "stdout",
     "output_type": "stream",
     "text": [
      "Formula1 is starting its engine!\n",
      "Formula1 is stopping its engine!\n",
      "\n",
      "Royal Enfield is starting its engine!\n",
      "Royal Enfield is stopping its engine!\n",
      "\n",
      "Hero is peddling away!\n",
      "Hero is stopped!\n",
      "\n"
     ]
    }
   ],
   "source": [
    "from abc import ABC, abstractmethod\n",
    "\n",
    "class Vehicle(ABC):\n",
    "    def __init__(self, vehicle_type):\n",
    "        self.vehicle_type = vehicle_type\n",
    "        \n",
    "    @abstractmethod\n",
    "    def start(self):\n",
    "        pass\n",
    "    \n",
    "    @abstractmethod\n",
    "    def stop(self):\n",
    "        pass\n",
    "    \n",
    "class Car(Vehicle):\n",
    "    def start(self):\n",
    "        return f\"{self.vehicle_type} is starting its engine!\"\n",
    "    \n",
    "    def stop(self):\n",
    "        return f\"{self.vehicle_type} is stopping its engine!\"\n",
    "    \n",
    "class Bike(Vehicle):\n",
    "    def start(self):\n",
    "        return f\"{self.vehicle_type} is starting its engine!\"\n",
    "    \n",
    "    def stop(self):\n",
    "        return f\"{self.vehicle_type} is stopping its engine!\"\n",
    "    \n",
    "class Bicycle(Vehicle):\n",
    "    def start(self):\n",
    "        return f\"{self.vehicle_type} is peddling away!\"\n",
    "    \n",
    "    def stop(self):\n",
    "        return f\"{self.vehicle_type} is stopped!\"\n",
    "    \n",
    "car = Car(\"Formula1\")\n",
    "bike = Bike(\"Royal Enfield\")\n",
    "bicycle = Bicycle(\"Hero\")\n",
    "\n",
    "vehicles = [car, bike, bicycle]\n",
    "\n",
    "for vehicle in vehicles:\n",
    "    print(vehicle.start())\n",
    "    print(vehicle.stop())\n",
    "    print()"
   ]
  },
  {
   "cell_type": "markdown",
   "id": "cf075fbb-886c-41e8-af03-835a3e16469d",
   "metadata": {},
   "source": [
    "12. Describe the use of abstract properties in Python and how they can be employed in abstract classes."
   ]
  },
  {
   "cell_type": "raw",
   "id": "b0ee7a34-73e0-42de-ac98-bfab8c86ffda",
   "metadata": {},
   "source": [
    "In Python, abstract properties are properties defined in abstract base classes (ABCs) that enforce the presence of certain attributes in concrete subclasses. Abstract properties are a way to define a common interface for classes that must provide specific attributes but do not specify how those attributes are implemented. They serve a similar purpose to abstract methods, but instead of enforcing the presence of methods, they enforce the presence of attributes (properties).\n",
    "\n",
    "Here's how to use abstract properties in Python and how they can be employed in abstract classes:\n",
    "\n",
    "Using the abc Module:\n",
    "---------------------\n",
    "To define abstract properties, you'll need to import the ABC class and the abstractmethod decorator from the abc module.\n",
    "Create an abstract base class (subclass of ABC) and define the abstract properties using the @property decorator.\n",
    "\n",
    "In Concrete Subclasses:\n",
    "-----------------------\n",
    "Concrete subclasses that inherit from the abstract base class must provide concrete implementations of the abstract properties.\n",
    "\n",
    "Accessing the Properties:\n",
    "-------------------------\n",
    "The abstract properties can be accessed like regular properties in the concrete subclasses."
   ]
  },
  {
   "cell_type": "code",
   "execution_count": 26,
   "id": "d477ac29-809c-4580-b7b5-65085c860ffc",
   "metadata": {},
   "outputs": [
    {
     "name": "stdout",
     "output_type": "stream",
     "text": [
      "Car color: Red\n",
      "Car wheels: 4\n",
      "Bicycle color: Blue\n",
      "Bicycle wheels: 2\n"
     ]
    }
   ],
   "source": [
    "from abc import ABC, abstractmethod, abstractproperty\n",
    "\n",
    "# Define an abstract base class with abstract properties\n",
    "class Vehicle(ABC):\n",
    "    @abstractproperty\n",
    "    def color(self):\n",
    "        pass\n",
    "\n",
    "    @abstractproperty\n",
    "    def wheels(self):\n",
    "        pass\n",
    "\n",
    "# Concrete subclasses of Vehicle\n",
    "class Car(Vehicle):\n",
    "    def __init__(self, color, wheels):\n",
    "        self._color = color\n",
    "        self._wheels = wheels\n",
    "\n",
    "    @property\n",
    "    def color(self):\n",
    "        return self._color\n",
    "\n",
    "    @property\n",
    "    def wheels(self):\n",
    "        return self._wheels\n",
    "\n",
    "class Bicycle(Vehicle):\n",
    "    def __init__(self, color, wheels):\n",
    "        self._color = color\n",
    "        self._wheels = wheels\n",
    "\n",
    "    @property\n",
    "    def color(self):\n",
    "        return self._color\n",
    "\n",
    "    @property\n",
    "    def wheels(self):\n",
    "        return self._wheels\n",
    "\n",
    "# Create instances of concrete subclasses\n",
    "car = Car(\"Red\", 4)\n",
    "bicycle = Bicycle(\"Blue\", 2)\n",
    "\n",
    "# Access the properties\n",
    "print(f\"Car color: {car.color}\")\n",
    "print(f\"Car wheels: {car.wheels}\")\n",
    "print(f\"Bicycle color: {bicycle.color}\")\n",
    "print(f\"Bicycle wheels: {bicycle.wheels}\")\n"
   ]
  },
  {
   "cell_type": "markdown",
   "id": "15adf2eb-b28e-48bc-871e-6c3b10fd7014",
   "metadata": {},
   "source": [
    "13. Create a Python class hierarchy for employees in a company (e.g., manager, developer, designer) and implement abstraction by defining a common `get_salary()` method."
   ]
  },
  {
   "cell_type": "code",
   "execution_count": 27,
   "id": "61cf5b32-4aa3-4879-8c2d-c3e3581c7bea",
   "metadata": {},
   "outputs": [
    {
     "name": "stdout",
     "output_type": "stream",
     "text": [
      "Alice (ID: 101) - Salary: $70,000.00\n",
      "Bob (ID: 102) - Salary: $4,800.00\n",
      "Charlie (ID: 103) - Salary: $5,000.00\n"
     ]
    }
   ],
   "source": [
    "from abc import ABC, abstractmethod\n",
    "\n",
    "class Employee(ABC):\n",
    "    def __init__(self, name, employee_id):\n",
    "        self.name = name\n",
    "        self.employee_id = employee_id\n",
    "\n",
    "    @abstractmethod\n",
    "    def get_salary(self):\n",
    "        pass\n",
    "\n",
    "class Manager(Employee):\n",
    "    def __init__(self, name, employee_id, base_salary, bonus):\n",
    "        super().__init__(name, employee_id)\n",
    "        self.base_salary = base_salary\n",
    "        self.bonus = bonus\n",
    "\n",
    "    def get_salary(self):\n",
    "        return self.base_salary + self.bonus\n",
    "\n",
    "class Developer(Employee):\n",
    "    def __init__(self, name, employee_id, hourly_rate, hours_worked):\n",
    "        super().__init__(name, employee_id)\n",
    "        self.hourly_rate = hourly_rate\n",
    "        self.hours_worked = hours_worked\n",
    "\n",
    "    def get_salary(self):\n",
    "        return self.hourly_rate * self.hours_worked\n",
    "\n",
    "class Designer(Employee):\n",
    "    def __init__(self, name, employee_id, monthly_salary):\n",
    "        super().__init__(name, employee_id)\n",
    "        self.monthly_salary = monthly_salary\n",
    "\n",
    "    def get_salary(self):\n",
    "        return self.monthly_salary\n",
    "\n",
    "# Create instances of different employee types\n",
    "manager = Manager(\"Alice\", 101, 60000, 10000)\n",
    "developer = Developer(\"Bob\", 102, 30, 160)\n",
    "designer = Designer(\"Charlie\", 103, 5000)\n",
    "\n",
    "# Calculate and display salaries\n",
    "employees = [manager, developer, designer]\n",
    "\n",
    "for employee in employees:\n",
    "    print(f\"{employee.name} (ID: {employee.employee_id}) - Salary: ${employee.get_salary():,.2f}\")\n"
   ]
  },
  {
   "cell_type": "markdown",
   "id": "c657823b-096c-4236-8322-199d705dabae",
   "metadata": {},
   "source": [
    "14. Discuss the differences between abstract classes and concrete classes in Python, including their instantiation."
   ]
  },
  {
   "cell_type": "raw",
   "id": "25baf112-0fc5-4b12-88e5-2243e88013ac",
   "metadata": {},
   "source": [
    "Abstract classes and concrete classes in Python serve different purposes and have distinct characteristics, especially regarding their instantiation and usage. Here are the key differences between the two:\n",
    "\n",
    "Abstract Classes:\n",
    "-----------------\n",
    "Definition: \n",
    "    Abstract classes are classes that cannot be instantiated directly. They are meant to serve as blueprints or templates for other classes (concrete subclasses). Abstract classes are defined by inheriting from the ABC class and using the @abstractmethod decorator to declare abstract methods.\n",
    "\n",
    "Instantiation: \n",
    "    You cannot create instances of abstract classes. Attempting to do so will result in a TypeError. The purpose of an abstract class is to provide a common interface and enforce that certain methods (abstract methods) are implemented by concrete subclasses.\n",
    "\n",
    "Use Cases: \n",
    "    Abstract classes are used to define common interfaces or contracts that concrete subclasses should adhere to. They provide a structure for derived classes and ensure that specific methods are implemented consistently. Abstract classes are often used in scenarios where a group of related classes shares a common set of methods but may have different implementations.\n",
    "\n",
    "Concrete Classes:\n",
    "-----------------\n",
    "Definition: \n",
    "    Concrete classes are regular classes that can be instantiated directly. They have complete implementations for their methods and attributes. Concrete classes do not have abstract methods, and you can create objects of these classes.\n",
    "\n",
    "Instantiation: \n",
    "    You can create instances (objects) of concrete classes using the class constructor. These instances represent real-world objects or concepts and can be used to store data and perform actions.\n",
    "\n",
    "Use Cases: \n",
    "    Concrete classes are used to create instances that represent specific objects or entities. They provide complete implementations for methods and attributes, making them suitable for creating objects with defined behaviors and data.\n",
    "    \n",
    "Example:\n",
    "--------"
   ]
  },
  {
   "cell_type": "code",
   "execution_count": 29,
   "id": "0bbbbfa7-7073-424a-b4e4-b39d25bb0db4",
   "metadata": {},
   "outputs": [
    {
     "name": "stdout",
     "output_type": "stream",
     "text": [
      "Circle Area: 78.50\n",
      "Square Area: 16.00\n"
     ]
    }
   ],
   "source": [
    "from abc import ABC, abstractmethod\n",
    "\n",
    "# Abstract class\n",
    "class Shape(ABC):\n",
    "    \n",
    "    @abstractmethod\n",
    "    def area(self):\n",
    "        pass\n",
    "\n",
    "# Concrete subclass of Shape\n",
    "class Circle(Shape):\n",
    "    \n",
    "    def __init__(self, radius):\n",
    "        self.radius = radius\n",
    "\n",
    "    def area(self):\n",
    "        return 3.14 * self.radius ** 2\n",
    "\n",
    "# Concrete class\n",
    "class Square:\n",
    "    \n",
    "    def __init__(self, side_length):\n",
    "        self.side_length = side_length\n",
    "\n",
    "    def area(self):\n",
    "        return self.side_length ** 2\n",
    "\n",
    "# Attempting to create an instance of the abstract class will result in a TypeError.\n",
    "# shape = Shape()  # This will result in a TypeError\n",
    "\n",
    "# Create instances of concrete classes\n",
    "circle = Circle(5)\n",
    "square = Square(4)\n",
    "\n",
    "# Calculate and display areas\n",
    "print(f\"Circle Area: {circle.area():.2f}\")\n",
    "print(f\"Square Area: {square.area():.2f}\")\n"
   ]
  },
  {
   "cell_type": "raw",
   "id": "6454af08-0c90-4e81-bb11-bcb24b265e73",
   "metadata": {},
   "source": [
    "Concrete classes are used when you want to create objects with complete implementations, while abstract classes are used when you want to define common interfaces and enforce method implementations in derived classes."
   ]
  },
  {
   "cell_type": "markdown",
   "id": "32c3726a-f50d-439f-8d29-889573569e82",
   "metadata": {},
   "source": [
    "15. Explain the concept of abstract data types (ADTs) and their role in achieving abstraction in Python."
   ]
  },
  {
   "cell_type": "raw",
   "id": "5b9ece3e-d4ec-4a1c-aff4-596082fa72bf",
   "metadata": {},
   "source": [
    "Abstract Data Types (ADTs) are a fundamental concept in computer science and software engineering that represent data structures and their associated operations independently of their concrete implementations. ADTs are high-level specifications that define the behavior of data structures in terms of operations, without specifying how those operations are implemented. They are a key aspect of achieving abstraction in Python and other programming languages.\n",
    "\n",
    "1. Abstraction: \n",
    "    ADTs provide a high level of abstraction by defining data structures and their operations based on their behavior rather than their implementation details. This allows developers to work with data structures in a more conceptual and less implementation-dependent way.\n",
    "\n",
    "2. Encapsulation: \n",
    "    ADTs encapsulate both data and the operations that can be performed on that data. This encapsulation is essential for controlling access to the data and ensuring that it is manipulated only in controlled ways, which is a central tenet of abstraction.\n",
    "\n",
    "3. Modularity: \n",
    "    ADTs promote modularity by separating the definition and use of data structures from their internal implementation. This separation of concerns simplifies code maintenance, as changes to the implementation of an ADT do not impact code that uses the ADT.\n",
    "\n",
    "4. Code Reusability: \n",
    "    By defining common data structures as ADTs, you create reusable components that can be used in various parts of your code or shared among different projects. This code reuse simplifies development and testing.\n",
    "\n",
    "5. Algorithm Design: \n",
    "    ADTs serve as the foundation for algorithm design and analysis. When algorithms are designed and analyzed in terms of ADTs, it becomes easier to reason about their correctness and efficiency.\n",
    "\n",
    "6. Interoperability: \n",
    "    ADTs provide a well-defined interface for data structures. This enables interoperability between different parts of a program or between programs written in different languages.\n",
    "\n",
    "7. Testing and Debugging: \n",
    "    Abstract data types make it easier to design and conduct tests for data structures, as you can focus on testing their behavior without needing to know their internal details. This simplifies debugging and error tracking.\n",
    "\n",
    "Python, being a dynamically-typed and high-level language, is particularly suitable for working with ADTs. You can create classes to define abstract data types and use them to implement ADTs like lists, queues, stacks, and trees. Python's object-oriented features, support for encapsulation, and dynamic nature make it conducive to modeling data structures as ADTs.\n",
    "\n",
    "ADTs are a powerful tool for creating clean and organized code, and they are essential for achieving abstraction and modularity in Python and other programming languages."
   ]
  },
  {
   "cell_type": "code",
   "execution_count": 101,
   "id": "ce5a0aee-7ee8-47cd-acfc-d1010b7f02c9",
   "metadata": {},
   "outputs": [],
   "source": [
    "# Example - Stack as an ADT in Python:\n",
    "\n",
    "class StackADT:\n",
    "    def __init__(self):\n",
    "        pass\n",
    "\n",
    "    def push(self, item):\n",
    "        pass\n",
    "\n",
    "    def pop(self):\n",
    "        pass\n",
    "\n",
    "    def is_empty(self):\n",
    "        pass\n"
   ]
  },
  {
   "cell_type": "code",
   "execution_count": 102,
   "id": "b1db6f30-2828-43ab-a805-efd7124862b8",
   "metadata": {},
   "outputs": [],
   "source": [
    "class StackList(StackADT):\n",
    "    def __init__(self):\n",
    "        self.items = []\n",
    "\n",
    "    def push(self, item):\n",
    "        self.items.append(item)\n",
    "\n",
    "    def pop(self):\n",
    "        if not self.is_empty():\n",
    "            return self.items.pop()\n",
    "\n",
    "    def is_empty(self):\n",
    "        return len(self.items) == 0\n"
   ]
  },
  {
   "cell_type": "markdown",
   "id": "b9528c80-4812-4c0a-895b-e60a3f095ea6",
   "metadata": {},
   "source": [
    "16. Create a Python class for a computer system, demonstrating abstraction by defining common methods (e.g., `power_on()`, `shutdown()`) in an abstract base class."
   ]
  },
  {
   "cell_type": "code",
   "execution_count": 103,
   "id": "ced503a5-7663-4334-bada-8ac00bb30759",
   "metadata": {},
   "outputs": [
    {
     "name": "stdout",
     "output_type": "stream",
     "text": [
      "Dell Inspiron - On\n",
      "HP Pavilion - On\n",
      "Dell Inspiron - Off\n",
      "HP Pavilion - Off\n"
     ]
    }
   ],
   "source": [
    "from abc import ABC, abstractmethod\n",
    "\n",
    "class ComputerSystem(ABC):\n",
    "    def __init__(self, brand, model):\n",
    "        self.brand = brand\n",
    "        self.model = model\n",
    "        self.powered_on = False\n",
    "\n",
    "    @abstractmethod\n",
    "    def power_on(self):\n",
    "        pass\n",
    "\n",
    "    @abstractmethod\n",
    "    def shutdown(self):\n",
    "        pass\n",
    "\n",
    "    def describe(self):\n",
    "        return f\"{self.brand} {self.model} - {'On' if self.powered_on else 'Off'}\"\n",
    "\n",
    "class DesktopComputer(ComputerSystem):\n",
    "    def power_on(self):\n",
    "        self.powered_on = True\n",
    "\n",
    "    def shutdown(self):\n",
    "        self.powered_on = False\n",
    "\n",
    "class Laptop(ComputerSystem):\n",
    "    def __init__(self, brand, model, battery_life):\n",
    "        super().__init__(brand, model)\n",
    "        self.battery_life = battery_life\n",
    "\n",
    "    def power_on(self):\n",
    "        if self.battery_life > 0:\n",
    "            self.powered_on = True\n",
    "        else:\n",
    "            print(\"Low battery! Charge your laptop to power it on.\")\n",
    "\n",
    "    def shutdown(self):\n",
    "        self.powered_on = False\n",
    "\n",
    "# Create instances of computer systems\n",
    "desktop = DesktopComputer(\"Dell\", \"Inspiron\")\n",
    "laptop = Laptop(\"HP\", \"Pavilion\", battery_life=80)\n",
    "\n",
    "# Power on and describe the computer systems\n",
    "desktop.power_on()\n",
    "laptop.power_on()\n",
    "\n",
    "print(desktop.describe())\n",
    "print(laptop.describe())\n",
    "\n",
    "# Shutdown and describe\n",
    "desktop.shutdown()\n",
    "laptop.shutdown()\n",
    "\n",
    "print(desktop.describe())\n",
    "print(laptop.describe())\n"
   ]
  },
  {
   "cell_type": "markdown",
   "id": "6b57c8c0-a023-4f80-bc52-adb9d69eca80",
   "metadata": {},
   "source": [
    "17. Discuss the benefits of using abstraction in large-scale software development projects."
   ]
  },
  {
   "cell_type": "raw",
   "id": "c7528d8c-7751-48a4-8b26-a9372a8c66c0",
   "metadata": {},
   "source": [
    "Abstraction is a fundamental concept in software engineering, and its benefits become even more pronounced in large-scale software development projects. Here are the key advantages of using abstraction in such projects:\n",
    "\n",
    "a. Complexity Management: \n",
    "    Large-scale software projects are inherently complex, with numerous components, interactions, and dependencies. Abstraction helps manage this complexity by allowing developers to work with high-level concepts and interfaces rather than dealing with every detail. This simplifies understanding, maintenance, and troubleshooting.\n",
    "\n",
    "b. Modularity: \n",
    "    Abstraction encourages a modular design where the software is divided into smaller, manageable components or modules. Each module encapsulates its functionality and dependencies, making it easier to develop and test in isolation. This promotes code reusability and enables teams to work on different parts of the system independently.\n",
    "\n",
    "c. Reusability: \n",
    "    Abstraction enables the creation of reusable components, libraries, and frameworks. These abstractions can be leveraged across the project and even in other projects, reducing duplication of effort and promoting consistency. This is particularly valuable in large-scale development where code reuse can save substantial time and resources.\n",
    "\n",
    "d. Scalability: \n",
    "    Abstraction facilitates the design of systems that can scale gracefully. When a software system is built on well-defined abstractions, adding new features or expanding the system to accommodate growth is more straightforward. Abstractions provide a foundation that supports scalability and extensibility.\n",
    "\n",
    "e. Concurrent Development: \n",
    "    In large projects with multiple team members working concurrently, abstractions provide clear boundaries between different parts of the system. This separation of concerns allows teams to work on their components without interfering with each other, reducing conflicts and integration challenges.\n",
    "\n",
    "f. Testing and Debugging: \n",
    "    Abstraction enhances testing and debugging efforts. Modular components with well-defined interfaces are easier to test in isolation. Issues can be pinpointed to specific modules, and tests can be more focused. Debugging is also simplified, as developers can focus on individual components.\n",
    "\n",
    "g. Interoperability: \n",
    "    Abstraction supports interoperability by providing well-defined interfaces that allow different parts of the system to communicate. This is crucial in large projects where different components, services, or systems must work together seamlessly.\n",
    "\n",
    "h. Maintainability: \n",
    "    Abstraction promotes code maintainability. When changes are required, developers can focus on the high-level design and the specific module affected, rather than having to understand and modify the entire system. This reduces the risk of unintended side effects and simplifies updates and maintenance.\n",
    "\n",
    "i. Documentation and Communication: \n",
    "    Abstractions serve as a basis for clear documentation and communication among team members. They provide a common language and framework for discussing the system's architecture and components. This clarity improves collaboration and reduces misunderstandings.\n",
    "\n",
    "j. Software Design Patterns: \n",
    "    Abstraction facilitates the application of design patterns. Many design patterns, such as the Factory, Adapter, and Observer patterns, rely on abstract interfaces and classes to solve common software design problems. These patterns promote best practices and help maintain consistency in the codebase.\n",
    "\n",
    "In large-scale software development, abstraction is not just a concept but a practical necessity. It is a way to manage the inherent complexity of such projects, enabling efficient development, scalability, and maintainability. By creating well-defined and high-level abstractions, software engineers can build more robust, modular, and adaptable systems that meet the project's objectives effectively."
   ]
  },
  {
   "cell_type": "code",
   "execution_count": 105,
   "id": "59956452-b8d8-428a-9fa0-06448b81407b",
   "metadata": {},
   "outputs": [
    {
     "name": "stdout",
     "output_type": "stream",
     "text": [
      "Order created with total amount: Rs. 55.0. Payment of Rs. 55.0 processed via Credit Card.\n"
     ]
    }
   ],
   "source": [
    "# Abstraction in Large-Scale E-commerce Software\n",
    "\n",
    "# Abstraction: Payment Gateway Interface\n",
    "class PaymentGateway:\n",
    "    def process_payment(self, amount):\n",
    "        pass\n",
    "\n",
    "# Concrete Payment Gateway Implementations\n",
    "class PayPal(PaymentGateway):\n",
    "    def process_payment(self, amount):\n",
    "        # Specific implementation for PayPal\n",
    "        return f\"Payment of Rs. {amount} processed via PayPal.\"\n",
    "\n",
    "class CreditCard(PaymentGateway):\n",
    "    def process_payment(self, amount):\n",
    "        # Specific implementation for credit card payments\n",
    "        return f\"Payment of Rs. {amount} processed via Credit Card.\"\n",
    "\n",
    "# Abstraction: Order Management\n",
    "class OrderManager:\n",
    "    def create_order(self, products):\n",
    "        pass\n",
    "\n",
    "# Concrete Order Management Implementation\n",
    "class EcommerceStore(OrderManager):\n",
    "    def create_order(self, products):\n",
    "        # Specific implementation for order creation\n",
    "        total_amount = sum(product['price'] for product in products)\n",
    "        payment_gateway = CreditCard()  # Abstraction of the payment gateway\n",
    "        payment_result = payment_gateway.process_payment(total_amount)\n",
    "        return f\"Order created with total amount: Rs. {total_amount}. {payment_result}\"\n",
    "\n",
    "# Abstraction: Product Catalog\n",
    "class ProductCatalog:\n",
    "    def get_products(self):\n",
    "        pass\n",
    "\n",
    "# Concrete Product Catalog Implementation\n",
    "class OnlineStore(ProductCatalog):\n",
    "    def get_products(self):\n",
    "        # Specific implementation for retrieving products from the catalog\n",
    "        return [\n",
    "            {'id': 1, 'name': 'Product A', 'price': 25.0},\n",
    "            {'id': 2, 'name': 'Product B', 'price': 30.0},\n",
    "        ]\n",
    "\n",
    "# Main Application\n",
    "if __name__ == \"__main__\":\n",
    "    # Abstraction allows us to work with high-level components.\n",
    "    store = EcommerceStore()\n",
    "    product_catalog = OnlineStore()\n",
    "\n",
    "    # Abstraction simplifies interactions and encapsulates complexities.\n",
    "    available_products = product_catalog.get_products()\n",
    "    order_result = store.create_order(available_products)\n",
    "\n",
    "    # Abstraction enhances maintainability and flexibility.\n",
    "    print(order_result)\n"
   ]
  },
  {
   "cell_type": "markdown",
   "id": "2b97c466-e189-410f-9de2-d5d15990d2e5",
   "metadata": {},
   "source": [
    "18. Explain how abstraction enhances code reusability and modularity in Python programs."
   ]
  },
  {
   "cell_type": "raw",
   "id": "5f917b12-95c6-462f-9380-8571b4c42f4c",
   "metadata": {},
   "source": [
    "Abstraction enhances code reusability and modularity in Python programs by promoting a design approach that separates high-level concepts and interfaces from low-level implementation details. Here's how abstraction achieves these benefits:\n",
    "\n",
    "Modularity:\n",
    "-----------\n",
    "Abstraction encourages breaking down a program into smaller, self-contained modules or components. Each module has a specific purpose and encapsulates related functionality.\n",
    "Modules defined with abstraction are designed to be loosely coupled, meaning they interact with each other through well-defined interfaces, rather than relying on intricate internal details. This separation of concerns makes the system more modular.\n",
    "\n",
    "Code Reusability:\n",
    "-----------------\n",
    "Abstraction allows you to create abstract classes, which define a common interface for a set of related classes. Concrete classes that implement this interface can be used interchangeably.\n",
    "With abstract classes and interfaces, you can write code that operates on the high-level abstractions, making it more generic and reusable. This code can work with any class that adheres to the defined interface.\n",
    "\n",
    "Encapsulation:\n",
    "--------------\n",
    "Abstraction provides encapsulation, which is the practice of hiding the internal details of a module and exposing a clear, public interface. This makes it easier to change the module's implementation without affecting the rest of the program.\n",
    "By defining clear interfaces, abstract classes, and methods, abstraction enables you to restrict access to certain properties and functions, ensuring that they are only used as intended. This promotes better software design and prevents unintended interference.\n",
    "\n",
    "Interchangeability:\n",
    "-------------------\n",
    "Abstraction makes different components of your program interchangeable. If multiple modules implement the same abstraction (e.g., an abstract base class or interface), you can switch between them without rewriting large portions of your code.\n",
    "This interchangeability is especially useful when, for example, you want to switch out a specific implementation with a more optimized or updated one, or when you're dealing with third-party libraries that conform to common abstractions.\n",
    "\n",
    "Maintainability:\n",
    "----------------\n",
    "Abstraction promotes maintainability by isolating changes to specific modules. When a change is needed, you can focus on the module's interface, rather than needing to understand its internal workings.\n",
    "This reduces the risk of introducing bugs in other parts of the code when making modifications, as well as the need to retest unrelated components.\n",
    "\n",
    "Testing:\n",
    "--------\n",
    "Abstraction makes it easier to write unit tests for individual modules. Tests can focus on the module's public interface, ensuring that the module behaves correctly.\n",
    "Modularity, encapsulation, and well-defined interfaces also make it easier to create mock objects for testing purposes, isolating the module being tested from the rest of the program.\n",
    "\n",
    "Collaboration:\n",
    "--------------\n",
    "Abstraction enhances collaboration among team members. When the program's structure is based on clear abstractions, developers can work on different modules independently, as long as they adhere to the defined interfaces.\n",
    "Collaboration is more efficient because teams can work on different parts of the program without constantly interfering with each other's code."
   ]
  },
  {
   "cell_type": "code",
   "execution_count": 106,
   "id": "845cf8d8-fe15-4579-808e-2095097c55fe",
   "metadata": {},
   "outputs": [
    {
     "name": "stdout",
     "output_type": "stream",
     "text": [
      "Rectangle:\n",
      "Area: 15\n",
      "Perimeter: 16\n",
      "\n",
      "Circle:\n",
      "Area: 50.24\n",
      "Perimeter: 25.12\n"
     ]
    }
   ],
   "source": [
    "from abc import ABC, abstractmethod\n",
    "\n",
    "# Abstract class for geometric shapes\n",
    "class Shape(ABC):\n",
    "    @abstractmethod\n",
    "    def area(self):\n",
    "        pass\n",
    "\n",
    "    @abstractmethod\n",
    "    def perimeter(self):\n",
    "        pass\n",
    "\n",
    "# Concrete shapes\n",
    "class Rectangle(Shape):\n",
    "    def __init__(self, width, height):\n",
    "        self.width = width\n",
    "        self.height = height\n",
    "\n",
    "    def area(self):\n",
    "        return self.width * self.height\n",
    "\n",
    "    def perimeter(self):\n",
    "        return 2 * (self.width + self.height)\n",
    "\n",
    "class Circle(Shape):\n",
    "    def __init__(self, radius):\n",
    "        self.radius = radius\n",
    "\n",
    "    def area(self):\n",
    "        return 3.14 * self.radius**2\n",
    "\n",
    "    def perimeter(self):\n",
    "        return 2 * 3.14 * self.radius\n",
    "\n",
    "# Function to calculate and print the area and perimeter of a shape\n",
    "def print_shape_info(shape):\n",
    "    print(f\"Area: {shape.area()}\")\n",
    "    print(f\"Perimeter: {shape.perimeter()}\")\n",
    "\n",
    "# Using abstraction for code reusability and modularity\n",
    "rectangle = Rectangle(5, 3)\n",
    "circle = Circle(4)\n",
    "\n",
    "print(\"Rectangle:\")\n",
    "print_shape_info(rectangle)\n",
    "\n",
    "print(\"\\nCircle:\")\n",
    "print_shape_info(circle)\n"
   ]
  },
  {
   "cell_type": "markdown",
   "id": "9f6dc285-c44a-4ea3-938e-292e5299bd2d",
   "metadata": {},
   "source": [
    "19. Create a Python class for a library system, implementing abstraction by defining common methods (e.g., `add_book()`, `borrow_book()`) in an abstract base class."
   ]
  },
  {
   "cell_type": "code",
   "execution_count": 107,
   "id": "2187671a-da8e-492f-822f-e250e5a74310",
   "metadata": {},
   "outputs": [
    {
     "name": "stdout",
     "output_type": "stream",
     "text": [
      "You have borrowed 'To Kill a Mockingbird'.\n",
      "'Moby-Dick' is not available.\n",
      "You have returned '1984'.\n",
      "Available books:\n",
      "The Catcher in the Rye by J.D. Salinger\n",
      "1984 by George Orwell\n",
      "1984 by Unknown\n"
     ]
    }
   ],
   "source": [
    "from abc import ABC, abstractmethod\n",
    "\n",
    "class LibrarySystem(ABC):\n",
    "    def __init__(self, name):\n",
    "        self.name = name\n",
    "        self.books = []\n",
    "\n",
    "    @abstractmethod\n",
    "    def add_book(self, title, author):\n",
    "        pass\n",
    "\n",
    "    @abstractmethod\n",
    "    def borrow_book(self, title):\n",
    "        pass\n",
    "\n",
    "    @abstractmethod\n",
    "    def return_book(self, title):\n",
    "        pass\n",
    "\n",
    "    def list_books(self):\n",
    "        return [f\"{book['title']} by {book['author']}\" for book in self.books]\n",
    "\n",
    "class SimpleLibrary(LibrarySystem):\n",
    "    def add_book(self, title, author):\n",
    "        self.books.append({'title': title, 'author': author})\n",
    "\n",
    "    def borrow_book(self, title):\n",
    "        for book in self.books:\n",
    "            if book['title'] == title:\n",
    "                self.books.remove(book)\n",
    "                return f\"You have borrowed '{title}'.\"\n",
    "        return f\"'{title}' is not available.\"\n",
    "\n",
    "    def return_book(self, title):\n",
    "        self.books.append({'title': title, 'author': 'Unknown'})\n",
    "        return f\"You have returned '{title}'.\"\n",
    "\n",
    "# Create an instance of the library system\n",
    "library = SimpleLibrary(\"Public Library\")\n",
    "\n",
    "# Add books to the library\n",
    "library.add_book(\"The Catcher in the Rye\", \"J.D. Salinger\")\n",
    "library.add_book(\"To Kill a Mockingbird\", \"Harper Lee\")\n",
    "library.add_book(\"1984\", \"George Orwell\")\n",
    "\n",
    "# Borrow and return books\n",
    "print(library.borrow_book(\"To Kill a Mockingbird\"))\n",
    "print(library.borrow_book(\"Moby-Dick\"))\n",
    "print(library.return_book(\"1984\"))\n",
    "\n",
    "# List available books\n",
    "print(\"Available books:\")\n",
    "for book in library.list_books():\n",
    "    print(book)\n"
   ]
  },
  {
   "cell_type": "markdown",
   "id": "377edc09-3793-4412-b336-4d8e5e755c18",
   "metadata": {},
   "source": [
    "20. Describe the concept of method abstraction in Python and how it relates to polymorphism."
   ]
  },
  {
   "cell_type": "raw",
   "id": "11dad4bb-a239-4e07-8435-ca93ac30fd51",
   "metadata": {},
   "source": [
    "Method abstraction in Python is a concept closely related to polymorphism and abstraction in object-oriented programming. It involves creating abstract methods and interfaces to define a common method signature that multiple classes can implement in their own ways. Method abstraction enforces a consistent method name and parameter list across different classes or objects, but it allows for different implementations of that method based on the specific class.\n",
    "\n",
    "Here's how method abstraction relates to polymorphism:\n",
    "\n",
    "Abstraction and Method Signatures:\n",
    "----------------------------------\n",
    "Abstraction involves defining high-level concepts and interfaces without specifying their exact implementations. It abstracts away implementation details, focusing on what an object does rather than how it does it.\n",
    "In method abstraction, you define method signatures (names and parameter lists) without providing the actual code for the method. This is done using abstract methods, which are declared in an abstract base class or interface using the @abstractmethod decorator in Python.\n",
    "\n",
    "Polymorphism and Method Overriding:\n",
    "-----------------------------------\n",
    "Polymorphism is the ability of objects of different classes to respond to the same method call in a way that is appropriate for their individual types. It allows different classes to have their own implementations of a method with the same name.\n",
    "Method abstraction enforces a consistent method signature, which encourages polymorphism. Concrete classes that implement the abstract method must provide their own method implementation, adhering to the same method signature but customizing the behavior as needed.\n",
    "\n",
    "Inheritance and Concrete Implementations:\n",
    "------------------------------------------\n",
    "Concrete subclasses that inherit from the abstract base class must provide concrete implementations of the abstract methods. This enforces the common method signature defined by the abstract base class.\n",
    "When you call the abstract method on an object of a concrete subclass, it invokes the specific implementation in that subclass. This is a form of polymorphism, as the same method name can have different behaviors depending on the object's actual type.\n",
    "\n",
    "Common Interface and Code Reusability:\n",
    "--------------------------------------\n",
    "Method abstraction defines a common interface that allows multiple classes to be treated uniformly when they implement the same method.\n",
    "This common interface promotes code reusability. You can write code that operates on objects based on their abstract base class or interface, which is valuable for creating generic, reusable components."
   ]
  },
  {
   "cell_type": "code",
   "execution_count": 108,
   "id": "8e068677-e9cc-4e84-9686-f1df12260760",
   "metadata": {},
   "outputs": [
    {
     "name": "stdout",
     "output_type": "stream",
     "text": [
      "Woof!\n",
      "Meow!\n"
     ]
    }
   ],
   "source": [
    "from abc import ABC, abstractmethod\n",
    "\n",
    "# Abstract class with an abstract method\n",
    "class Animal(ABC):\n",
    "    @abstractmethod\n",
    "    def speak(self):\n",
    "        pass\n",
    "\n",
    "# Concrete subclasses implementing the abstract method\n",
    "class Dog(Animal):\n",
    "    def speak(self):\n",
    "        return \"Woof!\"\n",
    "\n",
    "class Cat(Animal):\n",
    "    def speak(self):\n",
    "        return \"Meow!\"\n",
    "\n",
    "# Function demonstrating polymorphism\n",
    "def animal_sound(animal):\n",
    "    return animal.speak()\n",
    "\n",
    "# Using method abstraction and polymorphism\n",
    "dog = Dog()\n",
    "cat = Cat()\n",
    "\n",
    "print(animal_sound(dog))  # Output: Woof!\n",
    "print(animal_sound(cat))  # Output: Meow!\n"
   ]
  },
  {
   "cell_type": "markdown",
   "id": "7067fd86-a533-4865-8626-1e448a46fd3d",
   "metadata": {
    "jp-MarkdownHeadingCollapsed": true,
    "tags": []
   },
   "source": [
    "# Composition"
   ]
  },
  {
   "cell_type": "markdown",
   "id": "63d948d6-ddee-4c30-b42e-a338e7626922",
   "metadata": {},
   "source": [
    "1. Explain the concept of composition in Python and how it is used to build complex objects from simpler ones."
   ]
  },
  {
   "cell_type": "raw",
   "id": "e5809988-96c6-4165-ae09-28af31b198df",
   "metadata": {},
   "source": [
    "Composition is a fundamental concept in object-oriented programming (OOP), including Python. It allows you to build complex objects by combining simpler objects. In composition, objects are combined to create more complex and meaningful structures. This is in contrast to inheritance, where objects are defined in terms of other objects.\n",
    "\n",
    "Here's an explanation of composition in Python and how it is used to create complex objects:\n",
    "\n",
    "Combining Objects:\n",
    "------------------\n",
    "In composition, objects of one class are combined with objects of other classes to create a more complex object. This combination allows for the construction of complex relationships and behaviors.\n",
    "Composition encourages a \"has-a\" relationship, where an object contains or is composed of other objects. For example, a Car has an \"engine,\" a \"wheel,\" and so on.\n",
    "\n",
    "Loose Coupling:\n",
    "---------------\n",
    "One of the advantages of composition is that it promotes loose coupling between objects. The complex object does not depend on the internal details of the objects it is composed of. This makes the code more modular and easier to maintain.\n",
    "When an object is composed of other objects, it can use their services without being tightly bound to their implementation.\n",
    "\n",
    "Reusability:\n",
    "------------\n",
    "Composition promotes code reusability. You can reuse existing classes by composing them into new, more complex classes. This is especially useful for creating libraries or frameworks.\n",
    "By combining well-designed, reusable components, you can create new objects and systems more efficiently.\n",
    "\n",
    "Complex Behavior:\n",
    "-----------------\n",
    "Composition allows you to build objects with complex behavior by combining simpler objects that handle specific aspects of that behavior. Each component can focus on a particular responsibility, making the code more maintainable.\n",
    "For example, a Robot object can be composed of components like an Arm and a Leg, each responsible for specific actions.\n",
    "\n",
    "Dynamic Composition:\n",
    "--------------------\n",
    "In Python, composition is highly dynamic. You can add and remove components at runtime, enabling flexibility and adaptability in your objects.\n",
    "This dynamic nature is particularly valuable when building systems where the composition of objects needs to change based on runtime conditions.\n",
    "\n",
    "Encapsulation:\n",
    "--------------\n",
    "Composition allows encapsulation, as the internal details of the composed objects are hidden from the outside world. Users of the complex object interact with it through a well-defined interface.\n",
    "This encapsulation is essential for maintaining the integrity and consistency of the composed object.\n",
    "\n",
    "Composition is a powerful and flexible design concept that plays a significant role in creating modular, maintainable, and reusable code in Python and other object-oriented programming languages."
   ]
  },
  {
   "cell_type": "code",
   "execution_count": 118,
   "id": "4db65941-bb01-4393-ab03-0b76f8a4161c",
   "metadata": {},
   "outputs": [
    {
     "name": "stdout",
     "output_type": "stream",
     "text": [
      "Title: Harry Potter and the Sorcerer's Stone\n",
      "Author: J.K. Rowling\n",
      "Publisher: Scholastic\n"
     ]
    }
   ],
   "source": [
    "# Composition Example\n",
    "\n",
    "# Component 1: Author\n",
    "class Author:\n",
    "    def __init__(self, name):\n",
    "        self.name = name\n",
    "\n",
    "    def get_author_info(self):\n",
    "        return f\"Author: {self.name}\"\n",
    "\n",
    "# Component 2: Publisher\n",
    "class Publisher:\n",
    "    def __init__(self, name):\n",
    "        self.name = name\n",
    "\n",
    "    def get_publisher_info(self):\n",
    "        return f\"Publisher: {self.name}\"\n",
    "\n",
    "# Composed Object: Book\n",
    "class Book:\n",
    "    def __init__(self, title, author, publisher):\n",
    "        self.title = title\n",
    "        self.author = author\n",
    "        self.publisher = publisher\n",
    "\n",
    "    def get_book_info(self):\n",
    "        author_info = self.author.get_author_info()\n",
    "        publisher_info = self.publisher.get_publisher_info()\n",
    "        return f\"Title: {self.title}\\n{author_info}\\n{publisher_info}\"\n",
    "\n",
    "# Creating Book Objects using Composition\n",
    "author = Author(\"J.K. Rowling\")\n",
    "publisher = Publisher(\"Scholastic\")\n",
    "harry_potter = Book(\"Harry Potter and the Sorcerer's Stone\", author, publisher)\n",
    "\n",
    "# Accessing Book Information\n",
    "book_info = harry_potter.get_book_info()\n",
    "print(book_info)\n"
   ]
  },
  {
   "cell_type": "markdown",
   "id": "63aacaef-5af8-4361-971c-0317b833759d",
   "metadata": {},
   "source": [
    "2. Describe the difference between composition and inheritance in object-oriented programming."
   ]
  },
  {
   "cell_type": "raw",
   "id": "ced815c3-c252-4a53-ba54-4ddd87f6274b",
   "metadata": {},
   "source": [
    "Composition and inheritance are two fundamental concepts in object-oriented programming (OOP), and they represent different ways to establish relationships and structures in your code. Here are the key differences between composition and inheritance:\n",
    "\n",
    "1. Relationship Type:\n",
    "   - Composition: In composition, objects of one class are combined with objects of another class to create a more complex object. This creates a \"has-a\" relationship, where one object contains or is composed of other objects.\n",
    "   - Inheritance: Inheritance establishes an \"is-a\" relationship, where a new class (the subclass or derived class) inherits attributes and behaviors from an existing class (the superclass or base class).\n",
    "\n",
    "2. Code Reuse:\n",
    "   - Composition: Composition promotes code reuse by combining existing classes (or objects) to create new classes with specific functionality. It allows you to reuse components without inheriting all attributes and behaviors.\n",
    "   - Inheritance: Inheritance also promotes code reuse but in a different way. A subclass inherits all attributes and behaviors from its superclass. It can extend, override, or reuse these inherited features, but it also inherits everything, including features that may not be needed.\n",
    "\n",
    "3. Flexibility:\n",
    "   - Composition: Composition is highly flexible because you can change the components of an object at runtime. You can add or remove parts dynamically, allowing for adaptability in complex systems.\n",
    "   - Inheritance: Inheritance provides a static relationship between classes. The structure and behavior defined in the inheritance hierarchy are typically established at compile-time and are more rigid.\n",
    "\n",
    "4. Encapsulation:\n",
    "   - Composition: Composition often enforces encapsulation, as the composed objects are encapsulated within the complex object. The internal details of the components are hidden, and clients interact with the complex object through a well-defined interface.\n",
    "   - Inheritance: Inheritance can expose the internal details of the superclass to the subclass. Subclasses have access to the non-private members of their superclass, potentially breaking encapsulation.\n",
    "\n",
    "5. Complexity:\n",
    "   - Composition: Composition simplifies complex systems by breaking them down into smaller, more manageable components. Each component can focus on a specific responsibility, making the code easier to understand and maintain.\n",
    "   - Inheritance: Inheritance can lead to complex class hierarchies, especially in deep and wide inheritance trees. As the hierarchy grows, it can become more challenging to understand and maintain.\n",
    "\n",
    "6. Base Class Selection:\n",
    "   - Composition: In composition, you select classes (objects) based on their specific functionality, allowing for more granular control over the components you include in a complex object.\n",
    "   - Inheritance: In inheritance, you select classes based on their hierarchical relationship. A subclass typically represents a specialization of a superclass and inherits all its attributes and behaviors.\n",
    "\n",
    "7. Collaboration:\n",
    "   - Composition: Composition often encourages collaboration among classes. Different classes collaborate to create a complex system, and changes to one class don't necessarily affect others.\n",
    "   - Inheritance: Inheritance can lead to tighter coupling between classes in a hierarchy. Changes to the superclass can impact all subclasses, potentially causing ripple effects.\n",
    "\n",
    "In practice, the choice between composition and inheritance depends on the specific requirements and design goals of your software. Both have their strengths and weaknesses, and skilled software designers use them judiciously to create well-structured, maintainable, and flexible code. In many cases, a combination of both composition and inheritance is employed to achieve the desired results."
   ]
  },
  {
   "cell_type": "code",
   "execution_count": 116,
   "id": "afd667fe-94ed-4a7d-a651-a764f9836cbf",
   "metadata": {},
   "outputs": [
    {
     "name": "stdout",
     "output_type": "stream",
     "text": [
      "Vehicle starting...\n",
      "Engine started\n",
      "Wheels rotating\n"
     ]
    }
   ],
   "source": [
    "# Composition Example\n",
    "\n",
    "class Engine:\n",
    "    def start(self):\n",
    "        print(\"Engine started\")\n",
    "\n",
    "class Wheels:\n",
    "    def rotate(self):\n",
    "        print(\"Wheels rotating\")\n",
    "\n",
    "class Vehicle:\n",
    "    def __init__(self):\n",
    "        self.engine = Engine()\n",
    "        self.wheels = Wheels()\n",
    "\n",
    "    def start(self):\n",
    "        print(\"Vehicle starting...\")\n",
    "        self.engine.start()\n",
    "        self.wheels.rotate()\n",
    "\n",
    "# Using Composition\n",
    "my_vehicle = Vehicle()\n",
    "my_vehicle.start()\n"
   ]
  },
  {
   "cell_type": "code",
   "execution_count": 117,
   "id": "29242594-f378-446b-93aa-6a43c490b02f",
   "metadata": {},
   "outputs": [
    {
     "name": "stdout",
     "output_type": "stream",
     "text": [
      "Car starting...\n",
      "Bicycle starting...\n"
     ]
    }
   ],
   "source": [
    "# Inheritance Example\n",
    "\n",
    "class BaseVehicle:\n",
    "    def __init__(self, name):\n",
    "        self.name = name\n",
    "\n",
    "    def start(self):\n",
    "        print(f\"{self.name} starting...\")\n",
    "\n",
    "class Vehicle(BaseVehicle):\n",
    "    pass\n",
    "\n",
    "class Car(Vehicle):\n",
    "    def __init__(self, name):\n",
    "        super().__init__(name)\n",
    "\n",
    "class Bicycle(Vehicle):\n",
    "    def __init__(self, name):\n",
    "        super().__init__(name)\n",
    "\n",
    "# Using Inheritance\n",
    "my_car = Car(\"Car\")\n",
    "my_bicycle = Bicycle(\"Bicycle\")\n",
    "\n",
    "my_car.start()\n",
    "my_bicycle.start()\n"
   ]
  },
  {
   "cell_type": "markdown",
   "id": "78de87e4-c892-4ebe-822d-f193ad47360d",
   "metadata": {},
   "source": [
    "3. Create a Python class called `Author` with attributes for name and birthdate. Then, create a `Book` class that contains an instance of `Author` as a composition. Provide an example of creating a `Book` object."
   ]
  },
  {
   "cell_type": "code",
   "execution_count": 32,
   "id": "5fe49c31-f11c-49c7-bb80-988d27388022",
   "metadata": {},
   "outputs": [
    {
     "name": "stdout",
     "output_type": "stream",
     "text": [
      "Title: Harry Potter\n",
      "Author: J.K. Rowling\n",
      "Author's Birthdate: July 31, 1965\n",
      "Publication Year: 1997\n"
     ]
    }
   ],
   "source": [
    "class Author:\n",
    "    def __init__(self, name, birthdate):\n",
    "        self.name = name\n",
    "        self.birthdate = birthdate\n",
    "        \n",
    "class Book:\n",
    "    def __init__(self, author_obj, title, publication_year):\n",
    "        self.author = author_obj\n",
    "        self.title = title\n",
    "        self.publication_year = publication_year\n",
    "        \n",
    "    def display_info(self):\n",
    "        print(f\"Title: {self.title}\\nAuthor: {self.author.name}\\nAuthor's Birthdate: {self.author.birthdate}\\nPublication Year: {self.publication_year}\")\n",
    "        \n",
    "author = Author(\"J.K. Rowling\", \"July 31, 1965\")\n",
    "\n",
    "book = Book(author, \"Harry Potter\", 1997)\n",
    "\n",
    "book.display_info()\n",
    "        "
   ]
  },
  {
   "cell_type": "markdown",
   "id": "8297bcac-37be-4b05-9cc3-e255ada60bec",
   "metadata": {},
   "source": [
    "4. Discuss the benefits of using composition over inheritance in Python, especially in terms of code flexibility and reusability."
   ]
  },
  {
   "cell_type": "raw",
   "id": "b556e370-fa93-4f95-819a-836aa96b69b6",
   "metadata": {},
   "source": [
    "Using composition over inheritance in Python can offer several benefits, particularly in terms of code flexibility and reusability. Here are some of the advantages of favoring composition:\n",
    "\n",
    "Flexibility:\n",
    "------------\n",
    "Dynamic Composition: Composition allows you to add, replace, or modify components at runtime. This dynamic nature of composition makes it more flexible than inheritance, as you can tailor an object's behavior by changing its composition without altering its class hierarchy. This is particularly useful when dealing with complex, evolving systems.\n",
    "\n",
    "Code Reusability:\n",
    "-----------------\n",
    "Granular Reuse: Composition promotes granular code reuse. You can reuse individual components (classes or objects) by combining them in various ways to create different complex objects. This promotes modularity and reusability on a smaller scale, allowing you to assemble systems from well-defined building blocks.\n",
    "\n",
    "Maintainability:\n",
    "----------------\n",
    "Isolated Changes: When you change a component in a composition, you typically don't affect other components. This isolation of changes helps in maintaining and evolving the codebase more effectively. In contrast, inheritance can lead to unintended side effects when changes are made to a superclass that affects its subclasses.\n",
    "\n",
    "Encapsulation:\n",
    "--------------\n",
    "Controlled Access: Composition often enforces encapsulation. Components are encapsulated within a complex object, and external access is controlled through the complex object's interface. This ensures that the internal details of components are hidden from the outside world, promoting data integrity and reducing unintended interference.\n",
    "\n",
    "Testability:\n",
    "------------\n",
    "Focused Testing: In a composition-based design, you can test individual components independently. This focused testing approach allows you to verify that each component behaves correctly, making it easier to identify and fix issues.\n",
    "\n",
    "Low Coupling:\n",
    "-------------\n",
    "Loose Coupling: Composition results in loose coupling between components. Components are independent entities with well-defined interfaces, reducing interdependencies and making the code more modular and easier to maintain. In contrast, inheritance can lead to tight coupling within class hierarchies.\n",
    "\n",
    "Improved Collaboration:\n",
    "-----------------------\n",
    "Collaboration Among Classes: Composition encourages collaboration among different classes. Classes work together by providing well-defined interfaces, promoting collaboration among development teams working on different components of a system.\n",
    "\n",
    "Adaptability:\n",
    "-------------\n",
    "Adapt to Change: Composition allows you to adapt to changing requirements more easily. By adding or replacing components, you can adjust the behavior of a complex object without affecting other parts of the system. This adaptability is crucial for systems that evolve over time.\n",
    "\n",
    "Decomposition of Complexity:\n",
    "----------------------------\n",
    "Complexity Management: Composition allows you to decompose a complex problem into simpler, more manageable components. Each component can focus on a specific responsibility or concern, making the code more understandable and maintainable.\n",
    "\n",
    "Enhanced Security:\n",
    "------------------\n",
    "Controlled Access: Composition enforces controlled access to components. This can enhance security by preventing unauthorized access to sensitive components or data.\n",
    "\n",
    "It's important to note that composition and inheritance are not mutually exclusive. In many cases, a combination of both is employed to harness the strengths of each approach. However, favoring composition is often recommended to achieve greater flexibility, code reusability, and maintainability, especially in complex and evolving software systems."
   ]
  },
  {
   "cell_type": "code",
   "execution_count": 115,
   "id": "961e6431-81de-4ad6-8ed4-1e0c76df9811",
   "metadata": {},
   "outputs": [
    {
     "name": "stdout",
     "output_type": "stream",
     "text": [
      "Car starting...\n",
      "Engine started\n",
      "Wheels rotating\n"
     ]
    }
   ],
   "source": [
    "# Using Composition Over Inheritance Example\n",
    "\n",
    "# Component 1: Engine\n",
    "class Engine:\n",
    "    def start(self):\n",
    "        print(\"Engine started\")\n",
    "\n",
    "# Component 2: Wheels\n",
    "class Wheels:\n",
    "    def rotate(self):\n",
    "        print(\"Wheels rotating\")\n",
    "\n",
    "# Using Composition: Car contains an Engine and Wheels\n",
    "class Car:\n",
    "    def __init__(self):\n",
    "        self.engine = Engine()\n",
    "        self.wheels = Wheels()\n",
    "\n",
    "    def start(self):\n",
    "        print(\"Car starting...\")\n",
    "        self.engine.start()\n",
    "        self.wheels.rotate()\n",
    "\n",
    "# Usage of the Car object\n",
    "my_car = Car()\n",
    "my_car.start()\n"
   ]
  },
  {
   "cell_type": "markdown",
   "id": "b5a48f45-ea08-406b-9903-9c2ec328c613",
   "metadata": {},
   "source": [
    "5. How can you implement composition in Python classes? Provide examples of using composition to create complex objects."
   ]
  },
  {
   "cell_type": "raw",
   "id": "3104659e-fddb-4298-a898-17a76a3767c1",
   "metadata": {},
   "source": [
    "Composition in Python is implemented by creating objects of one class within another class, effectively combining these objects to create complex structures. To illustrate composition in Python, I'll provide examples of using composition to create complex objects in different scenarios.\n",
    "\n",
    "Example:\n",
    "--------"
   ]
  },
  {
   "cell_type": "code",
   "execution_count": 38,
   "id": "9de8094b-7648-4b70-bbb1-4160d414ccce",
   "metadata": {},
   "outputs": [
    {
     "name": "stdout",
     "output_type": "stream",
     "text": [
      "Engine started.\n",
      "Wheel is rotating.\n",
      "Wheel is rotating.\n",
      "Wheel is rotating.\n",
      "Wheel is rotating.\n"
     ]
    }
   ],
   "source": [
    "class Engine:\n",
    "    def start(self):\n",
    "        print(\"Engine started.\")\n",
    "\n",
    "class Wheel:\n",
    "    def rotate(self):\n",
    "        print(\"Wheel is rotating.\")\n",
    "\n",
    "class Car:\n",
    "    def __init__(self):\n",
    "        self.engine = Engine()\n",
    "        self.wheels = [Wheel() for _ in range(4)]\n",
    "\n",
    "    def drive(self):\n",
    "        self.engine.start()\n",
    "        for wheel in self.wheels:\n",
    "            wheel.rotate()\n",
    "\n",
    "# Create a Car object composed of an Engine and Wheels\n",
    "my_car = Car()\n",
    "my_car.drive()\n"
   ]
  },
  {
   "cell_type": "markdown",
   "id": "7a16527b-7a5a-486d-8e30-a6595c3e4d88",
   "metadata": {},
   "source": [
    "6. Create a Python class hierarchy for a music player system, using composition to represent playlists and songs."
   ]
  },
  {
   "cell_type": "code",
   "execution_count": 34,
   "id": "dba7dea1-20ff-4803-87a5-244fccab3fa8",
   "metadata": {},
   "outputs": [
    {
     "name": "stdout",
     "output_type": "stream",
     "text": [
      "MusicPlayer: Walkman\n",
      "Playlists: Romantic\n",
      "Number of Songs: 200\n",
      "\n",
      "MusicPlayer: iPod\n",
      "Playlists: Instrumental\n",
      "Number of Songs: 300\n",
      "\n"
     ]
    }
   ],
   "source": [
    "class MusicSystem:\n",
    "    def __init__(self, model):\n",
    "        self.model = model\n",
    "        \n",
    "class MusicPlayer:\n",
    "    def __init__(self, mp_obj, playlist, num_of_songs):\n",
    "        self.musicplayer = mp_obj\n",
    "        self.playlist = playlist\n",
    "        self.num_of_songs = num_of_songs\n",
    "        \n",
    "    def display_music_palyer(self):\n",
    "        print(f\"MusicPlayer: {self.musicplayer.model}\\nPlaylists: {self.playlist}\\nNumber of Songs: {self.num_of_songs}\")\n",
    "        \n",
    "        \n",
    "walkman = MusicSystem(\"Walkman\")\n",
    "\n",
    "mp1 = MusicPlayer(walkman, \"Romantic\", 200)\n",
    "\n",
    "ipod = MusicSystem(\"iPod\")\n",
    "\n",
    "mp2 = MusicPlayer(ipod, \"Instrumental\", 300)\n",
    "\n",
    "mps = [mp1, mp2]\n",
    "\n",
    "for mp in mps:\n",
    "    mp.display_music_palyer()\n",
    "    print()"
   ]
  },
  {
   "cell_type": "markdown",
   "id": "44261f70-dd69-4f69-8871-c6613e6a533a",
   "metadata": {},
   "source": [
    "7. Explain the concept of \"has-a\" relationships in composition and how it helps design software systems."
   ]
  },
  {
   "cell_type": "raw",
   "id": "4c256bf4-5d2f-4a45-b52c-956306f9351b",
   "metadata": {},
   "source": [
    "The concept of \"has-a\" relationships in composition is a fundamental principle in object-oriented programming (OOP) that helps design software systems by defining how objects are composed of other objects. A \"has-a\" relationship indicates that one class or object contains or is composed of another class or object. This relationship is essential for creating complex and modular systems. Here's how it helps design software systems:\n",
    "\n",
    "Modularity and Reusability: \n",
    "---------------------------\n",
    "\"Has-a\" relationships allow you to break down complex systems into smaller, more manageable components. Each component is responsible for a specific aspect of the system's functionality. This promotes modularity, making it easier to understand and maintain the code. These smaller components can also be reused in various parts of the system or in other projects.\n",
    "\n",
    "Encapsulation: \n",
    "--------------\n",
    "\"Has-a\" relationships often enforce encapsulation. Each component is encapsulated within its parent object, and external access is controlled through the parent object's interface. This ensures that the internal details of components are hidden from the outside world, promoting data integrity and reducing unintended interference.\n",
    "\n",
    "Flexibility and Adaptability: \n",
    "-----------------------------\n",
    "Software systems often evolve over time. \"Has-a\" relationships provide flexibility and adaptability by allowing you to add, replace, or modify components at runtime. This dynamic nature of composition is essential for systems that need to adapt to changing requirements or incorporate third-party libraries.\n",
    "\n",
    "Low Coupling: \n",
    "-------------\n",
    "\"Has-a\" relationships result in loose coupling between components. Components are independent entities with well-defined interfaces, reducing interdependencies. This makes the code more modular, and changes to one component typically don't affect others, reducing the risk of introducing unintended side effects.\n",
    "\n",
    "Focused Testing and Debugging: \n",
    "------------------------------\n",
    "With \"has-a\" relationships, you can test individual components independently. This focused testing approach allows you to verify that each component behaves correctly, making it easier to identify and fix issues. It also simplifies debugging, as you can isolate problems to specific components.\n",
    "\n",
    "Collaboration Among Classes: \n",
    "----------------------------\n",
    "Different classes collaborate through \"has-a\" relationships to create complex systems. Each class focuses on its specific responsibility, leading to effective collaboration among development teams working on different components of the system. This promotes team-based software development.\n",
    "\n",
    "Clear and Intuitive Design: \n",
    "---------------------------\n",
    "\"Has-a\" relationships create a clear and intuitive design that mirrors the real-world relationships between objects. For example, a Car \"has\" an Engine, or a Computer \"has\" a CPU. This makes the code easier to understand for developers, leading to improved code readability and maintainability.\n",
    "\n",
    "Overall, \"has-a\" relationships provided by composition help designers and developers create software systems that are well-structured, maintainable, and flexible. They promote code modularity, encapsulation, and a clear division of responsibilities among classes, which are key principles in OOP and software architecture."
   ]
  },
  {
   "cell_type": "code",
   "execution_count": 114,
   "id": "6fa3d351-873d-4de6-a7a1-ce25d67a9dc1",
   "metadata": {},
   "outputs": [
    {
     "name": "stdout",
     "output_type": "stream",
     "text": [
      "Car starting...\n",
      "Engine started\n",
      "Wheels rotating\n"
     ]
    }
   ],
   "source": [
    "# \"Has-a\" Relationship (Composition) Example\n",
    "\n",
    "# Component 1: Engine\n",
    "class Engine:\n",
    "    def start(self):\n",
    "        print(\"Engine started\")\n",
    "\n",
    "# Component 2: Wheels\n",
    "class Wheels:\n",
    "    def rotate(self):\n",
    "        print(\"Wheels rotating\")\n",
    "\n",
    "# Component 3: Car\n",
    "class Car:\n",
    "    def __init__(self):\n",
    "        self.engine = Engine()  # Composition: Car \"has\" an Engine\n",
    "        self.wheels = Wheels()  # Composition: Car \"has\" Wheels\n",
    "\n",
    "    def start(self):\n",
    "        print(\"Car starting...\")\n",
    "        self.engine.start()  # Delegating engine-related functionality to the Engine\n",
    "        self.wheels.rotate()  # Delegating wheel-related functionality to the Wheels\n",
    "\n",
    "# Usage of the Car object\n",
    "my_car = Car()\n",
    "my_car.start()\n"
   ]
  },
  {
   "cell_type": "markdown",
   "id": "f4959d11-3560-4e3c-a0fb-de05309f5e61",
   "metadata": {},
   "source": [
    "8. Create a Python class for a computer system, using composition to represent components like CPU, RAM, and storage devices."
   ]
  },
  {
   "cell_type": "code",
   "execution_count": 36,
   "id": "2107ade4-70f2-42b9-9a16-339bd8c0852c",
   "metadata": {},
   "outputs": [
    {
     "name": "stdout",
     "output_type": "stream",
     "text": [
      "CPU is executing a program.\n",
      "RAM is storing data.\n",
      "Storage is reading data.\n"
     ]
    }
   ],
   "source": [
    "class CPU:\n",
    "    def execute_program(self):\n",
    "        print(\"CPU is executing a program.\")\n",
    "\n",
    "class RAM:\n",
    "    def store_data(self):\n",
    "        print(\"RAM is storing data.\")\n",
    "\n",
    "class Storage:\n",
    "    def read_data(self):\n",
    "        print(\"Storage is reading data.\")\n",
    "\n",
    "class Computer:\n",
    "    def __init__(self):\n",
    "        self.cpu = CPU()\n",
    "        self.ram = RAM()\n",
    "        self.storage = Storage()\n",
    "\n",
    "    def run_program(self):\n",
    "        self.cpu.execute_program()\n",
    "        self.ram.store_data()\n",
    "        self.storage.read_data()\n",
    "\n",
    "# Create a Computer object composed of a CPU, RAM, and Storage\n",
    "my_computer = Computer()\n",
    "my_computer.run_program()"
   ]
  },
  {
   "cell_type": "markdown",
   "id": "a483a392-580d-4e8a-8daa-f701e69d9eac",
   "metadata": {},
   "source": [
    "9. Describe the concept of \"delegation\" in composition and how it simplifies the design of complex systems."
   ]
  },
  {
   "cell_type": "raw",
   "id": "4ae3c425-b8e5-4118-99f0-3b635396b910",
   "metadata": {},
   "source": [
    "Delegation is a design concept that often goes hand-in-hand with composition in object-oriented programming. It involves one object (the delegating object) passing off some of its responsibilities to another object (the delegate) to perform specific tasks. This concept simplifies the design of complex systems by promoting code reusability, maintainability, and modularity. Here's how delegation works and its benefits:\n",
    "\n",
    "Responsibility Sharing: \n",
    "-----------------------\n",
    "In a composition-based design, a complex object may delegate some of its tasks to its constituent components. Each component is responsible for specific aspects of functionality, and the complex object delegates tasks to these components when needed.\n",
    "\n",
    "Modularity: \n",
    "-----------\n",
    "Delegation promotes modularity by breaking down a complex system into smaller, more manageable components. Each component has a well-defined set of responsibilities and can be developed, tested, and maintained independently. This promotes code organization and makes it easier to work on isolated pieces of the system.\n",
    "\n",
    "Code Reusability: \n",
    "-----------------\n",
    "Delegation allows you to reuse components in different contexts. If a task performed by a complex object is required elsewhere in the system, you can reuse the same component by delegating the task to it. This minimizes code duplication and leads to more efficient development.\n",
    "\n",
    "Separation of Concerns: \n",
    "-----------------------\n",
    "Delegation helps enforce a separation of concerns by ensuring that each component is responsible for a specific concern or functionality. This separation simplifies the design and makes it easier to understand, as each component's responsibilities are well-defined and isolated.\n",
    "\n",
    "Simplified Code: \n",
    "----------------\n",
    "By delegating tasks to components with specific expertise, the code becomes more focused and easier to understand. Complex logic is divided into smaller, more manageable pieces, and the complexity is distributed across multiple, smaller components, simplifying each piece.\n",
    "\n",
    "Testing and Debugging: \n",
    "----------------------\n",
    "Delegation simplifies testing and debugging. Each component can be tested independently, and issues can be isolated to a particular component, making it easier to identify and fix problems. This focused testing approach ensures that each component behaves correctly, and it simplifies the overall testing process.\n",
    "\n",
    "Maintenance: \n",
    "------------\n",
    "Delegation simplifies maintenance efforts because changes to one component typically do not affect others. This isolation of changes makes it easier to update or replace individual components without disrupting the entire system.\n",
    "\n",
    "Flexibility: \n",
    "------------\n",
    "A complex object can delegate tasks to different components depending on the context or requirements. This flexibility allows the system to adapt to changing needs or incorporate third-party libraries seamlessly.\n",
    "\n",
    "Collaboration: \n",
    "--------------\n",
    "Delegation often encourages collaboration among different classes. Complex systems can involve various teams working on different components. Each team can develop and test its component independently, leading to efficient collaboration.\n",
    "\n",
    "In Python, delegation is typically achieved by calling methods of the delegate objects from the delegating object. The delegating object passes its own responsibility to the delegate, which then performs the task.\n",
    "\n",
    "Delegation simplifies the design of complex systems by promoting a clear division of responsibilities among objects, ensuring code reusability, and encouraging modularity. It leads to code that is easier to understand, maintain, and extend, which is crucial for large and evolving software projects."
   ]
  },
  {
   "cell_type": "code",
   "execution_count": 113,
   "id": "9b9fd1c2-3b90-4870-85b5-57e459ef3a5e",
   "metadata": {},
   "outputs": [
    {
     "name": "stdout",
     "output_type": "stream",
     "text": [
      "Car starting...\n",
      "Engine started\n"
     ]
    }
   ],
   "source": [
    "# Delegation Example\n",
    "\n",
    "# Component 1: Engine\n",
    "class Engine:\n",
    "    def start(self):\n",
    "        print(\"Engine started\")\n",
    "\n",
    "# Component 2: Car\n",
    "class Car:\n",
    "    def __init__(self):\n",
    "        self.engine = Engine()  # Delegation: Car has an Engine\n",
    "\n",
    "    def start(self):\n",
    "        print(\"Car starting...\")\n",
    "        self.engine.start()  # Delegating the 'start' operation to the Engine\n",
    "\n",
    "# Usage of the Car object\n",
    "my_car = Car()\n",
    "my_car.start()\n"
   ]
  },
  {
   "cell_type": "markdown",
   "id": "47e528b0-2daa-41fb-9dae-5df6c61c9dbf",
   "metadata": {},
   "source": [
    "10. Create a Python class for a car, using composition to represent components like the engine, wheels, and transmission."
   ]
  },
  {
   "cell_type": "code",
   "execution_count": 39,
   "id": "6b4103b3-bea5-41da-8650-a57e11b87d7a",
   "metadata": {},
   "outputs": [
    {
     "name": "stdout",
     "output_type": "stream",
     "text": [
      "You are driving a Toyota Camry\n",
      "Engine started. It's running on Petrol\n",
      "Shifted to Drive using Automatic transmission.\n",
      "All 4 wheels are rotating.\n"
     ]
    }
   ],
   "source": [
    "class Engine:\n",
    "    def __init__(self, fuel_type):\n",
    "        self.fuel_type = fuel_type\n",
    "        \n",
    "    def start(self):\n",
    "        print(f\"Engine started. It's running on {self.fuel_type}\")\n",
    "        \n",
    "class Wheels:\n",
    "    def __init__(self, count):\n",
    "        self.count = count\n",
    "        \n",
    "    def rotate(self):\n",
    "        print(f\"All {self.count} wheels are rotating.\")\n",
    "        \n",
    "class Transmission:\n",
    "    def __init__(self, transmission_type):\n",
    "        self.transmission_type = transmission_type\n",
    "        \n",
    "    def shift_gear(self, gear):\n",
    "        print(f\"Shifted to {gear} using {self.transmission_type} transmission.\")\n",
    "        \n",
    "class Car:\n",
    "    def __init__(self, make, model, fuel_type, wheel_count, transmission_type):\n",
    "        self.make = make\n",
    "        self.model = model\n",
    "        self.engine = Engine(fuel_type)\n",
    "        self.wheels = Wheels(wheel_count)\n",
    "        self.transmission = Transmission(transmission_type)\n",
    "        \n",
    "    def drive(self):\n",
    "        print(f\"You are driving a {self.make} {self.model}\")\n",
    "        self.engine.start()\n",
    "        self.transmission.shift_gear(\"Drive\")\n",
    "        self.wheels.rotate()\n",
    "        \n",
    "my_car = Car(make=\"Toyota\", model=\"Camry\", fuel_type=\"Petrol\", wheel_count=4, transmission_type=\"Automatic\")\n",
    "\n",
    "my_car.drive()"
   ]
  },
  {
   "cell_type": "markdown",
   "id": "36c20a5b-997b-4682-a461-b4e4b5e690c0",
   "metadata": {},
   "source": [
    "11. How can you encapsulate and hide the details of composed objects in Python classes to maintain abstraction?"
   ]
  },
  {
   "cell_type": "raw",
   "id": "067b50c2-5ad5-49f0-bb8c-8ae96a1c35e8",
   "metadata": {},
   "source": [
    "To encapsulate and hide the details of composed objects in Python classes, you can apply the principles of encapsulation and information hiding. These principles help maintain abstraction by restricting direct access to the internal details of composed objects. Here's how you can achieve this:\n",
    "\n",
    "Use Private Members: \n",
    "--------------------\n",
    "In Python, you can use naming conventions to indicate that a class member should be considered private. By convention, members with names starting with an underscore (e.g., _variable) are considered non-public and should not be accessed directly from outside the class.\n",
    "\n",
    "Getter and Setter Methods: \n",
    "--------------------------\n",
    "Instead of directly accessing the private attributes of composed objects, provide getter and setter methods within the class to access and modify those attributes. This allows you to control how the attributes are accessed and manipulated.\n",
    "\n",
    "Access Control: \n",
    "--------------\n",
    "You can use access control mechanisms to further restrict access to certain attributes or methods. The double underscore (e.g., __variable) name mangling technique can be used to make attributes private within a class. However, it's important to note that this is a form of name mangling, not true encapsulation, and can still be accessed from outside the class if desired.\n",
    "\n",
    "Example:\n",
    "--------\n"
   ]
  },
  {
   "cell_type": "code",
   "execution_count": 40,
   "id": "d1d3f4fc-b8af-4062-8f8e-46af529e84de",
   "metadata": {},
   "outputs": [
    {
     "name": "stdout",
     "output_type": "stream",
     "text": [
      "Make: Toyota\n",
      "Model: Camry\n",
      "Fuel Type: Gasoline\n",
      "You are driving a Honda Accord.\n",
      "Engine started. Running on Hybrid.\n"
     ]
    }
   ],
   "source": [
    "class Engine:\n",
    "    def __init__(self, fuel_type):\n",
    "        self._fuel_type = fuel_type\n",
    "\n",
    "    def start(self):\n",
    "        print(f\"Engine started. Running on {self._fuel_type}.\")\n",
    "\n",
    "    def get_fuel_type(self):\n",
    "        return self._fuel_type\n",
    "\n",
    "    def set_fuel_type(self, new_fuel_type):\n",
    "        self._fuel_type = new_fuel_type\n",
    "\n",
    "class Car:\n",
    "    def __init__(self, make, model, fuel_type):\n",
    "        self._make = make\n",
    "        self._model = model\n",
    "        self._engine = Engine(fuel_type)\n",
    "\n",
    "    def drive(self):\n",
    "        print(f\"You are driving a {self._make} {self._model}.\")\n",
    "        self._engine.start()\n",
    "\n",
    "    def get_make(self):\n",
    "        return self._make\n",
    "\n",
    "    def set_make(self, new_make):\n",
    "        self._make = new_make\n",
    "\n",
    "    def get_model(self):\n",
    "        return self._model\n",
    "\n",
    "    def set_model(self, new_model):\n",
    "        self._model = new_model\n",
    "\n",
    "    # Getter and setter methods for Engine's fuel_type\n",
    "    def get_fuel_type(self):\n",
    "        return self._engine.get_fuel_type()\n",
    "\n",
    "    def set_fuel_type(self, new_fuel_type):\n",
    "        self._engine.set_fuel_type(new_fuel_type)\n",
    "\n",
    "# Create a Car object\n",
    "my_car = Car(make=\"Toyota\", model=\"Camry\", fuel_type=\"Gasoline\")\n",
    "\n",
    "# Access and modify attributes using getter and setter methods\n",
    "print(\"Make:\", my_car.get_make())\n",
    "print(\"Model:\", my_car.get_model())\n",
    "print(\"Fuel Type:\", my_car.get_fuel_type())\n",
    "\n",
    "my_car.set_make(\"Honda\")\n",
    "my_car.set_model(\"Accord\")\n",
    "my_car.set_fuel_type(\"Hybrid\")\n",
    "\n",
    "# Drive the car\n",
    "my_car.drive()"
   ]
  },
  {
   "cell_type": "markdown",
   "id": "ee50b231-584b-4014-a817-e79b1738250e",
   "metadata": {},
   "source": [
    "12. Create a Python class for a university course, using composition to represent students, instructors, and course materials."
   ]
  },
  {
   "cell_type": "code",
   "execution_count": 41,
   "id": "2daedeb2-3db7-410f-afc3-4e030575162b",
   "metadata": {},
   "outputs": [
    {
     "name": "stdout",
     "output_type": "stream",
     "text": [
      "Course Code: CS101\n",
      "Course Title: Introduction to Computer Science\n",
      "Instructor: Instructor ID: I001, Name: Dr. Smith\n",
      "Students:\n",
      "  - Student ID: S001, Name: Alice\n",
      "  - Student ID: S002, Name: Bob\n",
      "Course Materials:\n",
      "  - Lecture Slides\n",
      "  - Homework Assignments\n"
     ]
    }
   ],
   "source": [
    "class Student:\n",
    "    def __init__(self, student_id, name):\n",
    "        self.student_id = student_id\n",
    "        self.name = name\n",
    "\n",
    "    def enroll(self, course):\n",
    "        course.add_student(self)\n",
    "\n",
    "    def __str__(self):\n",
    "        return f\"Student ID: {self.student_id}, Name: {self.name}\"\n",
    "\n",
    "class Instructor:\n",
    "    def __init__(self, instructor_id, name):\n",
    "        self.instructor_id = instructor_id\n",
    "        self.name = name\n",
    "\n",
    "    def assign(self, course):\n",
    "        course.set_instructor(self)\n",
    "\n",
    "    def __str__(self):\n",
    "        return f\"Instructor ID: {self.instructor_id}, Name: {self.name}\"\n",
    "\n",
    "class UniversityCourse:\n",
    "    def __init__(self, course_code, course_title):\n",
    "        self.course_code = course_code\n",
    "        self.course_title = course_title\n",
    "        self.students = []\n",
    "        self.instructor = None\n",
    "        self.course_materials = []\n",
    "\n",
    "    def add_student(self, student):\n",
    "        self.students.append(student)\n",
    "\n",
    "    def set_instructor(self, instructor):\n",
    "        self.instructor = instructor\n",
    "\n",
    "    def add_material(self, material):\n",
    "        self.course_materials.append(material)\n",
    "\n",
    "    def display_course_info(self):\n",
    "        print(f\"Course Code: {self.course_code}\")\n",
    "        print(f\"Course Title: {self.course_title}\")\n",
    "        if self.instructor:\n",
    "            print(\"Instructor:\", self.instructor)\n",
    "        if self.students:\n",
    "            print(\"Students:\")\n",
    "            for student in self.students:\n",
    "                print(\"  -\", student)\n",
    "        if self.course_materials:\n",
    "            print(\"Course Materials:\")\n",
    "            for material in self.course_materials:\n",
    "                print(\"  -\", material)\n",
    "\n",
    "# Create students and instructors\n",
    "student1 = Student(\"S001\", \"Alice\")\n",
    "student2 = Student(\"S002\", \"Bob\")\n",
    "instructor1 = Instructor(\"I001\", \"Dr. Smith\")\n",
    "\n",
    "# Create a UniversityCourse object using composition\n",
    "course1 = UniversityCourse(\"CS101\", \"Introduction to Computer Science\")\n",
    "\n",
    "# Enroll students and assign an instructor\n",
    "student1.enroll(course1)\n",
    "student2.enroll(course1)\n",
    "instructor1.assign(course1)\n",
    "\n",
    "# Add course materials\n",
    "course1.add_material(\"Lecture Slides\")\n",
    "course1.add_material(\"Homework Assignments\")\n",
    "\n",
    "# Display course information\n",
    "course1.display_course_info()\n"
   ]
  },
  {
   "cell_type": "markdown",
   "id": "a09da07a-f84f-4ba7-b280-49242bf69ab3",
   "metadata": {},
   "source": [
    "13. Discuss the challenges and drawbacks of composition, such as increased complexity and potential for tight coupling between objects."
   ]
  },
  {
   "cell_type": "raw",
   "id": "71b87655-3fd4-488b-8e08-2d1e1440a187",
   "metadata": {},
   "source": [
    "Composition is a powerful design principle in object-oriented programming, but like any approach, it has its challenges and potential drawbacks. It's essential to be aware of these challenges and take appropriate measures to mitigate them when using composition in your software design:\n",
    "\n",
    "1. Increased Complexity: When you compose objects together to create more complex structures, the overall complexity of the system can increase. This complexity arises from managing the interactions between the composed objects, especially in systems with many interconnected components.\n",
    "\n",
    "2. Tight Coupling: While composition aims to reduce coupling between objects, it can lead to tight coupling in some cases. Tight coupling occurs when one object depends heavily on the implementation details of another. If you're not careful, changes in one component can ripple through the system, affecting multiple parts.\n",
    "\n",
    "3. Maintenance Overhead: As the number of composed objects grows, maintaining and updating the system can become challenging. Each component may have its own update cycle, and ensuring compatibility and consistency can be labor-intensive.\n",
    "\n",
    "4. Nested Compositions: In complex systems, you may have compositions within compositions. This nesting can make the system harder to understand and maintain. Debugging issues or making changes in deeply nested compositions can be a daunting task.\n",
    "\n",
    "5. Performance Overhead: Composition may introduce some performance overhead, particularly in systems with a large number of composed objects. Accessing and coordinating multiple objects can result in increased execution time and memory usage.\n",
    "\n",
    "6. Object Creation Overhead: Creating and managing many objects can incur a performance overhead, especially in resource-intensive applications. Proper object creation and disposal mechanisms are needed to avoid resource leaks.\n",
    "\n",
    "7. Dependency Management: When composing objects, you need to manage their dependencies. In some cases, you may find that handling these dependencies, such as ensuring that objects are created and connected in the correct order, can be challenging.\n",
    "\n",
    "8. Testing and Debugging Complexity: Complex compositions can lead to challenges in testing and debugging. Isolating and testing individual components may be harder when they are deeply interconnected.\n",
    "\n",
    "9. Scalability: As the system grows, the composition can become less scalable. Managing a large number of components and their relationships can be difficult to scale effectively.\n",
    "\n",
    "To mitigate these challenges and drawbacks, consider the following best practices:\n",
    "\n",
    "1. Clear Design and Documentation: Maintain clear and well-documented designs that specify the relationships between composed objects. This helps developers understand the system's architecture.\n",
    "\n",
    "2. Use Design Patterns: Explore design patterns like the Composite Pattern, Dependency Injection, and Factory Pattern to manage object creation and reduce coupling.\n",
    "\n",
    "3. Dependency Injection: Use dependency injection to manage dependencies and reduce tight coupling. This allows you to inject dependencies into objects rather than hardcoding them.\n",
    "\n",
    "4. Modularization: Break down your system into smaller, more manageable modules. Each module can be a self-contained composition, making it easier to develop and maintain.\n",
    "\n",
    "5. Automated Testing: Implement automated testing strategies to ensure that the composed components work together correctly. This helps identify and address issues early in the development process.\n",
    "\n",
    "6. Profiling and Optimization: Use profiling tools to identify performance bottlenecks. Optimize your code to reduce unnecessary overhead caused by composition.\n",
    "\n",
    "7. Regular Refactoring: Periodically review your design and refactor it as needed to maintain a healthy balance between composition and complexity.\n",
    "\n",
    "By being aware of these challenges and adhering to best practices, you can harness the benefits of composition while mitigating its potential drawbacks in your software design."
   ]
  },
  {
   "cell_type": "code",
   "execution_count": 112,
   "id": "80b4e3e9-75e5-4e06-b0ec-94f52889760c",
   "metadata": {},
   "outputs": [
    {
     "name": "stdout",
     "output_type": "stream",
     "text": [
      "Car starting...\n",
      "Engine started\n",
      "Wheels rotating\n"
     ]
    }
   ],
   "source": [
    "# Component 1: Engine\n",
    "class Engine:\n",
    "    def start(self):\n",
    "        print(\"Engine started\")\n",
    "\n",
    "# Component 2: Wheels\n",
    "class Wheels:\n",
    "    def rotate(self):\n",
    "        print(\"Wheels rotating\")\n",
    "\n",
    "# Component 3: Car\n",
    "class Car:\n",
    "    def __init__(self):\n",
    "        self.engine = Engine()\n",
    "        self.wheels = Wheels()\n",
    "\n",
    "    def start(self):\n",
    "        print(\"Car starting...\")\n",
    "        self.engine.start()\n",
    "        self.wheels.rotate()\n",
    "\n",
    "# Usage of the Composed Car\n",
    "my_car = Car()\n",
    "my_car.start()\n"
   ]
  },
  {
   "cell_type": "markdown",
   "id": "1e1942ce-640d-4dbc-82ee-f01eae30fc71",
   "metadata": {},
   "source": [
    "14. Create a Python class hierarchy for a restaurant system, using composition to represent menus, dishes, and ingredients."
   ]
  },
  {
   "cell_type": "code",
   "execution_count": 42,
   "id": "d9209756-2d65-41c2-8e98-7eccc9956be8",
   "metadata": {},
   "outputs": [
    {
     "name": "stdout",
     "output_type": "stream",
     "text": [
      "Tasty Kitchen - A place for delicious meals\n",
      "Lunch Menu - Served from 11:00 AM to 2:00 PM\n",
      "  - Chicken Curry - Delicious curry with chicken and rice, Price: $12.99\n",
      "  - Vegetable Biryani - A flavorful rice dish with vegetables, Price: $9.99\n",
      "\n"
     ]
    }
   ],
   "source": [
    "class Ingredient:\n",
    "    def __init__(self, name, quantity, unit):\n",
    "        self.name = name\n",
    "        self.quantity = quantity\n",
    "        self.unit = unit\n",
    "\n",
    "    def __str__(self):\n",
    "        return f\"{self.quantity} {self.unit} of {self.name}\"\n",
    "\n",
    "class Dish:\n",
    "    def __init__(self, name, description, price, ingredients):\n",
    "        self.name = name\n",
    "        self.description = description\n",
    "        self.price = price\n",
    "        self.ingredients = ingredients\n",
    "\n",
    "    def __str__(self):\n",
    "        return f\"{self.name} - {self.description}, Price: ${self.price:.2f}\"\n",
    "\n",
    "class Menu:\n",
    "    def __init__(self, name, description, dishes):\n",
    "        self.name = name\n",
    "        self.description = description\n",
    "        self.dishes = dishes\n",
    "\n",
    "    def __str__(self):\n",
    "        menu_info = f\"{self.name} - {self.description}\\n\"\n",
    "        for dish in self.dishes:\n",
    "            menu_info += f\"  - {dish}\\n\"\n",
    "        return menu_info\n",
    "\n",
    "class Restaurant:\n",
    "    def __init__(self, name, description, menus):\n",
    "        self.name = name\n",
    "        self.description = description\n",
    "        self.menus = menus\n",
    "\n",
    "    def display_menu(self, menu_name):\n",
    "        for menu in self.menus:\n",
    "            if menu.name == menu_name:\n",
    "                print(f\"{self.name} - {self.description}\")\n",
    "                print(menu)\n",
    "                return\n",
    "        print(f\"Menu '{menu_name}' not found in {self.name}.\")\n",
    "\n",
    "# Create ingredients\n",
    "ingredient1 = Ingredient(\"Chicken\", 250, \"grams\")\n",
    "ingredient2 = Ingredient(\"Rice\", 200, \"grams\")\n",
    "ingredient3 = Ingredient(\"Tomato\", 2, \"pieces\")\n",
    "ingredient4 = Ingredient(\"Onion\", 1, \"piece\")\n",
    "\n",
    "# Create dishes\n",
    "dish1_ingredients = [ingredient1, ingredient2, ingredient3]\n",
    "dish1 = Dish(\"Chicken Curry\", \"Delicious curry with chicken and rice\", 12.99, dish1_ingredients)\n",
    "\n",
    "dish2_ingredients = [ingredient2, ingredient3, ingredient4]\n",
    "dish2 = Dish(\"Vegetable Biryani\", \"A flavorful rice dish with vegetables\", 9.99, dish2_ingredients)\n",
    "\n",
    "# Create menus\n",
    "menu1_dishes = [dish1, dish2]\n",
    "menu1 = Menu(\"Lunch Menu\", \"Served from 11:00 AM to 2:00 PM\", menu1_dishes)\n",
    "\n",
    "menu2_dishes = [dish2]\n",
    "menu2 = Menu(\"Dinner Menu\", \"Served from 5:00 PM to 9:00 PM\", menu2_dishes)\n",
    "\n",
    "# Create a restaurant\n",
    "restaurant = Restaurant(\"Tasty Kitchen\", \"A place for delicious meals\", [menu1, menu2])\n",
    "\n",
    "# Display a menu\n",
    "restaurant.display_menu(\"Lunch Menu\")\n"
   ]
  },
  {
   "cell_type": "markdown",
   "id": "de1db87b-54da-44e4-ae53-48f7bed43fc4",
   "metadata": {},
   "source": [
    "15. Explain how composition enhances code maintainability and modularity in Python programs."
   ]
  },
  {
   "cell_type": "raw",
   "id": "a2a30580-85ae-424b-bd54-cdd3bfd2dc82",
   "metadata": {},
   "source": [
    "Composition is a powerful design principle in Python and object-oriented programming that can greatly enhance code maintainability and modularity. Here's how composition achieves these benefits:\n",
    "\n",
    "Modularity:\n",
    "-----------\n",
    "Composition encourages breaking down complex systems into smaller, self-contained modules or classes. Each module is responsible for a specific part of the functionality, making it easier to understand and manage. This modularity promotes the separation of concerns, where each class focuses on a specific task or functionality.\n",
    "\n",
    "Reusability: \n",
    "------------\n",
    "Composed objects can be reused in different contexts. For example, you can reuse a Dish object in multiple menus, or you can reuse the Ingredient class in various dishes. This reusability reduces code duplication, making it easier to maintain and update the codebase.\n",
    "\n",
    "Scalability: \n",
    "------------\n",
    "As your system grows, you can add more components or objects without significantly impacting existing code. New components can be integrated into the system through composition, extending its functionality while preserving the modularity and maintainability of the existing code.\n",
    "\n",
    "Flexibility: \n",
    "------------\n",
    "Composition allows you to mix and match different components to create new structures. For example, you can create a new menu by composing existing dishes. This flexibility means you can adapt your system to changing requirements or preferences without extensive code modifications.\n",
    "\n",
    "Simplified Testing: \n",
    "-------------------\n",
    "Composing smaller, modular components makes testing and debugging more straightforward. You can test each component independently, ensuring that it functions correctly. This isolation of testing helps identify and fix issues more efficiently.\n",
    "\n",
    "Clear Interfaces: \n",
    "-----------------\n",
    "Composed objects typically expose clear interfaces, making it easy for developers to understand how to use them. This clarity reduces the learning curve for new developers and aids in code maintenance.\n",
    "\n",
    "Loose Coupling: \n",
    "---------------\n",
    "Composition can help reduce tight coupling between objects. Each object interacts with its composed components through well-defined interfaces, rather than relying on the internal details of other objects. Loose coupling makes it easier to change the behavior of one component without affecting others.\n",
    "\n",
    "Code Organization: \n",
    "------------------\n",
    "Composition promotes a clean and organized code structure. Each class is responsible for a specific aspect of functionality, and the relationships between classes are well-defined. This clarity improves code organization and makes it easier to locate and manage code.\n",
    "\n",
    "Encapsulation: \n",
    "--------------\n",
    "Composing objects can lead to encapsulation, where the internal details of an object are hidden from the outside. This encapsulation helps maintain abstraction and reduces the risk of unintended interference or modifications.\n",
    "\n",
    "Maintenance Isolation: \n",
    "----------------------\n",
    "When a component needs maintenance or updates, you can focus on that specific component without affecting the entire system. This isolation simplifies maintenance efforts and reduces the risk of introducing unintended side effects.\n",
    "\n",
    "By embracing composition and designing your Python programs with modular, reusable, and flexible components, you can significantly enhance code maintainability and modularity. This, in turn, leads to more robust and adaptable software systems that are easier to understand, develop, and maintain over time."
   ]
  },
  {
   "cell_type": "code",
   "execution_count": 111,
   "id": "6bc95e09-ca72-452a-82d5-bc322dc2a02e",
   "metadata": {},
   "outputs": [
    {
     "name": "stdout",
     "output_type": "stream",
     "text": [
      "Playing audio: song.mp3\n",
      "Playing video: movie.mp4\n",
      "Unsupported media format: document.txt\n"
     ]
    }
   ],
   "source": [
    "# Component 1: Audio Player\n",
    "class AudioPlayer:\n",
    "    def play_audio(self, file_name):\n",
    "        print(f\"Playing audio: {file_name}\")\n",
    "\n",
    "# Component 2: Video Player\n",
    "class VideoPlayer:\n",
    "    def play_video(self, file_name):\n",
    "        print(f\"Playing video: {file_name}\")\n",
    "\n",
    "# Composed Media Player\n",
    "class MediaPlayer:\n",
    "    def __init__(self):\n",
    "        self.audio_player = AudioPlayer()\n",
    "        self.video_player = VideoPlayer()\n",
    "\n",
    "    def play_media(self, file_name):\n",
    "        if file_name.lower().endswith(('.mp3', '.wav', '.ogg')):\n",
    "            self.audio_player.play_audio(file_name)\n",
    "        elif file_name.lower().endswith(('.mp4', '.avi', '.mkv')):\n",
    "            self.video_player.play_video(file_name)\n",
    "        else:\n",
    "            print(f\"Unsupported media format: {file_name}\")\n",
    "\n",
    "# Usage of the Composed Media Player\n",
    "media_player = MediaPlayer()\n",
    "media_player.play_media(\"song.mp3\")\n",
    "media_player.play_media(\"movie.mp4\")\n",
    "media_player.play_media(\"document.txt\")\n"
   ]
  },
  {
   "cell_type": "markdown",
   "id": "856f548d-bcd1-4e02-a0f1-2e347abd60ac",
   "metadata": {},
   "source": [
    "16. Create a Python class for a computer game character, using composition to represent attributes like weapons, armor, and inventory."
   ]
  },
  {
   "cell_type": "code",
   "execution_count": 43,
   "id": "4211cfc9-b849-4757-8388-83f1cd7f1728",
   "metadata": {},
   "outputs": [
    {
     "name": "stdout",
     "output_type": "stream",
     "text": [
      "Hero attacks Dragon with Sword for 20 damage.\n",
      "Dragon has no weapon to attack.\n",
      "Hero picks up Health Potion.\n",
      "Hero picks up Key.\n",
      "Hero's Inventory:\n",
      "  - Health Potion\n",
      "  - Key\n"
     ]
    }
   ],
   "source": [
    "class Weapon:\n",
    "    def __init__(self, name, damage):\n",
    "        self.name = name\n",
    "        self.damage = damage\n",
    "\n",
    "    def __str__(self):\n",
    "        return f\"Weapon: {self.name}, Damage: {self.damage}\"\n",
    "\n",
    "class Armor:\n",
    "    def __init__(self, name, defense):\n",
    "        self.name = name\n",
    "        self.defense = defense\n",
    "\n",
    "    def __str__(self):\n",
    "        return f\"Armor: {self.name}, Defense: {self.defense}\"\n",
    "\n",
    "class Inventory:\n",
    "    def __init__(self):\n",
    "        self.items = []\n",
    "\n",
    "    def add_item(self, item):\n",
    "        self.items.append(item)\n",
    "\n",
    "    def list_items(self):\n",
    "        return self.items\n",
    "\n",
    "class GameCharacter:\n",
    "    def __init__(self, name, health):\n",
    "        self.name = name\n",
    "        self.health = health\n",
    "        self.weapon = None\n",
    "        self.armor = None\n",
    "        self.inventory = Inventory()\n",
    "\n",
    "    def equip_weapon(self, weapon):\n",
    "        self.weapon = weapon\n",
    "\n",
    "    def equip_armor(self, armor):\n",
    "        self.armor = armor\n",
    "\n",
    "    def attack(self, target):\n",
    "        if self.weapon:\n",
    "            damage_dealt = self.weapon.damage\n",
    "            target.take_damage(damage_dealt)\n",
    "            print(f\"{self.name} attacks {target.name} with {self.weapon.name} for {damage_dealt} damage.\")\n",
    "        else:\n",
    "            print(f\"{self.name} has no weapon to attack.\")\n",
    "\n",
    "    def take_damage(self, damage):\n",
    "        if self.armor:\n",
    "            damage -= self.armor.defense\n",
    "            if damage < 0:\n",
    "                damage = 0\n",
    "        self.health -= damage\n",
    "        if self.health < 0:\n",
    "            self.health = 0\n",
    "\n",
    "    def pick_up_item(self, item):\n",
    "        self.inventory.add_item(item)\n",
    "        print(f\"{self.name} picks up {item}.\")\n",
    "\n",
    "    def show_inventory(self):\n",
    "        print(f\"{self.name}'s Inventory:\")\n",
    "        for item in self.inventory.list_items():\n",
    "            print(f\"  - {item}\")\n",
    "\n",
    "# Create weapons, armor, and items\n",
    "sword = Weapon(\"Sword\", 20)\n",
    "shield = Armor(\"Shield\", 10)\n",
    "health_potion = \"Health Potion\"\n",
    "key = \"Key\"\n",
    "\n",
    "# Create game characters\n",
    "player = GameCharacter(\"Hero\", 100)\n",
    "enemy = GameCharacter(\"Dragon\", 200)\n",
    "\n",
    "# Equip the character\n",
    "player.equip_weapon(sword)\n",
    "player.equip_armor(shield)\n",
    "\n",
    "# Attack the enemy\n",
    "player.attack(enemy)\n",
    "enemy.attack(player)\n",
    "\n",
    "# Pick up items\n",
    "player.pick_up_item(health_potion)\n",
    "player.pick_up_item(key)\n",
    "\n",
    "# Show inventory\n",
    "player.show_inventory()\n"
   ]
  },
  {
   "cell_type": "markdown",
   "id": "3aec44ee-8224-4663-a811-357441cc6142",
   "metadata": {},
   "source": [
    "17. Describe the concept of \"aggregation\" in composition and how it differs from simple composition."
   ]
  },
  {
   "cell_type": "raw",
   "id": "279f0b88-f097-40cd-8662-e7c6bc27c997",
   "metadata": {},
   "source": [
    "\"Aggregation\" is a specific form of composition that represents a relationship between a whole and its parts, where the parts can exist independently of the whole. It is a stronger form of composition than simple composition and carries certain implications and characteristics that differentiate it from basic composition:\n",
    "\n",
    "Independent Existence: \n",
    "----------------------\n",
    "    In aggregation, the parts or components can exist independently of the whole. If the whole is destroyed, the parts can continue to exist. For example, in the context of a library system, books exist independently, and they can be part of multiple libraries or collections.\n",
    "\n",
    "\"Has-A\" Relationship: \n",
    "---------------------\n",
    "    Aggregation typically represents a \"has-a\" relationship, indicating that a whole object contains or is associated with parts. For instance, a university \"has\" departments, and each department \"has\" professors.\n",
    "\n",
    "Multiplicity: \n",
    "-------------\n",
    "    Aggregation can involve multiple instances of the same part within the whole. For example, a university department can have multiple professors.\n",
    "\n",
    "Directionality: \n",
    "--------------\n",
    "    Aggregation is usually unidirectional. The whole is aware of its parts, but the parts are not aware of the whole. In a university, a department knows about its professors, but professors may not have explicit knowledge of the department they are associated with.\n",
    "\n",
    "Weak Coupling: \n",
    "--------------                                                \n",
    "    Aggregation typically results in weaker coupling between the whole and its parts compared to more tightly coupled relationships. Changes in one part may not significantly affect other parts or the whole.\n",
    "\n",
    "Navigation: \n",
    "-----------\n",
    "    In aggregation, you can often navigate from the whole to its parts, but navigating from a part to the whole is not a common requirement.\n",
    "\n",
    "In contrast, simple composition (also known as \"strong composition\") represents a relationship where parts are entirely dependent on the whole. If the whole is destroyed, the parts are also destroyed. It implies a stronger relationship, and the parts may not have independent existence. This is typically seen in more tightly coupled relationships."
   ]
  },
  {
   "cell_type": "code",
   "execution_count": 110,
   "id": "00f77718-db5c-4f20-965d-fea706eea728",
   "metadata": {},
   "outputs": [
    {
     "name": "stdout",
     "output_type": "stream",
     "text": [
      "Car starting...\n",
      "Engine started\n"
     ]
    }
   ],
   "source": [
    "# Aggregation Example\n",
    "class Student:\n",
    "    def __init__(self, name):\n",
    "        self.name = name\n",
    "\n",
    "class University:\n",
    "    def __init__(self):\n",
    "        self.students = []  # Aggregating students\n",
    "\n",
    "    def add_student(self, student):\n",
    "        self.students.append(student)\n",
    "\n",
    "# Aggregation: Students can exist independently\n",
    "alice = Student(\"Alice\")\n",
    "bob = Student(\"Bob\")\n",
    "\n",
    "mit = University()\n",
    "mit.add_student(alice)\n",
    "mit.add_student(bob)\n",
    "\n",
    "# Simple Composition Example\n",
    "class Engine:\n",
    "    def start(self):\n",
    "        print(\"Engine started\")\n",
    "\n",
    "class Car:\n",
    "    def __init__(self):\n",
    "        self.engine = Engine()  # Composing an engine\n",
    "\n",
    "    def start(self):\n",
    "        print(\"Car starting...\")\n",
    "        self.engine.start()\n",
    "\n",
    "# Simple Composition: Engine is fully owned and encapsulated by the car\n",
    "my_car = Car()\n",
    "my_car.start()\n"
   ]
  },
  {
   "cell_type": "markdown",
   "id": "0205e8b2-1aa3-4c16-981e-f185c1a36777",
   "metadata": {},
   "source": [
    "18. Create a Python class for a house, using composition to represent rooms, furniture, and appliances."
   ]
  },
  {
   "cell_type": "code",
   "execution_count": 46,
   "id": "c46aa257-65cf-471f-aad8-c9d22bf1d782",
   "metadata": {},
   "outputs": [
    {
     "name": "stdout",
     "output_type": "stream",
     "text": [
      "My House\n",
      "Living Room\n",
      "Furniture: \n",
      "  - Sofa \n",
      "  - Coffee Table \n",
      "Appliances:\n",
      "  - TV\n",
      "\n",
      "Kitchen Room\n",
      "Furniture: \n",
      "  - Coffee Table \n",
      "Appliances:\n",
      "  - Refrigerator\n",
      "\n",
      "\n"
     ]
    }
   ],
   "source": [
    "class Furniture:\n",
    "    def __init__(self, name):\n",
    "        self.name = name\n",
    "\n",
    "    def __str__(self):\n",
    "        return f\"{self.name}\"\n",
    "\n",
    "class Appliances:\n",
    "    def __init__(self, name):\n",
    "        self.name = name\n",
    "\n",
    "    def __str__(self):\n",
    "        return f\"{self.name}\"\n",
    "\n",
    "class Rooms:\n",
    "    def __init__(self, name):\n",
    "        self.name = name\n",
    "        self.furniture = []\n",
    "        self.appliances = []\n",
    "\n",
    "    def add_furniture(self, furniture):\n",
    "        self.furniture.append(furniture)\n",
    "        \n",
    "    def add_appliance(self, appliance):\n",
    "        self.appliances.append(appliance)\n",
    "        \n",
    "    def __str__(self):\n",
    "        room_info = f\"{self.name} Room\\n\"\n",
    "        \n",
    "        if self.furniture:\n",
    "            room_info += \"Furniture: \\n\"\n",
    "            for item in self.furniture:\n",
    "                room_info += f\"  - {item} \\n\"\n",
    "                \n",
    "        if self.appliances:\n",
    "            room_info += \"Appliances:\\n\"\n",
    "            for item in self.appliances:\n",
    "                room_info += f\"  - {item}\\n\"\n",
    "                \n",
    "        return room_info\n",
    "\n",
    "\n",
    "class House:\n",
    "    def __init__(self, name):\n",
    "        self.name = name\n",
    "        self.rooms = []\n",
    "\n",
    "    def add_room(self, room):\n",
    "        self.rooms.append(room)\n",
    "\n",
    "    def __str__(self):\n",
    "        house_info = f\"{self.name} House\\n\"\n",
    "        for room in self.rooms:\n",
    "            house_info += str(room) + \"\\n\"\n",
    "        return house_info\n",
    "    \n",
    "# Create furniture and appliances\n",
    "sofa = Furniture(\"Sofa\")\n",
    "table = Furniture(\"Coffee Table\")\n",
    "tv = Appliances(\"TV\")\n",
    "fridge = Appliances(\"Refrigerator\")\n",
    "\n",
    "# Create rooms\n",
    "living_room = Rooms(\"Living\")\n",
    "kitchen = Rooms(\"Kitchen\")\n",
    "\n",
    "# Add furniture and appliances to rooms\n",
    "living_room.add_furniture(sofa)\n",
    "living_room.add_furniture(table)\n",
    "living_room.add_appliance(tv)\n",
    "\n",
    "kitchen.add_furniture(table)\n",
    "kitchen.add_appliance(fridge)\n",
    "\n",
    "# Create a house using composition\n",
    "my_house = House(\"My\")\n",
    "\n",
    "# Add rooms to the house\n",
    "my_house.add_room(living_room)\n",
    "my_house.add_room(kitchen)\n",
    "\n",
    "# Display house information\n",
    "print(my_house)\n"
   ]
  },
  {
   "cell_type": "markdown",
   "id": "d04a7f17-5c8b-4601-8ea9-d078283a7ca9",
   "metadata": {},
   "source": [
    "19. How can you achieve flexibility in composed objects by allowing them to be replaced or modified dynamically at runtime?"
   ]
  },
  {
   "cell_type": "raw",
   "id": "63a5bfd9-1b50-48da-8104-6cbff2492b22",
   "metadata": {},
   "source": [
    "Achieving flexibility in composed objects by allowing them to be replaced or modified dynamically at runtime can be accomplished through various design patterns and techniques. Here are some approaches to achieve this flexibility:\n",
    "\n",
    "Interface-Based Composition: \n",
    "----------------------------\n",
    "Define interfaces or abstract classes for the components within the composed objects. When you create an object, you can assign any object that implements the specified interface or extends the abstract class. This allows you to dynamically replace or modify components as long as they adhere to the interface.\n",
    "\n",
    "Dependency Injection: \n",
    "---------------------\n",
    "Use dependency injection to provide components to an object at runtime. You can inject components into an object, making it easy to replace or modify them without changing the object's code. Dependency injection frameworks like Guice or Spring can help manage these dependencies.\n",
    "\n",
    "Factory Method Pattern: \n",
    "-----------------------\n",
    "Implement the Factory Method pattern to create objects. The factory method can provide flexibility by allowing you to change the type of objects created at runtime. You can adjust the factory's behavior to create different instances of components.\n",
    "\n",
    "Builder Pattern: \n",
    "----------------\n",
    "Use the Builder pattern to construct complex composed objects. The builder can allow you to specify and replace components at runtime, providing flexibility in configuring composed objects.\n",
    "\n",
    "Decorator Pattern: \n",
    "------------------\n",
    "Apply the Decorator pattern to add or modify the behavior of individual components dynamically. Decorators can wrap components with additional functionality without altering the original component. This allows you to change the behavior of composed objects without altering their structure.\n",
    "\n",
    "Strategy Pattern: \n",
    "-----------------\n",
    "Implement the Strategy pattern to encapsulate different behaviors as separate strategies. At runtime, you can switch between strategies, effectively modifying the behavior of a composed object without changing its structure.\n",
    "\n",
    "Configuration Files: \n",
    "--------------------\n",
    "Use configuration files or external resources to specify which components to use. By reading component configurations from files, you can modify the behavior of a composed object without recompiling the code.\n",
    "\n",
    "Runtime Reflection and Dynamic Loading: \n",
    "---------------------------------------\n",
    "In some cases, you can use runtime reflection and dynamic loading to replace or modify components at runtime. Be cautious when using reflection, as it can lead to complex and less maintainable code.\n",
    "\n",
    "Dependency Injection Containers: \n",
    "--------------------------------\n",
    "Utilize dependency injection containers or inversion of control (IoC) containers, which provide a centralized way to configure and manage dependencies. These containers enable you to swap out components without altering the source code.\n",
    "\n",
    "Plugin System: \n",
    "--------------\n",
    "Design your composed objects with a plugin system that allows you to dynamically load and unload components or extensions. Plugins can be added, removed, or replaced without changing the core code.\n",
    "\n",
    "By using these techniques and design patterns, you can make your composed objects more flexible, allowing for dynamic replacement and modification of their components at runtime. The choice of approach depends on the specific requirements and architecture of your software system."
   ]
  },
  {
   "cell_type": "code",
   "execution_count": 109,
   "id": "7d575324-0767-45ba-8741-fef95372d5f0",
   "metadata": {},
   "outputs": [
    {
     "name": "stdout",
     "output_type": "stream",
     "text": [
      "Sorting using Bubble Sort\n",
      "Sorting using Quick Sort\n"
     ]
    }
   ],
   "source": [
    "class SortStrategy:\n",
    "    def sort(self, data):\n",
    "        pass\n",
    "\n",
    "class BubbleSort(SortStrategy):\n",
    "    def sort(self, data):\n",
    "        print(\"Sorting using Bubble Sort\")\n",
    "        # Implement the Bubble Sort algorithm here\n",
    "\n",
    "class QuickSort(SortStrategy):\n",
    "    def sort(self, data):\n",
    "        print(\"Sorting using Quick Sort\")\n",
    "        # Implement the Quick Sort algorithm here\n",
    "\n",
    "class Sorter:\n",
    "    def __init__(self, strategy):\n",
    "        self.strategy = strategy\n",
    "\n",
    "    def set_strategy(self, strategy):\n",
    "        self.strategy = strategy\n",
    "\n",
    "    def sort_data(self, data):\n",
    "        self.strategy.sort(data)\n",
    "\n",
    "# Usage of the Strategy Pattern\n",
    "data = [9, 1, 5, 3, 7]\n",
    "sorter = Sorter(BubbleSort())\n",
    "sorter.sort_data(data)\n",
    "\n",
    "sorter.set_strategy(QuickSort())\n",
    "sorter.sort_data(data)\n"
   ]
  },
  {
   "cell_type": "markdown",
   "id": "03843ab7-2d2d-433d-94ca-1c8bd2fadbf9",
   "metadata": {},
   "source": [
    "20. Create a Python class for a social media application, using composition to represent users, posts, and comments."
   ]
  },
  {
   "cell_type": "code",
   "execution_count": 48,
   "id": "3b6c2f4e-7b24-465a-9ac5-67ad3c97332c",
   "metadata": {},
   "outputs": [
    {
     "name": "stdout",
     "output_type": "stream",
     "text": [
      "alice (Alice Johnson)\n",
      "Post by alice: Hello, everyone!\n",
      "Comment by bob: Hi Alice, great to see you!\n",
      "\n",
      "bob (Bob Smith)\n",
      "Post by bob: Nice to be here!\n",
      "Comment by alice: Welcome, Bob!\n",
      "\n"
     ]
    }
   ],
   "source": [
    "class User:\n",
    "    def __init__(self, username, full_name, email):\n",
    "        self.username = username\n",
    "        self.full_name = full_name\n",
    "        self.email = email\n",
    "        self.posts = []\n",
    "\n",
    "    def create_post(self, content):\n",
    "        post = Post(content, self)\n",
    "        self.posts.append(post)\n",
    "        return post\n",
    "\n",
    "    def __str__(self):\n",
    "        return f\"{self.username} ({self.full_name})\"\n",
    "\n",
    "class Post:\n",
    "    def __init__(self, content, author):\n",
    "        self.content = content\n",
    "        self.author = author\n",
    "        self.comments = []\n",
    "\n",
    "    def add_comment(self, content, user):\n",
    "        comment = Comment(content, user)\n",
    "        self.comments.append(comment)\n",
    "        return comment\n",
    "\n",
    "    def __str__(self):\n",
    "        return f\"Post by {self.author.username}: {self.content}\"\n",
    "\n",
    "class Comment:\n",
    "    def __init__(self, content, user):\n",
    "        self.content = content\n",
    "        self.user = user\n",
    "\n",
    "    def __str__(self):\n",
    "        return f\"Comment by {self.user.username}: {self.content}\"\n",
    "\n",
    "class SocialMediaApp:\n",
    "    def __init__(self):\n",
    "        self.users = []\n",
    "\n",
    "    def create_user(self, username, full_name, email):\n",
    "        user = User(username, full_name, email)\n",
    "        self.users.append(user)\n",
    "        return user\n",
    "\n",
    "    def __str__(self):\n",
    "        return \"Social Media App\"\n",
    "\n",
    "# Create a social media application using composition\n",
    "app = SocialMediaApp()\n",
    "\n",
    "# Create users\n",
    "user1 = app.create_user(\"alice\", \"Alice Johnson\", \"alice@example.com\")\n",
    "user2 = app.create_user(\"bob\", \"Bob Smith\", \"bob@example.com\")\n",
    "\n",
    "# Users create posts and add comments\n",
    "post1 = user1.create_post(\"Hello, everyone!\")\n",
    "post2 = user2.create_post(\"Nice to be here!\")\n",
    "\n",
    "post1.add_comment(\"Hi Alice, great to see you!\", user2)\n",
    "post2.add_comment(\"Welcome, Bob!\", user1)\n",
    "\n",
    "# Display posts and comments\n",
    "for user in app.users:\n",
    "    print(user)\n",
    "    for post in user.posts:\n",
    "        print(post)\n",
    "        for comment in post.comments:\n",
    "            print(comment)\n",
    "    print()\n"
   ]
  }
 ],
 "metadata": {
  "kernelspec": {
   "display_name": "Python 3 (ipykernel)",
   "language": "python",
   "name": "python3"
  },
  "language_info": {
   "codemirror_mode": {
    "name": "ipython",
    "version": 3
   },
   "file_extension": ".py",
   "mimetype": "text/x-python",
   "name": "python",
   "nbconvert_exporter": "python",
   "pygments_lexer": "ipython3",
   "version": "3.10.8"
  }
 },
 "nbformat": 4,
 "nbformat_minor": 5
}
