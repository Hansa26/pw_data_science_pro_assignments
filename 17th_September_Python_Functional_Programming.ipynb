{
 "cells": [
  {
   "cell_type": "markdown",
   "id": "562589b0-ae9c-485d-8dd4-52dedfaa9318",
   "metadata": {
    "tags": []
   },
   "source": [
    "# For Loop"
   ]
  },
  {
   "cell_type": "markdown",
   "id": "90105c72-d70b-4c95-b900-a6bf3dbe1029",
   "metadata": {},
   "source": [
    "1. Write a Python program to print numbers from 1 to 10 using a for loop."
   ]
  },
  {
   "cell_type": "code",
   "execution_count": 2,
   "id": "73571e2c-74a5-483d-a15e-ce7ef9363ccc",
   "metadata": {},
   "outputs": [
    {
     "name": "stdout",
     "output_type": "stream",
     "text": [
      "1\n",
      "2\n",
      "3\n",
      "4\n",
      "5\n",
      "6\n",
      "7\n",
      "8\n",
      "9\n",
      "10\n"
     ]
    }
   ],
   "source": [
    "def print_numbers():\n",
    "    for i in range(1, 10+1):\n",
    "        print(i)\n",
    "\n",
    "# calling the function print_numbers\n",
    "print_numbers()"
   ]
  },
  {
   "cell_type": "markdown",
   "id": "6462ac16-d990-46d7-acf2-51420425ce23",
   "metadata": {},
   "source": [
    "2. Explain the difference between a for loop and a while loop in Python."
   ]
  },
  {
   "cell_type": "raw",
   "id": "4fb36ca2-0bd5-44ed-a4df-5e44ef1f21b1",
   "metadata": {},
   "source": [
    "                              For Loop                                          While Loop\n",
    "---------------------------------------------------------------------------------------------------------------------------\n",
    "1. for loop is executed for a certain number of times      |1. while loop is executed until the condition is not true\n",
    "                                                           |\n",
    "2. for loops are designed for iterating over a sequence of |2. while loop is used when the number of iterations is not \n",
    "   items.                                                  |   known in advance or when we want to repeat a block of code\n",
    "   Ex: List, Tuple, String, etc                            |   until a certain condition is met\n",
    "                                                           |\n",
    "3. For loop require a sequence to iterate over.            |3. While the loop requires an initial condition that is tested at the                                                                                                                    |   beginning of the loop.\n",
    "                                                           |\n",
    "4. For loop is typically used for iterating over a fixed   |4. While loop is used for more complex control flow situations.\n",
    "   sequence of items                                       |\n",
    "                                                           |\n",
    "5. For loop is more efficient than a while loop when       |5. While a loop may be more efficient in certain situations where the             \n",
    "   iterating over sequences, since the number of iterations|   condition being tested can be evaluated quickly.\n",
    "   is predetermined and the loop can be optimized          | \n",
    "   accordingly.                                            |\n",
    "                                                           |\n",
    "6. Syntax:                                                 |6. Syntax:\n",
    "    for i in <range or list or tuple or string>:           |    while condition:\n",
    "        # statements                                       |        # statements"
   ]
  },
  {
   "cell_type": "markdown",
   "id": "87ab1991-5272-46a3-bcd3-eda41df9db8b",
   "metadata": {},
   "source": [
    "3. Write a Python program to calculate the sum of all numbers from 1 to 100 using a for loop."
   ]
  },
  {
   "cell_type": "code",
   "execution_count": 3,
   "id": "69e36d09-afbf-4ae9-91e2-61c2ea4c1a66",
   "metadata": {},
   "outputs": [
    {
     "name": "stdout",
     "output_type": "stream",
     "text": [
      "The sum of all numbers from 1 to 100 is  5050\n"
     ]
    }
   ],
   "source": [
    "def sum_of_100():\n",
    "    total = 0\n",
    "    for i in range(1, 100+1):\n",
    "        total += i\n",
    "    return total\n",
    "\n",
    "print(\"The sum of all numbers from 1 to 100 is \", sum_of_100())"
   ]
  },
  {
   "cell_type": "markdown",
   "id": "9a0e65cc-c9b3-4423-abf4-3bf5ef1438f8",
   "metadata": {},
   "source": [
    "4. How do you iterate through a list using a for loop in Python?"
   ]
  },
  {
   "cell_type": "raw",
   "id": "e5230f9c-2d9c-42a5-a03e-6c88d1fc8c25",
   "metadata": {},
   "source": [
    "List is an iterable object.\n",
    "We can iterate through a list in Python using a for loop. The for loop allows you to go through each element in the list one by one. \n",
    "\n",
    "1. Using basic for loop:\n",
    "------------------------"
   ]
  },
  {
   "cell_type": "code",
   "execution_count": 1,
   "id": "105c3b31-6f38-4030-a6b9-303920a2c8d1",
   "metadata": {},
   "outputs": [
    {
     "name": "stdout",
     "output_type": "stream",
     "text": [
      "3\n",
      "4\n",
      "2\n",
      "3\n",
      "6\n",
      "7\n",
      "8\n"
     ]
    }
   ],
   "source": [
    "my_list = [3, 4, 2, 3, 6, 7, 8]\n",
    "\n",
    "for item in my_list:\n",
    "    print(item)"
   ]
  },
  {
   "cell_type": "raw",
   "id": "6697f6cb-8eb9-41b5-9a4e-aa696ee78d85",
   "metadata": {},
   "source": [
    "If you need to access the index of each element as well, you can use the enumerate function like this:"
   ]
  },
  {
   "cell_type": "code",
   "execution_count": 3,
   "id": "8408973f-f65d-4e90-afbd-bbcf495ce136",
   "metadata": {},
   "outputs": [
    {
     "name": "stdout",
     "output_type": "stream",
     "text": [
      "Index 1: apple\n",
      "Index 2: banana\n",
      "Index 3: cherry\n"
     ]
    }
   ],
   "source": [
    "my_list = ['apple', 'banana', 'cherry']\n",
    "\n",
    "for index, item in enumerate(my_list, 1): # can specify the index, from where you need to begin with.\n",
    "    print(f\"Index {index}: {item}\")"
   ]
  },
  {
   "cell_type": "markdown",
   "id": "01955fcb-e2ce-4f9a-abd2-11f62156b954",
   "metadata": {},
   "source": [
    "5. Write a Python program to find the product of all elements in a list using a for loop."
   ]
  },
  {
   "cell_type": "code",
   "execution_count": 15,
   "id": "4de15dd1-1190-49db-8a9f-3ce049133154",
   "metadata": {},
   "outputs": [
    {
     "name": "stdin",
     "output_type": "stream",
     "text": [
      "Do you want to generate the list of numbers manually or system generated ?\n",
      "1. Random\n",
      "2. Manual\n",
      " 2\n",
      "Enter the size of the list:  5\n",
      "Enter 1th element:  1\n",
      "Enter 2th element:  2\n",
      "Enter 3th element:  3\n",
      "Enter 4th element:  4\n",
      "Enter 5th element:  5\n"
     ]
    },
    {
     "name": "stdout",
     "output_type": "stream",
     "text": [
      "List = [1.0, 2.0, 3.0, 4.0, 5.0]\n",
      "Product of the elements of list: 120.0\n"
     ]
    }
   ],
   "source": [
    "import random\n",
    "\n",
    "def product_of_element(l):\n",
    "    prod = 1\n",
    "    for item in l:\n",
    "        prod *= item\n",
    "    \n",
    "    return prod\n",
    "\n",
    "try:\n",
    "    \n",
    "    choice = input(\"Do you want to generate the list of numbers manually or system generated ?\\n1. Random\\n2. Manual\\n\")\n",
    "    _list = []\n",
    "    if choice.lower() in ['1', 'random']:\n",
    "        size = int(input(\"Enter the size of the list: \"))\n",
    "        \n",
    "        _list = random.sample(range(100, 1000), size)\n",
    "        \n",
    "        \n",
    "    elif choice.lower() in ['2', 'manual']:\n",
    "        size = int(input(\"Enter the size of the list: \"))\n",
    "        \n",
    "        try:\n",
    "            for i in range(size):\n",
    "                _list.append(float(input(f\"Enter {i+1}th element: \")))\n",
    "        except Exception:\n",
    "            print(\"Invalid literal. Kindly enter numerical value\")\n",
    "            print(\"Please execute again!\")\n",
    "        \n",
    "    print(f\"List = {_list}\")\n",
    "            \n",
    "    print(f\"Product of the elements of list: {product_of_element(_list)}\")\n",
    "except Exception as ex:\n",
    "    print(ex)"
   ]
  },
  {
   "cell_type": "markdown",
   "id": "c8ee586f-60ac-4796-bb82-dd98f9033d21",
   "metadata": {},
   "source": [
    "6. Create a Python program that prints all even numbers from 1 to 20 using a for loop."
   ]
  },
  {
   "cell_type": "code",
   "execution_count": 16,
   "id": "428cc9e2-071d-4aff-8be2-f91375120016",
   "metadata": {},
   "outputs": [
    {
     "name": "stdout",
     "output_type": "stream",
     "text": [
      "The even numbers from 1 to 20 are: [2, 4, 6, 8, 10, 12, 14, 16, 18, 20]\n"
     ]
    }
   ],
   "source": [
    "def even_list():\n",
    "    even = []\n",
    "    for item in range(1, 20+1):\n",
    "        if item % 2 == 0:\n",
    "            even.append(item)\n",
    "    return even\n",
    "\n",
    "print(f\"The even numbers from 1 to 20 are: {even_list()}\")"
   ]
  },
  {
   "cell_type": "markdown",
   "id": "e750b8aa-5c1d-471f-a350-6dcd957a2c5a",
   "metadata": {},
   "source": [
    "7. Write a Python program that calculates the factorial of a number using a for loop."
   ]
  },
  {
   "cell_type": "code",
   "execution_count": 22,
   "id": "4d8a6216-1014-45c9-bfa0-57d576967827",
   "metadata": {},
   "outputs": [
    {
     "name": "stdin",
     "output_type": "stream",
     "text": [
      "Enter the number to find its factorial:  7\n"
     ]
    },
    {
     "name": "stdout",
     "output_type": "stream",
     "text": [
      "The factorial of the given number is: 5040\n"
     ]
    }
   ],
   "source": [
    "def factorial(n):\n",
    "    if n <= 1:\n",
    "        return 1\n",
    "    else:\n",
    "        fact = 1\n",
    "        for i in range(n, 0, -1):\n",
    "            fact *= i\n",
    "    return fact\n",
    "\n",
    "try:\n",
    "    num = int(input(\"Enter the number to find its factorial: \"))\n",
    "    print(f\"The factorial of the given number is: {factorial(num)}\")\n",
    "except (TypeError, ValueError) as ex:\n",
    "    print(\"Please enter numerical value.\")"
   ]
  },
  {
   "cell_type": "markdown",
   "id": "a30426b5-53df-46f7-bcf9-efcdd4ced389",
   "metadata": {},
   "source": [
    "8. How can you iterate through the characters of a string using a for loop in Python?"
   ]
  },
  {
   "cell_type": "raw",
   "id": "dcbbecac-d423-44e4-8f78-ed92a416bc15",
   "metadata": {},
   "source": [
    "String is an iterable object.\n",
    "\n",
    "We can iterate through the characters of a string in Python using a for loop, just like you would iterate through a list.\n",
    "In Python, strings are essentially sequences of characters, so you can treat them as iterable objects.\n"
   ]
  },
  {
   "cell_type": "code",
   "execution_count": 23,
   "id": "6381e979-2759-47bc-bb48-43ad512b43a6",
   "metadata": {},
   "outputs": [
    {
     "name": "stdout",
     "output_type": "stream",
     "text": [
      "H\n",
      "e\n",
      "l\n",
      "l\n",
      "o\n",
      ",\n",
      " \n",
      "W\n",
      "o\n",
      "r\n",
      "l\n",
      "d\n",
      "!\n"
     ]
    }
   ],
   "source": [
    "my_string = \"Hello, World!\"\n",
    "\n",
    "for char in my_string:\n",
    "    print(char)"
   ]
  },
  {
   "cell_type": "markdown",
   "id": "10a0a8f8-fa34-45d0-9dff-ba2fc56bf4c2",
   "metadata": {},
   "source": [
    "9. Write a Python program to find the largest number in a list using a for loop."
   ]
  },
  {
   "cell_type": "code",
   "execution_count": 25,
   "id": "37ce88ba-3ff8-49ea-98ed-9a81ff675e12",
   "metadata": {},
   "outputs": [
    {
     "name": "stdin",
     "output_type": "stream",
     "text": [
      "Do you want to generate the list of numbers manually or system generated ?\n",
      "1. Random\n",
      "2. Manual\n",
      " 2\n",
      "Enter the size of the list:  5\n",
      "Enter 1th element:  9\n",
      "Enter 2th element:  3\n",
      "Enter 3th element:  4\n",
      "Enter 4th element:  88\n",
      "Enter 5th element:  99\n"
     ]
    },
    {
     "name": "stdout",
     "output_type": "stream",
     "text": [
      "List = [9.0, 3.0, 4.0, 88.0, 99.0]\n",
      "Largest of the elements of list: 99.0\n"
     ]
    }
   ],
   "source": [
    "def largest_inside_list(l):\n",
    "    large = l[0]\n",
    "    \n",
    "    for i in l:\n",
    "        if i > large:\n",
    "            large = i\n",
    "    return large\n",
    "\n",
    "try:\n",
    "    \n",
    "    choice = input(\"Do you want to generate the list of numbers manually or system generated ?\\n1. Random\\n2. Manual\\n\")\n",
    "    _list = []\n",
    "    if choice.lower() in ['1', 'random']:\n",
    "        size = int(input(\"Enter the size of the list: \"))\n",
    "        \n",
    "        _list = random.sample(range(100, 1000), size)\n",
    "        \n",
    "        \n",
    "    elif choice.lower() in ['2', 'manual']:\n",
    "        size = int(input(\"Enter the size of the list: \"))\n",
    "        \n",
    "        try:\n",
    "            for i in range(size):\n",
    "                _list.append(float(input(f\"Enter {i+1}th element: \")))\n",
    "        except Exception:\n",
    "            print(\"Invalid literal. Kindly enter numerical value\")\n",
    "            print(\"Please execute again!\")\n",
    "        \n",
    "    print(f\"List = {_list}\")\n",
    "            \n",
    "    print(f\"Largest of the elements of list: {largest_inside_list(_list)}\")\n",
    "except Exception as ex:\n",
    "    print(ex)"
   ]
  },
  {
   "cell_type": "markdown",
   "id": "a142d65e-d6a7-47fd-805a-a440fad14e43",
   "metadata": {},
   "source": [
    "10. Create a Python program that prints the Fibonacci sequence up to a specified limit using a for loop."
   ]
  },
  {
   "cell_type": "code",
   "execution_count": 28,
   "id": "6c29117e-c7a4-4394-b16d-adc9c638aad7",
   "metadata": {},
   "outputs": [
    {
     "name": "stdin",
     "output_type": "stream",
     "text": [
      "Enter the number of fibonacci numbers:  2\n"
     ]
    },
    {
     "name": "stdout",
     "output_type": "stream",
     "text": [
      "The list of fibonacci numbers are: [0, 1]\n"
     ]
    }
   ],
   "source": [
    "def fibonacci(n):\n",
    "    a, b = 0, 1\n",
    "    fibo = []\n",
    "    for _ in range(n):\n",
    "        fibo.append(a)\n",
    "        a, b = b, a+b\n",
    "    \n",
    "    return fibo\n",
    "try:\n",
    "    num = int(input(\"Enter the number of fibonacci numbers: \"))\n",
    "    print(f\"The list of fibonacci numbers are: {fibonacci(num)}\")\n",
    "except (TypeError, ValueError) as ex:\n",
    "    print(\"Please enter numerical value.\")"
   ]
  },
  {
   "cell_type": "markdown",
   "id": "3071a786-a82d-47ef-a999-7828772eca21",
   "metadata": {},
   "source": [
    "11. Write a Python program to count the number of vowels in a given string using a for loop."
   ]
  },
  {
   "cell_type": "code",
   "execution_count": 3,
   "id": "21b37b6a-57b2-4a30-8053-d7268de94a90",
   "metadata": {},
   "outputs": [
    {
     "name": "stdin",
     "output_type": "stream",
     "text": [
      "Enter the string:  Vowels\n"
     ]
    },
    {
     "name": "stdout",
     "output_type": "stream",
     "text": [
      "The total vowels count in 'Vowels' is 2\n"
     ]
    }
   ],
   "source": [
    "\n",
    "\n",
    "string = input(\"Enter the string: \")\n",
    "\n",
    "def vowels_count(s):\n",
    "    \n",
    "    vowels = 'AEIOUaeiou'\n",
    "    vowel_count = 0\n",
    "    \n",
    "    for ch in s:\n",
    "        if ch in vowels:\n",
    "            vowel_count += 1\n",
    "    \n",
    "    return vowel_count\n",
    "\n",
    "\n",
    "print(f\"The total vowels count in '{string}' is {vowels_count(string)}\")\n"
   ]
  },
  {
   "cell_type": "markdown",
   "id": "87e30ec6-cf3b-4e55-a40a-8cbd0635d6fb",
   "metadata": {},
   "source": [
    "12. Create a Python program that generates a multiplication table for a given number using a for loop."
   ]
  },
  {
   "cell_type": "code",
   "execution_count": 4,
   "id": "50a5d459-cbb4-42c0-a398-ad3a794b24c2",
   "metadata": {},
   "outputs": [
    {
     "name": "stdin",
     "output_type": "stream",
     "text": [
      "Enter the number that you want to find the multiple for:  2\n"
     ]
    },
    {
     "name": "stdout",
     "output_type": "stream",
     "text": [
      "The table of 2\n",
      "2 X 1 = 2\n",
      "2 X 2 = 4\n",
      "2 X 3 = 6\n",
      "2 X 4 = 8\n",
      "2 X 5 = 10\n",
      "2 X 6 = 12\n",
      "2 X 7 = 14\n",
      "2 X 8 = 16\n",
      "2 X 9 = 18\n",
      "2 X 10 = 20\n"
     ]
    }
   ],
   "source": [
    "number = int(input(\"Enter the number that you want to find the multiple for: \"))\n",
    "print(f\"The table of {number}\")\n",
    "for i in range(1, 10+1):\n",
    "    print(f\"{number} X {i} = {number*i}\")"
   ]
  },
  {
   "cell_type": "markdown",
   "id": "262bb2da-75a7-49c1-a90c-c6f76e7e23ad",
   "metadata": {},
   "source": [
    "13. Write a Python program to reverse a list using a for loop."
   ]
  },
  {
   "cell_type": "code",
   "execution_count": 10,
   "id": "32055448-2116-4294-9fb5-c1c5791d2c33",
   "metadata": {},
   "outputs": [
    {
     "name": "stdout",
     "output_type": "stream",
     "text": [
      "Original List: ['Hansa', 'Pwskills', 1, 2, (5+6j), True]\n",
      "Reversed List: [True, (5+6j), 2, 1, 'Pwskills', 'Hansa']\n"
     ]
    }
   ],
   "source": [
    "li = ['Hansa', 'Pwskills', 1, 2, 5+6j, True]\n",
    "\n",
    "def reversed_list(l):\n",
    "    rev_list = []\n",
    "    for i in l:\n",
    "        rev_list.insert(0, i) # inserting element at the 0th index would reverse the item in the list\n",
    "    return rev_list\n",
    "\n",
    "print(f\"Original List: {li}\")\n",
    "print(f\"Reversed List: {reversed_list(li)}\")"
   ]
  },
  {
   "cell_type": "markdown",
   "id": "3a314fef-6ae7-4d3b-a6e8-1a8553d46316",
   "metadata": {},
   "source": [
    "14. Write a Python program to find the common elements between two lists using a for loop."
   ]
  },
  {
   "cell_type": "code",
   "execution_count": 23,
   "id": "08ed1076-bf76-414f-acd5-de62e05c17eb",
   "metadata": {},
   "outputs": [
    {
     "name": "stdin",
     "output_type": "stream",
     "text": [
      "Enter the size of list 1  4\n",
      "Enter the size of list 2  3\n"
     ]
    },
    {
     "name": "stdout",
     "output_type": "stream",
     "text": [
      "Enter the elements for first list: \n"
     ]
    },
    {
     "name": "stdin",
     "output_type": "stream",
     "text": [
      "Enter 1th element a\n",
      "Enter 2th element b\n",
      "Enter 3th element c\n",
      "Enter 4th element d\n"
     ]
    },
    {
     "name": "stdout",
     "output_type": "stream",
     "text": [
      "Enter the elements for second list: \n"
     ]
    },
    {
     "name": "stdin",
     "output_type": "stream",
     "text": [
      "Enter 1th element 1\n",
      "Enter 2th element 2\n",
      "Enter 3th element d\n"
     ]
    },
    {
     "name": "stdout",
     "output_type": "stream",
     "text": [
      "List 1: ['a', 'b', 'c', 'd']\n",
      "List 2: ['1', '2', 'd']\n",
      "Common Elements: ['d']\n"
     ]
    }
   ],
   "source": [
    "def collect_items():\n",
    "    l1_size = int(input(\"Enter the size of list 1 \"))\n",
    "    l2_size = int(input(\"Enter the size of list 2 \"))\n",
    "    \n",
    "    l1 = []\n",
    "    l2 = []\n",
    "    \n",
    "    print(\"Enter the elements for first list: \")\n",
    "    for i in range(l1_size):\n",
    "        l1.append(input(f\"Enter {i+1}th element\"))\n",
    "        \n",
    "    print(\"Enter the elements for second list: \")\n",
    "    for j in range(l2_size):\n",
    "        l2.append(input(f\"Enter {j+1}th element\"))\n",
    "        \n",
    "    return l1, l2\n",
    "\n",
    "\n",
    "list1, list2 = collect_items()\n",
    "print(f\"List 1: {list1}\\nList 2: {list2}\")\n",
    "\n",
    "def common_elements(l1, l2):\n",
    "    \n",
    "    common = [i for i in l1 for j in l2 if i == j]\n",
    "    return common\n",
    "\n",
    "print(f\"Common Elements: {common_elements(list1, list2)}\")"
   ]
  },
  {
   "cell_type": "markdown",
   "id": "7dae3837-8fa9-47d9-9fc4-66284c4899d5",
   "metadata": {},
   "source": [
    "15. Explain how to use a for loop to iterate through the keys and values of a dictionary in Python."
   ]
  },
  {
   "cell_type": "raw",
   "id": "6f235443-e9fa-431a-8f2f-51cf02203dab",
   "metadata": {},
   "source": [
    "We can use a 'for' loop to iterate through the keys and values of a dictionary in Python by using the '.items()' method of the dictionary.\n",
    "This method returns a view object that contains key-value pairs as tuples."
   ]
  },
  {
   "cell_type": "code",
   "execution_count": 24,
   "id": "03712ae8-c3f4-4399-ac67-4aa08ab69593",
   "metadata": {},
   "outputs": [
    {
     "name": "stdout",
     "output_type": "stream",
     "text": [
      "Key: Name, Value: Hansa\n",
      "Key: Age, Value: 26\n",
      "Key: Occupation, Value: Lead Engineer\n"
     ]
    }
   ],
   "source": [
    "# Creating a sample dictionary\n",
    "\n",
    "my_dict = {'Name': 'Hansa', 'Age': 26, 'Occupation': 'Lead Engineer'}\n",
    "\n",
    "# iterate through my_dict dictionary using .items() --> This would be iterated as key and values\n",
    "\n",
    "for key, value in my_dict.items():\n",
    "    print(f\"Key: {key}, Value: {value}\")"
   ]
  },
  {
   "cell_type": "markdown",
   "id": "c6d4925a-7626-4e7c-9035-e40e5b50a14b",
   "metadata": {},
   "source": [
    "16. Write a Python program to find the GCD (Greatest Common Divisor) of two numbers using a for loop."
   ]
  },
  {
   "cell_type": "raw",
   "id": "abb46187-2ced-44d0-8c54-a3c57611323b",
   "metadata": {},
   "source": [
    "# General logic to find GCD:\n",
    "def find_gcd(a, b):\n",
    "    while b:\n",
    "        a, b = b, a % b\n",
    "    return a"
   ]
  },
  {
   "cell_type": "code",
   "execution_count": 29,
   "id": "50537333-6486-4c83-9b83-f27f85a1c0da",
   "metadata": {},
   "outputs": [
    {
     "name": "stdin",
     "output_type": "stream",
     "text": [
      "Enter the first number:  46\n",
      "Enter the second number:  6\n"
     ]
    },
    {
     "name": "stdout",
     "output_type": "stream",
     "text": [
      "The GCD of 46 and 6 is 2\n"
     ]
    }
   ],
   "source": [
    "def find_gcd(a, b):\n",
    "    for i in range(min(a, b), 0, -1):\n",
    "        if a % i == 0 and b % i == 0:\n",
    "            return i\n",
    "\n",
    "# Input two numbers\n",
    "num1 = int(input(\"Enter the first number: \"))\n",
    "num2 = int(input(\"Enter the second number: \"))\n",
    "\n",
    "# Calculate and print the GCD\n",
    "gcd = find_gcd(num1, num2)\n",
    "print(f\"The GCD of {num1} and {num2} is {gcd}\")"
   ]
  },
  {
   "cell_type": "markdown",
   "id": "15eccc9e-1d85-4735-b3aa-3d889eb65607",
   "metadata": {},
   "source": [
    "17. Create a Python program that checks if a string is a palindrome using a for loop."
   ]
  },
  {
   "cell_type": "code",
   "execution_count": 36,
   "id": "0d28e8e4-784c-476c-9fe6-accef7989cc6",
   "metadata": {},
   "outputs": [
    {
     "name": "stdin",
     "output_type": "stream",
     "text": [
      "Enter the string:  Was it a car or a cat I saw?\n"
     ]
    },
    {
     "name": "stdout",
     "output_type": "stream",
     "text": [
      "The Original String: Was it a car or a cat I saw?\n",
      "Pale: WasitacaroracatIsaw\n",
      "It's a Palindrome!\n"
     ]
    }
   ],
   "source": [
    "def collect_string():\n",
    "    \"\"\"\n",
    "    This function collects a string and then returns the original string and only string (excluding special characters)\n",
    "    Remove spaces and punctuation, and convert to lowercase\n",
    "    \"\"\"\n",
    "    string = input(\"Enter the string: \")\n",
    "    \n",
    "    # to extract a pale string:\n",
    "    pale_string_list = []\n",
    "    for i in string:\n",
    "        if i.isalnum():\n",
    "            pale_string_list.append(i)\n",
    "    return string, ''.join(pale_string_list)\n",
    "\n",
    "def check_palindrome(s):\n",
    "    \"\"\"\n",
    "    This function would return True or False if it's palindrome or not respectively\n",
    "    \"\"\"\n",
    "    pal_list = []\n",
    "    for i in s.lower():\n",
    "        pal_list.insert(0, i)\n",
    "        \n",
    "    if s.lower() == ''.join(pal_list):\n",
    "        return True\n",
    "    else:\n",
    "        return False\n",
    "    \n",
    "str_, pale_string = collect_string()\n",
    "print(f\"The Original String: {str_}\")\n",
    "\n",
    "if check_palindrome(pale_string):\n",
    "    print(\"It's a Palindrome!\")\n",
    "else:\n",
    "    print(\"It's not a Palindrome\")"
   ]
  },
  {
   "cell_type": "markdown",
   "id": "ca0e9ad1-381e-479b-9e99-6d44116cffd1",
   "metadata": {},
   "source": [
    "18. Write a Python program to remove duplicates from a list using a for loop."
   ]
  },
  {
   "cell_type": "code",
   "execution_count": 37,
   "id": "7779cdef-0883-444b-b1a9-db3c94b6065e",
   "metadata": {},
   "outputs": [
    {
     "name": "stdin",
     "output_type": "stream",
     "text": [
      "Enter the size of the list:  4\n"
     ]
    },
    {
     "name": "stdout",
     "output_type": "stream",
     "text": [
      "Enter the items of the list: \n"
     ]
    },
    {
     "name": "stdin",
     "output_type": "stream",
     "text": [
      "Enter 1th element:  a\n",
      "Enter 2th element:  b\n",
      "Enter 3th element:  a\n",
      "Enter 4th element:  1\n"
     ]
    },
    {
     "name": "stdout",
     "output_type": "stream",
     "text": [
      "List = ['a', 'b', 'a', '1']\n",
      "The Clean List without duplicate elements: ['b', '1']\n"
     ]
    }
   ],
   "source": [
    "def collect_list():\n",
    "    size = int(input(\"Enter the size of the list: \"))\n",
    "    \n",
    "    list_ = []\n",
    "    print(\"Enter the items of the list: \")\n",
    "    for i in range(size):\n",
    "        list_.append(input(f\"Enter {i+1}th element: \"))\n",
    "        \n",
    "    print(f\"Original List = {list_}\")\n",
    "    return list_\n",
    "\n",
    "def remove_dumplicates(l):\n",
    "    ch = {} # to keep the item count\n",
    "    \n",
    "    for i in l:\n",
    "        if i in ch:\n",
    "            ch[i] += 1\n",
    "        else:\n",
    "            ch[i] = 1\n",
    "            \n",
    "    clean_list = []\n",
    "    \n",
    "    for k, v in ch.items():\n",
    "        if v == 1: # if the value is exactly 1, then it means that item is unique inside the list\n",
    "            clean_list.append(k)\n",
    "    \n",
    "    return clean_list\n",
    "\n",
    "li = collect_list()\n",
    "\n",
    "print(f\"The Clean List without duplicate elements: {remove_dumplicates(li)}\")"
   ]
  },
  {
   "cell_type": "markdown",
   "id": "0629f67e-54c3-483b-b8a1-d515a2c41976",
   "metadata": {},
   "source": [
    "19. Create a Python program that counts the number of words in a sentence using a for loop."
   ]
  },
  {
   "cell_type": "code",
   "execution_count": 39,
   "id": "fad8511f-2a0d-491d-b09b-98075d8bb161",
   "metadata": {},
   "outputs": [
    {
     "name": "stdin",
     "output_type": "stream",
     "text": [
      "Enter the sentence:  A man, a plan, a canal, Panama!\n"
     ]
    },
    {
     "name": "stdout",
     "output_type": "stream",
     "text": [
      "There are 7 words\n"
     ]
    }
   ],
   "source": [
    "string = input(\"Enter the sentence: \")\n",
    "\n",
    "string_list = string.split(' ')\n",
    "\n",
    "count = 0\n",
    "for _ in string_list:\n",
    "    count += 1\n",
    "    \n",
    "print(f\"There are {count} words\")"
   ]
  },
  {
   "cell_type": "markdown",
   "id": "733ba84c-42e0-4220-9821-34d6b36571e3",
   "metadata": {},
   "source": [
    "20. Write a Python program to find the sum of all odd numbers from 1 to 50 using a for loop."
   ]
  },
  {
   "cell_type": "code",
   "execution_count": 41,
   "id": "23ad813d-50cb-4fa2-8cfd-c73e314b876c",
   "metadata": {},
   "outputs": [
    {
     "name": "stdout",
     "output_type": "stream",
     "text": [
      "The sum of all odd numbers from 1 to 50 is: 625\n"
     ]
    }
   ],
   "source": [
    "def sum_odd():\n",
    "    return sum(x for x in range(1, 50+1) if x % 2 != 0)\n",
    "\n",
    "print(f\"The sum of all odd numbers from 1 to 50 is: {sum_odd()}\")"
   ]
  },
  {
   "cell_type": "markdown",
   "id": "82f4c403-f968-404c-8094-1e87d8561382",
   "metadata": {},
   "source": [
    "21. Write a Python program that checks if a given year is a leap year using a for loop."
   ]
  },
  {
   "cell_type": "code",
   "execution_count": 45,
   "id": "f3d804d5-bbb4-4c70-88ad-cabbf1bd956f",
   "metadata": {},
   "outputs": [
    {
     "name": "stdin",
     "output_type": "stream",
     "text": [
      "Enter the start year:  200\n",
      "Enter the end year:  300\n"
     ]
    },
    {
     "name": "stdout",
     "output_type": "stream",
     "text": [
      "Leap years between 200 and 300: [204, 208, 212, 216, 220, 224, 228, 232, 236, 240, 244, 248, 252, 256, 260, 264, 268, 272, 276, 280, 284, 288, 292, 296]\n"
     ]
    }
   ],
   "source": [
    "def is_leap_year(year):\n",
    "    if year % 400 == 0 or (year % 100 != 0 and year % 4 == 0):\n",
    "        return True\n",
    "    else:\n",
    "        return False\n",
    "    \n",
    "def print_leap_year(start_year, end_year):\n",
    "    \n",
    "    leap_list = []\n",
    "    \n",
    "    for year in range(start_year, end_year+1):\n",
    "        if is_leap_year(year):\n",
    "            leap_list.append(year)\n",
    "    \n",
    "    return leap_list\n",
    "\n",
    "try:\n",
    "    start_year = int(input(\"Enter the start year: \"))\n",
    "    end_year = int(input(\"Enter the end year: \"))\n",
    "\n",
    "    if print_leap_year(start_year, end_year):\n",
    "        print(f\"Leap years between {start_year} and {end_year}: {print_leap_year(start_year, end_year)}\")\n",
    "    else:\n",
    "        print(f\"No leap years between {start_year} and {end_year}\")\n",
    "except (TypeError, ValueError) as ex:\n",
    "    print(\"Please input numerical value: \", ex)"
   ]
  },
  {
   "cell_type": "markdown",
   "id": "587945c0-c6ff-43c1-b49e-92fdc40a6ed5",
   "metadata": {},
   "source": [
    "22. Create a Python program that calculates the square root of a number using a for loop."
   ]
  },
  {
   "cell_type": "code",
   "execution_count": 48,
   "id": "aaa1dc7e-deed-4e46-8253-c166994e9303",
   "metadata": {},
   "outputs": [
    {
     "name": "stdin",
     "output_type": "stream",
     "text": [
      "Enter a number:  55\n"
     ]
    },
    {
     "name": "stdout",
     "output_type": "stream",
     "text": [
      "The approximate square root of 55.0 is 7.416198487095663\n"
     ]
    }
   ],
   "source": [
    "def calculate_square_root(num, iterations=1000):\n",
    "    \n",
    "    random = num / 2\n",
    "    \n",
    "    # using for loop to calculate the square root\n",
    "    \n",
    "    for _ in range(iterations):\n",
    "        random = (random + num / random) / 2\n",
    "        \n",
    "    return random\n",
    "try:\n",
    "    number = float(input(\"Enter a number: \"))\n",
    "\n",
    "    if number <= 0:\n",
    "        print(\"Cannot calculate the square root of a negative number.\")\n",
    "    else:\n",
    "        sqrt_approx = calculate_square_root(number)\n",
    "        print(f\"The approximate square root of {number} is {sqrt_approx}\")\n",
    "except ValueError:\n",
    "    print(\"Please enter numerical values only!\")"
   ]
  },
  {
   "cell_type": "markdown",
   "id": "b4085a50-6023-485b-a02a-30f3e5fce28a",
   "metadata": {},
   "source": [
    "23. Write a Python program to find the LCM (Least Common Multiple) of two numbers using a for loop."
   ]
  },
  {
   "cell_type": "code",
   "execution_count": 54,
   "id": "6e7e0d17-6c8d-4417-b82d-707e330f33cc",
   "metadata": {},
   "outputs": [
    {
     "name": "stdin",
     "output_type": "stream",
     "text": [
      "Enter the first number:  5\n",
      "Enter the second number:  35\n"
     ]
    },
    {
     "name": "stdout",
     "output_type": "stream",
     "text": [
      "The LCM of 5 and 35 is 35\n"
     ]
    }
   ],
   "source": [
    "def find_gcd(a, b):\n",
    "    while b:\n",
    "        a, b = b, a % b\n",
    "    return a\n",
    "\n",
    "def find_lcm(num1, num2):\n",
    "    if num1 == 0 or num2 == 0:\n",
    "        return 0\n",
    "    else:\n",
    "        gcd = find_gcd(num1, num2)\n",
    "        lcm = (num1 * num2) // gcd\n",
    "        return lcm\n",
    "\n",
    "# Input two numbers\n",
    "num1 = int(input(\"Enter the first number: \"))\n",
    "num2 = int(input(\"Enter the second number: \"))\n",
    "\n",
    "# Calculate and print the LCM\n",
    "lcm = find_lcm(num1, num2)\n",
    "print(f\"The LCM of {num1} and {num2} is {lcm}\")\n"
   ]
  },
  {
   "cell_type": "code",
   "execution_count": 58,
   "id": "7a1b2304-4ad3-47f1-9f24-9fc914332d89",
   "metadata": {},
   "outputs": [
    {
     "name": "stdin",
     "output_type": "stream",
     "text": [
      "Enter the first number:  50\n",
      "Enter the second number:  100\n"
     ]
    },
    {
     "name": "stdout",
     "output_type": "stream",
     "text": [
      "[100, 200, 300, 400, 500, 600, 700, 800, 900, 1000, 1100, 1200, 1300, 1400, 1500, 1600, 1700, 1800, 1900, 2000, 2100, 2200, 2300, 2400, 2500, 2600, 2700, 2800, 2900, 3000, 3100, 3200, 3300, 3400, 3500, 3600, 3700, 3800, 3900, 4000, 4100, 4200, 4300, 4400, 4500, 4600, 4700, 4800, 4900, 5000]\n",
      "The LCM of 50 and 100 is 100\n"
     ]
    }
   ],
   "source": [
    "try:\n",
    "    num1 = int(input(\"Enter the first number: \"))\n",
    "    num2 = int(input(\"Enter the second number: \"))\n",
    "    \n",
    "    max_num = max(num1, num2)\n",
    "    \n",
    "    for i in range(max_num, (num1 * num2) + 1, max_num):\n",
    "        if i % num1 == 0 and i % num2 == 0:\n",
    "            lcm = i\n",
    "            break\n",
    "            \n",
    "    print(f\"The LCM of {num1} and {num2} is {lcm}\")\n",
    "\n",
    "except ValueError:\n",
    "    print(\"Please enter only numerical value\")"
   ]
  },
  {
   "cell_type": "markdown",
   "id": "1b29b336-59cc-40f7-a776-aab8509ae204",
   "metadata": {
    "tags": []
   },
   "source": [
    "# If Else"
   ]
  },
  {
   "cell_type": "markdown",
   "id": "b3b80943-240c-41f1-83dc-f286f96dc1cf",
   "metadata": {},
   "source": [
    "1. Write a Python program to check if a number is positive, negative, or zero using an if-else statement."
   ]
  },
  {
   "cell_type": "code",
   "execution_count": 63,
   "id": "28c7ba02-9c8c-467f-bd45-d7c99e0fc691",
   "metadata": {},
   "outputs": [
    {
     "name": "stdin",
     "output_type": "stream",
     "text": [
      "Enter a number:  0\n"
     ]
    },
    {
     "name": "stdout",
     "output_type": "stream",
     "text": [
      "Number is ZERO\n"
     ]
    }
   ],
   "source": [
    "try:\n",
    "    num = float(input(\"Enter a number: \"))\n",
    "    \n",
    "    if num > 0:\n",
    "        print(\"Number is Positive\")\n",
    "    elif num == 0:\n",
    "        print(\"Number is ZERO\")\n",
    "    else:\n",
    "        print(\"Number is Negative\")\n",
    "except ValueError:\n",
    "    print(\"Please enter only numerical value!\")"
   ]
  },
  {
   "cell_type": "markdown",
   "id": "a7acf458-c048-418d-b7b1-8b87a5b79404",
   "metadata": {},
   "source": [
    "2. Create a Python program that checks if a given number is even or odd using an if-else statement."
   ]
  },
  {
   "cell_type": "code",
   "execution_count": 71,
   "id": "144e6a5d-80ec-4868-80cd-f6344340eea0",
   "metadata": {},
   "outputs": [
    {
     "name": "stdin",
     "output_type": "stream",
     "text": [
      "Enter a number:  7\n"
     ]
    },
    {
     "name": "stdout",
     "output_type": "stream",
     "text": [
      "Number is Odd\n"
     ]
    }
   ],
   "source": [
    "try:\n",
    "    num = int(input(\"Enter a number: \"))\n",
    "    \n",
    "    if num % 2 == 0:\n",
    "        print(\"Number is Even\")\n",
    "    else:\n",
    "        print(\"Number is Odd\")\n",
    "except ValueError:\n",
    "    print(\"Please enter only numerical value!\")"
   ]
  },
  {
   "cell_type": "markdown",
   "id": "744c38af-b836-4de9-b00e-f51d5862d83f",
   "metadata": {},
   "source": [
    "3. How can you use nested if-else statements in Python, and provide an example?"
   ]
  },
  {
   "cell_type": "raw",
   "id": "a33dc37e-c927-4862-8ddd-fcfdc685810d",
   "metadata": {},
   "source": [
    "We can use nested if-else statements to create conditional logic that contains multiple levels of branching. \n",
    "This allows you to make decisions based on multiple conditions or perform more complex conditional checks. \n",
    "Nested if-else statements are constructed by placing one if-else block inside another."
   ]
  },
  {
   "cell_type": "code",
   "execution_count": null,
   "id": "1066799f-9a95-4c37-a91c-ea6710c371f1",
   "metadata": {},
   "outputs": [],
   "source": [
    "# Syntax\n",
    "if condition1:\n",
    "    if condition2:\n",
    "        if condition3:\n",
    "            pass # Code to execute when both condition1, condition2 and condition3 are True\n",
    "        elif condition4:\n",
    "            pass # Code to execute when both condition1, condition2 and condition4 are True\n",
    "        else:\n",
    "            pass # Code to execute when both condition1, condition2 are True\n",
    "    elif condition5:\n",
    "            pass # Code to execute when both condition1 and condition5 are True\n",
    "        if condition6:\n",
    "            pass # Code to execute when both condition1, condition5 and condition6 are True\n",
    "        else:\n",
    "            pass # Code to execute when both condition1, condition5 are True and condition6 is not True\n",
    "    else:\n",
    "        pass # Code to execute when both condition2, condition5 are False\n",
    "else:\n",
    "    pass # code to execute when condition1 is False"
   ]
  },
  {
   "cell_type": "code",
   "execution_count": 74,
   "id": "45954849-e761-4794-b8b2-26162b088ac4",
   "metadata": {},
   "outputs": [
    {
     "name": "stdin",
     "output_type": "stream",
     "text": [
      "Enter a month (1-12):  13\n"
     ]
    },
    {
     "name": "stdout",
     "output_type": "stream",
     "text": [
      "Invalid month entered. Please enter a number between 1 and 12.\n"
     ]
    }
   ],
   "source": [
    "# Example to check the season of the year\n",
    "month = int(input(\"Enter a month (1-12): \"))\n",
    "\n",
    "if 1 <= month <= 12:\n",
    "    if 3 <= month <= 5:\n",
    "        season = \"Spring\"\n",
    "    elif 6 <= month <= 8:\n",
    "        season = \"Summer\"\n",
    "    elif 9 <= month <= 11:\n",
    "        season = \"Fall\"\n",
    "    else:\n",
    "        season = \"Winter\"\n",
    "\n",
    "    print(f\"The season for month {month} is {season}.\")\n",
    "else:\n",
    "    print(\"Invalid month entered. Please enter a number between 1 and 12.\")\n"
   ]
  },
  {
   "cell_type": "markdown",
   "id": "6683cdb1-ac9c-4238-a455-1fa458857236",
   "metadata": {},
   "source": [
    "4. Write a Python program to determine the largest of three numbers using if-else."
   ]
  },
  {
   "cell_type": "code",
   "execution_count": 3,
   "id": "12f9e6fa-5cfa-4564-9719-2e286a4d2d4c",
   "metadata": {},
   "outputs": [
    {
     "name": "stdin",
     "output_type": "stream",
     "text": [
      "Enter 1st number:  0.01\n",
      "Enter 2nd number:  0.001\n",
      "Enter 3rd number:  0.0001\n"
     ]
    },
    {
     "name": "stdout",
     "output_type": "stream",
     "text": [
      "The largest of the given three numbers is: 0.01\n"
     ]
    }
   ],
   "source": [
    "def largest_of_three(a, b, c):\n",
    "    if a >= b and a >= c:\n",
    "        largest = a\n",
    "    elif b >= a and b >= c:\n",
    "        largest = b\n",
    "    else:\n",
    "        largest = c\n",
    "    \n",
    "    return largest\n",
    "\n",
    "try:\n",
    "    a = float(input(\"Enter 1st number: \"))\n",
    "    b = float(input(\"Enter 2nd number: \"))\n",
    "    c = float(input(\"Enter 3rd number: \"))\n",
    "    \n",
    "    print(f\"The largest of the given three numbers is: {largest_of_three(a, b, c)}\")\n",
    "    \n",
    "except ValueError:\n",
    "    print(\"Please enter numerical value\")"
   ]
  },
  {
   "cell_type": "markdown",
   "id": "e2e68678-8e69-47c9-93b1-a828f01111dc",
   "metadata": {},
   "source": [
    "5. Write a Python program that calculates the absolute value of a number using if-else."
   ]
  },
  {
   "cell_type": "code",
   "execution_count": 17,
   "id": "47e81977-0a69-4c36-be4b-6d247061f716",
   "metadata": {},
   "outputs": [
    {
     "name": "stdin",
     "output_type": "stream",
     "text": [
      "Enter the number:  0\n"
     ]
    },
    {
     "name": "stdout",
     "output_type": "stream",
     "text": [
      "The absolute value of '0.0' is '-0.0'\n"
     ]
    }
   ],
   "source": [
    "num = float(input(\"Enter the number: \"))\n",
    "\n",
    "if num > 0:\n",
    "    abs_value = num\n",
    "else:\n",
    "    abs_value = -num\n",
    "    \n",
    "print(f\"The absolute value of '{num}' is '{abs_value}'\")"
   ]
  },
  {
   "cell_type": "markdown",
   "id": "cc4079d6-6e7d-479c-98be-156e2e3c6a63",
   "metadata": {},
   "source": [
    "6. Create a Python program that checks if a given character is a vowel or consonant using if-else."
   ]
  },
  {
   "cell_type": "code",
   "execution_count": 21,
   "id": "32e7cd43-01ad-437a-b54a-01cb2217ad5e",
   "metadata": {},
   "outputs": [
    {
     "name": "stdin",
     "output_type": "stream",
     "text": [
      "Enter a single character:  y\n"
     ]
    },
    {
     "name": "stdout",
     "output_type": "stream",
     "text": [
      "y is a consonant\n"
     ]
    }
   ],
   "source": [
    "vowels = 'AEIOUaeiou'\n",
    "\n",
    "ch = input(\"Enter a single character: \")\n",
    "\n",
    "if len(ch) == 1:\n",
    "    if ch in vowels:\n",
    "        print(f\"{ch} is a vowel\")\n",
    "    else:\n",
    "        print(f\"{ch} is a consonant\")\n",
    "else:\n",
    "    print(\"Please enter a single character.\")"
   ]
  },
  {
   "cell_type": "markdown",
   "id": "65e56d05-348f-4120-ac3e-249964acc931",
   "metadata": {},
   "source": [
    "7. Write a Python program to determine if a user is eligible to vote based on their age using if-else."
   ]
  },
  {
   "cell_type": "code",
   "execution_count": 26,
   "id": "7c05b7cb-5aff-4695-ae73-1be2502a875a",
   "metadata": {},
   "outputs": [
    {
     "name": "stdin",
     "output_type": "stream",
     "text": [
      "Enter your age:  17\n"
     ]
    },
    {
     "name": "stdout",
     "output_type": "stream",
     "text": [
      "Kindly wait for 1 years to vote!\n"
     ]
    }
   ],
   "source": [
    "age = int(input(\"Enter your age: \"))\n",
    "\n",
    "if age >= 18 and age <= 100:\n",
    "    print(\"You are eligible to vote!\")\n",
    "    \n",
    "elif age < 18 and age >= 1:\n",
    "    print(f\"Kindly wait for {18-age} years to vote!\")\n",
    "    \n",
    "else:\n",
    "    print(\"Age should be positive or Age should be less than 100, as the average age of human is less than 100 :P\")\n",
    "    "
   ]
  },
  {
   "cell_type": "markdown",
   "id": "b8bc1aef-2edb-4517-9fd4-7e7729e82bf3",
   "metadata": {},
   "source": [
    "8. Create a Python program that calculates the discount amount based on the purchase amount using if-else."
   ]
  },
  {
   "cell_type": "raw",
   "id": "7904ec25-1c8c-468b-8fa8-990a3b74ceff",
   "metadata": {},
   "source": [
    "amount <= 100 give discount of 0%\n",
    "amount > 100 and less than 500, give discount of 5%\n",
    "amount less than 1000, give discount of 10%\n",
    "if purchase amount is greater than 1000, give 15% discount"
   ]
  },
  {
   "cell_type": "code",
   "execution_count": 27,
   "id": "4f528701-35a3-4588-81f5-babca5877293",
   "metadata": {},
   "outputs": [
    {
     "name": "stdin",
     "output_type": "stream",
     "text": [
      "Enter your purchase amount to check for the discounted price and the total amount you need to pay after discount:  1000\n"
     ]
    },
    {
     "name": "stdout",
     "output_type": "stream",
     "text": [
      "Congratulations! You have saved Rs.150.0 on Purchase Amount of Rs.1000.0. \n",
      "Total amount to pay after after discount of 0.15 is Rs.850.0\n",
      "Thank You! Visit Again!\n"
     ]
    }
   ],
   "source": [
    "def calculate_discount(amount):\n",
    "    if amount <= 100:\n",
    "        discount = 0\n",
    "    elif amount < 500:\n",
    "        discount = 0.05 # 5% discount over 100 rs purchase and less than 500 rs purchase\n",
    "    elif amount < 1000:\n",
    "        discount = 0.10 # 10% discount over 500 rs and less than 1000\n",
    "    else:\n",
    "        discount = 0.15 # 15% discount over 1000 rs\n",
    "    \n",
    "    return discount\n",
    "\n",
    "try:\n",
    "    purchase_amount = float(input(\"Enter your purchase amount to check for the discounted price and the total amount you need to pay after discount: \"))\n",
    "    \n",
    "    discount = calculate_discount(purchase_amount)\n",
    "    \n",
    "    savings = purchase_amount * discount # saved amount after discount\n",
    "    \n",
    "    total_amount = purchase_amount - savings # total payable amount after discount\n",
    "    \n",
    "    if purchase_amount > 100:\n",
    "        \n",
    "        print(f\"Congratulations! You have saved Rs.{savings} on Purchase Amount of Rs.{purchase_amount}. \\nTotal amount to pay after after discount of {discount} is Rs.{total_amount}\\nThank You! Visit Again!\")\n",
    "        \n",
    "    else:\n",
    "        print(\"No discount applicable, for the discount to be applicable, the purchase should be over Rs.100! Thank You!\")\n",
    "except Exception as ex:\n",
    "    print(f\"please enter valid values (numeric values)\")"
   ]
  },
  {
   "cell_type": "markdown",
   "id": "fb52c37a-f7ee-42b0-b12e-614653b3d914",
   "metadata": {},
   "source": [
    "9. Write a Python program to check if a number is within a specified range using if-else."
   ]
  },
  {
   "cell_type": "code",
   "execution_count": 29,
   "id": "c9b6a2e7-13df-4d0b-a896-ce0e36057a1b",
   "metadata": {},
   "outputs": [
    {
     "name": "stdin",
     "output_type": "stream",
     "text": [
      "Enter the start of the range:  10\n",
      "Enter the end of the range:  20\n",
      "Enter a number is within a specified range:  15\n"
     ]
    },
    {
     "name": "stdout",
     "output_type": "stream",
     "text": [
      "15 is within a specified range\n"
     ]
    }
   ],
   "source": [
    "try:\n",
    "    start = int(input(\"Enter the start of the range: \"))\n",
    "    end = int(input(\"Enter the end of the range: \"))\n",
    "    \n",
    "    num = int(input(\"Enter a number is within a specified range: \"))\n",
    "    \n",
    "    if num in list(range(start, end)):\n",
    "        print(f\"{num} is within a specified range\")\n",
    "    else:\n",
    "        print(f\"{num} is not within a specified range\")\n",
    "    \n",
    "except ValueError:\n",
    "    print(f\"please enter valid values (numeric values)\")"
   ]
  },
  {
   "cell_type": "markdown",
   "id": "027ba3ae-537f-48a8-a312-6f75b367780c",
   "metadata": {},
   "source": [
    "10. Create a Python program that determines the grade of a student based on their score using if-else."
   ]
  },
  {
   "cell_type": "raw",
   "id": "e5e41816-1497-470c-a073-90b3dd16ceef",
   "metadata": {},
   "source": [
    "Common examples of grade conversion are: \n",
    "A+ (97–100), A (93–96), A- (90–92), \n",
    "B+ (87–89), B (83–86), B- (80–82), \n",
    "C+ (77–79), C (73–76), C- (70–72), \n",
    "D+ (67–69), D (65–66), D- (below 65)."
   ]
  },
  {
   "cell_type": "code",
   "execution_count": null,
   "id": "bdff8461-ccbc-44e4-9ce8-1cb592a98996",
   "metadata": {},
   "outputs": [],
   "source": [
    "try:\n",
    "    grade = float(input(\"Enter the score to check the grade: \"))\n",
    "\n",
    "    if grade > 100:\n",
    "        print(\"Invalid subject score, as the maximum score anyone can ever get is 100!\")\n",
    "    else:\n",
    "        if 97 <= grade <= 100:\n",
    "            print(\"The student scored an A+\")\n",
    "        elif 93 <= grade <= 96:\n",
    "            print(\"The student scored an A\")\n",
    "        elif 90 <= grade <= 92:\n",
    "            print(\"The student scored an A-\")\n",
    "        elif 87 <= grade <= 89:\n",
    "            print(\"The student scored an B+\")\n",
    "        elif 83 <= grade <= 86:\n",
    "            print(\"The student scored an B\")\n",
    "        elif 80 <= grade <= 82:\n",
    "            print(\"The student scored an B-\")\n",
    "        elif 77 <= grade <= 79:\n",
    "            print(\"The student scored an C+\")\n",
    "        elif 73 <= grade <= 76:\n",
    "            print(\"The student scored an C\")\n",
    "        elif 70 <= grade <= 72:\n",
    "            print(\"The student scored an C-\")\n",
    "        elif 67 <= grade <= 69:\n",
    "            print(\"The student scored an D+\")\n",
    "        elif 65 <= grade <= 66:\n",
    "            print(\"The student scored an D\")\n",
    "        elif 35 <= grade < 65:\n",
    "            print(\"The student scored an D-\")\n",
    "        else:\n",
    "            print(\"The student has failed in this subject!\")\n",
    "except ValueError:\n",
    "    print(\"Please enter numerical value!\")"
   ]
  },
  {
   "cell_type": "markdown",
   "id": "ec9d6ea8-b7fb-4ad1-802c-0579f9b137ae",
   "metadata": {},
   "source": [
    "11. Write a Python program to check if a string is empty or not using if-else."
   ]
  },
  {
   "cell_type": "code",
   "execution_count": 32,
   "id": "7bb8a6f7-627d-4185-bca1-23fc051356ff",
   "metadata": {},
   "outputs": [
    {
     "name": "stdin",
     "output_type": "stream",
     "text": [
      "Enter a string:  \n"
     ]
    },
    {
     "name": "stdout",
     "output_type": "stream",
     "text": [
      "String is empty\n"
     ]
    }
   ],
   "source": [
    "string = input(\"Enter a string: \")\n",
    "\n",
    "if len(string) > 0:\n",
    "    print(\"String is not empty\")\n",
    "else:\n",
    "    print(\"String is empty\")"
   ]
  },
  {
   "cell_type": "markdown",
   "id": "021a7074-16dc-4bcf-bdec-06bd984ca8ff",
   "metadata": {},
   "source": [
    "12. Create a Python program that identifies the type of a triangle (e.g., equilateral, isosceles, or scalene) based on input values using if-else."
   ]
  },
  {
   "cell_type": "raw",
   "id": "1ec22fff-d3a4-4d6e-b550-a0ecf76928b1",
   "metadata": {},
   "source": [
    "Equilateral Triangle:  All sides of a triangle are equal\n",
    "Isosceles Triangle: Any two sides of a triangle are equal\n",
    "Scalene Triangle: None of the sides of a triangle is same"
   ]
  },
  {
   "cell_type": "code",
   "execution_count": 34,
   "id": "48575fe4-2884-41dc-830a-cf746c9f5ebf",
   "metadata": {},
   "outputs": [
    {
     "name": "stdin",
     "output_type": "stream",
     "text": [
      "Enter the first side of the triangle:  1\n",
      "Enter the second side of the triangle:  1\n",
      "Enter the third side of the triangle:  1\n"
     ]
    },
    {
     "name": "stdout",
     "output_type": "stream",
     "text": [
      "The given triangle is an EQUILATERAL\n"
     ]
    }
   ],
   "source": [
    "try:\n",
    "    a = float(input(\"Enter the first side of the triangle: \"))\n",
    "    b = float(input(\"Enter the second side of the triangle: \"))\n",
    "    c = float(input(\"Enter the third side of the triangle: \"))\n",
    "\n",
    "    if a == b == c:\n",
    "        print(\"The given triangle is an EQUILATERAL\")\n",
    "    elif a != b and b != c and c != a:\n",
    "        print(\"The given triangle is a SCALENE\")\n",
    "    else:\n",
    "        if (a == b and b != c) or (a == c and c != b) or (b == c and c != a):\n",
    "            print(\"The given triangle is an ISOSCELES\")\n",
    "        else:\n",
    "            print(\"Invalid measurements given!\")\n",
    "except ValueError:\n",
    "    print(\"Please enter only numerical values!\")"
   ]
  },
  {
   "cell_type": "markdown",
   "id": "7a3e2f52-d8eb-4859-9a9e-351e53c0f54f",
   "metadata": {},
   "source": [
    "13. Write a Python program to determine the day of the week based on a user-provided number using if-else."
   ]
  },
  {
   "cell_type": "code",
   "execution_count": 36,
   "id": "dd47b49f-45d3-4959-8727-a50c8d774924",
   "metadata": {},
   "outputs": [
    {
     "name": "stdin",
     "output_type": "stream",
     "text": [
      "Enter the number to find its corresponding day of the week:  1\n"
     ]
    },
    {
     "name": "stdout",
     "output_type": "stream",
     "text": [
      "The corresponding day of the week for 1 is MONDAY\n"
     ]
    }
   ],
   "source": [
    "try:\n",
    "    num = int(input(\"Enter the number to find its corresponding day of the week: \"))\n",
    "    \n",
    "    day = {1: 'MONDAY', 2: 'TUESDAY', 3: 'WEDNESDAY', 4: 'THURSDAY', 5: 'FRIDAY', 6: 'SATURDAY', 7: 'SUNDAY'}\n",
    "    if 1 <= num <= 7:\n",
    "        print(f\"The corresponding day of the week for {num} is {day[num]}\")\n",
    "    else:\n",
    "        print(\"Please enter the number between 1 and 7 (inclusive)\")\n",
    "    \n",
    "except ValueError:\n",
    "    print(\"Please enter only numerical value!\")"
   ]
  },
  {
   "cell_type": "markdown",
   "id": "75d5de24-4bf2-4222-a7dc-6b62d8d7ebaf",
   "metadata": {},
   "source": [
    "14. Create a Python program that checks if a given year is a leap year using both if-else and a function."
   ]
  },
  {
   "cell_type": "code",
   "execution_count": 37,
   "id": "3ef54d86-7496-4369-ba0a-dbb1865731e2",
   "metadata": {},
   "outputs": [
    {
     "name": "stdin",
     "output_type": "stream",
     "text": [
      "Enter the year:  2000\n"
     ]
    },
    {
     "name": "stdout",
     "output_type": "stream",
     "text": [
      "2000 is a Leap Year\n"
     ]
    }
   ],
   "source": [
    "def leap_year(year):\n",
    "    if year % 400 == 0 or (year % 100 != 0 and year % 4 == 0):\n",
    "        return True\n",
    "    return False\n",
    "\n",
    "try:\n",
    "    \n",
    "    year = int(input(\"Enter the year: \"))\n",
    "\n",
    "    if leap_year(year):\n",
    "        print(f\"{year} is a Leap Year\")\n",
    "    else:\n",
    "        print(f\"{year} is not a Leap Year\")\n",
    "    \n",
    "except ValueError:\n",
    "    print(\"Please enter numerical value only!\")"
   ]
  },
  {
   "cell_type": "markdown",
   "id": "36a69f8d-d079-4fff-8f1b-1bda805e99b4",
   "metadata": {},
   "source": [
    "15. How do you use the \"assert\" statement in Python to add debugging checks within if-else blocks?"
   ]
  },
  {
   "cell_type": "raw",
   "id": "46d3eb97-7174-46ed-b2d2-06d8ac6a1a6d",
   "metadata": {},
   "source": [
    "The assert statement in Python is used to add debugging checks to your code. It checks if a given condition is True, and if it's not, it raises an AssertionError exception, indicating that there's a problem with your code. You can use assert within if-else blocks or anywhere in your code to validate assumptions or conditions."
   ]
  },
  {
   "cell_type": "code",
   "execution_count": 47,
   "id": "a8488fc9-12fa-4734-bb63-125e5a121825",
   "metadata": {},
   "outputs": [
    {
     "name": "stdin",
     "output_type": "stream",
     "text": [
      "Enter a number:  -1\n"
     ]
    },
    {
     "name": "stdout",
     "output_type": "stream",
     "text": [
      "AssertionError: It should be a number!\n"
     ]
    }
   ],
   "source": [
    "def check_num(num):\n",
    "    if num.isdigit():\n",
    "        assert float(num) > 0, \"Checking for Positive Numbers\"\n",
    "    else:\n",
    "        assert False, \"It should be a number!\"\n",
    "\n",
    "try:\n",
    "    \n",
    "    num = input(\"Enter a number: \")\n",
    "    \n",
    "    check_num(num)\n",
    "    \n",
    "except AssertionError as ae:\n",
    "    print(f\"AssertionError: {ae}\")"
   ]
  },
  {
   "cell_type": "markdown",
   "id": "b19aa7b8-ff78-42e9-856c-0e7e891bc1c8",
   "metadata": {},
   "source": [
    "16. Create a Python program that determines the eligibility of a person for a senior citizen discount based on age using if-else."
   ]
  },
  {
   "cell_type": "code",
   "execution_count": 49,
   "id": "1bd43fa0-bd89-4fbb-925a-91908a99b8cb",
   "metadata": {},
   "outputs": [
    {
     "name": "stdin",
     "output_type": "stream",
     "text": [
      "Enter your age:  61\n"
     ]
    },
    {
     "name": "stdout",
     "output_type": "stream",
     "text": [
      "Congratulations! You are eligible for a senior citizen discount.\n"
     ]
    }
   ],
   "source": [
    "try:\n",
    "    age = int(input(\"Enter your age: \"))\n",
    "    \n",
    "    senior_citizen = 60\n",
    "    \n",
    "    if age >= senior_citizen:\n",
    "        print(\"Congratulations! You are eligible for a senior citizen discount.\")\n",
    "    else:\n",
    "        print(\"Sorry, you are not eligible for a senior citizen discount.\")\n",
    "except ValueError:\n",
    "    print(\"Please enter numerical values only, as age is just a number:P!\")"
   ]
  },
  {
   "cell_type": "markdown",
   "id": "8881e9fb-a726-4f58-920d-12544a682d67",
   "metadata": {},
   "source": [
    "17. Write a Python program to categorize a given character as uppercase, lowercase, or neither using if-else."
   ]
  },
  {
   "cell_type": "code",
   "execution_count": 53,
   "id": "3062ae00-bc4d-42d4-bc15-50ee7bc14fe0",
   "metadata": {},
   "outputs": [
    {
     "name": "stdin",
     "output_type": "stream",
     "text": [
      "Enter a character:  1\n"
     ]
    },
    {
     "name": "stdout",
     "output_type": "stream",
     "text": [
      "1 is neither in UpperCase nor LowerCase\n"
     ]
    }
   ],
   "source": [
    "char = input(\"Enter a character: \")\n",
    "\n",
    "if len(char) == 1:\n",
    "    if char.isdigit():\n",
    "        print(f\"{char} is neither in UpperCase nor LowerCase\")\n",
    "    elif char.isupper():\n",
    "        print(f\"{char} is in Uppercase\")\n",
    "    elif char.islower():\n",
    "        print(f\"{char} is in Lowercase\")\n",
    "    else:\n",
    "        print(f\"{char}, is neither in UpperCase nor LowerCase\")\n",
    "else:\n",
    "    print(\"Please enter a single character!\")"
   ]
  },
  {
   "cell_type": "markdown",
   "id": "91d5c19f-c519-4c1d-ae69-667dd4c13a6f",
   "metadata": {},
   "source": [
    "18. Write a Python program to determine the roots of a quadratic equation using if-else."
   ]
  },
  {
   "cell_type": "raw",
   "id": "c2285b63-03da-44a6-b19b-bf9ec0d33238",
   "metadata": {},
   "source": [
    "Quadratic equations are the polynomial equations of degree 2 in one variable of type \n",
    "f(x) = ax^2 + bx + c = 0 where a, b, c, ∈ R and a ≠ 0. \n",
    "It is the general form of a quadratic equation where ‘a’ is called the leading coefficient and ‘c’ is called the absolute term of f (x). The values of x satisfying the quadratic equation are the roots of the quadratic equation (α, β).\n",
    "\n",
    "To identify the nature of the roots:\n",
    "Discriminant D = b^2 - 4ac\n",
    "D > 0, roots are real and distinct (unequal)\n",
    "D = 0, roots are real and equal (coincident)\n",
    "D < 0, roots are imaginary and unequal"
   ]
  },
  {
   "cell_type": "code",
   "execution_count": 54,
   "id": "e508476d-c7ba-4828-9c0e-e9c25f45665e",
   "metadata": {},
   "outputs": [
    {
     "name": "stdin",
     "output_type": "stream",
     "text": [
      "Enter the first co-efficient (a) of ax^2 + bx + c:  1\n",
      "Enter the second co-efficient (b) of  ax^2 + bx + c:  2\n",
      "Enter the constant (c) of ax^2 + bx + c:  3\n"
     ]
    },
    {
     "name": "stdout",
     "output_type": "stream",
     "text": [
      "Quadratic Equation: 1x^2 +(2)x +(3)\n",
      "Discriminant = -8\n",
      "Roots are imaginary and unequal!\n",
      "Real = -1.0 and Imaginary = 1.4142135623730951\n"
     ]
    }
   ],
   "source": [
    "import math\n",
    "\n",
    "try:\n",
    "    a = int(input(\"Enter the first co-efficient (a) of ax^2 + bx + c: \"))\n",
    "    b = int(input(\"Enter the second co-efficient (b) of  ax^2 + bx + c: \"))\n",
    "    c = int(input(\"Enter the constant (c) of ax^2 + bx + c: \"))\n",
    "\n",
    "    print(f\"Quadratic Equation: {a}x^2 +({b})x +({c})\")\n",
    "\n",
    "    discriminant = b**2 - (4*a*c)\n",
    "    print(f\"Discriminant = {discriminant}\")\n",
    "\n",
    "    if discriminant > 0:\n",
    "        print(\"Roots are real and distinct!\")\n",
    "        root1 = (-(b) + math.sqrt(abs(discriminant))) / (2*a)\n",
    "        root2 = (-(b) - math.sqrt(abs(discriminant))) / (2*a)\n",
    "        print(f\"Roots: root1 = {root1} and root2 = {root2}\")\n",
    "    elif discriminant == 0:\n",
    "        print(\"Roots are real and equal!\")\n",
    "        roots = (-(b) / (2*a))\n",
    "        print(f\"Root = {roots}\")\n",
    "    elif discriminant < 0:\n",
    "        print(\"Roots are imaginary and unequal!\")\n",
    "        real = (-(b) / (2*a))\n",
    "        imaginary = math.sqrt(abs(discriminant)) / (2*a)\n",
    "        print(f\"Real = {real} and Imaginary = {imaginary}\")\n",
    "\n",
    "except Exception as ex:\n",
    "    print(\"Please enter only numerical values!\")"
   ]
  },
  {
   "cell_type": "markdown",
   "id": "2cc1b156-3f14-483f-923b-3fdcedaaed8e",
   "metadata": {},
   "source": [
    "19. Create a Python program that checks if a given year is a century year or not using if-else."
   ]
  },
  {
   "cell_type": "code",
   "execution_count": 57,
   "id": "28bf1bc1-87ef-48f0-9ff2-bccf99b78744",
   "metadata": {},
   "outputs": [
    {
     "name": "stdin",
     "output_type": "stream",
     "text": [
      "Enter the year:  2011\n"
     ]
    },
    {
     "name": "stdout",
     "output_type": "stream",
     "text": [
      "2011 is Not a Century Year\n"
     ]
    }
   ],
   "source": [
    "try:\n",
    "    year = int(input(\"Enter the year: \"))\n",
    "    \n",
    "    if year % 100 == 0:\n",
    "        print(f\"{year} is a Century Year\")\n",
    "    else:\n",
    "        print(f\"{year} is Not a Century Year\")\n",
    "\n",
    "except ValueError:\n",
    "    print(\"Please enter numerical value.\")"
   ]
  },
  {
   "cell_type": "markdown",
   "id": "b0ed9ace-f08d-4ac2-a462-083fa0cae389",
   "metadata": {},
   "source": [
    "20. Write a Python program to determine if a given number is a perfect square using if-else."
   ]
  },
  {
   "cell_type": "code",
   "execution_count": 62,
   "id": "c268f611-da35-426e-987b-1013be841d44",
   "metadata": {},
   "outputs": [
    {
     "name": "stdin",
     "output_type": "stream",
     "text": [
      "Enter a number:  A\n"
     ]
    },
    {
     "name": "stdout",
     "output_type": "stream",
     "text": [
      "Please enter numerical value only!\n"
     ]
    }
   ],
   "source": [
    "try:\n",
    "    number = int(input(\"Enter a number: \"))\n",
    "    \n",
    "    sqrt_num = number ** 0.5\n",
    "    \n",
    "    if int(sqrt_num) ** 2 == number:\n",
    "        print(f\"{number} is a Perfect Square number\")\n",
    "    else:\n",
    "        print(f\"{number} is not a Perfect Square\")\n",
    "    \n",
    "    \n",
    "except ValueError:\n",
    "    print(\"Please enter numerical value only!\")"
   ]
  },
  {
   "cell_type": "markdown",
   "id": "1f0fee65-ec22-41a4-b161-4a3fe02a6e1e",
   "metadata": {},
   "source": [
    "21. Explain the purpose of the \"continue\" and \"break\" statements within if-else loops."
   ]
  },
  {
   "cell_type": "raw",
   "id": "99c72871-7dc8-45c0-bf1f-9b73f8a661ec",
   "metadata": {},
   "source": [
    "The \"continue\" and \"break\" statements are control flow statements in Python that are used within loops, including if-else loops, to control the flow of program execution.\n",
    "\n",
    "\"continue\" statement:\n",
    "\n",
    "Purpose: The \"continue\" statement is used to skip the current iteration of a loop and move to the next iteration. It is typically used within loops to skip certain iterations based on a condition.\n",
    "Usage: When the \"continue\" statement is encountered within a loop, the remaining code inside the current iteration is skipped, and the loop immediately proceeds to the next iteration.\n"
   ]
  },
  {
   "cell_type": "code",
   "execution_count": null,
   "id": "19c4a3b8-002b-46e9-9f9e-85ccd5d8c1ba",
   "metadata": {},
   "outputs": [],
   "source": [
    "for i in range(1, 6):\n",
    "    if i == 3:\n",
    "        continue  # Skip iteration when i is 3\n",
    "    print(i)"
   ]
  },
  {
   "cell_type": "raw",
   "id": "95276dc4-4548-44be-a1d0-ef84590bd033",
   "metadata": {},
   "source": [
    "\"break\" statement:\n",
    "\n",
    "Purpose: The \"break\" statement is used to exit a loop prematurely when a certain condition is met. It allows you to terminate the loop before it naturally completes all iterations.\n",
    "Usage: When the \"break\" statement is encountered within a loop, it immediately exits the loop, and program control resumes after the loop."
   ]
  },
  {
   "cell_type": "code",
   "execution_count": null,
   "id": "b0071f15-726e-44c3-80dd-9f1d0bbe1a89",
   "metadata": {},
   "outputs": [],
   "source": [
    "for i in range(1, 6):\n",
    "    if i == 3:\n",
    "        break  # Exit the loop when i is 3\n",
    "    print(i)\n"
   ]
  },
  {
   "cell_type": "raw",
   "id": "2fb0e519-6c35-4ab0-af39-e03b51c6f3c3",
   "metadata": {},
   "source": [
    "\"continue\" is used to skip the current iteration of a loop and move to the next iteration.\n",
    "\"break\" is used to exit a loop prematurely when a certain condition is met."
   ]
  },
  {
   "cell_type": "markdown",
   "id": "280f0873-302a-45dc-ac66-1f5e367bc480",
   "metadata": {},
   "source": [
    "22. Create a Python program that calculates the BMI (Body Mass Index) of a person based on their weight and height using if-else."
   ]
  },
  {
   "cell_type": "raw",
   "id": "6396d88c-e481-4b18-b22b-82679ec94513",
   "metadata": {},
   "source": [
    "BMI (Body Mass Index) is a simple calculation that can be used to estimate whether a person has a healthy body weight based on their height and weight. The formula to calculate BMI is:\n",
    "\n",
    "BMI = Weight(kg)/height^2(sqmt)"
   ]
  },
  {
   "cell_type": "code",
   "execution_count": null,
   "id": "2d508792-8227-4eda-88ac-25b5723c0936",
   "metadata": {},
   "outputs": [],
   "source": [
    "def bmi_calculator(weight, height):\n",
    "    return (weight/height**2)\n",
    "\n",
    "# if the end user enters string, this would raise an exception\n",
    "try:\n",
    "    name = input(\"Please enter your First Name: \")\n",
    "    weight_kg = float(input(f\"{name}, Please enter your weight in kilograms: \"))\n",
    "    height_mtr = float(input(f\"{name}, Please enter your height in meters: \"))\n",
    "    \n",
    "    bmi = bmi_calculator(weight_kg, height_mtr)\n",
    "    print(f\"{name} your BMI is: {bmi}\")\n",
    "    \n",
    "    if bmi < 18.5:\n",
    "        print(f\"{name}, as per your BMI, you are underweight. Please take healthy consumables to gain weight!\")\n",
    "    elif bmi >= 18.5 and bmi < 25:\n",
    "        print(f\"{name}, as per your BMI, you are perfectly healthy. Please continue with the same efforts!\")\n",
    "    elif bmi >= 25 and bmi < 30:\n",
    "        print(f\"{name}, as per your BMI, you are overweight. Please take care and do proper exercises to maintain a perfect health!\")\n",
    "    else:\n",
    "        print(f\"{name}, as per your BMI, you are obese. This is not a good sign, please do exercise on daily basis to maintain physical fitness!\")\n",
    "except Exception as ex:\n",
    "    print(f\"{name}, please enter valid values (numeric values)\")"
   ]
  },
  {
   "cell_type": "markdown",
   "id": "444102e5-64ce-4fdb-832b-3a85222d8c6f",
   "metadata": {},
   "source": [
    "23. How can you use the \"filter()\" function with if-else statements to filter elements from a list?"
   ]
  },
  {
   "cell_type": "raw",
   "id": "6a10c049-39af-4a24-8aba-f691fc40c84b",
   "metadata": {},
   "source": [
    "You can use the filter() function in Python along with a custom function that contains if-else statements to filter elements from a list. The filter() function is designed to filter elements from an iterable (e.g., a list) based on a given function that returns either True or False. Elements for which the function returns True are included in the filtered result."
   ]
  },
  {
   "cell_type": "code",
   "execution_count": null,
   "id": "9cb5d9e2-337a-411b-b9bd-bc821b8c28ff",
   "metadata": {},
   "outputs": [],
   "source": [
    "def is_even(num):\n",
    "    if num % 2 == 0:\n",
    "        return True\n",
    "    else:\n",
    "        return False\n",
    "    \n",
    "numbers = [1, 2, 3, 4, 5, 6, 7, 8, 9, 10]\n",
    "\n",
    "# Use the filter() function to filter even numbers from the list\n",
    "filtered_numbers = list(filter(is_even, numbers))\n",
    "\n",
    "print(\"Even numbers:\", filtered_numbers)"
   ]
  },
  {
   "cell_type": "markdown",
   "id": "b0c756cc-a100-4b99-8c03-90f208d98267",
   "metadata": {},
   "source": [
    "24. Write a Python program to determine if a given number is prime or not using if-else."
   ]
  },
  {
   "cell_type": "code",
   "execution_count": null,
   "id": "155ce7f8-02c6-44ce-9089-d381e6502083",
   "metadata": {},
   "outputs": [],
   "source": [
    "def check_prime(num):\n",
    "    if num <= 1:\n",
    "        return False\n",
    "    elif num <= 3:\n",
    "        return True\n",
    "    else:\n",
    "        for i in range(2, int(num ** 0.5)+1):\n",
    "            if num % i == 0 or num % (i+1) == 0:\n",
    "                return False\n",
    "    return True\n",
    "\n",
    "\n",
    "try:\n",
    "    number = int(input(\"Enter the number: \"))\n",
    "    \n",
    "    if check_prime(number):\n",
    "        print(f\"{number} is a Prime Number\")\n",
    "    else:\n",
    "        print(f\"{number} is not a Prime Number\")\n",
    "\n",
    "except ValueError as ve:\n",
    "    print(\"Please enter only numerical values \", ex)"
   ]
  },
  {
   "cell_type": "markdown",
   "id": "66c46e1a-9513-4c8c-9efc-b54fa08a8540",
   "metadata": {
    "jp-MarkdownHeadingCollapsed": true,
    "tags": []
   },
   "source": [
    "# Map"
   ]
  },
  {
   "cell_type": "markdown",
   "id": "c3f549ec-ac5b-41b3-9f02-2cc8af7309e5",
   "metadata": {},
   "source": [
    "1. Explain the purpose of the `map()` function in Python and provide an example of how it can be used to apply a function to each element of an iterable."
   ]
  },
  {
   "cell_type": "raw",
   "id": "5b8480e6-e688-450c-a0cd-c5f2f908cf6d",
   "metadata": {},
   "source": [
    "The map() function in Python is used to apply a given function to each element of an iterable (such as a list, tuple, or any other iterable) and return an iterable containing the results. It essentially performs element-wise transformations on the input iterable without the need for explicit loops. The primary purpose of map() is to simplify and make your code more concise when you want to apply the same operation to every item in a collection.\n",
    "\n",
    "The general syntax of the map() function is as follows:\n",
    "-------------------------------------------------------\n",
    "map(function, iterable)\n",
    "\n",
    "function: The function that you want to apply to each element of the iterable.\n",
    "iterable: The iterable (e.g., list, tuple, etc.) whose elements you want to process.\n",
    "\n",
    "Example:"
   ]
  },
  {
   "cell_type": "code",
   "execution_count": 2,
   "id": "35522210-819c-4491-8554-52aa09952753",
   "metadata": {},
   "outputs": [
    {
     "name": "stdout",
     "output_type": "stream",
     "text": [
      "[1, 9, 25, 49, 81]\n"
     ]
    }
   ],
   "source": [
    "# define a function to give the squares of each element in a list\n",
    "def square(number):\n",
    "    return number ** 2\n",
    "\n",
    "# create a list of numbers\n",
    "numbers = [1, 3, 5, 7, 9]\n",
    "\n",
    "# using map function to give the squares of each number\n",
    "squared_numbers = list(map(square, numbers))\n",
    "\n",
    "print(squared_numbers)"
   ]
  },
  {
   "cell_type": "markdown",
   "id": "df26ba8d-29d6-4150-b5ab-aeee0bebed09",
   "metadata": {},
   "source": [
    "2. Write a Python program that uses the `map()` function to square each element of a list of numbers."
   ]
  },
  {
   "cell_type": "code",
   "execution_count": 3,
   "id": "6ace2ec4-2377-4c5a-bd93-0f8c4ce98ab6",
   "metadata": {},
   "outputs": [
    {
     "name": "stdout",
     "output_type": "stream",
     "text": [
      "[1, 9, 25, 49, 81]\n"
     ]
    }
   ],
   "source": [
    "# define a function to give the squares of each element in a list\n",
    "def square(number):\n",
    "    return number ** 2\n",
    "\n",
    "# create a list of numbers\n",
    "numbers = [1, 3, 5, 7, 9]\n",
    "\n",
    "# using map function to give the squares of each number\n",
    "squared_numbers = list(map(square, numbers))\n",
    "\n",
    "print(squared_numbers)"
   ]
  },
  {
   "cell_type": "markdown",
   "id": "300ad5a3-5dbf-459a-a1a8-dc4602115964",
   "metadata": {},
   "source": [
    "3. How does the `map()` function differ from a list comprehension in Python, and when would you choose one over the other?"
   ]
  },
  {
   "cell_type": "raw",
   "id": "7bd23445-750e-4692-a92e-993ac08fc097",
   "metadata": {},
   "source": [
    "The map() function and list comprehensions in Python are both used to apply a function to each element of an iterable and create a new iterable with the results. However, they differ in terms of syntax, flexibility, and readability, and the choice between them depends on the specific situation and your coding style.\n",
    "\n",
    "# Syntax:\n",
    "\n",
    "map(): Uses a separate function to apply to each element of the iterable. The syntax involves calling the map() function and passing the function and iterable as arguments.\n",
    "\n",
    "result = map(function, iterable)\n",
    "\n",
    "List Comprehension: Uses a more concise and inline syntax to achieve the same result. It allows you to define the transformation logic directly within square brackets.\n",
    "\n",
    "result = [expression for element in iterable]\n",
    "\n",
    "\n",
    "# Readability:\n",
    "\n",
    "map(): Can sometimes be less readable, especially when the transformation function is complex or when it involves multiple input iterables.\n",
    "\n",
    "List Comprehension: Tends to be more readable and concise, as the transformation logic is specified inline.\n",
    "\n",
    "# Flexibility:\n",
    "\n",
    "map(): Primarily designed for applying a function to each element of a single iterable. If you need to operate on multiple iterables in parallel or perform more complex operations, you may need to combine map() with functions like zip() or itertools.\n",
    "\n",
    "List Comprehension: Provides more flexibility as it can easily work with multiple iterables and apply more complex transformations in a single line.\n",
    "\n",
    "In summary, you should choose between map() and list comprehensions based on your specific needs and coding style:\n",
    "\n",
    "Use map() when you have a clear function you want to apply to each element of a single iterable, and readability is not a primary concern.\n",
    "\n",
    "Use list comprehensions when you want a more concise and readable way to apply a transformation to each element of an iterable, and especially when you need to work with multiple iterables or complex transformation logic."
   ]
  },
  {
   "cell_type": "markdown",
   "id": "be9688c7-621f-4585-91ee-889c188782ca",
   "metadata": {},
   "source": [
    "4. Create a Python program that uses the `map()` function to convert a list of names to uppercase."
   ]
  },
  {
   "cell_type": "code",
   "execution_count": 4,
   "id": "dacf6d53-1192-475b-a6d8-720c8c3694c3",
   "metadata": {},
   "outputs": [
    {
     "name": "stdout",
     "output_type": "stream",
     "text": [
      "Original List: ['hansa', 'guruprasad', 'appa', 'amma', 'prajwal', 'chetan']\n",
      "Uppercase names List: ['HANSA', 'GURUPRASAD', 'APPA', 'AMMA', 'PRAJWAL', 'CHETAN']\n"
     ]
    }
   ],
   "source": [
    "names = [\"hansa\", \"guruprasad\", \"appa\", \"amma\", \"prajwal\", \"chetan\"]\n",
    "\n",
    "uppercase_names = list(map(lambda n: n.upper(), names))\n",
    "\n",
    "print(f\"Original List: {names}\\nUppercase names List: {uppercase_names}\")"
   ]
  },
  {
   "cell_type": "markdown",
   "id": "3aa27bfd-1537-4501-99b8-003e8630fce6",
   "metadata": {},
   "source": [
    "5. Write a Python program that uses the `map()` function to calculate the length of each word in a list of strings."
   ]
  },
  {
   "cell_type": "code",
   "execution_count": 5,
   "id": "e46aba9e-0632-4898-aadc-77caa57c3689",
   "metadata": {},
   "outputs": [
    {
     "name": "stdout",
     "output_type": "stream",
     "text": [
      "Original List: ['pwskills', 'data structures and algorithms', 'data science', '']\n",
      "Length of each word in a list: [8, 30, 12, 0]\n"
     ]
    }
   ],
   "source": [
    "list_of_string = [\"pwskills\", \"data structures and algorithms\", \"data science\", \"\"]\n",
    "\n",
    "len_of_each_word = list(map(len, list_of_string))\n",
    "\n",
    "print(f\"Original List: {list_of_string}\\nLength of each word in a list: {len_of_each_word}\")"
   ]
  },
  {
   "cell_type": "markdown",
   "id": "7fa83091-f584-49a2-915f-74ceb3e78a34",
   "metadata": {},
   "source": [
    "6. How can you use the `map()` function to apply a custom function to elements of multiple lists simultaneously in Python?"
   ]
  },
  {
   "cell_type": "raw",
   "id": "45859884-4105-4277-95e7-cae387477162",
   "metadata": {},
   "source": [
    "We can use the \"map()\" function to apply a custom function to elements of multiple lists simultaneously in python by using map() function in combination with zip() function.\n",
    "zip() combines multiple iterables element-wise, and then we can use map() function to apply our custom function logic to each tuple of elements generated by zip()\n",
    "\n",
    "list1--> [1, 2, 3, 4]\n",
    "list2--> [2, 3, 4]\n",
    "\n",
    "resultant--> [3, 5, 7]\n",
    "\n",
    "Example:"
   ]
  },
  {
   "cell_type": "code",
   "execution_count": 10,
   "id": "bcc10648-9eea-4f49-a079-d75f4ba9e38f",
   "metadata": {},
   "outputs": [
    {
     "name": "stdout",
     "output_type": "stream",
     "text": [
      "The resultant addition of the list: [5, 5, 5, 5]\n"
     ]
    }
   ],
   "source": [
    "def addition_custom(x, y):\n",
    "    return x + y\n",
    "\n",
    "list1 = [1, 2, 3, 4]\n",
    "\n",
    "list2 = [4, 3, 2, 1] \n",
    "\n",
    "resultant_list = list(map(addition_custom, list1, list2))\n",
    "\n",
    "print(f\"The resultant addition of the list: {resultant_list}\")"
   ]
  },
  {
   "cell_type": "markdown",
   "id": "4c8f10fc-e98b-4cfd-ad2b-a64b32ac76c3",
   "metadata": {},
   "source": [
    "7. Create a Python program that uses `map()` to convert a list of temperatures from Celsius to Fahrenheit."
   ]
  },
  {
   "cell_type": "code",
   "execution_count": 11,
   "id": "2da40ca4-9c1c-4107-a4b0-2b1367dbf570",
   "metadata": {},
   "outputs": [],
   "source": [
    "# Fahrenheit = (Celsius * 9/5) + 32"
   ]
  },
  {
   "cell_type": "code",
   "execution_count": 12,
   "id": "a943618c-328d-4f95-a6cc-811fbd4e8d70",
   "metadata": {},
   "outputs": [
    {
     "name": "stdout",
     "output_type": "stream",
     "text": [
      "List of Original Celsius Temperatures: [0, 10, 20, 30, 40]\n",
      "List of Converted Fahrenheit Temperatures: [32.0, 50.0, 68.0, 86.0, 104.0]\n"
     ]
    }
   ],
   "source": [
    "def celsius_to_fahrenheit(cel_temp):\n",
    "    return (cel_temp * 9/5) + 32\n",
    "\n",
    "celsius_temperatures = [0, 10, 20, 30, 40]\n",
    "\n",
    "fahrenheit_temperatures = list(map(celsius_to_fahrenheit, celsius_temperatures))\n",
    "\n",
    "print(f\"List of Original Celsius Temperatures: {celsius_temperatures}\\nList of Converted Fahrenheit Temperatures: {fahrenheit_temperatures}\")"
   ]
  },
  {
   "cell_type": "markdown",
   "id": "a746276b-c2a6-4c4f-a059-d086f77f76ce",
   "metadata": {},
   "source": [
    "8. Write a Python program that uses the `map()` function to round each element of a list of floating-point numbers to the nearest integer."
   ]
  },
  {
   "cell_type": "code",
   "execution_count": 16,
   "id": "d9c4c6e7-880f-4ef9-886f-3a4c75e5a0df",
   "metadata": {},
   "outputs": [
    {
     "name": "stdout",
     "output_type": "stream",
     "text": [
      "Original List: [174.66173342635142, 280.3985518338436, 373.98612240272075, 335.46683395248795, 465.7626608346172]\n",
      "Corresponding Rounded Off List: [175, 280, 374, 335, 466]\n"
     ]
    }
   ],
   "source": [
    "# generating random floating point numbers using random module\n",
    "\n",
    "import random\n",
    "\n",
    "min_value = 100 # Minimum value (inclusive)\n",
    "max_value = 500 # Maximum value (exclusive)\n",
    "\n",
    "num_random = 5 # number of random numbers to be generated\n",
    "\n",
    "list_of_floating_pt_numbers = [random.uniform(min_value, max_value) for _ in range(num_random)]\n",
    "\n",
    "rounded_floating_pt_numbers = list(map(round, list_of_floating_pt_numbers))\n",
    "\n",
    "print(f\"Original List: {list_of_floating_pt_numbers}\\nCorresponding Rounded Off List: {rounded_floating_pt_numbers}\")"
   ]
  },
  {
   "cell_type": "markdown",
   "id": "8e9b8838-2178-49f8-b734-33f40d438469",
   "metadata": {
    "jp-MarkdownHeadingCollapsed": true,
    "tags": []
   },
   "source": [
    "# Reduce "
   ]
  },
  {
   "cell_type": "markdown",
   "id": "a7757078-1073-4b8e-9cba-469911c30bad",
   "metadata": {},
   "source": [
    "1. What is the `reduce()` function in Python, and what module should you import to use it? Provide an example of its basic usage."
   ]
  },
  {
   "cell_type": "raw",
   "id": "5a364576-4e68-46dd-b3c1-169ce8f61c5c",
   "metadata": {},
   "source": [
    "The reduce() function in Python is part of the functools module, and it is used to apply a given function to the elements of an iterable in a cumulative way. It repeatedly applies the function to the elements, accumulating the result, and finally returns a single value.\n",
    "\n",
    "Syntax:\n",
    "\n",
    "functools.reduce(function, iterable[, initializer])\n",
    "\n",
    "function: The function to be applied cumulatively to the elements of the iterable. It should take two arguments, typically the accumulated result and the current element from the iterable.\n",
    "\n",
    "iterable: The iterable (e.g., a list, tuple, or other sequence) whose elements will be processed.\n",
    "\n",
    "initializer (optional): An optional initial value for the accumulation. If provided, the function will start with this initial value. If omitted, the first element of the iterable is used as the initial value.\n",
    "\n",
    "Example:"
   ]
  },
  {
   "cell_type": "code",
   "execution_count": 17,
   "id": "78848ad6-63c1-4712-aab9-68a37c9453c5",
   "metadata": {},
   "outputs": [
    {
     "name": "stdout",
     "output_type": "stream",
     "text": [
      "Original List: [1, 2, 3, 4, 5]\n",
      "The Product of the numbers in a list: 120\n"
     ]
    }
   ],
   "source": [
    "# define a function to give the product of two numbers\n",
    "\n",
    "def multiply(a, b):\n",
    "    return a * b\n",
    "\n",
    "# initialise an iterable object (eg: list)\n",
    "numbers = [1, 2, 3, 4, 5]\n",
    "\n",
    "# importing functools to get reduce functionality\n",
    "\n",
    "from functools import reduce\n",
    "\n",
    "product = reduce(multiply, numbers)\n",
    "\n",
    "print(f\"Original List: {numbers}\\nThe Product of the numbers in a list: {product}\")"
   ]
  },
  {
   "cell_type": "markdown",
   "id": "0c681d47-ca6d-4fd4-b564-8799a3b6afee",
   "metadata": {},
   "source": [
    "2. Write a Python program that uses the `reduce()` function to find the product of all elements in a list."
   ]
  },
  {
   "cell_type": "code",
   "execution_count": 20,
   "id": "304ac8c6-f855-4815-a07d-53d540dd8f8b",
   "metadata": {},
   "outputs": [
    {
     "name": "stdout",
     "output_type": "stream",
     "text": [
      "Original List: [5, 9, 8, 7, 6]\n",
      "The Product of the numbers in a list: 15120\n"
     ]
    }
   ],
   "source": [
    "# define a function to give the product of two numbers\n",
    "\n",
    "def multiply(a, b):\n",
    "    return a * b\n",
    "\n",
    "# initialise an iterable object (eg: list)\n",
    "numbers = [5, 9, 8, 7, 6]\n",
    "\n",
    "# importing functools to get reduce functionality\n",
    "\n",
    "from functools import reduce\n",
    "\n",
    "product = reduce(multiply, numbers)\n",
    "\n",
    "print(f\"Original List: {numbers}\\nThe Product of the numbers in a list: {product}\")"
   ]
  },
  {
   "cell_type": "markdown",
   "id": "b694bb03-7b82-494c-a9d2-26e8f90922da",
   "metadata": {},
   "source": [
    "3. Create a Python program that uses `reduce()` to find the maximum element in a list of numbers."
   ]
  },
  {
   "cell_type": "code",
   "execution_count": 24,
   "id": "55b14349-c8a1-40cc-b4ef-04a976feb04a",
   "metadata": {},
   "outputs": [
    {
     "name": "stdout",
     "output_type": "stream",
     "text": [
      "Original List: [246, 130, 150, 224, 186, 151, 214, 251, 177, 292]\n",
      "The maximum in a given list is: 292\n"
     ]
    }
   ],
   "source": [
    "import random\n",
    "\n",
    "list_of_numbers = random.sample(range(100, 300), 10)\n",
    "\n",
    "max_num = reduce(max, list_of_numbers) # or can define a function for it.\n",
    "\n",
    "print(f\"Original List: {list_of_numbers}\\nThe maximum in a given list is: {max_num}\")"
   ]
  },
  {
   "cell_type": "code",
   "execution_count": 25,
   "id": "b4639203-10f1-4652-92ba-c60406c466bd",
   "metadata": {},
   "outputs": [
    {
     "name": "stdout",
     "output_type": "stream",
     "text": [
      "Original List: [232, 213, 152, 162, 197, 223, 178, 169, 137, 291]\n",
      "The maximum in a given list is: 291\n"
     ]
    }
   ],
   "source": [
    "import random\n",
    "\n",
    "list_of_numbers = random.sample(range(100, 300), 10)\n",
    "\n",
    "def max_num(a, b):\n",
    "    return a if a > b else b\n",
    "\n",
    "maximum = reduce(max_num, list_of_numbers)\n",
    "\n",
    "print(f\"Original List: {list_of_numbers}\\nThe maximum in a given list is: {maximum}\")"
   ]
  },
  {
   "cell_type": "markdown",
   "id": "5cf24782-6ed7-4c3f-8adf-fcc03394b6b2",
   "metadata": {},
   "source": [
    "4. How can you use the `reduce()` function to concatenate a list of strings into a single string?"
   ]
  },
  {
   "cell_type": "code",
   "execution_count": 26,
   "id": "cc67c27f-8da0-47d1-876f-3386c60eeb63",
   "metadata": {},
   "outputs": [
    {
     "name": "stdout",
     "output_type": "stream",
     "text": [
      "The Original List of String: ['ZQroG', 'fhsxi', 'oabmR', 'roCEs']\n",
      "Concatenated String is: ZQroGfhsxioabmRroCEs\n"
     ]
    }
   ],
   "source": [
    "import random\n",
    "import string\n",
    "\n",
    "string_length = 5\n",
    "size_of_list = 4\n",
    "\n",
    "list_of_strings = []\n",
    "\n",
    "for i in range(size_of_list):\n",
    "    random_string = ''.join(random.choice(string.ascii_letters) for _ in range(string_length))\n",
    "    list_of_strings.append(random_string)\n",
    "    \n",
    "concatenated_string = reduce(lambda a, b: a + b, list_of_strings)\n",
    "\n",
    "print(f\"The Original List of String: {list_of_strings}\\nConcatenated String is: {concatenated_string}\")"
   ]
  },
  {
   "cell_type": "markdown",
   "id": "8f126e9f-be2d-42f8-b713-513267a875f5",
   "metadata": {},
   "source": [
    "5. Write a Python program that calculates the factorial of a number using the `reduce()` function."
   ]
  },
  {
   "cell_type": "code",
   "execution_count": 31,
   "id": "377d6139-948d-447a-b91e-dc35175f34ab",
   "metadata": {},
   "outputs": [
    {
     "name": "stdin",
     "output_type": "stream",
     "text": [
      "Enter the number:  10\n"
     ]
    },
    {
     "name": "stdout",
     "output_type": "stream",
     "text": [
      "The Factorial of 10 is 3628800\n"
     ]
    }
   ],
   "source": [
    "def factorial(a, b):\n",
    "    return a * b\n",
    "\n",
    "\n",
    "n = int(input(\"Enter the number: \"))\n",
    "fact = reduce(factorial, list(range(1, n+1)))\n",
    "\n",
    "print(f\"The Factorial of {n} is {fact}\")"
   ]
  },
  {
   "cell_type": "markdown",
   "id": "92569b5a-a89b-488a-b1f8-55e371c89f5b",
   "metadata": {},
   "source": [
    "6. Create a Python program that uses `reduce()` to find the GCD (Greatest Common Divisor) of a list of numbers."
   ]
  },
  {
   "cell_type": "code",
   "execution_count": 34,
   "id": "7c15be10-f049-4504-8775-2fe534419668",
   "metadata": {},
   "outputs": [
    {
     "name": "stdout",
     "output_type": "stream",
     "text": [
      "The Original List: [195, 210, 135, 146, 171, 114, 294, 137, 277, 201]\n",
      "GCD = 1\n"
     ]
    }
   ],
   "source": [
    "def find_gcd(a, b):\n",
    "    while b:\n",
    "        a, b = b, a%b\n",
    "    return a\n",
    "\n",
    "list_of_numbers = random.sample(range(100, 300), 10)\n",
    "\n",
    "gcd = reduce(find_gcd, list_of_numbers)\n",
    "\n",
    "print(f\"The Original List: {list_of_numbers}\\nGCD = {gcd}\")"
   ]
  },
  {
   "cell_type": "markdown",
   "id": "5ff077ab-4c45-4757-b9d0-61ee27439403",
   "metadata": {},
   "source": [
    "7. Write a Python program that uses the `reduce()` function to find the sum of the digits of a given number."
   ]
  },
  {
   "cell_type": "code",
   "execution_count": 35,
   "id": "064c3902-daf3-429a-9a25-4426043d1dc4",
   "metadata": {},
   "outputs": [
    {
     "name": "stdout",
     "output_type": "stream",
     "text": [
      "The number = 123456789\n",
      "Sum of digits = 45\n"
     ]
    }
   ],
   "source": [
    "def sum_digit(a, b):\n",
    "    return int(a) + int(b)\n",
    "\n",
    "number = 123456789\n",
    "\n",
    "sum_of_digit = reduce(sum_digit, str(number))\n",
    "\n",
    "print(f\"The number = {number}\\nSum of digits = {sum_of_digit}\")"
   ]
  },
  {
   "cell_type": "markdown",
   "id": "e3702ce6-2dde-4889-a173-e5ef6d8975f9",
   "metadata": {
    "jp-MarkdownHeadingCollapsed": true,
    "tags": []
   },
   "source": [
    "# Filter "
   ]
  },
  {
   "cell_type": "markdown",
   "id": "4330bfa5-0599-438b-b668-5f63524c9b56",
   "metadata": {},
   "source": [
    "1. Explain the purpose of the `filter()` function in Python and provide an example of how it can be used to filter elements from an iterable."
   ]
  },
  {
   "cell_type": "raw",
   "id": "0faf6b6d-b282-4365-87d8-af760cb00306",
   "metadata": {},
   "source": [
    "The filter() function in Python is used to filter elements from an iterable based on a specified condition or function. It creates a new iterable (usually a filtered subset of the original iterable) containing only the elements that satisfy the given condition. The primary purpose of filter() is to simplify the process of selecting elements that meet certain criteria.\n",
    "\n",
    "Syntax:\n",
    "-------\n",
    "filter(function, iterable)\n",
    "\n",
    "function: A function that defines the condition for filtering. It should return a Boolean value (True or False). The function is applied to each element of the iterable.\n",
    "iterable: The iterable (e.g., list, tuple, etc.) whose elements you want to filter based on the condition.\n",
    "\n",
    "Example:\n"
   ]
  },
  {
   "cell_type": "code",
   "execution_count": 36,
   "id": "a179beba-5443-4da5-9b14-058291317672",
   "metadata": {},
   "outputs": [
    {
     "name": "stdout",
     "output_type": "stream",
     "text": [
      "The Original List: [1, 2, 3, 4, 5, 6, 7, 8, 9, 10]\n",
      "List of even numbers: [2, 4, 6, 8, 10]\n"
     ]
    }
   ],
   "source": [
    "def is_even(num):\n",
    "    return True if num % 2 == 0 else False\n",
    "\n",
    "# list of numbers\n",
    "\n",
    "numbers = [1, 2, 3, 4, 5, 6, 7, 8, 9, 10]\n",
    "\n",
    "list_of_even = list(filter(is_even, numbers))\n",
    "\n",
    "print(f\"The Original List: {numbers}\\nList of even numbers: {list_of_even}\")"
   ]
  },
  {
   "cell_type": "markdown",
   "id": "1db194ec-ae84-425a-9aa0-7c23e4764796",
   "metadata": {},
   "source": [
    "2. Write a Python program that uses the `filter()` function to select even numbers from a list of integers."
   ]
  },
  {
   "cell_type": "code",
   "execution_count": 37,
   "id": "28106904-3fc5-43ae-a8fb-625b28cdcd74",
   "metadata": {},
   "outputs": [
    {
     "name": "stdout",
     "output_type": "stream",
     "text": [
      "The Original List: [127, 109, 149, 148, 129, 137, 133, 114, 106, 100, 136, 119, 101, 107, 121, 139, 126, 108, 113, 103]\n",
      "List of even numbers: [148, 114, 106, 100, 136, 126, 108]\n"
     ]
    }
   ],
   "source": [
    "def is_even(num):\n",
    "    return True if num % 2 == 0 else False\n",
    "\n",
    "# list of numbers\n",
    "\n",
    "numbers = random.sample(range(100, 150), 20)\n",
    "\n",
    "list_of_even = list(filter(is_even, numbers))\n",
    "\n",
    "print(f\"The Original List: {numbers}\\nList of even numbers: {list_of_even}\")"
   ]
  },
  {
   "cell_type": "markdown",
   "id": "0455936d-f62b-44aa-9255-624cc2d036eb",
   "metadata": {},
   "source": [
    "3. Create a Python program that uses the `filter()` function to select names that start with a specific letter from a list of strings."
   ]
  },
  {
   "cell_type": "code",
   "execution_count": 51,
   "id": "d2b883fe-1bbb-4e87-935d-947bec0121fb",
   "metadata": {},
   "outputs": [
    {
     "name": "stdin",
     "output_type": "stream",
     "text": [
      "Enter the character that it would start with:  X\n"
     ]
    },
    {
     "name": "stdout",
     "output_type": "stream",
     "text": [
      "The Original List: ['hwFAIsmlrC', 'vNRpBKFwgg', 'VaJAreIbvU', 'lxfWKNyrRN', 'RqotkKzcNL', 'FIAFCKRMBB', 'UrWRjQtApc', 'XVUOqwKVOs', 'ePGozYPqVr', 'ODjEVZCaNp']\n",
      "Filtered List that starts with letter X is:  ['XVUOqwKVOs']\n"
     ]
    }
   ],
   "source": [
    "import string\n",
    "import random\n",
    "\n",
    "\n",
    "\n",
    "list_of_strings = []\n",
    "\n",
    "size_of_string = 10\n",
    "length_of_list = 10\n",
    "\n",
    "\n",
    "\n",
    "for i in range(length_of_list):\n",
    "    random_letters = ''.join(random.choice(string.ascii_letters) for _ in range(size_of_string))\n",
    "    list_of_strings.append(random_letters)\n",
    "\n",
    "ch = input(\"Enter the character that it would start with: \")\n",
    "specific_letters = list(filter(lambda name: name.startswith(ch), list_of_strings))\n",
    "\n",
    "print(f\"The Original List: {list_of_strings}\\nFiltered List that starts with letter {ch} is: \", specific_letters)"
   ]
  },
  {
   "cell_type": "markdown",
   "id": "22fc00dd-a6d3-409a-a0c1-4e735fc3edf7",
   "metadata": {},
   "source": [
    "4. Write a Python program that uses the `filter()` function to select prime numbers from a list of integers."
   ]
  },
  {
   "cell_type": "code",
   "execution_count": 52,
   "id": "41c42ff1-db5e-48f3-9edc-e9c54cc385a7",
   "metadata": {},
   "outputs": [
    {
     "name": "stdout",
     "output_type": "stream",
     "text": [
      "The Original List: [14, 15, 36, 44, 34, 16, 31, 25, 46, 22, 28, 39, 26, 19, 37, 38, 23, 41, 20, 47, 30, 49, 42, 18, 48, 12, 13, 11, 33, 32]\n",
      "Filtered List of Prime Numbers: [31, 19, 37, 23, 41, 47, 13, 11]\n"
     ]
    }
   ],
   "source": [
    "def is_prime(num):\n",
    "    if num <= 1:\n",
    "        return False\n",
    "    elif num <= 3:\n",
    "        return True\n",
    "    else:\n",
    "        for i in range(2, int(num ** 0.5) + 1):\n",
    "            if num % i == 0 or num % (i+1) == 0:\n",
    "                return False\n",
    "    return True\n",
    "\n",
    "list_of_numbers = random.sample(range(10, 50), 30)\n",
    "\n",
    "list_of_prime = list(filter(is_prime, list_of_numbers))\n",
    "\n",
    "print(f\"The Original List: {list_of_numbers}\\nFiltered List of Prime Numbers: {list_of_prime}\")"
   ]
  },
  {
   "cell_type": "markdown",
   "id": "2c51fb2a-1b7e-4c83-b1eb-3089a1eeb053",
   "metadata": {},
   "source": [
    "5. How can you use the `filter()` function to remove None values from a list in Python?"
   ]
  },
  {
   "cell_type": "code",
   "execution_count": 53,
   "id": "3a4199a1-4b8c-4c8f-824d-f54ac4a162ee",
   "metadata": {},
   "outputs": [
    {
     "name": "stdout",
     "output_type": "stream",
     "text": [
      "The Original List: [None, 1, 3, None, 4, 5, None, 6, 7, None]\n",
      "Filtered List: [1, 3, 4, 5, 6, 7]\n"
     ]
    }
   ],
   "source": [
    "list_of_values = [None, 1, 3, None, 4, 5, None, 6, 7, None]\n",
    "\n",
    "remove_none = list(filter(lambda a: a is not None, list_of_values))\n",
    "\n",
    "print(f\"The Original List: {list_of_values}\\nFiltered List: {remove_none}\")"
   ]
  },
  {
   "cell_type": "markdown",
   "id": "cd0e7e66-db35-460e-b49e-30b5d2e55920",
   "metadata": {},
   "source": [
    "6. Create a Python program that uses `filter()` to select words longer than a certain length from a list of strings."
   ]
  },
  {
   "cell_type": "code",
   "execution_count": 56,
   "id": "3a745715-ebb0-49e9-b8ab-902ca984e899",
   "metadata": {},
   "outputs": [
    {
     "name": "stdin",
     "output_type": "stream",
     "text": [
      "Enter the minimum size of the string length that you need to be printed 10\n"
     ]
    },
    {
     "name": "stdout",
     "output_type": "stream",
     "text": [
      "The Original List of Strings: ['vgjNSk', 'HmLSdEpZU', 'OrHKGi', 'sxcmLxdnFJMO', 'YyMLgyjNg', 'BILu', 'fFKoqHBGoyFOSPc', 'XZE', 'tfaQqgdkFXP', 'mhuNmZdnylKSsBK']\n",
      "Filtered list with minimum lenght of 10 is: ['sxcmLxdnFJMO', 'fFKoqHBGoyFOSPc', 'tfaQqgdkFXP', 'mhuNmZdnylKSsBK']\n"
     ]
    }
   ],
   "source": [
    "size = int(input(\"Enter the minimum size of the string length that you need to be printed\"))\n",
    "\n",
    "import random\n",
    "import string\n",
    "\n",
    "min_value = 3\n",
    "max_value = 15\n",
    "\n",
    "num_of_strings = 10\n",
    "\n",
    "list_of_strings = []\n",
    "\n",
    "for i in range(num_of_strings):\n",
    "    \n",
    "    string_length = random.randint(min_value, max_value)\n",
    "    \n",
    "    random_letters = ''.join(random.choice(string.ascii_letters) for _ in range(string_length))\n",
    "    \n",
    "    list_of_strings.append(random_letters)\n",
    "    \n",
    "\n",
    "filtered_list = list(filter(lambda word: len(word) >= size, list_of_strings))\n",
    "    \n",
    "print(f\"The Original List of Strings: {list_of_strings}\\nFiltered list with minimum lenght of {size} is: {filtered_list}\")"
   ]
  },
  {
   "cell_type": "markdown",
   "id": "fa0245d2-84ae-4ae0-92b8-ca50013e4371",
   "metadata": {},
   "source": [
    "7. Write a Python program that uses the `filter()` function to select elements greater than a specified threshold from a list of values."
   ]
  },
  {
   "cell_type": "code",
   "execution_count": 58,
   "id": "5c386bef-d8f1-4071-8149-c0530669980b",
   "metadata": {},
   "outputs": [
    {
     "name": "stdin",
     "output_type": "stream",
     "text": [
      "Enter the number to get the elements greater than a specified threshold:  400\n"
     ]
    },
    {
     "name": "stdout",
     "output_type": "stream",
     "text": [
      "The original list: [374, 284, 472, 378, 198, 450, 288, 362, 476, 297, 214, 133, 430, 489, 254, 439, 387, 107, 117, 102, 410, 462, 303, 287, 396, 373, 119, 136, 187, 165, 197, 294, 151, 316, 228, 183, 488, 366, 175, 191, 161, 411, 425, 271, 167, 321, 330, 409, 467, 295]\n",
      "The filtered list of elements greater than a 400 is: [472, 450, 476, 430, 489, 439, 410, 462, 488, 411, 425, 409, 467]\n"
     ]
    }
   ],
   "source": [
    "list_of_values = random.sample(range(100, 500), 50)\n",
    "\n",
    "num = int(input(\"Enter the number to get the elements greater than a specified threshold: \"))\n",
    "\n",
    "filtered_list = list(filter(lambda n: n > num, list_of_values))\n",
    "\n",
    "print(f\"The original list: {list_of_values}\\nThe filtered list of elements greater than a {num} is: {filtered_list}\")"
   ]
  },
  {
   "cell_type": "markdown",
   "id": "cab444bf-e65d-41a8-9bb7-85fc7ec3d82b",
   "metadata": {
    "jp-MarkdownHeadingCollapsed": true,
    "tags": []
   },
   "source": [
    "# Recursion"
   ]
  },
  {
   "cell_type": "markdown",
   "id": "2589c1d3-a1a1-44d9-8ede-2f678601eeb9",
   "metadata": {},
   "source": [
    "1. Explain the concept of recursion in Python. How does it differ from iteration?"
   ]
  },
  {
   "cell_type": "raw",
   "id": "65e24abf-b4b6-4371-be5d-cc0dfdd5bcbf",
   "metadata": {},
   "source": [
    "Recursion and Iteration are two fundamental techniques in computer programming used to solve repetitive problems. They have different approaches, but both can be used to solve similar types of problems.\n",
    "\n",
    "Recursion:\n",
    "----------\n",
    "Recursion is a programming technique, where a function calls itself to solve a problem. \n",
    "In a recursive function, the problem is divided into smaller, similar subproblems that are solved recursively until a base case is reached. \n",
    "The base case is a condition that stops the recursion and defines the result for the smallest subproblem.\n",
    "\n",
    "Key components of a recursive function:\n",
    "---------------------------------------\n",
    "Base Case: A condition that specifies when to stop the recursion.\n",
    "Recursive Case: A case where the function calls itself with a smaller or simpler version of the problem.\n",
    "Recursion Depth: The number of times the function calls itself before reaching the base case.\n",
    "\n",
    "Example:"
   ]
  },
  {
   "cell_type": "code",
   "execution_count": 59,
   "id": "da84fde4-108f-4d20-a11e-39a38e889125",
   "metadata": {},
   "outputs": [],
   "source": [
    "def factorial(n):\n",
    "    # Base case\n",
    "    if n == 0:\n",
    "        return 1\n",
    "    # Recursive case\n",
    "    else:\n",
    "        return n * factorial(n - 1)"
   ]
  },
  {
   "cell_type": "raw",
   "id": "cd73ba1d-ef4d-4a75-8bb3-0539a33ce8bc",
   "metadata": {},
   "source": [
    "Iteration:\n",
    "----------\n",
    "Iteration is a programming technique that involves using loops (such as for or while loops) to repeatedly execute a block of code until a certain condition is met. \n",
    "It is a more traditional approach to solving repetitive problems.\n",
    "\n",
    "Key components of iteration:\n",
    "----------------------------\n",
    "Loop Control Variable: A variable that keeps track of the current state or position in the loop.\n",
    "Loop Condition: A condition that determines whether the loop should continue executing.\n",
    "Iteration Statement: The code block executed within the loop.\n",
    "\n",
    "Example:"
   ]
  },
  {
   "cell_type": "code",
   "execution_count": null,
   "id": "c06dc0f2-bf1b-4795-943b-8ab7d64f935c",
   "metadata": {},
   "outputs": [],
   "source": [
    "def factorial(n):\n",
    "    result = 1\n",
    "    for i in range(1, n+1):\n",
    "        result *= i\n",
    "    return result"
   ]
  },
  {
   "cell_type": "raw",
   "id": "8e62cef1-c690-4ac3-ad1c-47f9c6fd4c24",
   "metadata": {},
   "source": [
    "Differences between Recursion and Iteration:\n",
    "--------------------------------------------\n",
    "1. Implementation:\n",
    "    a. Recursion involves calling the same function within itself\n",
    "    b. Iteration uses loops to repeat a block of code\n",
    "2. Readability:\n",
    "    a. Recursion can lead to more elegant and concise code when dealing with problems that have a recursive structure.\n",
    "    b. Iteration is often more explicit and easier to follow\n",
    "3. Termination:\n",
    "    a. Recursion needs to define a base case to stop the recursive calls.\n",
    "    b. Iteration, the loop stops when the loop condition is no longer met.\n",
    "4. Performance:\n",
    "    a. Recursion can be less efficient in terms of memory usage due to the need to create multiple function call frames on the call stack.\n",
    "    b. Iteration typically has a lower memory overhead\n",
    "\n",
    "In summary, recursion and iteration are two distinct approaches to solving repetitive problems in programming. The choice between them depends on the problem at hand, programming language capabilities, and considerations related to readability and efficiency."
   ]
  },
  {
   "cell_type": "markdown",
   "id": "7f42be7d-ceee-4ce6-84a1-7f86e11fb5b5",
   "metadata": {},
   "source": [
    "2.  Write a Python program to calculate the factorial of a number using recursion."
   ]
  },
  {
   "cell_type": "code",
   "execution_count": 60,
   "id": "7f08bac6-5c8a-4d4f-8db2-543078f19cea",
   "metadata": {},
   "outputs": [
    {
     "name": "stdin",
     "output_type": "stream",
     "text": [
      "Enter a number:  5\n"
     ]
    },
    {
     "name": "stdout",
     "output_type": "stream",
     "text": [
      "The factorial of 5 is 120\n"
     ]
    }
   ],
   "source": [
    "def factorial(n):\n",
    "    # Base case\n",
    "    if n == 0:\n",
    "        return 1\n",
    "    # Recursive case\n",
    "    else:\n",
    "        return n * factorial(n - 1)\n",
    "\n",
    "try:\n",
    "    num = int(input(\"Enter a number: \"))\n",
    "    \n",
    "    print(f\"The factorial of {num} is {factorial(num)}\")\n",
    "    \n",
    "except ValueError:\n",
    "    print(\"Please enter numerical value!\")"
   ]
  },
  {
   "cell_type": "markdown",
   "id": "6f891ac0-71f9-41be-b44a-a17ad73dffdd",
   "metadata": {},
   "source": [
    "3. Create a recursive Python function to find the nth Fibonacci number."
   ]
  },
  {
   "cell_type": "code",
   "execution_count": 72,
   "id": "f288bfd5-cc9b-424e-895b-03dd229ca91a",
   "metadata": {},
   "outputs": [
    {
     "name": "stdin",
     "output_type": "stream",
     "text": [
      "Enter a number:  10\n"
     ]
    },
    {
     "name": "stdout",
     "output_type": "stream",
     "text": [
      "The 10th Fibonacci number is 55\n"
     ]
    }
   ],
   "source": [
    "def fibo(n):\n",
    "    if n == 0:\n",
    "        return 0\n",
    "    elif n == 1:\n",
    "        return 1\n",
    "    else:\n",
    "        return fibo(n-1) + fibo(n-2)\n",
    "    \n",
    "try:\n",
    "    num = int(input(\"Enter a number: \"))\n",
    "    \n",
    "    print(f\"The {num}th Fibonacci number is {fibo(num)}\")\n",
    "    \n",
    "except ValueError:\n",
    "    print(\"Please enter numerical value!\")"
   ]
  },
  {
   "cell_type": "markdown",
   "id": "30bf2f6e-a4f4-46c2-b182-8ece3cab395a",
   "metadata": {},
   "source": [
    "4. Write a recursive Python function to calculate the sum of all elements in a list."
   ]
  },
  {
   "cell_type": "code",
   "execution_count": 77,
   "id": "6dbdf762-29f3-4d19-8057-07b660d2fe09",
   "metadata": {},
   "outputs": [
    {
     "name": "stdout",
     "output_type": "stream",
     "text": [
      "The Original List of numbers = [12, 48, 42, 14, 18, 16, 19, 45, 13, 32]\n",
      "The sum = 259\n"
     ]
    }
   ],
   "source": [
    "def sum_of_elements(l):\n",
    "    if len(l) == 1:\n",
    "        return l[0]\n",
    "    else:\n",
    "        return l[0] + sum_of_elements(l[1:])\n",
    "    \n",
    "list_of_numbers = random.sample(range(10, 50), 10)\n",
    "\n",
    "print(f\"The Original List of numbers = {list_of_numbers}\\nThe sum = {sum_of_elements(list_of_numbers)}\")"
   ]
  },
  {
   "cell_type": "markdown",
   "id": "6a077373-aaa7-4de0-acf9-5115b6cd9ecc",
   "metadata": {},
   "source": [
    "5. How can you prevent a recursive function from running indefinitely, causing a stack overflow error?"
   ]
  },
  {
   "cell_type": "raw",
   "id": "bca38396-5d6e-4364-9c8d-4b5a85293c08",
   "metadata": {},
   "source": [
    "To prevent a recursive function from running indefinitely and causing a stack overflow error, we need to implement two key elements:\n",
    "\n",
    "1. Base Case:\n",
    "    A base case is a condition that, when met, stops the iteration. It defines the termination point of the recursive process. Without base case, the recursive function will continue calling itself indefinitely, leading to a stack overflow error.\n",
    "    \n",
    "2. Progress toward the Base Case:\n",
    "    Each recursive call should make progress toward reaching the base case. This ensures that the recursion eventually terminates.\n",
    "    \n",
    "Some Basic guidelines to prevent a recursive funtion from running indefinitely:\n",
    "a. Identify the problem you want to solve recursively.\n",
    "\n",
    "b. Define the base case(s) that specify when to stop the recursion. Base cases should be simple, non-recursive conditions that return a result.\n",
    "\n",
    "c. In the recursive case, divide the problem into smaller, similar subproblems and call the function recursively with these smaller subproblems. Ensure that the subproblems move closer to the base case."
   ]
  },
  {
   "cell_type": "markdown",
   "id": "3b05c6ca-3b8c-4f96-afe8-4d52186c62f5",
   "metadata": {},
   "source": [
    "6. Create a recursive Python function to find the greatest common divisor (GCD) of two numbers using the Euclidean algorithm."
   ]
  },
  {
   "cell_type": "code",
   "execution_count": 80,
   "id": "5495d20a-6c86-4314-8b1d-841d4d77664e",
   "metadata": {},
   "outputs": [
    {
     "name": "stdin",
     "output_type": "stream",
     "text": [
      "Enter the number 1:  18\n",
      "Enter the number 2:  48\n"
     ]
    },
    {
     "name": "stdout",
     "output_type": "stream",
     "text": [
      "The GCD of 18 and 48 is 6\n"
     ]
    }
   ],
   "source": [
    "def gcd(a, b):\n",
    "    # base case: when b becomes 0, a is GCD\n",
    "    if b == 0:\n",
    "        return a\n",
    "    \n",
    "    else:\n",
    "        return gcd(b, a % b)\n",
    "    \n",
    "try:\n",
    "    num1 = int(input(\"Enter the number 1: \"))\n",
    "    num2 = int(input(\"Enter the number 2: \"))\n",
    "    \n",
    "    print(f\"The GCD of {num1} and {num2} is {gcd(num1, num2)}\")\n",
    "    \n",
    "except ValueError:\n",
    "    print(\"Please enter only numerical value!\")"
   ]
  },
  {
   "cell_type": "markdown",
   "id": "603add2f-42d7-47c2-ac74-3b278333f306",
   "metadata": {},
   "source": [
    "7. Write a recursive Python function to reverse a string."
   ]
  },
  {
   "cell_type": "code",
   "execution_count": 82,
   "id": "63c338e8-83d1-40f5-a4cc-b94fa1667572",
   "metadata": {},
   "outputs": [
    {
     "name": "stdin",
     "output_type": "stream",
     "text": [
      "Enter any string:  Hansa Loves Guru\n"
     ]
    },
    {
     "name": "stdout",
     "output_type": "stream",
     "text": [
      "The reversed String is 'uruG sevoL asnaH'\n"
     ]
    }
   ],
   "source": [
    "def reverse_a_string(string):\n",
    "    if len(string) == 0:\n",
    "        return \"\"\n",
    "    elif len(string) == 1:\n",
    "        return string[0]\n",
    "    else:\n",
    "        return reverse_a_string(string[1:]) + string[0]\n",
    "    \n",
    "chars = input(\"Enter any string: \")\n",
    "\n",
    "print(f\"The reversed String is '{reverse_a_string(chars)}'\")"
   ]
  },
  {
   "cell_type": "markdown",
   "id": "dfd26f64-c8c8-4dbf-81b3-f00c0359ea09",
   "metadata": {},
   "source": [
    "8. Create a recursive Python function to calculate the power of a number (x^n)."
   ]
  },
  {
   "cell_type": "code",
   "execution_count": 85,
   "id": "683ca77c-56f7-4c80-b292-4d6b1a907bbb",
   "metadata": {},
   "outputs": [
    {
     "name": "stdin",
     "output_type": "stream",
     "text": [
      "Enter the number:  2\n",
      "Enter the power number:  5\n"
     ]
    },
    {
     "name": "stdout",
     "output_type": "stream",
     "text": [
      "2^5 is 32\n"
     ]
    }
   ],
   "source": [
    "def power(k, n):\n",
    "    if n == 0:\n",
    "        return 1\n",
    "    elif n == 1:\n",
    "        return k\n",
    "    else:\n",
    "        return k * power(k, n-1)\n",
    "    \n",
    "try:\n",
    "    \n",
    "    num = int(input(\"Enter the number: \"))\n",
    "    \n",
    "    po = int(input(\"Enter the power number: \"))\n",
    "    \n",
    "    print(f\"{num}^{po} is {power(num, po)}\")\n",
    "    \n",
    "except ValueError as ve:\n",
    "    print(\"Please enter only numerical value!\", ve)"
   ]
  },
  {
   "cell_type": "markdown",
   "id": "b32b7e35-cbba-4982-ab89-c70667b02d7a",
   "metadata": {},
   "source": [
    "9. Write a recursive Python function to find all permutations of a given string."
   ]
  },
  {
   "cell_type": "raw",
   "id": "2c1560ec-6134-4ad3-97be-1776e8a3f5ed",
   "metadata": {},
   "source": [
    "Using Depth First Search (DFS) approach. The idea is to fix one character at a time and recursively find the permuations of the remaining characters."
   ]
  },
  {
   "cell_type": "code",
   "execution_count": 92,
   "id": "5457bfd8-c33a-42d7-9adf-84b6c3768e1a",
   "metadata": {},
   "outputs": [
    {
     "name": "stdin",
     "output_type": "stream",
     "text": [
      "Enter any string:  abc\n"
     ]
    },
    {
     "name": "stdout",
     "output_type": "stream",
     "text": [
      "The possible permuations are: \n",
      "abc\n",
      "acb\n",
      "bac\n",
      "bca\n",
      "cab\n",
      "cba\n"
     ]
    }
   ],
   "source": [
    "def get_permutations(ipt_string):\n",
    "    \n",
    "    if len(ipt_string) <= 1:\n",
    "        return [ipt_string]\n",
    "    \n",
    "    permutations = []\n",
    "    \n",
    "    for i, char in enumerate(ipt_string):\n",
    "        \n",
    "        remaining_chars = ipt_string[:i] + ipt_string[i+1:]\n",
    "        \n",
    "        for perm in get_permutations(remaining_chars):\n",
    "            permutations.append(char + perm)\n",
    "    \n",
    "    return permutations\n",
    "\n",
    "string = input(\"Enter any string: \")\n",
    "\n",
    "permut = get_permutations(string)\n",
    "\n",
    "print(\"The possible permuations are: \")\n",
    "\n",
    "for i in permut:\n",
    "    print(i)"
   ]
  },
  {
   "cell_type": "markdown",
   "id": "3832a733-ee31-4d28-b6fb-13c796f4ad04",
   "metadata": {},
   "source": [
    "10. Write a recursive Python function to check if a string is a palindrome."
   ]
  },
  {
   "cell_type": "code",
   "execution_count": 93,
   "id": "b3fe6d7f-4b23-49ed-972c-05ca1785b1bf",
   "metadata": {},
   "outputs": [
    {
     "name": "stdin",
     "output_type": "stream",
     "text": [
      "Enter some string:  rotor\n"
     ]
    },
    {
     "name": "stdout",
     "output_type": "stream",
     "text": [
      "The given string is a Plaindrome!\n"
     ]
    }
   ],
   "source": [
    "def reverse_of_string(s):\n",
    "    if len(s) <= 1:\n",
    "        return s\n",
    "    else:\n",
    "        return reverse_of_string(s[1:]) + s[0]\n",
    "    \n",
    "string = input(\"Enter some string: \")\n",
    "\n",
    "if string == reverse_of_string(string):\n",
    "    print(\"The given string is a Plaindrome!\")\n",
    "    \n",
    "else:\n",
    "    print(\"The given string is not a Palindrome\")"
   ]
  },
  {
   "cell_type": "markdown",
   "id": "920811d5-bb15-491e-8442-2e33f14efc56",
   "metadata": {},
   "source": [
    "11. Create a recursive Python function to generate all possible combinations of a list of elements."
   ]
  },
  {
   "cell_type": "code",
   "execution_count": 95,
   "id": "a2f69acf-0028-4aba-9d04-6c07c72c08b1",
   "metadata": {},
   "outputs": [
    {
     "name": "stdout",
     "output_type": "stream",
     "text": [
      "All combinations of  [1, 2, 3]\n",
      "[]\n",
      "[3]\n",
      "[2]\n",
      "[2, 3]\n",
      "[1]\n",
      "[1, 3]\n",
      "[1, 2]\n",
      "[1, 2, 3]\n"
     ]
    }
   ],
   "source": [
    "def generate_combinations(elements):\n",
    "    if len(elements) == 0:\n",
    "        return [[]] # Base case: Empty list has one combination, the empty set\n",
    "    \n",
    "    first_element = elements[0]\n",
    "    rest_elements = elements[1:]\n",
    "    \n",
    "    # Recursive case: Generate combinations with and without the first element\n",
    "    combinations_without_first = generate_combinations(rest_elements)\n",
    "    \n",
    "    combinations_with_first = []\n",
    "    \n",
    "    for comb in combinations_without_first:\n",
    "        \n",
    "        # Include the first element in the combination\n",
    "        combinations_with_first.append([first_element] + comb)\n",
    "        \n",
    "    # Merge combinations with and without the first element\n",
    "    all_combinations = combinations_without_first + combinations_with_first\n",
    "    \n",
    "    return all_combinations\n",
    "\n",
    "\n",
    "\n",
    "items = [1, 2, 3]\n",
    "\n",
    "combinations = generate_combinations(items)\n",
    "\n",
    "print(\"All combinations of \", items)\n",
    "\n",
    "for c in combinations:\n",
    "    print(c)"
   ]
  },
  {
   "cell_type": "markdown",
   "id": "f0f2c033-6fbd-40de-8300-fc81e14f67a7",
   "metadata": {
    "jp-MarkdownHeadingCollapsed": true,
    "tags": []
   },
   "source": [
    "# Basics of Functions:"
   ]
  },
  {
   "cell_type": "markdown",
   "id": "7f24ed91-72c9-4eed-ac27-860e699b74d9",
   "metadata": {},
   "source": [
    "1. What is a function in Python, and why is it used?"
   ]
  },
  {
   "cell_type": "raw",
   "id": "b97a4dc6-0771-4f41-8313-0c91b48bbc45",
   "metadata": {},
   "source": [
    "A function is a block of reusable code that performs a specific task or a set of related tasks. \n",
    "Functions are used to organize and structure code, promote code reuse, and make programs more modular and maintainable.\n",
    "\n",
    "Key aspects of function:\n",
    "-------------------------\n",
    "\n",
    "1. Definition:\n",
    "    A function is defined using the `def` keyword, followed by the function name, a set of parentheses(which may contain input parameters), a colon(:), and an indented block of code that defines the funtion behaviour.\n",
    "    \n",
    "    Syntax:\n",
    "    def greet(name):\n",
    "        print(f\"Hello, {name}!\")\n",
    "        \n",
    "2. Function Name: \n",
    "    The function name should be meaningful and follow Python naming conventions (e.g., using lowercase letters and underscores for readability).\n",
    "    \n",
    "3. Input Parameters: \n",
    "    Functions can accept input parameters (also called arguments) that allow you to pass values or data into the function for processing. These parameters are specified within the parentheses when defining the function.\n",
    "    \n",
    "4. Return Value: \n",
    "    Functions can return a result or value using the return statement. If a function doesn't have a return statement, it implicitly returns None.\n",
    "    \n",
    "5. Function Call: \n",
    "    To use a function, you call it by its name and provide the necessary arguments (if any) within parentheses. The function's code block is executed, and the result (if any) is returned.\n",
    "    \n",
    "6. Code Reusability: \n",
    "    Functions allow you to encapsulate a piece of functionality, making it reusable throughout your program. You can call a function multiple times from different parts of your code.\n",
    "\n",
    "7. Modularity: \n",
    "    Functions promote modular programming by breaking down complex tasks into smaller, manageable functions. This makes code easier to understand, test, and maintain.\n",
    "\n",
    "8. Abstraction: \n",
    "    Functions hide the implementation details from the caller, providing a higher-level abstraction. This separation of concerns makes code more maintainable and allows for teamwork in large projects.\n",
    "\n",
    "9. Namespace: \n",
    "    Functions create their own local scope, preventing naming conflicts with variables in other parts of the program. This helps avoid unintended side effects.\n",
    "    \n",
    "Functions are an essential concept in Python programming and play a crucial role in structuring code, improving code readability, and promoting good software engineering practices. They allow developers to write efficient, organized, and maintainable code by encapsulating logic into reusable units."
   ]
  },
  {
   "cell_type": "markdown",
   "id": "59e3cc02-509a-4a30-a22e-737885b9f887",
   "metadata": {},
   "source": [
    "2. How do you define a function in Python? Provide an example."
   ]
  },
  {
   "cell_type": "raw",
   "id": "ac0f138c-94f5-4575-bc85-9cfa272b2ede",
   "metadata": {},
   "source": [
    "Define a Function:\n",
    "\n",
    "A function is defined using the `def` keyword, followed by the function name, a set of parentheses(which may contain input parameters), a colon(:), and an indented block of code that defines the funtion behaviour."
   ]
  },
  {
   "cell_type": "code",
   "execution_count": 96,
   "id": "d0b6a501-df44-4b30-8fd0-e46e71ec4c39",
   "metadata": {},
   "outputs": [
    {
     "data": {
      "text/plain": [
       "'Hello, Hansa'"
      ]
     },
     "execution_count": 96,
     "metadata": {},
     "output_type": "execute_result"
    }
   ],
   "source": [
    "def greet(name):\n",
    "    return f\"Hello, {name}\"\n",
    "\n",
    "greet(\"Hansa\")"
   ]
  },
  {
   "cell_type": "markdown",
   "id": "514c959b-f0bf-4a24-a155-870da5702b01",
   "metadata": {},
   "source": [
    "3. Explain the difference between a function definition and a function call."
   ]
  },
  {
   "cell_type": "raw",
   "id": "0656a7cd-2581-4412-853b-ab28e30ace59",
   "metadata": {},
   "source": [
    "1. Function Definition:\n",
    "-----------------------\n",
    "    a. Purpose:\n",
    "        Function definition is the process of creating a reusable block of code with a specific name and behaviour. We define a function to encapsulate a set of instructions that can be executed whenever needed.\n",
    "    \n",
    "    b. Syntax:\n",
    "        A function definition typically includes the following components:\n",
    "        i. The def keyword, which signals the start of a function definition.\n",
    "        ii. The function name, which should be a meaningful identifier.\n",
    "        iii. A set of parentheses that may contain input parameters (arguments) for the function.\n",
    "        iv. A colon : to indicate the beginning of the function's code block.\n",
    "        v. The function's code block, which contains the instructions or logic that defines the function's behavior.\n",
    "        \n",
    "    c. Example:\n",
    "        def greet(name):\n",
    "            print(f\"Hello, {name}!\")\n",
    "    \n",
    "    d. Role:\n",
    "        The primary role of a function definition is to define the behavior and structure of a function. It specifies what the function does when called but does not execute the function's code.\n",
    "    \n",
    "2. Function Call (Invoking a Function):\n",
    "---------------------------------------\n",
    "    a. Purpose:\n",
    "        Function call, aka invoking a function, is the process of executing a previousely defined function by providing it with necessary input arguments. When a function is called, we are instructing Python interpreter to execute the code within that function.\n",
    "        \n",
    "    b. Syntax:\n",
    "        To call a function, you use the function's name followed by parentheses that may contain the required input values (arguments).\n",
    "        \n",
    "    c. Example:\n",
    "        greet(\"Hansa\")\n",
    "        \n",
    "    d. Role:\n",
    "        The role of a function call is to trigger the execution of the code defined in the corresponding function definition. It provides values (if needed) for the function's parameters, allowing the function to perform its specified task.\n",
    "        \n"
   ]
  },
  {
   "cell_type": "raw",
   "id": "83725c5c-3994-4240-8539-539c6deb2054",
   "metadata": {},
   "source": [
    "In summary, a function definition defines the structure and behavior of a function, specifying what the function will do when called. On the other hand, a function call invokes the execution of the function, providing input values (if required) and triggering the code defined within the function definition to run. Functions are a way to encapsulate and reuse code, and understanding the distinction between function definitions and function calls is essential for effective programming in Python."
   ]
  },
  {
   "cell_type": "markdown",
   "id": "8f3893bf-c7c8-43c2-b1d4-f22743a0556e",
   "metadata": {},
   "source": [
    "4. Write a Python program that defines a function to calculate the sum of two numbers and then calls the function."
   ]
  },
  {
   "cell_type": "code",
   "execution_count": 1,
   "id": "fc2146d0-124d-49d1-88d2-4a1b8cef485e",
   "metadata": {},
   "outputs": [
    {
     "name": "stdin",
     "output_type": "stream",
     "text": [
      "Enter the 1st number:  1\n",
      "Enter the 2nd number:  2\n"
     ]
    },
    {
     "name": "stdout",
     "output_type": "stream",
     "text": [
      "The Sum of two numbers is: 3\n"
     ]
    }
   ],
   "source": [
    "# function definition\n",
    "def sum_of_two_numbers(a, b):\n",
    "    return a + b\n",
    "\n",
    "try:\n",
    "    num1 = int(input(\"Enter the 1st number: \"))\n",
    "    num2 = int(input(\"Enter the 2nd number: \"))\n",
    "    \n",
    "    total = sum_of_two_numbers(num1, num2) # function call\n",
    "    \n",
    "    print(f\"The Sum of two numbers is: {total}\")\n",
    "except ValueError:\n",
    "    print(\"Please enter only numerical values!\")"
   ]
  },
  {
   "cell_type": "markdown",
   "id": "2efac9d4-6e93-499b-bd00-1f02c090b4d1",
   "metadata": {},
   "source": [
    "5. What is a function signature, and what information does it typically include?"
   ]
  },
  {
   "cell_type": "raw",
   "id": "8b4b2cfc-96e8-4caf-9346-a7435d1604a9",
   "metadata": {},
   "source": [
    "A function signature, AKA a function prototype or function declaration, is a part of a function definition that provides essential information about the function's interface without including its actual implementation. It serves as a contact between the function and its callers, specifying the function's name, return type, and parameters. The function signature typically includes:\n",
    "\n",
    "a. Function Name: \n",
    "    The name of the function, which is used to identify and call the function.\n",
    "b. Return Type:\n",
    "    The data type of the value that the function returns when it is called.\n",
    "    This can be any valid Python data type, including built-in types (e.g., int, str, list) or user-defined types (e.g., classes).\n",
    "c. Parameters (input arguments):\n",
    "    The list of input parameters that the function expects when it is called.\n",
    "    Each parameter consists of a parameter name and its data type. \n",
    "    Parameters are enclosed in parentheses and separated by commas."
   ]
  },
  {
   "cell_type": "raw",
   "id": "274061f7-064c-41ec-b0fb-bfeddc0bb2b6",
   "metadata": {},
   "source": [
    "Function signatures are essential because they provide a clear and concise description of how to use a function without revealing its internal implementation details. This allows other developers to understand how to call the function correctly, what types of values to provide as arguments, and what to expect in terms of return values.\n",
    "\n",
    "Function signatures are particularly useful in larger codebases and when working collaboratively on projects because they serve as documentation and help ensure that functions are used correctly and consistently throughout the code."
   ]
  },
  {
   "cell_type": "markdown",
   "id": "ab482628-1f65-4c78-a4d5-004af7b45c99",
   "metadata": {},
   "source": [
    "6. Create a Python function that takes two arguments and returns their product."
   ]
  },
  {
   "cell_type": "code",
   "execution_count": 2,
   "id": "8627c966-eb97-436a-b2c2-6f796c3d2edb",
   "metadata": {},
   "outputs": [
    {
     "name": "stdin",
     "output_type": "stream",
     "text": [
      "Enter the 1st number:  1\n",
      "Enter the 2nd number:  2\n"
     ]
    },
    {
     "name": "stdout",
     "output_type": "stream",
     "text": [
      "The Product of two numbers is: 2\n"
     ]
    }
   ],
   "source": [
    "# function definition\n",
    "def product(a, b):\n",
    "    return a * b\n",
    "\n",
    "try:\n",
    "    num1 = int(input(\"Enter the 1st number: \"))\n",
    "    num2 = int(input(\"Enter the 2nd number: \"))\n",
    "    \n",
    "    mul = product(num1, num2) # function call\n",
    "    \n",
    "    print(f\"The Product of two numbers is: {mul}\")\n",
    "except ValueError:\n",
    "    print(\"Please enter only numerical values!\")"
   ]
  },
  {
   "cell_type": "markdown",
   "id": "d3cb0e11-4960-4ea7-99c2-ef4280d0dbfe",
   "metadata": {
    "jp-MarkdownHeadingCollapsed": true,
    "tags": []
   },
   "source": [
    "# Function Parameters and Arguments:"
   ]
  },
  {
   "cell_type": "markdown",
   "id": "83068bd1-b82d-4537-b60e-0213b32893f7",
   "metadata": {},
   "source": [
    "1. Explain the concepts of formal parameters and actual arguments in Python functions."
   ]
  },
  {
   "cell_type": "raw",
   "id": "a20d6c91-2e83-4228-be7e-b9c205fab6fe",
   "metadata": {},
   "source": [
    "The concepts of formal parameters and actual arguments are fundamental to understanding how functions receive and process input values.\n",
    "\n",
    "1. Formal Parameters:\n",
    "----------------------\n",
    "    a. Definition:\n",
    "        Formal Paramters, AKA formal arguments or function parameters, are the placeholders or variables defined in the function's parameter list. \n",
    "        They act as the input variables within the function's scope, representing the values that the function expects to receive when it's called.\n",
    "        \n",
    "    b. Purpose:\n",
    "        Formal parameters define the interface of the function, specifying what kind of the data the function needs and how many arguments it requires.\n",
    "        They serve as placeholders for the values that will be passed to the function when it is called.\n",
    "    \n",
    "    c. Syntax:\n",
    "        def function_name(param1, param2=default_value, param3: int):\n",
    "    \n",
    "    d. Example:\n",
    "        def add(x, y): # x and y are formal parameters\n",
    "            return x + y\n",
    "\n",
    "2. Actual Paramters (Arguments):\n",
    "--------------------------------\n",
    "    a. Definition:\n",
    "        Actual arguments, also called arguments or actual parameters, are the values that are passed to a function when it is called.\n",
    "        hese values are supplied by the caller of the function and are used to provide concrete data for the formal parameters defined in the function's signature.\n",
    "    \n",
    "    b. Purpose:\n",
    "        Actual arguments provide the actual data or values that the function will operate on. \n",
    "        They are substituted for the corresponding formal parameters when the function is called.\n",
    "    \n",
    "    c. Syntax:\n",
    "        result = function_name(arg1, arg2, arg3)\n",
    "\n",
    "    d. Example:\n",
    "        result = add(2, 3)"
   ]
  },
  {
   "cell_type": "raw",
   "id": "83e9e781-9a9a-47bf-872b-478137182ff3",
   "metadata": {},
   "source": [
    "The relationship between formal parameters and actual arguments is as follows:\n",
    "\n",
    "When a function is called, the actual arguments provided in the function call are bound to the corresponding formal parameters in the function's parameter list. This allows the function to access and manipulate the values passed by the caller.\n",
    "\n",
    "The number and order of actual arguments must match the number and order of formal parameters in the function's signature.\n",
    "\n",
    "Actual arguments can be values, variables, or expressions that produce values. They are evaluated before being passed to the function.\n",
    "\n",
    "In summary, formal parameters are placeholders defined in a function's parameter list, while actual arguments are the values provided when calling the function. The function uses the actual arguments to perform its operations based on the logic defined in its code, with the formal parameters serving as references to those values within the function's scope."
   ]
  },
  {
   "cell_type": "markdown",
   "id": "b43788a7-2fcf-4bab-aae8-491ba9900812",
   "metadata": {},
   "source": [
    "2. Write a Python program that defines a function with default argument values."
   ]
  },
  {
   "cell_type": "code",
   "execution_count": 3,
   "id": "cd97dc29-7666-4f4a-bbed-ee9d9f43553d",
   "metadata": {},
   "outputs": [
    {
     "name": "stdout",
     "output_type": "stream",
     "text": [
      "Hello, World!\n",
      "Hello, Hansa!\n"
     ]
    }
   ],
   "source": [
    "def greet(name = \"World\"):\n",
    "    \"\"\"\n",
    "    This function is to greet a person by name.\n",
    "    :param name: (str) default is 'World'\n",
    "    :returns: None\n",
    "    \"\"\"\n",
    "    print(f\"Hello, {name}!\")\n",
    "    \n",
    "    \n",
    "# calling the greet function without providing an argument\n",
    "greet() # output: Hello, World!\n",
    "\n",
    "# calling the greet function with an argument\n",
    "greet(\"Hansa\") # output: Hello, Hansa!"
   ]
  },
  {
   "cell_type": "markdown",
   "id": "4483928b-ac26-45d0-8489-afaf0088c2eb",
   "metadata": {},
   "source": [
    "3. How do you use keyword arguments in Python function calls? Provide an example."
   ]
  },
  {
   "cell_type": "raw",
   "id": "4795ba39-0e66-4212-be20-b1417bf06177",
   "metadata": {},
   "source": [
    "We can use keyword arguments in function calls to specify arguments by their parameter names. This allows us to provide arguments in any order, and it can improve the readability of the code, especially when calling functions with multiple arguments. \n",
    "To use keyword arguments, provide the parameter name followed by the argument value.\n",
    "\n",
    "Example:"
   ]
  },
  {
   "cell_type": "code",
   "execution_count": 5,
   "id": "69d8dc04-825c-460a-aeff-2cdc1d87ac88",
   "metadata": {},
   "outputs": [
    {
     "name": "stdout",
     "output_type": "stream",
     "text": [
      "We are a family of 5.\n",
      "God has given our family Good health.\n"
     ]
    }
   ],
   "source": [
    "def happiness(health, family_members):\n",
    "    \"\"\"\n",
    "    This function just displays information about happiness from my perspective\n",
    "    \"\"\"\n",
    "    print(f\"We are a family of {family_members}.\")\n",
    "    print(f\"God has given our family {health} health.\")\n",
    "    \n",
    "# useing keyword arguments to call the function\n",
    "happiness(health=\"Good\", family_members=5)"
   ]
  },
  {
   "cell_type": "raw",
   "id": "98dddd35-928d-44e3-9ffc-a08728781c4f",
   "metadata": {},
   "source": [
    "Using keyword arguments provides several benefits:\n",
    "\n",
    "Clarity: It makes the code more self-explanatory, as the parameter names clearly indicate the purpose of each argument.\n",
    "\n",
    "Order Independence: You can provide arguments in any order, which can be particularly useful for functions with many parameters.\n",
    "\n",
    "Readability: It can improve code readability, especially when you have long function calls with multiple arguments.\n",
    "\n",
    "Avoid Mistakes: It helps avoid mistakes in cases where you might accidentally switch the order of arguments."
   ]
  },
  {
   "cell_type": "markdown",
   "id": "439f9c36-3c40-4036-a9ac-7e64f6b34367",
   "metadata": {},
   "source": [
    "4. Create a Python function that accepts a variable number of arguments and calculates their sum."
   ]
  },
  {
   "cell_type": "code",
   "execution_count": 7,
   "id": "c93bf378-e8ac-4df8-bb20-77940161175a",
   "metadata": {},
   "outputs": [
    {
     "name": "stdout",
     "output_type": "stream",
     "text": [
      "Result 1: 15\n",
      "Result 2: 60\n",
      "Result 3: 4\n"
     ]
    }
   ],
   "source": [
    "def total_sum(*args):\n",
    "    total = 0\n",
    "    for num in args:\n",
    "        total += num\n",
    "        \n",
    "    return total\n",
    "\n",
    "\n",
    "# Test the total_sum function with different numbers of arguments\n",
    "result1 = total_sum(1, 2, 3, 4, 5)\n",
    "result2 = total_sum(10, 20, 30)\n",
    "result3 = total_sum(2, 2)\n",
    "\n",
    "print(\"Result 1:\", result1) \n",
    "print(\"Result 2:\", result2)\n",
    "print(\"Result 3:\", result3)\n"
   ]
  },
  {
   "cell_type": "markdown",
   "id": "ff619d01-4961-4f7c-8a63-8e9709bbc913",
   "metadata": {},
   "source": [
    "5. What is the purpose of the `*args` and `**kwargs` syntax in function parameter lists?"
   ]
  },
  {
   "cell_type": "raw",
   "id": "9e0f52b2-c373-41b5-a6b9-a93218244854",
   "metadata": {},
   "source": [
    "The *args and **kwargs syntax in function parameter lists in Python serve the purpose of allowing functions to accept a variable number of arguments, both positional and keyword arguments, respectively. These features provide flexibility when defining and calling functions. \n",
    "\n",
    "1. '*args' (Arbitrary Positional Arguments):\n",
    "---------------------------------------------\n",
    "    a. Purpose:\n",
    "        The *args syntax allows a function to accept an arbitrary number of positional arguments.\n",
    "        These arguments are collected into a tuple and can be accessed as such within the function.\n",
    "        It is used when you want to pass a variable number of non-keyword (positional) arguments to a function.\n",
    "        \n",
    "    b. Syntax:\n",
    "        To use *args, you define a parameter with an asterisk (*) before its name in the function's parameter list. \n",
    "        Conventionally, it is named args, but the name can be anything you choose.\n",
    "        \n",
    "    c. Example:"
   ]
  },
  {
   "cell_type": "code",
   "execution_count": 8,
   "id": "db80f2fe-11ac-4687-b7f0-79da6007fad6",
   "metadata": {},
   "outputs": [],
   "source": [
    "def sum_values(*args):\n",
    "    total = 0\n",
    "    for num in args:\n",
    "        total += num\n",
    "    return total\n",
    "\n",
    "result = sum_values(1, 2, 3, 4, 5)"
   ]
  },
  {
   "cell_type": "raw",
   "id": "d8bd1ebd-ce9a-4d51-abf4-42e77c6af16b",
   "metadata": {},
   "source": [
    "2. '**kwargs' (Arbitrary Keyword Arguments):\n",
    "---------------------------------------------\n",
    "    a. Purpose:\n",
    "        The **kwargs syntax allows a function to accept an arbitrary number of keyword arguments as a dictionary. \n",
    "        These keyword arguments are collected into a dictionary, where the keys are the argument names (keywords) and the values are the corresponding argument values. \n",
    "        It is used when you want to pass a variable number of keyword arguments to a function.\n",
    "        \n",
    "    b. Syntax:\n",
    "        To use **kwargs, you define a parameter with two asterisks (**) before its name in the function's parameter list. \n",
    "        Conventionally, it is named kwargs, but the name can be anything you choose.\n",
    "        \n",
    "    c. Example:"
   ]
  },
  {
   "cell_type": "code",
   "execution_count": 11,
   "id": "509092ba-e5c7-45df-b65b-4a58e6cd2fb7",
   "metadata": {},
   "outputs": [
    {
     "name": "stdout",
     "output_type": "stream",
     "text": [
      "Name: Hansa\n",
      "Age: 26\n",
      "City: Bengaluru\n"
     ]
    }
   ],
   "source": [
    "def print_info(**kwargs):\n",
    "    for key, value in kwargs.items():\n",
    "        print(f\"{key}: {value}\")\n",
    "\n",
    "print_info(Name=\"Hansa\", Age=26, City=\"Bengaluru\")"
   ]
  },
  {
   "cell_type": "markdown",
   "id": "06090a19-98d0-4a6d-a401-9951254c17ed",
   "metadata": {
    "tags": []
   },
   "source": [
    "# Return Values and Scoping:"
   ]
  },
  {
   "cell_type": "markdown",
   "id": "a45b11d0-aa1f-4e32-b672-24ba928879db",
   "metadata": {},
   "source": [
    "1. Describe the role of the `return` statement in Python functions and provide examples."
   ]
  },
  {
   "cell_type": "raw",
   "id": "6f1689ec-82cc-4962-987e-4661295419f9",
   "metadata": {},
   "source": [
    "The 'return' statement is used in functions to specify the value that the function should return when it is called.\n",
    "\n",
    "It serves the following roles:\n",
    "\n",
    "- Value Output: \n",
    "    The primary role of the return statement is to send a value or result back to the caller of the function. This returned value can be used in the calling code.\n",
    "    \n",
    "- Function Termination: \n",
    "    When a return statement is encountered in a function, it immediately terminates the function's execution. Any code after the return statement within the same function is not executed.\n",
    "    \n",
    "- Multiple Returns: \n",
    "    A function can have multiple return statements, each conditionally returning a different value based on specific conditions.\n",
    "    \n",
    "Examples:\n",
    "\n",
    "Example 1: Basic Return\n",
    "------------------------"
   ]
  },
  {
   "cell_type": "code",
   "execution_count": 21,
   "id": "03def8e2-a230-4ae0-a967-3b594f2a93c3",
   "metadata": {},
   "outputs": [
    {
     "name": "stdout",
     "output_type": "stream",
     "text": [
      "Sum = 8\n"
     ]
    }
   ],
   "source": [
    "def add(a, b):\n",
    "    result = a + b\n",
    "    return result\n",
    "\n",
    "res = add(3, 5)\n",
    "print(f\"Sum = {res}\")"
   ]
  },
  {
   "cell_type": "raw",
   "id": "2ac02ded-8832-40fa-b1c2-a89590dbe24f",
   "metadata": {},
   "source": [
    "Example 2: Early Function Termination\n",
    "--------------------------------------"
   ]
  },
  {
   "cell_type": "code",
   "execution_count": 23,
   "id": "21736600-07f3-4e82-a609-2b3cf706f9b4",
   "metadata": {},
   "outputs": [
    {
     "name": "stdout",
     "output_type": "stream",
     "text": [
      "Result 1 =  5.0\n",
      "Result 2 =  Division by zero is not allowed\n"
     ]
    }
   ],
   "source": [
    "def divide(a, b):\n",
    "    if b == 0:\n",
    "        return \"Division by zero is not allowed\"\n",
    "    \n",
    "    result = a / b\n",
    "    return result\n",
    "\n",
    "result1 = divide(10, 2)\n",
    "\n",
    "result2 = divide(8, 0)\n",
    "\n",
    "print(\"Result 1 = \", result1)\n",
    "print(\"Result 2 = \", result2)"
   ]
  },
  {
   "cell_type": "raw",
   "id": "cb2cf932-4909-4564-b85a-456430f6d9ac",
   "metadata": {},
   "source": [
    "Example 3: Multiple Returns\n",
    "----------------------------"
   ]
  },
  {
   "cell_type": "code",
   "execution_count": 24,
   "id": "13402dad-3787-4047-989b-72539d46f72c",
   "metadata": {},
   "outputs": [
    {
     "name": "stdout",
     "output_type": "stream",
     "text": [
      "Result =  ('Hansa', 26, 'Thanks')\n"
     ]
    }
   ],
   "source": [
    "def multiple_returns(a, b):\n",
    "    return a, b, \"Thanks\"\n",
    "\n",
    "result = multiple_returns(\"Hansa\", 26)\n",
    "\n",
    "print(\"Result = \", result)"
   ]
  },
  {
   "cell_type": "markdown",
   "id": "7f2d4568-6e94-4802-a2c2-d0c0a17f454f",
   "metadata": {},
   "source": [
    "2. Explain the concept of variable scope in Python, including local and global variables."
   ]
  },
  {
   "cell_type": "raw",
   "id": "1499754b-c81d-4e36-bc49-7a8f70e2a052",
   "metadata": {},
   "source": [
    "Variable scope in Python refers to the region of the code where a particular variable can be accessed or modified. \n",
    "Python has two primary types of variable scope: local scope and global scope\n",
    "\n",
    "1. Local Scope:\n",
    "----------------\n",
    "- Variables defined inside a function have local scope, which means they are accessible only within that function.\n",
    "- Local variables are created when the function is called and destroyed when the function exits.\n",
    "- They are not accessible outside the function, making them encapsulated and protected from interference with other parts of the code.\n",
    "\n",
    "Example:"
   ]
  },
  {
   "cell_type": "code",
   "execution_count": 25,
   "id": "25ff63ee-f22a-4030-a31e-cd70b5543576",
   "metadata": {},
   "outputs": [
    {
     "name": "stdout",
     "output_type": "stream",
     "text": [
      "42\n"
     ]
    },
    {
     "ename": "NameError",
     "evalue": "name 'local_variable' is not defined",
     "output_type": "error",
     "traceback": [
      "\u001b[0;31m---------------------------------------------------------------------------\u001b[0m",
      "\u001b[0;31mNameError\u001b[0m                                 Traceback (most recent call last)",
      "Cell \u001b[0;32mIn[25], line 6\u001b[0m\n\u001b[1;32m      3\u001b[0m     \u001b[38;5;28mprint\u001b[39m(local_variable)\n\u001b[1;32m      5\u001b[0m my_function()\n\u001b[0;32m----> 6\u001b[0m \u001b[38;5;28mprint\u001b[39m(\u001b[43mlocal_variable\u001b[49m) \u001b[38;5;66;03m# this would result in error, because, local_variable is not defined in the global scope\u001b[39;00m\n",
      "\u001b[0;31mNameError\u001b[0m: name 'local_variable' is not defined"
     ]
    }
   ],
   "source": [
    "def my_function():\n",
    "    local_variable = 42\n",
    "    print(local_variable)\n",
    "    \n",
    "my_function()\n",
    "print(local_variable) # this would result in error, because, local_variable is not defined in the global scope"
   ]
  },
  {
   "cell_type": "raw",
   "id": "3b9291b6-25ed-448c-a6a0-13b80325c706",
   "metadata": {},
   "source": [
    "2. Global Scope:\n",
    "----------------\n",
    "- Variables defined outside of any function or block have global scope, meaning they are accessible from any part of the code, including functions.\n",
    "- Global variables are created when the program starts and persist until the program terminates.\n",
    "- They can be accessed, modified, and shared across multiple functions and code blocks.\n",
    "\n",
    "Example:"
   ]
  },
  {
   "cell_type": "code",
   "execution_count": 26,
   "id": "a56fb623-024f-46bb-9075-21ae40527120",
   "metadata": {},
   "outputs": [
    {
     "name": "stdout",
     "output_type": "stream",
     "text": [
      "100\n",
      "100\n"
     ]
    }
   ],
   "source": [
    "global_var = 100\n",
    "\n",
    "def my_function():\n",
    "    print(global_var)\n",
    "    \n",
    "my_function()\n",
    "print(global_var)"
   ]
  },
  {
   "cell_type": "raw",
   "id": "77e300f7-7811-4f1f-915e-dc63bd0206b1",
   "metadata": {},
   "source": [
    "3. Variable Shadowing:\n",
    "----------------------\n",
    "- If a variable with the same name exists both in the local and global scope, the local variable takes precedence within the local scope, shadowing the global variable.\n",
    "- Changes made to the local variable do not affect the global variable.\n",
    "\n",
    "Example:"
   ]
  },
  {
   "cell_type": "code",
   "execution_count": 27,
   "id": "b695849f-382f-41fc-bb43-ebe330bdb6fc",
   "metadata": {},
   "outputs": [
    {
     "name": "stdout",
     "output_type": "stream",
     "text": [
      "200\n",
      "100\n"
     ]
    }
   ],
   "source": [
    "gv = 100\n",
    "\n",
    "def my_function():\n",
    "    gv = 200 # This is a local variable with the same name as the global variable\n",
    "    print(gv) # prints the local variable, not the global variable\n",
    "    \n",
    "my_function() # calling the function that prints 200\n",
    "print(gv) # this prints the global variable, which remains unaffected (100)"
   ]
  },
  {
   "cell_type": "raw",
   "id": "f1f2e2d2-ee4a-460c-8738-5af1d723c928",
   "metadata": {},
   "source": [
    "4. Accessing Global Variables from Local Scope:\n",
    "-----------------------------------------------\n",
    "- To access a global variable within a function's local scope, you can use the 'global' keyword to declare the variable as global explicitly.\n",
    "\n",
    "Example:"
   ]
  },
  {
   "cell_type": "code",
   "execution_count": 28,
   "id": "7aa075a7-3053-4e98-8d94-895322c920e5",
   "metadata": {},
   "outputs": [
    {
     "name": "stdout",
     "output_type": "stream",
     "text": [
      "100\n"
     ]
    }
   ],
   "source": [
    "global_var = 100\n",
    "\n",
    "def my_function():\n",
    "    global global_var\n",
    "    print(global_var)\n",
    "    \n",
    "my_function()"
   ]
  },
  {
   "cell_type": "raw",
   "id": "a548ba9e-aea6-452c-b23c-8264c4b24154",
   "metadata": {},
   "source": [
    "Local scope provides encapsulation and prevents unintended interference between variables in different parts of your program. Global variables, on the other hand, allow you to share data and state across various functions and code blocks."
   ]
  },
  {
   "cell_type": "markdown",
   "id": "70cbd463-26bc-4223-b3a1-8c98810430d3",
   "metadata": {},
   "source": [
    "3. Write a Python program that demonstrates the use of global variables within functions."
   ]
  },
  {
   "cell_type": "code",
   "execution_count": 32,
   "id": "052b2092-4d06-48bd-b3d3-33e1e8a4d585",
   "metadata": {},
   "outputs": [
    {
     "name": "stdout",
     "output_type": "stream",
     "text": [
      "Initial Global Variable:  10\n",
      "Modified Global Variable: 55\n"
     ]
    }
   ],
   "source": [
    "# define a global variable\n",
    "global_variable = 10\n",
    "\n",
    "# define a function that uses the global variable\n",
    "def increment_global():\n",
    "    global global_variable\n",
    "    global_variable += 1\n",
    "    \n",
    "# define another function that uses the global variable\n",
    "def multiply_global(n):\n",
    "    global global_variable\n",
    "    global_variable *= n\n",
    "    \n",
    "\n",
    "print(\"Initial Global Variable: \", global_variable)\n",
    "\n",
    "# call the functions that modify the global variable\n",
    "increment_global()\n",
    "multiply_global(5)\n",
    "\n",
    "# Print the modified global variable\n",
    "print(\"Modified Global Variable:\", global_variable)"
   ]
  },
  {
   "cell_type": "markdown",
   "id": "46fb2537-018b-4c3c-a211-cba967a3a396",
   "metadata": {},
   "source": [
    "4. Create a Python function that calculates the factorial of a number and returns it."
   ]
  },
  {
   "cell_type": "code",
   "execution_count": 33,
   "id": "ea6fc712-bc5f-485d-a7d3-93153b813c1f",
   "metadata": {},
   "outputs": [
    {
     "name": "stdin",
     "output_type": "stream",
     "text": [
      "Enter the number:  5\n"
     ]
    },
    {
     "name": "stdout",
     "output_type": "stream",
     "text": [
      "The Factorial of 5 is 120\n"
     ]
    }
   ],
   "source": [
    "def factorial(n):\n",
    "    fact = 1\n",
    "    if n <= 1:\n",
    "        return 1\n",
    "    else:\n",
    "        for i in range(1, n+1):\n",
    "            fact *= i\n",
    "            \n",
    "    return fact\n",
    "\n",
    "\n",
    "num = int(input(\"Enter the number: \"))\n",
    "print(f\"The Factorial of {num} is {factorial(num)}\")"
   ]
  },
  {
   "cell_type": "markdown",
   "id": "df08e1c0-3994-403b-af8d-f5a5333150f5",
   "metadata": {},
   "source": [
    "5. How can you access variables defined outside a function from within the function?"
   ]
  },
  {
   "cell_type": "raw",
   "id": "7d9006f6-bd5d-4a7c-ab8c-b31a99e06122",
   "metadata": {},
   "source": [
    "To access variables defined outside a function from within the function in Python, we have below few options:\n",
    "\n",
    "1. Global Variables:\n",
    "    Declare a variable as 'global' within the function using 'global' keyword. "
   ]
  },
  {
   "cell_type": "code",
   "execution_count": 34,
   "id": "1e3ceb59-6c0a-432c-a722-ecb5bd6a6fa3",
   "metadata": {},
   "outputs": [
    {
     "name": "stdout",
     "output_type": "stream",
     "text": [
      "Global Variable: 10\n"
     ]
    }
   ],
   "source": [
    "global_var = 10\n",
    "\n",
    "def access_global():\n",
    "    global global_var\n",
    "    print(\"Global Variable:\", global_var)\n",
    "\n",
    "access_global()"
   ]
  },
  {
   "cell_type": "raw",
   "id": "3ec94d32-6840-4f72-9651-ec2f15a1bb1b",
   "metadata": {},
   "source": [
    "2. Passing Variables as Function Arguments: \n",
    "    We can pass variables as arguments to the function. This is a recommended approach for making functions more modular and less reliant on global state"
   ]
  },
  {
   "cell_type": "code",
   "execution_count": 35,
   "id": "aa162d1c-7624-488f-9fd6-a3ab4d02fea2",
   "metadata": {},
   "outputs": [
    {
     "name": "stdout",
     "output_type": "stream",
     "text": [
      "Variable from Argument: 10\n"
     ]
    }
   ],
   "source": [
    "def access_by_argument(variable):\n",
    "    print(\"Variable from Argument:\", variable)\n",
    "    \n",
    "local_var = 10\n",
    "access_by_argument(local_var)"
   ]
  },
  {
   "cell_type": "raw",
   "id": "5474db49-901b-4699-a96b-5765cc8b222d",
   "metadata": {},
   "source": [
    "3. Using Enclosing Scope (Closures):\n",
    "    If a variable is defined in an enclosing scope (e.g., an outer function), you can access it from an inner function without declaring it as global.\n",
    "    This concept is known as a closure."
   ]
  },
  {
   "cell_type": "code",
   "execution_count": 36,
   "id": "cd68bf22-afc4-43b4-9502-868d239aa65d",
   "metadata": {},
   "outputs": [
    {
     "name": "stdout",
     "output_type": "stream",
     "text": [
      "Accessing from Inner function:  I'm from outer function.\n"
     ]
    }
   ],
   "source": [
    "def outer_function():\n",
    "    outer_var = \"I'm from outer function.\"\n",
    "    \n",
    "    def inner_function():\n",
    "        print(\"Accessing from Inner function: \", outer_var)\n",
    "        \n",
    "    return inner_function\n",
    "\n",
    "inner = outer_function()\n",
    "inner()"
   ]
  },
  {
   "cell_type": "raw",
   "id": "2a286ac9-d829-4284-bd1f-7b2da7580692",
   "metadata": {},
   "source": [
    "While all of these methods allow you to access variables defined outside a function, it's essential to use them appropriately based on the design and requirements of your program. Avoid excessive use of global variables when possible, as it can make code harder to understand and maintain. Pass values as arguments when practical, and use closures when you need to access variables from an enclosing scope within nested functions."
   ]
  },
  {
   "cell_type": "markdown",
   "id": "d716b658-d573-48df-86aa-8569c4334214",
   "metadata": {
    "jp-MarkdownHeadingCollapsed": true,
    "tags": []
   },
   "source": [
    "# Lambda Functions and Higher-Order Functions:"
   ]
  },
  {
   "cell_type": "markdown",
   "id": "7fd15f49-f23a-449c-98c7-e5c1f76384bc",
   "metadata": {},
   "source": [
    "1. What are lambda functions in Python, and when are they typically used?"
   ]
  },
  {
   "cell_type": "raw",
   "id": "f1aef6d5-cb0e-4352-bb57-6cf792664eae",
   "metadata": {},
   "source": [
    "lambda functions, AKA anonymous functions or lambda expressions, are a feature in python that allows to create a small, unnamed functions on the fly. \n",
    "They are defined using the 'lambda' keyword followed by one or more arguments, a colon(':'), and an expression.\n",
    "\n",
    "Syntax:\n",
    "-------\n",
    "\n",
    "lambda arguments: expression\n",
    "\n",
    "Key charcateristics of Lambda functions:\n",
    "----------------------------------------\n",
    "- Anonymous: \n",
    "    Lambda functions are anonymous, meaning they don't have a name like regular functions defined with def. They are typically used for short, simple operations where creating a named function would be unnecessary.\n",
    "\n",
    "- Single Expression: \n",
    "    Lambda functions consist of a single expression, and the result of that expression is returned. They are not designed for complex logic or multiple statements.\n",
    "\n",
    "- Limited Scope: \n",
    "    Lambda functions have limited scope and are often used for local, short-lived tasks.\n",
    "\n",
    "Usage:\n",
    "-------\n",
    "    While lambda functions are useful for concise and one-off operations, they are not suitable for more complex or multi-statement functions. In such cases, it's recommended to use regular named functions defined with def. Lambda functions are a tool for writing more functional-style code in Python, particularly when you need to pass small, anonymous functions as arguments to other functions."
   ]
  },
  {
   "cell_type": "code",
   "execution_count": 17,
   "id": "6768cf21-7409-4b87-ab64-8d023a783c77",
   "metadata": {},
   "outputs": [
    {
     "name": "stdout",
     "output_type": "stream",
     "text": [
      "['Bob', 'Alice', 'David', 'Charlie']\n"
     ]
    }
   ],
   "source": [
    "names = [\"Alice\", \"Bob\", \"Charlie\", \"David\"]\n",
    "sorted_names = sorted(names, key=lambda x: len(x))\n",
    "print(sorted_names)"
   ]
  },
  {
   "cell_type": "markdown",
   "id": "725aac79-37ab-462d-85b9-884bc2750898",
   "metadata": {},
   "source": [
    "2. Write a Python program that uses lambda functions to sort a list of tuples based on the second element."
   ]
  },
  {
   "cell_type": "code",
   "execution_count": 18,
   "id": "bf3a416a-dd51-4e21-9d6f-91c4108cb72f",
   "metadata": {},
   "outputs": [
    {
     "name": "stdout",
     "output_type": "stream",
     "text": [
      "Sorted Data:  [(4, 1), (3, 2), (1, 4), (5, 5), (2, 6)]\n"
     ]
    }
   ],
   "source": [
    "data = [(1, 4), (3, 2), (2, 6), (4, 1), (5, 5)]\n",
    "\n",
    "# using the sorted function with a lambda function as they argument and based on the second element\n",
    "sorted_data = sorted(data, key=lambda x: x[1]) \n",
    "\n",
    "print(\"Sorted Data: \", sorted_data)"
   ]
  },
  {
   "cell_type": "raw",
   "id": "ab592df5-0ff8-443d-8e74-914d416686bc",
   "metadata": {},
   "source": [
    "The sorted() function allows you to specify custom sorting criteria using lambda functions, making it versatile for various sorting needs. In this case, we used a lambda function to sort the list of tuples by the second element,"
   ]
  },
  {
   "cell_type": "markdown",
   "id": "9ecd85c1-486e-44c3-b537-e21e371131f3",
   "metadata": {},
   "source": [
    "3. Explain the concept of higher-order functions in Python, and provide an example."
   ]
  },
  {
   "cell_type": "raw",
   "id": "4a69ad7f-cf33-4f4f-ae37-6828e30ffebd",
   "metadata": {},
   "source": [
    "A Higher-Order function is a function that takes one or more functions as arguments and/or returns a function as its result.\n",
    "It treats functions as first-class citizens, allowing you to manipulate and use functions just like any other data types, such as integers or strings.\n",
    "\n",
    "The concept of higher order functions is closely related to functional programming, which is a programming paradigm that focuses on using functions to perform operations and transformations on data. Higher-Order functions enable you to write more modular, reusable, and expressive code."
   ]
  },
  {
   "cell_type": "code",
   "execution_count": 19,
   "id": "063be4cd-253e-4eb5-9153-8ba100bd29cc",
   "metadata": {},
   "outputs": [
    {
     "name": "stdout",
     "output_type": "stream",
     "text": [
      "Addition: 8\n",
      "Subtraction: 6\n",
      "Multiplication: 24\n",
      "Division: 5.0\n"
     ]
    }
   ],
   "source": [
    "# define a higher-order function that takes a function as an argument\n",
    "def apply_operation(operation, x, y):\n",
    "    return operation(x, y)\n",
    "\n",
    "# define some functions to use with the higher-order function\n",
    "def add(x, y):\n",
    "    return x + y\n",
    "\n",
    "def subtract(x, y):\n",
    "    return x - y\n",
    "\n",
    "def multiply(x, y):\n",
    "    return x * y\n",
    "\n",
    "def divide(x, y):\n",
    "    return x / y\n",
    "\n",
    "# Use the higher-order function to perform different operations\n",
    "result1 = apply_operation(add, 5, 3)\n",
    "result2 = apply_operation(subtract, 8, 2)\n",
    "result3 = apply_operation(multiply, 4, 6)\n",
    "result4 = apply_operation(divide, 10, 2)\n",
    "\n",
    "print(\"Addition:\", result1)\n",
    "print(\"Subtraction:\", result2)\n",
    "print(\"Multiplication:\", result3)\n",
    "print(\"Division:\", result4)"
   ]
  },
  {
   "cell_type": "raw",
   "id": "3e9b761a-a346-47c2-805d-dd24c1f2239c",
   "metadata": {},
   "source": [
    "Description of the above function:\n",
    "\n",
    "We define a higher-order function called apply_operation that takes three arguments: an operation (which is a function), and two operands (x and y).\n",
    "\n",
    "We also define four basic mathematical functions (add, subtract, multiply, and divide) that we can use as operations.\n",
    "\n",
    "We then use the apply_operation function to apply different operations to pairs of numbers, passing the appropriate operation function as an argument.\n",
    "\n",
    "The apply_operation function treats the operation function as a first-class citizen, applying it to the operands and returning the result."
   ]
  },
  {
   "cell_type": "raw",
   "id": "55b8d650-d3e0-4cdb-900e-921224695828",
   "metadata": {},
   "source": [
    "Higher-order functions are powerful because they allow you to write more generic and reusable code. You can create functions that can work with a wide range of operations, and you can even create functions on the fly and pass them to other functions as arguments. This functional programming paradigm can lead to more concise and expressive code in certain situations."
   ]
  },
  {
   "cell_type": "markdown",
   "id": "a2f3f50a-a7b7-4573-a9bb-453f4cf6d231",
   "metadata": {},
   "source": [
    "4. Create a Python function that takes a list of numbers and a function as arguments, applying the function to each element in the list."
   ]
  },
  {
   "cell_type": "code",
   "execution_count": 20,
   "id": "cd4057b7-b7ea-4707-a2e5-ca0444a716ff",
   "metadata": {},
   "outputs": [
    {
     "name": "stdout",
     "output_type": "stream",
     "text": [
      "Original Numbers: [1, 2, 3, 4, 5]\n",
      "Doubled Numbers: [2, 4, 6, 8, 10]\n"
     ]
    }
   ],
   "source": [
    "def apply_function_to_list(func, num_list):\n",
    "    \"\"\"\n",
    "    Apply a given function to each element in a list of numbers.\n",
    "\n",
    "    Args:\n",
    "    - func (function): The function to apply to each element.\n",
    "    - num_list (list): The list of numbers to which the function will be applied.\n",
    "\n",
    "    Returns:\n",
    "    - list: A list of results after applying the function to each element.\n",
    "    \"\"\"\n",
    "    # use a list comprehension to apply the function to each element in the list\n",
    "    result_list = [func(num) for num in num_list]\n",
    "    \n",
    "    return result_list\n",
    "\n",
    "# define another function to double a number\n",
    "def double(x):\n",
    "    return x * 2\n",
    "\n",
    "numbers = [1, 2, 3, 4, 5]\n",
    "\n",
    "# Use the higher-order function to apply the 'double' function to each element in the 'numbers' list\n",
    "doubled_numbers = apply_function_to_list(double, numbers)\n",
    "\n",
    "print(\"Original Numbers:\", numbers)\n",
    "print(\"Doubled Numbers:\", doubled_numbers)"
   ]
  },
  {
   "cell_type": "markdown",
   "id": "514badb6-d099-45ae-adac-6ce8a55bef09",
   "metadata": {
    "jp-MarkdownHeadingCollapsed": true,
    "tags": []
   },
   "source": [
    "# Built-in Functions:"
   ]
  },
  {
   "cell_type": "markdown",
   "id": "bb1e1a6f-0674-401d-8169-637a857622fd",
   "metadata": {},
   "source": [
    "1. Describe the role of built-in functions like `len()`, `max()`, and `min()` in Python."
   ]
  },
  {
   "cell_type": "raw",
   "id": "fd24a9e7-6c8a-48ea-879b-a19dcb75196e",
   "metadata": {},
   "source": [
    "Built-in functions like len(), max(), and min() in Python play a crucial role in performing common operations and computations on data. These functions are part of Python's standard library, and they provide convenient and efficient ways to work with sequences, collections, and values.\n",
    "\n",
    "1. len():\n",
    "----------\n",
    "\n",
    "- Role:\n",
    "    The len() function is used to determine the length or number of elements in various Python data structures, such as strings, lists, tuples, dictionaries, sets, and more.\n",
    "\n",
    "- Usage:\n",
    "    To use len(), you pass a single argument, which can be any iterable or object for which the length is meaningful. It returns an integer representing the length of the object."
   ]
  },
  {
   "cell_type": "code",
   "execution_count": 11,
   "id": "1cc1d192-f709-43f5-b185-7a6f3d9bca9a",
   "metadata": {},
   "outputs": [
    {
     "name": "stdout",
     "output_type": "stream",
     "text": [
      "13\n"
     ]
    }
   ],
   "source": [
    "text = \"Hello, World!\"\n",
    "length = len(text) # Returns 13\n",
    "print(length)"
   ]
  },
  {
   "cell_type": "raw",
   "id": "f57b4a84-4c09-426e-8ddd-7c7d530e2c2a",
   "metadata": {},
   "source": [
    "2. max():\n",
    "----------\n",
    "\n",
    "- Role:\n",
    "    The max() function is used to find the maximum value among a collection of values or elements. \n",
    "    It can be applied to sequences, such as lists, tuples, and strings, or to multiple arguments.\n",
    "\n",
    "- Usage: \n",
    "    To use max(), you pass one or more arguments (iterables or values), and it returns the largest element among them."
   ]
  },
  {
   "cell_type": "code",
   "execution_count": 12,
   "id": "0cdcd3a3-a272-4b36-9704-3ba1d7dffae1",
   "metadata": {},
   "outputs": [
    {
     "name": "stdout",
     "output_type": "stream",
     "text": [
      "9\n",
      "Charlie\n"
     ]
    }
   ],
   "source": [
    "numbers = [5, 2, 8, 1, 9]\n",
    "max_number = max(numbers)  # Returns 9\n",
    "print(max_number)\n",
    "\n",
    "names = [\"Alice\", \"Bob\", \"Charlie\"]\n",
    "longest_name = max(names, key=len)  # Returns \"Charlie\" (based on the length of names)\n",
    "print(longest_name)"
   ]
  },
  {
   "cell_type": "raw",
   "id": "0c147907-96bd-470f-aa20-1fd489fe51b9",
   "metadata": {},
   "source": [
    "3. min():\n",
    "----------\n",
    "\n",
    "- Role:\n",
    "    The min() function is used to find the minimum value among a collection of values or elements. \n",
    "    Similar to max(), it can be applied to sequences or multiple arguments.\n",
    "    \n",
    "- Usage:\n",
    "    To use min(), you pass one or more arguments (iterables or values), and it returns the smallest element among them."
   ]
  },
  {
   "cell_type": "code",
   "execution_count": 13,
   "id": "d6c1883a-9fd5-4027-a82e-0eca55d19f63",
   "metadata": {},
   "outputs": [
    {
     "name": "stdout",
     "output_type": "stream",
     "text": [
      "1\n",
      "Bob\n"
     ]
    }
   ],
   "source": [
    "numbers = [5, 2, 8, 1, 9]\n",
    "min_number = min(numbers)  # Returns 1\n",
    "print(min_number)\n",
    "\n",
    "names = [\"Alice\", \"Bob\", \"Charlie\"]\n",
    "shortest_name = min(names, key=len)  # Returns \"Bob\" (based on the length of names)\n",
    "print(shortest_name)"
   ]
  },
  {
   "cell_type": "markdown",
   "id": "2cf01c66-b27c-468c-853b-6328122488a3",
   "metadata": {},
   "source": [
    "2. Write a Python program that uses the `map()` function to apply a function to each element of a list."
   ]
  },
  {
   "cell_type": "raw",
   "id": "77f91d6f-f320-45e4-940d-6bdf5cdca7a0",
   "metadata": {},
   "source": [
    "The map() function is a convenient way to apply a function to all elements of an iterable, such as a list, and collect the results in a new iterable."
   ]
  },
  {
   "cell_type": "code",
   "execution_count": 14,
   "id": "6c97a9e2-81fb-45a1-8e02-c3dc313250eb",
   "metadata": {},
   "outputs": [
    {
     "name": "stdout",
     "output_type": "stream",
     "text": [
      "Original Numbers: [1, 2, 3, 4, 5]\n",
      "Doubled Numbers: [2, 4, 6, 8, 10]\n"
     ]
    }
   ],
   "source": [
    "def double_num(n):\n",
    "    return n * 2\n",
    "\n",
    "numbers = [1, 2, 3, 4, 5]\n",
    "\n",
    "doubled_numbers = list(map(double_num, numbers))\n",
    "\n",
    "print(f\"Original Numbers: {numbers}\\nDoubled Numbers: {doubled_numbers}\")"
   ]
  },
  {
   "cell_type": "markdown",
   "id": "73accaed-18fc-4854-992d-74ce7f8c50a1",
   "metadata": {},
   "source": [
    "3. How does the `filter()` function work in Python, and when would you use it?"
   ]
  },
  {
   "cell_type": "raw",
   "id": "109dbc4e-33f1-4fe2-a005-e774a13b8c5e",
   "metadata": {},
   "source": [
    "The filter() function in Python is used to filter elements from an iterable (e.g., a list, tuple, or other iterable) based on a specified condition or predicate function. It returns a new iterable containing only the elements for which the condition evaluates to True. \n",
    "\n",
    "Syntax:\n",
    "-------\n",
    "filter(function, iterable)\n",
    "\n",
    "- function: \n",
    "    This is a function or a callable that takes an element from the iterable as its argument and returns True or False to indicate whether the element should be included in the output.\n",
    "- iterable: \n",
    "    This is the iterable (e.g., a list) from which elements are filtered.\n",
    "\n",
    "Here's how the filter() function works:\n",
    "----------------------------------------\n",
    "- The filter() function takes each element from the iterable and passes it as an argument to the specified function.\n",
    "\n",
    "- The function is responsible for evaluating whether the element meets the desired condition. If the condition is met and the function returns True, the element is included in the output; otherwise, it is omitted.\n",
    "\n",
    "- The filter() function returns a new iterable (an iterator) that contains only the elements for which the function returned True.\n",
    "\n"
   ]
  },
  {
   "cell_type": "code",
   "execution_count": 15,
   "id": "e6fd6b57-062f-41d0-97e1-b2ffb0a5a3b9",
   "metadata": {},
   "outputs": [
    {
     "name": "stdout",
     "output_type": "stream",
     "text": [
      "Even Numbers: [2, 4, 6, 8, 10]\n"
     ]
    }
   ],
   "source": [
    "# define a function to check if a number is even\n",
    "def is_even(number):\n",
    "    return number % 2 == 0\n",
    "\n",
    "numbers = [1, 2, 3, 4, 5, 6, 7, 8, 9, 10]\n",
    "\n",
    "# Use the filter() function to filter even numbers\n",
    "even_numbers = list(filter(is_even, numbers))\n",
    "\n",
    "print(\"Even Numbers:\", even_numbers)\n"
   ]
  },
  {
   "cell_type": "raw",
   "id": "9c649621-48f3-4417-91cb-194bae54c5b8",
   "metadata": {},
   "source": [
    "The filter() function when you need to selectively extract elements from an iterable based on specific criteria or conditions. It's a powerful tool for data filtering and can be used in various scenarios where you want to extract or exclude elements that meet certain criteria from a dataset."
   ]
  },
  {
   "cell_type": "markdown",
   "id": "55101716-2ae6-4ea8-b7d2-597036a5784a",
   "metadata": {},
   "source": [
    "4. Create a Python program that uses the `reduce()` function to find the product of all elements in a list."
   ]
  },
  {
   "cell_type": "code",
   "execution_count": 16,
   "id": "ccc363e2-891a-44b3-a3d7-88c6df8dffb4",
   "metadata": {},
   "outputs": [
    {
     "name": "stdout",
     "output_type": "stream",
     "text": [
      "Product of all elements:  120\n"
     ]
    }
   ],
   "source": [
    "from functools import reduce\n",
    "\n",
    "def multiply(x, y):\n",
    "    return x * y\n",
    "\n",
    "numbers = [1, 2, 3, 4, 5]\n",
    "\n",
    "product = reduce(multiply, numbers)\n",
    "\n",
    "print(\"Product of all elements: \", product)"
   ]
  },
  {
   "cell_type": "raw",
   "id": "1d03eb86-1275-45df-b9c8-d93443195797",
   "metadata": {},
   "source": [
    "The reduce() function in Python is used for cumulative, iterative operations on an iterable (e.g., a list or tuple) that reduces the iterable to a single accumulated result. It's part of the functools module in Python's standard library. The reduce() function takes two arguments: a binary function (a function that takes two arguments) and an iterable.\n",
    "\n",
    "Here's how the reduce() function works:\n",
    "---------------------------------------\n",
    "- The binary function is applied cumulatively to the elements of the iterable from left to right. It starts with the first two elements of the iterable.\n",
    "\n",
    "- The result of the binary function's application on the first two elements becomes one of the operands in the next iteration, along with the next element in the iterable.\n",
    "\n",
    "- This process continues until the iterable is exhausted, resulting in a single accumulated value, which is returned as the final result.\n",
    "\n",
    "Usage: \n",
    "------\n",
    "Use the reduce() function when you need to perform a cumulative operation on an iterable and reduce it to a single value. Common use cases include finding the sum, product, maximum, minimum, or performing other types of cumulative operations on the elements of a collection. While reduce() can be powerful, it's important to choose it when it's the most appropriate tool for the task, as more explicit loops or list comprehensions might be clearer in some cases."
   ]
  },
  {
   "cell_type": "markdown",
   "id": "8e1b200c-3018-4201-b0d0-5bc0d6b828df",
   "metadata": {
    "tags": []
   },
   "source": [
    "# Function Documentation and Best Practices:"
   ]
  },
  {
   "cell_type": "markdown",
   "id": "69c26ba8-ed2a-4cad-8dbf-7b8190005635",
   "metadata": {},
   "source": [
    "1. Explain the purpose of docstrings in Python functions and how to write them."
   ]
  },
  {
   "cell_type": "raw",
   "id": "9a2bf0d2-5d31-4546-8c82-013a7038c7c3",
   "metadata": {},
   "source": [
    "Docstrings serve the purpose of providing documentation and information about a function, module, class or method. They are used to describe the purpose, usage, and behaviour of the code to both the developers and users.\n",
    "Docstrings are typically placed as a string literal at the beginning of a function, module, class, or method definition.\n",
    "\n",
    "The main purpose of the docstrings are:\n",
    "\n",
    "1.Documentation: \n",
    "    Docstrings provide documentation and serve as a way to describe what a function does and how it should be used. They serve as a form of self-documentation for your code.\n",
    "\n",
    "2. Help Text: \n",
    "    Docstrings are accessible through Python's built-in help() function and various documentation tools. When users or developers need to understand how to use a function, they can use help() or read the docstring.\n",
    "\n",
    "3. IDE and Editor Support: \n",
    "    Many integrated development environments (IDEs) and code editors provide tooltips or suggestions based on docstrings, making it easier to work with functions.\n",
    "\n",
    "4. Readability and Maintainability: \n",
    "    Well-written docstrings improve the readability and maintainability of your codebase. They make it easier for others (or your future self) to understand and work with the code.\n",
    "    \n",
    "To write a docstring, you place a triple-quoted string (single or double quotes) as the first statement within a function, module, class, or method definition. The triple quotes allow for multiline documentation. \n",
    "\n",
    "Example:"
   ]
  },
  {
   "cell_type": "code",
   "execution_count": 2,
   "id": "dbd87bc4-59ce-4eca-95a1-0a19eeebdd2f",
   "metadata": {},
   "outputs": [],
   "source": [
    "def greet(name):\n",
    "    \"\"\"\n",
    "    This function greets a person by name.\n",
    "    \n",
    "    Parameters:\n",
    "    name (str): The name of the person to greet.\n",
    "    \n",
    "    Returns:\n",
    "    str: A greeting message.\n",
    "    \"\"\"\n",
    "    return f\"Hello, {name}!\""
   ]
  },
  {
   "cell_type": "raw",
   "id": "a09e7409-f417-49f0-bad7-3221a62f9dda",
   "metadata": {},
   "source": [
    "You can access the docstring of a function using the help() function or by referencing the .__doc__ attribute of the function object:"
   ]
  },
  {
   "cell_type": "code",
   "execution_count": 8,
   "id": "65122824-c712-485a-8451-17a8441ebedf",
   "metadata": {},
   "outputs": [
    {
     "name": "stdout",
     "output_type": "stream",
     "text": [
      "Help on function greet in module __main__:\n",
      "\n",
      "greet(name)\n",
      "    This function greets a person by name.\n",
      "    \n",
      "    Parameters:\n",
      "    name (str): The name of the person to greet.\n",
      "    \n",
      "    Returns:\n",
      "    str: A greeting message.\n",
      "\n",
      "**************************************************\n",
      "\n",
      "    This function greets a person by name.\n",
      "    \n",
      "    Parameters:\n",
      "    name (str): The name of the person to greet.\n",
      "    \n",
      "    Returns:\n",
      "    str: A greeting message.\n",
      "    \n"
     ]
    }
   ],
   "source": [
    "help(greet)\n",
    "# or\n",
    "print(\"*\"*50)\n",
    "print(greet.__doc__)"
   ]
  },
  {
   "cell_type": "raw",
   "id": "ab89f603-15cf-437f-8161-5d49ef0a3181",
   "metadata": {},
   "source": [
    "Using descriptive and informative docstrings is considered good programming practice because it helps make your code more accessible, understandable, and maintainable for both yourself and others who may work with your code."
   ]
  },
  {
   "cell_type": "markdown",
   "id": "6c407466-eaac-40d2-a6c6-6eedb49fc71c",
   "metadata": {},
   "source": [
    "2. Describe some best practices for naming functions and variables in Python, including naming conventions and guidelines."
   ]
  },
  {
   "cell_type": "raw",
   "id": "47a5654f-baa1-4f49-84da-7c732e4b24e7",
   "metadata": {},
   "source": [
    "Naming functions and variables in Python is an important aspect of writing clean, readable, and maintainable code. Adhering to naming conventions and following best practices can make your code more understandable and easier to work with. \n",
    "\n",
    "Best practices for naming functions and variables in Python:\n",
    "\n",
    "1. Follow PEP 8:\n",
    "----------------\n",
    "    a. Python's official style guide, PEP 8 (Python Enhancement Proposal 8), provides detailed naming conventions and coding style recommendations. \n",
    "    b. Following PEP 8 ensures consistency and readability in Python code.\n",
    "    c. Use lowercase letters for function and variable names.\n",
    "    d. Use underscores to separate words in variable and function names (e.g., my_variable, calculate_total).\n",
    "    e. For constants, use uppercase letters with underscores (e.g., PI, MAX_LENGTH)\n",
    "    \n",
    "2. Use Descriptive Names:\n",
    "-------------------------\n",
    "    a. Choose descriptive and meaningful names for functions and variables.\n",
    "    Names should convey the purpose or intention of the function or the data stored in the variable.\n",
    "    b. Avoid single-letter variable names (e.g., use count instead of c).\n",
    "    c. Make function and variable names as self-explanatory as possible.\n",
    "    \n",
    "3. Be Consistent:\n",
    "-----------------\n",
    "    a. Maintain consistency in naming throughout your codebase. If you use a certain naming style for one variable or function, stick to that style for similar elements.\n",
    "    b. Follow established naming conventions in your project or organization.\n",
    "    \n",
    "4. Use Verbs for Functions and Nouns for Variables:\n",
    "---------------------------------------------------\n",
    "    a. Name functions using verbs or verb phrases that describe the action they perform (e.g., calculate_total, get_user_info).\n",
    "    b. Name variables using nouns or noun phrases that describe the data they hold (e.g., user_name, product_list).\n",
    "    \n",
    "5. Avoid Reserved Words:\n",
    "------------------------\n",
    "    a. Do not use Python's reserved words (e.g., if, while, for) as function or variable names. This can lead to confusion and errors.\n",
    "    \n",
    "6. Maintain Length and Clarity:\n",
    "-------------------------------\n",
    "    a. Aim for a balance between brevity and clarity. Avoid excessively long names, but make sure the names are descriptive enough to understand their purpose.\n",
    "    b. If a name is too long and repetitive, consider if it can be made shorter without sacrificing clarity.\n",
    "    \n",
    "7. Use Consistent Case Styles:\n",
    "------------------------------\n",
    "    a. Choose a consistent case style for your project:\n",
    "        i. Snake case (e.g., my_variable_name, calculate_total): Recommended by PEP 8 for variable and function names.\n",
    "        ii. Camel case (e.g., myVariableName, calculateTotal): Common in some programming communities, but not recommended by PEP 8 for Python.\n",
    "        \n",
    "8. Document with Docstrings:\n",
    "----------------------------\n",
    "    a. Use docstrings to provide detailed documentation for functions, classes, and modules. \n",
    "    Docstrings describe the purpose, usage, and behavior of the code element.\n",
    "    \n",
    "9. Avoid Ambiguous Abbreviations:\n",
    "---------------------------------\n",
    "    a. Minimize the use of abbreviations in names, especially if they are not widely recognized or if they could be ambiguous.\n",
    "    b. If an abbreviation is commonly understood (e.g., URL for \"Uniform Resource Locator\"), it can be acceptable.\n",
    "    \n",
    "10. Consider Context:\n",
    "---------------------\n",
    "    a. Take into account the context in which the function or variable is used. \n",
    "    A name that makes sense in one context may not be suitable in another.\n",
    "\n",
    "11. Refactor When Necessary:\n",
    "----------------------------\n",
    "    a. As your code evolves, review and refactor names when they no longer accurately reflect the purpose or behavior of the element.\n",
    "\n",
    "12. Use Meaningful Prefixes or Suffixes:\n",
    "----------------------------------------\n",
    "    a. When it helps improve clarity, you can use prefixes or suffixes in names. For example, you might prefix boolean variables with \"is_\" (e.g., is_valid, is_active) to indicate their purpose.\n",
    "\n",
    "13. Avoid Naming Collisions:\n",
    "-----------------------------\n",
    "    a. Ensure that function and variable names do not conflict with names from imported modules or libraries.\n",
    "\n",
    "14. Use Consistent Capitalization for Constants:\n",
    "------------------------------------------------\n",
    "    a. Follow the convention of using uppercase letters with underscores for constants (e.g., MAX_LENGTH, PI, DEFAULT_TIMEOUT).\n",
    "\n",
    "By following these best practices for naming functions and variables in Python, you can create code that is more readable, maintainable, and easier to collaborate on with other developers. Consistency and clarity in naming contribute to the overall quality of your Python code."
   ]
  }
 ],
 "metadata": {
  "kernelspec": {
   "display_name": "Python 3 (ipykernel)",
   "language": "python",
   "name": "python3"
  },
  "language_info": {
   "codemirror_mode": {
    "name": "ipython",
    "version": 3
   },
   "file_extension": ".py",
   "mimetype": "text/x-python",
   "name": "python",
   "nbconvert_exporter": "python",
   "pygments_lexer": "ipython3",
   "version": "3.10.8"
  }
 },
 "nbformat": 4,
 "nbformat_minor": 5
}
