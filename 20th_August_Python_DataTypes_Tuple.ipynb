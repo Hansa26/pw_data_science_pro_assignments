{
 "cells": [
  {
   "cell_type": "markdown",
   "id": "ca514495-0b0c-4c68-a4f8-7227129823d4",
   "metadata": {},
   "source": [
    "# Tuple Based Practice Problem :"
   ]
  },
  {
   "cell_type": "markdown",
   "id": "89086b36-f091-43d3-8036-2f1278cc7f91",
   "metadata": {},
   "source": [
    "1. Create a tuple with integers from 1 to 5."
   ]
  },
  {
   "cell_type": "code",
   "execution_count": 110,
   "id": "864ffde3-7ee1-4c66-b024-bd5bac0022c0",
   "metadata": {},
   "outputs": [],
   "source": [
    "tup1 = (1, 2, 3, 4, 5)"
   ]
  },
  {
   "cell_type": "markdown",
   "id": "f48e49a7-1dd0-4e55-be36-81bbc221ea95",
   "metadata": {},
   "source": [
    "2. Access the third element of a tuple."
   ]
  },
  {
   "cell_type": "code",
   "execution_count": 111,
   "id": "3b8d3d9d-eb85-4d1f-b653-091374b6454c",
   "metadata": {},
   "outputs": [
    {
     "data": {
      "text/plain": [
       "3"
      ]
     },
     "execution_count": 111,
     "metadata": {},
     "output_type": "execute_result"
    }
   ],
   "source": [
    "tup1[2]"
   ]
  },
  {
   "cell_type": "markdown",
   "id": "678c85be-3560-46ab-8ed1-b0696a98861f",
   "metadata": {},
   "source": [
    "3. Find the length of a tuple without using the `len()` function."
   ]
  },
  {
   "cell_type": "code",
   "execution_count": 112,
   "id": "e058b395-a2f5-44dc-9a26-360adef527f7",
   "metadata": {},
   "outputs": [
    {
     "name": "stdout",
     "output_type": "stream",
     "text": [
      "The length of the tuple is: 5\n"
     ]
    }
   ],
   "source": [
    "count = 0\n",
    "for i in tup1:\n",
    "    count += 1\n",
    "\n",
    "print(f\"The length of the tuple is: {count}\")"
   ]
  },
  {
   "cell_type": "markdown",
   "id": "f48d544e-8de3-4d9e-95b0-94ce207be4f3",
   "metadata": {},
   "source": [
    "4. Count the occurrences of an element in a tuple."
   ]
  },
  {
   "cell_type": "code",
   "execution_count": 113,
   "id": "992a56a1-0d49-4541-b34a-b5abe0c20bc7",
   "metadata": {},
   "outputs": [
    {
     "data": {
      "text/plain": [
       "2"
      ]
     },
     "execution_count": 113,
     "metadata": {},
     "output_type": "execute_result"
    }
   ],
   "source": [
    "# ele = {}\n",
    "# for i in tup1:\n",
    "#     if i in ele:\n",
    "#         ele[i] += 1\n",
    "#     else:\n",
    "#         ele[i] = 1\n",
    "\n",
    "# print(f\"The occurrences of an element in tuple is: {ele}\")\n",
    "tup4 = (1, 2, 3, 4, 5, 6, 7, 6, 5, 4, 3, 2, 1)\n",
    "\n",
    "tup4.count(2)"
   ]
  },
  {
   "cell_type": "markdown",
   "id": "17f07550-eb0b-4ac9-a58b-9b6855006f22",
   "metadata": {},
   "source": [
    "5. Find the index of the first occurrence of an element in a tuple."
   ]
  },
  {
   "cell_type": "code",
   "execution_count": 114,
   "id": "3b3e34f8-dcf9-4992-817d-4793e180fb15",
   "metadata": {},
   "outputs": [
    {
     "data": {
      "text/plain": [
       "0"
      ]
     },
     "execution_count": 114,
     "metadata": {},
     "output_type": "execute_result"
    }
   ],
   "source": [
    "tup4.index(1)"
   ]
  },
  {
   "cell_type": "markdown",
   "id": "0a483b8a-662c-4b8a-b102-9dfd34d84de2",
   "metadata": {},
   "source": [
    "6. Check if an element exists in a tuple."
   ]
  },
  {
   "cell_type": "code",
   "execution_count": 116,
   "id": "7c1e5b9e-16f9-4284-9442-22794059cbca",
   "metadata": {},
   "outputs": [
    {
     "name": "stdin",
     "output_type": "stream",
     "text": [
      "Enter an element to check if it is present in the tuple:  4\n"
     ]
    },
    {
     "name": "stdout",
     "output_type": "stream",
     "text": [
      "4 exists in tuple\n"
     ]
    }
   ],
   "source": [
    "ele = int(input(\"Enter an element to check if it is present in the tuple: \"))\n",
    "if ele in tup4:\n",
    "    print(f\"{ele} exists in tuple\")\n",
    "else:\n",
    "    print(f\"{ele} does not exist in tuple\")"
   ]
  },
  {
   "cell_type": "markdown",
   "id": "f851d5e2-1daa-45ee-91d8-04d4756bdda9",
   "metadata": {},
   "source": [
    "7. Convert a tuple to a list."
   ]
  },
  {
   "cell_type": "code",
   "execution_count": 117,
   "id": "11933f89-c4df-4399-90a6-5c06bad66a72",
   "metadata": {},
   "outputs": [
    {
     "name": "stdout",
     "output_type": "stream",
     "text": [
      "[1, 2, 3, 4, 5]\n"
     ]
    }
   ],
   "source": [
    "l1 = list(tup1)\n",
    "print(l1)"
   ]
  },
  {
   "cell_type": "markdown",
   "id": "168b1556-fb02-439e-b0be-d37de9251bfa",
   "metadata": {},
   "source": [
    "8. Convert a list to a tuple."
   ]
  },
  {
   "cell_type": "code",
   "execution_count": 118,
   "id": "9c36b38c-a4b7-43d1-8b76-dccc7c3ce021",
   "metadata": {},
   "outputs": [
    {
     "name": "stdout",
     "output_type": "stream",
     "text": [
      "(1, 2, 3, 4, 5)\n"
     ]
    }
   ],
   "source": [
    "tup3 = tuple(l1)\n",
    "print(tup3)"
   ]
  },
  {
   "cell_type": "markdown",
   "id": "ed8efc44-13ee-4632-8549-81095996591b",
   "metadata": {},
   "source": [
    "9. Unpack the elements of a tuple into variables."
   ]
  },
  {
   "cell_type": "code",
   "execution_count": 119,
   "id": "30ff35f3-cc69-41c7-8092-bb6ec6c4d0c4",
   "metadata": {},
   "outputs": [
    {
     "name": "stdout",
     "output_type": "stream",
     "text": [
      "2\n",
      "3\n"
     ]
    }
   ],
   "source": [
    "tup9 = (2, 3)\n",
    "x, y = tup9\n",
    "print(x)\n",
    "print(y)"
   ]
  },
  {
   "cell_type": "markdown",
   "id": "a5ba0249-f720-495d-99a0-d1efaceccdbb",
   "metadata": {},
   "source": [
    "10. Create a tuple of even numbers from 1 to 10."
   ]
  },
  {
   "cell_type": "code",
   "execution_count": 120,
   "id": "710a7dc9-f705-40cb-bba9-4fd5c97b6c82",
   "metadata": {},
   "outputs": [
    {
     "name": "stdout",
     "output_type": "stream",
     "text": [
      "(2, 4, 6, 8, 10)\n"
     ]
    }
   ],
   "source": [
    "tup10 = tuple([x for x in range(1, 11) if x%2 == 0])\n",
    "print(tup10)"
   ]
  },
  {
   "cell_type": "markdown",
   "id": "3f29500d-ae7d-44e2-88f0-720f0317cff6",
   "metadata": {},
   "source": [
    "11. Create a tuple of odd numbers from 1 to 10."
   ]
  },
  {
   "cell_type": "code",
   "execution_count": 121,
   "id": "fce18bb9-df33-4f8c-8e19-95e9f39a310c",
   "metadata": {},
   "outputs": [
    {
     "name": "stdout",
     "output_type": "stream",
     "text": [
      "(1, 3, 5, 7, 9)\n"
     ]
    }
   ],
   "source": [
    "tup11 = tuple([x for x in range(1, 11) if x%2 != 0])\n",
    "print(tup11)"
   ]
  },
  {
   "cell_type": "markdown",
   "id": "12408d8d-8c54-489a-aa0a-7ca676d26bf7",
   "metadata": {},
   "source": [
    "12. Concatenate two tuples."
   ]
  },
  {
   "cell_type": "code",
   "execution_count": 122,
   "id": "c796eb81-e1c6-4b5e-8a0f-5ccbdaaafb78",
   "metadata": {},
   "outputs": [
    {
     "name": "stdout",
     "output_type": "stream",
     "text": [
      "(2, 4, 6, 8, 10, 1, 3, 5, 7, 9)\n"
     ]
    }
   ],
   "source": [
    "print(tup10+tup11)"
   ]
  },
  {
   "cell_type": "markdown",
   "id": "ba0eac88-a192-48f8-b2d5-72c5e3136c76",
   "metadata": {},
   "source": [
    "13. Repeat a tuple three times."
   ]
  },
  {
   "cell_type": "code",
   "execution_count": 123,
   "id": "bbefc902-2fc0-4bea-b3b4-ee545edcd8c4",
   "metadata": {},
   "outputs": [
    {
     "data": {
      "text/plain": [
       "(2, 4, 6, 8, 10, 2, 4, 6, 8, 10, 2, 4, 6, 8, 10)"
      ]
     },
     "execution_count": 123,
     "metadata": {},
     "output_type": "execute_result"
    }
   ],
   "source": [
    "tup10 * 3"
   ]
  },
  {
   "cell_type": "markdown",
   "id": "8e96ccdd-1801-4c58-bace-16cca80e0146",
   "metadata": {},
   "source": [
    "14. Check if a tuple is empty."
   ]
  },
  {
   "cell_type": "code",
   "execution_count": 124,
   "id": "0b24239e-9574-4065-8d77-66ad4b09f1df",
   "metadata": {},
   "outputs": [
    {
     "name": "stdout",
     "output_type": "stream",
     "text": [
      "Tuple is empty\n"
     ]
    }
   ],
   "source": [
    "tup14 = ()\n",
    "if len(tup14) == 0:\n",
    "    print(f\"Tuple is empty\")\n",
    "else:\n",
    "    print(f\"Tuple is having atleast one element\")"
   ]
  },
  {
   "cell_type": "markdown",
   "id": "098cffbd-7a6d-4701-becd-5a1528641cac",
   "metadata": {},
   "source": [
    "15. Create a nested tuple."
   ]
  },
  {
   "cell_type": "code",
   "execution_count": 125,
   "id": "dffc29b7-820c-48ad-965d-11fdbc12bb30",
   "metadata": {},
   "outputs": [
    {
     "name": "stdout",
     "output_type": "stream",
     "text": [
      "(1, 2, 3, (4, 5, 6), (7, 8, (9, 10)))\n"
     ]
    }
   ],
   "source": [
    "tup15 = (1, 2, 3, (4, 5, 6), (7, 8, (9, 10)))\n",
    "print(tup15)"
   ]
  },
  {
   "cell_type": "markdown",
   "id": "00f9e573-be3e-4e11-99ee-d189bcf3356b",
   "metadata": {},
   "source": [
    "16. Access the first element of a nested tuple."
   ]
  },
  {
   "cell_type": "code",
   "execution_count": 126,
   "id": "c5f7709f-b9d2-471e-96e7-0c7cd8f95e4f",
   "metadata": {},
   "outputs": [
    {
     "data": {
      "text/plain": [
       "4"
      ]
     },
     "execution_count": 126,
     "metadata": {},
     "output_type": "execute_result"
    }
   ],
   "source": [
    "tup15[3][0]"
   ]
  },
  {
   "cell_type": "markdown",
   "id": "565e26aa-55d9-483f-a865-372e8da5fbf0",
   "metadata": {},
   "source": [
    "17. Create a tuple with a single element."
   ]
  },
  {
   "cell_type": "code",
   "execution_count": 127,
   "id": "58e0eca5-3e17-400f-b66a-0df4ada8f643",
   "metadata": {},
   "outputs": [
    {
     "name": "stdout",
     "output_type": "stream",
     "text": [
      "(1,)\n"
     ]
    }
   ],
   "source": [
    "tup17 = (1,)\n",
    "print(tup17)"
   ]
  },
  {
   "cell_type": "markdown",
   "id": "53b1156c-b5f1-46b8-bab1-13d1dc463652",
   "metadata": {},
   "source": [
    "18. Compare two tuples."
   ]
  },
  {
   "cell_type": "code",
   "execution_count": 128,
   "id": "0ee3c5ce-243c-4f83-bb22-a6ec2a0953fd",
   "metadata": {},
   "outputs": [
    {
     "name": "stdout",
     "output_type": "stream",
     "text": [
      "Both the tuples are unequal\n"
     ]
    }
   ],
   "source": [
    "tup18a = (1, 2, 3, 4, 5)\n",
    "tup18b = (5, 4, 3, 2, 1)\n",
    "\n",
    "if tup18a == tup18b:\n",
    "    print(\"Both the tuples are equal\")\n",
    "else:\n",
    "    print(\"Both the tuples are unequal\")"
   ]
  },
  {
   "cell_type": "markdown",
   "id": "19395482-1a18-4951-b266-b2d80daccf4b",
   "metadata": {},
   "source": [
    "19. Delete a tuple."
   ]
  },
  {
   "cell_type": "code",
   "execution_count": 129,
   "id": "26994276-ed5e-49fa-a357-5f1815aac5c2",
   "metadata": {},
   "outputs": [
    {
     "name": "stdout",
     "output_type": "stream",
     "text": [
      "(1, 2, 3)\n"
     ]
    }
   ],
   "source": [
    "tup19 = (1, 2, 3)\n",
    "print(tup19)"
   ]
  },
  {
   "cell_type": "code",
   "execution_count": 130,
   "id": "24cdc962-5c32-4908-98e9-d56d81afd02b",
   "metadata": {},
   "outputs": [
    {
     "ename": "NameError",
     "evalue": "name 'tup19' is not defined",
     "output_type": "error",
     "traceback": [
      "\u001b[0;31m---------------------------------------------------------------------------\u001b[0m",
      "\u001b[0;31mNameError\u001b[0m                                 Traceback (most recent call last)",
      "Cell \u001b[0;32mIn[130], line 2\u001b[0m\n\u001b[1;32m      1\u001b[0m \u001b[38;5;28;01mdel\u001b[39;00m tup19\n\u001b[0;32m----> 2\u001b[0m \u001b[38;5;28mprint\u001b[39m(\u001b[43mtup19\u001b[49m)\n",
      "\u001b[0;31mNameError\u001b[0m: name 'tup19' is not defined"
     ]
    }
   ],
   "source": [
    "del tup19\n",
    "print(tup19)"
   ]
  },
  {
   "cell_type": "markdown",
   "id": "f6f22d36-0b43-49df-9560-e54f84d91150",
   "metadata": {},
   "source": [
    "20. Slice a tuple."
   ]
  },
  {
   "cell_type": "code",
   "execution_count": 131,
   "id": "ba0ef4f4-cf7d-4c86-a183-d70829db93f1",
   "metadata": {},
   "outputs": [
    {
     "data": {
      "text/plain": [
       "(10, 9, 8, 7, 6, 5, 4, 3, 2, 1)"
      ]
     },
     "execution_count": 131,
     "metadata": {},
     "output_type": "execute_result"
    }
   ],
   "source": [
    "tup20 = (1, 2, 3, 4, 5, 6, 7, 8, 9, 10)\n",
    "tup20[::-1]"
   ]
  },
  {
   "cell_type": "markdown",
   "id": "023febd9-6f40-4810-9e25-1b3be50e86ac",
   "metadata": {},
   "source": [
    "21. Find the maximum value in a tuple."
   ]
  },
  {
   "cell_type": "code",
   "execution_count": 132,
   "id": "236d07f1-407e-46c0-8095-4a0d91ec180a",
   "metadata": {},
   "outputs": [
    {
     "data": {
      "text/plain": [
       "10"
      ]
     },
     "execution_count": 132,
     "metadata": {},
     "output_type": "execute_result"
    }
   ],
   "source": [
    "max(tup20)"
   ]
  },
  {
   "cell_type": "markdown",
   "id": "7e8650f3-1a62-4822-9438-27e762b2fd75",
   "metadata": {},
   "source": [
    "22. Find the minimum value in a tuple."
   ]
  },
  {
   "cell_type": "code",
   "execution_count": 133,
   "id": "93e84ffd-c2e2-493c-881d-6341af493127",
   "metadata": {},
   "outputs": [
    {
     "data": {
      "text/plain": [
       "1"
      ]
     },
     "execution_count": 133,
     "metadata": {},
     "output_type": "execute_result"
    }
   ],
   "source": [
    "min(tup20)"
   ]
  },
  {
   "cell_type": "markdown",
   "id": "cee4f81b-5101-4b1c-903c-19dfea5bba8e",
   "metadata": {},
   "source": [
    "23. Convert a string to a tuple of characters."
   ]
  },
  {
   "cell_type": "code",
   "execution_count": 134,
   "id": "1d946382-ff8c-47c9-bb4b-bc13193a0036",
   "metadata": {},
   "outputs": [
    {
     "name": "stdout",
     "output_type": "stream",
     "text": [
      "('f', 'u', 'l', 'l', ' ', 's', 't', 'a', 'c', 'k', ' ', 'd', 'a', 't', 'a', ' ', 's', 'c', 'i', 'e', 'n', 'c', 'e', ' ', 'c', 'o', 'u', 'r', 's', 'e')\n"
     ]
    }
   ],
   "source": [
    "string = 'full stack data science course'\n",
    "list_of_char = []\n",
    "tup23 = ()\n",
    "for i in string:\n",
    "    list_of_char.append(i)\n",
    "\n",
    "tup23 = tuple(list_of_char)\n",
    "print(tup23)    "
   ]
  },
  {
   "cell_type": "markdown",
   "id": "f8546a7f-656c-40d8-8318-dc7eb9b3bbb4",
   "metadata": {},
   "source": [
    "24. Convert a tuple of characters to a string."
   ]
  },
  {
   "cell_type": "code",
   "execution_count": 135,
   "id": "fc0ec939-bc29-4926-a745-5ba5f26b0d10",
   "metadata": {},
   "outputs": [
    {
     "name": "stdout",
     "output_type": "stream",
     "text": [
      "full stack data science course\n"
     ]
    }
   ],
   "source": [
    "string23 = ''\n",
    "for i in tup23:\n",
    "    string23 += ''.join(i)\n",
    "print(string23)"
   ]
  },
  {
   "cell_type": "markdown",
   "id": "2a37580c-cc17-4d18-aa5b-ec2163d611e0",
   "metadata": {},
   "source": [
    "25. Create a tuple from multiple data types."
   ]
  },
  {
   "cell_type": "code",
   "execution_count": 136,
   "id": "07e6c505-d884-47f2-8ae0-9bb4afb0c8c1",
   "metadata": {},
   "outputs": [
    {
     "name": "stdout",
     "output_type": "stream",
     "text": [
      "(23, 'Pwskills', [2, 3], (5+6j), 4.5, {'a': 1})\n"
     ]
    }
   ],
   "source": [
    "tup25 = (23, 'Pwskills', [2, 3], 5+6j, 4.5, {'a': 1})\n",
    "print(tup25)"
   ]
  },
  {
   "cell_type": "markdown",
   "id": "2ad35bff-d61d-4a3b-9829-1253cff34a3a",
   "metadata": {},
   "source": [
    "26. Check if two tuples are identical."
   ]
  },
  {
   "cell_type": "code",
   "execution_count": 137,
   "id": "e0079723-4a06-40cd-964d-f4ad676482b5",
   "metadata": {},
   "outputs": [
    {
     "name": "stdout",
     "output_type": "stream",
     "text": [
      "These two tuples are identical\n"
     ]
    }
   ],
   "source": [
    "tup26a = (1, 2, 3, 4, 5)\n",
    "tup26b = (1, 2, 3, 4, 5)\n",
    "\n",
    "if tup26a == tup26b:\n",
    "    print(\"These two tuples are identical\")\n",
    "else:\n",
    "    print(\"These two tuples are non-identical\")"
   ]
  },
  {
   "cell_type": "markdown",
   "id": "8e6fddec-2db6-46f8-9f03-4bdc1524beca",
   "metadata": {},
   "source": [
    "27. Sort the elements of a tuple."
   ]
  },
  {
   "cell_type": "code",
   "execution_count": 138,
   "id": "eb39dafe-1b9f-4f23-a46e-73db6e00b644",
   "metadata": {},
   "outputs": [
    {
     "name": "stdout",
     "output_type": "stream",
     "text": [
      "Original Tuple: (9, 66, 45, 78, 43, 23, 50, 12, 11, 56)\n",
      "Sorted Tuple: (9, 11, 12, 23, 43, 45, 50, 56, 66, 78)\n"
     ]
    }
   ],
   "source": [
    "tup27 = (9, 66, 45, 78, 43, 23, 50, 12, 11, 56)\n",
    "# convert to list, sort it and then convert back to tuple\n",
    "list27 = list(tup27)\n",
    "list27.sort()\n",
    "print(f\"Original Tuple: {tup27}\\nSorted Tuple: {tuple(list27)}\")"
   ]
  },
  {
   "cell_type": "markdown",
   "id": "bcd86440-6d5f-450b-bd0f-98788c258cca",
   "metadata": {},
   "source": [
    "28. Convert a tuple of integers to a tuple of strings."
   ]
  },
  {
   "cell_type": "code",
   "execution_count": 139,
   "id": "34a8fd4f-e6dd-4094-82e8-d59c544f397d",
   "metadata": {},
   "outputs": [
    {
     "name": "stdout",
     "output_type": "stream",
     "text": [
      "Original Tuple: (9, 66, 45, 78, 43, 23, 50, 12, 11, 56)\n",
      "Converted tuple of Strings: ('9', '66', '45', '78', '43', '23', '50', '12', '11', '56')\n"
     ]
    }
   ],
   "source": [
    "print(f\"Original Tuple: {tup27}\")\n",
    "list_str = []\n",
    "for i in tup27:\n",
    "    list_str.append(str(i))\n",
    "tup_str = tuple(list_str)\n",
    "print(f\"Converted tuple of Strings: {tup_str}\")"
   ]
  },
  {
   "cell_type": "markdown",
   "id": "4b78c9b8-c5f3-4ef5-97ea-a01bf07a6327",
   "metadata": {},
   "source": [
    "29. Convert a tuple of strings to a tuple of integers."
   ]
  },
  {
   "cell_type": "code",
   "execution_count": 140,
   "id": "35dee8df-9346-4789-8da3-ae21ddb92862",
   "metadata": {},
   "outputs": [
    {
     "name": "stdout",
     "output_type": "stream",
     "text": [
      "Original Tuple of Strings: ('9', '66', '45', '78', '43', '23', '50', '12', '11', '56')\n",
      "Converted tuple of integers: (9, 66, 45, 78, 43, 23, 50, 12, 11, 56)\n"
     ]
    }
   ],
   "source": [
    "print(f\"Original Tuple of Strings: {tup_str}\")\n",
    "list_int = []\n",
    "for i in tup_str:\n",
    "    list_int.append(int(i))\n",
    "\n",
    "tup_int = tuple(list_int)\n",
    "print(f\"Converted tuple of integers: {tup_int}\")"
   ]
  },
  {
   "cell_type": "markdown",
   "id": "be2572ef-89ba-48ae-aadd-e7179326c214",
   "metadata": {},
   "source": [
    "30. Merge two tuples."
   ]
  },
  {
   "cell_type": "code",
   "execution_count": 141,
   "id": "644aaf0a-121b-4182-8fde-e80eb0c312a1",
   "metadata": {},
   "outputs": [
    {
     "name": "stdout",
     "output_type": "stream",
     "text": [
      "Merged two tuples: ('a', 1, 4.5, (6+7j), [1, 2], {1: 'One'}, ('dictionary', 'letters'), {1, 2, 3}, 78, 43, 23, 50, 12, 11, 56)\n"
     ]
    }
   ],
   "source": [
    "tup30a = ('a', 1, 4.5, 6+7j, [1, 2], {1: 'One'}, ('dictionary', 'letters'), {1, 2, 3})\n",
    "tup30b = (78, 43, 23, 50, 12, 11, 56)\n",
    "print(f\"Merged two tuples: {tup30a + tup30b}\")"
   ]
  },
  {
   "cell_type": "markdown",
   "id": "d6cd36d4-df2d-4d46-8886-ccff47c87c58",
   "metadata": {},
   "source": [
    "31. Flatten a nested tuple."
   ]
  },
  {
   "cell_type": "code",
   "execution_count": 142,
   "id": "12c50d8e-fa6c-4580-91f2-978839edb030",
   "metadata": {},
   "outputs": [
    {
     "name": "stdout",
     "output_type": "stream",
     "text": [
      "Original Nested Tuple: ((1, 2, 3), ('a', 'b', 'c'), ((1+2j), (3+4j), (5+6j)))\n",
      "Flattened Nested Tuple: (1, 2, 3, 'a', 'b', 'c', (1+2j), (3+4j), (5+6j))\n"
     ]
    }
   ],
   "source": [
    "nested_tup = ((1, 2, 3), ('a', 'b', 'c'), (1+2j, 3+4j, 5+6j))\n",
    "flatten = [(x) for tups in nested_tup for x in tups]\n",
    "print(f\"Original Nested Tuple: {nested_tup}\\nFlattened Nested Tuple: {tuple(flatten)}\")"
   ]
  },
  {
   "cell_type": "markdown",
   "id": "ffa6cfc5-a223-4212-bf02-db551e953823",
   "metadata": {},
   "source": [
    "32. Create a tuple of the first 5 prime numbers."
   ]
  },
  {
   "cell_type": "code",
   "execution_count": 143,
   "id": "0bde552b-3cc3-439f-a795-778550948dbf",
   "metadata": {},
   "outputs": [
    {
     "name": "stdout",
     "output_type": "stream",
     "text": [
      "First 5 prime numbers are: (2, 3, 5, 7, 11)\n"
     ]
    }
   ],
   "source": [
    "def check_prime(n):\n",
    "    if n == 0 or n == 1:\n",
    "        return False\n",
    "    if n <= 3:\n",
    "        return True\n",
    "    if n % 2 == 0 or n % 3 == 0:\n",
    "        return False\n",
    "    i = 5\n",
    "    \n",
    "    while i * i <= n:\n",
    "        if n % i == 0 or n % (i+2) == 0:\n",
    "            return False\n",
    "        i += 6\n",
    "    return True\n",
    "\n",
    "def prime_num_series(n):\n",
    "    prime_num = []\n",
    "    num = 2\n",
    "    while len(prime_num) < n:\n",
    "        if check_prime(num):\n",
    "            prime_num.append(num)\n",
    "            \n",
    "        num += 1\n",
    "    \n",
    "    return prime_num\n",
    "\n",
    "\n",
    "print(f\"First 5 prime numbers are: {tuple(prime_num_series(5))}\")"
   ]
  },
  {
   "cell_type": "markdown",
   "id": "c67b30a3-d124-4bab-be4f-716174b28715",
   "metadata": {},
   "source": [
    "33. Check if a tuple is a palindrome."
   ]
  },
  {
   "cell_type": "code",
   "execution_count": 144,
   "id": "29c31041-d0ee-40c3-b989-5eda6ccc6f92",
   "metadata": {},
   "outputs": [
    {
     "name": "stdout",
     "output_type": "stream",
     "text": [
      "Tuple is a Palindrome\n"
     ]
    }
   ],
   "source": [
    "tup33 = ('a', 'b', 'c', 1, 'c', 'b', 'a')\n",
    "if tup33 == tup33[::-1]:\n",
    "    print(\"Tuple is a Palindrome\")\n",
    "else:\n",
    "    print(\"Tuple is not a Plaindrome\")"
   ]
  },
  {
   "cell_type": "markdown",
   "id": "5cc71d4a-6f40-425c-b131-b9d0133ac917",
   "metadata": {},
   "source": [
    "34. Create a tuple of squares of numbers from 1 to 5."
   ]
  },
  {
   "cell_type": "code",
   "execution_count": 145,
   "id": "4ee2e0cb-91ff-4ed0-ab8a-2917e0ee1e5a",
   "metadata": {},
   "outputs": [
    {
     "name": "stdout",
     "output_type": "stream",
     "text": [
      "(1, 4, 9, 16, 25)\n"
     ]
    }
   ],
   "source": [
    "print(tuple([x**2 for x in range(1, 6)]))"
   ]
  },
  {
   "cell_type": "markdown",
   "id": "a495b37b-5414-4ae1-ac5a-a6deecac421c",
   "metadata": {},
   "source": [
    "35. Filter out all even numbers from a tuple."
   ]
  },
  {
   "cell_type": "code",
   "execution_count": 146,
   "id": "1599a981-d1ee-4e0a-ae93-0d5e64375db5",
   "metadata": {},
   "outputs": [
    {
     "name": "stdout",
     "output_type": "stream",
     "text": [
      "(88, 100, 56, 98, 34)\n"
     ]
    }
   ],
   "source": [
    "tup35 = ( 9, 88, 100, 45, 56, 57, 87, 98, 37, 34)\n",
    "\n",
    "print(tuple([x for x in list(tup35) if x % 2 == 0]))\n",
    "    "
   ]
  },
  {
   "cell_type": "markdown",
   "id": "52aea352-1b61-40e8-a642-d8323845a54d",
   "metadata": {},
   "source": [
    "36. Multiply all elements in a tuple by 2."
   ]
  },
  {
   "cell_type": "code",
   "execution_count": 147,
   "id": "dd06417f-d7e8-4411-946f-81df9f49d941",
   "metadata": {},
   "outputs": [
    {
     "name": "stdout",
     "output_type": "stream",
     "text": [
      "(18, 176, 200, 90, 112, 114, 174, 196, 74, 68)\n"
     ]
    }
   ],
   "source": [
    "print(tuple([x*2 for x in list(tup35)]))"
   ]
  },
  {
   "cell_type": "markdown",
   "id": "58bd0934-00e1-452e-b478-2af180156abe",
   "metadata": {},
   "source": [
    "37. Create a tuple of random numbers."
   ]
  },
  {
   "cell_type": "code",
   "execution_count": 148,
   "id": "775a5859-1edd-4938-97bf-e4eacd441efa",
   "metadata": {},
   "outputs": [
    {
     "name": "stdin",
     "output_type": "stream",
     "text": [
      "Enter the number of random numbers you want:  6\n"
     ]
    },
    {
     "name": "stdout",
     "output_type": "stream",
     "text": [
      "(3, 5, 5, 5, 4, 1)\n"
     ]
    }
   ],
   "source": [
    "import random\n",
    "\n",
    "num = int(input(\"Enter the number of random numbers you want: \"))\n",
    "list_rand = []\n",
    "\n",
    "for i in range(num):\n",
    "    list_rand.append(random.randint(1, 5))\n",
    "    \n",
    "print(tuple(list_rand))"
   ]
  },
  {
   "cell_type": "markdown",
   "id": "91f02d0f-6892-40a3-85ad-6c86c8ae7978",
   "metadata": {},
   "source": [
    "38. Check if a tuple is sorted."
   ]
  },
  {
   "cell_type": "code",
   "execution_count": 149,
   "id": "e1a5df22-e939-4ebb-8da3-e332c5e76896",
   "metadata": {},
   "outputs": [
    {
     "name": "stdout",
     "output_type": "stream",
     "text": [
      "Tuple is not Sorted\n"
     ]
    }
   ],
   "source": [
    "tup38 = (2, 2, 4, 3, 4, 1, 5, 3, 1, 5)\n",
    "if sorted(tup38) == tup38:\n",
    "    print(\"Tuple is Sorted\")\n",
    "else:\n",
    "    print(\"Tuple is not Sorted\")"
   ]
  },
  {
   "cell_type": "markdown",
   "id": "5b94f29f-143b-4c20-ab78-ffe7fec9756d",
   "metadata": {},
   "source": [
    "39. Rotate a tuple to the left by `n` positions."
   ]
  },
  {
   "cell_type": "code",
   "execution_count": 151,
   "id": "c4a2c064-614a-451f-8b73-1dd7fc98f586",
   "metadata": {},
   "outputs": [
    {
     "name": "stdin",
     "output_type": "stream",
     "text": [
      "Enter the number of left shifts that you need to happen on a tuple:  2\n"
     ]
    },
    {
     "name": "stdout",
     "output_type": "stream",
     "text": [
      "Original Tuple: (1, 2, 3, 4, 5, 6)\n",
      "Left Rotate by 2 tuple is: (3, 4, 5, 6, 1, 2)\n"
     ]
    }
   ],
   "source": [
    "tup39 = (1, 2, 3, 4, 5, 6)\n",
    "n = int(input(\"Enter the number of left shifts that you need to happen on a tuple: \"))\n",
    "left_rotate = tup39[n:] + tup39[:n]\n",
    "print(f\"Original Tuple: {tup39}\\nLeft Rotate by {n} tuple is: {left_rotate}\")"
   ]
  },
  {
   "cell_type": "markdown",
   "id": "ffae9759-1d24-4180-a765-02c916770b27",
   "metadata": {},
   "source": [
    "40. Rotate a tuple to the right by `n` positions."
   ]
  },
  {
   "cell_type": "code",
   "execution_count": 152,
   "id": "4a42261b-eb1e-4497-a936-6e173890c80c",
   "metadata": {},
   "outputs": [
    {
     "name": "stdin",
     "output_type": "stream",
     "text": [
      "Enter the number of right shifts that you need to happen on a tuple:  2\n"
     ]
    },
    {
     "name": "stdout",
     "output_type": "stream",
     "text": [
      "Original Tuple: (1, 2, 3, 4, 5, 6)\n",
      "Right Rotate by 2 tuple is: (5, 6, 1, 2, 3, 4)\n"
     ]
    }
   ],
   "source": [
    "tup40 = (1, 2, 3, 4, 5, 6)\n",
    "n = int(input(\"Enter the number of right shifts that you need to happen on a tuple: \"))\n",
    "right_rotate = tup40[len(tup40)-n:] + tup40[0: len(tup40)-n]\n",
    "print(f\"Original Tuple: {tup40}\\nRight Rotate by {n} tuple is: {right_rotate}\")"
   ]
  },
  {
   "cell_type": "markdown",
   "id": "1ff27b3b-fe6a-4af2-9a3e-5521f88a909b",
   "metadata": {},
   "source": [
    "41. Create a tuple of the first 5 Fibonacci numbers."
   ]
  },
  {
   "cell_type": "code",
   "execution_count": 153,
   "id": "da08a7d2-b87f-46bd-979a-00ce10001f94",
   "metadata": {},
   "outputs": [
    {
     "name": "stdout",
     "output_type": "stream",
     "text": [
      "first 5 Fibonacci numbers are: (0, 1, 1, 2, 3)\n"
     ]
    }
   ],
   "source": [
    "p = 0\n",
    "q = 1\n",
    "num = 5\n",
    "i = 2\n",
    "fibo = [p, q]\n",
    "while i < num:\n",
    "    p, q = q, p+q\n",
    "    fibo.append(q)\n",
    "    i += 1\n",
    "\n",
    "print(f\"first 5 Fibonacci numbers are: {tuple(fibo)}\")"
   ]
  },
  {
   "cell_type": "markdown",
   "id": "0ab207f1-0834-4e5e-b311-df9943ca6e7a",
   "metadata": {},
   "source": [
    "42. Create a tuple from user input."
   ]
  },
  {
   "cell_type": "code",
   "execution_count": 154,
   "id": "9c446258-d30c-41c7-80dd-647f163fe0e7",
   "metadata": {},
   "outputs": [
    {
     "name": "stdin",
     "output_type": "stream",
     "text": [
      "Enter the length that you want to make it as tuple:  5\n",
      "Enter 1th element:  1\n",
      "Enter 2th element:  2\n",
      "Enter 3th element:  2\n",
      "Enter 4th element:  a\n",
      "Enter 5th element:  b\n"
     ]
    },
    {
     "name": "stdout",
     "output_type": "stream",
     "text": [
      "The tuple Created is: (1.0, 2.0, 2.0, 'a', 'b')\n"
     ]
    }
   ],
   "source": [
    "length_of_tup = int(input(\"Enter the length that you want to make it as tuple: \"))\n",
    "input_element = []\n",
    "for i in range(length_of_tup):\n",
    "    a = input(f\"Enter {i+1}th element: \")\n",
    "    try:\n",
    "        input_element.append(float(a))\n",
    "    except:\n",
    "        input_element.append(a)\n",
    "\n",
    "print(f\"The tuple Created is: {tuple(input_element)}\")    \n",
    "    "
   ]
  },
  {
   "cell_type": "markdown",
   "id": "0cc70689-39be-438f-a511-e0c87e41c876",
   "metadata": {},
   "source": [
    "43. Swap two elements in a tuple."
   ]
  },
  {
   "cell_type": "code",
   "execution_count": 155,
   "id": "f50f02d3-b71d-49d6-9b6c-f0bfbc6b4d88",
   "metadata": {},
   "outputs": [
    {
     "name": "stdout",
     "output_type": "stream",
     "text": [
      "Original Tuple: (1, 2, 3, 4, 5)\n"
     ]
    },
    {
     "name": "stdin",
     "output_type": "stream",
     "text": [
      "Enter the first index to be swapped with:  2\n",
      "Enter the second index to be swapped with:  3\n"
     ]
    },
    {
     "name": "stdout",
     "output_type": "stream",
     "text": [
      "Swapped Tuple: (1, 2, 4, 3, 5)\n"
     ]
    }
   ],
   "source": [
    "tup43 = (1, 2, 3, 4, 5)\n",
    "print(f\"Original Tuple: {tup43}\")\n",
    "list43 = list(tup43)\n",
    "\n",
    "index1 = int(input(\"Enter the first index to be swapped with: \"))\n",
    "index2 = int(input(\"Enter the second index to be swapped with: \"))\n",
    "\n",
    "if 0 <= index1 < len(tup43) and 0 <= index2 < len(tup43):\n",
    "    list43[index1], list43[index2] = list43[index2], list43[index1]\n",
    "    print(f\"Swapped Tuple: {tuple(list43)}\")\n",
    "else:\n",
    "    print(\"Index is out of range!\")\n"
   ]
  },
  {
   "cell_type": "raw",
   "id": "6bea3d85-0ad3-4906-b729-7f2e2494ac5f",
   "metadata": {},
   "source": [
    "44. Reverse the elements of a tuple."
   ]
  },
  {
   "cell_type": "code",
   "execution_count": 156,
   "id": "fd85ff8a-3110-415e-beaa-468ea1c8ef7f",
   "metadata": {},
   "outputs": [
    {
     "name": "stdout",
     "output_type": "stream",
     "text": [
      "Original Tuple: (1, 2, 3, 4, 5)\n",
      "Reversed Tuple: (5, 4, 3, 2, 1)\n"
     ]
    }
   ],
   "source": [
    "print(f\"Original Tuple: {tup43}\")\n",
    "print(f\"Reversed Tuple: {tup43[::-1]}\")"
   ]
  },
  {
   "cell_type": "markdown",
   "id": "40d6d6e6-d18e-4d01-90b2-079a49623ca8",
   "metadata": {},
   "source": [
    "45. Create a tuple of the first `n` powers of 2."
   ]
  },
  {
   "cell_type": "code",
   "execution_count": 157,
   "id": "a46427b3-bad4-42a7-be80-9aaae5293371",
   "metadata": {},
   "outputs": [
    {
     "name": "stdin",
     "output_type": "stream",
     "text": [
      "Enter the number of elements that you want inside a tuple:  10\n"
     ]
    },
    {
     "name": "stdout",
     "output_type": "stream",
     "text": [
      "First 10 natural numbers of powers of 2 is: \n",
      "(1, 4, 9, 16, 25, 36, 49, 64, 81, 100)\n"
     ]
    }
   ],
   "source": [
    "num = int(input(\"Enter the number of elements that you want inside a tuple: \"))\n",
    "print(f\"First {num} natural numbers of powers of 2 is: \\n{tuple([x**2 for x in range(1, num+1)])}\")"
   ]
  },
  {
   "cell_type": "markdown",
   "id": "031149a0-40a1-4e57-ace6-c65a7c4e324b",
   "metadata": {},
   "source": [
    "46. Find the longest string in a tuple of strings."
   ]
  },
  {
   "cell_type": "code",
   "execution_count": 158,
   "id": "70510bae-2e04-4841-888c-3aab7231d642",
   "metadata": {},
   "outputs": [
    {
     "name": "stdout",
     "output_type": "stream",
     "text": [
      "Original Tuple: ('full', 'stack', 'data', 'science', 'pro', 'pwskills')\n",
      "The longest string in the above tuple is: 'pwskills'\n"
     ]
    }
   ],
   "source": [
    "tup46 = ('full', 'stack', 'data', 'science', 'pro', 'pwskills')\n",
    "print(f\"Original Tuple: {tup46}\")\n",
    "sorted_tup = sorted(tup46, key=len)\n",
    "print(f\"The longest string in the above tuple is: '{sorted_tup[-1]}'\")"
   ]
  },
  {
   "cell_type": "markdown",
   "id": "de44d21d-d0c8-43f2-a2e9-d8c33e697fcb",
   "metadata": {},
   "source": [
    "47. Find the shortest string in a tuple of strings."
   ]
  },
  {
   "cell_type": "code",
   "execution_count": 159,
   "id": "33a7e77e-1dd6-4ca6-8013-2f4fe1eede8e",
   "metadata": {},
   "outputs": [
    {
     "name": "stdout",
     "output_type": "stream",
     "text": [
      "Original Tuple: ('full', 'stack', 'data', 'science', 'pro', 'pwskills')\n",
      "The shortest string in the above tuple is: 'pro'\n"
     ]
    }
   ],
   "source": [
    "tup47 = ('full', 'stack', 'data', 'science', 'pro', 'pwskills')\n",
    "print(f\"Original Tuple: {tup47}\")\n",
    "sorted_tup = sorted(tup47, key=len)\n",
    "print(f\"The shortest string in the above tuple is: '{sorted_tup[0]}'\")"
   ]
  },
  {
   "cell_type": "markdown",
   "id": "6206e0bb-635c-40db-9640-04049c951a37",
   "metadata": {},
   "source": [
    "48. Create a tuple of the first `n` triangular numbers."
   ]
  },
  {
   "cell_type": "markdown",
   "id": "0f4f6afa-f791-4fb7-8059-06e86b0ead71",
   "metadata": {},
   "source": [
    "Triangular numbers are a sequence of numbers that can be represented as the sum of consecutive natural numbers starting from 1. The nth triangular number is the sum of the first n natural numbers.\n",
    "\n",
    "Triangular numbers are given like below:\n",
    "\n",
    "1 = 1\n",
    "1 + 2 = 3\n",
    "1 + 2 + 3 = 6\n",
    "1 + 2 + 3 + 4 = 10\n",
    "1 + 2 + 3 + 4 + 5 = 15\n",
    "1 + 2 + 3 + 4 + 5 + 6 = 21\n",
    "1 + 2 + 3 + 4 + 5 + 6 + 7 = 28\n",
    "1 + 2 + 3 + 4 + 5 + 6 + 7 + 8 = 36\n",
    "1 + 2 + 3 + 4 + 5 + 6 + 7 + 8 + 9 = 45\n",
    "1 + 2 + 3 + 4 + 5 + 6 + 7 + 8 + 9 + 10 = 55"
   ]
  },
  {
   "cell_type": "code",
   "execution_count": 160,
   "id": "30f8167e-5420-4257-98e1-7ce81d682e7b",
   "metadata": {},
   "outputs": [
    {
     "name": "stdin",
     "output_type": "stream",
     "text": [
      "Enter the number of triangular numbers that you want to be printed:  6\n"
     ]
    },
    {
     "name": "stdout",
     "output_type": "stream",
     "text": [
      "The first 6 Triangular numbers are: (1, 3, 6, 10, 15, 21)\n"
     ]
    }
   ],
   "source": [
    "def triangular_numbers(n):\n",
    "    triangle_num = []\n",
    "    total = 0\n",
    "    for i in range(1, n+1):\n",
    "        total += i\n",
    "        triangle_num.append(total)\n",
    "    return triangle_num\n",
    "\n",
    "n = int(input(\"Enter the number of triangular numbers that you want to be printed: \"))\n",
    "\n",
    "print(f\"The first {n} Triangular numbers are: {tuple(triangular_numbers(n))}\")"
   ]
  },
  {
   "cell_type": "markdown",
   "id": "5208154c-ae79-4d13-bf3c-e85bcc360478",
   "metadata": {},
   "source": [
    "49. Check if a tuple contains another tuple as a subsequence."
   ]
  },
  {
   "cell_type": "code",
   "execution_count": 161,
   "id": "f5179be9-7240-4b21-8bf1-c89cbc5da2a8",
   "metadata": {},
   "outputs": [
    {
     "name": "stdout",
     "output_type": "stream",
     "text": [
      "sub_tuple is a subsequence of main_tuple\n"
     ]
    }
   ],
   "source": [
    "def subsequence(main_tup, sub_tup):\n",
    "    main_len = len(main_tup)\n",
    "    sub_len = len(sub_tup)\n",
    "    \n",
    "    if sub_len == 0:\n",
    "        return True # as empty sub tuple is always a subset of superset\n",
    "    \n",
    "    i = 0 # index of main tuple\n",
    "    j = 0 # index of sub tuple\n",
    "    \n",
    "    while i < main_len:\n",
    "        if sub_tup[j] == main_tup[i]:\n",
    "            j += 1\n",
    "            if j == sub_len:\n",
    "                return True\n",
    "        \n",
    "        i += 1\n",
    "    return False\n",
    "\n",
    "main_tuple = (1, 2, 3, 4, 5, 6, 7, 8, 9, 10)\n",
    "sub_tuple = (5,)\n",
    "\n",
    "if subsequence(main_tuple, sub_tuple):\n",
    "    print(\"sub_tuple is a subsequence of main_tuple\")\n",
    "else:\n",
    "    print(\"sub_tuple is not a subsequence of main_tuple\")"
   ]
  },
  {
   "cell_type": "markdown",
   "id": "6ed6cda8-9f2e-4267-8f83-6e32a3ea83bb",
   "metadata": {},
   "source": [
    "50. Create a tuple of alternating 1s and 0s of length `n`."
   ]
  },
  {
   "cell_type": "code",
   "execution_count": 162,
   "id": "0c3e8145-b146-4573-a110-efc0b57f6f8a",
   "metadata": {},
   "outputs": [
    {
     "name": "stdin",
     "output_type": "stream",
     "text": [
      "Enter the length of the tuple:  9\n"
     ]
    },
    {
     "name": "stdout",
     "output_type": "stream",
     "text": [
      "The alternate 1s and 0s of length of 9 tuple is: (1, 0, 1, 0, 1, 0, 1, 0, 1)\n"
     ]
    }
   ],
   "source": [
    "n = int(input(\"Enter the length of the tuple: \"))\n",
    "tup_list = []\n",
    "for i in range(1, n+1):\n",
    "    if i%2 == 0:\n",
    "        tup_list.append(0)\n",
    "    else:\n",
    "        tup_list.append(1)\n",
    "print(f\"The alternate 1s and 0s of length of {n} tuple is: {tuple(tup_list)}\")"
   ]
  }
 ],
 "metadata": {
  "kernelspec": {
   "display_name": "Python 3 (ipykernel)",
   "language": "python",
   "name": "python3"
  },
  "language_info": {
   "codemirror_mode": {
    "name": "ipython",
    "version": 3
   },
   "file_extension": ".py",
   "mimetype": "text/x-python",
   "name": "python",
   "nbconvert_exporter": "python",
   "pygments_lexer": "ipython3",
   "version": "3.10.8"
  }
 },
 "nbformat": 4,
 "nbformat_minor": 5
}
