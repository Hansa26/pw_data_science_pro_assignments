{
 "cells": [
  {
   "cell_type": "markdown",
   "id": "9e298dff-4999-4fca-8040-325173997533",
   "metadata": {
    "tags": []
   },
   "source": [
    "# For Loop"
   ]
  },
  {
   "cell_type": "markdown",
   "id": "e6ca0acf-6c89-464d-8e81-995f2bfd4830",
   "metadata": {
    "jp-MarkdownHeadingCollapsed": true,
    "tags": []
   },
   "source": [
    "# Basic Level"
   ]
  },
  {
   "cell_type": "markdown",
   "id": "e4e8008b-e31f-4db7-8e1c-a2d61c8141a2",
   "metadata": {},
   "source": [
    "1. Write a Python program to print the numbers from 1 to 10 using a `for` loop."
   ]
  },
  {
   "cell_type": "code",
   "execution_count": 1,
   "id": "54c6c2f3-5298-41ac-b0d1-30ed8d07acf5",
   "metadata": {},
   "outputs": [
    {
     "name": "stdout",
     "output_type": "stream",
     "text": [
      "1 2 3 4 5 6 7 8 9 10 "
     ]
    }
   ],
   "source": [
    "for num in range(1, 10+1):\n",
    "    print(num, end=\" \")"
   ]
  },
  {
   "cell_type": "markdown",
   "id": "1c3c516b-fc08-4d02-b4ee-6e2e0b7c19d4",
   "metadata": {},
   "source": [
    "2. Create a program that calculates the sum of all numbers in a list using a `for` loop."
   ]
  },
  {
   "cell_type": "code",
   "execution_count": 2,
   "id": "aaab5353-040d-45ca-8dbc-39d7d9dc089a",
   "metadata": {},
   "outputs": [
    {
     "name": "stdout",
     "output_type": "stream",
     "text": [
      "The sum of all numbers in [2, 3, 90, 89, 78, 56, 7, 45, 33, 37, 67] is 507\n"
     ]
    }
   ],
   "source": [
    "list2 = [2, 3, 90, 89, 78, 56, 7, 45, 33, 37, 67]\n",
    "\n",
    "# initialize sum to 0\n",
    "total = 0\n",
    "\n",
    "for num in list2:\n",
    "    total += num\n",
    "    \n",
    "print(f\"The sum of all numbers in {list2} is {total}\")"
   ]
  },
  {
   "cell_type": "markdown",
   "id": "5c27edb9-fa5a-4e7f-b026-717c3a8dd59a",
   "metadata": {},
   "source": [
    "3. Write a program to print the characters of a string in reverse order using a `for` loop."
   ]
  },
  {
   "cell_type": "code",
   "execution_count": 22,
   "id": "efc0e8b6-4b36-482f-b84b-c0705d46d84e",
   "metadata": {},
   "outputs": [
    {
     "name": "stdout",
     "output_type": "stream",
     "text": [
      "Original String: This would print the characters of a string in reverse order!\n",
      "Reversed String using for loop: \n",
      "!redro esrever ni gnirts a fo sretcarahc eht tnirp dluow sihT"
     ]
    }
   ],
   "source": [
    "string3 = \"This would print the characters of a string in reverse order!\"\n",
    "\n",
    "# Reverse of the string is given by [::-1]\n",
    "print(f\"Original String: {string3}\\nReversed String using for loop: \")\n",
    "for i in string3[::-1]:\n",
    "    print(i, end='')"
   ]
  },
  {
   "cell_type": "markdown",
   "id": "bfa0d0bf-3c7c-4374-8a0f-510c9fef12b8",
   "metadata": {},
   "source": [
    "4. Develop a program that finds the factorial of a given number using a `for` loop."
   ]
  },
  {
   "cell_type": "code",
   "execution_count": 34,
   "id": "d681b01c-2dc3-410b-b521-3b7b429edd87",
   "metadata": {},
   "outputs": [
    {
     "name": "stdin",
     "output_type": "stream",
     "text": [
      "Enter the factorial number:  6\n"
     ]
    },
    {
     "name": "stdout",
     "output_type": "stream",
     "text": [
      "The factorial of the given number 6 is 720\n"
     ]
    }
   ],
   "source": [
    "n = int(input(\"Enter the factorial number: \"))\n",
    "\n",
    "# initialize the factorial to 1\n",
    "fact = 1\n",
    "\n",
    "for i in range(1, n+1):\n",
    "    fact *= i\n",
    "print(f\"The factorial of the given number {n} is {fact}\")"
   ]
  },
  {
   "cell_type": "markdown",
   "id": "f779f51e-91a4-4086-92f6-3cc332f64c0d",
   "metadata": {},
   "source": [
    "5. Create a program to print the multiplication table of a given number using a `for` loop."
   ]
  },
  {
   "cell_type": "code",
   "execution_count": 32,
   "id": "5373d387-2efe-4888-b2a7-c52ebec5a28f",
   "metadata": {},
   "outputs": [
    {
     "name": "stdin",
     "output_type": "stream",
     "text": [
      "Enter the number that you want tables for:  2\n",
      "Enter the number of multiples you need:  10\n"
     ]
    },
    {
     "name": "stdout",
     "output_type": "stream",
     "text": [
      "The Tables of 2 for 10 multiples are:\n",
      "\n",
      "2 X 1 = 2\n",
      "2 X 2 = 4\n",
      "2 X 3 = 6\n",
      "2 X 4 = 8\n",
      "2 X 5 = 10\n",
      "2 X 6 = 12\n",
      "2 X 7 = 14\n",
      "2 X 8 = 16\n",
      "2 X 9 = 18\n",
      "2 X 10 = 20\n"
     ]
    }
   ],
   "source": [
    "number = int(input(\"Enter the number that you want tables for: \"))\n",
    "multiples = int(input(\"Enter the number of multiples you need: \"))\n",
    "\n",
    "print(\"The Tables of {0} for {1} multiples are:\\n\".format(number, multiples))\n",
    "for i in range(1, multiples+1):\n",
    "    print(f\"{number} X {i} = {i*number}\")"
   ]
  },
  {
   "cell_type": "markdown",
   "id": "c9e3d44c-b8dd-4c3a-8397-f45ed17d9f46",
   "metadata": {},
   "source": [
    "6. Write a program that counts the number of even and odd numbers in a list using a `for` loop."
   ]
  },
  {
   "cell_type": "code",
   "execution_count": 39,
   "id": "6127650b-9173-4114-8a15-2103f9d8e7fc",
   "metadata": {},
   "outputs": [
    {
     "name": "stdin",
     "output_type": "stream",
     "text": [
      "Enter the size of the list that you need:  10\n"
     ]
    },
    {
     "name": "stdout",
     "output_type": "stream",
     "text": [
      "The list generated in random is: [52, 71, 6, 38, 94, 27, 46, 33, 3, 80]\n",
      "There are 6 even numbers and 4 odd_numbers from the above list!\n"
     ]
    }
   ],
   "source": [
    "n = int(input(\"Enter the size of the list that you need: \"))\n",
    "import random\n",
    "list_of_numbers = []\n",
    "for i in range(n):\n",
    "    list_of_numbers.append(random.randint(1, 100))\n",
    "\n",
    "print(f\"The list generated in random is: {list_of_numbers}\")\n",
    "\n",
    "# initialise even count and odd count to 0\n",
    "even_count, odd_count = 0, 0\n",
    "for num in list_of_numbers:\n",
    "    if num%2 == 0:\n",
    "        even_count += 1\n",
    "    else:\n",
    "        odd_count += 1\n",
    "\n",
    "print(f\"There are {even_count} even numbers and {odd_count} odd_numbers from the above list!\")        "
   ]
  },
  {
   "cell_type": "markdown",
   "id": "e067dcb7-888e-4a91-8468-2168873ce9c7",
   "metadata": {},
   "source": [
    "7. Develop a program that prints the squares of numbers from 1 to 5 using a `for` loop."
   ]
  },
  {
   "cell_type": "code",
   "execution_count": 42,
   "id": "6df1009c-44e1-4eb3-a7a7-65e97b83730d",
   "metadata": {},
   "outputs": [
    {
     "name": "stdout",
     "output_type": "stream",
     "text": [
      "The squares of numbers from 1 to 5 is: \n",
      "1's square is 1\n",
      "2's square is 4\n",
      "3's square is 9\n",
      "4's square is 16\n",
      "5's square is 25\n"
     ]
    }
   ],
   "source": [
    "print(f\"The squares of numbers from 1 to 5 is: \")\n",
    "for i in range(1, 5+1): # as range started from 1\n",
    "    print(f\"{i}'s square is {i*i}\")"
   ]
  },
  {
   "cell_type": "markdown",
   "id": "d14ac965-5c63-4807-9cf3-056e86a1383a",
   "metadata": {},
   "source": [
    "8. Create a program to find the length of a string without using the `len()` function."
   ]
  },
  {
   "cell_type": "code",
   "execution_count": 43,
   "id": "3cbcc24d-7eda-44a1-9e01-2f31676f9950",
   "metadata": {},
   "outputs": [
    {
     "name": "stdin",
     "output_type": "stream",
     "text": [
      "Enter any string that you want to find the length of:  This string would print the length of the string\n"
     ]
    },
    {
     "name": "stdout",
     "output_type": "stream",
     "text": [
      "The length of the given string 'This string would print the length of the string' is 48\n"
     ]
    }
   ],
   "source": [
    "string = input(\"Enter any string that you want to find the length of: \")\n",
    "\n",
    "# initialise counter variable to 0\n",
    "counter = 0\n",
    "\n",
    "# iterate over the string\n",
    "for i in string:\n",
    "    counter += 1\n",
    "    \n",
    "print(f\"The length of the given string '{string}' is {counter}\")"
   ]
  },
  {
   "cell_type": "markdown",
   "id": "008ffadb-be42-489a-b5da-b0046e606397",
   "metadata": {},
   "source": [
    "9. Write a program that calculates the average of a list of numbers using a `for` loop."
   ]
  },
  {
   "cell_type": "code",
   "execution_count": 44,
   "id": "eee3f26f-2f1f-4e0b-bac7-2362c91402bd",
   "metadata": {},
   "outputs": [
    {
     "name": "stdin",
     "output_type": "stream",
     "text": [
      "Enter the length of the list that you need to find average:  10\n"
     ]
    },
    {
     "name": "stdout",
     "output_type": "stream",
     "text": [
      "The list of 10 random generated numbers are: [87, 4, 6, 82, 9, 68, 87, 31, 50, 61]\n",
      "The average of the list of numbers generated is 48.5\n"
     ]
    }
   ],
   "source": [
    "import random\n",
    "\n",
    "n = int(input(\"Enter the length of the list that you need to find average: \"))\n",
    "\n",
    "list_of_numbers = []\n",
    "for i in range(n):\n",
    "    list_of_numbers.append(random.randint(1, 100))\n",
    "\n",
    "print(f\"The list of {n} random generated numbers are: {list_of_numbers}\")\n",
    "\n",
    "# to calculate the average of the list of numbers\n",
    "\n",
    "# initialize total count to 0\n",
    "total_sum = 0\n",
    "\n",
    "for num in list_of_numbers:\n",
    "    total_sum += num\n",
    "\n",
    "print(f\"The average of the list of numbers generated is {total_sum/len(list_of_numbers)}\")"
   ]
  },
  {
   "cell_type": "markdown",
   "id": "a7cf4536-5ad5-4a4b-808f-2249e0de0525",
   "metadata": {},
   "source": [
    "10. Develop a program that prints the first `n` Fibonacci numbers using a `for` loop."
   ]
  },
  {
   "cell_type": "code",
   "execution_count": 48,
   "id": "157e24df-ad6b-443a-9721-009c1a1aee84",
   "metadata": {},
   "outputs": [
    {
     "name": "stdin",
     "output_type": "stream",
     "text": [
      "Enter the range of Fibonacci series that you need:  10\n"
     ]
    },
    {
     "name": "stdout",
     "output_type": "stream",
     "text": [
      "The Fibonacci series for first 10 numbers are:\n",
      "0 1 1 2 3 5 8 13 21 34 "
     ]
    }
   ],
   "source": [
    "n = int(input(\"Enter the range of Fibonacci series that you need: \"))\n",
    "\n",
    "def fibonacci(number):\n",
    "    if number < 0:\n",
    "        return 0\n",
    "    \n",
    "    a, b = 0, 1\n",
    "    \n",
    "    i = 2\n",
    "    \n",
    "    # append the value of 0 and 1 in fibo list\n",
    "    fibo = [a, b]\n",
    "    for i in range(2,number):\n",
    "        a, b = b, a+b\n",
    "        fibo.append(b)\n",
    "        i += 1\n",
    "    \n",
    "    return fibo\n",
    "\n",
    "print(f\"The Fibonacci series for first {n} numbers are:\")\n",
    "for fib in fibonacci(n):\n",
    "    print(fib, end=' ')"
   ]
  },
  {
   "cell_type": "code",
   "execution_count": null,
   "id": "dd4029d9-6530-45e2-b80c-d8bba8f76b61",
   "metadata": {},
   "outputs": [],
   "source": []
  },
  {
   "cell_type": "markdown",
   "id": "c5e69d4a-9127-4655-b0cf-dd1f182f9c34",
   "metadata": {
    "jp-MarkdownHeadingCollapsed": true,
    "tags": []
   },
   "source": [
    "# Intermediate Level"
   ]
  },
  {
   "cell_type": "markdown",
   "id": "0eb48496-104b-4786-8f7c-3e7de3cb0134",
   "metadata": {},
   "source": [
    "11. Write a program to check if a given list contains any duplicates using a `for` loop."
   ]
  },
  {
   "cell_type": "code",
   "execution_count": 51,
   "id": "5ffece25-cfbc-47e9-b9a8-4baa40a19c81",
   "metadata": {},
   "outputs": [
    {
     "name": "stdin",
     "output_type": "stream",
     "text": [
      "Enter the length of the list that you need:  11\n"
     ]
    },
    {
     "name": "stdout",
     "output_type": "stream",
     "text": [
      "The generated random element list of size 11 is [41, 85, 7, 6, 98, 11, 84, 41, 79, 37, 22]\n",
      "The above list has duplicate elements\n"
     ]
    }
   ],
   "source": [
    "import random\n",
    "\n",
    "n = int(input(\"Enter the length of the list that you need: \"))\n",
    "\n",
    "list_of_numbers = []\n",
    "for i in range(n):\n",
    "    list_of_numbers.append(random.randint(1, 100))\n",
    "    \n",
    "print(f\"The generated random element list of size {n} is {list_of_numbers}\")\n",
    "\n",
    "def check_for_duplicates_in_a_list(list_of_numbers):\n",
    "    \"\"\"\n",
    "    This program would check if a given list contains any duplicates\n",
    "    \"\"\"\n",
    "    # we need two for loops to compare the elements inside the list\n",
    "\n",
    "    # this for loop to iterate through each element inside the list \n",
    "    for i in range(len(list_of_numbers)):\n",
    "\n",
    "        # this for loop would compare the current element with all the other elements\n",
    "        for j in range(i+1, len(list_of_numbers)):\n",
    "\n",
    "            # compare the elements inside the list\n",
    "            if list_of_numbers[i] == list_of_numbers[j]:\n",
    "                return True\n",
    "    return False\n",
    "\n",
    "if check_for_duplicates_in_a_list(list_of_numbers):\n",
    "    print(\"The above list has duplicate elements\")\n",
    "else:\n",
    "    print(\"The above list does not have any duplicate elements\")"
   ]
  },
  {
   "cell_type": "markdown",
   "id": "76f81324-376d-4cfa-ad2e-139b307aef19",
   "metadata": {},
   "source": [
    "12. Create a program that prints the prime numbers in a given range using a `for` loop."
   ]
  },
  {
   "cell_type": "code",
   "execution_count": 59,
   "id": "c1f79379-08a9-419e-81e9-dd794483028a",
   "metadata": {},
   "outputs": [
    {
     "name": "stdin",
     "output_type": "stream",
     "text": [
      "Enter the from range of prime numbers you need:  30\n",
      "Enter the to range of prime numbers you need:  40\n"
     ]
    },
    {
     "name": "stdout",
     "output_type": "stream",
     "text": [
      "The series of prime numbers from 30 to 40 are:\n",
      "31 37 "
     ]
    }
   ],
   "source": [
    "n = int(input(\"Enter the from range of prime numbers you need: \"))\n",
    "m = int(input(\"Enter the to range of prime numbers you need: \"))\n",
    "\n",
    "def check_prime(number):\n",
    "    if n <= 1:\n",
    "        return False\n",
    "    \n",
    "    # check for the divisors from 2 upto the squareroot of the number (formula for programming) \n",
    "    for div in range(2, int(number**0.5) + 1):\n",
    "        if number % div == 0:\n",
    "            return False # if divisible, then it's not a prime\n",
    "    return True # as it's not divisible, it's not a prime\n",
    "\n",
    "print(f\"The series of prime numbers from {n} to {m} are:\")\n",
    "for num in range(n, m):\n",
    "    if check_prime(num):\n",
    "        print(num, end=' ')"
   ]
  },
  {
   "cell_type": "markdown",
   "id": "e12455d6-0253-47a1-8ad6-8b4afaf5ac44",
   "metadata": {},
   "source": [
    "13. Develop a program that counts the number of vowels in a string using a `for` loop."
   ]
  },
  {
   "cell_type": "code",
   "execution_count": 60,
   "id": "231dfbb7-4763-413f-8582-6d7bf454d9dc",
   "metadata": {},
   "outputs": [
    {
     "name": "stdin",
     "output_type": "stream",
     "text": [
      "Enter the string:  UPSC Aspirant\n"
     ]
    },
    {
     "name": "stdout",
     "output_type": "stream",
     "text": [
      "The total count of the number of vowels in a string is: 4\n"
     ]
    }
   ],
   "source": [
    "vowels = ['a', 'e', 'i', 'o', 'u', 'A', 'E', 'I', 'O', 'U']\n",
    "\n",
    "string = input(\"Enter the string: \")\n",
    "\n",
    "# initialise vowels count\n",
    "vowels_count = 0\n",
    "for i in string:\n",
    "    if i in vowels:\n",
    "        vowels_count += 1\n",
    "        \n",
    "print(f\"The total count of the number of vowels in a string is: {vowels_count}\")"
   ]
  },
  {
   "cell_type": "markdown",
   "id": "7b87fd85-7d23-46a7-a7fb-7a3dfd9c280b",
   "metadata": {},
   "source": [
    "14. Write a program to find the maximum element in a 2D list using a nested `for` loop."
   ]
  },
  {
   "cell_type": "code",
   "execution_count": 66,
   "id": "a3efea38-3089-42e8-818e-77375c799475",
   "metadata": {},
   "outputs": [
    {
     "name": "stdout",
     "output_type": "stream",
     "text": [
      "[[44, 43, 40], [50, 63, 70], [20, 30, 40]]\n",
      "The maximum element in the above 2D list is: \n",
      "70\n"
     ]
    }
   ],
   "source": [
    "nested_list = [[44, 43, 40],\n",
    "               [50, 63, 70],\n",
    "               [20, 30, 40]]\n",
    "print(nested_list)\n",
    "\n",
    "def find_maximum_element(matrix):\n",
    "    # initialise first elemt as max\n",
    "    max_ele = matrix[0][0]\n",
    "    \n",
    "    # iterate through each element inside the 2D list\n",
    "    for row in matrix:\n",
    "        for col in row:\n",
    "            if col > max_ele:\n",
    "                max_ele = col\n",
    "    return max_ele\n",
    "\n",
    "maximum_element = find_maximum_element(nested_list)\n",
    "print(f\"The maximum element in the above 2D list is: \")\n",
    "print(max_ele)"
   ]
  },
  {
   "cell_type": "markdown",
   "id": "c751529d-bd85-409a-bc9d-33506109f44f",
   "metadata": {},
   "source": [
    "15. Create a program that removes all occurrences of a specific element from a list using a `for` loop."
   ]
  },
  {
   "cell_type": "code",
   "execution_count": 74,
   "id": "6fcb9af0-92d6-47d1-8a4c-7c58f04e1689",
   "metadata": {},
   "outputs": [
    {
     "name": "stdin",
     "output_type": "stream",
     "text": [
      "Enter the size of the list:  5\n",
      "Enter 1th element:  a\n",
      "Enter 2th element:  1\n",
      "Enter 3th element:  2\n",
      "Enter 4th element:  a\n",
      "Enter 5th element:  2\n"
     ]
    },
    {
     "name": "stdout",
     "output_type": "stream",
     "text": [
      "Original List:  ['a', '1', '2', 'a', '2']\n"
     ]
    },
    {
     "name": "stdin",
     "output_type": "stream",
     "text": [
      "Enter the element that you want to remove from the list:  2\n"
     ]
    },
    {
     "name": "stdout",
     "output_type": "stream",
     "text": [
      "Modified list after removing all occurrences of '2' from the above list is: ['a', '1', 'a']\n"
     ]
    }
   ],
   "source": [
    "def remove_all_occurrences_of(complete_list, element):\n",
    "    # taking the copy of the list because list gets modified while iterating and then we would iterate on the modified list, which would result the incorrect result\n",
    "    copy_of_complete_list = complete_list.copy()\n",
    "    \n",
    "    # iterate on the copy list, and remove the item from the original list\n",
    "    for i in copy_of_complete_list:\n",
    "        if i == element:\n",
    "            complete_list.remove(i)\n",
    "\n",
    "    del copy_of_complete_list # delete to save space\n",
    "    return complete_list\n",
    "\n",
    "\n",
    "size = int(input(\"Enter the size of the list: \"))\n",
    "\n",
    "list15 = []\n",
    "\n",
    "for i in range(size):\n",
    "    list15.append(input(f\"Enter {i+1}th element: \"))\n",
    "\n",
    "print(\"Original List: \", list15)\n",
    "    \n",
    "item = input(\"Enter the element that you want to remove from the list: \")\n",
    "\n",
    "print(f\"Modified list after removing all occurrences of '{item}' from the above list is: {remove_all_occurrences_of(list15, item)}\")"
   ]
  },
  {
   "cell_type": "markdown",
   "id": "7f80b6ab-7900-43da-ae0e-bdc151661df7",
   "metadata": {},
   "source": [
    "16. Develop a program that generates a multiplication table for numbers from 1 to 5 using a nested `for` loop."
   ]
  },
  {
   "cell_type": "code",
   "execution_count": 1,
   "id": "7bfbae92-6524-4362-992d-e08810b93412",
   "metadata": {},
   "outputs": [
    {
     "name": "stdout",
     "output_type": "stream",
     "text": [
      "Multiplication Table of  1\n",
      "1 X 1 = 1\n",
      "1 X 2 = 2\n",
      "1 X 3 = 3\n",
      "1 X 4 = 4\n",
      "1 X 5 = 5\n",
      "1 X 6 = 6\n",
      "1 X 7 = 7\n",
      "1 X 8 = 8\n",
      "1 X 9 = 9\n",
      "1 X 10 = 10\n",
      "\n",
      "Multiplication Table of  2\n",
      "2 X 1 = 2\n",
      "2 X 2 = 4\n",
      "2 X 3 = 6\n",
      "2 X 4 = 8\n",
      "2 X 5 = 10\n",
      "2 X 6 = 12\n",
      "2 X 7 = 14\n",
      "2 X 8 = 16\n",
      "2 X 9 = 18\n",
      "2 X 10 = 20\n",
      "\n",
      "Multiplication Table of  3\n",
      "3 X 1 = 3\n",
      "3 X 2 = 6\n",
      "3 X 3 = 9\n",
      "3 X 4 = 12\n",
      "3 X 5 = 15\n",
      "3 X 6 = 18\n",
      "3 X 7 = 21\n",
      "3 X 8 = 24\n",
      "3 X 9 = 27\n",
      "3 X 10 = 30\n",
      "\n",
      "Multiplication Table of  4\n",
      "4 X 1 = 4\n",
      "4 X 2 = 8\n",
      "4 X 3 = 12\n",
      "4 X 4 = 16\n",
      "4 X 5 = 20\n",
      "4 X 6 = 24\n",
      "4 X 7 = 28\n",
      "4 X 8 = 32\n",
      "4 X 9 = 36\n",
      "4 X 10 = 40\n",
      "\n",
      "Multiplication Table of  5\n",
      "5 X 1 = 5\n",
      "5 X 2 = 10\n",
      "5 X 3 = 15\n",
      "5 X 4 = 20\n",
      "5 X 5 = 25\n",
      "5 X 6 = 30\n",
      "5 X 7 = 35\n",
      "5 X 8 = 40\n",
      "5 X 9 = 45\n",
      "5 X 10 = 50\n",
      "\n"
     ]
    }
   ],
   "source": [
    "\n",
    "for i in range(1, 6):\n",
    "    print(\"Multiplication Table of \", i)\n",
    "    for j in range(1, 11): # print 1s to 10s multiples\n",
    "        print(f\"{i} X {j} = {i*j}\")\n",
    "    print()\n",
    "        "
   ]
  },
  {
   "cell_type": "markdown",
   "id": "28b4ff59-b156-49ae-82f7-de2de7d350a4",
   "metadata": {},
   "source": [
    "17. Write a program that converts a list of Fahrenheit temperatures to Celsius using a `for` loop."
   ]
  },
  {
   "cell_type": "code",
   "execution_count": 4,
   "id": "0fbb5aff-0a41-408f-914e-9e3b238821c2",
   "metadata": {},
   "outputs": [
    {
     "name": "stdout",
     "output_type": "stream",
     "text": [
      "Fahrenheit Temperatures:  [32, 68, 86, 104, 122]\n",
      "Converted Celsius temperatures\n",
      "32 deg. F = 0.0 deg. C\n",
      "68 deg. F = 20.0 deg. C\n",
      "86 deg. F = 30.0 deg. C\n",
      "104 deg. F = 40.0 deg. C\n",
      "122 deg. F = 50.0 deg. C\n"
     ]
    }
   ],
   "source": [
    "# fahrenheit = ((celsius * (9/5)) + 32)\n",
    "# celsius = ((fahrenheit - 32) * (5/9))\n",
    "\n",
    "fahrenheit_temperatures = [32, 68, 86, 104, 122]\n",
    "print(\"Fahrenheit Temperatures: \", fahrenheit_temperatures)\n",
    "\n",
    "celsius_temperatures = []\n",
    "\n",
    "for temp in fahrenheit_temperatures:\n",
    "    celsius = ((temp - 32) * (5/9))\n",
    "    celsius_temperatures.append(celsius)\n",
    "\n",
    "print(\"Converted Celsius temperatures: \")\n",
    "\n",
    "for i in range(len(fahrenheit_temperatures)):\n",
    "    print(f\"{fahrenheit_temperatures[i]} deg. F = {celsius_temperatures[i]} deg. C\")"
   ]
  },
  {
   "cell_type": "markdown",
   "id": "3079a128-d67e-401d-832a-4c7ab6b09da2",
   "metadata": {},
   "source": [
    "18. Create a program to print the common elements from two lists using a `for` loop."
   ]
  },
  {
   "cell_type": "code",
   "execution_count": 7,
   "id": "1c1de754-eb0c-48b8-8484-4f449093ae2e",
   "metadata": {},
   "outputs": [
    {
     "name": "stdin",
     "output_type": "stream",
     "text": [
      "Enter the size of the first list that you need:  11\n",
      "Enter the size of the second list that you need:  11\n"
     ]
    },
    {
     "name": "stdout",
     "output_type": "stream",
     "text": [
      "The first list generated in random is: [60, 35, 82, 25, 10, 12, 49, 61, 81, 46, 29]\n",
      "The second list generated in random is: [54, 84, 54, 33, 67, 77, 20, 60, 29, 2, 62]\n",
      "Common elements from two lists is [60, 29]\n"
     ]
    }
   ],
   "source": [
    "import random\n",
    "\n",
    "n = int(input(\"Enter the size of the first list that you need: \"))\n",
    "m = int(input(\"Enter the size of the second list that you need: \"))\n",
    "\n",
    "first_list = []\n",
    "for i in range(n):\n",
    "    first_list.append(random.randint(1, 100))\n",
    "\n",
    "print(f\"The first list generated in random is: {first_list}\")\n",
    "\n",
    "second_list = []\n",
    "for j in range(m):\n",
    "    second_list.append(random.randint(1, 100))\n",
    "\n",
    "print(f\"The second list generated in random is: {second_list}\")\n",
    "\n",
    "common_list = []\n",
    "\n",
    "for l1 in range(len(first_list)):\n",
    "    for l2 in range(len(second_list)):\n",
    "        if first_list[l1] == second_list[l2]:\n",
    "            common_list.append(first_list[l1])\n",
    "            \n",
    "print(f\"Common elements from two lists is {common_list}\")"
   ]
  },
  {
   "cell_type": "markdown",
   "id": "cb5e9115-5c6f-4a88-8d6d-d54ef69d6019",
   "metadata": {},
   "source": [
    "19. Develop a program that prints the pattern of right-angled triangles using a `for` loop. Use ‘*’ to draw the\n",
    "pattern"
   ]
  },
  {
   "cell_type": "code",
   "execution_count": 10,
   "id": "8d6bd881-3d22-4e25-804c-d977d9ce2504",
   "metadata": {},
   "outputs": [
    {
     "name": "stdin",
     "output_type": "stream",
     "text": [
      "Enter the number of rows that you need to print:  5\n"
     ]
    },
    {
     "name": "stdout",
     "output_type": "stream",
     "text": [
      "* \n",
      "* * \n",
      "* * * \n",
      "* * * * \n",
      "* * * * * \n"
     ]
    }
   ],
   "source": [
    "n = int(input(\"Enter the number of rows that you need to print: \"))\n",
    "\n",
    "for i in range(n):\n",
    "    for j in range(i+1):\n",
    "        print(\"*\", end=' ')\n",
    "    print()"
   ]
  },
  {
   "cell_type": "markdown",
   "id": "1aaff2a7-ee5a-44c0-b24b-c1e2544a009f",
   "metadata": {},
   "source": [
    "20. Write a program to find the greatest common divisor (GCD) of two numbers using a `for` loop."
   ]
  },
  {
   "cell_type": "raw",
   "id": "2b8accd0-e164-4be3-8883-35f2b544aef3",
   "metadata": {},
   "source": [
    "The greatest common divisor (GCD) of two numbers is calculated using various algorithms, with the most common one being the Euclidean algorithm. Here's how the Euclidean algorithm works:\n",
    "\n",
    "Given two positive integers, a and b, where a >= b, you can calculate their GCD as follows:\n",
    "\n",
    "Divide a by b and find the remainder. Let r be the remainder (r = a % b).\n",
    "Replace a with b and b with r.\n",
    "Repeat steps 1 and 2 until r becomes zero.\n",
    "When r becomes zero, the GCD is the last non-zero remainder, which is the value of a.\n",
    "\n",
    "The algorithm works because the GCD of two numbers remains the same if you replace the larger number with its remainder when divided by the smaller number. This process continues until you find a remainder of zero, at which point you have found the GCD of the original two numbers.\n",
    "\n",
    "For example, let's calculate the GCD of 48 and 18 using the Euclidean algorithm:\n",
    "\n",
    "Initial values: a = 48, b = 18\n",
    "Calculate r = a % b = 48 % 18 = 12.\n",
    "Update values: a = 18, b = 12\n",
    "Calculate r = a % b = 18 % 12 = 6.\n",
    "Update values: a = 12, b = 6\n",
    "Calculate r = a % b = 12 % 6 = 0.\n",
    "Since r has become zero, the GCD of 48 and 18 is 6, which is the last non-zero remainder encountered in the process.\n",
    "\n",
    "The Euclidean algorithm is efficient and widely used for calculating the GCD of two numbers, even for very large numbers."
   ]
  },
  {
   "cell_type": "code",
   "execution_count": 14,
   "id": "d668174b-1e3c-4c57-963b-17eec7360865",
   "metadata": {},
   "outputs": [
    {
     "name": "stdin",
     "output_type": "stream",
     "text": [
      "Enter the first number:  48\n",
      "Enter the second number:  18\n"
     ]
    },
    {
     "name": "stdout",
     "output_type": "stream",
     "text": [
      "The Greatest common divisor of above two numbers are 6\n"
     ]
    }
   ],
   "source": [
    "def get_gcd(num1, num2):\n",
    "    \n",
    "    mini_num = min(num1, num2)\n",
    "    \n",
    "    gcd = 1 # gcd can never be zero\n",
    "    \n",
    "    for i in range(2, mini_num+1):\n",
    "        if num1 % i == 0 and num2 % i == 0:\n",
    "            gcd = i\n",
    "    \n",
    "    return gcd\n",
    "\n",
    "gcd = get_gcd(int(input(\"Enter the first number: \")), int(input(\"Enter the second number: \")))\n",
    "print(\"The Greatest common divisor of above two numbers are {0}\".format(gcd))"
   ]
  },
  {
   "cell_type": "code",
   "execution_count": null,
   "id": "425f6258-3346-4cab-9ea9-a7690f9ea2d6",
   "metadata": {},
   "outputs": [],
   "source": []
  },
  {
   "cell_type": "markdown",
   "id": "442619e8-d3ea-49d6-8d84-87ea99a2e040",
   "metadata": {
    "tags": []
   },
   "source": [
    "# Advanced Level"
   ]
  },
  {
   "cell_type": "markdown",
   "id": "36b77d63-5f91-4b7c-acfa-4fde281bdf41",
   "metadata": {},
   "source": [
    "21. Create a program that calculates the sum of the digits of numbers in a list using a list comprehension."
   ]
  },
  {
   "cell_type": "code",
   "execution_count": 2,
   "id": "3d845bae-5634-4297-8698-291b35838040",
   "metadata": {},
   "outputs": [
    {
     "name": "stdin",
     "output_type": "stream",
     "text": [
      "Enter the size of the list that you need:  5\n"
     ]
    },
    {
     "name": "stdout",
     "output_type": "stream",
     "text": [
      "The list generated at random is: [445, 348, 422, 462, 289]\n",
      "The sum of digit 445 is: 13\n",
      "The sum of digit 348 is: 15\n",
      "The sum of digit 422 is: 8\n",
      "The sum of digit 462 is: 12\n",
      "The sum of digit 289 is: 19\n"
     ]
    }
   ],
   "source": [
    "n = int(input(\"Enter the size of the list that you need: \"))\n",
    "import random\n",
    "list_of_numbers = []\n",
    "for i in range(n):\n",
    "    list_of_numbers.append(random.randint(10, 500))\n",
    "\n",
    "print(f\"The list generated at random is: {list_of_numbers}\")\n",
    "\n",
    "def sum_of_digits(number):\n",
    "    # convert the number to string and then iterate it and then use sum function\n",
    "    \n",
    "    # approach 1: converting the number to string\n",
    "    # digit_sum = sum(int(i) for i in str(number) if number.isdigit())\n",
    "    # return digit_sum\n",
    "    \n",
    "    # approach 2: by using modulus\n",
    "    total = 0\n",
    "    while number != 0:\n",
    "        total += number % 10\n",
    "        number = number // 10\n",
    "    \n",
    "    return total\n",
    "\n",
    "for num in range(len(list_of_numbers)):\n",
    "    print(f\"The sum of digit {list_of_numbers[num]} is: {sum_of_digits(list_of_numbers[num])}\")"
   ]
  },
  {
   "cell_type": "markdown",
   "id": "70c097a7-10d5-4db0-807c-29e0758a0217",
   "metadata": {},
   "source": [
    "22. Write a program to find the prime factors of a given number using a `for` loop and list comprehension."
   ]
  },
  {
   "cell_type": "code",
   "execution_count": 10,
   "id": "df72079b-b2ed-483b-b2af-9b7ff4385940",
   "metadata": {},
   "outputs": [
    {
     "name": "stdin",
     "output_type": "stream",
     "text": [
      "Enter the number to find the prime factors:  64654\n"
     ]
    },
    {
     "name": "stdout",
     "output_type": "stream",
     "text": [
      "The prime factors of 64654 are: {2, 32327}\n"
     ]
    }
   ],
   "source": [
    "def check_prime(number):\n",
    "    if number <= 1:\n",
    "        return False\n",
    "    if number <= 3:\n",
    "        return True\n",
    "    for i in range(2, int(number**0.5)+1):\n",
    "        if number % i == 0:\n",
    "            return False\n",
    "    return True\n",
    "\n",
    "def prime_factors(number):\n",
    "    \n",
    "    # using normal for loop approach\n",
    "#     factors = []\n",
    "#     d = 2 # smallest prime number\n",
    "    \n",
    "#     for i in range(d, number+1):\n",
    "#         if number % d == 0:\n",
    "#             factors.append(d)\n",
    "#             number = number // d\n",
    "#         else:\n",
    "#             d += 1\n",
    "#     return factors\n",
    "\n",
    "    # using list comprehensions print the prime factors\n",
    "    \n",
    "    prime_ = [x for x in range(1, number+1) if number % x == 0 and check_prime(x)]\n",
    "    return prime_\n",
    "\n",
    "num = int(input(\"Enter the number to find the prime factors: \"))\n",
    "\n",
    "if len(prime_factors(num)) > 0:\n",
    "    print(f\"The prime factors of {num} are: {set(prime_factors(num))}\")\n",
    "else:\n",
    "    print(f\"There are no prime factors for a given number!\")\n",
    "    "
   ]
  },
  {
   "cell_type": "markdown",
   "id": "34c9d7dc-19e9-45fe-a8aa-334a5c859f8e",
   "metadata": {},
   "source": [
    "23. Develop a program that extracts unique elements from a list and stores them in a new list using a list\n",
    "comprehension."
   ]
  },
  {
   "cell_type": "code",
   "execution_count": 11,
   "id": "2185d4ad-3c1b-4bae-bf6b-b0cf7f3599da",
   "metadata": {},
   "outputs": [
    {
     "name": "stdin",
     "output_type": "stream",
     "text": [
      "Enter the size of the list that you need:  5\n"
     ]
    },
    {
     "name": "stdout",
     "output_type": "stream",
     "text": [
      "The list generated at random is: [33, 19, 40, 25, 11]\n",
      "Unique elements in the list:  [33, 19, 40, 25, 11]\n"
     ]
    }
   ],
   "source": [
    "n = int(input(\"Enter the size of the list that you need: \"))\n",
    "import random\n",
    "list_of_numbers = []\n",
    "for i in range(n):\n",
    "    list_of_numbers.append(random.randint(10, 50))\n",
    "\n",
    "print(f\"The list generated at random is: {list_of_numbers}\")\n",
    "\n",
    "def unique_elements(my_list):\n",
    "    # return the count of each item inside the list\n",
    "    ele_dict = {}\n",
    "    for i in my_list:\n",
    "        if i in ele_dict:\n",
    "            ele_dict[i] += 1\n",
    "        else:\n",
    "            ele_dict[i] = 1\n",
    "    return ele_dict\n",
    "\n",
    "dict_ele = unique_elements(list_of_numbers)\n",
    "\n",
    "unique_elem = [ key for key, value in dict_ele.items() if dict_ele[key] == 1 ]\n",
    "\n",
    "print(\"Unique elements in the list: \", unique_elem)"
   ]
  },
  {
   "cell_type": "markdown",
   "id": "86756d87-57e6-4bbe-9e4c-91ffab48e206",
   "metadata": {},
   "source": [
    "24. Create a program that generates a list of all palindromic numbers up to a specified limit using a list\n",
    "comprehension."
   ]
  },
  {
   "cell_type": "code",
   "execution_count": 14,
   "id": "dd257574-cbd5-47b8-9dca-a8a726f6b776",
   "metadata": {},
   "outputs": [
    {
     "name": "stdin",
     "output_type": "stream",
     "text": [
      "Enter the lower limit:  254\n",
      "Enter the upper limit:  100\n"
     ]
    },
    {
     "name": "stdout",
     "output_type": "stream",
     "text": [
      "Palindromic numbers from 254 to 100 are: \n",
      " []\n"
     ]
    }
   ],
   "source": [
    "n = int(input(\"Enter the lower limit: \"))\n",
    "m = int(input(\"Enter the upper limit: \"))\n",
    "\n",
    "palindrome = [ i for i in range(n, m+1) if str(i) == str(i)[::-1]]\n",
    "print(f\"Palindromic numbers from {n} to {m} are: \\n\", palindrome)"
   ]
  },
  {
   "cell_type": "markdown",
   "id": "23b001e2-5f8d-4e18-a02a-66f7a3008ceb",
   "metadata": {},
   "source": [
    "25. Write a program to flatten a nested list using list comprehension."
   ]
  },
  {
   "cell_type": "code",
   "execution_count": 53,
   "id": "ca679795-6ee4-45df-8f6a-a64d44ec8b83",
   "metadata": {},
   "outputs": [
    {
     "name": "stdout",
     "output_type": "stream",
     "text": [
      "Flattened list of  [[1, 2, 3], [33, 22, 11], [99, 44, 111]] :\n",
      " [1, 2, 3, 33, 22, 11, 99, 44, 111]\n"
     ]
    }
   ],
   "source": [
    "nested_list = [[1, 2, 3],\n",
    "               [33, 22, 11],\n",
    "               [99, 44, 111]]\n",
    "print(f\"Flattened list of \", nested_list, \":\\n\", [i for row in nested_list for i in row])"
   ]
  },
  {
   "cell_type": "markdown",
   "id": "ae202137-e786-4b8a-95ee-f83aa3060fb9",
   "metadata": {},
   "source": [
    "26. Develop a program that computes the sum of even and odd numbers in a list separately using list\n",
    "comprehension."
   ]
  },
  {
   "cell_type": "code",
   "execution_count": 59,
   "id": "4a781632-0872-470c-910a-bff9565b3efd",
   "metadata": {},
   "outputs": [
    {
     "name": "stdin",
     "output_type": "stream",
     "text": [
      "Enter the size of the list that you need:  10\n"
     ]
    },
    {
     "name": "stdout",
     "output_type": "stream",
     "text": [
      "The list generated at random is: [24, 29, 31, 35, 49, 13, 34, 20, 49, 43]\n",
      "The sum of even numbers [24, 34, 20] = 78 and sum of odd numbers [29, 31, 35, 49, 13, 49, 43] = 249\n"
     ]
    }
   ],
   "source": [
    "n = int(input(\"Enter the size of the list that you need: \"))\n",
    "import random\n",
    "list_of_numbers = []\n",
    "for i in range(n):\n",
    "    list_of_numbers.append(random.randint(10, 50))\n",
    "\n",
    "print(f\"The list generated at random is: {list_of_numbers}\")\n",
    "\n",
    "even_sum = [x for x in list_of_numbers if x % 2 == 0]\n",
    "odd_sum = [x for x in list_of_numbers if x % 2 != 0]\n",
    "\n",
    "print(f\"The sum of even numbers {even_sum} = {sum(even_sum)} and sum of odd numbers {odd_sum} = {sum(odd_sum)}\")"
   ]
  },
  {
   "cell_type": "markdown",
   "id": "36976e76-9e91-4c6f-a8c9-6e336a04474a",
   "metadata": {},
   "source": [
    "27. Create a program that generates a list of squares of odd numbers between 1 and 10 using list\n",
    "comprehension."
   ]
  },
  {
   "cell_type": "code",
   "execution_count": 60,
   "id": "c650c775-63ce-4c68-9d59-58941b240cfe",
   "metadata": {},
   "outputs": [
    {
     "name": "stdout",
     "output_type": "stream",
     "text": [
      "List of Squares of odd numbers between 1 to 10 are:  [1, 9, 25, 49, 81]\n"
     ]
    }
   ],
   "source": [
    "list_of_odd_squares = [x**2 for x in range(1, 10+1) if x % 2 != 0]\n",
    "print(\"List of Squares of odd numbers between 1 to 10 are: \", list_of_odd_squares)"
   ]
  },
  {
   "cell_type": "markdown",
   "id": "fcd8081f-07fd-41a2-82d6-ba3e782f4ff0",
   "metadata": {},
   "source": [
    "28. Write a program that combines two lists into a dictionary using list comprehension."
   ]
  },
  {
   "cell_type": "code",
   "execution_count": 10,
   "id": "900dbc10-6a0a-40de-83aa-21b9495aacc4",
   "metadata": {},
   "outputs": [
    {
     "name": "stdin",
     "output_type": "stream",
     "text": [
      "Enter the size of the key list:  2\n",
      "Enter the size of the value list:  2\n",
      "Enter 1 key:  1\n",
      "Enter 1 Value:  ONE\n",
      "Enter 2 key:  2\n",
      "Enter 2 Value:  TWO\n"
     ]
    },
    {
     "name": "stdout",
     "output_type": "stream",
     "text": [
      "The combined two lists into a dictionary:  {'1': 'ONE', '2': 'TWO'}\n"
     ]
    }
   ],
   "source": [
    "my_dict = {}\n",
    "\n",
    "key_len = int(input(\"Enter the size of the key list: \"))\n",
    "value_len = int(input(\"Enter the size of the value list: \"))\n",
    "\n",
    "if key_len == value_len:\n",
    "    key_list = []\n",
    "    value_list = []\n",
    "    for i in range(key_len):\n",
    "        key_list.append(input(f\"Enter {i+1} key: \"))\n",
    "        value_list.append(input(f\"Enter {i+1} Value: \"))\n",
    "    \n",
    "    [my_dict.update({key_list[i]: value_list[i]}) for i in range(key_len)]\n",
    "    \n",
    "else:\n",
    "    print(\"Size of key list and value list must be same!\")\n",
    "\n",
    "if my_dict:\n",
    "    print(\"The combined two lists into a dictionary: \", my_dict)"
   ]
  },
  {
   "cell_type": "markdown",
   "id": "56a1fdf5-363e-4431-b19b-a40943b33701",
   "metadata": {},
   "source": [
    "29. Develop a program that extracts the vowels from a string and stores them in a list using list comprehension."
   ]
  },
  {
   "cell_type": "code",
   "execution_count": 11,
   "id": "0659232f-d6f6-4c66-b044-421ad1c375bd",
   "metadata": {},
   "outputs": [
    {
     "name": "stdin",
     "output_type": "stream",
     "text": [
      "Enter something:  This would give the list of vowels\n"
     ]
    },
    {
     "name": "stdout",
     "output_type": "stream",
     "text": [
      "Vowels in the string:  ['i', 'o', 'u', 'i', 'e', 'e', 'i', 'o', 'o', 'e']\n"
     ]
    }
   ],
   "source": [
    "vowels = ['a', 'e', 'i', 'o', 'u', 'A', 'E', 'I', 'O', 'U']\n",
    "\n",
    "string = input(\"Enter something: \")\n",
    "\n",
    "vowels_list = []\n",
    "\n",
    "vowels_list = [i for i in string if i in vowels]\n",
    "\n",
    "print(\"Vowels in the string: \", vowels_list)"
   ]
  },
  {
   "cell_type": "markdown",
   "id": "466ebb53-e628-406a-baca-ac3c6ed4c847",
   "metadata": {},
   "source": [
    "30. Create a program that removes all non-numeric characters from a list of strings using list comprehension."
   ]
  },
  {
   "cell_type": "code",
   "execution_count": 16,
   "id": "f267c2b8-e5cc-41de-a2ea-1b5675811702",
   "metadata": {},
   "outputs": [
    {
     "name": "stdin",
     "output_type": "stream",
     "text": [
      "Enter something which contains alphanumeric:  5 + 6 = ?\n"
     ]
    },
    {
     "name": "stdout",
     "output_type": "stream",
     "text": [
      "Non Numeric List:  [' ', '+', ' ', ' ', '=', ' ', '?']\n"
     ]
    }
   ],
   "source": [
    "string = input(\"Enter something which contains alphanumeric: \")\n",
    "\n",
    "non_numeric_list = [x for x in string if not x.isdigit()]\n",
    "\n",
    "print(\"Non Numeric List: \", non_numeric_list)"
   ]
  },
  {
   "cell_type": "code",
   "execution_count": null,
   "id": "d0534918-00c4-420d-a301-9fe4e2615611",
   "metadata": {},
   "outputs": [],
   "source": []
  },
  {
   "cell_type": "markdown",
   "id": "c6323d5b-0579-4993-bebc-cbbed0f495b3",
   "metadata": {},
   "source": [
    "# Challenge Level"
   ]
  },
  {
   "cell_type": "markdown",
   "id": "1b02095d-8df8-4676-9201-814fed68ae94",
   "metadata": {},
   "source": [
    "31. Write a program to generate a list of prime numbers using the Sieve of Eratosthenes algorithm and list\n",
    "comprehension."
   ]
  },
  {
   "cell_type": "raw",
   "id": "c23e0aa1-a89a-4c8e-a764-84fb9f9777d4",
   "metadata": {},
   "source": [
    "The Sieve of Eratosthenes is an ancient and efficient algorithm for finding all prime numbers up to a specified limit. Here's a step-by-step explanation of how it works:\n",
    "\n",
    "1. Create a list of integers from 2 to the desired limit, initially assuming all of them are prime.\n",
    "\n",
    "2. Start with the first prime number, 2.\n",
    "\n",
    "3. Mark all multiples of 2 as non-prime. This means marking every second number in the list as non-prime.\n",
    "\n",
    "4. Move to the next unmarked number, which is 3, and mark all multiples of 3 as non-prime.\n",
    "\n",
    "5. Continue this process for each unmarked number, marking all of its multiples as non-prime.\n",
    "\n",
    "6. Repeat steps 4 and 5 until you have checked all numbers up to the square root of the desired limit. At this point, all remaining unmarked numbers in the list are prime.\n",
    "\n",
    "The list now contains all prime numbers up to the desired limit."
   ]
  },
  {
   "cell_type": "code",
   "execution_count": 19,
   "id": "b99cdf60-6c61-4d49-993f-4710bbcdc6ea",
   "metadata": {},
   "outputs": [
    {
     "name": "stdin",
     "output_type": "stream",
     "text": [
      "Enter the range of prime numbers you need:  20\n"
     ]
    },
    {
     "name": "stdout",
     "output_type": "stream",
     "text": [
      "The list of prime numbers in the given range:  [2, 3, 5, 7, 11, 13, 17, 19]\n"
     ]
    }
   ],
   "source": [
    "def sieve_of_eratosthenes(number):\n",
    "    \n",
    "    # create a list of bool True till the number\n",
    "    primes = [True] * (number+1)\n",
    "    primes[0] = primes[1] = False # 0 and 1 are not prime number\n",
    "    \n",
    "    for num in range(2, int(number**0.5)+1):\n",
    "        if primes[num]:\n",
    "            for multiples in range(num * num, number + 1, num):\n",
    "                primes[multiples] = False\n",
    "    \n",
    "    prime_numbers = [p for p , isprime in enumerate(primes) if isprime]\n",
    "    \n",
    "    return prime_numbers\n",
    "\n",
    "n = int(input(\"Enter the range of prime numbers you need: \"))\n",
    "\n",
    "print(\"The list of prime numbers in the given range: \", sieve_of_eratosthenes(n))"
   ]
  },
  {
   "cell_type": "markdown",
   "id": "29e26e72-a778-43e9-b062-ff884de172f1",
   "metadata": {},
   "source": [
    "32. Create a program that generates a list of all Pythagorean triplets up to a specified limit using list\n",
    "comprehension."
   ]
  },
  {
   "cell_type": "raw",
   "id": "8d10cda8-ad1c-4dec-b5c0-5ca46ac228d7",
   "metadata": {},
   "source": [
    "A Pythagorean triplet is a set of three positive integers a, b, and c, such that a^2 + b^2 = c^2"
   ]
  },
  {
   "cell_type": "code",
   "execution_count": 26,
   "id": "1a4c3c87-125c-4fe8-a813-ac2bfc0f145b",
   "metadata": {},
   "outputs": [
    {
     "name": "stdin",
     "output_type": "stream",
     "text": [
      "Enter the range of pythagoren triplets you need:  20\n"
     ]
    },
    {
     "name": "stdout",
     "output_type": "stream",
     "text": [
      "Pythagorean triplets within the range of 20 are: [(3, 4, 5), (5, 12, 13), (6, 8, 10), (8, 15, 17), (9, 12, 15), (12, 16, 20)]\n"
     ]
    }
   ],
   "source": [
    "def pythagorean_triplets(limit):\n",
    "    \n",
    "    triplets = []\n",
    "    \n",
    "    for a in range(1, limit+1):\n",
    "        for b in range(a, limit+1):\n",
    "            c_sqr = a**2 + b**2 # formula (sqr(a) + sqr(b) = sqr(c))\n",
    "            c = int(c_sqr**0.5) # assigning the sqrt of c_sqr to c\n",
    "            if c_sqr == c**2 and c <= limit:\n",
    "                triplets.append((a, b, c))\n",
    "    \n",
    "    return triplets\n",
    "\n",
    "n = int(input(\"Enter the range of pythagoren triplets you need: \"))\n",
    "\n",
    "print(f\"Pythagorean triplets within the range of {n} are: {pythagorean_triplets(n)}\")"
   ]
  },
  {
   "cell_type": "markdown",
   "id": "dc658d2f-01b9-48e4-b695-23827c3faf8d",
   "metadata": {},
   "source": [
    "33. Develop a program that generates a list of all possible combinations of two lists using list comprehension."
   ]
  },
  {
   "cell_type": "code",
   "execution_count": 8,
   "id": "8b566be3-48d0-46b3-a9e1-8f2785f19ff5",
   "metadata": {},
   "outputs": [
    {
     "name": "stdin",
     "output_type": "stream",
     "text": [
      "Do you want to generate random integers as your list as do you want to enter it manually ?\n",
      "1. RANDOM\n",
      "2.MANUAL\n",
      " 3\n"
     ]
    },
    {
     "name": "stdout",
     "output_type": "stream",
     "text": [
      "Invalid choice!\n"
     ]
    }
   ],
   "source": [
    "list1 = []\n",
    "list2 = []\n",
    "\n",
    "choice = input(\"Do you want to generate random integers as your list as do you want to enter it manually ?\\n1. RANDOM\\n2. MANUAL\\n\")\n",
    "if choice.lower() not in ['1', 'random', '2', 'manual']:\n",
    "    print(\"Invalid choice!\")\n",
    "else:\n",
    "    list_len1 = int(input(\"Enter the size of list1: \"))\n",
    "    list_len2 = int(input(\"Enter the size of list2: \"))\n",
    "    if choice.lower() in ['1', 'random']:\n",
    "        import random\n",
    "        for i in range(list_len1):\n",
    "            list1.append(random.randint(1, 10))\n",
    "        for j in range(list_len2):\n",
    "            list2.append(random.randint(11, 20))\n",
    "\n",
    "    elif choice.lower() in ['2', 'manual']:\n",
    "        for i in range(list_len1):\n",
    "            list1.append(input(f\"Enter {i+1}th element of list1: \"))\n",
    "        for j in range(list_len2):\n",
    "            list2.append(input(f\"Enter {j+1}th element of list2: \"))\n",
    "\n",
    "\n",
    "    print(\"List1 = \", list1, \"\\nList2 = \", list2)\n",
    "\n",
    "    combinations = [(x, y) for x in list1 for y in list2]\n",
    "\n",
    "    print(\"All possible combinations of above list are: \", combinations)"
   ]
  },
  {
   "cell_type": "markdown",
   "id": "398a632d-123b-475d-b35d-e0cd2cf52cff",
   "metadata": {},
   "source": [
    "34. Write a program that calculates the mean, median, and mode of a list of numbers using list\n",
    "comprehension."
   ]
  },
  {
   "cell_type": "code",
   "execution_count": 21,
   "id": "8a7419a3-60b8-476e-bb54-b6f90ddb6a6a",
   "metadata": {},
   "outputs": [
    {
     "name": "stdin",
     "output_type": "stream",
     "text": [
      "Do you want to generate random integers as your list as do you want to enter it manually ?\n",
      "1. RANDOM\n",
      "2. MANUAL\n",
      " 2\n",
      "Enter the size of the list:  6\n",
      "Enter the 1th element:  1\n",
      "Enter the 2th element:  2\n",
      "Enter the 3th element:  1\n",
      "Enter the 4th element:  3\n",
      "Enter the 5th element:  4\n",
      "Enter the 6th element:  5\n"
     ]
    },
    {
     "name": "stdout",
     "output_type": "stream",
     "text": [
      "The list is:  [1, 2, 1, 3, 4, 5]\n",
      "The mean: '2.6666666666666665'\n",
      "The median is: '2.5'\n",
      "The mode is: '[1]'\n"
     ]
    }
   ],
   "source": [
    "import random\n",
    "choice = input(\"Do you want to generate random integers as your list as do you want to enter it manually ?\\n1. RANDOM\\n2. MANUAL\\n\")\n",
    "list_ = []\n",
    "if choice.lower() in ['1', 'random']:\n",
    "    list_len = int(input(\"Enter the size of the list: \"))\n",
    "    for i in range(list_len):\n",
    "        list_.append(random.randint(50, 100))\n",
    "        \n",
    "elif choice.lower() in ['2', 'manual']:\n",
    "    list_len = int(input(\"Enter the size of the list: \"))\n",
    "    for i in range(list_len):\n",
    "        list_.append(int(input(f\"Enter the {i+1}th element: \")))\n",
    "\n",
    "else:\n",
    "    print(\"Invalid Choice!\")\n",
    "        \n",
    "# define different functions to find mean, median and mode functionalities\n",
    "\n",
    "\n",
    "# mean - is average of the numbers\n",
    "def mean_of_numbers(my_list):\n",
    "    # sum of the numbers inside a list and divided my length of the list\n",
    "    return sum([x for x in list_])/len(my_list)\n",
    "\n",
    "# median - mid element; if length of the list is even, there'll be two medians, else only one mid element, provided the list must be sorted\n",
    "def median_of_numbers(my_list):\n",
    "    \n",
    "    sorted_list = sorted(my_list)\n",
    "    \n",
    "    list_len = len(sorted_list)\n",
    "\n",
    "    median = (sorted_list[list_len // 2] \n",
    "              if list_len % 2 == 1 else \n",
    "             (sorted_list[(list_len - 1) // 2] + sorted_list[list_len // 2])/2)\n",
    "    \n",
    "    return median\n",
    "\n",
    "# mode - frequently occurred number inside a list \n",
    "def mode_of_numbers(my_list):\n",
    "    num = {}\n",
    "    for i in my_list:\n",
    "        if i in num:\n",
    "            num[i] += 1\n",
    "        else:\n",
    "            num[i] = 1\n",
    "    max_element = max(num.values())\n",
    "    \n",
    "    mode = [key for key, value in num.items() if value == max_element]\n",
    "\n",
    "    return mode\n",
    "\n",
    "if list_:\n",
    "    print(\"The list is: \", list_)\n",
    "    print(f\"The mean: '{mean_of_numbers(list_)}'\\nThe median is: '{median_of_numbers(list_)}'\\nThe mode is: '{mode_of_numbers(list_) if len(mode_of_numbers(list_)) != 0 else mode_of_numbers(list_)[0]}'\")"
   ]
  },
  {
   "cell_type": "markdown",
   "id": "cc2e06da-e222-46e3-9a57-5abaaca49e68",
   "metadata": {},
   "source": [
    "35. Create a program that generates Pascal's triangle up to a specified number of rows using list\n",
    "comprehension."
   ]
  },
  {
   "cell_type": "raw",
   "id": "a9ab37ed-e2c5-47a8-89b2-0c6e33cbcad6",
   "metadata": {},
   "source": [
    "Pascal's Triangle is a mathematical triangle that starts with a single number, 1, at the top. Each subsequent row of the triangle is constructed by adding adjacent numbers from the row above it. The triangle is named after the French mathematician Blaise Pascal\n",
    "\n",
    "       1\n",
    "      1 1\n",
    "     1 2 1\n",
    "    1 3 3 1\n",
    "   1 4 6 4 1\n",
    "  1 5 10 10 5 1\n",
    "\n",
    "The first row contains only one number, which is 1. The second row has two 1s, and each subsequent row is generated by summing the two numbers directly above it in the previous row.\n",
    "\n",
    "Pascal's Triangle has many interesting properties and applications in mathematics and beyond. Some of its notable features include:\n",
    "\n",
    "Binomial Coefficients: The numbers in Pascal's Triangle represent binomial coefficients, which have applications in combinatorics and probability theory.\n",
    "\n",
    "Patterns and Symmetry: The triangle exhibits various symmetrical patterns and properties, such as symmetry about the center column and the diagonals.\n",
    "\n",
    "Fibonacci Sequence: If you sum the diagonals in Pascal's Triangle, you will get the Fibonacci sequence.\n",
    "\n",
    "Probability: Pascal's Triangle can be used to calculate probabilities in various situations, especially in probability distributions like the binomial distribution.\n",
    "\n",
    "Combinations: The numbers in Pascal's Triangle can be used to calculate combinations, which are used in various counting problems.\n",
    "\n",
    "Pascal's Triangle is a fascinating mathematical concept with a wide range of applications in mathematics and other fields, including computer science, statistics, and combinatorics."
   ]
  },
  {
   "cell_type": "code",
   "execution_count": 26,
   "id": "7654d4d1-5278-4019-b09b-0702b789286d",
   "metadata": {},
   "outputs": [
    {
     "name": "stdin",
     "output_type": "stream",
     "text": [
      "Enter the number of rows for Pascal's triangle:  10\n"
     ]
    },
    {
     "name": "stdout",
     "output_type": "stream",
     "text": [
      "1\n",
      "1 1\n",
      "1 2 1\n",
      "1 3 3 1\n",
      "1 4 6 4 1\n",
      "1 5 10 10 5 1\n",
      "1 6 15 20 15 6 1\n",
      "1 7 21 35 35 21 7 1\n",
      "1 8 28 56 70 56 28 8 1\n",
      "1 9 36 84 126 126 84 36 9 1\n"
     ]
    }
   ],
   "source": [
    "def pascals_triangle(rows):\n",
    "    \n",
    "    if rows <= 0:\n",
    "        return []\n",
    "    \n",
    "    triangle = [[1]]\n",
    "    \n",
    "    for _ in range(1, rows): # use _ in for loop when you are not using that variable anywhere inside the for loop, but you just need to iterate inside the loop\n",
    "        prev_row = triangle[-1]\n",
    "        new_row = [1] + [prev_row[i] + prev_row[i + 1] for i in range(len(prev_row) - 1)] + [1]\n",
    "        triangle.append(new_row)\n",
    "        \n",
    "    return triangle\n",
    "\n",
    "def print_pascal_triangle(triangle):\n",
    "    for row in triangle:\n",
    "        print(\" \".join(map(str, row)))\n",
    "        \n",
    "num_rows = int(input(\"Enter the number of rows for Pascal's triangle: \"))\n",
    "pascals_triangle = pascals_triangle(num_rows)\n",
    "print_pascal_triangle(pascals_triangle)"
   ]
  },
  {
   "cell_type": "markdown",
   "id": "6b12b226-a53d-4fc7-9a8c-c7fe3a49aef0",
   "metadata": {},
   "source": [
    "36. Develop a program that calculates the sum of the digits of a factorial of numbers from 1 to 5 using list\n",
    "comprehension."
   ]
  },
  {
   "cell_type": "code",
   "execution_count": 33,
   "id": "f2e7d6bd-e156-4f56-9ae0-21efdef21235",
   "metadata": {},
   "outputs": [
    {
     "name": "stdin",
     "output_type": "stream",
     "text": [
      "Do you want to generate random integers as your list as do you want to enter it manually ?\n",
      "1. RANDOM\n",
      "2. MANUAL\n",
      " 2\n",
      "Enter the size of the list:  5\n",
      "Enter the 1th element:  1\n",
      "Enter the 2th element:  2\n",
      "Enter the 3th element:  3\n",
      "Enter the 4th element:  4\n",
      "Enter the 5th element:  5\n"
     ]
    },
    {
     "name": "stdout",
     "output_type": "stream",
     "text": [
      "The list = [1, 2, 3, 4, 5]\n",
      "The Factorials of the list = [1, 2, 6, 24, 120]\n",
      "The sum of digit 1 is: 1\n",
      "The sum of digit 2 is: 2\n",
      "The sum of digit 6 is: 6\n",
      "The sum of digit 24 is: 6\n",
      "The sum of digit 120 is: 3\n"
     ]
    }
   ],
   "source": [
    "def list_of_factorials(my_list):\n",
    "    \"\"\"\n",
    "    This function will return the list of factorials of the given list\n",
    "    :param my_list: the original list\n",
    "    :return fact: the respective factorial list of the input list\n",
    "    \"\"\"\n",
    "    fact = []\n",
    "    for i in range(len(my_list)):\n",
    "        fact.append(factorial(my_list[i])) # function call to factorial\n",
    "        \n",
    "    return fact # return the factorial list\n",
    "\n",
    "def sum_of_digits(num):\n",
    "    \"\"\"\n",
    "    This function would calculate the sum of digits\n",
    "    :param num: a number (Ex: 123, 123454 )\n",
    "    :return sum of the digits\n",
    "    \"\"\"\n",
    "    return sum(int(x) for x in str(num))\n",
    "\n",
    "def factorial(num):\n",
    "    if num == 0 or num == 1:\n",
    "        return 1\n",
    "    else:\n",
    "        return num * factorial(num-1)\n",
    "\n",
    "import random\n",
    "choice = input(\"Do you want to generate random integers as your list as do you want to enter it manually ?\\n1. RANDOM\\n2. MANUAL\\n\")\n",
    "list_ = []\n",
    "if choice.lower() in ['1', 'random']:\n",
    "    list_len = int(input(\"Enter the size of the list: \"))\n",
    "    for i in range(list_len):\n",
    "        list_.append(random.randint(1, 10))\n",
    "        \n",
    "elif choice.lower() in ['2', 'manual']:\n",
    "    list_len = int(input(\"Enter the size of the list: \"))\n",
    "    for i in range(list_len):\n",
    "        list_.append(int(input(f\"Enter the {i+1}th element: \")))\n",
    "\n",
    "else:\n",
    "    print(\"Invalid Choice!\")\n",
    "    \n",
    "if list_:\n",
    "    fac_list = list_of_factorials(list_)\n",
    "    print(f\"The list = {list_}\")\n",
    "    print(f\"The Factorials of the list = {list_of_factorials(list_)}\")\n",
    "    for i in range(len(list_)):\n",
    "        print(f\"The sum of digit {fac_list[i]} is: {sum_of_digits(fac_list[i])}\")"
   ]
  },
  {
   "cell_type": "markdown",
   "id": "46d0ae37-a03c-4c27-83a2-9074f02f2945",
   "metadata": {},
   "source": [
    "37. Write a program that finds the longest word in a sentence using list comprehension."
   ]
  },
  {
   "cell_type": "code",
   "execution_count": 35,
   "id": "a8f5d6c8-df89-4cfa-8ed5-ea5e62a6acf7",
   "metadata": {},
   "outputs": [
    {
     "name": "stdin",
     "output_type": "stream",
     "text": [
      "Enter something please:  I need to become a better programmer\n"
     ]
    },
    {
     "name": "stdout",
     "output_type": "stream",
     "text": [
      "The longest word in the string is: ['programmer']\n"
     ]
    }
   ],
   "source": [
    "def longest_word(string):\n",
    "    \"\"\"\n",
    "    This program is used to find the longest word(s) in the list of words. \n",
    "    It does this by iterating through each word and checking if its length matches the \n",
    "    length of the longest word(s) in the sentence, which is calculated using max(map(len, words)).\n",
    "    \"\"\"\n",
    "    string_split = string.split()\n",
    "    \n",
    "    longest_words = [word for word in string_split if len(word) == max(map(len, string_split))]\n",
    "    \n",
    "    return longest_words\n",
    "\n",
    "string_ = input(\"Enter something please: \")\n",
    "\n",
    "print(f\"The longest word in the string is: {longest_word(string_)}\")\n",
    "    \n",
    "    "
   ]
  },
  {
   "cell_type": "markdown",
   "id": "df9f758f-5b31-4b5f-ad84-0799a91e34cc",
   "metadata": {},
   "source": [
    "38. Create a program that filters a list of strings to include only those with more than three vowels using list\n",
    "comprehension."
   ]
  },
  {
   "cell_type": "code",
   "execution_count": 42,
   "id": "395a28f5-32d7-4449-9550-82cd6d2ab1fe",
   "metadata": {},
   "outputs": [
    {
     "name": "stdin",
     "output_type": "stream",
     "text": [
      "Enter something please (sentence):  aeiou is good and goooooood\n"
     ]
    },
    {
     "name": "stdout",
     "output_type": "stream",
     "text": [
      "Strings with more than three vowels: ['aeiou', 'goooooood']\n"
     ]
    }
   ],
   "source": [
    "\"\"\"List comprehension is used to filter the strings in string_list. \n",
    "It checks each string and includes it in the filtered_strings list only \n",
    "if it has more than three vowels, as determined by the count_vowels function\"\"\"\n",
    "\n",
    "vowels = ['a', 'e', 'i', 'o', 'u', 'A', 'E', 'I', 'O', 'U']\n",
    "\n",
    "string = input(\"Enter something please (sentence): \")\n",
    "\n",
    "words = string.split()\n",
    "\n",
    "def count_vowels(word):\n",
    "    return sum(1 for char in word if char in vowels)\n",
    "\n",
    "\n",
    "filtered_strings = [st for st in words if count_vowels(st) > 3]\n",
    "\n",
    "print(\"Strings with more than three vowels:\", filtered_strings)"
   ]
  },
  {
   "cell_type": "markdown",
   "id": "ca6f603b-c99f-44e0-a95e-118c4bf5c70f",
   "metadata": {},
   "source": [
    "39. Develop a program that calculates the sum of the digits of numbers from 1 to 1000 using list\n",
    "comprehension."
   ]
  },
  {
   "cell_type": "code",
   "execution_count": 46,
   "id": "dd429b9c-0368-429c-901b-7d78864db587",
   "metadata": {},
   "outputs": [
    {
     "name": "stdin",
     "output_type": "stream",
     "text": [
      "As the result is huge, do you want to print the result? Yes or No:  Yes\n"
     ]
    },
    {
     "name": "stdout",
     "output_type": "stream",
     "text": [
      "It's calculated but the output is too long to be printed! Think before you want to print!\n"
     ]
    },
    {
     "name": "stdin",
     "output_type": "stream",
     "text": [
      "Do you still want it to be printed ? Yes or No:  No\n"
     ]
    },
    {
     "name": "stdout",
     "output_type": "stream",
     "text": [
      "Good choice by not printing the result! Proud of you!\n"
     ]
    }
   ],
   "source": [
    "def sum_of_digits(num):\n",
    "    return sum(int(x) for x in str(num))\n",
    "\n",
    "choice = input(\"As the result is huge, do you want to print the result? Yes or No: \")\n",
    "\n",
    "if choice.lower() in ['y', 'yes']:\n",
    "    print(\"It's calculated but the output is too long to be printed! Think before you want to print!\")\n",
    "    choice2 = input(\"Do you still want it to be printed ? Yes or No: \")\n",
    "    if choice2.lower() in ['y', 'yes']:\n",
    "        for i in range(1, 1000+1):\n",
    "            print(f\"The sum of {i} is: {sum_of_digits(i)}\")\n",
    "    else:\n",
    "        print(\"Good choice by not printing the result! Proud of you!\")\n",
    "else:\n",
    "    print(\"Good choice by not printing the result! Proud of you!\")"
   ]
  },
  {
   "cell_type": "markdown",
   "id": "9db98d58-6b26-467b-9d40-2d46a59e9ecc",
   "metadata": {},
   "source": [
    "40. Write a program that generates a list of prime palindromic numbers using list comprehension."
   ]
  },
  {
   "cell_type": "code",
   "execution_count": 51,
   "id": "ef08a302-0ab1-4205-b5f4-5f6c3cd84519",
   "metadata": {},
   "outputs": [
    {
     "name": "stdin",
     "output_type": "stream",
     "text": [
      "Enter the range from where you need the numbers:  1\n",
      "Enter the range to where you need the numbers:  100\n"
     ]
    },
    {
     "name": "stdout",
     "output_type": "stream",
     "text": [
      "The paplindromic prime numbers between 1 and 100 are: \n",
      " [2, 3, 5, 7, 11]\n"
     ]
    }
   ],
   "source": [
    "\"\"\"\n",
    "First check for prime number and then check if the number is palindrome\n",
    "\"\"\"\n",
    "\n",
    "def prime_numer(num):\n",
    "    if num == 0 or num == 1:\n",
    "        return False\n",
    "    if num <= 3:\n",
    "        return True\n",
    "    for i in range(2, int(num**0.5)+1):\n",
    "        if num%i == 0:\n",
    "            return False\n",
    "    return True\n",
    "\n",
    "def palindrome(num):\n",
    "    return str(num) == str(num)[::-1]\n",
    "\n",
    "n = int(input(\"Enter the range from where you need the numbers: \"))\n",
    "m = int(input(\"Enter the range to where you need the numbers: \"))\n",
    "palindromic_prime = [x for x in range(n, m) if prime_numer(x) and palindrome(x)]\n",
    "\n",
    "print(f\"The paplindromic prime numbers between {n} and {m} are: \\n\",palindromic_prime)"
   ]
  },
  {
   "cell_type": "code",
   "execution_count": null,
   "id": "d717fdc4-99bc-43f4-a70d-96d6b7318c04",
   "metadata": {},
   "outputs": [],
   "source": []
  }
 ],
 "metadata": {
  "kernelspec": {
   "display_name": "Python 3 (ipykernel)",
   "language": "python",
   "name": "python3"
  },
  "language_info": {
   "codemirror_mode": {
    "name": "ipython",
    "version": 3
   },
   "file_extension": ".py",
   "mimetype": "text/x-python",
   "name": "python",
   "nbconvert_exporter": "python",
   "pygments_lexer": "ipython3",
   "version": "3.10.8"
  }
 },
 "nbformat": 4,
 "nbformat_minor": 5
}
