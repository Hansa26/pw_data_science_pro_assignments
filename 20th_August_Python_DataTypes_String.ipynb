{
 "cells": [
  {
   "cell_type": "markdown",
   "id": "acb1e203-a9fa-4b1c-899c-81a8dc4271aa",
   "metadata": {},
   "source": [
    "# TOPIC: String Based Assignment Problem"
   ]
  },
  {
   "cell_type": "markdown",
   "id": "397be973-fb6e-44ef-b0e6-619593c5153e",
   "metadata": {},
   "source": [
    "1. Write a program to reverse a string."
   ]
  },
  {
   "cell_type": "code",
   "execution_count": 7,
   "id": "efb7fade-2811-4266-929a-9e2c4a68a667",
   "metadata": {},
   "outputs": [
    {
     "name": "stdin",
     "output_type": "stream",
     "text": [
      "Enter some string that you want to get it reversed:  Pwskills\n"
     ]
    },
    {
     "name": "stdout",
     "output_type": "stream",
     "text": [
      "The reversed string of the given string 'Pwskills' is 'sllikswP'\n"
     ]
    }
   ],
   "source": [
    "\"\"\"\n",
    "This is program to reverse a string.\n",
    "input: a string\n",
    "output: reversed string\n",
    "\"\"\"\n",
    "\n",
    "# take input from end user\n",
    "s1 = input(\"Enter some string that you want to get it reversed: \")\n",
    "\n",
    "# using slicing to reverse the string\n",
    "reversed_string = s1[::-1]\n",
    "\n",
    "# printing the reversed string\n",
    "print(f\"The reversed string of the given string '{s1}' is '{reversed_string}'\")"
   ]
  },
  {
   "cell_type": "markdown",
   "id": "0b64ceb3-ca11-4496-9941-9e2435406858",
   "metadata": {},
   "source": [
    "2. Check if a string is a palindrome."
   ]
  },
  {
   "cell_type": "code",
   "execution_count": 8,
   "id": "99288dce-7cb9-4b3f-b934-23c39e14d839",
   "metadata": {},
   "outputs": [
    {
     "name": "stdin",
     "output_type": "stream",
     "text": [
      "Enter a string to check for Palindrome-i-city:  racecar\n"
     ]
    },
    {
     "name": "stdout",
     "output_type": "stream",
     "text": [
      "The given string 'racecar' is a PALINDROME\n"
     ]
    }
   ],
   "source": [
    "\"\"\"\n",
    "This is program to check for Palindrome.\n",
    "input: a string\n",
    "output: Palindrome or not a Palindrome\n",
    "\"\"\"\n",
    "\n",
    "# take input from end user\n",
    "s2 = input(\"Enter a string to check for Palindrome-i-city: \")\n",
    "\n",
    "# if we reverse a string and compare with original string, this would result in palindrome or not\n",
    "reversed_string = s2[::-1]\n",
    "\n",
    "# compare reversed_string to original_string(s2)\n",
    "if reversed_string == s2:\n",
    "    print(f\"The given string '{s2}' is a PALINDROME\")\n",
    "else:\n",
    "    print(f\"The given string '{s2}' is NOT A PALINDROME\")"
   ]
  },
  {
   "cell_type": "markdown",
   "id": "0d403ae8-6741-4ecf-80db-475b0d24e7a9",
   "metadata": {},
   "source": [
    "3. Convert a string to uppercase."
   ]
  },
  {
   "cell_type": "code",
   "execution_count": 12,
   "id": "5b6e569a-f81a-4888-a9f7-d1740b0d9fa5",
   "metadata": {},
   "outputs": [
    {
     "name": "stdin",
     "output_type": "stream",
     "text": [
      "Enter some string:  A tongue or a mouse's tail retracts within the lipless smile of a green tree python.\n"
     ]
    },
    {
     "name": "stdout",
     "output_type": "stream",
     "text": [
      "The upper case string of the given string \n",
      "'A tongue or a mouse's tail retracts within the lipless smile of a green tree python.' is \n",
      "'A TONGUE OR A MOUSE'S TAIL RETRACTS WITHIN THE LIPLESS SMILE OF A GREEN TREE PYTHON.'\n"
     ]
    }
   ],
   "source": [
    "\"\"\"\n",
    "This is program to convert string to uppercase.\n",
    "input: a string\n",
    "output: uppercase string\n",
    "\"\"\"\n",
    "\n",
    "# take input from end user\n",
    "s3 = input(\"Enter some string: \")\n",
    "\n",
    "# using slicing to reverse the string\n",
    "upper_string = s3.upper()\n",
    "\n",
    "# printing the reversed string\n",
    "print(f\"The upper case string of the given string \\n'{s3}' is \\n'{upper_string}'\")"
   ]
  },
  {
   "cell_type": "markdown",
   "id": "770ea25e-523b-4cca-89df-b15c39711530",
   "metadata": {},
   "source": [
    "4. Convert a string to lowercase."
   ]
  },
  {
   "cell_type": "code",
   "execution_count": 13,
   "id": "1ce9b620-ccac-49a1-9331-a031ced541ca",
   "metadata": {},
   "outputs": [
    {
     "name": "stdin",
     "output_type": "stream",
     "text": [
      "Enter some string:  A tongue or a mouse's tail retracts within the lipless smile of a green tree python.\n"
     ]
    },
    {
     "name": "stdout",
     "output_type": "stream",
     "text": [
      "The lower case string of the given string \n",
      "'A tongue or a mouse's tail retracts within the lipless smile of a green tree python.' is \n",
      "'a tongue or a mouse's tail retracts within the lipless smile of a green tree python.'\n"
     ]
    }
   ],
   "source": [
    "\"\"\"\n",
    "This is program to convert string to lowercase.\n",
    "input: a string\n",
    "output: lowercase string\n",
    "\"\"\"\n",
    "\n",
    "# take input from end user\n",
    "s4 = input(\"Enter some string: \")\n",
    "\n",
    "# using slicing to reverse the string\n",
    "lower_string = s4.lower()\n",
    "\n",
    "# printing the reversed string\n",
    "print(f\"The lower case string of the given string \\n'{s4}' is \\n'{lower_string}'\")"
   ]
  },
  {
   "cell_type": "markdown",
   "id": "b634898f-83ba-4dc9-a6f3-5016d26f0ba9",
   "metadata": {},
   "source": [
    "5. Count the number of vowels in a string."
   ]
  },
  {
   "cell_type": "code",
   "execution_count": 15,
   "id": "e4f78a5c-9abe-4fbf-b33d-498aa8f1e3b9",
   "metadata": {},
   "outputs": [
    {
     "name": "stdin",
     "output_type": "stream",
     "text": [
      "Enter some string:  A tongue or a mouse's tail retracts within the lipless smile of a green tree python.\n"
     ]
    },
    {
     "name": "stdout",
     "output_type": "stream",
     "text": [
      "The number of vowels (with repetition) in given string \n",
      "'A tongue or a mouse's tail retracts within the lipless smile of a green tree python.' is \n",
      "27\n"
     ]
    }
   ],
   "source": [
    "\"\"\"\n",
    "This program is to count the number of vowels in a given string\n",
    "input: a string\n",
    "output: count of vowels\n",
    "\"\"\"\n",
    "\n",
    "# take input from enduser\n",
    "s5 = input(\"Enter some string: \")\n",
    "\n",
    "# add the vowels inside a list\n",
    "vowels = ['a', 'e', 'i', 'o', 'u', 'A', 'E', 'I', 'O', 'U']\n",
    "\n",
    "# initialise a counter\n",
    "counter = 0\n",
    "\n",
    "# iterate over a string to check for vowels\n",
    "for i in range(len(s5)):\n",
    "    if s5[i] in vowels:\n",
    "        counter += 1\n",
    "\n",
    "# print the resultant\n",
    "print(f\"The number of vowels (with repetition) in given string \\n'{s5}' is \\n{counter}\")"
   ]
  },
  {
   "cell_type": "markdown",
   "id": "1074fe97-b789-4217-b485-3bc9ead1a325",
   "metadata": {},
   "source": [
    "6. Count the number of consonants in a string."
   ]
  },
  {
   "cell_type": "code",
   "execution_count": 16,
   "id": "b2f03011-4bfe-4a1e-ab73-b89cf1a4adf6",
   "metadata": {},
   "outputs": [
    {
     "name": "stdin",
     "output_type": "stream",
     "text": [
      "Enter some string:  A tongue or a mouse's tail retracts within the lipless smile of a green tree python.\n"
     ]
    },
    {
     "name": "stdout",
     "output_type": "stream",
     "text": [
      "The number of consonants (with repetition) in given string \n",
      "'A tongue or a mouse's tail retracts within the lipless smile of a green tree python.' is \n",
      "57\n"
     ]
    }
   ],
   "source": [
    "\"\"\"\n",
    "This program is to count the number of consonants in a given string\n",
    "input: a string\n",
    "output: count of consonants\n",
    "\"\"\"\n",
    "\n",
    "# take input from enduser\n",
    "s6 = input(\"Enter some string: \")\n",
    "\n",
    "# add the vowels inside a list\n",
    "vowels = ['a', 'e', 'i', 'o', 'u', 'A', 'E', 'I', 'O', 'U']\n",
    "\n",
    "# initialise a counter\n",
    "counter = 0\n",
    "\n",
    "# iterate over a string to check for vowels\n",
    "for i in range(len(s6)):\n",
    "    if s6[i] not in vowels: # check if the character is not a vowel, so if it is not vowel, it'll be a consonant\n",
    "        counter += 1\n",
    "\n",
    "# print the resultant\n",
    "print(f\"The number of consonants (with repetition) in given string \\n'{s6}' is \\n{counter}\")"
   ]
  },
  {
   "cell_type": "markdown",
   "id": "cdaf2ccc-26f3-4729-925f-f4bfd2d7ddc2",
   "metadata": {},
   "source": [
    "7. Remove all whitespaces from a string."
   ]
  },
  {
   "cell_type": "code",
   "execution_count": 20,
   "id": "0c328682-a9b3-4a89-9002-1f07a09e6773",
   "metadata": {},
   "outputs": [
    {
     "name": "stdin",
     "output_type": "stream",
     "text": [
      "Enter some string:  A tongue or a mouse's tail retracts within the lipless smile of a green tree python.\n"
     ]
    },
    {
     "name": "stdout",
     "output_type": "stream",
     "text": [
      "Given string: \n",
      "'A tongue or a mouse's tail retracts within the lipless smile of a green tree python.'\n",
      "Without whitespace: \n",
      "Atongueoramouse'stailretractswithintheliplesssmileofagreentreepython.\n"
     ]
    }
   ],
   "source": [
    "\"\"\"\n",
    "This program is to remove all whitespace from given string\n",
    "input: a string\n",
    "output: string without whitespace\n",
    "\"\"\"\n",
    "\n",
    "# take input from enduser\n",
    "s7 = input(\"Enter some string: \")\n",
    "\n",
    "# logic to remove all whitespaces would be using replace funtion and print the resultant\n",
    "print(f\"Given string: \\n'{s7}'\\nWithout whitespace: \\n{s7.replace(' ', '')}\")"
   ]
  },
  {
   "cell_type": "markdown",
   "id": "397a7fa1-84bf-43c2-bac5-80f2420ea754",
   "metadata": {},
   "source": [
    "8. Find the length of a string without using the `len()` function."
   ]
  },
  {
   "cell_type": "code",
   "execution_count": 23,
   "id": "70deacc4-2a93-45c3-8b8e-a1bcce7d6bd2",
   "metadata": {},
   "outputs": [
    {
     "name": "stdin",
     "output_type": "stream",
     "text": [
      "Enter some string:  A tongue or a mouse's tail retracts within the lipless smile of a green tree python.\n"
     ]
    },
    {
     "name": "stdout",
     "output_type": "stream",
     "text": [
      "The length of the string \n",
      "'A tongue or a mouse's tail retracts within the lipless smile of a green tree python.' is \n",
      "84 \n"
     ]
    }
   ],
   "source": [
    "\"\"\"\n",
    "This program is to find length of a given string without using inbuilt len\n",
    "input: a string\n",
    "output: length of the string\n",
    "\"\"\"\n",
    "\n",
    "# take input from enduser\n",
    "s8 = input(\"Enter some string: \")\n",
    "\n",
    "# initiate counter\n",
    "counter = 0\n",
    "# logic to check the lenght of a string without using len would be iterating a string and incrementing the counter for every character inside a list\n",
    "for i in s8:\n",
    "    counter += 1\n",
    "    \n",
    "# print the resultant\n",
    "print(f\"The length of the string \\n'{s8}' is \\n{counter} \")\n",
    "    "
   ]
  },
  {
   "cell_type": "markdown",
   "id": "1ecc4aa6-3f49-4737-9a00-eb7f4dd523be",
   "metadata": {},
   "source": [
    "9. Check if a string contains a specific word."
   ]
  },
  {
   "cell_type": "code",
   "execution_count": 25,
   "id": "5159e407-57e0-4227-bc40-51cd22e15a08",
   "metadata": {},
   "outputs": [
    {
     "name": "stdin",
     "output_type": "stream",
     "text": [
      "Enter some string:  Never odd or even\n",
      "Enter the word that you need to find inside the entered string:  o\n"
     ]
    },
    {
     "name": "stdout",
     "output_type": "stream",
     "text": [
      "'o' is FOUND in \n",
      "Never odd or even\n"
     ]
    }
   ],
   "source": [
    "\"\"\"\n",
    "This program is to check if a string contains a specific word\n",
    "input: a string\n",
    "output: True or False\n",
    "\"\"\"\n",
    "\n",
    "# take input from enduser\n",
    "s9 = input(\"Enter some string: \")\n",
    "\n",
    "# to check for a word in a given string, we can use 'in' operator\n",
    "word = input(\"Enter the word that you need to find inside the entered string: \")\n",
    "\n",
    "if word in s9:\n",
    "    print(f\"'{word}' is FOUND in \\n{s9}\")\n",
    "else:\n",
    "    print(f\"'{word}' is NOT FOUND in \\n{s9}\")"
   ]
  },
  {
   "cell_type": "markdown",
   "id": "41685dca-2867-4c2c-b57d-ff58eb145560",
   "metadata": {},
   "source": [
    "10. Replace a word in a string with another word."
   ]
  },
  {
   "cell_type": "code",
   "execution_count": 1,
   "id": "ae10b196-0756-48be-b982-1a538472ed94",
   "metadata": {},
   "outputs": [
    {
     "name": "stdin",
     "output_type": "stream",
     "text": [
      "Enter some string:  A tongue or a mouse's tail retracts within the lipless smile of a green tree python.\n",
      "Enter the word to be replaced:  python\n",
      "Enter another word to be replaced with:  snake\n"
     ]
    },
    {
     "name": "stdout",
     "output_type": "stream",
     "text": [
      "Original String: A tongue or a mouse's tail retracts within the lipless smile of a green tree python.\n",
      "Replaced String: A tongue or a mouse's tail retracts within the lipless smile of a green tree snake.\n"
     ]
    }
   ],
   "source": [
    "\"\"\"\n",
    "This program is to replace a word with another word in given string\n",
    "input: a string\n",
    "output: modified string\n",
    "\"\"\"\n",
    "\n",
    "# take input from enduser\n",
    "s10 = input(\"Enter some string: \")\n",
    "\n",
    "# take input from enduser for a word to be replaced\n",
    "replaceable_word = input(\"Enter the word to be replaced: \")\n",
    "\n",
    "# take input from enduser to another word that needs to be replaced with\n",
    "replace_with = input(\"Enter another word to be replaced with: \")\n",
    "\n",
    "# replace the word\n",
    "string = s10.replace(replaceable_word, replace_with)\n",
    "\n",
    "# Print the resultant\n",
    "print(f\"Original String: {s10}\\nReplaced String: {string}\")"
   ]
  },
  {
   "cell_type": "markdown",
   "id": "f086be4f-e658-4dac-989a-5b15b82e18ad",
   "metadata": {},
   "source": [
    "11. Count the occurrences of a word in a string."
   ]
  },
  {
   "cell_type": "code",
   "execution_count": 3,
   "id": "2504a60b-0dd6-4889-8a48-f321c7a4538d",
   "metadata": {},
   "outputs": [
    {
     "name": "stdin",
     "output_type": "stream",
     "text": [
      "Enter some string:  A tongue or a mouse's tail retracts within the lipless smile of a green tree python\n",
      "Enter a word that you need to check for repetitions:  a\n"
     ]
    },
    {
     "name": "stdout",
     "output_type": "stream",
     "text": [
      "The count of 'a' from 'A tongue or a mouse's tail retracts within the lipless smile of a green tree python' is 4\n"
     ]
    }
   ],
   "source": [
    "\"\"\"\n",
    "This program is to count the occurrences of a word in given string\n",
    "input: a string\n",
    "output: count the occurrences of a word\n",
    "\"\"\"\n",
    "\n",
    "# take input from enduser\n",
    "s11 = input(\"Enter some string: \")\n",
    "\n",
    "# take input from enduser for a word to check the repetitions\n",
    "occurred_word = input(\"Enter a word that you need to check for repetitions: \")\n",
    "\n",
    "# initiate counter\n",
    "counter = s11.count(occurred_word)\n",
    "\n",
    "# print the counter\n",
    "print(f\"The count of '{occurred_word}' from '{s11}' is {counter}\")"
   ]
  },
  {
   "cell_type": "markdown",
   "id": "95df08b3-3c36-4629-8935-56daf70214bf",
   "metadata": {},
   "source": [
    "12. Find the first occurrence of a word in a string."
   ]
  },
  {
   "cell_type": "code",
   "execution_count": 5,
   "id": "4fb20a25-eae0-4720-9d2d-0d5860a435eb",
   "metadata": {},
   "outputs": [
    {
     "name": "stdin",
     "output_type": "stream",
     "text": [
      "Enter some string:  A tongue or a mouse's tail retracts within the lipless smile of a green tree python\n",
      "Enter the word to find the first occurrence:  tail\n"
     ]
    },
    {
     "name": "stdout",
     "output_type": "stream",
     "text": [
      "The first occurrence of word 'tail' is found at 22\n"
     ]
    }
   ],
   "source": [
    "\"\"\"\n",
    "This program is to find the first occurrence of a word in a given string\n",
    "input: a string\n",
    "output: first occurrence of the word\n",
    "\"\"\"\n",
    "\n",
    "# take input from enduser\n",
    "s12 = input(\"Enter some string: \")\n",
    "\n",
    "word = input(\"Enter the word to find the first occurrence: \")\n",
    "\n",
    "print(f\"The first occurrence of word '{word}' is found at {s12.index(word)}\")"
   ]
  },
  {
   "cell_type": "markdown",
   "id": "89a7f87e-5274-4527-bf85-2d78addca2b1",
   "metadata": {},
   "source": [
    "13. Find the last occurrence of a word in a string."
   ]
  },
  {
   "cell_type": "code",
   "execution_count": 7,
   "id": "768a674f-3297-4601-ab4b-3604b885de66",
   "metadata": {},
   "outputs": [
    {
     "name": "stdin",
     "output_type": "stream",
     "text": [
      "Enter some string:  python\n",
      "Enter the word to find the last occurrence:  n\n"
     ]
    },
    {
     "name": "stdout",
     "output_type": "stream",
     "text": [
      "The last occurrence of word 'n' is found at 5\n"
     ]
    }
   ],
   "source": [
    "\"\"\"\n",
    "This program is to find the last occurrence of a word in a given string\n",
    "input: a string\n",
    "output: last occurrence of the word\n",
    "\"\"\"\n",
    "\n",
    "# take input from enduser\n",
    "s13 = input(\"Enter some string: \")\n",
    "\n",
    "word = input(\"Enter the word to find the last occurrence: \")\n",
    "\n",
    "print(f\"The last occurrence of word '{word}' is found at {s13.rindex(word)}\")"
   ]
  },
  {
   "cell_type": "markdown",
   "id": "035706a9-2364-4b02-8e02-5fa57531bee2",
   "metadata": {},
   "source": [
    "14. Split a string into a list of words."
   ]
  },
  {
   "cell_type": "code",
   "execution_count": 8,
   "id": "e3843551-ed44-46fc-a17d-748842ef8830",
   "metadata": {},
   "outputs": [
    {
     "name": "stdin",
     "output_type": "stream",
     "text": [
      "Enter some string:  A tongue or a mouse's tail retracts within the lipless smile of a green tree python\n"
     ]
    },
    {
     "name": "stdout",
     "output_type": "stream",
     "text": [
      "The list of the given string is: ['A', 'tongue', 'or', 'a', \"mouse's\", 'tail', 'retracts', 'within', 'the', 'lipless', 'smile', 'of', 'a', 'green', 'tree', 'python']\n"
     ]
    }
   ],
   "source": [
    "\"\"\"\n",
    "This program is to split string into list of words\n",
    "input: a string\n",
    "output: list of words\n",
    "\"\"\"\n",
    "\n",
    "# take input from enduser\n",
    "s14 = input(\"Enter some string: \")\n",
    "\n",
    "# print the splitted string\n",
    "print(f\"The list of the given string is: {s14.split()}\")"
   ]
  },
  {
   "cell_type": "code",
   "execution_count": 2,
   "id": "9b9daf29-3e17-44fa-9c3f-2e15d1f46d5b",
   "metadata": {},
   "outputs": [],
   "source": [
    "string = \"A tongue or a mouse's tail retracts within the lipless smile of a green tree python\""
   ]
  },
  {
   "cell_type": "markdown",
   "id": "fd89ac00-ea02-46b9-818a-31704c304b38",
   "metadata": {},
   "source": [
    "15. Join a list of words into a string."
   ]
  },
  {
   "cell_type": "code",
   "execution_count": 3,
   "id": "870162da-b477-4be6-8477-7e20df963888",
   "metadata": {},
   "outputs": [
    {
     "name": "stdout",
     "output_type": "stream",
     "text": [
      "Joined String: A tongue or a mouse's tail retracts within the lipless smile of a green tree python a b c\n"
     ]
    }
   ],
   "source": [
    "join = ['a', 'b', 'c']\n",
    "s15 = string.split()\n",
    "s15.extend(join)\n",
    "print(f\"Joined String: {' '.join(s15)}\")"
   ]
  },
  {
   "cell_type": "markdown",
   "id": "3224558e-c240-4493-af5c-c3c942b2b940",
   "metadata": {},
   "source": [
    "16. Convert a string where words are separated by spaces to one where words\n",
    "are separated by underscores."
   ]
  },
  {
   "cell_type": "code",
   "execution_count": 14,
   "id": "34b8cefa-ae4d-4062-afbe-11d7f69f5212",
   "metadata": {},
   "outputs": [
    {
     "name": "stdout",
     "output_type": "stream",
     "text": [
      "Original String: I need to be a Data Scientist\n",
      "Modified String: I_need_to_be_a_Data_Scientist\n"
     ]
    }
   ],
   "source": [
    "string2 = \"I need to be a Data Scientist\"\n",
    "\n",
    "print(f\"Original String: {string2}\\nModified String: {string2.replace(' ', '_')}\")"
   ]
  },
  {
   "cell_type": "markdown",
   "id": "769ca8b4-5e3d-4442-983c-c4a74bb9f2df",
   "metadata": {},
   "source": [
    "17. Check if a string starts with a specific word or phrase."
   ]
  },
  {
   "cell_type": "code",
   "execution_count": 16,
   "id": "b715a887-7dc4-4b4d-97f1-65150cb3cab6",
   "metadata": {},
   "outputs": [
    {
     "name": "stdout",
     "output_type": "stream",
     "text": [
      "I need to be a Data Scientist starts with 'I need'\n"
     ]
    }
   ],
   "source": [
    "word = 'I need'\n",
    "if string2.startswith(word):\n",
    "    print(f\"{string2} starts with '{word}'\")\n",
    "else:\n",
    "    print(f\"{string2} does not starts with '{word}'\")\n"
   ]
  },
  {
   "cell_type": "markdown",
   "id": "1056edc9-a476-4dec-98f3-43e3e6b53a9a",
   "metadata": {},
   "source": [
    "18. Check if a string ends with a specific word or phrase."
   ]
  },
  {
   "cell_type": "code",
   "execution_count": 17,
   "id": "1cd4e778-32c2-4847-bbac-063ebf949142",
   "metadata": {},
   "outputs": [
    {
     "name": "stdout",
     "output_type": "stream",
     "text": [
      "I need to be a Data Scientist does not end with 'python'\n"
     ]
    }
   ],
   "source": [
    "end_word = 'python'\n",
    "if string2.endswith(end_word):\n",
    "    print(f\"{string2} ends with '{end_word}'\")\n",
    "else:\n",
    "    print(f\"{string2} does not end with '{end_word}'\")"
   ]
  },
  {
   "cell_type": "markdown",
   "id": "fcea38d2-a561-46fe-80ea-cbae90ca5f44",
   "metadata": {},
   "source": [
    "19. Convert a string to title case (e.g., \"hello world\" to \"Hello World\")."
   ]
  },
  {
   "cell_type": "code",
   "execution_count": 18,
   "id": "a9641855-846d-4067-988c-985201378d90",
   "metadata": {},
   "outputs": [
    {
     "name": "stdout",
     "output_type": "stream",
     "text": [
      "Original String: I need to be a Data Scientist\n",
      "Titled String: I Need To Be A Data Scientist\n"
     ]
    }
   ],
   "source": [
    "print(f\"Original String: {string2}\\nTitled String: {string2.title()}\")"
   ]
  },
  {
   "cell_type": "markdown",
   "id": "edec3b01-2259-4d4f-a7b3-c7de8af25eec",
   "metadata": {},
   "source": [
    "20. Find the longest word in a string."
   ]
  },
  {
   "cell_type": "code",
   "execution_count": 19,
   "id": "344d585f-01f6-443d-b919-683843e35bc5",
   "metadata": {},
   "outputs": [
    {
     "name": "stdout",
     "output_type": "stream",
     "text": [
      "Original String: I need to be a Data Scientist\n",
      "Longest word in the original string is: Scientist\n"
     ]
    }
   ],
   "source": [
    "# We can arrange or order it based on a length of the word in a string and then print the last element\n",
    "print(f\"Original String: {string2}\")\n",
    "list_of_string = string2.split()\n",
    "string_sorted = sorted(list_of_string, key = len)\n",
    "print(f\"Longest word in the original string is: {string_sorted[-1]}\")"
   ]
  },
  {
   "cell_type": "markdown",
   "id": "5b5b4a3d-22cf-402d-832a-6d0ef2aedadd",
   "metadata": {},
   "source": [
    "21. Find the shortest word in a string."
   ]
  },
  {
   "cell_type": "code",
   "execution_count": 20,
   "id": "044b06de-9fb0-41ad-b98e-43c59942eb53",
   "metadata": {},
   "outputs": [
    {
     "name": "stdout",
     "output_type": "stream",
     "text": [
      "Original String: I need to be a Data Scientist\n",
      "Shortest word in the original string is: I\n"
     ]
    }
   ],
   "source": [
    "print(f\"Original String: {string2}\")\n",
    "list_of_string = string2.split()\n",
    "string_sorted = sorted(list_of_string, key = len)\n",
    "print(f\"Shortest word in the original string is: {string_sorted[0]}\")"
   ]
  },
  {
   "cell_type": "markdown",
   "id": "3b190717-cdcc-4f1d-a125-60d03fb285e2",
   "metadata": {},
   "source": [
    "22. Reverse the order of words in a string."
   ]
  },
  {
   "cell_type": "code",
   "execution_count": 21,
   "id": "7d77aa40-b464-4bea-b6a4-4666ddd37377",
   "metadata": {},
   "outputs": [
    {
     "name": "stdout",
     "output_type": "stream",
     "text": [
      "Original String: I need to be a Data Scientist\n",
      "Reversed order of the words in a string is: Scientist Data a be to need I\n"
     ]
    }
   ],
   "source": [
    "print(f\"Original String: {string2}\")\n",
    "list_of_string = string2.split()\n",
    "print(f\"Reversed order of the words in a string is: {' '.join(list_of_string[::-1])}\")\n",
    "\n",
    "# convert into a list of string\n",
    "# then reverse the list\n",
    "# then join the list by white space"
   ]
  },
  {
   "cell_type": "markdown",
   "id": "2b452c73-c898-4280-ac6a-1a6b2327b3f4",
   "metadata": {},
   "source": [
    "23. Check if a string is alphanumeric."
   ]
  },
  {
   "cell_type": "code",
   "execution_count": 22,
   "id": "c266074e-4486-4416-b607-d0ecfc996ac4",
   "metadata": {},
   "outputs": [
    {
     "name": "stdout",
     "output_type": "stream",
     "text": [
      "Honourable123 contains alphanumeric string\n"
     ]
    }
   ],
   "source": [
    "string3 = \"Honourable123\"\n",
    "if string3.isalnum():\n",
    "    print(f\"{string3} contains alphanumeric string\")\n",
    "else:\n",
    "    print(f\"{string3} contains atleast one special character\")"
   ]
  },
  {
   "cell_type": "markdown",
   "id": "5cf5fc98-105a-4cc9-9b7b-c7a8ff2db76c",
   "metadata": {},
   "source": [
    "24. Extract all digits from a string."
   ]
  },
  {
   "cell_type": "code",
   "execution_count": 23,
   "id": "ba13d0d0-e2fc-4170-832b-9176a9000b04",
   "metadata": {},
   "outputs": [
    {
     "name": "stdout",
     "output_type": "stream",
     "text": [
      "Original String: 123 is a number\n",
      "Digits from the above string: ['1', '2', '3']\n"
     ]
    }
   ],
   "source": [
    "string24 = '123 is a number'\n",
    "list24 = []\n",
    "for i in string24:\n",
    "    if i.isdigit():\n",
    "        list24.append(i)\n",
    "\n",
    "print(f\"Original String: {string24}\\nDigits from the above string: {list24}\")"
   ]
  },
  {
   "cell_type": "markdown",
   "id": "f85d95fd-b626-4eb8-aa2f-028d76d1202a",
   "metadata": {},
   "source": [
    "25. Extract all alphabets from a string."
   ]
  },
  {
   "cell_type": "code",
   "execution_count": 24,
   "id": "8e7e60e7-b6df-45b1-bee9-d4409c6fc035",
   "metadata": {},
   "outputs": [
    {
     "name": "stdout",
     "output_type": "stream",
     "text": [
      "Original String: 123 is a number\\Alphabets from the above string: ['i', 's', 'a', 'n', 'u', 'm', 'b', 'e', 'r']\n"
     ]
    }
   ],
   "source": [
    "string25 = '123 is a number'\n",
    "list25 = []\n",
    "for i in string25:\n",
    "    if i.isalpha():\n",
    "        list25.append(i)\n",
    "\n",
    "print(f\"Original String: {string24}\\Alphabets from the above string: {list25}\")"
   ]
  },
  {
   "cell_type": "markdown",
   "id": "4f7115e4-bde5-423e-8adc-cc939f0bb724",
   "metadata": {},
   "source": [
    "26. Count the number of uppercase letters in a string."
   ]
  },
  {
   "cell_type": "code",
   "execution_count": 25,
   "id": "a76ed2cc-8c61-497e-8981-cbf74fbcdb05",
   "metadata": {},
   "outputs": [
    {
     "name": "stdout",
     "output_type": "stream",
     "text": [
      "The number of upper case in a given string is: 3\n"
     ]
    }
   ],
   "source": [
    "string26 = 'My occupation in future is Data Scientist'\n",
    "count = 0\n",
    "for i in string26:\n",
    "    if i.isupper():\n",
    "        count += 1\n",
    "        \n",
    "print(f\"The number of upper case in a given string is: {count}\")"
   ]
  },
  {
   "cell_type": "markdown",
   "id": "4a0e79ff-9007-4080-b832-34b690be6282",
   "metadata": {},
   "source": [
    "27. Count the number of lowercase letters in a string."
   ]
  },
  {
   "cell_type": "code",
   "execution_count": 26,
   "id": "c3df454f-1a18-4ba8-8509-a02e4562aff1",
   "metadata": {},
   "outputs": [
    {
     "name": "stdout",
     "output_type": "stream",
     "text": [
      "The number of lower case in a given string is: 32\n"
     ]
    }
   ],
   "source": [
    "string27 = 'My occupation in future is Data Scientist'\n",
    "count = 0\n",
    "for i in string27:\n",
    "    if i.islower():\n",
    "        count += 1\n",
    "        \n",
    "print(f\"The number of lower case in a given string is: {count}\")"
   ]
  },
  {
   "cell_type": "markdown",
   "id": "3643d261-b19d-4597-82bd-472fb6b0e515",
   "metadata": {},
   "source": [
    "28. Swap the case of each character in a string."
   ]
  },
  {
   "cell_type": "code",
   "execution_count": 27,
   "id": "6edc75a4-44c8-44a2-b8ff-979fdaf65028",
   "metadata": {},
   "outputs": [
    {
     "name": "stdout",
     "output_type": "stream",
     "text": [
      "Original String: My occupation in future is Data Scientist\n",
      "Swapped cases String: mY OCCUPATION IN FUTURE IS dATA sCIENTIST\n"
     ]
    }
   ],
   "source": [
    "string28 = 'My occupation in future is Data Scientist'\n",
    "updated_string = \"\"\n",
    "for i in string28:\n",
    "    if i.isupper():\n",
    "        updated_string += i.lower()\n",
    "    else:\n",
    "        updated_string += i.upper()\n",
    "print(f\"Original String: {string28}\\nSwapped cases String: {updated_string}\")"
   ]
  },
  {
   "cell_type": "markdown",
   "id": "ded0869d-8569-4b60-b2f1-a13ed58292c7",
   "metadata": {},
   "source": [
    "29. Remove a specific word from a string."
   ]
  },
  {
   "cell_type": "code",
   "execution_count": 29,
   "id": "1273dc7e-3c9a-43b4-9802-884be97d1fbd",
   "metadata": {},
   "outputs": [
    {
     "name": "stdout",
     "output_type": "stream",
     "text": [
      "Original String: My occupation in future is Data Scientist\n",
      "Modified String:  occupation in future is Data Scientist\n"
     ]
    }
   ],
   "source": [
    "string29 = 'My occupation in future is Data Scientist'\n",
    "\n",
    "# replace is a better way to remove a specific word from the string\n",
    "print(f\"Original String: {string29}\\nModified String: {string29.replace('My', '')}\")"
   ]
  },
  {
   "cell_type": "markdown",
   "id": "4392c802-ee7a-4280-abf8-d8807fa160cd",
   "metadata": {},
   "source": [
    "30. Check if a string is a valid email address."
   ]
  },
  {
   "cell_type": "code",
   "execution_count": 32,
   "id": "08769e9e-8424-43f2-8748-1fc63d7e7780",
   "metadata": {},
   "outputs": [
    {
     "name": "stdin",
     "output_type": "stream",
     "text": [
      "Enter your email address: hansagouds26@gmail.com\n"
     ]
    },
    {
     "name": "stdout",
     "output_type": "stream",
     "text": [
      "Valid email address\n"
     ]
    }
   ],
   "source": [
    "import re\n",
    "\n",
    "email_address = input(\"Enter your email address:\" )\n",
    "\n",
    "# possible ways to check for email validations:\n",
    "# Regular Expressions\n",
    "\n",
    "# using Regular Expressions module\n",
    "\n",
    "reg_ex = r'^[A-Za-z0-9._]+@[A-Za-z.-]+\\.[A-Za-z]{2,7}$'\n",
    "\n",
    "if re.match(reg_ex, email_address):\n",
    "    print(\"Valid email address\")\n",
    "else:\n",
    "    print(\"Not a valid email address \")"
   ]
  },
  {
   "cell_type": "markdown",
   "id": "fb9c652a-84de-47ba-8e85-c318a11927a6",
   "metadata": {},
   "source": [
    "31. Extract the username from an email address string."
   ]
  },
  {
   "cell_type": "code",
   "execution_count": 33,
   "id": "97385916-b778-4761-b4e6-31183cfba0f8",
   "metadata": {},
   "outputs": [
    {
     "name": "stdin",
     "output_type": "stream",
     "text": [
      "Enter your email address: hansagouds26@gmail.com\n"
     ]
    },
    {
     "name": "stdout",
     "output_type": "stream",
     "text": [
      "Valid email address\n",
      "Username: hansagouds26\n"
     ]
    }
   ],
   "source": [
    "import re\n",
    "user_name_regex = r'^([A-Za-z0-9._]+)@([A-Za-z.-]+)\\.([A-Za-z]{2,7})$'\n",
    "\n",
    "email_address = input(\"Enter your email address:\" )\n",
    "\n",
    "match = re.match(user_name_regex, email_address)\n",
    "\n",
    "if match:\n",
    "    print(f\"Valid email address\")\n",
    "    username = match.group(1)\n",
    "    print(f\"Username: {username}\")\n",
    "else:\n",
    "    print(\"Invalid email address\")"
   ]
  },
  {
   "cell_type": "markdown",
   "id": "0039c509-1138-4c5e-9317-f36bdfca4497",
   "metadata": {},
   "source": [
    "32. Extract the domain name from an email address string."
   ]
  },
  {
   "cell_type": "code",
   "execution_count": 34,
   "id": "d5bec3c9-226e-4d6a-81b5-bbd06718332c",
   "metadata": {},
   "outputs": [
    {
     "name": "stdin",
     "output_type": "stream",
     "text": [
      "Enter your email address: hansagouds26@gmail.com\n"
     ]
    },
    {
     "name": "stdout",
     "output_type": "stream",
     "text": [
      "Valid email address\n",
      "Username: gmail\n"
     ]
    }
   ],
   "source": [
    "import re\n",
    "user_name_regex = r'^([A-Za-z0-9._]+)@([A-Za-z.-]+)\\.([A-Za-z]{2,7})$'\n",
    "\n",
    "email_address = input(\"Enter your email address:\" )\n",
    "\n",
    "match = re.match(user_name_regex, email_address)\n",
    "\n",
    "if match:\n",
    "    print(f\"Valid email address\")\n",
    "    username = match.group(2)\n",
    "    print(f\"Username: {username}\")\n",
    "else:\n",
    "    print(\"Invalid email address\")"
   ]
  },
  {
   "cell_type": "markdown",
   "id": "e521962d-fac2-4892-984b-52c976e00472",
   "metadata": {},
   "source": [
    "33. Replace multiple spaces in a string with a single space."
   ]
  },
  {
   "cell_type": "code",
   "execution_count": 25,
   "id": "c865380f-0b30-43a6-815f-99af8cea2b81",
   "metadata": {},
   "outputs": [
    {
     "name": "stdin",
     "output_type": "stream",
     "text": [
      "Enter some string with multiple spaces inbetween the words:        a          b               c\n"
     ]
    },
    {
     "name": "stdout",
     "output_type": "stream",
     "text": [
      "The original string is:       a          b               c\n",
      "The modified string is:  a b c\n"
     ]
    }
   ],
   "source": [
    "import re\n",
    "\n",
    "string33 = input(\"Enter some string with multiple spaces inbetween the words: \")\n",
    "\n",
    "# using regEx, to replace multiple spaces with single space\n",
    "output_string = re.sub(r'\\s+', ' ', string33)\n",
    "\n",
    "print(f\"The original string is: {string33}\\nThe modified string is: {output_string}\")\n"
   ]
  },
  {
   "cell_type": "markdown",
   "id": "6bfc153e-a292-4ce5-8d38-4ee20e064751",
   "metadata": {},
   "source": [
    "34. Check if a string is a valid URL."
   ]
  },
  {
   "cell_type": "code",
   "execution_count": 29,
   "id": "6916f3f6-06c3-415c-841b-a259c4ff0d86",
   "metadata": {},
   "outputs": [
    {
     "name": "stdin",
     "output_type": "stream",
     "text": [
      "Enter the URL:  javascript:alert('Hello, world!');\n"
     ]
    },
    {
     "name": "stdout",
     "output_type": "stream",
     "text": [
      "Valid URL\n"
     ]
    }
   ],
   "source": [
    "import re\n",
    "\n",
    "url_pattern = r'^(https?|ftp|mailto|tel|file|data|sms|geo|urn|javascript|chrome|app|whatsapp|intent|market):[A-Za-z0-9.:/?#=_+-]+'\n",
    "\n",
    "url = input(\"Enter the URL: \")\n",
    "\n",
    "if re.match(url_pattern, url):\n",
    "    print(\"Valid URL\")\n",
    "else:\n",
    "    print(\"Invalid URL\")"
   ]
  },
  {
   "cell_type": "markdown",
   "id": "e52b9583-1ded-4f95-be13-34386c532f85",
   "metadata": {},
   "source": [
    "35. Extract the protocol (http or https) from a URL string."
   ]
  },
  {
   "cell_type": "code",
   "execution_count": 30,
   "id": "bc41156c-bf20-42e5-8310-81ae22a10849",
   "metadata": {},
   "outputs": [
    {
     "name": "stdin",
     "output_type": "stream",
     "text": [
      "Enter the URL:  javascript:alert('Hello, world!');\n"
     ]
    },
    {
     "name": "stdout",
     "output_type": "stream",
     "text": [
      "Protocol is: javascript\n"
     ]
    }
   ],
   "source": [
    "import re\n",
    "\n",
    "url_pattern = r'^(https?|ftp|mailto|tel|file|data|sms|geo|urn|javascript|chrome|app|whatsapp|intent|market):[A-Za-z0-9.:/?#=_+-]+'\n",
    "\n",
    "url = input(\"Enter the URL: \")\n",
    "\n",
    "match = re.match(url_pattern, url)\n",
    "\n",
    "if match:\n",
    "    protocol = match.group(1)\n",
    "    print(f\"Protocol is: {protocol}\")\n",
    "else:\n",
    "    print(\"Invalid URL\")"
   ]
  },
  {
   "cell_type": "markdown",
   "id": "469a2512-ca90-4081-bd59-5634db39c510",
   "metadata": {},
   "source": [
    "36. Find the frequency of each character in a string."
   ]
  },
  {
   "cell_type": "code",
   "execution_count": 35,
   "id": "c5ddabd9-1fc3-453d-bf77-09fca98a6ee3",
   "metadata": {},
   "outputs": [
    {
     "name": "stdin",
     "output_type": "stream",
     "text": [
      "Enter the string:  Computer programming needs someone with a logical mind\n"
     ]
    },
    {
     "name": "stdout",
     "output_type": "stream",
     "text": [
      "The frequency of each character in a string is: \n",
      "{'C': 1, 'o': 5, 'm': 5, 'p': 2, 'u': 1, 't': 2, 'e': 5, 'r': 3, ' ': 7, 'g': 3, 'a': 3, 'i': 4, 'n': 4, 'd': 2, 's': 2, 'w': 1, 'h': 1, 'l': 2, 'c': 1}\n"
     ]
    }
   ],
   "source": [
    "string36 = input(\"Enter the string: \")\n",
    "ch = {}\n",
    "\n",
    "for i in string36:\n",
    "    if i in ch:\n",
    "        ch[i] += 1\n",
    "    else:\n",
    "        ch[i] = 1\n",
    "\n",
    "# max_char = max(ch, key=ch.get) --> Maximum occurred character\n",
    "print(f\"The frequency of each character in a string is: \\n{ch}\")"
   ]
  },
  {
   "cell_type": "markdown",
   "id": "efc02d2c-c64b-4f74-ad6e-6c9d7ff42dc7",
   "metadata": {},
   "source": [
    "37. Remove all punctuation from a string."
   ]
  },
  {
   "cell_type": "code",
   "execution_count": 35,
   "id": "8472ad9e-fe38-47a3-9635-5feef8031f66",
   "metadata": {},
   "outputs": [
    {
     "name": "stdin",
     "output_type": "stream",
     "text": [
      "Enter some string with punctuations in it:  Hello!\n"
     ]
    },
    {
     "name": "stdout",
     "output_type": "stream",
     "text": [
      "Cleaned String: Hello\n"
     ]
    }
   ],
   "source": [
    "# import re\n",
    "\n",
    "# string37 = input(\"Enter some string with punctuations in it: \")\n",
    "\n",
    "# # punctuation_exp = r'[!\\\"#$%&\\'()*+,-./:;<=>?@[\\\\]^_`{|}~]'\n",
    "# exp = r'[!\"#$%&\\'()*+,-./:;<=>?@[\\\\]^_`{|}~]'\n",
    "\n",
    "# string_without_punctuation = re.sub(exp, '', string37)\n",
    "\n",
    "# print(f\"The sentence without punctuations is: {string_without_punctuation}\")\n",
    "\n",
    "import string\n",
    "\n",
    "punctuation_chars = string.punctuation\n",
    "\n",
    "string37 = input(\"Enter some string with punctuations in it: \")\n",
    "\n",
    "cleaned_string = string37.translate(str.maketrans('', '', punctuation_chars))\n",
    "\n",
    "print(f\"Cleaned String: {cleaned_string}\")\n"
   ]
  },
  {
   "cell_type": "markdown",
   "id": "45c3792a-27e6-4946-b298-0df89a0a939b",
   "metadata": {},
   "source": [
    "38. Check if a string contains only digits."
   ]
  },
  {
   "cell_type": "code",
   "execution_count": 42,
   "id": "0a16aca3-8e6c-49c2-ba73-3c63b1490372",
   "metadata": {},
   "outputs": [
    {
     "name": "stdin",
     "output_type": "stream",
     "text": [
      "Enter some string:  123 123 1234\n"
     ]
    },
    {
     "name": "stdout",
     "output_type": "stream",
     "text": [
      "The given string doesn't contain digits alone!\n"
     ]
    }
   ],
   "source": [
    "string38 = input(\"Enter some string: \")\n",
    "\n",
    "if string38.isdigit():\n",
    "    print(\"The given string is containing only digits!\")\n",
    "else:\n",
    "    print(\"The given string doesn't contain digits alone!\")"
   ]
  },
  {
   "cell_type": "markdown",
   "id": "652e5e4c-0bd2-4e74-861a-8ecd922d9d8d",
   "metadata": {},
   "source": [
    "39. Check if a string contains only alphabets."
   ]
  },
  {
   "cell_type": "code",
   "execution_count": 47,
   "id": "fd19a2fb-8297-4cb4-aff4-ba85d91e8106",
   "metadata": {},
   "outputs": [
    {
     "name": "stdin",
     "output_type": "stream",
     "text": [
      "Enter some string:  hansa is a good girl\n"
     ]
    },
    {
     "name": "stdout",
     "output_type": "stream",
     "text": [
      "The given string doesn't contain alphabets alone!\n"
     ]
    }
   ],
   "source": [
    "string39 = input(\"Enter some string: \")\n",
    "\n",
    "if string39.isalpha():\n",
    "    print(\"The given string is containing only alphabets!\")\n",
    "else:\n",
    "    print(\"The given string doesn't contain alphabets alone!\")"
   ]
  },
  {
   "cell_type": "markdown",
   "id": "2546360e-91fd-4aab-b938-238598dffb44",
   "metadata": {},
   "source": [
    "40. Convert a string to a list of characters."
   ]
  },
  {
   "cell_type": "code",
   "execution_count": 36,
   "id": "162ae10a-f5d9-4df2-b312-f49b2e73255b",
   "metadata": {},
   "outputs": [
    {
     "name": "stdin",
     "output_type": "stream",
     "text": [
      "Enter some string:  PwSkills\n"
     ]
    },
    {
     "name": "stdout",
     "output_type": "stream",
     "text": [
      "List of Characters: ['P', 'w', 'S', 'k', 'i', 'l', 'l', 's']\n"
     ]
    }
   ],
   "source": [
    "string40 = input(\"Enter some string: \")\n",
    "\n",
    "list_of_chars = []\n",
    "\n",
    "for i in string40:\n",
    "    list_of_chars.append(i)\n",
    "\n",
    "print(f\"List of Characters: {list_of_chars}\")"
   ]
  },
  {
   "cell_type": "markdown",
   "id": "6d5251bf-fc42-4c42-a358-5a96c8572993",
   "metadata": {},
   "source": [
    "41. Check if two strings are anagrams."
   ]
  },
  {
   "cell_type": "markdown",
   "id": "7709b511-07b9-488f-b6db-72a68b9f3b36",
   "metadata": {},
   "source": [
    "An anagram is a word or phrase formed by rearranging the letters of another word or phrase, typically using all the original letters exactly once. In other words, if you can create one word or phrase by rearranging the letters of another without adding or removing any letters, then those two words or phrases are considered anagrams of each other.\n",
    "\n",
    "For example:\n",
    "\n",
    "\"listen\" is an anagram of \"silent.\"\n",
    "\"cinema\" is an anagram of \"iceman.\"\n",
    "\"triangle\" is an anagram of \"integral.\"\n",
    "Anagrams are often used as word games and puzzles, and they can be a fun way to explore the permutations of letters within words and phrases."
   ]
  },
  {
   "cell_type": "code",
   "execution_count": 56,
   "id": "6a3e4770-a59c-42d9-bb95-e90656b95b78",
   "metadata": {},
   "outputs": [
    {
     "name": "stdin",
     "output_type": "stream",
     "text": [
      "Enter a word:  bad credit\n",
      "Enter another word:  debit card\n"
     ]
    },
    {
     "name": "stdout",
     "output_type": "stream",
     "text": [
      "'bad credit' and 'debit card' are anagrams\n"
     ]
    }
   ],
   "source": [
    "# Approach - convert all the strings to lower case and replace sapces with empty string and then sort both the string and compare them, if it's True, it means it's an anagram else no\n",
    "\n",
    "string41a = input(\"Enter a word: \")\n",
    "\n",
    "string41b = input(\"Enter another word: \")\n",
    "\n",
    "first_word = string41a.replace(\" \", \"\").lower()\n",
    "second_word = string41b.replace(\" \", \"\").lower()\n",
    "\n",
    "if sorted(first_word) == sorted(second_word):\n",
    "    print(f\"'{string41a}' and '{string41b}' are anagrams\")\n",
    "else:\n",
    "    print(f\"'{string41a}' and '{string41b}' are not anagrams\")"
   ]
  },
  {
   "cell_type": "markdown",
   "id": "3c94609a-2b39-4323-bce1-36fe7d552f7c",
   "metadata": {},
   "source": [
    "42. Encode a string using a Caesar cipher."
   ]
  },
  {
   "cell_type": "markdown",
   "id": "ae1148c4-5116-42de-9e88-905c6147976e",
   "metadata": {},
   "source": [
    "The Caesar cipher is one of the simplest and most well-known encryption techniques. It's a type of substitution cipher where each letter in the plaintext is shifted a certain number of places down or up the alphabet. The key in a Caesar cipher is the number of positions each letter is shifted.\n",
    "\n",
    "Here's how the Caesar cipher works:\n",
    "\n",
    "Choose a shift value, often called the \"key.\"\n",
    "For each letter in the plaintext, shift it forward in the alphabet by the key value. If the shift extends beyond the end of the alphabet, wrap around to the beginning.\n",
    "Leave spaces and other non-alphabet characters unchanged.\n",
    "\n",
    "Link: https://youtu.be/JtbKh_12ctg --> Refer this when you get doubt on what is caeser cipher"
   ]
  },
  {
   "cell_type": "code",
   "execution_count": 57,
   "id": "2b3194ff-679f-4ebe-be1c-48c8a90375ba",
   "metadata": {},
   "outputs": [
    {
     "name": "stdin",
     "output_type": "stream",
     "text": [
      "Enter the sentence that you want to encrypt:  Hello World!\n",
      "\n",
      "Enter the number of shift that you need to have:  1\n"
     ]
    },
    {
     "name": "stdout",
     "output_type": "stream",
     "text": [
      "Original Text: Hello World!\n",
      "Encrypted Text: Ifmmp Xpsme!\n"
     ]
    }
   ],
   "source": [
    "def caeser_cipher(text, key):\n",
    "    \"\"\"\n",
    "    This function encrypts a plaintext string using Caeser Cipher with the specified key.\n",
    "    \n",
    "    :param text: (str) the plaintext to be encrypted\n",
    "    :param key: (int) the encryption key (number of positions to shift each letter)\n",
    "    \n",
    "    :return ciphered text: (str) the ciphertext resulting from the Caesar cipher encryption\n",
    "    \"\"\"\n",
    "    \n",
    "    # create an empty resultant string\n",
    "    result = \"\"\n",
    "    \n",
    "    # iterate through each character in a string\n",
    "    for ch in text:\n",
    "        if ch.isalpha():\n",
    "            # Determine the shift based on the character's case (uppercase or lowercase)\n",
    "            shift = 97 if ch.islower() else 65 # string can be upper case or lowercase --> ASCII --> lower case 'a' = 97 and uppercase 'A' = 65\n",
    "            \n",
    "            # Ceaser cipher formula: C = E(p, k) mod 26, [C = (p+k)%26] where C = Ciphered text, E = encryption, p = plaintext, k = key, mod(operation) and 26 becasue, there are 26 letters in English Aplhabet\n",
    "            encrypted_character = chr((ord(ch) - shift + key) % 26 + shift)\n",
    "            result += encrypted_character\n",
    "        else:\n",
    "            # non-alphabet characters are not modified and appended as is\n",
    "            result += ch\n",
    "    \n",
    "    # return the result\n",
    "    return result\n",
    "\n",
    "plaintext = input(\"Enter the sentence that you want to encrypt: \")\n",
    "key = int(input(\"\\nEnter the number of shift that you need to have: \"))\n",
    "\n",
    "ciphered_text = caeser_cipher(plaintext, key)\n",
    "\n",
    "print(f\"Original Text: {plaintext}\\nEncrypted Text: {ciphered_text}\")"
   ]
  },
  {
   "cell_type": "markdown",
   "id": "a7407190-0a6e-49f4-aff3-e67c36a3dadb",
   "metadata": {},
   "source": [
    "43. Decode a Caesar cipher encoded string."
   ]
  },
  {
   "cell_type": "code",
   "execution_count": 58,
   "id": "570cc863-14ca-481d-b59d-c52310ffee1e",
   "metadata": {},
   "outputs": [
    {
     "name": "stdin",
     "output_type": "stream",
     "text": [
      "Enter the sentence that you want to decrypt:  Ifmmp Xpsme!\n",
      "\n",
      "Enter the number of shift that you need to have:  1\n"
     ]
    },
    {
     "name": "stdout",
     "output_type": "stream",
     "text": [
      "Original Text: Ifmmp Xpsme!\n",
      "Encrypted Text: Hello World!\n"
     ]
    }
   ],
   "source": [
    "def caeser_decipher(text, key):\n",
    "    \"\"\"\n",
    "    This function decrypts a plaintext string using Caeser Cipher with the specified key.\n",
    "    \n",
    "    :param text: (str) the plaintext to be decrypted\n",
    "    :param key: (int) the decryption key (number of positions to shift each letter)\n",
    "    \n",
    "    :return ciphered text: (str) the ciphertext resulting from the Caesar cipher decryption\n",
    "    \"\"\"\n",
    "    \n",
    "    # create an empty resultant string\n",
    "    result = \"\"\n",
    "    \n",
    "    # iterate through each character in a string\n",
    "    for ch in text:\n",
    "        if ch.isalpha():\n",
    "            # Determine the shift based on the character's case (uppercase or lowercase)\n",
    "            shift = 97 if ch.islower() else 65 # string can be upper case or lowercase --> ASCII --> lower case 'a' = 97 and uppercase 'A' = 65\n",
    "            \n",
    "            # Ceaser cipher formula: p = D(C, k) mod 26,[p = (C-k)%26] where C = Ciphered text, D = decryption, p = plaintext, k = key, mod(operation) and 26 becasue, there are 26 letters in English Aplhabet\n",
    "            decrypted_character = chr((ord(ch) - shift - key) % 26 + shift)\n",
    "            result += decrypted_character\n",
    "        else:\n",
    "            # non-alphabet characters are not modified and appended as is\n",
    "            result += ch\n",
    "    \n",
    "    # return the result\n",
    "    return result\n",
    "\n",
    "plaintext = input(\"Enter the sentence that you want to decrypt: \")\n",
    "key = int(input(\"\\nEnter the number of shift that you need to have: \"))\n",
    "\n",
    "ciphered_text = caeser_decipher(plaintext, key)\n",
    "\n",
    "print(f\"Original Text: {plaintext}\\nEncrypted Text: {ciphered_text}\")"
   ]
  },
  {
   "cell_type": "markdown",
   "id": "3b7f611a-9ad8-4b04-9d85-bd48239b8405",
   "metadata": {},
   "source": [
    "44. Find the most frequent word in a string."
   ]
  },
  {
   "cell_type": "code",
   "execution_count": 66,
   "id": "5e2b3712-bb18-471a-b571-1784d461b9a1",
   "metadata": {},
   "outputs": [
    {
     "name": "stdout",
     "output_type": "stream",
     "text": [
      "['this', 'is', 'a', 'sample', 'text', 'this', 'text', 'contains', 'several', 'words', 'but', 'text', 'is', 'the', 'most', 'frequent', 'word']\n",
      "Counter({'text': 3, 'this': 2, 'is': 2, 'a': 1, 'sample': 1, 'contains': 1, 'several': 1, 'words': 1, 'but': 1, 'the': 1, 'most': 1, 'frequent': 1, 'word': 1})\n",
      "[('text', 3)]\n",
      "The most frequent word is 'text' with a frequency of 3.\n"
     ]
    }
   ],
   "source": [
    "# Approach 1 using simple for loop and iterating over the words\n",
    "\n",
    "string44 = input(\"Enter a sentence: \")\n",
    "\n",
    "split_string = string44.split()\n",
    "\n",
    "word = {}\n",
    "\n",
    "for i in split_string:\n",
    "    if i in word:\n",
    "        word[i] += 1\n",
    "    else:\n",
    "        word[i] = 1\n",
    "\n",
    "max_word = max(word, key=word.get)\n",
    "print(max_word)\n",
    "\n",
    "# this would consider A and a as different"
   ]
  },
  {
   "cell_type": "code",
   "execution_count": null,
   "id": "fafd2034-edd8-4620-a563-4c7fcf921ec5",
   "metadata": {},
   "outputs": [],
   "source": [
    "# Approach 2: using Collections module\n",
    "\n",
    "import re\n",
    "from collections import Counter\n",
    "\n",
    "def most_frequent_word(text):\n",
    "    # Tokenize the string into words (using whitespace as the delimiter)\n",
    "    words = re.findall(r'\\w+', text.lower())\n",
    "    print(words)\n",
    "    \n",
    "    # Create a dictionary to count word frequencies\n",
    "    word_counts = Counter(words)\n",
    "    print(word_counts)\n",
    "    \n",
    "    # Find the most frequent word(s)\n",
    "    most_common_words = word_counts.most_common(1)  # Returns a list of tuples\n",
    "    print(most_common_words)\n",
    "    \n",
    "    if most_common_words:\n",
    "        most_frequent_word, frequency = most_common_words[0]\n",
    "        return most_frequent_word, frequency\n",
    "    else:\n",
    "        return None\n",
    "\n",
    "# Example usage:\n",
    "input_text = \"This is a sample text. This text contains several words, but 'text' is the most frequent word.\"\n",
    "\n",
    "result = most_frequent_word(input_text)\n",
    "if result:\n",
    "    word, frequency = result\n",
    "    print(f\"The most frequent word is '{word}' with a frequency of {frequency}.\")\n",
    "else:\n",
    "    print(\"No words found in the input text.\")\n"
   ]
  },
  {
   "cell_type": "markdown",
   "id": "882baa95-db41-4d5c-9c4a-0113fa26a529",
   "metadata": {},
   "source": [
    "45. Find all unique words in a string."
   ]
  },
  {
   "cell_type": "code",
   "execution_count": 86,
   "id": "fb6e88e7-c322-4bb8-8bc5-d864a98fa9c4",
   "metadata": {},
   "outputs": [
    {
     "name": "stdin",
     "output_type": "stream",
     "text": [
      "Enter a sentence:  this is my book this is also my book\n"
     ]
    },
    {
     "name": "stdout",
     "output_type": "stream",
     "text": [
      "Unique words in a given sentence: \n",
      "also\n"
     ]
    }
   ],
   "source": [
    "# Approach 1 using simple for loop and iterating over the words\n",
    "\n",
    "string45 = input(\"Enter a sentence: \")\n",
    "\n",
    "split_string = string45.split()\n",
    "\n",
    "word = {}\n",
    "\n",
    "for i in split_string:\n",
    "    if i in word:\n",
    "        word[i] += 1\n",
    "    else:\n",
    "        word[i] = 1\n",
    "\n",
    "unique_words = []\n",
    "for k, v in word.items():\n",
    "    if v == 1:\n",
    "        unique_words.append(k)\n",
    "\n",
    "print(f\"Unique words in a given sentence: \")\n",
    "print('\\n'.join(unique_words))\n",
    "\n",
    "# this would consider A and a as different"
   ]
  },
  {
   "cell_type": "code",
   "execution_count": 71,
   "id": "18e6c4eb-9537-426a-9835-ee1bd27cc58c",
   "metadata": {},
   "outputs": [
    {
     "name": "stdout",
     "output_type": "stream",
     "text": [
      "Unique words in the input text:\n",
      "several\n",
      "words\n",
      "but\n",
      "sample\n",
      "this\n",
      "is\n",
      "contains\n",
      "text\n",
      "a\n",
      "repeated\n"
     ]
    }
   ],
   "source": [
    "# Approach 2: Using Set\n",
    "\n",
    "import re\n",
    "\n",
    "def unique_words(text):\n",
    "    # Tokenize the string into words (using whitespace as the delimiter)\n",
    "    words = re.findall(r'\\w+', text.lower())\n",
    "    \n",
    "    # Create a set to store unique words\n",
    "    unique_word_set = set(words)\n",
    "    \n",
    "    return unique_word_set\n",
    "\n",
    "# Example usage:\n",
    "input_text = \"This is a sample text. This text contains several words, but 'text' is repeated.\"\n",
    "\n",
    "unique_words_set = unique_words(input_text)\n",
    "\n",
    "if unique_words_set:\n",
    "    print(\"Unique words in the input text:\")\n",
    "    for word in unique_words_set:\n",
    "        print(word)\n",
    "else:\n",
    "    print(\"No words found in the input text.\")\n"
   ]
  },
  {
   "cell_type": "markdown",
   "id": "0be43263-edc6-4783-b0c0-c4ee8d023214",
   "metadata": {},
   "source": [
    "46. Count the number of syllables in a string."
   ]
  },
  {
   "cell_type": "markdown",
   "id": "41f2c8d2-a5f7-47a1-9b70-fc8d08935e31",
   "metadata": {},
   "source": [
    "# Syllables \n",
    "are the basic units of pronunciation in a word. They are made up of one or more phonemes and are typically separated by vowel sounds. Syllables play an important role in pronunciation, language rhythm, and poetry. Here are a few key points about syllables:\n",
    "\n",
    "# Components of a Syllable:\n",
    "\n",
    "# Vowels: \n",
    "Syllables often have a vowel sound at their core, known as the nucleus.\n",
    "# Consonants: \n",
    "Consonants may appear before (onset) or after (coda) the nucleus in a syllable.\n"
   ]
  },
  {
   "cell_type": "code",
   "execution_count": 76,
   "id": "b479557f-62bb-46b6-8470-7378ef0dc90a",
   "metadata": {},
   "outputs": [
    {
     "name": "stdin",
     "output_type": "stream",
     "text": [
      "Enter a word:  water\n"
     ]
    },
    {
     "name": "stdout",
     "output_type": "stream",
     "text": [
      "The word 'water' has 2 syllables.\n"
     ]
    }
   ],
   "source": [
    "# python provides a library for counting the hyphenated words - pyphen (A wrapper for a hyphenation library)\n",
    "\n",
    "# pip install Pyphen\n",
    "\n",
    "import pyphen\n",
    "\n",
    "def count_syllables(word):\n",
    "    # Create a Pyphen instance for English hyphenation rules\n",
    "    dic = pyphen.Pyphen(lang='en_US')\n",
    "\n",
    "    # Split the word into syllables\n",
    "    syllables = dic.inserted(word).split('-')\n",
    "\n",
    "    return len(syllables)\n",
    "\n",
    "\n",
    "word = input(\"Enter a word: \")\n",
    "num_syllables = count_syllables(word)\n",
    "print(f\"The word '{word}' has {num_syllables} syllables.\")\n"
   ]
  },
  {
   "cell_type": "markdown",
   "id": "548d3c17-8656-4054-afad-9dd4a120511d",
   "metadata": {},
   "source": [
    "47. Check if a string contains any special characters."
   ]
  },
  {
   "cell_type": "code",
   "execution_count": 79,
   "id": "b5227441-f6a7-4177-a136-6a84bc096148",
   "metadata": {},
   "outputs": [
    {
     "name": "stdin",
     "output_type": "stream",
     "text": [
      "Enter any string:  asvjbvjbvnv!@#$%^\n"
     ]
    },
    {
     "name": "stdout",
     "output_type": "stream",
     "text": [
      "The given string 'asvjbvjbvnv!@#$%^' CONTAINS Special Characters\n"
     ]
    }
   ],
   "source": [
    "# Approach using alnum\n",
    "string47 = input(\"Enter any string: \")\n",
    "\n",
    "if not string47.isalnum():\n",
    "    print(f\"The given string '{string47}' CONTAINS Special Characters\")\n",
    "else:\n",
    "    print(f\"The given string '{string47}' DOES NOT CONTAIN Special Characters\")\n"
   ]
  },
  {
   "cell_type": "code",
   "execution_count": 85,
   "id": "138a1cb0-6365-41d0-8506-a2bb1b640ec9",
   "metadata": {},
   "outputs": [
    {
     "name": "stdin",
     "output_type": "stream",
     "text": [
      "Enter any string:  asvjbvjbvn\n"
     ]
    },
    {
     "data": {
      "text/plain": [
       "\"The given string 'asvjbvjbvn' DOES NOT CONTAIN Special Characters\""
      ]
     },
     "execution_count": 85,
     "metadata": {},
     "output_type": "execute_result"
    }
   ],
   "source": [
    "# Approach using ASCII\n",
    "def using_ascii(string):\n",
    "\n",
    "    for i in string:\n",
    "        if (ord(i) >= 32 and ord(i) <= 47) or \\\n",
    "        (ord(i) >= 58 and ord(i) <= 64) or \\\n",
    "        (ord(i) >= 91 and ord(i) <= 96) or \\\n",
    "        (ord(i) >= 123 and ord(i) <= 126):\n",
    "            return f\"The given string '{string}' CONTAINS Special Characters\"\n",
    "    return f\"The given string '{string}' DOES NOT CONTAIN Special Characters\"\n",
    "\n",
    "string47b = input(\"Enter any string: \")\n",
    "using_ascii(string47b)"
   ]
  },
  {
   "cell_type": "markdown",
   "id": "8ba8a0a2-0434-4b6a-bf94-8430fb0fa38d",
   "metadata": {},
   "source": [
    "48. Remove the nth word from a string."
   ]
  },
  {
   "cell_type": "code",
   "execution_count": 90,
   "id": "0e354893-f78b-4ee1-bcf9-c9c73b25e6ea",
   "metadata": {},
   "outputs": [
    {
     "name": "stdin",
     "output_type": "stream",
     "text": [
      "Enter any string:  this is my book\n",
      "Enter the position of the word that needs to be removed:  2\n"
     ]
    },
    {
     "name": "stdout",
     "output_type": "stream",
     "text": [
      "After removing the nth word 'is' from the string, the modified string is 'this my book'\n"
     ]
    }
   ],
   "source": [
    "string48 = input(\"Enter any string: \")\n",
    "\n",
    "split_string = string48.split()\n",
    "\n",
    "remove_pos = int(input(\"Enter the position of the word that needs to be removed: \"))\n",
    "\n",
    "print(f\"After removing the nth word '{split_string.pop(remove_pos -1)}' from the string, the modified string is\"\n",
    "      f\" '{' '.join(split_string)}'\")"
   ]
  },
  {
   "cell_type": "markdown",
   "id": "c2ac787e-da13-4e30-a9d4-d13842de2e99",
   "metadata": {},
   "source": [
    "49. Insert a word at the nth position in a string."
   ]
  },
  {
   "cell_type": "code",
   "execution_count": 38,
   "id": "af9ebb44-62c0-4832-a782-dc74e6dc3d42",
   "metadata": {},
   "outputs": [
    {
     "name": "stdin",
     "output_type": "stream",
     "text": [
      "Enter any string:  Can you please pass me the book ?\n",
      "Enter at what position:  8\n",
      "Enter the word to add in the string:  Please\n"
     ]
    },
    {
     "name": "stdout",
     "output_type": "stream",
     "text": [
      "Modified String: Can you please pass me the book Please ?\n"
     ]
    }
   ],
   "source": [
    "string49 = input(\"Enter any string: \")\n",
    "\n",
    "split_string = string49.split()\n",
    "\n",
    "split_insert = split_string.insert(int(input(\"Enter at what position: \")) - 1, input(\"Enter the word to add in the string: \") )\n",
    "\n",
    "print(f\"Modified String: {' '.join(split_string)}\")"
   ]
  },
  {
   "cell_type": "markdown",
   "id": "4fae1647-bf27-45a8-98c2-2f2da035906a",
   "metadata": {},
   "source": [
    "50. Convert a CSV string to a list of lists."
   ]
  },
  {
   "cell_type": "code",
   "execution_count": 101,
   "id": "b2e85067-abf7-404b-821e-4827dc646fde",
   "metadata": {},
   "outputs": [
    {
     "name": "stdout",
     "output_type": "stream",
     "text": [
      "The resultant List of list format of given csv string is: \n",
      "[['Name', 'Age', 'Location'], ['Alice', '30', 'New York'], ['Bob', '25', 'Los Angeles'], ['Charlie', '35', 'Chicago']]\n"
     ]
    }
   ],
   "source": [
    "def csv_string_to_list(csv_string):\n",
    "    \"\"\"\n",
    "    This function would convert the csv string into list\n",
    "    :param csv_string: (str) comma separated value\n",
    "    :return list of list\n",
    "    \"\"\"\n",
    "    # strip extra spaces and split the values based on \\n newline character\n",
    "    lines = csv_string.strip().split('\\n')\n",
    "    \n",
    "    # split each line by a comma and add inside a data list\n",
    "    data_list = [line.split(',') for line in lines]\n",
    "    \n",
    "    return data_list\n",
    "\n",
    "csv_string = \"\"\"Name,Age,Location\n",
    "Alice,30,New York\n",
    "Bob,25,Los Angeles\n",
    "Charlie,35,Chicago\n",
    "\"\"\"\n",
    "list_of_list = []\n",
    "csv_list = csv_string_to_list(csv_string)\n",
    "for row in csv_list:\n",
    "    list_of_list.append(row)\n",
    "    \n",
    "print(f\"The resultant List of list format of given csv string is: \\n{list_of_list}\")"
   ]
  }
 ],
 "metadata": {
  "kernelspec": {
   "display_name": "Python 3 (ipykernel)",
   "language": "python",
   "name": "python3"
  },
  "language_info": {
   "codemirror_mode": {
    "name": "ipython",
    "version": 3
   },
   "file_extension": ".py",
   "mimetype": "text/x-python",
   "name": "python",
   "nbconvert_exporter": "python",
   "pygments_lexer": "ipython3",
   "version": "3.10.8"
  }
 },
 "nbformat": 4,
 "nbformat_minor": 5
}
